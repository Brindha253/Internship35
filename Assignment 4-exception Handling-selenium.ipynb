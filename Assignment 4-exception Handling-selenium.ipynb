{
 "cells": [
  {
   "cell_type": "code",
   "execution_count": 1,
   "id": "20863727",
   "metadata": {},
   "outputs": [],
   "source": [
    "# ImportingLibraries\n",
    "import pandas as pd\n",
    "import numpy as np"
   ]
  },
  {
   "cell_type": "code",
   "execution_count": 2,
   "id": "a9157568",
   "metadata": {},
   "outputs": [],
   "source": [
    "# importing webdriver\n",
    "from selenium import webdriver\n",
    "from bs4 import BeautifulSoup\n",
    "from selenium.webdriver.common.by import By\n"
   ]
  },
  {
   "cell_type": "code",
   "execution_count": 3,
   "id": "a08e76bd",
   "metadata": {},
   "outputs": [],
   "source": [
    "# importing time\n",
    "import time"
   ]
  },
  {
   "cell_type": "code",
   "execution_count": 4,
   "id": "54f489ca",
   "metadata": {},
   "outputs": [],
   "source": [
    "#importing requests\n",
    "import requests"
   ]
  },
  {
   "cell_type": "code",
   "execution_count": 5,
   "id": "ca1e4f30",
   "metadata": {},
   "outputs": [],
   "source": [
    "# importing exceptions\n",
    "from selenium.common.exceptions import NoSuchElementException,StaleElementReferenceException,ElementNotInteractableException"
   ]
  },
  {
   "cell_type": "code",
   "execution_count": 6,
   "id": "caae47e1",
   "metadata": {},
   "outputs": [],
   "source": [
    "# importing webdriverwait\n",
    "from selenium.webdriver.support.ui import WebDriverWait\n",
    "from selenium.webdriver.support import expected_conditions as EC"
   ]
  },
  {
   "cell_type": "code",
   "execution_count": 7,
   "id": "81d45711",
   "metadata": {},
   "outputs": [
    {
     "name": "stderr",
     "output_type": "stream",
     "text": [
      "C:\\Users\\sony\\AppData\\Local\\Temp\\ipykernel_14864\\3454712579.py:2: DeprecationWarning: executable_path has been deprecated, please pass in a Service object\n",
      "  driver=webdriver.Chrome(r\"C:\\Users\\sony\\Desktop\\Data Trained/chromedriver.exe\")\n"
     ]
    },
    {
     "data": {
      "text/plain": [
       "<bound method WebDriver.get of <selenium.webdriver.chrome.webdriver.WebDriver (session=\"36f61055296391e58c850e0c8eb71b9f\")>>"
      ]
     },
     "execution_count": 7,
     "metadata": {},
     "output_type": "execute_result"
    }
   ],
   "source": [
    "# connecting webdriver.\n",
    "driver=webdriver.Chrome(r\"C:\\Users\\sony\\Desktop\\Data Trained/chromedriver.exe\")\n",
    "driver.get"
   ]
  },
  {
   "cell_type": "code",
   "execution_count": 34,
   "id": "7bcb0008",
   "metadata": {},
   "outputs": [],
   "source": [
    "#1. Scrape the details of most viewed videos on YouTube from Wikipedia.\n",
    "# Getting the URL\n",
    "\n",
    "#Url = https://en.wikipedia.org/wiki/List_of_most-viewed_YouTube_videos\n",
    "driver.get(\"https://en.wikipedia.org/wiki/List_of_most-viewed_YouTube_videos\")"
   ]
  },
  {
   "cell_type": "code",
   "execution_count": 13,
   "id": "6169975d",
   "metadata": {},
   "outputs": [],
   "source": [
    "\n",
    "Details=[]\n",
    "table=driver.find_elements(By.XPATH,'//table[@class=\"wikitable sortable jquery-tablesorter\"]')\n",
    "for i in table[0:2]:\n",
    "    table=i.text.split(\",\")\n",
    "    Details.append(table)\n",
    "\n",
    "\n",
    "\n",
    "\n",
    "    \n",
    "    \n",
    "    "
   ]
  },
  {
   "cell_type": "code",
   "execution_count": 19,
   "id": "07bf6894",
   "metadata": {},
   "outputs": [
    {
     "data": {
      "text/html": [
       "<div>\n",
       "<style scoped>\n",
       "    .dataframe tbody tr th:only-of-type {\n",
       "        vertical-align: middle;\n",
       "    }\n",
       "\n",
       "    .dataframe tbody tr th {\n",
       "        vertical-align: top;\n",
       "    }\n",
       "\n",
       "    .dataframe thead th {\n",
       "        text-align: right;\n",
       "    }\n",
       "</style>\n",
       "<table border=\"1\" class=\"dataframe\">\n",
       "  <thead>\n",
       "    <tr style=\"text-align: right;\">\n",
       "      <th></th>\n",
       "      <th>0</th>\n",
       "      <th>1</th>\n",
       "      <th>2</th>\n",
       "      <th>3</th>\n",
       "      <th>4</th>\n",
       "      <th>5</th>\n",
       "      <th>6</th>\n",
       "      <th>7</th>\n",
       "      <th>8</th>\n",
       "      <th>9</th>\n",
       "      <th>...</th>\n",
       "      <th>69</th>\n",
       "      <th>70</th>\n",
       "      <th>71</th>\n",
       "      <th>72</th>\n",
       "      <th>73</th>\n",
       "      <th>74</th>\n",
       "      <th>75</th>\n",
       "      <th>76</th>\n",
       "      <th>77</th>\n",
       "      <th>78</th>\n",
       "    </tr>\n",
       "  </thead>\n",
       "  <tbody>\n",
       "    <tr>\n",
       "      <th>0</th>\n",
       "      <td>Top 30 most-viewed YouTube videos[3]\\nNo. Vide...</td>\n",
       "      <td>2016 [A]\\n2. \"Despacito\"[7] Luis Fonsi 8.1 Ja...</td>\n",
       "      <td>2017 [B]\\n3. \"Johny Johny Yes Papa\"[14] LooLo...</td>\n",
       "      <td>2016 [C]\\n4. \"Bath Song\"[15] Cocomelon – Nurs...</td>\n",
       "      <td>2018 [D]\\n5. \"Shape of You\"[16] Ed Sheeran 5....</td>\n",
       "      <td>2017 [E]\\n6. \"See You Again\"[18] Wiz Khalifa ...</td>\n",
       "      <td>2015 [F]\\n7. \"Phonics Song with Two Words\"[23...</td>\n",
       "      <td>2014 [G]\\n8. \"Wheels on the Bus\"[24] Cocomelo...</td>\n",
       "      <td>2018\\n9. \"Uptown Funk\"[25] Mark Ronson 4.82 N...</td>\n",
       "      <td>2014 [H]\\n10. \"Learning Colors – Colorful Egg...</td>\n",
       "      <td>...</td>\n",
       "      <td>None</td>\n",
       "      <td>None</td>\n",
       "      <td>None</td>\n",
       "      <td>None</td>\n",
       "      <td>None</td>\n",
       "      <td>None</td>\n",
       "      <td>None</td>\n",
       "      <td>None</td>\n",
       "      <td>None</td>\n",
       "      <td>None</td>\n",
       "    </tr>\n",
       "    <tr>\n",
       "      <th>1</th>\n",
       "      <td>Progression of the most-viewed video on YouTub...</td>\n",
       "      <td>046</td>\n",
       "      <td>700</td>\n",
       "      <td>000 June 17</td>\n",
       "      <td>2016 November 2</td>\n",
       "      <td>2020 1600 825\\n\"Despacito\"[7] Luis Fonsi 2</td>\n",
       "      <td>993</td>\n",
       "      <td>700</td>\n",
       "      <td>000 January 12</td>\n",
       "      <td>2017 August 4</td>\n",
       "      <td>...</td>\n",
       "      <td>2006 22 12 no data [99]\\n\"Ronaldinho: Touch o...</td>\n",
       "      <td>000 October 21</td>\n",
       "      <td>2005 October 31</td>\n",
       "      <td>2005 10 70 no data [101] [S]\\n\"I/O Brush\"‡*[1...</td>\n",
       "      <td>000 October 5</td>\n",
       "      <td>2005 October 29</td>\n",
       "      <td>2005 24 2 no data [104]\\n\"Me at the zoo\"[105]...</td>\n",
       "      <td>2005 April 23</td>\n",
       "      <td>2005 0 189 [106]\\nAs of February 5</td>\n",
       "      <td>2023</td>\n",
       "    </tr>\n",
       "  </tbody>\n",
       "</table>\n",
       "<p>2 rows × 79 columns</p>\n",
       "</div>"
      ],
      "text/plain": [
       "                                                  0   \\\n",
       "0  Top 30 most-viewed YouTube videos[3]\\nNo. Vide...   \n",
       "1  Progression of the most-viewed video on YouTub...   \n",
       "\n",
       "                                                  1   \\\n",
       "0   2016 [A]\\n2. \"Despacito\"[7] Luis Fonsi 8.1 Ja...   \n",
       "1                                                046   \n",
       "\n",
       "                                                  2   \\\n",
       "0   2017 [B]\\n3. \"Johny Johny Yes Papa\"[14] LooLo...   \n",
       "1                                                700   \n",
       "\n",
       "                                                  3   \\\n",
       "0   2016 [C]\\n4. \"Bath Song\"[15] Cocomelon – Nurs...   \n",
       "1                                        000 June 17   \n",
       "\n",
       "                                                  4   \\\n",
       "0   2018 [D]\\n5. \"Shape of You\"[16] Ed Sheeran 5....   \n",
       "1                                    2016 November 2   \n",
       "\n",
       "                                                  5   \\\n",
       "0   2017 [E]\\n6. \"See You Again\"[18] Wiz Khalifa ...   \n",
       "1         2020 1600 825\\n\"Despacito\"[7] Luis Fonsi 2   \n",
       "\n",
       "                                                  6   \\\n",
       "0   2015 [F]\\n7. \"Phonics Song with Two Words\"[23...   \n",
       "1                                                993   \n",
       "\n",
       "                                                  7   \\\n",
       "0   2014 [G]\\n8. \"Wheels on the Bus\"[24] Cocomelo...   \n",
       "1                                                700   \n",
       "\n",
       "                                                  8   \\\n",
       "0   2018\\n9. \"Uptown Funk\"[25] Mark Ronson 4.82 N...   \n",
       "1                                     000 January 12   \n",
       "\n",
       "                                                  9   ...  \\\n",
       "0   2014 [H]\\n10. \"Learning Colors – Colorful Egg...  ...   \n",
       "1                                      2017 August 4  ...   \n",
       "\n",
       "                                                  69              70  \\\n",
       "0                                               None            None   \n",
       "1   2006 22 12 no data [99]\\n\"Ronaldinho: Touch o...  000 October 21   \n",
       "\n",
       "                 71                                                 72  \\\n",
       "0              None                                               None   \n",
       "1   2005 October 31   2005 10 70 no data [101] [S]\\n\"I/O Brush\"‡*[1...   \n",
       "\n",
       "              73                74  \\\n",
       "0           None              None   \n",
       "1  000 October 5   2005 October 29   \n",
       "\n",
       "                                                  75              76  \\\n",
       "0                                               None            None   \n",
       "1   2005 24 2 no data [104]\\n\"Me at the zoo\"[105]...   2005 April 23   \n",
       "\n",
       "                                    77     78  \n",
       "0                                 None   None  \n",
       "1   2005 0 189 [106]\\nAs of February 5   2023  \n",
       "\n",
       "[2 rows x 79 columns]"
      ]
     },
     "execution_count": 19,
     "metadata": {},
     "output_type": "execute_result"
    }
   ],
   "source": [
    "\n",
    "df=pd.DataFrame(Details)\n",
    "df\n"
   ]
  },
  {
   "cell_type": "code",
   "execution_count": 48,
   "id": "dc445e37",
   "metadata": {},
   "outputs": [],
   "source": [
    "#2.getting the URL\n",
    "driver.get(\"https://www.bcci.tv/\")"
   ]
  },
  {
   "cell_type": "code",
   "execution_count": 49,
   "id": "d43156b2",
   "metadata": {},
   "outputs": [],
   "source": [
    "# clicking the International Tab\n",
    "International=driver.find_element(By.XPATH,'/html/body/nav/div[1]/div[2]/ul[1]/li[2]/a')\n",
    "International.click()\n"
   ]
  },
  {
   "cell_type": "code",
   "execution_count": 50,
   "id": "4f8e310d",
   "metadata": {},
   "outputs": [],
   "source": [
    "# clicking the more_fixtures button\n",
    "more_fixtures=driver.find_element(By.XPATH,'/html/body/div[2]/div[2]/div/div/div/div[2]/div[3]/div[2]/div/button')\n",
    "more_fixtures.click()\n",
    "    "
   ]
  },
  {
   "cell_type": "code",
   "execution_count": 138,
   "id": "4daef860",
   "metadata": {},
   "outputs": [],
   "source": [
    "# Getting ODI Details\n",
    "First_ODI=[]\n",
    "Name=driver.find_elements(By.XPATH,'//span[@class=\"ng-binding\"]')\n",
    "for i in Name[8:11]:\n",
    "    Name=i.text\n",
    "    First_ODI.append(Name)\n",
    "    "
   ]
  },
  {
   "cell_type": "code",
   "execution_count": 139,
   "id": "acf4752b",
   "metadata": {},
   "outputs": [
    {
     "data": {
      "text/plain": [
       "['AUSTRALIA TOUR OF INDIA ODI SERIES 2022-23',\n",
       " 'AUSTRALIA TOUR OF INDIA ODI SERIES 2022-23',\n",
       " 'AUSTRALIA TOUR OF INDIA ODI SERIES 2022-23']"
      ]
     },
     "execution_count": 139,
     "metadata": {},
     "output_type": "execute_result"
    }
   ],
   "source": [
    "First_ODI"
   ]
  },
  {
   "cell_type": "code",
   "execution_count": 136,
   "id": "fc4a1cdb",
   "metadata": {},
   "outputs": [],
   "source": [
    "#Getting ODI PLace\n",
    "Match_Place=[]\n",
    "place=driver.find_elements(By.XPATH,'//div[@class=\"fix-place ng-binding ng-scope\"]')\n",
    "for i in place[8:11]:\n",
    "    place=i.text\n",
    "    Match_Place.append(place)\n"
   ]
  },
  {
   "cell_type": "code",
   "execution_count": 137,
   "id": "3b949eac",
   "metadata": {},
   "outputs": [
    {
     "data": {
      "text/plain": [
       "['1st ODI - Wankhede Stadium, Mumbai',\n",
       " '2nd ODI - Dr YS Rajasekhara Reddy ACA-VDCA Cricket Stadium, Visakhapatnam',\n",
       " '3rd ODI - MA Chidambaram Stadium, Chennai']"
      ]
     },
     "execution_count": 137,
     "metadata": {},
     "output_type": "execute_result"
    }
   ],
   "source": [
    "Match_Place"
   ]
  },
  {
   "cell_type": "code",
   "execution_count": 76,
   "id": "ca8d78e5",
   "metadata": {},
   "outputs": [],
   "source": [
    "# Getting ODI Dates:\n",
    "Date=[]\n",
    "date=driver.find_elements(By.XPATH,'//h5[@class=\"ng-binding\"]')\n",
    "for i in date[8:11]:\n",
    "    date=i.text\n",
    "    Date.append(date)"
   ]
  },
  {
   "cell_type": "code",
   "execution_count": 77,
   "id": "dbcc5479",
   "metadata": {},
   "outputs": [
    {
     "data": {
      "text/plain": [
       "['17 MAR 2023', '19 MAR 2023', '22 MAR 2023']"
      ]
     },
     "execution_count": 77,
     "metadata": {},
     "output_type": "execute_result"
    }
   ],
   "source": [
    "Date"
   ]
  },
  {
   "cell_type": "code",
   "execution_count": 83,
   "id": "a5f8ce5c",
   "metadata": {},
   "outputs": [],
   "source": [
    "# Getting ODI Time\n",
    "Match_time=[]\n",
    "time=driver.find_elements(By.XPATH,'//h5[@class=\"text-right ng-binding\"]')\n",
    "for i in time[8:11]:\n",
    "    time=i.text\n",
    "    Match_time.append(time)"
   ]
  },
  {
   "cell_type": "code",
   "execution_count": 84,
   "id": "49e92d4b",
   "metadata": {},
   "outputs": [
    {
     "data": {
      "text/plain": [
       "['12:00 PM GST', '12:00 PM GST', '12:00 PM GST']"
      ]
     },
     "execution_count": 84,
     "metadata": {},
     "output_type": "execute_result"
    }
   ],
   "source": [
    "Match_time"
   ]
  },
  {
   "cell_type": "code",
   "execution_count": 125,
   "id": "0722b5a9",
   "metadata": {},
   "outputs": [],
   "source": [
    "# Getting SERIES \n",
    "Match_Series=[]\n",
    "series=driver.find_elements(By.XPATH,'//div[@class=\"fixture-card-mid d-flex align-items-center justify-content-between\"]')\n",
    "for i in series[8:11]:\n",
    "    series=i.text\n",
    "    Match_Series.append(series)"
   ]
  },
  {
   "cell_type": "code",
   "execution_count": 127,
   "id": "f5623020",
   "metadata": {},
   "outputs": [
    {
     "data": {
      "text/plain": [
       "3"
      ]
     },
     "execution_count": 127,
     "metadata": {},
     "output_type": "execute_result"
    }
   ],
   "source": [
    "len(Match_Series)"
   ]
  },
  {
   "cell_type": "code",
   "execution_count": 142,
   "id": "6e2c3237",
   "metadata": {},
   "outputs": [
    {
     "data": {
      "text/html": [
       "<div>\n",
       "<style scoped>\n",
       "    .dataframe tbody tr th:only-of-type {\n",
       "        vertical-align: middle;\n",
       "    }\n",
       "\n",
       "    .dataframe tbody tr th {\n",
       "        vertical-align: top;\n",
       "    }\n",
       "\n",
       "    .dataframe thead th {\n",
       "        text-align: right;\n",
       "    }\n",
       "</style>\n",
       "<table border=\"1\" class=\"dataframe\">\n",
       "  <thead>\n",
       "    <tr style=\"text-align: right;\">\n",
       "      <th></th>\n",
       "      <th>Match_Title</th>\n",
       "      <th>Match_Series</th>\n",
       "      <th>Match_place</th>\n",
       "      <th>Match_Date</th>\n",
       "    </tr>\n",
       "  </thead>\n",
       "  <tbody>\n",
       "    <tr>\n",
       "      <th>0</th>\n",
       "      <td>AUSTRALIA TOUR OF INDIA ODI SERIES 2022-23</td>\n",
       "      <td>India\\nvs\\nAustralia</td>\n",
       "      <td>1st ODI - Wankhede Stadium, Mumbai</td>\n",
       "      <td>17 MAR 2023</td>\n",
       "    </tr>\n",
       "    <tr>\n",
       "      <th>1</th>\n",
       "      <td>AUSTRALIA TOUR OF INDIA ODI SERIES 2022-23</td>\n",
       "      <td>India\\nvs\\nAustralia</td>\n",
       "      <td>2nd ODI - Dr YS Rajasekhara Reddy ACA-VDCA Cri...</td>\n",
       "      <td>19 MAR 2023</td>\n",
       "    </tr>\n",
       "    <tr>\n",
       "      <th>2</th>\n",
       "      <td>AUSTRALIA TOUR OF INDIA ODI SERIES 2022-23</td>\n",
       "      <td>India\\nvs\\nAustralia</td>\n",
       "      <td>3rd ODI - MA Chidambaram Stadium, Chennai</td>\n",
       "      <td>22 MAR 2023</td>\n",
       "    </tr>\n",
       "  </tbody>\n",
       "</table>\n",
       "</div>"
      ],
      "text/plain": [
       "                                  Match_Title          Match_Series  \\\n",
       "0  AUSTRALIA TOUR OF INDIA ODI SERIES 2022-23  India\\nvs\\nAustralia   \n",
       "1  AUSTRALIA TOUR OF INDIA ODI SERIES 2022-23  India\\nvs\\nAustralia   \n",
       "2  AUSTRALIA TOUR OF INDIA ODI SERIES 2022-23  India\\nvs\\nAustralia   \n",
       "\n",
       "                                         Match_place   Match_Date  \n",
       "0                 1st ODI - Wankhede Stadium, Mumbai  17 MAR 2023  \n",
       "1  2nd ODI - Dr YS Rajasekhara Reddy ACA-VDCA Cri...  19 MAR 2023  \n",
       "2          3rd ODI - MA Chidambaram Stadium, Chennai  22 MAR 2023  "
      ]
     },
     "execution_count": 142,
     "metadata": {},
     "output_type": "execute_result"
    }
   ],
   "source": [
    "# DataFrame constructed for Match ODI\n",
    "df=pd.DataFrame({\"Match_Title\":First_ODI,\"Match_Series\":Match_Series,\"Match_place\":Match_Place,\"Match_Date\":Date})\n",
    "df"
   ]
  },
  {
   "cell_type": "code",
   "execution_count": 37,
   "id": "405cc1bc",
   "metadata": {},
   "outputs": [],
   "source": [
    "# Get the URL \n",
    "driver.get(\"http://statisticstimes.com/\")"
   ]
  },
  {
   "cell_type": "code",
   "execution_count": 38,
   "id": "eaac4078",
   "metadata": {},
   "outputs": [],
   "source": [
    "# clicking Economy Tab on it.\n",
    "economy_button=driver.find_element(By.XPATH,'/html/body/div[2]/div[1]/div[2]/div[2]/button/i')\n",
    "economy_button.click()"
   ]
  },
  {
   "cell_type": "code",
   "execution_count": 39,
   "id": "df912419",
   "metadata": {},
   "outputs": [],
   "source": [
    "# clicking Economy India Tab on it\n",
    "economy_India=driver.find_element(By.XPATH,'/html/body/div[2]/div[1]/div[2]/div[2]/div/a[3]')\n",
    "economy_India.click()"
   ]
  },
  {
   "cell_type": "code",
   "execution_count": 41,
   "id": "c2813cb1",
   "metadata": {},
   "outputs": [],
   "source": [
    "# selecting GDP_Statewise_India list by clicking on it.\n",
    "GDP_statewise_India=driver.find_element(By.XPATH,'/html/body/div[2]/div[2]/div[2]/ul/li[1]/a')\n",
    "GDP_statewise_India.click()"
   ]
  },
  {
   "cell_type": "code",
   "execution_count": 50,
   "id": "2ceb1a7a",
   "metadata": {},
   "outputs": [],
   "source": [
    "# Scrapping Rank\n",
    "Rank=[]\n",
    "rank=driver.find_elements(By.XPATH,'//table[@class=\"display dataTable\"]//tbody//tr//td[1]')\n",
    "for i in rank:\n",
    "    rank=i.text\n",
    "    Rank.append(rank)\n",
    "    "
   ]
  },
  {
   "cell_type": "code",
   "execution_count": 51,
   "id": "94bd121f",
   "metadata": {},
   "outputs": [
    {
     "data": {
      "text/plain": [
       "66"
      ]
     },
     "execution_count": 51,
     "metadata": {},
     "output_type": "execute_result"
    }
   ],
   "source": [
    "len(Rank)"
   ]
  },
  {
   "cell_type": "code",
   "execution_count": 48,
   "id": "8c01b529",
   "metadata": {},
   "outputs": [],
   "source": [
    "#Scrapping Name\n",
    "State_name=[]\n",
    "name=driver.find_elements(By.XPATH,'//table[@class=\"display dataTable\"]//tbody//tr//td[2]')\n",
    "for i in name:\n",
    "    name=i.text\n",
    "    State_name.append(name)"
   ]
  },
  {
   "cell_type": "code",
   "execution_count": 49,
   "id": "d06d183e",
   "metadata": {},
   "outputs": [
    {
     "data": {
      "text/plain": [
       "66"
      ]
     },
     "execution_count": 49,
     "metadata": {},
     "output_type": "execute_result"
    }
   ],
   "source": [
    "len(State_name)"
   ]
  },
  {
   "cell_type": "code",
   "execution_count": 42,
   "id": "76b53d16",
   "metadata": {},
   "outputs": [],
   "source": [
    "GSDP_18_19_current=[]\n",
    "gsdp=driver.find_elements(By.XPATH,'//td[@class=\"data sorting_1\"]')\n",
    "try:\n",
    "    for i in gsdp:\n",
    "        gsdp=i.text\n",
    "        GSDP_18_19_current.append(gsdp)\n",
    "except NoSuchElementException :\n",
    "     GSDP_18_19_current.append('-')\n",
    "    \n",
    "        \n",
    "    \n",
    "        "
   ]
  },
  {
   "cell_type": "code",
   "execution_count": 43,
   "id": "aea3878d",
   "metadata": {},
   "outputs": [
    {
     "data": {
      "text/plain": [
       "66"
      ]
     },
     "execution_count": 43,
     "metadata": {},
     "output_type": "execute_result"
    }
   ],
   "source": [
    "len(GSDP_18_19_current)"
   ]
  },
  {
   "cell_type": "code",
   "execution_count": 21,
   "id": "ff86755e",
   "metadata": {},
   "outputs": [],
   "source": [
    "p=[]\n",
    "q=[]\n",
    "r=[]\n",
    "\n",
    "\n",
    "\n"
   ]
  },
  {
   "cell_type": "code",
   "execution_count": 45,
   "id": "41092221",
   "metadata": {},
   "outputs": [],
   "source": [
    "GSDP_18_19_current_prices=[]\n",
    "try:\n",
    "    data=driver.find_elements(By.XPATH,'//table[@class=\"display dataTable\"]//tbody//tr//td[3]')\n",
    "    for i in data:\n",
    "        data=i.text\n",
    "        GSDP_18_19_current_prices.append(data)\n",
    "except NoSuchElementException:\n",
    "    GSDP_18_19_current_prices.append('-')"
   ]
  },
  {
   "cell_type": "code",
   "execution_count": 47,
   "id": "2f54d828",
   "metadata": {},
   "outputs": [
    {
     "data": {
      "text/plain": [
       "66"
      ]
     },
     "execution_count": 47,
     "metadata": {},
     "output_type": "execute_result"
    }
   ],
   "source": [
    "len(GSDP_18_19_current_prices)"
   ]
  },
  {
   "cell_type": "code",
   "execution_count": 52,
   "id": "1e439faf",
   "metadata": {},
   "outputs": [],
   "source": [
    "Share_18_19=[]\n",
    "try:\n",
    "    share=driver.find_elements(By.XPATH,'//table[@class=\"display dataTable\"]//tbody//tr//td[5]')\n",
    "    for i in share:\n",
    "        share=i.text\n",
    "        Share_18_19.append(share)\n",
    "except NoSuchElementException :\n",
    "    Share_18_19.append('-')"
   ]
  },
  {
   "cell_type": "code",
   "execution_count": 54,
   "id": "9bc94123",
   "metadata": {},
   "outputs": [
    {
     "data": {
      "text/plain": [
       "66"
      ]
     },
     "execution_count": 54,
     "metadata": {},
     "output_type": "execute_result"
    }
   ],
   "source": [
    "len(Share_18_19)"
   ]
  },
  {
   "cell_type": "code",
   "execution_count": 55,
   "id": "943d9c07",
   "metadata": {},
   "outputs": [],
   "source": [
    "GDP_Billion=[]\n",
    "try:\n",
    "    gdp=driver.find_elements(By.XPATH,'//table[@class=\"display dataTable\"]//tbody//tr//td[6]')\n",
    "    for i in gdp:\n",
    "        gdp=i.text\n",
    "        GDP_Billion.append(gdp)\n",
    "except NoSuchElementException:\n",
    "    GDP_Billion.append('-')"
   ]
  },
  {
   "cell_type": "code",
   "execution_count": 56,
   "id": "d359ded5",
   "metadata": {},
   "outputs": [
    {
     "data": {
      "text/html": [
       "<div>\n",
       "<style scoped>\n",
       "    .dataframe tbody tr th:only-of-type {\n",
       "        vertical-align: middle;\n",
       "    }\n",
       "\n",
       "    .dataframe tbody tr th {\n",
       "        vertical-align: top;\n",
       "    }\n",
       "\n",
       "    .dataframe thead th {\n",
       "        text-align: right;\n",
       "    }\n",
       "</style>\n",
       "<table border=\"1\" class=\"dataframe\">\n",
       "  <thead>\n",
       "    <tr style=\"text-align: right;\">\n",
       "      <th></th>\n",
       "      <th>State_Rank</th>\n",
       "      <th>State_Names</th>\n",
       "      <th>GSDP_18_19_current_prices</th>\n",
       "      <th>Share_18_19</th>\n",
       "      <th>GDP_$_Billion</th>\n",
       "    </tr>\n",
       "  </thead>\n",
       "  <tbody>\n",
       "    <tr>\n",
       "      <th>0</th>\n",
       "      <td>1</td>\n",
       "      <td>Maharashtra</td>\n",
       "      <td>-</td>\n",
       "      <td>13.94%</td>\n",
       "      <td>399.921</td>\n",
       "    </tr>\n",
       "    <tr>\n",
       "      <th>1</th>\n",
       "      <td>2</td>\n",
       "      <td>Tamil Nadu</td>\n",
       "      <td>1,845,853</td>\n",
       "      <td>8.63%</td>\n",
       "      <td>247.629</td>\n",
       "    </tr>\n",
       "    <tr>\n",
       "      <th>2</th>\n",
       "      <td>3</td>\n",
       "      <td>Uttar Pradesh</td>\n",
       "      <td>1,687,818</td>\n",
       "      <td>8.39%</td>\n",
       "      <td>240.726</td>\n",
       "    </tr>\n",
       "    <tr>\n",
       "      <th>3</th>\n",
       "      <td>4</td>\n",
       "      <td>Gujarat</td>\n",
       "      <td>-</td>\n",
       "      <td>7.96%</td>\n",
       "      <td>228.290</td>\n",
       "    </tr>\n",
       "    <tr>\n",
       "      <th>4</th>\n",
       "      <td>5</td>\n",
       "      <td>Karnataka</td>\n",
       "      <td>1,631,977</td>\n",
       "      <td>7.91%</td>\n",
       "      <td>226.806</td>\n",
       "    </tr>\n",
       "    <tr>\n",
       "      <th>...</th>\n",
       "      <td>...</td>\n",
       "      <td>...</td>\n",
       "      <td>...</td>\n",
       "      <td>...</td>\n",
       "      <td>...</td>\n",
       "    </tr>\n",
       "    <tr>\n",
       "      <th>61</th>\n",
       "      <td>29</td>\n",
       "      <td>Sikkim</td>\n",
       "      <td>28,391</td>\n",
       "      <td>0.15%</td>\n",
       "      <td>17,060</td>\n",
       "    </tr>\n",
       "    <tr>\n",
       "      <th>62</th>\n",
       "      <td>30</td>\n",
       "      <td>Nagaland</td>\n",
       "      <td>-</td>\n",
       "      <td>0.15%</td>\n",
       "      <td>-</td>\n",
       "    </tr>\n",
       "    <tr>\n",
       "      <th>63</th>\n",
       "      <td>31</td>\n",
       "      <td>Arunachal Pradesh</td>\n",
       "      <td>-</td>\n",
       "      <td>0.13%</td>\n",
       "      <td>-</td>\n",
       "    </tr>\n",
       "    <tr>\n",
       "      <th>64</th>\n",
       "      <td>32</td>\n",
       "      <td>Mizoram</td>\n",
       "      <td>24,424</td>\n",
       "      <td>0.13%</td>\n",
       "      <td>17,797</td>\n",
       "    </tr>\n",
       "    <tr>\n",
       "      <th>65</th>\n",
       "      <td>33</td>\n",
       "      <td>Andaman &amp; Nicobar Islands</td>\n",
       "      <td>-</td>\n",
       "      <td>-</td>\n",
       "      <td>-</td>\n",
       "    </tr>\n",
       "  </tbody>\n",
       "</table>\n",
       "<p>66 rows × 5 columns</p>\n",
       "</div>"
      ],
      "text/plain": [
       "   State_Rank                State_Names GSDP_18_19_current_prices  \\\n",
       "0           1                Maharashtra                         -   \n",
       "1           2                 Tamil Nadu                 1,845,853   \n",
       "2           3              Uttar Pradesh                 1,687,818   \n",
       "3           4                    Gujarat                         -   \n",
       "4           5                  Karnataka                 1,631,977   \n",
       "..        ...                        ...                       ...   \n",
       "61         29                     Sikkim                    28,391   \n",
       "62         30                   Nagaland                         -   \n",
       "63         31          Arunachal Pradesh                         -   \n",
       "64         32                    Mizoram                    24,424   \n",
       "65         33  Andaman & Nicobar Islands                         -   \n",
       "\n",
       "   Share_18_19 GDP_$_Billion  \n",
       "0       13.94%       399.921  \n",
       "1        8.63%       247.629  \n",
       "2        8.39%       240.726  \n",
       "3        7.96%       228.290  \n",
       "4        7.91%       226.806  \n",
       "..         ...           ...  \n",
       "61       0.15%        17,060  \n",
       "62       0.15%             -  \n",
       "63       0.13%             -  \n",
       "64       0.13%        17,797  \n",
       "65           -             -  \n",
       "\n",
       "[66 rows x 5 columns]"
      ]
     },
     "execution_count": 56,
     "metadata": {},
     "output_type": "execute_result"
    }
   ],
   "source": [
    "# DataFrame Formed\n",
    "Statewise_GDP=pd.DataFrame({'State_Rank':Rank,'State_Names':State_name,'GSDP_18_19_current_prices':GSDP_18_19_current_prices,\n",
    "                          'Share_18_19':Share_18_19,'GDP_$_Billion':GDP_Billion })\n",
    "Statewise_GDP\n"
   ]
  },
  {
   "cell_type": "code",
   "execution_count": 8,
   "id": "0002a105",
   "metadata": {},
   "outputs": [],
   "source": [
    "# getting Url\n",
    "driver.get(\"https://www.github.com\")\n",
    "time.sleep(5)"
   ]
  },
  {
   "cell_type": "code",
   "execution_count": 9,
   "id": "5ab219b3",
   "metadata": {},
   "outputs": [],
   "source": [
    "open_source=driver.find_element(By.XPATH,'/html/body/div[1]/div[1]/header/div/div[2]/div/nav/ul/li[3]/button')\n",
    "open_source.click()"
   ]
  },
  {
   "cell_type": "code",
   "execution_count": 10,
   "id": "9d568ef0",
   "metadata": {
    "scrolled": true
   },
   "outputs": [],
   "source": [
    "# Inside open_source,trending button is elementNot Interactable tried with exception,still couldnot able to click on that so used for loop to see all the links of that.\n",
    "Trending=[]\n",
    "trending=driver.find_elements(By.XPATH,'//a[@class=\"HeaderMenu-dropdown-link lh-condensed d-block no-underline position-relative py-2 Link--secondary\"]')\n",
    "for i in trending:\n",
    "    trending=i.get_attribute(\"href\")\n",
    "    Trending.append(trending)\n",
    "\n",
    "    \n",
    "    \n",
    "  "
   ]
  },
  {
   "cell_type": "code",
   "execution_count": 11,
   "id": "3347bb23",
   "metadata": {},
   "outputs": [
    {
     "data": {
      "text/plain": [
       "['https://github.com/features',\n",
       " 'https://docs.github.com/',\n",
       " 'https://skills.github.com/',\n",
       " 'https://github.blog/',\n",
       " 'https://github.com/enterprise',\n",
       " 'https://github.com/team',\n",
       " 'https://github.com/enterprise/startups',\n",
       " 'https://education.github.com/',\n",
       " 'https://github.com/solutions/ci-cd/',\n",
       " 'https://resources.github.com/devops/',\n",
       " 'https://resources.github.com/devops/fundamentals/devsecops/',\n",
       " 'https://github.com/customer-stories',\n",
       " 'https://resources.github.com/',\n",
       " 'https://github.com/topics',\n",
       " 'https://github.com/trending',\n",
       " 'https://github.com/collections']"
      ]
     },
     "execution_count": 11,
     "metadata": {},
     "output_type": "execute_result"
    }
   ],
   "source": [
    "# List of elementsin open_source drop down button\n",
    "Trending"
   ]
  },
  {
   "cell_type": "code",
   "execution_count": 12,
   "id": "3fda7a6c",
   "metadata": {},
   "outputs": [
    {
     "data": {
      "text/plain": [
       "16"
      ]
     },
     "execution_count": 12,
     "metadata": {},
     "output_type": "execute_result"
    }
   ],
   "source": [
    "len(Trending)\n",
    "\n",
    "    \n",
    "    "
   ]
  },
  {
   "cell_type": "code",
   "execution_count": 13,
   "id": "55ea57ba",
   "metadata": {},
   "outputs": [],
   "source": [
    "for i in Trending:\n",
    "    if i==\"https://github.com/trending\":\n",
    "        driver.get(i)"
   ]
  },
  {
   "cell_type": "code",
   "execution_count": 14,
   "id": "f512db5d",
   "metadata": {},
   "outputs": [],
   "source": [
    "Repositry_title=[]\n",
    "title=driver.find_elements(By.XPATH,'//span[@class=\"text-normal\"]')\n",
    "for i in title:\n",
    "    title=i.text\n",
    "    Repositry_title.append(title)"
   ]
  },
  {
   "cell_type": "code",
   "execution_count": 15,
   "id": "7e0d3920",
   "metadata": {},
   "outputs": [
    {
     "data": {
      "text/plain": [
       "25"
      ]
     },
     "execution_count": 15,
     "metadata": {},
     "output_type": "execute_result"
    }
   ],
   "source": [
    "len(Repositry_title)"
   ]
  },
  {
   "cell_type": "code",
   "execution_count": 16,
   "id": "0a9f24cf",
   "metadata": {},
   "outputs": [],
   "source": [
    "Repositry_Description=[]\n",
    "det=driver.find_elements(By.XPATH,'//h1[@class=\"h3 lh-condensed\"]')\n",
    "for i in det:\n",
    "    det=i.text.split(\"/\")[1]\n",
    "    Repositry_Description.append(det)\n",
    "\n",
    "    "
   ]
  },
  {
   "cell_type": "code",
   "execution_count": 17,
   "id": "05408f96",
   "metadata": {},
   "outputs": [
    {
     "data": {
      "text/plain": [
       "25"
      ]
     },
     "execution_count": 17,
     "metadata": {},
     "output_type": "execute_result"
    }
   ],
   "source": [
    "len(Repositry_Description)"
   ]
  },
  {
   "cell_type": "code",
   "execution_count": 22,
   "id": "86238a62",
   "metadata": {},
   "outputs": [],
   "source": [
    "count=[]\n",
    "\n",
    "det=driver.find_elements(By.XPATH,'//span[@class=\"d-inline-block mr-3\"]')\n",
    "for i in det:\n",
    "    det=i.text\n",
    "    count.append(det)\n",
    "    \n",
    "    \n",
    "    \n",
    "    \n",
    "    \n",
    "    \n",
    "    \n",
    "    \n",
    "        \n",
    "\n",
    "    \n",
    "\n",
    "    \n",
    "    \n",
    "\n",
    "\n",
    "\n"
   ]
  },
  {
   "cell_type": "code",
   "execution_count": 24,
   "id": "5aa43cb4",
   "metadata": {},
   "outputs": [
    {
     "data": {
      "text/plain": [
       "25"
      ]
     },
     "execution_count": 24,
     "metadata": {},
     "output_type": "execute_result"
    }
   ],
   "source": [
    "\n",
    "len(count)\n",
    "    "
   ]
  },
  {
   "cell_type": "code",
   "execution_count": 32,
   "id": "0bcd0cb8",
   "metadata": {},
   "outputs": [],
   "source": [
    "\n",
    "\n",
    "    "
   ]
  },
  {
   "cell_type": "code",
   "execution_count": null,
   "id": "1a362531",
   "metadata": {},
   "outputs": [],
   "source": []
  },
  {
   "cell_type": "code",
   "execution_count": 93,
   "id": "90d2c57d",
   "metadata": {},
   "outputs": [],
   "source": [
    "\n",
    "    \n",
    "    \n",
    "    "
   ]
  },
  {
   "cell_type": "code",
   "execution_count": null,
   "id": "d169b9a6",
   "metadata": {},
   "outputs": [],
   "source": []
  },
  {
   "cell_type": "code",
   "execution_count": 25,
   "id": "819ac0cc",
   "metadata": {},
   "outputs": [],
   "source": [
    "Languages=[]\n",
    "det=driver.find_elements(By.XPATH,'//div[@class=\"f6 color-fg-muted mt-2\"]')\n",
    "for i in det:\n",
    "    det=i.text.split(\" \")[0]\n",
    "    Languages.append(det)"
   ]
  },
  {
   "cell_type": "code",
   "execution_count": 26,
   "id": "69f0e109",
   "metadata": {},
   "outputs": [
    {
     "data": {
      "text/plain": [
       "25"
      ]
     },
     "execution_count": 26,
     "metadata": {},
     "output_type": "execute_result"
    }
   ],
   "source": [
    "len(Languages)\n"
   ]
  },
  {
   "cell_type": "code",
   "execution_count": null,
   "id": "542a16df",
   "metadata": {},
   "outputs": [],
   "source": []
  },
  {
   "cell_type": "code",
   "execution_count": 28,
   "id": "c402371d",
   "metadata": {},
   "outputs": [],
   "source": [
    "cc=[]\n"
   ]
  },
  {
   "cell_type": "code",
   "execution_count": 29,
   "id": "be02cf12",
   "metadata": {},
   "outputs": [],
   "source": [
    "repositry=driver.find_elements(By.XPATH,'//h1[@class=\"h3 lh-condensed\"]//a')\n",
    "for i in repositry:\n",
    "    repositry=i.get_attribute(\"href\")\n",
    "    cc.append(repositry)\n"
   ]
  },
  {
   "cell_type": "code",
   "execution_count": 35,
   "id": "ce616816",
   "metadata": {},
   "outputs": [
    {
     "data": {
      "text/plain": [
       "25"
      ]
     },
     "execution_count": 35,
     "metadata": {},
     "output_type": "execute_result"
    }
   ],
   "source": [
    "len(cc)"
   ]
  },
  {
   "cell_type": "code",
   "execution_count": 67,
   "id": "85048229",
   "metadata": {},
   "outputs": [],
   "source": [
    "contributor_count=[]\n",
    "for i in cc:\n",
    "    driver.get(i)\n",
    "    time.sleep(5)\n",
    "    try:\n",
    "        count=driver.find_elements(By.XPATH,'//h2[@class=\"h4 mb-3\"]')\n",
    "        for i in count[2:3]:\n",
    "            count=i.text\n",
    "            contributor_count.append(count)\n",
    "    except NoSuchElementException:\n",
    "        contributor_count.append('-')\n",
    "             \n",
    "\n",
    "\n",
    "    "
   ]
  },
  {
   "cell_type": "code",
   "execution_count": 77,
   "id": "c5bad8c6",
   "metadata": {},
   "outputs": [
    {
     "data": {
      "text/plain": [
       "25"
      ]
     },
     "execution_count": 77,
     "metadata": {},
     "output_type": "execute_result"
    }
   ],
   "source": [
    "len(contributor_count)"
   ]
  },
  {
   "cell_type": "code",
   "execution_count": 78,
   "id": "186243c1",
   "metadata": {},
   "outputs": [
    {
     "data": {
      "text/html": [
       "<div>\n",
       "<style scoped>\n",
       "    .dataframe tbody tr th:only-of-type {\n",
       "        vertical-align: middle;\n",
       "    }\n",
       "\n",
       "    .dataframe tbody tr th {\n",
       "        vertical-align: top;\n",
       "    }\n",
       "\n",
       "    .dataframe thead th {\n",
       "        text-align: right;\n",
       "    }\n",
       "</style>\n",
       "<table border=\"1\" class=\"dataframe\">\n",
       "  <thead>\n",
       "    <tr style=\"text-align: right;\">\n",
       "      <th></th>\n",
       "      <th>Repositry_title</th>\n",
       "      <th>Repositry_Description</th>\n",
       "      <th>Languages</th>\n",
       "      <th>contributor_count</th>\n",
       "    </tr>\n",
       "  </thead>\n",
       "  <tbody>\n",
       "    <tr>\n",
       "      <th>0</th>\n",
       "      <td>acikkaynak /</td>\n",
       "      <td>deprem-yardim-backend-go</td>\n",
       "      <td>Go</td>\n",
       "      <td>Contributors 16</td>\n",
       "    </tr>\n",
       "    <tr>\n",
       "      <th>1</th>\n",
       "      <td>cloudflare /</td>\n",
       "      <td>wildebeest</td>\n",
       "      <td>TypeScript</td>\n",
       "      <td>Contributors 2</td>\n",
       "    </tr>\n",
       "    <tr>\n",
       "      <th>2</th>\n",
       "      <td>jaymody /</td>\n",
       "      <td>picoGPT</td>\n",
       "      <td>Python</td>\n",
       "      <td>Used by 672</td>\n",
       "    </tr>\n",
       "    <tr>\n",
       "      <th>3</th>\n",
       "      <td>eliaszon /</td>\n",
       "      <td>Programmers-Overseas-Job-Interview-Handbook</td>\n",
       "      <td>2,250</td>\n",
       "      <td>Packages 6</td>\n",
       "    </tr>\n",
       "    <tr>\n",
       "      <th>4</th>\n",
       "      <td>uutils /</td>\n",
       "      <td>coreutils</td>\n",
       "      <td>Rust</td>\n",
       "      <td>Contributors 3</td>\n",
       "    </tr>\n",
       "    <tr>\n",
       "      <th>5</th>\n",
       "      <td>rustdesk /</td>\n",
       "      <td>rustdesk</td>\n",
       "      <td>Rust</td>\n",
       "      <td>Used by 5.5k</td>\n",
       "    </tr>\n",
       "    <tr>\n",
       "      <th>6</th>\n",
       "      <td>MichalGeyer /</td>\n",
       "      <td>plug-and-play</td>\n",
       "      <td>Python</td>\n",
       "      <td>Languages</td>\n",
       "    </tr>\n",
       "    <tr>\n",
       "      <th>7</th>\n",
       "      <td>pedroslopez /</td>\n",
       "      <td>whatsapp-web.js</td>\n",
       "      <td>JavaScript</td>\n",
       "      <td>Contributors 25</td>\n",
       "    </tr>\n",
       "    <tr>\n",
       "      <th>8</th>\n",
       "      <td>djun /</td>\n",
       "      <td>wechatbot</td>\n",
       "      <td>Go</td>\n",
       "      <td>Languages</td>\n",
       "    </tr>\n",
       "    <tr>\n",
       "      <th>9</th>\n",
       "      <td>fuergaosi233 /</td>\n",
       "      <td>wechat-chatgpt</td>\n",
       "      <td>TypeScript</td>\n",
       "      <td>Packages</td>\n",
       "    </tr>\n",
       "    <tr>\n",
       "      <th>10</th>\n",
       "      <td>TheD1rkMtr /</td>\n",
       "      <td>FilelessPELoader</td>\n",
       "      <td>C++</td>\n",
       "      <td>Used by 113</td>\n",
       "    </tr>\n",
       "    <tr>\n",
       "      <th>11</th>\n",
       "      <td>eryajf /</td>\n",
       "      <td>chatgpt-dingtalk</td>\n",
       "      <td>Go</td>\n",
       "      <td>Used by 2</td>\n",
       "    </tr>\n",
       "    <tr>\n",
       "      <th>12</th>\n",
       "      <td>aquasecurity /</td>\n",
       "      <td>trivy</td>\n",
       "      <td>Go</td>\n",
       "      <td>Languages</td>\n",
       "    </tr>\n",
       "    <tr>\n",
       "      <th>13</th>\n",
       "      <td>ethereum-optimism /</td>\n",
       "      <td>op-analytics</td>\n",
       "      <td>54</td>\n",
       "      <td>Contributors 6</td>\n",
       "    </tr>\n",
       "    <tr>\n",
       "      <th>14</th>\n",
       "      <td>nerfstudio-project /</td>\n",
       "      <td>nerfstudio</td>\n",
       "      <td>Python</td>\n",
       "      <td>Used by 13</td>\n",
       "    </tr>\n",
       "    <tr>\n",
       "      <th>15</th>\n",
       "      <td>AIGCT /</td>\n",
       "      <td>EASYChatGPT</td>\n",
       "      <td>Python</td>\n",
       "      <td>Contributors 20</td>\n",
       "    </tr>\n",
       "    <tr>\n",
       "      <th>16</th>\n",
       "      <td>leminlimez /</td>\n",
       "      <td>Cowabunga</td>\n",
       "      <td>Swift</td>\n",
       "      <td>Languages</td>\n",
       "    </tr>\n",
       "    <tr>\n",
       "      <th>17</th>\n",
       "      <td>PlexPt /</td>\n",
       "      <td>chatgpt-java</td>\n",
       "      <td>Java</td>\n",
       "      <td>Languages</td>\n",
       "    </tr>\n",
       "    <tr>\n",
       "      <th>18</th>\n",
       "      <td>Shopify /</td>\n",
       "      <td>hydrogen</td>\n",
       "      <td>TypeScript</td>\n",
       "      <td>Contributors 7</td>\n",
       "    </tr>\n",
       "    <tr>\n",
       "      <th>19</th>\n",
       "      <td>Fndroid /</td>\n",
       "      <td>clash_for_windows_pkg</td>\n",
       "      <td>44,694</td>\n",
       "      <td>Contributors 3</td>\n",
       "    </tr>\n",
       "    <tr>\n",
       "      <th>20</th>\n",
       "      <td>f /</td>\n",
       "      <td>awesome-chatgpt-prompts</td>\n",
       "      <td>HTML</td>\n",
       "      <td>Contributors 18</td>\n",
       "    </tr>\n",
       "    <tr>\n",
       "      <th>21</th>\n",
       "      <td>enhuiz /</td>\n",
       "      <td>vall-e</td>\n",
       "      <td>Python</td>\n",
       "      <td>-</td>\n",
       "    </tr>\n",
       "    <tr>\n",
       "      <th>22</th>\n",
       "      <td>zhayujie /</td>\n",
       "      <td>chatgpt-on-wechat</td>\n",
       "      <td>Python</td>\n",
       "      <td>-</td>\n",
       "    </tr>\n",
       "    <tr>\n",
       "      <th>23</th>\n",
       "      <td>Leizhenpeng /</td>\n",
       "      <td>feishu-chatGpt</td>\n",
       "      <td>Go</td>\n",
       "      <td>-</td>\n",
       "    </tr>\n",
       "    <tr>\n",
       "      <th>24</th>\n",
       "      <td>activepieces /</td>\n",
       "      <td>activepieces</td>\n",
       "      <td>TypeScript</td>\n",
       "      <td>-</td>\n",
       "    </tr>\n",
       "  </tbody>\n",
       "</table>\n",
       "</div>"
      ],
      "text/plain": [
       "         Repositry_title                         Repositry_Description  \\\n",
       "0           acikkaynak /                      deprem-yardim-backend-go   \n",
       "1           cloudflare /                                    wildebeest   \n",
       "2              jaymody /                                       picoGPT   \n",
       "3             eliaszon /   Programmers-Overseas-Job-Interview-Handbook   \n",
       "4               uutils /                                     coreutils   \n",
       "5             rustdesk /                                      rustdesk   \n",
       "6          MichalGeyer /                                 plug-and-play   \n",
       "7          pedroslopez /                               whatsapp-web.js   \n",
       "8                 djun /                                     wechatbot   \n",
       "9         fuergaosi233 /                                wechat-chatgpt   \n",
       "10          TheD1rkMtr /                              FilelessPELoader   \n",
       "11              eryajf /                              chatgpt-dingtalk   \n",
       "12        aquasecurity /                                         trivy   \n",
       "13   ethereum-optimism /                                  op-analytics   \n",
       "14  nerfstudio-project /                                    nerfstudio   \n",
       "15               AIGCT /                                   EASYChatGPT   \n",
       "16          leminlimez /                                     Cowabunga   \n",
       "17              PlexPt /                                  chatgpt-java   \n",
       "18             Shopify /                                      hydrogen   \n",
       "19             Fndroid /                         clash_for_windows_pkg   \n",
       "20                   f /                       awesome-chatgpt-prompts   \n",
       "21              enhuiz /                                        vall-e   \n",
       "22            zhayujie /                             chatgpt-on-wechat   \n",
       "23         Leizhenpeng /                                feishu-chatGpt   \n",
       "24        activepieces /                                  activepieces   \n",
       "\n",
       "     Languages contributor_count  \n",
       "0           Go   Contributors 16  \n",
       "1   TypeScript    Contributors 2  \n",
       "2       Python       Used by 672  \n",
       "3        2,250        Packages 6  \n",
       "4         Rust    Contributors 3  \n",
       "5         Rust      Used by 5.5k  \n",
       "6       Python         Languages  \n",
       "7   JavaScript   Contributors 25  \n",
       "8           Go         Languages  \n",
       "9   TypeScript          Packages  \n",
       "10         C++       Used by 113  \n",
       "11          Go         Used by 2  \n",
       "12          Go         Languages  \n",
       "13          54    Contributors 6  \n",
       "14      Python        Used by 13  \n",
       "15      Python   Contributors 20  \n",
       "16       Swift         Languages  \n",
       "17        Java         Languages  \n",
       "18  TypeScript    Contributors 7  \n",
       "19      44,694    Contributors 3  \n",
       "20        HTML   Contributors 18  \n",
       "21      Python                 -  \n",
       "22      Python                 -  \n",
       "23          Go                 -  \n",
       "24  TypeScript                 -  "
      ]
     },
     "execution_count": 78,
     "metadata": {},
     "output_type": "execute_result"
    }
   ],
   "source": [
    "\n",
    "Github=pd.DataFrame({\"Repositry_title\":Repositry_title,\"Repositry_Description\":Repositry_Description,'Languages':Languages,'contributor_count':contributor_count})\n",
    "Github\n"
   ]
  },
  {
   "cell_type": "code",
   "execution_count": 76,
   "id": "ab103919",
   "metadata": {},
   "outputs": [],
   "source": [
    "driver.get(\"https:/www.billboard.com/\")# Getting URL\n",
    "    "
   ]
  },
  {
   "cell_type": "code",
   "execution_count": 77,
   "id": "0a5f3653",
   "metadata": {},
   "outputs": [],
   "source": [
    "charts=driver.find_element(By.XPATH,'/html/body/div[3]/header/div/div[2]/div/div/div[2]/div[2]/div/div/nav/ul/li[1]/a')\n",
    "charts.click()# Clicking Chart"
   ]
  },
  {
   "cell_type": "code",
   "execution_count": 79,
   "id": "25a5f3ca",
   "metadata": {},
   "outputs": [],
   "source": [
    "Billboard_hot_100=driver.find_element(By.XPATH,'/html/body/div[3]/main/div[2]/div[3]/div/div/div[2]/div/div[1]/a/span/span')\n",
    "Billboard_hot_100.click()# Clicking Billboard_hot_100"
   ]
  },
  {
   "cell_type": "code",
   "execution_count": 80,
   "id": "a5c18627",
   "metadata": {},
   "outputs": [],
   "source": [
    "peak_rank=[]\n",
    "rank=driver.find_elements(By.XPATH,'//span[@class=\"c-label  a-font-primary-bold-l u-font-size-32@tablet u-letter-spacing-0080@tablet\"]')\n",
    "for i in rank:\n",
    "    rank=i.text\n",
    "    peak_rank.append(rank)"
   ]
  },
  {
   "cell_type": "code",
   "execution_count": 81,
   "id": "ec0b6ae0",
   "metadata": {},
   "outputs": [
    {
     "data": {
      "text/plain": [
       "100"
      ]
     },
     "execution_count": 81,
     "metadata": {},
     "output_type": "execute_result"
    }
   ],
   "source": [
    "len(peak_rank)"
   ]
  },
  {
   "cell_type": "code",
   "execution_count": 83,
   "id": "68adff2c",
   "metadata": {},
   "outputs": [],
   "source": [
    "Song_name=[]# Scrapping Song_Name\n",
    "first_song=driver.find_element(By.XPATH,'/html/body/div[4]/main/div[2]/div[3]/div/div/div/div[2]/div[2]/ul/li[4]/ul/li[1]/h3')\n",
    "first_song.text\n",
    "Song_name.append(first_song.text)\n",
    "name=driver.find_elements(By.XPATH,'//h3[@class=\"c-title  a-no-trucate a-font-primary-bold-s u-letter-spacing-0021 lrv-u-font-size-18@tablet lrv-u-font-size-16 u-line-height-125 u-line-height-normal@mobile-max a-truncate-ellipsis u-max-width-330 u-max-width-230@tablet-only\"]')\n",
    "for i in name:\n",
    "    name=i.text\n",
    "    Song_name.append(name)\n",
    "\n",
    "    "
   ]
  },
  {
   "cell_type": "code",
   "execution_count": 84,
   "id": "1fdd2c14",
   "metadata": {},
   "outputs": [
    {
     "data": {
      "text/plain": [
       "100"
      ]
     },
     "execution_count": 84,
     "metadata": {},
     "output_type": "execute_result"
    }
   ],
   "source": [
    "len(Song_name)"
   ]
  },
  {
   "cell_type": "code",
   "execution_count": 85,
   "id": "b9a352d9",
   "metadata": {},
   "outputs": [],
   "source": [
    "Artists_name1=[]# Scrapping Artist Name"
   ]
  },
  {
   "cell_type": "code",
   "execution_count": 86,
   "id": "c859dae0",
   "metadata": {},
   "outputs": [],
   "source": [
    "firstsong_artist_name=driver.find_element(By.XPATH,'//span[@class=\"c-label  a-no-trucate a-font-primary-s lrv-u-font-size-14@mobile-max u-line-height-normal@mobile-max u-letter-spacing-0021 lrv-u-display-block a-truncate-ellipsis-2line u-max-width-330 u-max-width-230@tablet-only u-font-size-20@tablet\"]')\n",
    "Artists_name1.append(firstsong_artist_name.text)\n",
    "ar_name=driver.find_elements(By.XPATH,'//span[@class=\"c-label  a-no-trucate a-font-primary-s lrv-u-font-size-14@mobile-max u-line-height-normal@mobile-max u-letter-spacing-0021 lrv-u-display-block a-truncate-ellipsis-2line u-max-width-330 u-max-width-230@tablet-only\"]')\n",
    "for i in ar_name:\n",
    "    ar_name=i.text\n",
    "    Artists_name1.append(ar_name)\n",
    "\n"
   ]
  },
  {
   "cell_type": "code",
   "execution_count": 87,
   "id": "0e64b140",
   "metadata": {},
   "outputs": [
    {
     "data": {
      "text/plain": [
       "100"
      ]
     },
     "execution_count": 87,
     "metadata": {},
     "output_type": "execute_result"
    }
   ],
   "source": [
    "len(Artists_name1)"
   ]
  },
  {
   "cell_type": "code",
   "execution_count": 163,
   "id": "d626cded",
   "metadata": {},
   "outputs": [],
   "source": [
    "Det=[]\n",
    "det=driver.find_elements(By.XPATH,'//li[@class=\"o-chart-results-list__item // a-chart-color u-width-72 u-width-55@mobile-max u-width-55@tablet-only lrv-u-flex lrv-u-flex-shrink-0 lrv-u-align-items-center lrv-u-justify-content-center lrv-u-border-b-1 u-border-b-0@mobile-max lrv-u-border-color-grey-light u-background-color-white-064@mobile-max lrv-u-flex-grow-1\"]')\n",
    "for i in det:\n",
    "    det=i.text\n",
    "    Det.append(det)\n",
    "                         \n",
    "                         \n",
    "                         \n",
    "    \n"
   ]
  },
  {
   "cell_type": "code",
   "execution_count": 167,
   "id": "7b7f8cae",
   "metadata": {},
   "outputs": [
    {
     "data": {
      "text/plain": [
       "['1',\n",
       " '2',\n",
       " '4',\n",
       " '3',\n",
       " '5',\n",
       " '7',\n",
       " '6',\n",
       " '8',\n",
       " '9',\n",
       " '12',\n",
       " '14',\n",
       " '10',\n",
       " '16',\n",
       " '11',\n",
       " '15',\n",
       " '19',\n",
       " '18',\n",
       " '20',\n",
       " '30',\n",
       " '17',\n",
       " '27',\n",
       " '13',\n",
       " '22',\n",
       " '25',\n",
       " '21',\n",
       " '28',\n",
       " '-',\n",
       " '29',\n",
       " '23',\n",
       " '35',\n",
       " '24',\n",
       " '26',\n",
       " '33',\n",
       " '34',\n",
       " '31',\n",
       " '39',\n",
       " '32',\n",
       " '49',\n",
       " '37',\n",
       " '-',\n",
       " '41',\n",
       " '-',\n",
       " '46',\n",
       " '36',\n",
       " '38',\n",
       " '43',\n",
       " '40',\n",
       " '42',\n",
       " '45',\n",
       " '48',\n",
       " '44',\n",
       " '51',\n",
       " '47',\n",
       " '73',\n",
       " '53',\n",
       " '54',\n",
       " '55',\n",
       " '-',\n",
       " '62',\n",
       " '59',\n",
       " '-',\n",
       " '61',\n",
       " '58',\n",
       " '-',\n",
       " '60',\n",
       " '63',\n",
       " '66',\n",
       " '57',\n",
       " '70',\n",
       " '69',\n",
       " '-',\n",
       " '56',\n",
       " '65',\n",
       " '72',\n",
       " '68',\n",
       " '76',\n",
       " '79',\n",
       " '67',\n",
       " '92',\n",
       " '-',\n",
       " '77',\n",
       " '81',\n",
       " '75',\n",
       " '71',\n",
       " '96',\n",
       " '-',\n",
       " '78',\n",
       " '88',\n",
       " '98',\n",
       " '89',\n",
       " '95',\n",
       " '-',\n",
       " '52',\n",
       " '94',\n",
       " '91',\n",
       " '-',\n",
       " '85',\n",
       " '83',\n",
       " '-',\n",
       " '-']"
      ]
     },
     "execution_count": 167,
     "metadata": {},
     "output_type": "execute_result"
    }
   ],
   "source": [
    "a=Det[0:200:2]\n",
    "a# Scrapping Last_week_position"
   ]
  },
  {
   "cell_type": "code",
   "execution_count": 115,
   "id": "a9ffaf35",
   "metadata": {},
   "outputs": [],
   "source": [
    "last_week_rank=[]"
   ]
  },
  {
   "cell_type": "code",
   "execution_count": 116,
   "id": "08cfa505",
   "metadata": {},
   "outputs": [],
   "source": [
    "last_week_rank.append(Det[0:200:2])"
   ]
  },
  {
   "cell_type": "code",
   "execution_count": 161,
   "id": "73fa1a99",
   "metadata": {},
   "outputs": [
    {
     "data": {
      "text/plain": [
       "1"
      ]
     },
     "execution_count": 161,
     "metadata": {},
     "output_type": "execute_result"
    }
   ],
   "source": [
    "len(last_week_rank)"
   ]
  },
  {
   "cell_type": "code",
   "execution_count": 155,
   "id": "6eefc652",
   "metadata": {},
   "outputs": [],
   "source": [
    "weeks_on_chart=[]"
   ]
  },
  {
   "cell_type": "code",
   "execution_count": 168,
   "id": "7007511d",
   "metadata": {},
   "outputs": [
    {
     "data": {
      "text/plain": [
       "['3',\n",
       " '8',\n",
       " '9',\n",
       " '15',\n",
       " '19',\n",
       " '27',\n",
       " '23',\n",
       " '13',\n",
       " '44',\n",
       " '16',\n",
       " '15',\n",
       " '23',\n",
       " '21',\n",
       " '41',\n",
       " '25',\n",
       " '34',\n",
       " '21',\n",
       " '38',\n",
       " '15',\n",
       " '31',\n",
       " '25',\n",
       " '3',\n",
       " '9',\n",
       " '12',\n",
       " '9',\n",
       " '22',\n",
       " '1',\n",
       " '31',\n",
       " '22',\n",
       " '28',\n",
       " '32',\n",
       " '14',\n",
       " '12',\n",
       " '37',\n",
       " '8',\n",
       " '27',\n",
       " '6',\n",
       " '5',\n",
       " '19',\n",
       " '1',\n",
       " '32',\n",
       " '1',\n",
       " '33',\n",
       " '25',\n",
       " '8',\n",
       " '25',\n",
       " '25',\n",
       " '32',\n",
       " '30',\n",
       " '38',\n",
       " '14',\n",
       " '6',\n",
       " '8',\n",
       " '9',\n",
       " '8',\n",
       " '5',\n",
       " '7',\n",
       " '1',\n",
       " '18',\n",
       " '5',\n",
       " '1',\n",
       " '17',\n",
       " '12',\n",
       " '1',\n",
       " '5',\n",
       " '5',\n",
       " '13',\n",
       " '8',\n",
       " '12',\n",
       " '20',\n",
       " '1',\n",
       " '3',\n",
       " '17',\n",
       " '2',\n",
       " '14',\n",
       " '5',\n",
       " '3',\n",
       " '8',\n",
       " '2',\n",
       " '1',\n",
       " '4',\n",
       " '2',\n",
       " '7',\n",
       " '9',\n",
       " '2',\n",
       " '1',\n",
       " '13',\n",
       " '4',\n",
       " '2',\n",
       " '4',\n",
       " '3',\n",
       " '3',\n",
       " '2',\n",
       " '12',\n",
       " '2',\n",
       " '1',\n",
       " '6',\n",
       " '3',\n",
       " '1',\n",
       " '1']"
      ]
     },
     "execution_count": 168,
     "metadata": {},
     "output_type": "execute_result"
    }
   ],
   "source": [
    "p=Det[1:200:2]\n",
    "p# Scrapping Peak Position Rank"
   ]
  },
  {
   "cell_type": "code",
   "execution_count": 156,
   "id": "064fb9f2",
   "metadata": {},
   "outputs": [],
   "source": [
    "weeks_on_chart.append(x)\n"
   ]
  },
  {
   "cell_type": "code",
   "execution_count": 141,
   "id": "672d71a1",
   "metadata": {},
   "outputs": [],
   "source": [
    "Peak_Position=[]\n",
    "det1=driver.find_elements(By.XPATH,'//li[@class=\"o-chart-results-list__item // a-chart-bg-color a-chart-color u-width-72 u-width-55@mobile-max u-width-55@tablet-only lrv-u-flex lrv-u-flex-shrink-0 lrv-u-align-items-center lrv-u-justify-content-center lrv-u-background-color-grey-lightest lrv-u-border-b-1 u-border-b-0@mobile-max lrv-u-border-color-grey-light lrv-u-flex-grow-1\"]')\n",
    "for i in det1:\n",
    "    det1=i.text\n",
    "    Peak_Position.append(det1)\n",
    "    \n",
    "    \n"
   ]
  },
  {
   "cell_type": "code",
   "execution_count": 142,
   "id": "ad3e19b1",
   "metadata": {},
   "outputs": [
    {
     "data": {
      "text/plain": [
       "200"
      ]
     },
     "execution_count": 142,
     "metadata": {},
     "output_type": "execute_result"
    }
   ],
   "source": [
    "len(Peak_Position)"
   ]
  },
  {
   "cell_type": "code",
   "execution_count": 150,
   "id": "94b5d124",
   "metadata": {},
   "outputs": [
    {
     "data": {
      "text/plain": [
       "100"
      ]
     },
     "execution_count": 150,
     "metadata": {},
     "output_type": "execute_result"
    }
   ],
   "source": [
    "x=Peak_Position[1:200:2]\n",
    "len(x)"
   ]
  },
  {
   "cell_type": "code",
   "execution_count": 169,
   "id": "637cb7ff",
   "metadata": {},
   "outputs": [
    {
     "data": {
      "text/html": [
       "<div>\n",
       "<style scoped>\n",
       "    .dataframe tbody tr th:only-of-type {\n",
       "        vertical-align: middle;\n",
       "    }\n",
       "\n",
       "    .dataframe tbody tr th {\n",
       "        vertical-align: top;\n",
       "    }\n",
       "\n",
       "    .dataframe thead th {\n",
       "        text-align: right;\n",
       "    }\n",
       "</style>\n",
       "<table border=\"1\" class=\"dataframe\">\n",
       "  <thead>\n",
       "    <tr style=\"text-align: right;\">\n",
       "      <th></th>\n",
       "      <th>Song_Name</th>\n",
       "      <th>Artists_name</th>\n",
       "      <th>Last_week_rank</th>\n",
       "      <th>Peak_rank</th>\n",
       "      <th>weeks_on_chart</th>\n",
       "    </tr>\n",
       "  </thead>\n",
       "  <tbody>\n",
       "    <tr>\n",
       "      <th>0</th>\n",
       "      <td>Flowers</td>\n",
       "      <td>Miley Cyrus</td>\n",
       "      <td>1</td>\n",
       "      <td>3</td>\n",
       "      <td>3</td>\n",
       "    </tr>\n",
       "    <tr>\n",
       "      <th>1</th>\n",
       "      <td>Kill Bill</td>\n",
       "      <td>SZA</td>\n",
       "      <td>2</td>\n",
       "      <td>8</td>\n",
       "      <td>8</td>\n",
       "    </tr>\n",
       "    <tr>\n",
       "      <th>2</th>\n",
       "      <td>Creepin'</td>\n",
       "      <td>Metro Boomin, The Weeknd &amp; 21 Savage</td>\n",
       "      <td>4</td>\n",
       "      <td>9</td>\n",
       "      <td>9</td>\n",
       "    </tr>\n",
       "    <tr>\n",
       "      <th>3</th>\n",
       "      <td>Anti-Hero</td>\n",
       "      <td>Taylor Swift</td>\n",
       "      <td>3</td>\n",
       "      <td>15</td>\n",
       "      <td>15</td>\n",
       "    </tr>\n",
       "    <tr>\n",
       "      <th>4</th>\n",
       "      <td>Unholy</td>\n",
       "      <td>Sam Smith &amp; Kim Petras</td>\n",
       "      <td>5</td>\n",
       "      <td>19</td>\n",
       "      <td>19</td>\n",
       "    </tr>\n",
       "    <tr>\n",
       "      <th>...</th>\n",
       "      <td>...</td>\n",
       "      <td>...</td>\n",
       "      <td>...</td>\n",
       "      <td>...</td>\n",
       "      <td>...</td>\n",
       "    </tr>\n",
       "    <tr>\n",
       "      <th>95</th>\n",
       "      <td>Hey Mor</td>\n",
       "      <td>Ozuna Featuring Feid</td>\n",
       "      <td>-</td>\n",
       "      <td>1</td>\n",
       "      <td>1</td>\n",
       "    </tr>\n",
       "    <tr>\n",
       "      <th>96</th>\n",
       "      <td>Gato de Noche</td>\n",
       "      <td>Nengo Flow &amp; Bad Bunny</td>\n",
       "      <td>85</td>\n",
       "      <td>6</td>\n",
       "      <td>6</td>\n",
       "    </tr>\n",
       "    <tr>\n",
       "      <th>97</th>\n",
       "      <td>Heart To Heart</td>\n",
       "      <td>Mac DeMarco</td>\n",
       "      <td>83</td>\n",
       "      <td>3</td>\n",
       "      <td>3</td>\n",
       "    </tr>\n",
       "    <tr>\n",
       "      <th>98</th>\n",
       "      <td>Never Gonna Not Dance Again</td>\n",
       "      <td>P!nk</td>\n",
       "      <td>-</td>\n",
       "      <td>1</td>\n",
       "      <td>1</td>\n",
       "    </tr>\n",
       "    <tr>\n",
       "      <th>99</th>\n",
       "      <td>Dancin' In The Country</td>\n",
       "      <td>Tyler Hubbard</td>\n",
       "      <td>-</td>\n",
       "      <td>1</td>\n",
       "      <td>1</td>\n",
       "    </tr>\n",
       "  </tbody>\n",
       "</table>\n",
       "<p>100 rows × 5 columns</p>\n",
       "</div>"
      ],
      "text/plain": [
       "                      Song_Name                          Artists_name  \\\n",
       "0                       Flowers                           Miley Cyrus   \n",
       "1                     Kill Bill                                   SZA   \n",
       "2                      Creepin'  Metro Boomin, The Weeknd & 21 Savage   \n",
       "3                     Anti-Hero                          Taylor Swift   \n",
       "4                        Unholy                Sam Smith & Kim Petras   \n",
       "..                          ...                                   ...   \n",
       "95                      Hey Mor                  Ozuna Featuring Feid   \n",
       "96                Gato de Noche                Nengo Flow & Bad Bunny   \n",
       "97               Heart To Heart                           Mac DeMarco   \n",
       "98  Never Gonna Not Dance Again                                  P!nk   \n",
       "99       Dancin' In The Country                         Tyler Hubbard   \n",
       "\n",
       "   Last_week_rank Peak_rank weeks_on_chart  \n",
       "0               1         3              3  \n",
       "1               2         8              8  \n",
       "2               4         9              9  \n",
       "3               3        15             15  \n",
       "4               5        19             19  \n",
       "..            ...       ...            ...  \n",
       "95              -         1              1  \n",
       "96             85         6              6  \n",
       "97             83         3              3  \n",
       "98              -         1              1  \n",
       "99              -         1              1  \n",
       "\n",
       "[100 rows x 5 columns]"
      ]
     },
     "execution_count": 169,
     "metadata": {},
     "output_type": "execute_result"
    }
   ],
   "source": [
    "Billboard_hot100=pd.DataFrame({'Song_Name':Song_name,'Artists_name':Artists_name1,'Last_week_rank':a,\n",
    "                               'Peak_rank':x,'weeks_on_chart':p})\n",
    "Billboard_hot100# Framing Data "
   ]
  },
  {
   "cell_type": "code",
   "execution_count": 171,
   "id": "f8dbd8ba",
   "metadata": {},
   "outputs": [],
   "source": [
    "driver.get('https://www.theguardian.com/news/datablog/2012/aug/09/best-selling-books-all-time-fifty-shades-grey-compare')# Getting Url"
   ]
  },
  {
   "cell_type": "code",
   "execution_count": 172,
   "id": "7b7662bd",
   "metadata": {},
   "outputs": [],
   "source": [
    "Books=[]#Getting Details \n",
    "books=driver.find_elements(By.XPATH,'//td[@class=\"left\"]')\n",
    "for i in books:\n",
    "    books=i.text\n",
    "    Books.append(books)\n",
    "    "
   ]
  },
  {
   "cell_type": "code",
   "execution_count": 177,
   "id": "d4f393d5",
   "metadata": {},
   "outputs": [
    {
     "data": {
      "text/plain": [
       "100"
      ]
     },
     "execution_count": 177,
     "metadata": {},
     "output_type": "execute_result"
    }
   ],
   "source": [
    "a=Books[0:500:5]# Scrapping Rank\n",
    "len(a)"
   ]
  },
  {
   "cell_type": "code",
   "execution_count": 180,
   "id": "fc3779f8",
   "metadata": {},
   "outputs": [
    {
     "data": {
      "text/plain": [
       "100"
      ]
     },
     "execution_count": 180,
     "metadata": {},
     "output_type": "execute_result"
    }
   ],
   "source": [
    "b=Books[1:500:5]# Scrapping Book_Title\n",
    "len(b)#"
   ]
  },
  {
   "cell_type": "code",
   "execution_count": 183,
   "id": "21817dea",
   "metadata": {},
   "outputs": [
    {
     "data": {
      "text/plain": [
       "100"
      ]
     },
     "execution_count": 183,
     "metadata": {},
     "output_type": "execute_result"
    }
   ],
   "source": [
    "c=Books[2:500:5]# Scrapping Author\n",
    "len(c)"
   ]
  },
  {
   "cell_type": "code",
   "execution_count": 186,
   "id": "62d21a3a",
   "metadata": {},
   "outputs": [
    {
     "data": {
      "text/plain": [
       "100"
      ]
     },
     "execution_count": 186,
     "metadata": {},
     "output_type": "execute_result"
    }
   ],
   "source": [
    "d=Books[3:500:5]#Scrapping VolumeSales\n",
    "len(d)"
   ]
  },
  {
   "cell_type": "code",
   "execution_count": 189,
   "id": "a03f3b8e",
   "metadata": {},
   "outputs": [
    {
     "data": {
      "text/plain": [
       "100"
      ]
     },
     "execution_count": 189,
     "metadata": {},
     "output_type": "execute_result"
    }
   ],
   "source": [
    "e=Books[4:500:5]# Scrapping Publishers\n",
    "len(e)"
   ]
  },
  {
   "cell_type": "code",
   "execution_count": 190,
   "id": "c600a8df",
   "metadata": {},
   "outputs": [],
   "source": [
    "Genre=[]# Scrapping Genre"
   ]
  },
  {
   "cell_type": "code",
   "execution_count": 191,
   "id": "4254a4ad",
   "metadata": {},
   "outputs": [],
   "source": [
    "genre=driver.find_elements(By.XPATH,'//td[@class=\"last left\"]')\n",
    "for i in genre:\n",
    "    genre=i.text\n",
    "    Genre.append(genre)"
   ]
  },
  {
   "cell_type": "code",
   "execution_count": 192,
   "id": "c575d167",
   "metadata": {},
   "outputs": [
    {
     "data": {
      "text/plain": [
       "['Crime, Thriller & Adventure',\n",
       " \"Children's Fiction\",\n",
       " \"Children's Fiction\",\n",
       " \"Children's Fiction\",\n",
       " 'Romance & Sagas',\n",
       " \"Children's Fiction\",\n",
       " \"Children's Fiction\",\n",
       " \"Children's Fiction\",\n",
       " 'Crime, Thriller & Adventure',\n",
       " \"Children's Fiction\",\n",
       " 'Romance & Sagas',\n",
       " 'Young Adult Fiction',\n",
       " 'Crime, Thriller & Adventure',\n",
       " 'Romance & Sagas',\n",
       " 'Crime, Thriller & Adventure',\n",
       " 'Young Adult Fiction',\n",
       " 'Crime, Thriller & Adventure',\n",
       " 'Young Adult Fiction',\n",
       " 'General & Literary Fiction',\n",
       " 'General & Literary Fiction',\n",
       " 'Crime, Thriller & Adventure',\n",
       " 'Popular Science',\n",
       " 'Crime, Thriller & Adventure',\n",
       " 'Young Adult Fiction',\n",
       " 'Picture Books',\n",
       " 'Picture Books',\n",
       " 'Food & Drink: General',\n",
       " 'General & Literary Fiction',\n",
       " 'General & Literary Fiction',\n",
       " 'General & Literary Fiction',\n",
       " 'Crime, Thriller & Adventure',\n",
       " 'General & Literary Fiction',\n",
       " 'General & Literary Fiction',\n",
       " 'General & Literary Fiction',\n",
       " 'Humour: Collections & General',\n",
       " 'General & Literary Fiction',\n",
       " 'Autobiography: General',\n",
       " 'General & Literary Fiction',\n",
       " 'Biography: The Arts',\n",
       " 'Autobiography: General',\n",
       " 'Picture Books',\n",
       " 'Autobiography: General',\n",
       " 'General & Literary Fiction',\n",
       " 'Young Adult Fiction',\n",
       " 'General & Literary Fiction',\n",
       " 'Science Fiction & Fantasy',\n",
       " 'General & Literary Fiction',\n",
       " 'General & Literary Fiction',\n",
       " 'General & Literary Fiction',\n",
       " 'Crime, Thriller & Adventure',\n",
       " 'General & Literary Fiction',\n",
       " 'General & Literary Fiction',\n",
       " 'Fitness & Diet',\n",
       " 'General & Literary Fiction',\n",
       " \"Children's Fiction\",\n",
       " 'Crime, Thriller & Adventure',\n",
       " 'Fitness & Diet',\n",
       " 'Young Adult Fiction',\n",
       " 'Usage & Writing Guides',\n",
       " 'Food & Drink: General',\n",
       " 'General & Literary Fiction',\n",
       " 'Young Adult Fiction',\n",
       " 'General & Literary Fiction',\n",
       " 'Young Adult Fiction',\n",
       " 'General & Literary Fiction',\n",
       " 'Popular Culture & Media: General Interest',\n",
       " 'Autobiography: The Arts',\n",
       " 'General & Literary Fiction',\n",
       " 'Crime, Thriller & Adventure',\n",
       " 'Science Fiction & Fantasy',\n",
       " 'Current Affairs & Issues',\n",
       " 'Crime, Thriller & Adventure',\n",
       " 'Autobiography: The Arts',\n",
       " 'General & Literary Fiction',\n",
       " 'Autobiography: The Arts',\n",
       " 'Travel Writing',\n",
       " 'Food & Drink: General',\n",
       " 'General & Literary Fiction',\n",
       " 'National & Regional Cuisine',\n",
       " 'Fitness & Diet',\n",
       " 'Travel Writing',\n",
       " 'Crime, Thriller & Adventure',\n",
       " 'General & Literary Fiction',\n",
       " 'Food & Drink: General',\n",
       " 'General & Literary Fiction',\n",
       " 'General & Literary Fiction',\n",
       " 'Picture Books',\n",
       " 'General & Literary Fiction',\n",
       " 'Autobiography: The Arts',\n",
       " 'Popular Science',\n",
       " \"Children's Annuals\",\n",
       " 'General & Literary Fiction',\n",
       " 'General & Literary Fiction',\n",
       " 'General & Literary Fiction',\n",
       " 'General & Literary Fiction',\n",
       " 'General & Literary Fiction',\n",
       " 'Food & Drink: General',\n",
       " 'Young Adult Fiction',\n",
       " 'Biography: General',\n",
       " 'Food & Drink: General']"
      ]
     },
     "execution_count": 192,
     "metadata": {},
     "output_type": "execute_result"
    }
   ],
   "source": [
    "Genre"
   ]
  },
  {
   "cell_type": "code",
   "execution_count": 193,
   "id": "9fbefc3e",
   "metadata": {},
   "outputs": [
    {
     "data": {
      "text/html": [
       "<div>\n",
       "<style scoped>\n",
       "    .dataframe tbody tr th:only-of-type {\n",
       "        vertical-align: middle;\n",
       "    }\n",
       "\n",
       "    .dataframe tbody tr th {\n",
       "        vertical-align: top;\n",
       "    }\n",
       "\n",
       "    .dataframe thead th {\n",
       "        text-align: right;\n",
       "    }\n",
       "</style>\n",
       "<table border=\"1\" class=\"dataframe\">\n",
       "  <thead>\n",
       "    <tr style=\"text-align: right;\">\n",
       "      <th></th>\n",
       "      <th>Book_Name</th>\n",
       "      <th>Author_Name</th>\n",
       "      <th>Volume_sales</th>\n",
       "      <th>Publishers</th>\n",
       "      <th>Genre</th>\n",
       "    </tr>\n",
       "  </thead>\n",
       "  <tbody>\n",
       "    <tr>\n",
       "      <th>0</th>\n",
       "      <td>Da Vinci Code,The</td>\n",
       "      <td>Brown, Dan</td>\n",
       "      <td>5,094,805</td>\n",
       "      <td>Transworld</td>\n",
       "      <td>Crime, Thriller &amp; Adventure</td>\n",
       "    </tr>\n",
       "    <tr>\n",
       "      <th>1</th>\n",
       "      <td>Harry Potter and the Deathly Hallows</td>\n",
       "      <td>Rowling, J.K.</td>\n",
       "      <td>4,475,152</td>\n",
       "      <td>Bloomsbury</td>\n",
       "      <td>Children's Fiction</td>\n",
       "    </tr>\n",
       "    <tr>\n",
       "      <th>2</th>\n",
       "      <td>Harry Potter and the Philosopher's Stone</td>\n",
       "      <td>Rowling, J.K.</td>\n",
       "      <td>4,200,654</td>\n",
       "      <td>Bloomsbury</td>\n",
       "      <td>Children's Fiction</td>\n",
       "    </tr>\n",
       "    <tr>\n",
       "      <th>3</th>\n",
       "      <td>Harry Potter and the Order of the Phoenix</td>\n",
       "      <td>Rowling, J.K.</td>\n",
       "      <td>4,179,479</td>\n",
       "      <td>Bloomsbury</td>\n",
       "      <td>Children's Fiction</td>\n",
       "    </tr>\n",
       "    <tr>\n",
       "      <th>4</th>\n",
       "      <td>Fifty Shades of Grey</td>\n",
       "      <td>James, E. L.</td>\n",
       "      <td>3,758,936</td>\n",
       "      <td>Random House</td>\n",
       "      <td>Romance &amp; Sagas</td>\n",
       "    </tr>\n",
       "    <tr>\n",
       "      <th>...</th>\n",
       "      <td>...</td>\n",
       "      <td>...</td>\n",
       "      <td>...</td>\n",
       "      <td>...</td>\n",
       "      <td>...</td>\n",
       "    </tr>\n",
       "    <tr>\n",
       "      <th>95</th>\n",
       "      <td>Ghost,The</td>\n",
       "      <td>Harris, Robert</td>\n",
       "      <td>807,311</td>\n",
       "      <td>Random House</td>\n",
       "      <td>General &amp; Literary Fiction</td>\n",
       "    </tr>\n",
       "    <tr>\n",
       "      <th>96</th>\n",
       "      <td>Happy Days with the Naked Chef</td>\n",
       "      <td>Oliver, Jamie</td>\n",
       "      <td>794,201</td>\n",
       "      <td>Penguin</td>\n",
       "      <td>Food &amp; Drink: General</td>\n",
       "    </tr>\n",
       "    <tr>\n",
       "      <th>97</th>\n",
       "      <td>Hunger Games,The:Hunger Games Trilogy</td>\n",
       "      <td>Collins, Suzanne</td>\n",
       "      <td>792,187</td>\n",
       "      <td>Scholastic Ltd.</td>\n",
       "      <td>Young Adult Fiction</td>\n",
       "    </tr>\n",
       "    <tr>\n",
       "      <th>98</th>\n",
       "      <td>Lost Boy,The:A Foster Child's Search for the L...</td>\n",
       "      <td>Pelzer, Dave</td>\n",
       "      <td>791,507</td>\n",
       "      <td>Orion</td>\n",
       "      <td>Biography: General</td>\n",
       "    </tr>\n",
       "    <tr>\n",
       "      <th>99</th>\n",
       "      <td>Jamie's Ministry of Food:Anyone Can Learn to C...</td>\n",
       "      <td>Oliver, Jamie</td>\n",
       "      <td>791,095</td>\n",
       "      <td>Penguin</td>\n",
       "      <td>Food &amp; Drink: General</td>\n",
       "    </tr>\n",
       "  </tbody>\n",
       "</table>\n",
       "<p>100 rows × 5 columns</p>\n",
       "</div>"
      ],
      "text/plain": [
       "                                            Book_Name       Author_Name  \\\n",
       "0                                   Da Vinci Code,The        Brown, Dan   \n",
       "1                Harry Potter and the Deathly Hallows     Rowling, J.K.   \n",
       "2            Harry Potter and the Philosopher's Stone     Rowling, J.K.   \n",
       "3           Harry Potter and the Order of the Phoenix     Rowling, J.K.   \n",
       "4                                Fifty Shades of Grey      James, E. L.   \n",
       "..                                                ...               ...   \n",
       "95                                          Ghost,The    Harris, Robert   \n",
       "96                     Happy Days with the Naked Chef     Oliver, Jamie   \n",
       "97              Hunger Games,The:Hunger Games Trilogy  Collins, Suzanne   \n",
       "98  Lost Boy,The:A Foster Child's Search for the L...      Pelzer, Dave   \n",
       "99  Jamie's Ministry of Food:Anyone Can Learn to C...     Oliver, Jamie   \n",
       "\n",
       "   Volume_sales       Publishers                        Genre  \n",
       "0     5,094,805       Transworld  Crime, Thriller & Adventure  \n",
       "1     4,475,152       Bloomsbury           Children's Fiction  \n",
       "2     4,200,654       Bloomsbury           Children's Fiction  \n",
       "3     4,179,479       Bloomsbury           Children's Fiction  \n",
       "4     3,758,936     Random House              Romance & Sagas  \n",
       "..          ...              ...                          ...  \n",
       "95      807,311     Random House   General & Literary Fiction  \n",
       "96      794,201          Penguin        Food & Drink: General  \n",
       "97      792,187  Scholastic Ltd.          Young Adult Fiction  \n",
       "98      791,507            Orion           Biography: General  \n",
       "99      791,095          Penguin        Food & Drink: General  \n",
       "\n",
       "[100 rows x 5 columns]"
      ]
     },
     "execution_count": 193,
     "metadata": {},
     "output_type": "execute_result"
    }
   ],
   "source": [
    "Books=pd.DataFrame({\"Book_Name\":b,\"Author_Name\":c,\"Volume_sales\":d,\"Publishers\":e,\"Genre\":Genre})\n",
    "Books # DataFrame done for Books."
   ]
  },
  {
   "cell_type": "code",
   "execution_count": 194,
   "id": "e54940cb",
   "metadata": {},
   "outputs": [],
   "source": [
    "driver.get('https://www.imdb.com/list/ls095964455/')# Getting Url"
   ]
  },
  {
   "cell_type": "code",
   "execution_count": 206,
   "id": "9bd37c09",
   "metadata": {},
   "outputs": [],
   "source": [
    "Name=[] # Scrapping Name\n",
    "name=driver.find_elements(By.XPATH,'//h3[@class=\"lister-item-header\"]')\n",
    "for i in name:\n",
    "    name=i.text\n",
    "    Name.append(name)"
   ]
  },
  {
   "cell_type": "code",
   "execution_count": 207,
   "id": "b6c27c42",
   "metadata": {},
   "outputs": [
    {
     "data": {
      "text/plain": [
       "['1. Game of Thrones (2011–2019)',\n",
       " '2. Stranger Things (2016–2024)',\n",
       " '3. The Walking Dead (2010–2022)',\n",
       " '4. 13 Reasons Why (2017–2020)',\n",
       " '5. The 100 (2014–2020)',\n",
       " '6. Orange Is the New Black (2013–2019)',\n",
       " '7. Riverdale (2017– )',\n",
       " \"8. Grey's Anatomy (2005– )\",\n",
       " '9. The Flash (2014–2023)',\n",
       " '10. Arrow (2012–2020)',\n",
       " '11. Money Heist (2017–2021)',\n",
       " '12. The Big Bang Theory (2007–2019)',\n",
       " '13. Black Mirror (2011–2019)',\n",
       " '14. Sherlock (2010–2017)',\n",
       " '15. Vikings (2013–2020)',\n",
       " '16. Pretty Little Liars (2010–2017)',\n",
       " '17. The Vampire Diaries (2009–2017)',\n",
       " '18. American Horror Story (2011– )',\n",
       " '19. Breaking Bad (2008–2013)',\n",
       " '20. Lucifer (2016–2021)',\n",
       " '21. Supernatural (2005–2020)',\n",
       " '22. Prison Break (2005–2017)',\n",
       " '23. How to Get Away with Murder (2014–2020)',\n",
       " '24. Teen Wolf (2011–2017)',\n",
       " '25. The Simpsons (1989– )',\n",
       " '26. Once Upon a Time (2011–2018)',\n",
       " '27. Narcos (2015–2017)',\n",
       " '28. Daredevil (2015–2018)',\n",
       " '29. Friends (1994–2004)',\n",
       " '30. How I Met Your Mother (2005–2014)',\n",
       " '31. Suits (2011–2019)',\n",
       " '32. Mr. Robot (2015–2019)',\n",
       " '33. The Originals (2013–2018)',\n",
       " '34. Supergirl (2015–2021)',\n",
       " '35. Gossip Girl (2007–2012)',\n",
       " '36. Sense8 (2015–2018)',\n",
       " '37. Gotham (2014–2019)',\n",
       " '38. Westworld (2016–2022)',\n",
       " '39. Jessica Jones (2015–2019)',\n",
       " '40. Modern Family (2009–2020)',\n",
       " '41. Rick and Morty (2013– )',\n",
       " '42. Shadowhunters (2016–2019)',\n",
       " '43. The End of the F***ing World (2017–2019)',\n",
       " '44. House of Cards (2013–2018)',\n",
       " '45. Dark (2017–2020)',\n",
       " '46. Elite (2018– )',\n",
       " '47. Sex Education (2019– )',\n",
       " '48. Shameless (2011–2021)',\n",
       " '49. New Girl (2011–2018)',\n",
       " '50. Agents of S.H.I.E.L.D. (2013–2020)',\n",
       " '51. You (2018– )',\n",
       " '52. Dexter (2006–2013)',\n",
       " '53. Fear the Walking Dead (2015–2023)',\n",
       " '54. Family Guy (1999– )',\n",
       " '55. The Blacklist (2013–2023)',\n",
       " '56. Lost (2004–2010)',\n",
       " '57. Peaky Blinders (2013–2022)',\n",
       " '58. House (2004–2012)',\n",
       " '59. Quantico (2015–2018)',\n",
       " '60. Orphan Black (2013–2017)',\n",
       " '61. Homeland (2011–2020)',\n",
       " '62. Blindspot (2015–2020)',\n",
       " \"63. DC's Legends of Tomorrow (2016–2022)\",\n",
       " \"64. The Handmaid's Tale (2017– )\",\n",
       " '65. Chilling Adventures of Sabrina (2018–2020)',\n",
       " '66. The Good Doctor (2017– )',\n",
       " '67. Jane the Virgin (2014–2019)',\n",
       " '68. Glee (2009–2015)',\n",
       " '69. South Park (1997– )',\n",
       " '70. Brooklyn Nine-Nine (2013–2021)',\n",
       " '71. Under the Dome (2013–2015)',\n",
       " '72. The Umbrella Academy (2019–2023)',\n",
       " '73. True Detective (2014–2019)',\n",
       " '74. The OA (2016–2019)',\n",
       " '75. Desperate Housewives (2004–2012)',\n",
       " '76. Better Call Saul (2015–2022)',\n",
       " '77. Bates Motel (2013–2017)',\n",
       " '78. The Punisher (2017–2019)',\n",
       " '79. Atypical (2017–2021)',\n",
       " '80. Dynasty (2017–2022)',\n",
       " '81. This Is Us (2016–2022)',\n",
       " '82. The Good Place (2016–2020)',\n",
       " '83. Iron Fist (2017–2018)',\n",
       " '84. The Rain (2018–2020)',\n",
       " '85. Mindhunter (2017–2019)',\n",
       " '86. Revenge (2011–2015)',\n",
       " '87. Luke Cage (2016–2018)',\n",
       " '88. Scandal (2012–2018)',\n",
       " '89. The Defenders (2017)',\n",
       " '90. Big Little Lies (2017–2019)',\n",
       " '91. Insatiable (2018–2019)',\n",
       " '92. The Mentalist (2008–2015)',\n",
       " '93. The Crown (2016–2023)',\n",
       " '94. Chernobyl (2019)',\n",
       " '95. iZombie (2015–2019)',\n",
       " '96. Reign (2013–2017)',\n",
       " '97. A Series of Unfortunate Events (2017–2019)',\n",
       " '98. Criminal Minds (2005– )',\n",
       " '99. Scream: The TV Series (2015–2019)',\n",
       " '100. The Haunting of Hill House (2018)']"
      ]
     },
     "execution_count": 207,
     "metadata": {},
     "output_type": "execute_result"
    }
   ],
   "source": [
    "Name"
   ]
  },
  {
   "cell_type": "code",
   "execution_count": 208,
   "id": "9a775cd8",
   "metadata": {},
   "outputs": [],
   "source": [
    "Year=[] # Scrapping Year of Span\n",
    "year=driver.find_elements(By.XPATH,'//span[@class=\"lister-item-year text-muted unbold\"]')\n",
    "for i in year:\n",
    "    year=i.text\n",
    "    Year.append(year)"
   ]
  },
  {
   "cell_type": "code",
   "execution_count": 209,
   "id": "393d5894",
   "metadata": {},
   "outputs": [
    {
     "data": {
      "text/plain": [
       "['(2011–2019)',\n",
       " '(2016–2024)',\n",
       " '(2010–2022)',\n",
       " '(2017–2020)',\n",
       " '(2014–2020)',\n",
       " '(2013–2019)',\n",
       " '(2017– )',\n",
       " '(2005– )',\n",
       " '(2014–2023)',\n",
       " '(2012–2020)',\n",
       " '(2017–2021)',\n",
       " '(2007–2019)',\n",
       " '(2011–2019)',\n",
       " '(2010–2017)',\n",
       " '(2013–2020)',\n",
       " '(2010–2017)',\n",
       " '(2009–2017)',\n",
       " '(2011– )',\n",
       " '(2008–2013)',\n",
       " '(2016–2021)',\n",
       " '(2005–2020)',\n",
       " '(2005–2017)',\n",
       " '(2014–2020)',\n",
       " '(2011–2017)',\n",
       " '(1989– )',\n",
       " '(2011–2018)',\n",
       " '(2015–2017)',\n",
       " '(2015–2018)',\n",
       " '(1994–2004)',\n",
       " '(2005–2014)',\n",
       " '(2011–2019)',\n",
       " '(2015–2019)',\n",
       " '(2013–2018)',\n",
       " '(2015–2021)',\n",
       " '(2007–2012)',\n",
       " '(2015–2018)',\n",
       " '(2014–2019)',\n",
       " '(2016–2022)',\n",
       " '(2015–2019)',\n",
       " '(2009–2020)',\n",
       " '(2013– )',\n",
       " '(2016–2019)',\n",
       " '(2017–2019)',\n",
       " '(2013–2018)',\n",
       " '(2017–2020)',\n",
       " '(2018– )',\n",
       " '(2019– )',\n",
       " '(2011–2021)',\n",
       " '(2011–2018)',\n",
       " '(2013–2020)',\n",
       " '(2018– )',\n",
       " '(2006–2013)',\n",
       " '(2015–2023)',\n",
       " '(1999– )',\n",
       " '(2013–2023)',\n",
       " '(2004–2010)',\n",
       " '(2013–2022)',\n",
       " '(2004–2012)',\n",
       " '(2015–2018)',\n",
       " '(2013–2017)',\n",
       " '(2011–2020)',\n",
       " '(2015–2020)',\n",
       " '(2016–2022)',\n",
       " '(2017– )',\n",
       " '(2018–2020)',\n",
       " '(2017– )',\n",
       " '(2014–2019)',\n",
       " '(2009–2015)',\n",
       " '(1997– )',\n",
       " '(2013–2021)',\n",
       " '(2013–2015)',\n",
       " '(2019–2023)',\n",
       " '(2014–2019)',\n",
       " '(2016–2019)',\n",
       " '(2004–2012)',\n",
       " '(2015–2022)',\n",
       " '(2013–2017)',\n",
       " '(2017–2019)',\n",
       " '(2017–2021)',\n",
       " '(2017–2022)',\n",
       " '(2016–2022)',\n",
       " '(2016–2020)',\n",
       " '(2017–2018)',\n",
       " '(2018–2020)',\n",
       " '(2017–2019)',\n",
       " '(2011–2015)',\n",
       " '(2016–2018)',\n",
       " '(2012–2018)',\n",
       " '(2017)',\n",
       " '(2017–2019)',\n",
       " '(2018–2019)',\n",
       " '(2008–2015)',\n",
       " '(2016–2023)',\n",
       " '(2019)',\n",
       " '(2015–2019)',\n",
       " '(2013–2017)',\n",
       " '(2017–2019)',\n",
       " '(2005– )',\n",
       " '(2015–2019)',\n",
       " '(2018)']"
      ]
     },
     "execution_count": 209,
     "metadata": {},
     "output_type": "execute_result"
    }
   ],
   "source": [
    "Year"
   ]
  },
  {
   "cell_type": "code",
   "execution_count": 210,
   "id": "8aad8bd1",
   "metadata": {},
   "outputs": [],
   "source": [
    "Genre=[]# Scrapping Genre\n",
    "genre=driver.find_elements(By.XPATH,'//span[@class=\"genre\"]')\n",
    "for i in genre:\n",
    "    genre=i.text\n",
    "    Genre.append(genre)"
   ]
  },
  {
   "cell_type": "code",
   "execution_count": 211,
   "id": "41e55fa0",
   "metadata": {},
   "outputs": [
    {
     "data": {
      "text/plain": [
       "['Action, Adventure, Drama',\n",
       " 'Drama, Fantasy, Horror',\n",
       " 'Drama, Horror, Thriller',\n",
       " 'Drama, Mystery, Thriller',\n",
       " 'Drama, Mystery, Sci-Fi',\n",
       " 'Comedy, Crime, Drama',\n",
       " 'Crime, Drama, Mystery',\n",
       " 'Drama, Romance',\n",
       " 'Action, Adventure, Drama',\n",
       " 'Action, Adventure, Crime',\n",
       " 'Action, Crime, Drama',\n",
       " 'Comedy, Romance',\n",
       " 'Drama, Mystery, Sci-Fi',\n",
       " 'Crime, Drama, Mystery',\n",
       " 'Action, Adventure, Drama',\n",
       " 'Drama, Mystery, Romance',\n",
       " 'Drama, Fantasy, Horror',\n",
       " 'Drama, Horror, Sci-Fi',\n",
       " 'Crime, Drama, Thriller',\n",
       " 'Crime, Drama, Fantasy',\n",
       " 'Drama, Fantasy, Horror',\n",
       " 'Action, Crime, Drama',\n",
       " 'Crime, Drama, Mystery',\n",
       " 'Action, Drama, Fantasy',\n",
       " 'Animation, Comedy',\n",
       " 'Adventure, Fantasy, Romance',\n",
       " 'Biography, Crime, Drama',\n",
       " 'Action, Crime, Drama',\n",
       " 'Comedy, Romance',\n",
       " 'Comedy, Romance',\n",
       " 'Comedy, Drama',\n",
       " 'Crime, Drama, Thriller',\n",
       " 'Drama, Fantasy, Horror',\n",
       " 'Action, Adventure, Drama',\n",
       " 'Drama, Romance',\n",
       " 'Drama, Mystery, Sci-Fi',\n",
       " 'Action, Crime, Drama',\n",
       " 'Drama, Mystery, Sci-Fi',\n",
       " 'Action, Crime, Drama',\n",
       " 'Comedy, Drama, Romance',\n",
       " 'Animation, Adventure, Comedy',\n",
       " 'Action, Drama, Fantasy',\n",
       " 'Adventure, Comedy, Crime',\n",
       " 'Drama',\n",
       " 'Crime, Drama, Mystery',\n",
       " 'Crime, Drama, Thriller',\n",
       " 'Comedy, Drama',\n",
       " 'Comedy, Drama',\n",
       " 'Comedy, Romance',\n",
       " 'Action, Adventure, Drama',\n",
       " 'Crime, Drama, Romance',\n",
       " 'Crime, Drama, Mystery',\n",
       " 'Drama, Horror, Sci-Fi',\n",
       " 'Animation, Comedy',\n",
       " 'Crime, Drama, Mystery',\n",
       " 'Adventure, Drama, Fantasy',\n",
       " 'Crime, Drama',\n",
       " 'Drama, Mystery',\n",
       " 'Crime, Drama, Mystery',\n",
       " 'Drama, Sci-Fi, Thriller',\n",
       " 'Crime, Drama, Mystery',\n",
       " 'Action, Crime, Drama',\n",
       " 'Action, Adventure, Drama',\n",
       " 'Drama, Sci-Fi, Thriller',\n",
       " 'Drama, Fantasy, Horror',\n",
       " 'Drama',\n",
       " 'Comedy',\n",
       " 'Comedy, Drama, Music',\n",
       " 'Animation, Comedy',\n",
       " 'Comedy, Crime',\n",
       " 'Drama, Mystery, Sci-Fi',\n",
       " 'Action, Adventure, Comedy',\n",
       " 'Crime, Drama, Mystery',\n",
       " 'Drama, Fantasy, Mystery',\n",
       " 'Comedy, Drama, Mystery',\n",
       " 'Crime, Drama',\n",
       " 'Drama, Horror, Mystery',\n",
       " 'Action, Crime, Drama',\n",
       " 'Comedy, Drama',\n",
       " 'Drama',\n",
       " 'Comedy, Drama, Romance',\n",
       " 'Comedy, Drama, Fantasy',\n",
       " 'Action, Adventure, Crime',\n",
       " 'Drama, Sci-Fi, Thriller',\n",
       " 'Crime, Drama, Mystery',\n",
       " 'Drama, Mystery, Thriller',\n",
       " 'Action, Crime, Drama',\n",
       " 'Drama, Thriller',\n",
       " 'Action, Adventure, Crime',\n",
       " 'Crime, Drama, Mystery',\n",
       " 'Comedy, Drama, Thriller',\n",
       " 'Crime, Drama, Mystery',\n",
       " 'Biography, Drama, History',\n",
       " 'Drama, History, Thriller',\n",
       " 'Comedy, Crime, Drama',\n",
       " 'Drama',\n",
       " 'Adventure, Comedy, Drama',\n",
       " 'Crime, Drama, Mystery',\n",
       " 'Comedy, Crime, Drama',\n",
       " 'Drama, Horror, Mystery']"
      ]
     },
     "execution_count": 211,
     "metadata": {},
     "output_type": "execute_result"
    }
   ],
   "source": [
    "Genre"
   ]
  },
  {
   "cell_type": "code",
   "execution_count": 212,
   "id": "55e78660",
   "metadata": {},
   "outputs": [],
   "source": [
    "Run_time=[]\n",
    "time=driver.find_elements(By.XPATH,'//span[@class=\"runtime\"]')\n",
    "for i in time:\n",
    "    time=i.text\n",
    "    Run_time.append(time)"
   ]
  },
  {
   "cell_type": "code",
   "execution_count": 214,
   "id": "2c6c6c29",
   "metadata": {},
   "outputs": [
    {
     "data": {
      "text/plain": [
       "100"
      ]
     },
     "execution_count": 214,
     "metadata": {},
     "output_type": "execute_result"
    }
   ],
   "source": [
    "len(Run_time)"
   ]
  },
  {
   "cell_type": "code",
   "execution_count": 215,
   "id": "dcec18c1",
   "metadata": {},
   "outputs": [],
   "source": [
    "Ratings=[]\n",
    "stars=driver.find_elements(By.XPATH,'//div[@class=\"ipl-rating-star small\"]')\n",
    "for i in stars:\n",
    "    stars=i.text\n",
    "    Ratings.append(stars)"
   ]
  },
  {
   "cell_type": "code",
   "execution_count": 217,
   "id": "c21b56e6",
   "metadata": {},
   "outputs": [
    {
     "data": {
      "text/plain": [
       "100"
      ]
     },
     "execution_count": 217,
     "metadata": {},
     "output_type": "execute_result"
    }
   ],
   "source": [
    "len(Ratings)"
   ]
  },
  {
   "cell_type": "code",
   "execution_count": 218,
   "id": "8cebb327",
   "metadata": {},
   "outputs": [],
   "source": [
    "Votes=[]\n",
    "vote=driver.find_elements(By.XPATH,'//p[@class=\"text-muted text-small\"]')\n",
    "for i in vote:\n",
    "    vote=i.text\n",
    "    Votes.append(vote)"
   ]
  },
  {
   "cell_type": "code",
   "execution_count": 221,
   "id": "6eb308cb",
   "metadata": {},
   "outputs": [
    {
     "data": {
      "text/plain": [
       "100"
      ]
     },
     "execution_count": 221,
     "metadata": {},
     "output_type": "execute_result"
    }
   ],
   "source": [
    "spl=Votes[2:300:3]\n",
    "len(spl)"
   ]
  },
  {
   "cell_type": "code",
   "execution_count": 222,
   "id": "69c0319a",
   "metadata": {},
   "outputs": [
    {
     "data": {
      "text/html": [
       "<div>\n",
       "<style scoped>\n",
       "    .dataframe tbody tr th:only-of-type {\n",
       "        vertical-align: middle;\n",
       "    }\n",
       "\n",
       "    .dataframe tbody tr th {\n",
       "        vertical-align: top;\n",
       "    }\n",
       "\n",
       "    .dataframe thead th {\n",
       "        text-align: right;\n",
       "    }\n",
       "</style>\n",
       "<table border=\"1\" class=\"dataframe\">\n",
       "  <thead>\n",
       "    <tr style=\"text-align: right;\">\n",
       "      <th></th>\n",
       "      <th>Name</th>\n",
       "      <th>year_of_span</th>\n",
       "      <th>Genre</th>\n",
       "      <th>Run_time</th>\n",
       "      <th>Ratings</th>\n",
       "      <th>Votes</th>\n",
       "    </tr>\n",
       "  </thead>\n",
       "  <tbody>\n",
       "    <tr>\n",
       "      <th>0</th>\n",
       "      <td>1. Game of Thrones (2011–2019)</td>\n",
       "      <td>(2011–2019)</td>\n",
       "      <td>Action, Adventure, Drama</td>\n",
       "      <td>57 min</td>\n",
       "      <td>9.2</td>\n",
       "      <td>Votes: 2,123,859</td>\n",
       "    </tr>\n",
       "    <tr>\n",
       "      <th>1</th>\n",
       "      <td>2. Stranger Things (2016–2024)</td>\n",
       "      <td>(2016–2024)</td>\n",
       "      <td>Drama, Fantasy, Horror</td>\n",
       "      <td>51 min</td>\n",
       "      <td>8.7</td>\n",
       "      <td>Votes: 1,211,644</td>\n",
       "    </tr>\n",
       "    <tr>\n",
       "      <th>2</th>\n",
       "      <td>3. The Walking Dead (2010–2022)</td>\n",
       "      <td>(2010–2022)</td>\n",
       "      <td>Drama, Horror, Thriller</td>\n",
       "      <td>44 min</td>\n",
       "      <td>8.1</td>\n",
       "      <td>Votes: 1,007,346</td>\n",
       "    </tr>\n",
       "    <tr>\n",
       "      <th>3</th>\n",
       "      <td>4. 13 Reasons Why (2017–2020)</td>\n",
       "      <td>(2017–2020)</td>\n",
       "      <td>Drama, Mystery, Thriller</td>\n",
       "      <td>60 min</td>\n",
       "      <td>7.5</td>\n",
       "      <td>Votes: 297,203</td>\n",
       "    </tr>\n",
       "    <tr>\n",
       "      <th>4</th>\n",
       "      <td>5. The 100 (2014–2020)</td>\n",
       "      <td>(2014–2020)</td>\n",
       "      <td>Drama, Mystery, Sci-Fi</td>\n",
       "      <td>43 min</td>\n",
       "      <td>7.6</td>\n",
       "      <td>Votes: 256,123</td>\n",
       "    </tr>\n",
       "    <tr>\n",
       "      <th>...</th>\n",
       "      <td>...</td>\n",
       "      <td>...</td>\n",
       "      <td>...</td>\n",
       "      <td>...</td>\n",
       "      <td>...</td>\n",
       "      <td>...</td>\n",
       "    </tr>\n",
       "    <tr>\n",
       "      <th>95</th>\n",
       "      <td>96. Reign (2013–2017)</td>\n",
       "      <td>(2013–2017)</td>\n",
       "      <td>Drama</td>\n",
       "      <td>42 min</td>\n",
       "      <td>7.4</td>\n",
       "      <td>Votes: 50,752</td>\n",
       "    </tr>\n",
       "    <tr>\n",
       "      <th>96</th>\n",
       "      <td>97. A Series of Unfortunate Events (2017–2019)</td>\n",
       "      <td>(2017–2019)</td>\n",
       "      <td>Adventure, Comedy, Drama</td>\n",
       "      <td>50 min</td>\n",
       "      <td>7.8</td>\n",
       "      <td>Votes: 62,633</td>\n",
       "    </tr>\n",
       "    <tr>\n",
       "      <th>97</th>\n",
       "      <td>98. Criminal Minds (2005– )</td>\n",
       "      <td>(2005– )</td>\n",
       "      <td>Crime, Drama, Mystery</td>\n",
       "      <td>42 min</td>\n",
       "      <td>8.1</td>\n",
       "      <td>Votes: 203,043</td>\n",
       "    </tr>\n",
       "    <tr>\n",
       "      <th>98</th>\n",
       "      <td>99. Scream: The TV Series (2015–2019)</td>\n",
       "      <td>(2015–2019)</td>\n",
       "      <td>Comedy, Crime, Drama</td>\n",
       "      <td>45 min</td>\n",
       "      <td>7.1</td>\n",
       "      <td>Votes: 42,056</td>\n",
       "    </tr>\n",
       "    <tr>\n",
       "      <th>99</th>\n",
       "      <td>100. The Haunting of Hill House (2018)</td>\n",
       "      <td>(2018)</td>\n",
       "      <td>Drama, Horror, Mystery</td>\n",
       "      <td>572 min</td>\n",
       "      <td>8.6</td>\n",
       "      <td>Votes: 250,873</td>\n",
       "    </tr>\n",
       "  </tbody>\n",
       "</table>\n",
       "<p>100 rows × 6 columns</p>\n",
       "</div>"
      ],
      "text/plain": [
       "                                              Name year_of_span  \\\n",
       "0                   1. Game of Thrones (2011–2019)  (2011–2019)   \n",
       "1                   2. Stranger Things (2016–2024)  (2016–2024)   \n",
       "2                  3. The Walking Dead (2010–2022)  (2010–2022)   \n",
       "3                    4. 13 Reasons Why (2017–2020)  (2017–2020)   \n",
       "4                           5. The 100 (2014–2020)  (2014–2020)   \n",
       "..                                             ...          ...   \n",
       "95                           96. Reign (2013–2017)  (2013–2017)   \n",
       "96  97. A Series of Unfortunate Events (2017–2019)  (2017–2019)   \n",
       "97                     98. Criminal Minds (2005– )     (2005– )   \n",
       "98           99. Scream: The TV Series (2015–2019)  (2015–2019)   \n",
       "99          100. The Haunting of Hill House (2018)       (2018)   \n",
       "\n",
       "                       Genre Run_time Ratings             Votes  \n",
       "0   Action, Adventure, Drama   57 min     9.2  Votes: 2,123,859  \n",
       "1     Drama, Fantasy, Horror   51 min     8.7  Votes: 1,211,644  \n",
       "2    Drama, Horror, Thriller   44 min     8.1  Votes: 1,007,346  \n",
       "3   Drama, Mystery, Thriller   60 min     7.5    Votes: 297,203  \n",
       "4     Drama, Mystery, Sci-Fi   43 min     7.6    Votes: 256,123  \n",
       "..                       ...      ...     ...               ...  \n",
       "95                     Drama   42 min     7.4     Votes: 50,752  \n",
       "96  Adventure, Comedy, Drama   50 min     7.8     Votes: 62,633  \n",
       "97     Crime, Drama, Mystery   42 min     8.1    Votes: 203,043  \n",
       "98      Comedy, Crime, Drama   45 min     7.1     Votes: 42,056  \n",
       "99    Drama, Horror, Mystery  572 min     8.6    Votes: 250,873  \n",
       "\n",
       "[100 rows x 6 columns]"
      ]
     },
     "execution_count": 222,
     "metadata": {},
     "output_type": "execute_result"
    }
   ],
   "source": [
    "Movies=pd.DataFrame({'Name':Name,\"year_of_span\":Year,\"Genre\":Genre,\"Run_time\":Run_time,'Ratings':Ratings,\"Votes\":spl})\n",
    "Movies # Scrapping Movies_Name."
   ]
  },
  {
   "cell_type": "code",
   "execution_count": 8,
   "id": "cb989818",
   "metadata": {},
   "outputs": [],
   "source": [
    "driver.get('https://archive.ics.uci.edu/')\n",
    "time.sleep(3)"
   ]
  },
  {
   "cell_type": "code",
   "execution_count": 9,
   "id": "de3746d8",
   "metadata": {},
   "outputs": [],
   "source": [
    "all_Dataset=driver.find_element(By.XPATH,'/html/body/table[1]/tbody/tr/td[2]/span[2]/a/font/b')\n",
    "all_Dataset.click()"
   ]
  },
  {
   "cell_type": "code",
   "execution_count": 10,
   "id": "57b0c02f",
   "metadata": {},
   "outputs": [],
   "source": [
    "Find=[]\n",
    "find=driver.find_elements(By.XPATH,'//p[@class=\"normal\"]')\n",
    "for i in find:\n",
    "    find=i.text\n",
    "    Find.append(find)\n",
    "    "
   ]
  },
  {
   "cell_type": "code",
   "execution_count": 16,
   "id": "4e7b5289",
   "metadata": {},
   "outputs": [
    {
     "data": {
      "text/plain": [
       "623"
      ]
     },
     "execution_count": 16,
     "metadata": {},
     "output_type": "execute_result"
    }
   ],
   "source": [
    "a=Find[8::7] # Dataset_Name\n",
    "len(a)"
   ]
  },
  {
   "cell_type": "code",
   "execution_count": 20,
   "id": "85fb7e6f",
   "metadata": {},
   "outputs": [
    {
     "data": {
      "text/plain": [
       "623"
      ]
     },
     "execution_count": 20,
     "metadata": {},
     "output_type": "execute_result"
    }
   ],
   "source": [
    "b=Find[9::7]# Dataset_Types\n",
    "len(b)"
   ]
  },
  {
   "cell_type": "code",
   "execution_count": 27,
   "id": "9841bd78",
   "metadata": {},
   "outputs": [],
   "source": [
    "c=Find[10::7]   # Default Tasks\n",
    "len(c)\n",
    "c.append(\"-\")"
   ]
  },
  {
   "cell_type": "code",
   "execution_count": 29,
   "id": "ba7cf3b8",
   "metadata": {},
   "outputs": [
    {
     "data": {
      "text/plain": [
       "623"
      ]
     },
     "execution_count": 29,
     "metadata": {},
     "output_type": "execute_result"
    }
   ],
   "source": [
    "len(c)"
   ]
  },
  {
   "cell_type": "code",
   "execution_count": 34,
   "id": "fbbb2cf5",
   "metadata": {},
   "outputs": [
    {
     "data": {
      "text/plain": [
       "623"
      ]
     },
     "execution_count": 34,
     "metadata": {},
     "output_type": "execute_result"
    }
   ],
   "source": [
    "d=Find[11::7] # Default Attribute_Types\n",
    "len(d)\n",
    "d.append(\"-\")\n",
    "len(d)"
   ]
  },
  {
   "cell_type": "code",
   "execution_count": 39,
   "id": "abbf4652",
   "metadata": {},
   "outputs": [
    {
     "data": {
      "text/plain": [
       "623"
      ]
     },
     "execution_count": 39,
     "metadata": {},
     "output_type": "execute_result"
    }
   ],
   "source": [
    "e=Find[12::7] #Default Instances.\n",
    "len(e)\n",
    "e.append(\"-\")\n",
    "len(e)"
   ]
  },
  {
   "cell_type": "code",
   "execution_count": 45,
   "id": "ce940385",
   "metadata": {},
   "outputs": [
    {
     "data": {
      "text/plain": [
       "623"
      ]
     },
     "execution_count": 45,
     "metadata": {},
     "output_type": "execute_result"
    }
   ],
   "source": [
    "f=Find[13::7]#Default Attributes\n",
    "len(f)\n",
    "f.append(\"-\")\n",
    "len(f)"
   ]
  },
  {
   "cell_type": "code",
   "execution_count": 51,
   "id": "828e8177",
   "metadata": {},
   "outputs": [
    {
     "data": {
      "text/plain": [
       "623"
      ]
     },
     "execution_count": 51,
     "metadata": {},
     "output_type": "execute_result"
    }
   ],
   "source": [
    "e=Find[14::7] # Find Year\n",
    "e.append(\"-\")\n",
    "len(e)"
   ]
  },
  {
   "cell_type": "code",
   "execution_count": 55,
   "id": "a48f1be0",
   "metadata": {},
   "outputs": [
    {
     "data": {
      "text/html": [
       "<div>\n",
       "<style scoped>\n",
       "    .dataframe tbody tr th:only-of-type {\n",
       "        vertical-align: middle;\n",
       "    }\n",
       "\n",
       "    .dataframe tbody tr th {\n",
       "        vertical-align: top;\n",
       "    }\n",
       "\n",
       "    .dataframe thead th {\n",
       "        text-align: right;\n",
       "    }\n",
       "</style>\n",
       "<table border=\"1\" class=\"dataframe\">\n",
       "  <thead>\n",
       "    <tr style=\"text-align: right;\">\n",
       "      <th></th>\n",
       "      <th>Dataset_Name</th>\n",
       "      <th>Dataset_Types</th>\n",
       "      <th>Tasks</th>\n",
       "      <th>Attribute_types</th>\n",
       "      <th>Instances</th>\n",
       "      <th>Attributes</th>\n",
       "      <th>Year</th>\n",
       "    </tr>\n",
       "  </thead>\n",
       "  <tbody>\n",
       "    <tr>\n",
       "      <th>0</th>\n",
       "      <td>Abalone</td>\n",
       "      <td>Multivariate</td>\n",
       "      <td>Classification</td>\n",
       "      <td>Categorical, Integer, Real</td>\n",
       "      <td>1995</td>\n",
       "      <td>8</td>\n",
       "      <td>1995</td>\n",
       "    </tr>\n",
       "    <tr>\n",
       "      <th>1</th>\n",
       "      <td>Adult</td>\n",
       "      <td>Multivariate</td>\n",
       "      <td>Classification</td>\n",
       "      <td>Categorical, Integer</td>\n",
       "      <td>1996</td>\n",
       "      <td>14</td>\n",
       "      <td>1996</td>\n",
       "    </tr>\n",
       "    <tr>\n",
       "      <th>2</th>\n",
       "      <td>Annealing</td>\n",
       "      <td>Multivariate</td>\n",
       "      <td>Classification</td>\n",
       "      <td>Categorical, Integer, Real</td>\n",
       "      <td></td>\n",
       "      <td>38</td>\n",
       "      <td></td>\n",
       "    </tr>\n",
       "    <tr>\n",
       "      <th>3</th>\n",
       "      <td>Anonymous Microsoft Web Data</td>\n",
       "      <td></td>\n",
       "      <td>Recommender-Systems</td>\n",
       "      <td>Categorical</td>\n",
       "      <td>1998</td>\n",
       "      <td>294</td>\n",
       "      <td>1998</td>\n",
       "    </tr>\n",
       "    <tr>\n",
       "      <th>4</th>\n",
       "      <td>Arrhythmia</td>\n",
       "      <td>Multivariate</td>\n",
       "      <td>Classification</td>\n",
       "      <td>Categorical, Integer, Real</td>\n",
       "      <td>1998</td>\n",
       "      <td>279</td>\n",
       "      <td>1998</td>\n",
       "    </tr>\n",
       "  </tbody>\n",
       "</table>\n",
       "</div>"
      ],
      "text/plain": [
       "                   Dataset_Name  Dataset_Types                 Tasks  \\\n",
       "0                       Abalone  Multivariate        Classification    \n",
       "1                         Adult  Multivariate        Classification    \n",
       "2                     Annealing  Multivariate        Classification    \n",
       "3  Anonymous Microsoft Web Data                 Recommender-Systems    \n",
       "4                    Arrhythmia  Multivariate        Classification    \n",
       "\n",
       "               Attribute_types Instances Attributes   Year  \n",
       "0  Categorical, Integer, Real      1995          8   1995   \n",
       "1        Categorical, Integer      1996         14   1996   \n",
       "2  Categorical, Integer, Real                   38          \n",
       "3                 Categorical      1998        294   1998   \n",
       "4  Categorical, Integer, Real      1998        279   1998   "
      ]
     },
     "execution_count": 55,
     "metadata": {},
     "output_type": "execute_result"
    }
   ],
   "source": [
    "Data_set=pd.DataFrame({\"Dataset_Name\":a,\"Dataset_Types\":b,\"Tasks\":c,\"Attribute_types\":d,\"Instances\":e,\"Attributes\":f,\"Year\":e})\n",
    "Data_set.head(5)# Framing DataFrame."
   ]
  },
  {
   "cell_type": "code",
   "execution_count": null,
   "id": "f32e262c",
   "metadata": {},
   "outputs": [],
   "source": []
  }
 ],
 "metadata": {
  "kernelspec": {
   "display_name": "Python 3 (ipykernel)",
   "language": "python",
   "name": "python3"
  },
  "language_info": {
   "codemirror_mode": {
    "name": "ipython",
    "version": 3
   },
   "file_extension": ".py",
   "mimetype": "text/x-python",
   "name": "python",
   "nbconvert_exporter": "python",
   "pygments_lexer": "ipython3",
   "version": "3.9.12"
  }
 },
 "nbformat": 4,
 "nbformat_minor": 5
}
