{
 "cells": [
  {
   "cell_type": "code",
   "execution_count": 1,
   "id": "764e395a",
   "metadata": {},
   "outputs": [
    {
     "name": "stdout",
     "output_type": "stream",
     "text": [
      "Requirement already satisfied: bs4 in c:\\users\\sony\\anaconda3\\lib\\site-packages (0.0.1)Note: you may need to restart the kernel to use updated packages.\n",
      "\n",
      "Requirement already satisfied: beautifulsoup4 in c:\\users\\sony\\anaconda3\\lib\\site-packages (from bs4) (4.11.1)\n",
      "Requirement already satisfied: soupsieve>1.2 in c:\\users\\sony\\anaconda3\\lib\\site-packages (from beautifulsoup4->bs4) (2.3.1)\n"
     ]
    }
   ],
   "source": [
    "pip install bs4"
   ]
  },
  {
   "cell_type": "code",
   "execution_count": 2,
   "id": "070c85f0",
   "metadata": {},
   "outputs": [
    {
     "name": "stdout",
     "output_type": "stream",
     "text": [
      "Requirement already satisfied: requests in c:\\users\\sony\\anaconda3\\lib\\site-packages (2.27.1)\n",
      "Requirement already satisfied: certifi>=2017.4.17 in c:\\users\\sony\\anaconda3\\lib\\site-packages (from requests) (2021.10.8)\n",
      "Requirement already satisfied: urllib3<1.27,>=1.21.1 in c:\\users\\sony\\anaconda3\\lib\\site-packages (from requests) (1.26.9)\n",
      "Requirement already satisfied: charset-normalizer~=2.0.0 in c:\\users\\sony\\anaconda3\\lib\\site-packages (from requests) (2.0.4)\n",
      "Requirement already satisfied: idna<4,>=2.5 in c:\\users\\sony\\anaconda3\\lib\\site-packages (from requests) (3.3)\n",
      "Note: you may need to restart the kernel to use updated packages.\n"
     ]
    }
   ],
   "source": [
    "pip install requests"
   ]
  },
  {
   "cell_type": "code",
   "execution_count": 2,
   "id": "af2d870e",
   "metadata": {},
   "outputs": [],
   "source": [
    "from bs4 import BeautifulSoup\n",
    "import requests"
   ]
  },
  {
   "cell_type": "code",
   "execution_count": 105,
   "id": "2d3b23da",
   "metadata": {},
   "outputs": [
    {
     "name": "stdout",
     "output_type": "stream",
     "text": [
      "Requirement already satisfied: html5lib in c:\\users\\sony\\anaconda3\\lib\\site-packages (1.1)\n",
      "Requirement already satisfied: six>=1.9 in c:\\users\\sony\\anaconda3\\lib\\site-packages (from html5lib) (1.16.0)\n",
      "Requirement already satisfied: webencodings in c:\\users\\sony\\anaconda3\\lib\\site-packages (from html5lib) (0.5.1)\n",
      "Note: you may need to restart the kernel to use updated packages.\n"
     ]
    }
   ],
   "source": []
  },
  {
   "cell_type": "code",
   "execution_count": null,
   "id": "74f7b4f3",
   "metadata": {},
   "outputs": [],
   "source": []
  },
  {
   "cell_type": "code",
   "execution_count": 9,
   "id": "61a7ee59",
   "metadata": {},
   "outputs": [
    {
     "data": {
      "text/plain": [
       "<Response [200]>"
      ]
     },
     "execution_count": 9,
     "metadata": {},
     "output_type": "execute_result"
    }
   ],
   "source": [
    "url=requests.get('https://en.wikipedia.org/wiki/Main_Page')\n",
    "url"
   ]
  },
  {
   "cell_type": "code",
   "execution_count": null,
   "id": "973fcac7",
   "metadata": {},
   "outputs": [],
   "source": []
  },
  {
   "cell_type": "code",
   "execution_count": 5,
   "id": "24ad8aa1",
   "metadata": {},
   "outputs": [
    {
     "data": {
      "text/plain": [
       "bs4.BeautifulSoup"
      ]
     },
     "execution_count": 5,
     "metadata": {},
     "output_type": "execute_result"
    }
   ],
   "source": [
    "soup=BeautifulSoup(url.text,'html.parser')\n",
    "type(soup)\n"
   ]
  },
  {
   "cell_type": "code",
   "execution_count": 11,
   "id": "17d890ef",
   "metadata": {},
   "outputs": [
    {
     "name": "stdout",
     "output_type": "stream",
     "text": [
      "Main Page\n",
      "Welcome to Wikipedia\n",
      "From today's featured article\n",
      "Did you know ...\n",
      "In the news\n",
      "On this day\n",
      "Today's featured picture\n",
      "Other areas of Wikipedia\n",
      "Wikipedia's sister projects\n",
      "Wikipedia languages\n",
      "Navigation menu\n",
      "\n",
      "Personal tools\n",
      "\n",
      "\n",
      "Namespaces\n",
      "\n",
      "\n",
      "Views\n",
      "\n",
      "\n",
      "Navigation\n",
      "\n",
      "\n",
      "Contribute\n",
      "\n",
      "\n",
      "Tools\n",
      "\n",
      "\n",
      "Print/export\n",
      "\n",
      "\n",
      "In other projects\n",
      "\n",
      "\n",
      "Languages\n",
      "\n"
     ]
    }
   ],
   "source": [
    "Titles=soup.find_all(['h1','h2','h3','h4','h5','h6'])\n",
    "for i in Titles:\n",
    "    print(i.text)# q1.All the Header Tag Names.\n",
    "    \n",
    "    \n"
   ]
  },
  {
   "cell_type": "code",
   "execution_count": 56,
   "id": "715bd20c",
   "metadata": {},
   "outputs": [
    {
     "data": {
      "text/plain": [
       "<Response [200]>"
      ]
     },
     "execution_count": 56,
     "metadata": {},
     "output_type": "execute_result"
    }
   ],
   "source": [
    "page='https://www.imdb.com/search/title/?groups=top_100&view=simple'\n",
    "url=requests.get(page)\n",
    "url"
   ]
  },
  {
   "cell_type": "code",
   "execution_count": null,
   "id": "10e5487c",
   "metadata": {},
   "outputs": [],
   "source": []
  },
  {
   "cell_type": "code",
   "execution_count": 58,
   "id": "d13be5be",
   "metadata": {},
   "outputs": [
    {
     "data": {
      "text/plain": [
       "bs4.BeautifulSoup"
      ]
     },
     "execution_count": 58,
     "metadata": {},
     "output_type": "execute_result"
    }
   ],
   "source": [
    "soup=BeautifulSoup(url.text,'html.parser')\n",
    "type(soup)"
   ]
  },
  {
   "cell_type": "code",
   "execution_count": null,
   "id": "c364283f",
   "metadata": {},
   "outputs": [],
   "source": [
    "\n",
    "\n",
    "    \n"
   ]
  },
  {
   "cell_type": "code",
   "execution_count": null,
   "id": "d9fcde91",
   "metadata": {},
   "outputs": [],
   "source": [
    "\n",
    "    \n",
    "    "
   ]
  },
  {
   "cell_type": "code",
   "execution_count": null,
   "id": "e8c15779",
   "metadata": {},
   "outputs": [],
   "source": []
  },
  {
   "cell_type": "code",
   "execution_count": 66,
   "id": "2181c537",
   "metadata": {},
   "outputs": [],
   "source": [
    "Name=[]\n",
    "for i in soup.find_all('span',class_='lister-item-header'):\n",
    "    Name.append(i.text.split('\\n')[3])\n",
    "    "
   ]
  },
  {
   "cell_type": "code",
   "execution_count": 67,
   "id": "635a9000",
   "metadata": {},
   "outputs": [
    {
     "data": {
      "text/plain": [
       "['Top Gun: Maverick',\n",
       " 'The Godfather',\n",
       " 'The Shawshank Redemption',\n",
       " 'بين النجوم',\n",
       " 'The Lord of the Rings: The Fellowship of the Ring',\n",
       " 'Pulp Fiction',\n",
       " 'Good Will Hunting',\n",
       " 'Fight Club',\n",
       " 'Avengers: Endgame',\n",
       " 'The Dark Knight',\n",
       " 'Inception',\n",
       " 'ويبلاش',\n",
       " 'Léon',\n",
       " 'Goodfellas',\n",
       " 'Forrest Gump',\n",
       " 'Gisaengchung',\n",
       " 'Raiders of the Lost Ark',\n",
       " 'Gladiator',\n",
       " 'Joker',\n",
       " 'Inglourious Basterds',\n",
       " 'The Lord of the Rings: The Return of the King',\n",
       " \"It's a Wonderful Life\",\n",
       " 'Back to the Future',\n",
       " 'Requiem for a Dream',\n",
       " 'The Prestige',\n",
       " 'The Godfather: Part II',\n",
       " \"Schindler's List\",\n",
       " 'Django Unchained',\n",
       " 'Apocalypse Now',\n",
       " 'American Beauty',\n",
       " 'The Matrix',\n",
       " 'The Departed',\n",
       " 'Se7en',\n",
       " 'Alien',\n",
       " 'The Lord of the Rings: The Two Towers',\n",
       " 'Star Wars',\n",
       " 'The Silence of the Lambs',\n",
       " 'The Green Mile',\n",
       " 'Braveheart',\n",
       " 'The Dark Knight Rises',\n",
       " 'Spider-Man: Into the Spider-Verse',\n",
       " 'Aliens',\n",
       " 'Avengers: Infinity War',\n",
       " 'The Usual Suspects',\n",
       " 'American History X',\n",
       " 'Eternal Sunshine of the Spotless Mind',\n",
       " 'Terminator 2: Judgment Day',\n",
       " 'Il buono, il brutto, il cattivo',\n",
       " '12 Angry Men',\n",
       " 'The Shining']"
      ]
     },
     "execution_count": 67,
     "metadata": {},
     "output_type": "execute_result"
    }
   ],
   "source": [
    "Name"
   ]
  },
  {
   "cell_type": "code",
   "execution_count": 138,
   "id": "c6db3617",
   "metadata": {},
   "outputs": [],
   "source": [
    "rating=[]\n",
    "for i in soup.find_all('div', class_=\"col-imdb-rating\"):\n",
    "    rating.append(i.text.split('\\n')[2])\n"
   ]
  },
  {
   "cell_type": "code",
   "execution_count": 139,
   "id": "bd11f792",
   "metadata": {},
   "outputs": [
    {
     "data": {
      "text/plain": [
       "['                            8.3',\n",
       " '                            9.2',\n",
       " '                            9.3',\n",
       " '                            8.6',\n",
       " '                            8.8',\n",
       " '                            8.9',\n",
       " '                            8.3',\n",
       " '                            8.8',\n",
       " '                            8.4',\n",
       " '                            9',\n",
       " '                            8.8',\n",
       " '                            8.5',\n",
       " '                            8.5',\n",
       " '                            8.7',\n",
       " '                            8.8',\n",
       " '                            8.5',\n",
       " '                            8.4',\n",
       " '                            8.5',\n",
       " '                            8.4',\n",
       " '                            8.3',\n",
       " '                            9',\n",
       " '                            8.6',\n",
       " '                            8.5',\n",
       " '                            8.3',\n",
       " '                            8.5',\n",
       " '                            9',\n",
       " '                            9',\n",
       " '                            8.4',\n",
       " '                            8.5',\n",
       " '                            8.4',\n",
       " '                            8.7',\n",
       " '                            8.5',\n",
       " '                            8.6',\n",
       " '                            8.5',\n",
       " '                            8.8',\n",
       " '                            8.6',\n",
       " '                            8.6',\n",
       " '                            8.6',\n",
       " '                            8.4',\n",
       " '                            8.4',\n",
       " '                            8.4',\n",
       " '                            8.4',\n",
       " '                            8.4',\n",
       " '                            8.5',\n",
       " '                            8.5',\n",
       " '                            8.3',\n",
       " '                            8.6',\n",
       " '                            8.8',\n",
       " '                            9',\n",
       " '                            8.4']"
      ]
     },
     "execution_count": 139,
     "metadata": {},
     "output_type": "execute_result"
    }
   ],
   "source": [
    "rating"
   ]
  },
  {
   "cell_type": "code",
   "execution_count": 140,
   "id": "3d89c54b",
   "metadata": {},
   "outputs": [],
   "source": [
    "year_of_release=[]\n",
    "for i in soup.find_all('span', class_=\"lister-item-year text-muted unbold\"):\n",
    "    year_of_release.append(i.text)"
   ]
  },
  {
   "cell_type": "code",
   "execution_count": 141,
   "id": "69d4cdc9",
   "metadata": {},
   "outputs": [
    {
     "data": {
      "text/plain": [
       "['(2022)',\n",
       " '(1972)',\n",
       " '(1994)',\n",
       " '(2014)',\n",
       " '(2001)',\n",
       " '(1994)',\n",
       " '(1997)',\n",
       " '(1999)',\n",
       " '(2019)',\n",
       " '(2008)',\n",
       " '(2010)',\n",
       " '(2014)',\n",
       " '(1994)',\n",
       " '(1990)',\n",
       " '(1994)',\n",
       " '(2019)',\n",
       " '(1981)',\n",
       " '(2000)',\n",
       " '(I) (2019)',\n",
       " '(2009)',\n",
       " '(2003)',\n",
       " '(1946)',\n",
       " '(1985)',\n",
       " '(2000)',\n",
       " '(2006)',\n",
       " '(1974)',\n",
       " '(1993)',\n",
       " '(2012)',\n",
       " '(1979)',\n",
       " '(1999)',\n",
       " '(1999)',\n",
       " '(2006)',\n",
       " '(1995)',\n",
       " '(1979)',\n",
       " '(2002)',\n",
       " '(1977)',\n",
       " '(1991)',\n",
       " '(1999)',\n",
       " '(1995)',\n",
       " '(2012)',\n",
       " '(2018)',\n",
       " '(1986)',\n",
       " '(2018)',\n",
       " '(1995)',\n",
       " '(1998)',\n",
       " '(2004)',\n",
       " '(1991)',\n",
       " '(1966)',\n",
       " '(1957)',\n",
       " '(1980)']"
      ]
     },
     "execution_count": 141,
     "metadata": {},
     "output_type": "execute_result"
    }
   ],
   "source": [
    "year_of_release"
   ]
  },
  {
   "cell_type": "code",
   "execution_count": 142,
   "id": "c0b517fa",
   "metadata": {},
   "outputs": [],
   "source": [
    "import pandas as pd\n"
   ]
  },
  {
   "cell_type": "code",
   "execution_count": 143,
   "id": "e3aca8b3",
   "metadata": {},
   "outputs": [
    {
     "data": {
      "text/html": [
       "<div>\n",
       "<style scoped>\n",
       "    .dataframe tbody tr th:only-of-type {\n",
       "        vertical-align: middle;\n",
       "    }\n",
       "\n",
       "    .dataframe tbody tr th {\n",
       "        vertical-align: top;\n",
       "    }\n",
       "\n",
       "    .dataframe thead th {\n",
       "        text-align: right;\n",
       "    }\n",
       "</style>\n",
       "<table border=\"1\" class=\"dataframe\">\n",
       "  <thead>\n",
       "    <tr style=\"text-align: right;\">\n",
       "      <th></th>\n",
       "      <th>Name of the Movie</th>\n",
       "      <th>Ratings of the Movie</th>\n",
       "      <th>Year Released</th>\n",
       "    </tr>\n",
       "  </thead>\n",
       "  <tbody>\n",
       "    <tr>\n",
       "      <th>0</th>\n",
       "      <td>Top Gun: Maverick</td>\n",
       "      <td>8.3</td>\n",
       "      <td>(2022)</td>\n",
       "    </tr>\n",
       "    <tr>\n",
       "      <th>1</th>\n",
       "      <td>The Godfather</td>\n",
       "      <td>9.2</td>\n",
       "      <td>(1972)</td>\n",
       "    </tr>\n",
       "    <tr>\n",
       "      <th>2</th>\n",
       "      <td>The Shawshank Redemption</td>\n",
       "      <td>9.3</td>\n",
       "      <td>(1994)</td>\n",
       "    </tr>\n",
       "    <tr>\n",
       "      <th>3</th>\n",
       "      <td>بين النجوم</td>\n",
       "      <td>8.6</td>\n",
       "      <td>(2014)</td>\n",
       "    </tr>\n",
       "    <tr>\n",
       "      <th>4</th>\n",
       "      <td>The Lord of the Rings: The Fellowship of the Ring</td>\n",
       "      <td>8.8</td>\n",
       "      <td>(2001)</td>\n",
       "    </tr>\n",
       "    <tr>\n",
       "      <th>5</th>\n",
       "      <td>Pulp Fiction</td>\n",
       "      <td>8.9</td>\n",
       "      <td>(1994)</td>\n",
       "    </tr>\n",
       "    <tr>\n",
       "      <th>6</th>\n",
       "      <td>Good Will Hunting</td>\n",
       "      <td>8.3</td>\n",
       "      <td>(1997)</td>\n",
       "    </tr>\n",
       "    <tr>\n",
       "      <th>7</th>\n",
       "      <td>Fight Club</td>\n",
       "      <td>8.8</td>\n",
       "      <td>(1999)</td>\n",
       "    </tr>\n",
       "    <tr>\n",
       "      <th>8</th>\n",
       "      <td>Avengers: Endgame</td>\n",
       "      <td>8.4</td>\n",
       "      <td>(2019)</td>\n",
       "    </tr>\n",
       "    <tr>\n",
       "      <th>9</th>\n",
       "      <td>The Dark Knight</td>\n",
       "      <td>9</td>\n",
       "      <td>(2008)</td>\n",
       "    </tr>\n",
       "    <tr>\n",
       "      <th>10</th>\n",
       "      <td>Inception</td>\n",
       "      <td>8.8</td>\n",
       "      <td>(2010)</td>\n",
       "    </tr>\n",
       "    <tr>\n",
       "      <th>11</th>\n",
       "      <td>ويبلاش</td>\n",
       "      <td>8.5</td>\n",
       "      <td>(2014)</td>\n",
       "    </tr>\n",
       "    <tr>\n",
       "      <th>12</th>\n",
       "      <td>Léon</td>\n",
       "      <td>8.5</td>\n",
       "      <td>(1994)</td>\n",
       "    </tr>\n",
       "    <tr>\n",
       "      <th>13</th>\n",
       "      <td>Goodfellas</td>\n",
       "      <td>8.7</td>\n",
       "      <td>(1990)</td>\n",
       "    </tr>\n",
       "    <tr>\n",
       "      <th>14</th>\n",
       "      <td>Forrest Gump</td>\n",
       "      <td>8.8</td>\n",
       "      <td>(1994)</td>\n",
       "    </tr>\n",
       "    <tr>\n",
       "      <th>15</th>\n",
       "      <td>Gisaengchung</td>\n",
       "      <td>8.5</td>\n",
       "      <td>(2019)</td>\n",
       "    </tr>\n",
       "    <tr>\n",
       "      <th>16</th>\n",
       "      <td>Raiders of the Lost Ark</td>\n",
       "      <td>8.4</td>\n",
       "      <td>(1981)</td>\n",
       "    </tr>\n",
       "    <tr>\n",
       "      <th>17</th>\n",
       "      <td>Gladiator</td>\n",
       "      <td>8.5</td>\n",
       "      <td>(2000)</td>\n",
       "    </tr>\n",
       "    <tr>\n",
       "      <th>18</th>\n",
       "      <td>Joker</td>\n",
       "      <td>8.4</td>\n",
       "      <td>(I) (2019)</td>\n",
       "    </tr>\n",
       "    <tr>\n",
       "      <th>19</th>\n",
       "      <td>Inglourious Basterds</td>\n",
       "      <td>8.3</td>\n",
       "      <td>(2009)</td>\n",
       "    </tr>\n",
       "    <tr>\n",
       "      <th>20</th>\n",
       "      <td>The Lord of the Rings: The Return of the King</td>\n",
       "      <td>9</td>\n",
       "      <td>(2003)</td>\n",
       "    </tr>\n",
       "    <tr>\n",
       "      <th>21</th>\n",
       "      <td>It's a Wonderful Life</td>\n",
       "      <td>8.6</td>\n",
       "      <td>(1946)</td>\n",
       "    </tr>\n",
       "    <tr>\n",
       "      <th>22</th>\n",
       "      <td>Back to the Future</td>\n",
       "      <td>8.5</td>\n",
       "      <td>(1985)</td>\n",
       "    </tr>\n",
       "    <tr>\n",
       "      <th>23</th>\n",
       "      <td>Requiem for a Dream</td>\n",
       "      <td>8.3</td>\n",
       "      <td>(2000)</td>\n",
       "    </tr>\n",
       "    <tr>\n",
       "      <th>24</th>\n",
       "      <td>The Prestige</td>\n",
       "      <td>8.5</td>\n",
       "      <td>(2006)</td>\n",
       "    </tr>\n",
       "    <tr>\n",
       "      <th>25</th>\n",
       "      <td>The Godfather: Part II</td>\n",
       "      <td>9</td>\n",
       "      <td>(1974)</td>\n",
       "    </tr>\n",
       "    <tr>\n",
       "      <th>26</th>\n",
       "      <td>Schindler's List</td>\n",
       "      <td>9</td>\n",
       "      <td>(1993)</td>\n",
       "    </tr>\n",
       "    <tr>\n",
       "      <th>27</th>\n",
       "      <td>Django Unchained</td>\n",
       "      <td>8.4</td>\n",
       "      <td>(2012)</td>\n",
       "    </tr>\n",
       "    <tr>\n",
       "      <th>28</th>\n",
       "      <td>Apocalypse Now</td>\n",
       "      <td>8.5</td>\n",
       "      <td>(1979)</td>\n",
       "    </tr>\n",
       "    <tr>\n",
       "      <th>29</th>\n",
       "      <td>American Beauty</td>\n",
       "      <td>8.4</td>\n",
       "      <td>(1999)</td>\n",
       "    </tr>\n",
       "    <tr>\n",
       "      <th>30</th>\n",
       "      <td>The Matrix</td>\n",
       "      <td>8.7</td>\n",
       "      <td>(1999)</td>\n",
       "    </tr>\n",
       "    <tr>\n",
       "      <th>31</th>\n",
       "      <td>The Departed</td>\n",
       "      <td>8.5</td>\n",
       "      <td>(2006)</td>\n",
       "    </tr>\n",
       "    <tr>\n",
       "      <th>32</th>\n",
       "      <td>Se7en</td>\n",
       "      <td>8.6</td>\n",
       "      <td>(1995)</td>\n",
       "    </tr>\n",
       "    <tr>\n",
       "      <th>33</th>\n",
       "      <td>Alien</td>\n",
       "      <td>8.5</td>\n",
       "      <td>(1979)</td>\n",
       "    </tr>\n",
       "    <tr>\n",
       "      <th>34</th>\n",
       "      <td>The Lord of the Rings: The Two Towers</td>\n",
       "      <td>8.8</td>\n",
       "      <td>(2002)</td>\n",
       "    </tr>\n",
       "    <tr>\n",
       "      <th>35</th>\n",
       "      <td>Star Wars</td>\n",
       "      <td>8.6</td>\n",
       "      <td>(1977)</td>\n",
       "    </tr>\n",
       "    <tr>\n",
       "      <th>36</th>\n",
       "      <td>The Silence of the Lambs</td>\n",
       "      <td>8.6</td>\n",
       "      <td>(1991)</td>\n",
       "    </tr>\n",
       "    <tr>\n",
       "      <th>37</th>\n",
       "      <td>The Green Mile</td>\n",
       "      <td>8.6</td>\n",
       "      <td>(1999)</td>\n",
       "    </tr>\n",
       "    <tr>\n",
       "      <th>38</th>\n",
       "      <td>Braveheart</td>\n",
       "      <td>8.4</td>\n",
       "      <td>(1995)</td>\n",
       "    </tr>\n",
       "    <tr>\n",
       "      <th>39</th>\n",
       "      <td>The Dark Knight Rises</td>\n",
       "      <td>8.4</td>\n",
       "      <td>(2012)</td>\n",
       "    </tr>\n",
       "    <tr>\n",
       "      <th>40</th>\n",
       "      <td>Spider-Man: Into the Spider-Verse</td>\n",
       "      <td>8.4</td>\n",
       "      <td>(2018)</td>\n",
       "    </tr>\n",
       "    <tr>\n",
       "      <th>41</th>\n",
       "      <td>Aliens</td>\n",
       "      <td>8.4</td>\n",
       "      <td>(1986)</td>\n",
       "    </tr>\n",
       "    <tr>\n",
       "      <th>42</th>\n",
       "      <td>Avengers: Infinity War</td>\n",
       "      <td>8.4</td>\n",
       "      <td>(2018)</td>\n",
       "    </tr>\n",
       "    <tr>\n",
       "      <th>43</th>\n",
       "      <td>The Usual Suspects</td>\n",
       "      <td>8.5</td>\n",
       "      <td>(1995)</td>\n",
       "    </tr>\n",
       "    <tr>\n",
       "      <th>44</th>\n",
       "      <td>American History X</td>\n",
       "      <td>8.5</td>\n",
       "      <td>(1998)</td>\n",
       "    </tr>\n",
       "    <tr>\n",
       "      <th>45</th>\n",
       "      <td>Eternal Sunshine of the Spotless Mind</td>\n",
       "      <td>8.3</td>\n",
       "      <td>(2004)</td>\n",
       "    </tr>\n",
       "    <tr>\n",
       "      <th>46</th>\n",
       "      <td>Terminator 2: Judgment Day</td>\n",
       "      <td>8.6</td>\n",
       "      <td>(1991)</td>\n",
       "    </tr>\n",
       "    <tr>\n",
       "      <th>47</th>\n",
       "      <td>Il buono, il brutto, il cattivo</td>\n",
       "      <td>8.8</td>\n",
       "      <td>(1966)</td>\n",
       "    </tr>\n",
       "    <tr>\n",
       "      <th>48</th>\n",
       "      <td>12 Angry Men</td>\n",
       "      <td>9</td>\n",
       "      <td>(1957)</td>\n",
       "    </tr>\n",
       "    <tr>\n",
       "      <th>49</th>\n",
       "      <td>The Shining</td>\n",
       "      <td>8.4</td>\n",
       "      <td>(1980)</td>\n",
       "    </tr>\n",
       "  </tbody>\n",
       "</table>\n",
       "</div>"
      ],
      "text/plain": [
       "                                    Name of the Movie  \\\n",
       "0                                   Top Gun: Maverick   \n",
       "1                                       The Godfather   \n",
       "2                            The Shawshank Redemption   \n",
       "3                                          بين النجوم   \n",
       "4   The Lord of the Rings: The Fellowship of the Ring   \n",
       "5                                        Pulp Fiction   \n",
       "6                                   Good Will Hunting   \n",
       "7                                          Fight Club   \n",
       "8                                   Avengers: Endgame   \n",
       "9                                     The Dark Knight   \n",
       "10                                          Inception   \n",
       "11                                             ويبلاش   \n",
       "12                                               Léon   \n",
       "13                                         Goodfellas   \n",
       "14                                       Forrest Gump   \n",
       "15                                       Gisaengchung   \n",
       "16                            Raiders of the Lost Ark   \n",
       "17                                          Gladiator   \n",
       "18                                              Joker   \n",
       "19                               Inglourious Basterds   \n",
       "20      The Lord of the Rings: The Return of the King   \n",
       "21                              It's a Wonderful Life   \n",
       "22                                 Back to the Future   \n",
       "23                                Requiem for a Dream   \n",
       "24                                       The Prestige   \n",
       "25                             The Godfather: Part II   \n",
       "26                                   Schindler's List   \n",
       "27                                   Django Unchained   \n",
       "28                                     Apocalypse Now   \n",
       "29                                    American Beauty   \n",
       "30                                         The Matrix   \n",
       "31                                       The Departed   \n",
       "32                                              Se7en   \n",
       "33                                              Alien   \n",
       "34              The Lord of the Rings: The Two Towers   \n",
       "35                                          Star Wars   \n",
       "36                           The Silence of the Lambs   \n",
       "37                                     The Green Mile   \n",
       "38                                         Braveheart   \n",
       "39                              The Dark Knight Rises   \n",
       "40                  Spider-Man: Into the Spider-Verse   \n",
       "41                                             Aliens   \n",
       "42                             Avengers: Infinity War   \n",
       "43                                 The Usual Suspects   \n",
       "44                                 American History X   \n",
       "45              Eternal Sunshine of the Spotless Mind   \n",
       "46                         Terminator 2: Judgment Day   \n",
       "47                    Il buono, il brutto, il cattivo   \n",
       "48                                       12 Angry Men   \n",
       "49                                        The Shining   \n",
       "\n",
       "               Ratings of the Movie Year Released  \n",
       "0                               8.3        (2022)  \n",
       "1                               9.2        (1972)  \n",
       "2                               9.3        (1994)  \n",
       "3                               8.6        (2014)  \n",
       "4                               8.8        (2001)  \n",
       "5                               8.9        (1994)  \n",
       "6                               8.3        (1997)  \n",
       "7                               8.8        (1999)  \n",
       "8                               8.4        (2019)  \n",
       "9                                 9        (2008)  \n",
       "10                              8.8        (2010)  \n",
       "11                              8.5        (2014)  \n",
       "12                              8.5        (1994)  \n",
       "13                              8.7        (1990)  \n",
       "14                              8.8        (1994)  \n",
       "15                              8.5        (2019)  \n",
       "16                              8.4        (1981)  \n",
       "17                              8.5        (2000)  \n",
       "18                              8.4    (I) (2019)  \n",
       "19                              8.3        (2009)  \n",
       "20                                9        (2003)  \n",
       "21                              8.6        (1946)  \n",
       "22                              8.5        (1985)  \n",
       "23                              8.3        (2000)  \n",
       "24                              8.5        (2006)  \n",
       "25                                9        (1974)  \n",
       "26                                9        (1993)  \n",
       "27                              8.4        (2012)  \n",
       "28                              8.5        (1979)  \n",
       "29                              8.4        (1999)  \n",
       "30                              8.7        (1999)  \n",
       "31                              8.5        (2006)  \n",
       "32                              8.6        (1995)  \n",
       "33                              8.5        (1979)  \n",
       "34                              8.8        (2002)  \n",
       "35                              8.6        (1977)  \n",
       "36                              8.6        (1991)  \n",
       "37                              8.6        (1999)  \n",
       "38                              8.4        (1995)  \n",
       "39                              8.4        (2012)  \n",
       "40                              8.4        (2018)  \n",
       "41                              8.4        (1986)  \n",
       "42                              8.4        (2018)  \n",
       "43                              8.5        (1995)  \n",
       "44                              8.5        (1998)  \n",
       "45                              8.3        (2004)  \n",
       "46                              8.6        (1991)  \n",
       "47                              8.8        (1966)  \n",
       "48                                9        (1957)  \n",
       "49                              8.4        (1980)  "
      ]
     },
     "execution_count": 143,
     "metadata": {},
     "output_type": "execute_result"
    }
   ],
   "source": [
    "#2.Write a python program to display IMDB’s Top rated 100 movies’ data (i.e. name, rating, year of release)\n",
    "df=pd.DataFrame({'Name of the Movie':Name,'Ratings of the Movie':rating,'Year Released':year_of_release})\n",
    "df"
   ]
  },
  {
   "cell_type": "code",
   "execution_count": 144,
   "id": "3107309d",
   "metadata": {},
   "outputs": [
    {
     "data": {
      "text/plain": [
       "<Response [200]>"
      ]
     },
     "execution_count": 144,
     "metadata": {},
     "output_type": "execute_result"
    }
   ],
   "source": [
    "page='https://www.imdb.com/search/title/?groups=top_1000&countries=in&languages=hi&sort=user_rating,desc'\n",
    "url=requests.get(page)\n",
    "url"
   ]
  },
  {
   "cell_type": "code",
   "execution_count": 150,
   "id": "a25be542",
   "metadata": {},
   "outputs": [
    {
     "data": {
      "text/plain": [
       "bs4.BeautifulSoup"
      ]
     },
     "execution_count": 150,
     "metadata": {},
     "output_type": "execute_result"
    }
   ],
   "source": [
    "soup=BeautifulSoup(url.text,'html.parser')\n",
    "type(soup)\n",
    "        "
   ]
  },
  {
   "cell_type": "code",
   "execution_count": 157,
   "id": "4a985c32",
   "metadata": {},
   "outputs": [],
   "source": [
    "TitleName=[]\n",
    "for i in soup.find_all('h3', class_=\"lister-item-header\"):\n",
    "    TitleName.append(i.text.split('\\n')[2])\n",
    "        "
   ]
  },
  {
   "cell_type": "code",
   "execution_count": 158,
   "id": "669f87b3",
   "metadata": {},
   "outputs": [
    {
     "data": {
      "text/plain": [
       "['Jai Bhim',\n",
       " 'Rocketry: The Nambi Effect',\n",
       " 'Soorarai Pottru',\n",
       " 'Kaithi',\n",
       " '3 Idiots',\n",
       " 'Sardar Udham',\n",
       " 'Shershaah',\n",
       " 'Dangal',\n",
       " 'K.G.F: Chapter 2',\n",
       " 'Vikram',\n",
       " 'Taare Zameen Par',\n",
       " 'Vikram Vedha',\n",
       " 'Chhichhore',\n",
       " 'Drishyam',\n",
       " 'Tumbbad',\n",
       " 'Baahubali 2: The Conclusion',\n",
       " 'Gangs of Wasseypur',\n",
       " 'اللحن الأعمى',\n",
       " 'K.G.F: Chapter 1',\n",
       " 'Zindagi Na Milegi Dobara',\n",
       " 'Swades: We, the People',\n",
       " 'Uri: The Surgical Strike',\n",
       " 'Bhaag Milkha Bhaag',\n",
       " 'Paan Singh Tomar',\n",
       " 'PK',\n",
       " 'Bajrangi Bhaijaan',\n",
       " 'Lagaan: Once Upon a Time in India',\n",
       " 'Munna Bhai M.B.B.S.',\n",
       " 'رغبات القلب',\n",
       " 'Barfi!',\n",
       " 'Pink',\n",
       " 'Masaan',\n",
       " 'Talvar',\n",
       " 'Article 15',\n",
       " 'Sholay',\n",
       " 'Queen',\n",
       " 'Rang De Basanti',\n",
       " 'Chak De! India',\n",
       " 'A Wednesday',\n",
       " 'Hera Pheri',\n",
       " 'قضية ضدّ القدر',\n",
       " 'Black',\n",
       " 'قصّة منسيّة',\n",
       " 'Udaan',\n",
       " 'Sarfarosh',\n",
       " 'Anand',\n",
       " 'Lion',\n",
       " 'Gandhi',\n",
       " 'Dilwale Dulhania Le Jayenge',\n",
       " 'Haider']"
      ]
     },
     "execution_count": 158,
     "metadata": {},
     "output_type": "execute_result"
    }
   ],
   "source": [
    "TitleName"
   ]
  },
  {
   "cell_type": "code",
   "execution_count": 166,
   "id": "88934eb3",
   "metadata": {},
   "outputs": [],
   "source": [
    "rating=[]\n",
    "for i in soup.find_all('div', class_=\"inline-block ratings-imdb-rating\"):\n",
    "    rating.append(i.text.split('\\n')[2])\n",
    "        "
   ]
  },
  {
   "cell_type": "code",
   "execution_count": 167,
   "id": "3ffb9248",
   "metadata": {},
   "outputs": [
    {
     "data": {
      "text/plain": [
       "['8.8',\n",
       " '8.8',\n",
       " '8.7',\n",
       " '8.5',\n",
       " '8.4',\n",
       " '8.4',\n",
       " '8.4',\n",
       " '8.3',\n",
       " '8.3',\n",
       " '8.3',\n",
       " '8.3',\n",
       " '8.3',\n",
       " '8.3',\n",
       " '8.2',\n",
       " '8.2',\n",
       " '8.2',\n",
       " '8.2',\n",
       " '8.2',\n",
       " '8.2',\n",
       " '8.2',\n",
       " '8.2',\n",
       " '8.2',\n",
       " '8.2',\n",
       " '8.2',\n",
       " '8.1',\n",
       " '8.1',\n",
       " '8.1',\n",
       " '8.1',\n",
       " '8.1',\n",
       " '8.1',\n",
       " '8.1',\n",
       " '8.1',\n",
       " '8.1',\n",
       " '8.1',\n",
       " '8.1',\n",
       " '8.1',\n",
       " '8.1',\n",
       " '8.1',\n",
       " '8.1',\n",
       " '8.1',\n",
       " '8.1',\n",
       " '8.1',\n",
       " '8.1',\n",
       " '8.1',\n",
       " '8.1',\n",
       " '8.1',\n",
       " '8.0',\n",
       " '8.0',\n",
       " '8.0',\n",
       " '8.0']"
      ]
     },
     "execution_count": 167,
     "metadata": {},
     "output_type": "execute_result"
    }
   ],
   "source": [
    "rating"
   ]
  },
  {
   "cell_type": "code",
   "execution_count": 168,
   "id": "b32cb5b1",
   "metadata": {},
   "outputs": [],
   "source": [
    "Release_date=[]\n",
    "for i in soup.find_all('span', class_=\"lister-item-year text-muted unbold\"):\n",
    "    Release_date.append(i.text)"
   ]
  },
  {
   "cell_type": "code",
   "execution_count": 169,
   "id": "7bcbd761",
   "metadata": {},
   "outputs": [
    {
     "data": {
      "text/plain": [
       "['(2021)',\n",
       " '(2022)',\n",
       " '(2020)',\n",
       " '(2019)',\n",
       " '(2009)',\n",
       " '(2021)',\n",
       " '(2021)',\n",
       " '(2016)',\n",
       " '(2022)',\n",
       " '(2022)',\n",
       " '(2007)',\n",
       " '(2017)',\n",
       " '(2019)',\n",
       " '(2015)',\n",
       " '(2018)',\n",
       " '(2017)',\n",
       " '(2012)',\n",
       " '(2018)',\n",
       " '(2018)',\n",
       " '(2011)',\n",
       " '(2004)',\n",
       " '(2019)',\n",
       " '(2013)',\n",
       " '(2012)',\n",
       " '(2014)',\n",
       " '(2015)',\n",
       " '(2001)',\n",
       " '(2003)',\n",
       " '(2001)',\n",
       " '(2012)',\n",
       " '(III) (2016)',\n",
       " '(2015)',\n",
       " '(2015)',\n",
       " '(2019)',\n",
       " '(1975)',\n",
       " '(2013)',\n",
       " '(2006)',\n",
       " '(2007)',\n",
       " '(2008)',\n",
       " '(2000)',\n",
       " '(2012)',\n",
       " '(2005)',\n",
       " '(2012)',\n",
       " '(2010)',\n",
       " '(1999)',\n",
       " '(1971)',\n",
       " '(2016)',\n",
       " '(1982)',\n",
       " '(1995)',\n",
       " '(2014)']"
      ]
     },
     "execution_count": 169,
     "metadata": {},
     "output_type": "execute_result"
    }
   ],
   "source": [
    "Release_date"
   ]
  },
  {
   "cell_type": "code",
   "execution_count": 174,
   "id": "3e50be18",
   "metadata": {},
   "outputs": [
    {
     "data": {
      "text/html": [
       "<div>\n",
       "<style scoped>\n",
       "    .dataframe tbody tr th:only-of-type {\n",
       "        vertical-align: middle;\n",
       "    }\n",
       "\n",
       "    .dataframe tbody tr th {\n",
       "        vertical-align: top;\n",
       "    }\n",
       "\n",
       "    .dataframe thead th {\n",
       "        text-align: right;\n",
       "    }\n",
       "</style>\n",
       "<table border=\"1\" class=\"dataframe\">\n",
       "  <thead>\n",
       "    <tr style=\"text-align: right;\">\n",
       "      <th></th>\n",
       "      <th>NameoftheIndianMovie</th>\n",
       "      <th>Ratings</th>\n",
       "      <th>Date_of_Release</th>\n",
       "    </tr>\n",
       "  </thead>\n",
       "  <tbody>\n",
       "    <tr>\n",
       "      <th>0</th>\n",
       "      <td>Jai Bhim</td>\n",
       "      <td>8.8</td>\n",
       "      <td>(2021)</td>\n",
       "    </tr>\n",
       "    <tr>\n",
       "      <th>1</th>\n",
       "      <td>Rocketry: The Nambi Effect</td>\n",
       "      <td>8.8</td>\n",
       "      <td>(2022)</td>\n",
       "    </tr>\n",
       "    <tr>\n",
       "      <th>2</th>\n",
       "      <td>Soorarai Pottru</td>\n",
       "      <td>8.7</td>\n",
       "      <td>(2020)</td>\n",
       "    </tr>\n",
       "    <tr>\n",
       "      <th>3</th>\n",
       "      <td>Kaithi</td>\n",
       "      <td>8.5</td>\n",
       "      <td>(2019)</td>\n",
       "    </tr>\n",
       "    <tr>\n",
       "      <th>4</th>\n",
       "      <td>3 Idiots</td>\n",
       "      <td>8.4</td>\n",
       "      <td>(2009)</td>\n",
       "    </tr>\n",
       "    <tr>\n",
       "      <th>5</th>\n",
       "      <td>Sardar Udham</td>\n",
       "      <td>8.4</td>\n",
       "      <td>(2021)</td>\n",
       "    </tr>\n",
       "    <tr>\n",
       "      <th>6</th>\n",
       "      <td>Shershaah</td>\n",
       "      <td>8.4</td>\n",
       "      <td>(2021)</td>\n",
       "    </tr>\n",
       "    <tr>\n",
       "      <th>7</th>\n",
       "      <td>Dangal</td>\n",
       "      <td>8.3</td>\n",
       "      <td>(2016)</td>\n",
       "    </tr>\n",
       "    <tr>\n",
       "      <th>8</th>\n",
       "      <td>K.G.F: Chapter 2</td>\n",
       "      <td>8.3</td>\n",
       "      <td>(2022)</td>\n",
       "    </tr>\n",
       "    <tr>\n",
       "      <th>9</th>\n",
       "      <td>Vikram</td>\n",
       "      <td>8.3</td>\n",
       "      <td>(2022)</td>\n",
       "    </tr>\n",
       "    <tr>\n",
       "      <th>10</th>\n",
       "      <td>Taare Zameen Par</td>\n",
       "      <td>8.3</td>\n",
       "      <td>(2007)</td>\n",
       "    </tr>\n",
       "    <tr>\n",
       "      <th>11</th>\n",
       "      <td>Vikram Vedha</td>\n",
       "      <td>8.3</td>\n",
       "      <td>(2017)</td>\n",
       "    </tr>\n",
       "    <tr>\n",
       "      <th>12</th>\n",
       "      <td>Chhichhore</td>\n",
       "      <td>8.3</td>\n",
       "      <td>(2019)</td>\n",
       "    </tr>\n",
       "    <tr>\n",
       "      <th>13</th>\n",
       "      <td>Drishyam</td>\n",
       "      <td>8.2</td>\n",
       "      <td>(2015)</td>\n",
       "    </tr>\n",
       "    <tr>\n",
       "      <th>14</th>\n",
       "      <td>Tumbbad</td>\n",
       "      <td>8.2</td>\n",
       "      <td>(2018)</td>\n",
       "    </tr>\n",
       "    <tr>\n",
       "      <th>15</th>\n",
       "      <td>Baahubali 2: The Conclusion</td>\n",
       "      <td>8.2</td>\n",
       "      <td>(2017)</td>\n",
       "    </tr>\n",
       "    <tr>\n",
       "      <th>16</th>\n",
       "      <td>Gangs of Wasseypur</td>\n",
       "      <td>8.2</td>\n",
       "      <td>(2012)</td>\n",
       "    </tr>\n",
       "    <tr>\n",
       "      <th>17</th>\n",
       "      <td>اللحن الأعمى</td>\n",
       "      <td>8.2</td>\n",
       "      <td>(2018)</td>\n",
       "    </tr>\n",
       "    <tr>\n",
       "      <th>18</th>\n",
       "      <td>K.G.F: Chapter 1</td>\n",
       "      <td>8.2</td>\n",
       "      <td>(2018)</td>\n",
       "    </tr>\n",
       "    <tr>\n",
       "      <th>19</th>\n",
       "      <td>Zindagi Na Milegi Dobara</td>\n",
       "      <td>8.2</td>\n",
       "      <td>(2011)</td>\n",
       "    </tr>\n",
       "    <tr>\n",
       "      <th>20</th>\n",
       "      <td>Swades: We, the People</td>\n",
       "      <td>8.2</td>\n",
       "      <td>(2004)</td>\n",
       "    </tr>\n",
       "    <tr>\n",
       "      <th>21</th>\n",
       "      <td>Uri: The Surgical Strike</td>\n",
       "      <td>8.2</td>\n",
       "      <td>(2019)</td>\n",
       "    </tr>\n",
       "    <tr>\n",
       "      <th>22</th>\n",
       "      <td>Bhaag Milkha Bhaag</td>\n",
       "      <td>8.2</td>\n",
       "      <td>(2013)</td>\n",
       "    </tr>\n",
       "    <tr>\n",
       "      <th>23</th>\n",
       "      <td>Paan Singh Tomar</td>\n",
       "      <td>8.2</td>\n",
       "      <td>(2012)</td>\n",
       "    </tr>\n",
       "    <tr>\n",
       "      <th>24</th>\n",
       "      <td>PK</td>\n",
       "      <td>8.1</td>\n",
       "      <td>(2014)</td>\n",
       "    </tr>\n",
       "    <tr>\n",
       "      <th>25</th>\n",
       "      <td>Bajrangi Bhaijaan</td>\n",
       "      <td>8.1</td>\n",
       "      <td>(2015)</td>\n",
       "    </tr>\n",
       "    <tr>\n",
       "      <th>26</th>\n",
       "      <td>Lagaan: Once Upon a Time in India</td>\n",
       "      <td>8.1</td>\n",
       "      <td>(2001)</td>\n",
       "    </tr>\n",
       "    <tr>\n",
       "      <th>27</th>\n",
       "      <td>Munna Bhai M.B.B.S.</td>\n",
       "      <td>8.1</td>\n",
       "      <td>(2003)</td>\n",
       "    </tr>\n",
       "    <tr>\n",
       "      <th>28</th>\n",
       "      <td>رغبات القلب</td>\n",
       "      <td>8.1</td>\n",
       "      <td>(2001)</td>\n",
       "    </tr>\n",
       "    <tr>\n",
       "      <th>29</th>\n",
       "      <td>Barfi!</td>\n",
       "      <td>8.1</td>\n",
       "      <td>(2012)</td>\n",
       "    </tr>\n",
       "    <tr>\n",
       "      <th>30</th>\n",
       "      <td>Pink</td>\n",
       "      <td>8.1</td>\n",
       "      <td>(III) (2016)</td>\n",
       "    </tr>\n",
       "    <tr>\n",
       "      <th>31</th>\n",
       "      <td>Masaan</td>\n",
       "      <td>8.1</td>\n",
       "      <td>(2015)</td>\n",
       "    </tr>\n",
       "    <tr>\n",
       "      <th>32</th>\n",
       "      <td>Talvar</td>\n",
       "      <td>8.1</td>\n",
       "      <td>(2015)</td>\n",
       "    </tr>\n",
       "    <tr>\n",
       "      <th>33</th>\n",
       "      <td>Article 15</td>\n",
       "      <td>8.1</td>\n",
       "      <td>(2019)</td>\n",
       "    </tr>\n",
       "    <tr>\n",
       "      <th>34</th>\n",
       "      <td>Sholay</td>\n",
       "      <td>8.1</td>\n",
       "      <td>(1975)</td>\n",
       "    </tr>\n",
       "    <tr>\n",
       "      <th>35</th>\n",
       "      <td>Queen</td>\n",
       "      <td>8.1</td>\n",
       "      <td>(2013)</td>\n",
       "    </tr>\n",
       "    <tr>\n",
       "      <th>36</th>\n",
       "      <td>Rang De Basanti</td>\n",
       "      <td>8.1</td>\n",
       "      <td>(2006)</td>\n",
       "    </tr>\n",
       "    <tr>\n",
       "      <th>37</th>\n",
       "      <td>Chak De! India</td>\n",
       "      <td>8.1</td>\n",
       "      <td>(2007)</td>\n",
       "    </tr>\n",
       "    <tr>\n",
       "      <th>38</th>\n",
       "      <td>A Wednesday</td>\n",
       "      <td>8.1</td>\n",
       "      <td>(2008)</td>\n",
       "    </tr>\n",
       "    <tr>\n",
       "      <th>39</th>\n",
       "      <td>Hera Pheri</td>\n",
       "      <td>8.1</td>\n",
       "      <td>(2000)</td>\n",
       "    </tr>\n",
       "    <tr>\n",
       "      <th>40</th>\n",
       "      <td>قضية ضدّ القدر</td>\n",
       "      <td>8.1</td>\n",
       "      <td>(2012)</td>\n",
       "    </tr>\n",
       "    <tr>\n",
       "      <th>41</th>\n",
       "      <td>Black</td>\n",
       "      <td>8.1</td>\n",
       "      <td>(2005)</td>\n",
       "    </tr>\n",
       "    <tr>\n",
       "      <th>42</th>\n",
       "      <td>قصّة منسيّة</td>\n",
       "      <td>8.1</td>\n",
       "      <td>(2012)</td>\n",
       "    </tr>\n",
       "    <tr>\n",
       "      <th>43</th>\n",
       "      <td>Udaan</td>\n",
       "      <td>8.1</td>\n",
       "      <td>(2010)</td>\n",
       "    </tr>\n",
       "    <tr>\n",
       "      <th>44</th>\n",
       "      <td>Sarfarosh</td>\n",
       "      <td>8.1</td>\n",
       "      <td>(1999)</td>\n",
       "    </tr>\n",
       "    <tr>\n",
       "      <th>45</th>\n",
       "      <td>Anand</td>\n",
       "      <td>8.1</td>\n",
       "      <td>(1971)</td>\n",
       "    </tr>\n",
       "    <tr>\n",
       "      <th>46</th>\n",
       "      <td>Lion</td>\n",
       "      <td>8.0</td>\n",
       "      <td>(2016)</td>\n",
       "    </tr>\n",
       "    <tr>\n",
       "      <th>47</th>\n",
       "      <td>Gandhi</td>\n",
       "      <td>8.0</td>\n",
       "      <td>(1982)</td>\n",
       "    </tr>\n",
       "    <tr>\n",
       "      <th>48</th>\n",
       "      <td>Dilwale Dulhania Le Jayenge</td>\n",
       "      <td>8.0</td>\n",
       "      <td>(1995)</td>\n",
       "    </tr>\n",
       "    <tr>\n",
       "      <th>49</th>\n",
       "      <td>Haider</td>\n",
       "      <td>8.0</td>\n",
       "      <td>(2014)</td>\n",
       "    </tr>\n",
       "  </tbody>\n",
       "</table>\n",
       "</div>"
      ],
      "text/plain": [
       "                 NameoftheIndianMovie Ratings Date_of_Release\n",
       "0                            Jai Bhim     8.8          (2021)\n",
       "1          Rocketry: The Nambi Effect     8.8          (2022)\n",
       "2                     Soorarai Pottru     8.7          (2020)\n",
       "3                              Kaithi     8.5          (2019)\n",
       "4                            3 Idiots     8.4          (2009)\n",
       "5                        Sardar Udham     8.4          (2021)\n",
       "6                           Shershaah     8.4          (2021)\n",
       "7                              Dangal     8.3          (2016)\n",
       "8                    K.G.F: Chapter 2     8.3          (2022)\n",
       "9                              Vikram     8.3          (2022)\n",
       "10                   Taare Zameen Par     8.3          (2007)\n",
       "11                       Vikram Vedha     8.3          (2017)\n",
       "12                         Chhichhore     8.3          (2019)\n",
       "13                           Drishyam     8.2          (2015)\n",
       "14                            Tumbbad     8.2          (2018)\n",
       "15        Baahubali 2: The Conclusion     8.2          (2017)\n",
       "16                 Gangs of Wasseypur     8.2          (2012)\n",
       "17                       اللحن الأعمى     8.2          (2018)\n",
       "18                   K.G.F: Chapter 1     8.2          (2018)\n",
       "19           Zindagi Na Milegi Dobara     8.2          (2011)\n",
       "20             Swades: We, the People     8.2          (2004)\n",
       "21           Uri: The Surgical Strike     8.2          (2019)\n",
       "22                 Bhaag Milkha Bhaag     8.2          (2013)\n",
       "23                   Paan Singh Tomar     8.2          (2012)\n",
       "24                                 PK     8.1          (2014)\n",
       "25                  Bajrangi Bhaijaan     8.1          (2015)\n",
       "26  Lagaan: Once Upon a Time in India     8.1          (2001)\n",
       "27                Munna Bhai M.B.B.S.     8.1          (2003)\n",
       "28                        رغبات القلب     8.1          (2001)\n",
       "29                             Barfi!     8.1          (2012)\n",
       "30                               Pink     8.1    (III) (2016)\n",
       "31                             Masaan     8.1          (2015)\n",
       "32                             Talvar     8.1          (2015)\n",
       "33                         Article 15     8.1          (2019)\n",
       "34                             Sholay     8.1          (1975)\n",
       "35                              Queen     8.1          (2013)\n",
       "36                    Rang De Basanti     8.1          (2006)\n",
       "37                     Chak De! India     8.1          (2007)\n",
       "38                        A Wednesday     8.1          (2008)\n",
       "39                         Hera Pheri     8.1          (2000)\n",
       "40                     قضية ضدّ القدر     8.1          (2012)\n",
       "41                              Black     8.1          (2005)\n",
       "42                        قصّة منسيّة     8.1          (2012)\n",
       "43                              Udaan     8.1          (2010)\n",
       "44                          Sarfarosh     8.1          (1999)\n",
       "45                              Anand     8.1          (1971)\n",
       "46                               Lion     8.0          (2016)\n",
       "47                             Gandhi     8.0          (1982)\n",
       "48        Dilwale Dulhania Le Jayenge     8.0          (1995)\n",
       "49                             Haider     8.0          (2014)"
      ]
     },
     "execution_count": 174,
     "metadata": {},
     "output_type": "execute_result"
    }
   ],
   "source": [
    "#3.Write a python program to display IMDB’s Top rated 100 Indian movies’ data (i.e. name, rating, year of Release,make DataFrame)\n",
    "df=pd.DataFrame({'NameoftheIndianMovie':TitleName,'Ratings':rating,'Date_of_Release':Release_date})\n",
    "df "
   ]
  },
  {
   "cell_type": "code",
   "execution_count": 175,
   "id": "8c5a5b57",
   "metadata": {},
   "outputs": [
    {
     "data": {
      "text/plain": [
       "<Response [200]>"
      ]
     },
     "execution_count": 175,
     "metadata": {},
     "output_type": "execute_result"
    }
   ],
   "source": [
    "page='https://presidentofindia.nic.in/former-presidents.htm'\n",
    "url=requests.get(page)\n",
    "url"
   ]
  },
  {
   "cell_type": "code",
   "execution_count": 177,
   "id": "9f1c4522",
   "metadata": {},
   "outputs": [
    {
     "data": {
      "text/plain": [
       "bs4.BeautifulSoup"
      ]
     },
     "execution_count": 177,
     "metadata": {},
     "output_type": "execute_result"
    }
   ],
   "source": [
    "soup=BeautifulSoup(url.content)\n",
    "type(soup)"
   ]
  },
  {
   "cell_type": "code",
   "execution_count": 191,
   "id": "deeb78f3",
   "metadata": {},
   "outputs": [],
   "source": [
    "Name=[]\n",
    "Terms_of_office=[]\n",
    "for i in soup.find_all('div', class_=\"presidentListing\"):\n",
    "    Name.append(i.text.split('\\n')[1])\n",
    "    Terms_of_office.append(i.text.split('\\n')[2])\n",
    "\n"
   ]
  },
  {
   "cell_type": "code",
   "execution_count": 190,
   "id": "c59b8d05",
   "metadata": {},
   "outputs": [
    {
     "data": {
      "text/plain": [
       "['Term of Office: 25 July, 2017 to 25 July, 2022 ',\n",
       " 'Term of Office: 25 July, 2012 to 25 July, 2017 ',\n",
       " 'Term of Office: 25 July, 2007 to 25 July, 2012 ',\n",
       " 'Term of Office: 25 July, 2002 to 25 July, 2007 ',\n",
       " 'Term of Office: 25 July, 1997 to 25 July, 2002 ',\n",
       " 'Term of Office: 25 July, 1992 to 25 July, 1997 ',\n",
       " 'Term of Office: 25 July, 1987 to 25 July, 1992 ',\n",
       " 'Term of Office: 25 July, 1982 to 25 July, 1987 ',\n",
       " 'Term of Office: 25 July, 1977 to 25 July, 1982 ',\n",
       " 'Term of Office: 24 August, 1974 to 11 February, 1977',\n",
       " 'Term of Office: 3 May, 1969 to 20 July, 1969 and 24 August, 1969 to 24 August, 1974',\n",
       " 'Term of Office: 13 May, 1967 to 3 May, 1969',\n",
       " 'Term of Office: 13 May, 1962 to 13 May, 1967',\n",
       " 'Term of Office: 26 January, 1950 to 13 May, 1962']"
      ]
     },
     "execution_count": 190,
     "metadata": {},
     "output_type": "execute_result"
    }
   ],
   "source": [
    "\n",
    "Terms_of_office"
   ]
  },
  {
   "cell_type": "code",
   "execution_count": 192,
   "id": "60d935bc",
   "metadata": {},
   "outputs": [
    {
     "data": {
      "text/plain": [
       "['Shri Ram Nath Kovind (birth - 1945)',\n",
       " 'Shri Pranab Mukherjee (1935-2020)',\n",
       " 'Smt Pratibha Devisingh Patil (birth - 1934)',\n",
       " 'DR. A.P.J. Abdul Kalam (1931-2015)',\n",
       " 'Shri K. R. Narayanan (1920 - 2005)',\n",
       " 'Dr Shankar Dayal Sharma (1918-1999)',\n",
       " 'Shri R Venkataraman (1910-2009)',\n",
       " 'Giani Zail Singh (1916-1994)',\n",
       " 'Shri Neelam Sanjiva Reddy (1913-1996)',\n",
       " 'Dr. Fakhruddin Ali Ahmed (1905-1977)',\n",
       " 'Shri Varahagiri Venkata Giri (1894-1980)',\n",
       " 'Dr. Zakir Husain (1897-1969)',\n",
       " 'Dr. Sarvepalli Radhakrishnan (1888-1975)',\n",
       " 'Dr. Rajendra Prasad (1884-1963) ']"
      ]
     },
     "execution_count": 192,
     "metadata": {},
     "output_type": "execute_result"
    }
   ],
   "source": [
    "Name"
   ]
  },
  {
   "cell_type": "code",
   "execution_count": 193,
   "id": "bbaa3984",
   "metadata": {},
   "outputs": [
    {
     "name": "stdout",
     "output_type": "stream",
     "text": [
      "14 14\n"
     ]
    }
   ],
   "source": [
    "print(len(Name),len(Terms_of_office))"
   ]
  },
  {
   "cell_type": "code",
   "execution_count": 196,
   "id": "f1d5701d",
   "metadata": {},
   "outputs": [
    {
     "data": {
      "text/html": [
       "<div>\n",
       "<style scoped>\n",
       "    .dataframe tbody tr th:only-of-type {\n",
       "        vertical-align: middle;\n",
       "    }\n",
       "\n",
       "    .dataframe tbody tr th {\n",
       "        vertical-align: top;\n",
       "    }\n",
       "\n",
       "    .dataframe thead th {\n",
       "        text-align: right;\n",
       "    }\n",
       "</style>\n",
       "<table border=\"1\" class=\"dataframe\">\n",
       "  <thead>\n",
       "    <tr style=\"text-align: right;\">\n",
       "      <th></th>\n",
       "      <th>PresidentName</th>\n",
       "      <th>Termsofoffice</th>\n",
       "    </tr>\n",
       "  </thead>\n",
       "  <tbody>\n",
       "    <tr>\n",
       "      <th>0</th>\n",
       "      <td>Shri Ram Nath Kovind (birth - 1945)</td>\n",
       "      <td>Term of Office: 25 July, 2017 to 25 July, 2022</td>\n",
       "    </tr>\n",
       "    <tr>\n",
       "      <th>1</th>\n",
       "      <td>Shri Pranab Mukherjee (1935-2020)</td>\n",
       "      <td>Term of Office: 25 July, 2012 to 25 July, 2017</td>\n",
       "    </tr>\n",
       "    <tr>\n",
       "      <th>2</th>\n",
       "      <td>Smt Pratibha Devisingh Patil (birth - 1934)</td>\n",
       "      <td>Term of Office: 25 July, 2007 to 25 July, 2012</td>\n",
       "    </tr>\n",
       "    <tr>\n",
       "      <th>3</th>\n",
       "      <td>DR. A.P.J. Abdul Kalam (1931-2015)</td>\n",
       "      <td>Term of Office: 25 July, 2002 to 25 July, 2007</td>\n",
       "    </tr>\n",
       "    <tr>\n",
       "      <th>4</th>\n",
       "      <td>Shri K. R. Narayanan (1920 - 2005)</td>\n",
       "      <td>Term of Office: 25 July, 1997 to 25 July, 2002</td>\n",
       "    </tr>\n",
       "    <tr>\n",
       "      <th>5</th>\n",
       "      <td>Dr Shankar Dayal Sharma (1918-1999)</td>\n",
       "      <td>Term of Office: 25 July, 1992 to 25 July, 1997</td>\n",
       "    </tr>\n",
       "    <tr>\n",
       "      <th>6</th>\n",
       "      <td>Shri R Venkataraman (1910-2009)</td>\n",
       "      <td>Term of Office: 25 July, 1987 to 25 July, 1992</td>\n",
       "    </tr>\n",
       "    <tr>\n",
       "      <th>7</th>\n",
       "      <td>Giani Zail Singh (1916-1994)</td>\n",
       "      <td>Term of Office: 25 July, 1982 to 25 July, 1987</td>\n",
       "    </tr>\n",
       "    <tr>\n",
       "      <th>8</th>\n",
       "      <td>Shri Neelam Sanjiva Reddy (1913-1996)</td>\n",
       "      <td>Term of Office: 25 July, 1977 to 25 July, 1982</td>\n",
       "    </tr>\n",
       "    <tr>\n",
       "      <th>9</th>\n",
       "      <td>Dr. Fakhruddin Ali Ahmed (1905-1977)</td>\n",
       "      <td>Term of Office: 24 August, 1974 to 11 February...</td>\n",
       "    </tr>\n",
       "    <tr>\n",
       "      <th>10</th>\n",
       "      <td>Shri Varahagiri Venkata Giri (1894-1980)</td>\n",
       "      <td>Term of Office: 3 May, 1969 to 20 July, 1969 a...</td>\n",
       "    </tr>\n",
       "    <tr>\n",
       "      <th>11</th>\n",
       "      <td>Dr. Zakir Husain (1897-1969)</td>\n",
       "      <td>Term of Office: 13 May, 1967 to 3 May, 1969</td>\n",
       "    </tr>\n",
       "    <tr>\n",
       "      <th>12</th>\n",
       "      <td>Dr. Sarvepalli Radhakrishnan (1888-1975)</td>\n",
       "      <td>Term of Office: 13 May, 1962 to 13 May, 1967</td>\n",
       "    </tr>\n",
       "    <tr>\n",
       "      <th>13</th>\n",
       "      <td>Dr. Rajendra Prasad (1884-1963)</td>\n",
       "      <td>Term of Office: 26 January, 1950 to 13 May, 1962</td>\n",
       "    </tr>\n",
       "  </tbody>\n",
       "</table>\n",
       "</div>"
      ],
      "text/plain": [
       "                                  PresidentName  \\\n",
       "0           Shri Ram Nath Kovind (birth - 1945)   \n",
       "1             Shri Pranab Mukherjee (1935-2020)   \n",
       "2   Smt Pratibha Devisingh Patil (birth - 1934)   \n",
       "3            DR. A.P.J. Abdul Kalam (1931-2015)   \n",
       "4            Shri K. R. Narayanan (1920 - 2005)   \n",
       "5           Dr Shankar Dayal Sharma (1918-1999)   \n",
       "6               Shri R Venkataraman (1910-2009)   \n",
       "7                  Giani Zail Singh (1916-1994)   \n",
       "8         Shri Neelam Sanjiva Reddy (1913-1996)   \n",
       "9          Dr. Fakhruddin Ali Ahmed (1905-1977)   \n",
       "10     Shri Varahagiri Venkata Giri (1894-1980)   \n",
       "11                 Dr. Zakir Husain (1897-1969)   \n",
       "12     Dr. Sarvepalli Radhakrishnan (1888-1975)   \n",
       "13             Dr. Rajendra Prasad (1884-1963)    \n",
       "\n",
       "                                        Termsofoffice  \n",
       "0     Term of Office: 25 July, 2017 to 25 July, 2022   \n",
       "1     Term of Office: 25 July, 2012 to 25 July, 2017   \n",
       "2     Term of Office: 25 July, 2007 to 25 July, 2012   \n",
       "3     Term of Office: 25 July, 2002 to 25 July, 2007   \n",
       "4     Term of Office: 25 July, 1997 to 25 July, 2002   \n",
       "5     Term of Office: 25 July, 1992 to 25 July, 1997   \n",
       "6     Term of Office: 25 July, 1987 to 25 July, 1992   \n",
       "7     Term of Office: 25 July, 1982 to 25 July, 1987   \n",
       "8     Term of Office: 25 July, 1977 to 25 July, 1982   \n",
       "9   Term of Office: 24 August, 1974 to 11 February...  \n",
       "10  Term of Office: 3 May, 1969 to 20 July, 1969 a...  \n",
       "11        Term of Office: 13 May, 1967 to 3 May, 1969  \n",
       "12       Term of Office: 13 May, 1962 to 13 May, 1967  \n",
       "13   Term of Office: 26 January, 1950 to 13 May, 1962  "
      ]
     },
     "execution_count": 196,
     "metadata": {},
     "output_type": "execute_result"
    }
   ],
   "source": [
    "#4.Write s python program to display list of respected former presidents of India(i.e. Name , Term of office from https://presidentofindia.nic.in/former-presidents.htm)\n",
    "\n",
    "df=pd.DataFrame({'PresidentName':Name,'Termsofoffice':Terms_of_office})\n",
    "df"
   ]
  },
  {
   "cell_type": "code",
   "execution_count": 3,
   "id": "f847f051",
   "metadata": {},
   "outputs": [
    {
     "data": {
      "text/plain": [
       "<Response [200]>"
      ]
     },
     "execution_count": 3,
     "metadata": {},
     "output_type": "execute_result"
    }
   ],
   "source": [
    "from bs4 import BeautifulSoup\n",
    "import requests\n",
    "\n",
    "page='https://www.icc-cricket.com/rankings/mens/team-rankings/odi'\n",
    "url=requests.get(page)\n",
    "url\n",
    "\n",
    "\n"
   ]
  },
  {
   "cell_type": "code",
   "execution_count": 4,
   "id": "103cf286",
   "metadata": {},
   "outputs": [],
   "source": [
    "soup=BeautifulSoup(url.content,'html.parser')\n",
    "type(soup)\n",
    "import pandas as pd"
   ]
  },
  {
   "cell_type": "code",
   "execution_count": 5,
   "id": "917df8be",
   "metadata": {},
   "outputs": [],
   "source": [
    "pos=[]\n",
    "for i in soup.find_all('td', class_=\"table-body__cell table-body__cell--position u-text-right\"):\n",
    "    pos.append(i.text)"
   ]
  },
  {
   "cell_type": "code",
   "execution_count": 6,
   "id": "6cacf3c9",
   "metadata": {},
   "outputs": [
    {
     "data": {
      "text/plain": [
       "19"
      ]
     },
     "execution_count": 6,
     "metadata": {},
     "output_type": "execute_result"
    }
   ],
   "source": [
    "len(pos)\n",
    "\n",
    "                            "
   ]
  },
  {
   "cell_type": "code",
   "execution_count": 7,
   "id": "0c26d90c",
   "metadata": {},
   "outputs": [],
   "source": [
    "TeamName=[]\n",
    "for i in soup.find_all('span', class_=\"u-hide-phablet\"):\n",
    "    TeamName.append(i.text)"
   ]
  },
  {
   "cell_type": "code",
   "execution_count": 8,
   "id": "00fb1d7a",
   "metadata": {},
   "outputs": [
    {
     "data": {
      "text/plain": [
       "['New Zealand',\n",
       " 'England',\n",
       " 'Australia',\n",
       " 'India',\n",
       " 'Pakistan',\n",
       " 'South Africa',\n",
       " 'Bangladesh',\n",
       " 'Sri Lanka',\n",
       " 'Afghanistan',\n",
       " 'West Indies',\n",
       " 'Ireland',\n",
       " 'Scotland',\n",
       " 'Zimbabwe',\n",
       " 'Namibia',\n",
       " 'Netherlands',\n",
       " 'Oman',\n",
       " 'UAE',\n",
       " 'United States',\n",
       " 'Nepal',\n",
       " 'Papua New Guinea']"
      ]
     },
     "execution_count": 8,
     "metadata": {},
     "output_type": "execute_result"
    }
   ],
   "source": [
    "TeamName"
   ]
  },
  {
   "cell_type": "code",
   "execution_count": 8,
   "id": "5e57d6fe",
   "metadata": {},
   "outputs": [],
   "source": [
    "Matches=[]\n",
    "for i in soup.find_all('td', class_=\"table-body__cell u-center-text\"):\n",
    "    Matches.append(i.text)\n",
    "    "
   ]
  },
  {
   "cell_type": "code",
   "execution_count": 9,
   "id": "9cd34216",
   "metadata": {},
   "outputs": [
    {
     "data": {
      "text/html": [
       "<div>\n",
       "<style scoped>\n",
       "    .dataframe tbody tr th:only-of-type {\n",
       "        vertical-align: middle;\n",
       "    }\n",
       "\n",
       "    .dataframe tbody tr th {\n",
       "        vertical-align: top;\n",
       "    }\n",
       "\n",
       "    .dataframe thead th {\n",
       "        text-align: right;\n",
       "    }\n",
       "</style>\n",
       "<table border=\"1\" class=\"dataframe\">\n",
       "  <thead>\n",
       "    <tr style=\"text-align: right;\">\n",
       "      <th></th>\n",
       "      <th>0</th>\n",
       "    </tr>\n",
       "  </thead>\n",
       "  <tbody>\n",
       "    <tr>\n",
       "      <th>0</th>\n",
       "      <td>30</td>\n",
       "    </tr>\n",
       "    <tr>\n",
       "      <th>1</th>\n",
       "      <td>3,400</td>\n",
       "    </tr>\n",
       "    <tr>\n",
       "      <th>2</th>\n",
       "      <td>32</td>\n",
       "    </tr>\n",
       "    <tr>\n",
       "      <th>3</th>\n",
       "      <td>3,572</td>\n",
       "    </tr>\n",
       "    <tr>\n",
       "      <th>4</th>\n",
       "      <td>40</td>\n",
       "    </tr>\n",
       "    <tr>\n",
       "      <th>5</th>\n",
       "      <td>4,377</td>\n",
       "    </tr>\n",
       "    <tr>\n",
       "      <th>6</th>\n",
       "      <td>25</td>\n",
       "    </tr>\n",
       "    <tr>\n",
       "      <th>7</th>\n",
       "      <td>2,649</td>\n",
       "    </tr>\n",
       "    <tr>\n",
       "      <th>8</th>\n",
       "      <td>24</td>\n",
       "    </tr>\n",
       "    <tr>\n",
       "      <th>9</th>\n",
       "      <td>2,392</td>\n",
       "    </tr>\n",
       "    <tr>\n",
       "      <th>10</th>\n",
       "      <td>33</td>\n",
       "    </tr>\n",
       "    <tr>\n",
       "      <th>11</th>\n",
       "      <td>3,129</td>\n",
       "    </tr>\n",
       "    <tr>\n",
       "      <th>12</th>\n",
       "      <td>33</td>\n",
       "    </tr>\n",
       "    <tr>\n",
       "      <th>13</th>\n",
       "      <td>2,917</td>\n",
       "    </tr>\n",
       "    <tr>\n",
       "      <th>14</th>\n",
       "      <td>20</td>\n",
       "    </tr>\n",
       "    <tr>\n",
       "      <th>15</th>\n",
       "      <td>1,419</td>\n",
       "    </tr>\n",
       "    <tr>\n",
       "      <th>16</th>\n",
       "      <td>41</td>\n",
       "    </tr>\n",
       "    <tr>\n",
       "      <th>17</th>\n",
       "      <td>2,902</td>\n",
       "    </tr>\n",
       "    <tr>\n",
       "      <th>18</th>\n",
       "      <td>23</td>\n",
       "    </tr>\n",
       "    <tr>\n",
       "      <th>19</th>\n",
       "      <td>1,214</td>\n",
       "    </tr>\n",
       "    <tr>\n",
       "      <th>20</th>\n",
       "      <td>31</td>\n",
       "    </tr>\n",
       "    <tr>\n",
       "      <th>21</th>\n",
       "      <td>1,459</td>\n",
       "    </tr>\n",
       "    <tr>\n",
       "      <th>22</th>\n",
       "      <td>26</td>\n",
       "    </tr>\n",
       "    <tr>\n",
       "      <th>23</th>\n",
       "      <td>1,098</td>\n",
       "    </tr>\n",
       "    <tr>\n",
       "      <th>24</th>\n",
       "      <td>26</td>\n",
       "    </tr>\n",
       "    <tr>\n",
       "      <th>25</th>\n",
       "      <td>971</td>\n",
       "    </tr>\n",
       "    <tr>\n",
       "      <th>26</th>\n",
       "      <td>21</td>\n",
       "    </tr>\n",
       "    <tr>\n",
       "      <th>27</th>\n",
       "      <td>673</td>\n",
       "    </tr>\n",
       "    <tr>\n",
       "      <th>28</th>\n",
       "      <td>30</td>\n",
       "    </tr>\n",
       "    <tr>\n",
       "      <th>29</th>\n",
       "      <td>919</td>\n",
       "    </tr>\n",
       "    <tr>\n",
       "      <th>30</th>\n",
       "      <td>25</td>\n",
       "    </tr>\n",
       "    <tr>\n",
       "      <th>31</th>\n",
       "      <td>693</td>\n",
       "    </tr>\n",
       "    <tr>\n",
       "      <th>32</th>\n",
       "      <td>31</td>\n",
       "    </tr>\n",
       "    <tr>\n",
       "      <th>33</th>\n",
       "      <td>821</td>\n",
       "    </tr>\n",
       "    <tr>\n",
       "      <th>34</th>\n",
       "      <td>28</td>\n",
       "    </tr>\n",
       "    <tr>\n",
       "      <th>35</th>\n",
       "      <td>456</td>\n",
       "    </tr>\n",
       "    <tr>\n",
       "      <th>36</th>\n",
       "      <td>30</td>\n",
       "    </tr>\n",
       "    <tr>\n",
       "      <th>37</th>\n",
       "      <td>128</td>\n",
       "    </tr>\n",
       "  </tbody>\n",
       "</table>\n",
       "</div>"
      ],
      "text/plain": [
       "        0\n",
       "0      30\n",
       "1   3,400\n",
       "2      32\n",
       "3   3,572\n",
       "4      40\n",
       "5   4,377\n",
       "6      25\n",
       "7   2,649\n",
       "8      24\n",
       "9   2,392\n",
       "10     33\n",
       "11  3,129\n",
       "12     33\n",
       "13  2,917\n",
       "14     20\n",
       "15  1,419\n",
       "16     41\n",
       "17  2,902\n",
       "18     23\n",
       "19  1,214\n",
       "20     31\n",
       "21  1,459\n",
       "22     26\n",
       "23  1,098\n",
       "24     26\n",
       "25    971\n",
       "26     21\n",
       "27    673\n",
       "28     30\n",
       "29    919\n",
       "30     25\n",
       "31    693\n",
       "32     31\n",
       "33    821\n",
       "34     28\n",
       "35    456\n",
       "36     30\n",
       "37    128"
      ]
     },
     "execution_count": 9,
     "metadata": {},
     "output_type": "execute_result"
    }
   ],
   "source": [
    "\n",
    "Matches\n",
    "df=pd.DataFrame(Matches)\n",
    "df\n",
    "\n",
    "\n"
   ]
  },
  {
   "cell_type": "code",
   "execution_count": 10,
   "id": "97066ff3",
   "metadata": {},
   "outputs": [],
   "source": [
    "ratings=[]\n",
    "for i in soup.find_all('td', class_=\"table-body__cell u-text-right rating\"):\n",
    "    ratings.append(i.text)"
   ]
  },
  {
   "cell_type": "code",
   "execution_count": 11,
   "id": "59a78c22",
   "metadata": {},
   "outputs": [
    {
     "data": {
      "text/plain": [
       "19"
      ]
     },
     "execution_count": 11,
     "metadata": {},
     "output_type": "execute_result"
    }
   ],
   "source": [
    "len(ratings)"
   ]
  },
  {
   "cell_type": "code",
   "execution_count": 12,
   "id": "aa81f688",
   "metadata": {},
   "outputs": [
    {
     "name": "stdout",
     "output_type": "stream",
     "text": [
      "19 20 38 19\n"
     ]
    }
   ],
   "source": [
    "print(len(pos),len(TeamName),len(Matches),len(ratings))"
   ]
  },
  {
   "cell_type": "code",
   "execution_count": 19,
   "id": "9813fd5d",
   "metadata": {},
   "outputs": [
    {
     "data": {
      "text/plain": [
       "<Response [200]>"
      ]
     },
     "execution_count": 19,
     "metadata": {},
     "output_type": "execute_result"
    }
   ],
   "source": [
    "#5.b.Top10 ODI Batsmen along with their Team and Rating.\n",
    "page=\"https://www.icc-cricket.com/rankings/mens/player-rankings/odi\"\n",
    "url=requests.get(page)\n",
    "url"
   ]
  },
  {
   "cell_type": "code",
   "execution_count": 20,
   "id": "ae77df36",
   "metadata": {},
   "outputs": [
    {
     "data": {
      "text/plain": [
       "bs4.BeautifulSoup"
      ]
     },
     "execution_count": 20,
     "metadata": {},
     "output_type": "execute_result"
    }
   ],
   "source": [
    "soup=BeautifulSoup(url.text,'html.parser')\n",
    "type(soup)"
   ]
  },
  {
   "cell_type": "code",
   "execution_count": 27,
   "id": "94caf067",
   "metadata": {},
   "outputs": [],
   "source": [
    "Pos=[]\n",
    "Name=[]\n",
    "Team=[]\n",
    "Ratings=[]\n",
    "for i in soup.find_all('span', class_=\"rankings-table__pos-number\"):\n",
    "    Pos.append(i.text.split('\\n')[1])\n",
    "for i in soup.find_all('td', class_=\"table-body__cell name\"):\n",
    "    Name.append(i.text)\n",
    "for i in soup.find_all('span', class_=\"table-body__logo-text\"):\n",
    "    Team.append(i.text)\n",
    "for i in soup.find_all('td', class_=\"table-body__cell u-text-right rating\"):\n",
    "    Ratings.append(i.text)\n",
    "    \n",
    "    \n",
    "                                \n"
   ]
  },
  {
   "cell_type": "code",
   "execution_count": 32,
   "id": "1bb56692",
   "metadata": {},
   "outputs": [
    {
     "name": "stdout",
     "output_type": "stream",
     "text": [
      "54 54 54 54\n"
     ]
    }
   ],
   "source": [
    "print(len(Pos),len(Name),len(Team),len(Ratings))\n",
    "    \n",
    "        "
   ]
  },
  {
   "cell_type": "code",
   "execution_count": 33,
   "id": "2d4c9bc9",
   "metadata": {},
   "outputs": [
    {
     "data": {
      "text/plain": [
       "<Response [200]>"
      ]
     },
     "execution_count": 33,
     "metadata": {},
     "output_type": "execute_result"
    }
   ],
   "source": [
    "#5c.c) Top 10 ODI bowlers along with the records of their team and rating\n",
    "page=\"https://www.icc-cricket.com/rankings/mens/player-rankings/odi/bowling\"\n",
    "url=requests.get(page)\n",
    "url"
   ]
  },
  {
   "cell_type": "code",
   "execution_count": 34,
   "id": "5bff045a",
   "metadata": {},
   "outputs": [
    {
     "data": {
      "text/plain": [
       "bs4.BeautifulSoup"
      ]
     },
     "execution_count": 34,
     "metadata": {},
     "output_type": "execute_result"
    }
   ],
   "source": [
    "soup=BeautifulSoup(url.text,'html.parser')\n",
    "type(soup)"
   ]
  },
  {
   "cell_type": "code",
   "execution_count": 76,
   "id": "94857f88",
   "metadata": {},
   "outputs": [
    {
     "name": "stdout",
     "output_type": "stream",
     "text": [
      "100 100 100\n"
     ]
    }
   ],
   "source": [
    "Pos=[]\n",
    "Name=[]\n",
    "Team=[]\n",
    "\n",
    "a=soup.find('td', class_=\"rankings-block__position\")\n",
    "a.text.split('\\n')[4]\n",
    "b=soup.find('div', class_=\"rankings-block__banner--name-large\")\n",
    "b.text \n",
    "c=soup.find('div', class_=\"rankings-block__banner--nationality\")\n",
    "c.text.split('\\n')[2]\n",
    "Pos.append(a.text.split('\\n')[3])\n",
    "for i in soup.find_all('span',class_=\"rankings-table__pos-number\"):\n",
    "    Pos.append(i.text.split('\\n')[1])\n",
    "Name.append(b.text)\n",
    "for i in soup.find_all('td',class_=\"table-body__cell rankings-table__name name\"):\n",
    "    Name.append(i.text.split('\\n')[1])\n",
    "Team.append(c.text.split('\\n')[2])\n",
    "for i in soup.find_all('span',class_=\"table-body__logo-text\"):\n",
    "    Team.append(i.text)\n",
    "\n",
    "print(len(Pos),len(Name),len(Team))\n",
    "    \n",
    "\n",
    "                    "
   ]
  },
  {
   "cell_type": "code",
   "execution_count": null,
   "id": "2181c1cf",
   "metadata": {},
   "outputs": [],
   "source": [
    "#6.A. Top 10 ODI teams in women’s cricket along with the records for matches, points and rating."
   ]
  },
  {
   "cell_type": "code",
   "execution_count": 77,
   "id": "828ca40d",
   "metadata": {},
   "outputs": [
    {
     "data": {
      "text/plain": [
       "<Response [200]>"
      ]
     },
     "execution_count": 77,
     "metadata": {},
     "output_type": "execute_result"
    }
   ],
   "source": [
    "page=\"https://www.icc-cricket.com/rankings/womens/team-rankings/odi\"\n",
    "url=requests.get(page)\n",
    "url"
   ]
  },
  {
   "cell_type": "code",
   "execution_count": 78,
   "id": "39033956",
   "metadata": {},
   "outputs": [
    {
     "data": {
      "text/plain": [
       "bs4.BeautifulSoup"
      ]
     },
     "execution_count": 78,
     "metadata": {},
     "output_type": "execute_result"
    }
   ],
   "source": [
    "soup=BeautifulSoup(url.text,'html.parser')\n",
    "type(soup)"
   ]
  },
  {
   "cell_type": "code",
   "execution_count": 100,
   "id": "ad0d229a",
   "metadata": {},
   "outputs": [],
   "source": [
    "Pos=[]\n",
    "Team=[]\n",
    "matches=[]\n",
    "rating=[]\n",
    "a=soup.find('td', class_=\"rankings-block__banner--pos\")\n",
    "a.text\n",
    "b=soup.find('span', class_= \"u-hide-phablet\")\n",
    "b.text\n",
    "c=soup.find('td', class_=\"rankings-block__banner--matches\")\n",
    "c.text\n",
    "d=soup.find('td', class_=\"rankings-block__banner--points\")\n",
    "d.text\n",
    "e=soup.find('td', class_=\"rankings-block__banner--rating u-text-right\")\n",
    "e.text\n",
    "Pos.append(a.text)\n",
    "for i in soup.find_all('td', class_=\"table-body__cell table-body__cell--position u-text-right\"):\n",
    "    Pos.append(i.text)\n",
    "for i in soup.find_all('span', class_=\"u-hide-phablet\"):\n",
    "    Team.append(i.text)\n",
    "matches.append(c.text)\n",
    "matches.append(d.text)\n",
    "for i in soup.find_all('td', class_=\"table-body__cell u-center-text\"):\n",
    "    matches.append(i.text)\n",
    "rating.append(e.text.split(\"\\n\")[1])\n",
    "for i in soup.find_all('td', class_=\"table-body__cell u-text-right rating\"):\n",
    "    rating.append(i.text)\n",
    "    \n",
    "    \n",
    "    \n",
    "\n",
    "\n",
    "\n",
    "                            \n",
    "                            "
   ]
  },
  {
   "cell_type": "code",
   "execution_count": 104,
   "id": "0ac41083",
   "metadata": {},
   "outputs": [
    {
     "data": {
      "text/plain": [
       "<Response [200]>"
      ]
     },
     "execution_count": 104,
     "metadata": {},
     "output_type": "execute_result"
    }
   ],
   "source": [
    "#6b) Top 10 women’s ODI Batting players along with the records of their team and rating.\n",
    "page=\"https://www.icc-cricket.com/rankings/womens/player-rankings/odi/batting\"\n",
    "url=requests.get(page)\n",
    "url"
   ]
  },
  {
   "cell_type": "code",
   "execution_count": 105,
   "id": "ef286f2c",
   "metadata": {},
   "outputs": [
    {
     "data": {
      "text/plain": [
       "bs4.BeautifulSoup"
      ]
     },
     "execution_count": 105,
     "metadata": {},
     "output_type": "execute_result"
    }
   ],
   "source": [
    "soup=BeautifulSoup(url.text,'html.parser')\n",
    "type(soup)"
   ]
  },
  {
   "cell_type": "code",
   "execution_count": 127,
   "id": "e117f8be",
   "metadata": {},
   "outputs": [],
   "source": [
    "Pos=[]\n",
    "Name=[]\n",
    "Team=[]\n",
    "Rating=[]\n",
    "                          \n",
    "a=soup.find('span', class_=\"rankings-block__pos-number\")\n",
    "a.text.split('\\n')[1]\n",
    "b=soup.find('div', class_=\"rankings-block__banner--name-large\")\n",
    "b.text\n",
    "c=soup.find('span', class_=\"table-body__logo-text\")\n",
    "c.text\n",
    "d=soup.find('div', class_=\"rankings-block__banner--rating\")\n",
    "d.text\n",
    "Pos.append(a.text.split('\\n')[1])\n",
    "for i in soup.find_all('span', class_=\"rankings-table__pos-number\"):\n",
    "    Pos.append(i.text.split('\\n')[1])\n",
    "Name.append(b.text)\n",
    "for i in soup.find_all('td',class_=\"table-body__cell rankings-table__name name\"):\n",
    "    Name.append(i.text)\n",
    "for i in soup.find_all('span', class_=\"table-body__logo-text\"):\n",
    "    Team.append(c.text)\n",
    "    Team.append(i.text)\n",
    "Rating.append(d.text)\n",
    "for i in soup.find_all('td', class_=\"table-body__cell rating\"):\n",
    "    Rating.append(i.text)\n",
    "\n",
    "\n",
    "                            \n",
    "\n",
    "                                \n",
    "                                \n",
    "\n",
    "                            \n",
    "        "
   ]
  },
  {
   "cell_type": "code",
   "execution_count": 130,
   "id": "46c1ad1c",
   "metadata": {},
   "outputs": [
    {
     "data": {
      "text/plain": [
       "<Response [200]>"
      ]
     },
     "execution_count": 130,
     "metadata": {},
     "output_type": "execute_result"
    }
   ],
   "source": [
    "page=\"https://www.icc-cricket.com/rankings/womens/player-rankings/odi/bowling\"\n",
    "url=requests.get(page)\n",
    "url"
   ]
  },
  {
   "cell_type": "code",
   "execution_count": 148,
   "id": "bbc2cbc5",
   "metadata": {},
   "outputs": [],
   "source": [
    "Pos=[]\n",
    "Name=[]\n",
    "Team=[]\n",
    "Rating=[]\n",
    "a=soup.find('span', class_=\"rankings-block__pos-number\")\n",
    "a.text\n",
    "b=soup.find('div', class_=\"rankings-block__banner--name-large\")\n",
    "b.text\n",
    "c=soup.find('div', class_=\"rankings-block__banner--nationality\")\n",
    "c.text.split('\\n')[2]\n",
    "d=soup.find('div', class_=\"rankings-block__banner--rating\")\n",
    "d.text\n",
    "Pos.append(a.text)\n",
    "for i in soup.find_all('span', class_=\"rankings-table__pos-number\"):\n",
    "    Pos.append(i.text)\n",
    "Name.append(b.text)\n",
    "for i in soup.find_all('td', class_=\"table-body__cell rankings-table__name name\"):\n",
    "    Name.append(i.text)\n",
    "Team.append(c.text.split('\\n')[2])\n",
    "for i in soup.find_all('span', class_=\"table-body__logo-text\"):\n",
    "    Team.append(i.text)\n",
    "Rating.append(d.text)\n",
    "for i in soup.find_all('td',class_=\"table-body__cell rating\"):\n",
    "    Rating.append(i.text)\n",
    "\n",
    "    \n",
    "                        \n",
    "                                   \n",
    "            \n",
    "                        \n",
    "                           "
   ]
  },
  {
   "cell_type": "code",
   "execution_count": null,
   "id": "1efe0052",
   "metadata": {},
   "outputs": [],
   "source": [
    "#.6.c) Top 10 women’s ODI all-rounder along with the records of their team and rating."
   ]
  },
  {
   "cell_type": "code",
   "execution_count": 151,
   "id": "34103327",
   "metadata": {},
   "outputs": [
    {
     "data": {
      "text/plain": [
       "<Response [200]>"
      ]
     },
     "execution_count": 151,
     "metadata": {},
     "output_type": "execute_result"
    }
   ],
   "source": [
    "page=\"https://www.icc-cricket.com/rankings/womens/player-rankings/odi/all-rounder\"\n",
    "url=requests.get(page)\n",
    "url"
   ]
  },
  {
   "cell_type": "code",
   "execution_count": 152,
   "id": "580c5109",
   "metadata": {},
   "outputs": [
    {
     "data": {
      "text/plain": [
       "bs4.BeautifulSoup"
      ]
     },
     "execution_count": 152,
     "metadata": {},
     "output_type": "execute_result"
    }
   ],
   "source": [
    "soup=BeautifulSoup(url.text,'html.parser')\n",
    "type(soup)"
   ]
  },
  {
   "cell_type": "code",
   "execution_count": 177,
   "id": "c16b2b39",
   "metadata": {},
   "outputs": [],
   "source": [
    "Pos=[]\n",
    "Name=[]\n",
    "Team=[]\n",
    "Rating=[]\n",
    "a=soup.find('span', class_=\"rankings-block__pos-number\")\n",
    "a.text\n",
    "b=soup.find('div', class_=\"rankings-block__banner--name-large\")\n",
    "b.text\n",
    "c=soup.find('div',class_=\"rankings-block__banner--nationality\")\n",
    "c.text.split('\\n')[2]\n",
    "d=soup.find('div', class_=\"rankings-block__banner--rating\")\n",
    "d.text\n",
    "Pos.append(a.text)\n",
    "for i in soup.find_all('span', class_=\"rankings-table__pos-number\"):\n",
    "    Pos.append(i.text)\n",
    "Name.append(b.text)\n",
    "for i in soup.find_all('td', class_=\"table-body__cell rankings-table__name name\"):\n",
    "    Name.append(i.text)\n",
    "Team.append(c.text.split('\\n')[2])\n",
    "for i in soup.find_all('span', class_=\"table-body__logo-text\"):\n",
    "    Team.append(i.text)\n",
    "Rating.append(d.text)\n",
    "for i in soup.find_all('td', class_=\"table-body__cell rating\"):\n",
    "    Rating.append(i.text)\n",
    "\n",
    "\n",
    "                                                            \n",
    "                        \n",
    "                           "
   ]
  },
  {
   "cell_type": "code",
   "execution_count": 184,
   "id": "a236c3be",
   "metadata": {},
   "outputs": [
    {
     "data": {
      "text/plain": [
       "<Response [200]>"
      ]
     },
     "execution_count": 184,
     "metadata": {},
     "output_type": "execute_result"
    }
   ],
   "source": [
    "page=\"https://www.cnbc.com/world/?region=world\"\n",
    "url=requests.get(page)\n",
    "url"
   ]
  },
  {
   "cell_type": "code",
   "execution_count": 3,
   "id": "154ea9ca",
   "metadata": {},
   "outputs": [
    {
     "data": {
      "text/plain": [
       "<Response [200]>"
      ]
     },
     "execution_count": 3,
     "metadata": {},
     "output_type": "execute_result"
    }
   ],
   "source": [
    "page=\"https://www.journals.elsevier.com/artificial-intelligence/most-downloaded-articles\"\n",
    "url=requests.get(page)\n",
    "url"
   ]
  },
  {
   "cell_type": "code",
   "execution_count": 4,
   "id": "980ad43b",
   "metadata": {},
   "outputs": [
    {
     "data": {
      "text/plain": [
       "bs4.BeautifulSoup"
      ]
     },
     "execution_count": 4,
     "metadata": {},
     "output_type": "execute_result"
    }
   ],
   "source": [
    "soup=BeautifulSoup(url.text,'html.parser')\n",
    "type(soup)"
   ]
  },
  {
   "cell_type": "code",
   "execution_count": 15,
   "id": "f025dda8",
   "metadata": {},
   "outputs": [],
   "source": [
    "#8.8) Write a python program to scrape the details of most downloaded articles from AI in last 90 days.\n",
    "\n",
    "Title=[]\n",
    "Author=[]\n",
    "Published=[]\n",
    "for i in soup.find_all(['h1','h2','h3','h4','h5','h6']):\n",
    "    Title.append(i.text)\n",
    "for i in soup.find_all('p', class_=\"sc-1thf9ly-0 sc-1thf9ly-1 iwnLUR fXmEge\"):\n",
    "    Author.append(i.text.split(','))\n",
    "for i in soup.find_all('span', class_=\"sc-1thf9ly-2 dvggWt\"):\n",
    "    Published.append(i.text)\n",
    "\n",
    "    "
   ]
  },
  {
   "cell_type": "code",
   "execution_count": 16,
   "id": "2574b81e",
   "metadata": {},
   "outputs": [
    {
     "data": {
      "text/plain": [
       "<Response [200]>"
      ]
     },
     "execution_count": 16,
     "metadata": {},
     "output_type": "execute_result"
    }
   ],
   "source": [
    "#.9) Write a python program to scrape mentioned details from dineout.co.in :\n",
    "page=\"https://www.dineout.co.in/delhi-restaurants/buffet-special\"\n",
    "url=requests.get(page)\n",
    "url\n"
   ]
  },
  {
   "cell_type": "code",
   "execution_count": 17,
   "id": "3747b578",
   "metadata": {},
   "outputs": [
    {
     "data": {
      "text/plain": [
       "bs4.BeautifulSoup"
      ]
     },
     "execution_count": 17,
     "metadata": {},
     "output_type": "execute_result"
    }
   ],
   "source": [
    "soup=BeautifulSoup(url.text,'html.parser')\n",
    "type(soup)"
   ]
  },
  {
   "cell_type": "code",
   "execution_count": 34,
   "id": "e0a0649d",
   "metadata": {},
   "outputs": [],
   "source": [
    "Name=[]\n",
    "Cuisine=[]\n",
    "location=[]\n",
    "Ratings=[]\n",
    "Imageurl=[]\n",
    "for i in soup.find_all('a',class_=\"restnt-name ellipsis\"):\n",
    "    Name.append(i.text)\n",
    "for i in soup.find_all('span', class_=\"double-line-ellipsis\"):\n",
    "    Cuisine.append(i.text.split('|')[1])\n",
    "for i in soup.find_all('div', class_=\"restnt-loc ellipsis\"):\n",
    "    location.append(i.text)\n",
    "for i in soup.find_all('div',class_=\"restnt-rating rating-4\"):\n",
    "    Ratings.append(i.text)\n",
    "for i in soup.find_all('img',class_='no-img'):\n",
    "    Imageurl.append(i.get(\"data-src\"))\n",
    "    "
   ]
  },
  {
   "cell_type": "code",
   "execution_count": null,
   "id": "4a7251bc",
   "metadata": {},
   "outputs": [],
   "source": []
  },
  {
   "cell_type": "code",
   "execution_count": null,
   "id": "ced6db78",
   "metadata": {},
   "outputs": [],
   "source": []
  }
 ],
 "metadata": {
  "kernelspec": {
   "display_name": "Python 3 (ipykernel)",
   "language": "python",
   "name": "python3"
  },
  "language_info": {
   "codemirror_mode": {
    "name": "ipython",
    "version": 3
   },
   "file_extension": ".py",
   "mimetype": "text/x-python",
   "name": "python",
   "nbconvert_exporter": "python",
   "pygments_lexer": "ipython3",
   "version": "3.9.12"
  }
 },
 "nbformat": 4,
 "nbformat_minor": 5
}
