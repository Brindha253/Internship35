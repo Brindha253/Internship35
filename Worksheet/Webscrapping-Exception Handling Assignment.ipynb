{
 "cells": [
  {
   "cell_type": "code",
   "execution_count": 1,
   "id": "144d4059",
   "metadata": {},
   "outputs": [],
   "source": [
    "import selenium\n",
    "import pandas as pd\n",
    "from selenium import webdriver\n",
    "import time\n",
    "from selenium.webdriver.common.by import By\n",
    "import warnings\n",
    "warnings.filterwarnings('ignore')\n",
    "from selenium.common.exceptions import NoSuchElementException\n",
    "\n"
   ]
  },
  {
   "cell_type": "code",
   "execution_count": 2,
   "id": "10ed4894",
   "metadata": {},
   "outputs": [
    {
     "data": {
      "text/plain": [
       "<bound method WebDriver.get of <selenium.webdriver.chrome.webdriver.WebDriver (session=\"e730c5b2851e22020b988e4626857bf8\")>>"
      ]
     },
     "execution_count": 2,
     "metadata": {},
     "output_type": "execute_result"
    }
   ],
   "source": [
    "driver=webdriver.Chrome(r\"C:\\Users\\sony\\Desktop\\Data Trained/chromedriver.exe\")\n",
    "driver.get"
   ]
  },
  {
   "cell_type": "code",
   "execution_count": 3,
   "id": "4e851a54",
   "metadata": {},
   "outputs": [],
   "source": [
    "driver.get(\"https://www.amazon.in\")\n",
    "\n",
    "#1. Write a python program which searches all the product under a particular product from www.amazon.in.\n",
    "#The product to be searched will be taken as input from user. For e.g. If user input is ‘guitar’. Then search\n",
    "#for guitars\n"
   ]
  },
  {
   "cell_type": "code",
   "execution_count": 4,
   "id": "42da9e47",
   "metadata": {},
   "outputs": [
    {
     "name": "stdout",
     "output_type": "stream",
     "text": [
      "Enter Product Nameguitar\n"
     ]
    }
   ],
   "source": [
    "try:\n",
    "    Name=input(\"Enter Product Name\")\n",
    "    element=driver.find_element(By.XPATH,'/html/body/div[1]/header/div/div[1]/div[2]/div/form/div[2]/div[1]/input')\n",
    "    element.send_keys(Name)\n",
    "    button=driver.find_element(By.XPATH,'/html/body/div[1]/header/div/div[1]/div[2]/div/form/div[3]/div/span/input')\n",
    "    button.click()\n",
    "    time.sleep(3)\n",
    "except:\n",
    "    print(\"Exception raised as E\")\n",
    "    print(\"No Such Product Name\")\n",
    "    \n",
    "    \n",
    "    \n",
    "   \n",
    "    \n",
    "    \n",
    "    \n",
    "    \n",
    "\n",
    "\n",
    "    \n",
    "    "
   ]
  },
  {
   "cell_type": "code",
   "execution_count": 31,
   "id": "01c29026",
   "metadata": {},
   "outputs": [],
   "source": [
    "#2. In the above question, now scrape the following details of each product listed in first 3 pages of your\n",
    "#search results and save it in a data frame and csv. In case if any product has less than 3 pages in search\n",
    "#results then scrape all the products available under that product name. Details to be scraped are: \"Brand\n",
    "#Name\", \"Name of the Product\", \"Price\", \"Return/Exchange\", \"Expected Delivery\", \"Availability\" and\n",
    "#“Product URL”. In case, if any of the details are missing for any of the product then replace it by “-“."
   ]
  },
  {
   "cell_type": "code",
   "execution_count": 7,
   "id": "20b6c37c",
   "metadata": {},
   "outputs": [],
   "source": [
    "Brand_Name=[]\n",
    "Name_of_the_Product=[]\n",
    "Amount=[]\n",
    "Return_Exchange=[]\n",
    "Delivery=[]\n",
    "stock=[]\n",
    "\n",
    "        \n",
    "     \n",
    "    \n",
    "\n",
    "\n",
    "\n",
    "\n",
    "\n",
    "    \n",
    "    \n",
    "\n",
    "    \n",
    "    \n",
    "\n",
    "    \n",
    "    \n",
    "    \n",
    "\n"
   ]
  },
  {
   "cell_type": "code",
   "execution_count": 88,
   "id": "8778037f",
   "metadata": {},
   "outputs": [],
   "source": [
    "\n",
    "    \n",
    "    \n",
    "    \n",
    "\n",
    "\n",
    "            \n",
    "            \n",
    "        \n",
    "        \n",
    "    \n",
    "    \n",
    "    \n",
    "    \n",
    "    \n",
    "\n",
    "    \n",
    "    \n",
    "    \n",
    "\n"
   ]
  },
  {
   "cell_type": "code",
   "execution_count": 9,
   "id": "453e668c",
   "metadata": {},
   "outputs": [
    {
     "data": {
      "text/plain": [
       "<bound method WebDriver.get of <selenium.webdriver.chrome.webdriver.WebDriver (session=\"51a67597c79731b4dba3d9a6de0fab1a\")>>"
      ]
     },
     "execution_count": 9,
     "metadata": {},
     "output_type": "execute_result"
    }
   ],
   "source": [
    "driver=webdriver.Chrome(r\"C:\\Users\\sony\\Desktop\\Data Trained/chromedriver.exe\")\n",
    "driver.get"
   ]
  },
  {
   "cell_type": "code",
   "execution_count": 69,
   "id": "1c26b84a",
   "metadata": {},
   "outputs": [],
   "source": [
    "driver.get(\"https://www.amazon.in\")"
   ]
  },
  {
   "cell_type": "code",
   "execution_count": 8,
   "id": "ef1599f5",
   "metadata": {},
   "outputs": [
    {
     "ename": "NameError",
     "evalue": "name 'details' is not defined",
     "output_type": "error",
     "traceback": [
      "\u001b[1;31m---------------------------------------------------------------------------\u001b[0m",
      "\u001b[1;31mNameError\u001b[0m                                 Traceback (most recent call last)",
      "Input \u001b[1;32mIn [8]\u001b[0m, in \u001b[0;36m<cell line: 1>\u001b[1;34m()\u001b[0m\n\u001b[1;32m----> 1\u001b[0m \u001b[43mdetails\u001b[49m\n",
      "\u001b[1;31mNameError\u001b[0m: name 'details' is not defined"
     ]
    }
   ],
   "source": [
    "details"
   ]
  },
  {
   "cell_type": "code",
   "execution_count": 5,
   "id": "8bef0019",
   "metadata": {},
   "outputs": [],
   "source": [
    "\n",
    "driver.get(\"https://www.amazon.in/Kadence-Frontier-Acoustic-Guitar-Strings/dp/B01GDZ46AA/ref=sr_1_1_sspa?keywords=guitar&qid=1674982515&sr=8-1-spons&sp_csd=d2lkZ2V0TmFtZT1zcF9hdGY&th=1\")       "
   ]
  },
  {
   "cell_type": "code",
   "execution_count": 9,
   "id": "c9c9b58d",
   "metadata": {},
   "outputs": [],
   "source": [
    "start=0\n",
    "end=3\n",
    "for page in range(start,end):\n",
    "    try:\n",
    "        amount=driver.find_elements(By.XPATH,'//span[@class=\"a-price-whole\"]')\n",
    "        for i in amount:\n",
    "            amount=i.text\n",
    "            Amount.append(amount)\n",
    "    except:\n",
    "        Amount.append(\"-\")\n"
   ]
  },
  {
   "cell_type": "code",
   "execution_count": 11,
   "id": "0040f21e",
   "metadata": {},
   "outputs": [
    {
     "data": {
      "text/plain": [
       "51"
      ]
     },
     "execution_count": 11,
     "metadata": {},
     "output_type": "execute_result"
    }
   ],
   "source": [
    "len(Amount)"
   ]
  },
  {
   "cell_type": "code",
   "execution_count": 12,
   "id": "1e3d82da",
   "metadata": {},
   "outputs": [],
   "source": [
    "start=0\n",
    "end=3\n",
    "for page in range(start,end):\n",
    "    try:\n",
    "        Ed=driver.find_elements(By.XPATH,'//span[@class=\"a-text-bold\"]')\n",
    "        for i in Ed:\n",
    "            Ed=i.text\n",
    "            Delivery.append(Ed)\n",
    "    except:\n",
    "        Delivery.append(\"-\")\n",
    "\n",
    "\n",
    "    \n",
    "    \n",
    "    \n",
    "    \n"
   ]
  },
  {
   "cell_type": "code",
   "execution_count": 13,
   "id": "3ffa32b2",
   "metadata": {},
   "outputs": [
    {
     "data": {
      "text/plain": [
       "45"
      ]
     },
     "execution_count": 13,
     "metadata": {},
     "output_type": "execute_result"
    }
   ],
   "source": [
    "len(Delivery)"
   ]
  },
  {
   "cell_type": "code",
   "execution_count": 15,
   "id": "79f1060b",
   "metadata": {},
   "outputs": [],
   "source": [
    "start=0\n",
    "end=3\n",
    "for page in range(start,end):\n",
    "    try:\n",
    "        number=driver.find_elements(By.XPATH,'//span[@class=\"a-size-medium a-color-success\"]')\n",
    "        for i in number:\n",
    "            number=i.text\n",
    "            stock.append(quantity)\n",
    "    except:\n",
    "        stock.append(\"-\")\n",
    "        "
   ]
  },
  {
   "cell_type": "code",
   "execution_count": 16,
   "id": "af6023c9",
   "metadata": {},
   "outputs": [
    {
     "data": {
      "text/plain": [
       "3"
      ]
     },
     "execution_count": 16,
     "metadata": {},
     "output_type": "execute_result"
    }
   ],
   "source": [
    "len(stock)"
   ]
  },
  {
   "cell_type": "code",
   "execution_count": 10,
   "id": "d199b772",
   "metadata": {},
   "outputs": [],
   "source": [
    "driver.close()#2nd question ,my length is not same,so data frame could not be done."
   ]
  },
  {
   "cell_type": "code",
   "execution_count": 11,
   "id": "99581595",
   "metadata": {},
   "outputs": [
    {
     "data": {
      "text/plain": [
       "<bound method WebDriver.get of <selenium.webdriver.chrome.webdriver.WebDriver (session=\"7730aa4d4e0e08a705fa196d18ef40b5\")>>"
      ]
     },
     "execution_count": 11,
     "metadata": {},
     "output_type": "execute_result"
    }
   ],
   "source": [
    "driver=webdriver.Chrome(r\"C:\\Users\\sony\\Desktop\\Data Trained/chromedriver.exe\")\n",
    "driver.get"
   ]
  },
  {
   "cell_type": "code",
   "execution_count": 44,
   "id": "c77c8070",
   "metadata": {},
   "outputs": [],
   "source": [
    "driver.get(\"https://images.google.com\")"
   ]
  },
  {
   "cell_type": "code",
   "execution_count": 13,
   "id": "979b8c51",
   "metadata": {},
   "outputs": [],
   "source": [
    "search_bar=driver.find_element(By.XPATH,'//input[@class=\"gLFyf\"]')\n",
    "search_bar.send_keys('fruits')\n",
    "search_button=driver.find_element(By.XPATH,'/html/body/div[1]/div[3]/form/div[1]/div[1]/div[1]/button/div')\n",
    "search_button.click()\n"
   ]
  },
  {
   "cell_type": "code",
   "execution_count": 14,
   "id": "724f8eba",
   "metadata": {},
   "outputs": [],
   "source": [
    "Images=[]"
   ]
  },
  {
   "cell_type": "code",
   "execution_count": 15,
   "id": "6e6caa85",
   "metadata": {},
   "outputs": [],
   "source": [
    "try:\n",
    "    img=driver.find_elements(By.XPATH,'//img[@class=\"rg_i Q4LuWd\"]')\n",
    "    for i in img[0:10]:\n",
    "        img=i.get_attribute('src')\n",
    "        Images.append(img)\n",
    "except:\n",
    "    Images.append(\"-\")"
   ]
  },
  {
   "cell_type": "code",
   "execution_count": 16,
   "id": "8c25ab49",
   "metadata": {},
   "outputs": [
    {
     "data": {
      "text/plain": [
       "10"
      ]
     },
     "execution_count": 16,
     "metadata": {},
     "output_type": "execute_result"
    }
   ],
   "source": [
    "len(Images)"
   ]
  },
  {
   "cell_type": "code",
   "execution_count": 18,
   "id": "bb12c7bf",
   "metadata": {},
   "outputs": [
    {
     "data": {
      "text/plain": [
       "['data:image/jpeg;base64,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',\n",
       " 'data:image/jpeg;base64,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',\n",
       " 'data:image/png;base64,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',\n",
       " 'data:image/jpeg;base64,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',\n",
       " 'data:image/jpeg;base64,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',\n",
       " 'data:image/jpeg;base64,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',\n",
       " 'data:image/jpeg;base64,/9j/4AAQSkZJRgABAQAAAQABAAD/2wCEAAkGBxASEBUQEBAWFhUWExgVFRgYFRcXGBYYFRUXFxYYGBUYHSghGB0mGxcVIjEhJSkrLi4uGh8zODMtNygtLisBCgoKDg0OGxAQGy0gHiUtLS8vKy8vKy8rLS0tKy0tKy0tLS0tKy0tLS0tLy8tLS0tLS8rKy0tLS4tKystLS0tLf/AABEIALcBEwMBIgACEQEDEQH/xAAcAAEAAQUBAQAAAAAAAAAAAAAAAQIDBAUGBwj/xABDEAACAQIDBQQGBgcHBQAAAAAAAQIDEQQhMQUSQVFhBiJxgRORobHB8AcyQlLh8RQjQ3KistEVVGKCk8LSFzNTc5L/xAAaAQACAwEBAAAAAAAAAAAAAAAAAQIDBAUG/8QALBEAAgIBBAECBAYDAAAAAAAAAAECEQMEEiExQQVhIlHh8BMycYGRoRQj0f/aAAwDAQACEQMRAD8A6wkgk4xQAQSRYAglkCEGASJgACBAAgCLEAAIAABAAAJjAAIiAAAAwARAEACEAAAAACGCAwAAkhEiYAAAIqIAOgyZIAIiDIAAASQCIgAAGAECLEAARAAABgACYgACIAMEAAJIi7uyzfFLO3qL0MPLWSsuv9Bxxyl0i7Hp8uT8qLLLlCjKbtFX+Bg7QxCi2oxk7LO+az6IvbMlUU7tpaZcvhzJxw88nWh6LLZvnL9vr9DY7R2bKiouTT3uXPkYR1eOpqphnzSuvFZnKEc+PZKl0cnNBRlSABDKSkAAABIAhAAABJJAN5IkEAQAACAAAQgABMYABEQAAgAAEMAEpX0EIgGUsG0rzdunH8AqsY5xir8L6lixPzwbsGgy5OekWfRPjl7/ACRNorg346eriRJPVccvIh92N5ZZ553efMsjFLpHYw6HDj8W/cvQqWV0tfIsutvXb0tcvRndd3P4cLlFSmo+vL55lprVJ+5z+Ej6VVP1ji9556J+FzLwUK8Wt+26vB3y6FdXAqUt5rds8+EZcc7Wv8TLyULRztkQo25MqfC8/wBfudXs6W9Qz5fA5Q6fZcv1HkcwyvVPo8drVWR/qwQAZDEAgSAAACEAAAEgA3EgABMAABCAIJEAABEAABAAEi56J8cvzsOmy3HhyZH8Kstl2lQlK9lpm+C9ZVJQSWrzV3p5IitiW8krLl1yzZNQXk6WH0uT5myrdpx1vJ+pFTxTWUFb4mPay+X5dFYmnztrx5E1x1wdXHpcWJfCiqo283w834EKcU87J6WV2/y0Cmk0k2/Dr8+wtyduPNrz5+Qy9LwZC5cLZ9C1KkqiUW3bX1cSzTptvN2v8dC/VkkuXDxXgNOwqnx2VucYpq7sklzKMVbK+XGxNNu3BZb3nb8SinFuym7XWfPwuMSVOy24KrBpPO9r8t3LPzTLFOCgt3m7uxkUoRpRdkrN3yyzbbeS5ybb6spmk5rLP+pFlsZPrwdTgVu4e7+7f2HLnUYt7uGf7tjlynU9pHktXK8jAAMxlBJBImDAAAQAAASADcSABBEQAAhgkEpXyQmIgGXSwE3m+6uupfhh4R6sksb88GrFo8k/YwadCUtF5vJGRHBpfWlfwLlSrnbKz0LMp3evC9l7CaikdTD6fCPL5Lc6iUrJcsyhVL58CurSya8iYQStlyv4PwCmdNbUuCy4N636LRZ+7gX403l46ddeJcVJ2dlxdurSX4lmjU0bead0tdMvPInVBubXBDilnr/X5sWK9TK17pO19DNTVm0uTXRaWt6zD2hSbyi/L4ia4JY3cuSzHEcFpn+ZMo27yzaXt+WXKFJRefBXfS5fim3fd4K3PPg+RFKyxySfBTT0u9fjyDSi3KfeaVrJez3l+FOMZc5LNX0y1skYs6jk3m9X+atw4E+ipPc+CaGKpzjGrTammrw3c04uyTVteBL3lJJJW08PMowNCFLuwUYpbztFWzcnJu3Nyk2ZSg8st1avi3pwH2F12WsRVSVnrw4dS1suDqVkuXwMfHvvv2G87K0cnNrUh3Kh5ZLFgcvJl9oqloRhzfu+Uc+bHb1feq2X2Vbz4/A1xlzS3TZ5DK7kAAiorJAAhAAAAAAASADYMgEgQAvUMLUnnGDa52y9Zbo4qFKcalRJ01Lv3V7ReW95OzfS536tKOWlsi/BiWS7ZZCCfLOPp7NtnUl5L+plLcjlCKKdpx3PWYNGs88xuoukju4NLBR3RRnOTd7vQsODvfzv8EivDycs3p88iqKu2ld8OXtY6su/KWKiiuF+Lt89URV3la0bvirrUrqxUL2Tblq/HWzMWrNvoveJ8FsVZVDJKU3m3ey53/pb1FcZ8/LMxVf5/EmCb+fISZY4mS3F248Vz/Aw6tNJqafCzVuKytcuuolbedrtJZXMbau0oUKUqk892O810WodjjcTJw9ZON7aNpq+UeDRTaKtmssnrp82MTCbQpfovp6XejUe8tb97OV1z4WMulDe7zssr8b5rwD2JV2/BXCCb1yyevG6yeXURl33GzWruWpS34yjCaUt1pa9eemhhbOjKNOXpG1ae6uqdsui/MLGoWnf8GYq6e9uvOPF30yyIw04yjvQSvxvfJX5cxhoRf6yDya043a58nqRhKUVN2kr2tbjmxDdJMsuM4z3mu9dO+7lu5eSVrmRVxru3a3C3x9xkY593Jq6Xj7zTKT0buKXwslBLIraK85ySXM6/DuNDD3lwiarYOA+3JHD/TJ2my/s+m/rJSq9I3uo+bV/BdQgm3XlnL9T1Cf+uPg3ON7Q4SEn6XFUlJ5tb6b/APlZmox/bvA013JyqvlCL/mlZHkiQLFo4eW2cHYey9le0kcbGo1TcHCSVnLeupJ2eito8jfHDfRTh2qNapb61SMV/kjf/edyYM8VGbUeiuXDAAKiIAAAAAAEgA1jABAAGk1Zq6eTXM3HY/aDgnhKk77ivRbd3KnfRvi4tqPhuvVs05bqwllKEt2cHvQlyelnzTV01yfOxKE3F2ThKmddtvBprfXmczv2k+WnU6LYW0liKL3spLuzi9Yy4rr48VZ8TW7ZwDi7rRl82prcjvaHOmtki1QqX0Lm9Jqyzs83oYFGrbUzoy7tksuluP5Ci7Nk40yjGTjTV29bJX55X0+cma2piGlK7u7vcu0m/C9k+Bf2hhJTkm2t1O1r9U9OOiy/qcf2w2FicViqXoXuUowSk5Npbt03ZJa5a3/E7dPgshUYWuWdLUxkKcYekldyy4cFd2+eZh4HbtLEN06TzSa/hTjmukou5XRpxhT9LiGpNPuJaJODjnllqzW7D2XRwUHCi5uTTcpO1872y5K5Dcq5NOx7uFffPv8AQ2VeMnTo03ZSjuynd72mbu1q9PM036VR2i69Le3XBOMnq7STWS57y45ZeNtvimoObi4725uqWq53svH3mtpbDpUp1XQUt6bUpzV0pZtq18kn3uHFgpJK/I3Fya8Lm/3MrC4H0FGnh4ybvG187p3b3lbTi+ht6NCKffrNbsO6km7yeaWXPNX8DDw20JKu3Ty3Fx0tKNnrwszRYTa1R7Rnh3laCnHg2uLEubfY5RpKLdff/DeU8ru0/Sud0rLd3FF8fvXS8mYnYvGVq6qxr23oz3d291F2fwN3CajZtrffXPMuYPD7jcrZzV3wfzoOKKsmR0/v+P0KsFCO61G3Dhx8NWat7GjDGfpPpZW3FFwvZOzbvb/M9TIw96Um7pq/P1K3xLVetKTuG6lQLG3NtPgrxOLe7upW+N/lGVsbZkqjUnoVbO2TKbUnkjbbZ2zhsBh3UrS3YpZLjJ8IxXFglbtmXV6uOGO2HZr+2/aens3C3STqT7tKP3pW1f8AhWr/ABR88YzFTq1JVasnKc5b0pPi386Gx7VdoKuOxMsRVyWlOF8oQ4JdeLfF+RqDZCNc+Tzk5uTtgA6j6Pti/pGJ9LNfq6NpPlKf2I+Vt5+C5hOahFyZBukej9mNm/o+EpUWu8o3n+/LvS9rt5G0AOJJuTtmcAAQAAAAAAAAAaxgACAEgEWxijUlTn6WnrpJXtvx/wCS4Py6rrcJiKeIp3i78Gms0+TT0Z5B9IFLHRj6bDV5qko2qQg92UbX7+9HvNc88rX0vbm+xXbfEYGteUpVKU3+sjKTk+W9FvjbhxNWGDrcufYvxTcT2ramz3B3Sual4iUcjp9jbWoYyiqtKpGcWtVwfFNcH0ZTjNkxecUNxvmJ29PrY1tyGmw8nbvWeqL84by4dPDMxq2FcW9WkWJVajatwFddmzbu5iynG4VupDS0ZbzTta6fduuKurllwlFTeTTlG0uOjTVvMy6VdZX4Kyv4lOOl6SKjvWs7+fEi0uy6MpcRfX2y1gtnrfmpJyclFp5KKV+93eHd9xfnRjGbnfJRTsuNiuOIyWlkvZa2ZQ6qll6/zCkRcpt2zArYV1adXcVnOLV1qvB+DK9jYCG7TrVIRdWEd3ednLqt7XOxkqcYLchlxb/EiVWz3Vpx65CqiyUpSi4rr+yxWob9eNVSsot5J2TvbOS42S9rMiriU3k73v7MiwqTatFNmVhNjVJfWyQJvwKThFXJ9GEouTss7m02fsd3vNesz6OFoUFvTkrJXd3kvE4Ttf8ASnShelgUqkl9t/UXhb6/ll1HGN+7OdqfUUvhgdd2m7TYbZ9DeqS71u5BfXm+i970R4F2j2/Xx1d168ukIr6tOP3Y/F8fUlibRx9XEVZVq83OctW/clwXRGMa4Q299nEnNydsAGVs3Z9XEVFSowcpP1Jfek/srqTbrlkCNm4CpXqxo0o3lJ+SXGTfBI9q2HsqnhaEaFPhnKXGUn9aT+clZGJ2X7OUsHTsu9Ukv1lS2vRcorl6zdnK1Of8R0uiqUrAAMxAAAAABAgBJACxkgA1AACRMYAAgB532u7ENXr4KN1rOkuHN0/+Pq5HoYJwyODtDTo8P2JtzE4Op6TDVXCWko/ZlbhOHH3o9Z7M/S5QqJU8bH0M9N9XlTfnrHzy6mN2j7JYfF3nb0dXhUitf346T9/U82212YxWFbdSnvQX7SF5Qt14x87GyOSGT2f3/JZGZ9JYTHYbEQ36VSE4P7UZKSfmixX2fSn9T2M+YcJiqlKW/RqShL70JOL9a1R0Wzu320aP7WM//ZBP2x3X7RzhPxTNWPUyh0z2mtseafdKZ7Iq8uB59gvphrLKrhIPrGo1/C4v3m0pfTJQ+1haq8HB/wC5Fbxv5M2L1KR1T2VNapsu0dkTeuSOT/6x4X+7V35U7fzmPiPpmh+ywc3+9OMfdvAsb+Q36nJnfU9hpasyKeyacXds8dx30uY6f/apUqfjvTf+33HNbS7Y7Rr39Ji6iT+zB+jX8Fn62TWJ/Iolr8j8nvu0ttYLCxcqlWnDxkk/Vqef7d+liCvHC03N/eleEPG31pew8mk23du7erebfmQS/AT/ADMyyzSkbXbXaLF4t3r1W19xd2C/yrXzuaoFdCjOctynCU5fdjFyfqWZakorjgrKA2dbsjsDi6tnWaox696flBOy835Hc7F7J4TDWlCnvzX2596V+aWkfJIpyamEeuSDkjg+zvYiviLTrXo0uq/WSX+GL0XV+pnpWyNk0MND0dCCitW9ZSfOUtWZwOdlzyyd9Fbk2SACkiAAAAAAAIAEMAAAJAJNQAAhsQAXIJEMABERBFRAbEBpdp9lcFXd50EpP7ULwfnu5S87nN4z6NofscTJdKkVL2x3fcd6C2OacemPc0eU4n6PsdG+66U1wtNp+qUUvaa2r2T2hHXCz8nCX8sme0AsWsmvkPezwuexMWtcJX/0aj9yKP7KxP8Adq/+jU/4nu4Jf5r+Q954dT7P42WmEredOS96Mql2P2jLTCyXjKnH3yuezgi9bL5IN7PJ6P0fY6Wvoo/vVG/5Ys22F+jT/wA2K8oQt/FJ/A9CIIPV5H7C3M5nBdhcBTs3TlUa41Jt/wAMbRfqOgwuFp047lKnGEeUYqK9SLwKZTlLt2KwACsQJAAQAAAAAAAgAQwAAEAAMCSSAX2SDZFiQIAABCBIFxAGQAAAAgQEgAQgABDABAAAAAAAAAJAEIAAAAAAAAQIAAAAAAYAAABIJBcMgACAAAGAABEQIJADIJAEIAABgACAgAAAAAAwCQIQAAAAAAAAABAAAAAAAAAAAAAD/9k=',\n",
       " 'data:image/jpeg;base64,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',\n",
       " 'data:image/jpeg;base64,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',\n",
       " 'data:image/jpeg;base64,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']"
      ]
     },
     "execution_count": 18,
     "metadata": {},
     "output_type": "execute_result"
    }
   ],
   "source": [
    "Images"
   ]
  },
  {
   "cell_type": "code",
   "execution_count": 20,
   "id": "7e287071",
   "metadata": {},
   "outputs": [],
   "source": [
    "search_bar=driver.find_element(By.XPATH,'//input[@class=\"gLFyf\"]')\n",
    "search_bar.send_keys('cars')\n",
    "search_button=driver.find_element(By.XPATH,'/html/body/div[1]/div[3]/form/div[1]/div[1]/div[1]/button/div')\n",
    "search_button.click()"
   ]
  },
  {
   "cell_type": "code",
   "execution_count": 21,
   "id": "ed9d3cd3",
   "metadata": {},
   "outputs": [],
   "source": [
    "cars_images=[]"
   ]
  },
  {
   "cell_type": "code",
   "execution_count": 28,
   "id": "a24bbeef",
   "metadata": {},
   "outputs": [],
   "source": [
    "img=driver.find_elements(By.XPATH,'//img[@class=\"rg_i Q4LuWd\"]')\n",
    "for i in img[0:10]:\n",
    "    img=i.get_attribute('src')\n",
    "    cars_images.append(img)"
   ]
  },
  {
   "cell_type": "code",
   "execution_count": 26,
   "id": "b8a912d8",
   "metadata": {},
   "outputs": [
    {
     "data": {
      "text/plain": [
       "10"
      ]
     },
     "execution_count": 26,
     "metadata": {},
     "output_type": "execute_result"
    }
   ],
   "source": [
    "len(cars_images)\n"
   ]
  },
  {
   "cell_type": "code",
   "execution_count": 29,
   "id": "b9b6a862",
   "metadata": {},
   "outputs": [],
   "source": [
    "search_bar=driver.find_element(By.XPATH,'//input[@class=\"gLFyf\"]')\n",
    "search_bar.send_keys('Machine_learning')\n",
    "search_button=driver.find_element(By.XPATH,'/html/body/div[1]/div[3]/form/div[1]/div[1]/div[1]/button/div')\n",
    "search_button.click()"
   ]
  },
  {
   "cell_type": "code",
   "execution_count": 37,
   "id": "a84aef12",
   "metadata": {},
   "outputs": [],
   "source": [
    "Machine_learning_images=[]\n",
    "imge=driver.find_elements(By.XPATH,'//img[@class=\"rg_i Q4LuWd\"]')\n",
    "for i in imge[0:10]:\n",
    "    imge=i.get_attribute('src')\n",
    "    Machine_learning_images.append(imge)"
   ]
  },
  {
   "cell_type": "code",
   "execution_count": 38,
   "id": "619a3763",
   "metadata": {},
   "outputs": [
    {
     "data": {
      "text/plain": [
       "['data:image/png;base64,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',\n",
       " 'data:image/png;base64,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',\n",
       " 'data:image/jpeg;base64,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',\n",
       " 'data:image/jpeg;base64,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',\n",
       " 'data:image/png;base64,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',\n",
       " 'data:image/jpeg;base64,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',\n",
       " 'data:image/jpeg;base64,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',\n",
       " 'data:image/jpeg;base64,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',\n",
       " 'data:image/jpeg;base64,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',\n",
       " 'data:image/jpeg;base64,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']"
      ]
     },
     "execution_count": 38,
     "metadata": {},
     "output_type": "execute_result"
    }
   ],
   "source": [
    "Machine_learning_images"
   ]
  },
  {
   "cell_type": "code",
   "execution_count": 39,
   "id": "b0d0bef8",
   "metadata": {},
   "outputs": [
    {
     "data": {
      "text/plain": [
       "10"
      ]
     },
     "execution_count": 39,
     "metadata": {},
     "output_type": "execute_result"
    }
   ],
   "source": [
    "len(Machine_learning_images)"
   ]
  },
  {
   "cell_type": "code",
   "execution_count": 41,
   "id": "0ebef486",
   "metadata": {},
   "outputs": [],
   "source": [
    "search_bar=driver.find_element(By.XPATH,'//input[@class=\"gLFyf\"]')\n",
    "search_bar.send_keys('cakes')\n",
    "search_button=driver.find_element(By.XPATH,'/html/body/div[1]/div[3]/form/div[1]/div[1]/div[1]/button/div')\n",
    "search_button.click()"
   ]
  },
  {
   "cell_type": "code",
   "execution_count": 42,
   "id": "f76bba0d",
   "metadata": {},
   "outputs": [],
   "source": [
    "cake_images=[]\n",
    "ime=driver.find_elements(By.XPATH,'//img[@class=\"rg_i Q4LuWd\"]')\n",
    "for i in ime[0:10]:\n",
    "    ime=i.get_attribute('src')\n",
    "    cake_images.append(ime)\n",
    "    "
   ]
  },
  {
   "cell_type": "code",
   "execution_count": 43,
   "id": "854de4a6",
   "metadata": {},
   "outputs": [
    {
     "data": {
      "text/plain": [
       "10"
      ]
     },
     "execution_count": 43,
     "metadata": {},
     "output_type": "execute_result"
    }
   ],
   "source": [
    "len(cake_images)"
   ]
  },
  {
   "cell_type": "code",
   "execution_count": 45,
   "id": "e3accc8c",
   "metadata": {},
   "outputs": [],
   "source": [
    "search_bar=driver.find_element(By.XPATH,'//input[@class=\"gLFyf\"]')\n",
    "search_bar.send_keys('guitar')\n",
    "search_button=driver.find_element(By.XPATH,'/html/body/div[1]/div[3]/form/div[1]/div[1]/div[1]/button/div')\n",
    "search_button.click()"
   ]
  },
  {
   "cell_type": "code",
   "execution_count": 46,
   "id": "63fc116b",
   "metadata": {},
   "outputs": [],
   "source": [
    "guitar_images=[]\n",
    "im=driver.find_elements(By.XPATH,'//img[@class=\"rg_i Q4LuWd\"]')\n",
    "for i in im[0:10]:\n",
    "    im=i.get_attribute('src')\n",
    "    guitar_images.append(im)\n",
    "    "
   ]
  },
  {
   "cell_type": "code",
   "execution_count": 47,
   "id": "5c2c8554",
   "metadata": {},
   "outputs": [
    {
     "data": {
      "text/plain": [
       "10"
      ]
     },
     "execution_count": 47,
     "metadata": {},
     "output_type": "execute_result"
    }
   ],
   "source": [
    "len(guitar_images)"
   ]
  },
  {
   "cell_type": "code",
   "execution_count": 48,
   "id": "d328dbbc",
   "metadata": {},
   "outputs": [],
   "source": [
    "import pandas as pd\n"
   ]
  },
  {
   "cell_type": "code",
   "execution_count": 49,
   "id": "a658b02c",
   "metadata": {},
   "outputs": [
    {
     "data": {
      "text/html": [
       "<div>\n",
       "<style scoped>\n",
       "    .dataframe tbody tr th:only-of-type {\n",
       "        vertical-align: middle;\n",
       "    }\n",
       "\n",
       "    .dataframe tbody tr th {\n",
       "        vertical-align: top;\n",
       "    }\n",
       "\n",
       "    .dataframe thead th {\n",
       "        text-align: right;\n",
       "    }\n",
       "</style>\n",
       "<table border=\"1\" class=\"dataframe\">\n",
       "  <thead>\n",
       "    <tr style=\"text-align: right;\">\n",
       "      <th></th>\n",
       "      <th>Fruits</th>\n",
       "      <th>cars_images</th>\n",
       "      <th>Ml</th>\n",
       "      <th>cake</th>\n",
       "      <th>guitar</th>\n",
       "    </tr>\n",
       "  </thead>\n",
       "  <tbody>\n",
       "    <tr>\n",
       "      <th>0</th>\n",
       "      <td>data:image/jpeg;base64,/9j/4AAQSkZJRgABAQAAAQA...</td>\n",
       "      <td>data:image/jpeg;base64,/9j/4AAQSkZJRgABAQAAAQA...</td>\n",
       "      <td>data:image/png;base64,iVBORw0KGgoAAAANSUhEUgAA...</td>\n",
       "      <td>data:image/jpeg;base64,/9j/4AAQSkZJRgABAQAAAQA...</td>\n",
       "      <td>data:image/jpeg;base64,/9j/4AAQSkZJRgABAQAAAQA...</td>\n",
       "    </tr>\n",
       "    <tr>\n",
       "      <th>1</th>\n",
       "      <td>data:image/jpeg;base64,/9j/4AAQSkZJRgABAQAAAQA...</td>\n",
       "      <td>data:image/jpeg;base64,/9j/4AAQSkZJRgABAQAAAQA...</td>\n",
       "      <td>data:image/png;base64,iVBORw0KGgoAAAANSUhEUgAA...</td>\n",
       "      <td>data:image/jpeg;base64,/9j/4AAQSkZJRgABAQAAAQA...</td>\n",
       "      <td>data:image/jpeg;base64,/9j/4AAQSkZJRgABAQAAAQA...</td>\n",
       "    </tr>\n",
       "    <tr>\n",
       "      <th>2</th>\n",
       "      <td>data:image/png;base64,iVBORw0KGgoAAAANSUhEUgAA...</td>\n",
       "      <td>data:image/jpeg;base64,/9j/4AAQSkZJRgABAQAAAQA...</td>\n",
       "      <td>data:image/jpeg;base64,/9j/4AAQSkZJRgABAQAAAQA...</td>\n",
       "      <td>data:image/jpeg;base64,/9j/4AAQSkZJRgABAQAAAQA...</td>\n",
       "      <td>data:image/jpeg;base64,/9j/4AAQSkZJRgABAQAAAQA...</td>\n",
       "    </tr>\n",
       "    <tr>\n",
       "      <th>3</th>\n",
       "      <td>data:image/jpeg;base64,/9j/4AAQSkZJRgABAQAAAQA...</td>\n",
       "      <td>data:image/jpeg;base64,/9j/4AAQSkZJRgABAQAAAQA...</td>\n",
       "      <td>data:image/jpeg;base64,/9j/4AAQSkZJRgABAQAAAQA...</td>\n",
       "      <td>data:image/jpeg;base64,/9j/4AAQSkZJRgABAQAAAQA...</td>\n",
       "      <td>data:image/jpeg;base64,/9j/4AAQSkZJRgABAQAAAQA...</td>\n",
       "    </tr>\n",
       "    <tr>\n",
       "      <th>4</th>\n",
       "      <td>data:image/jpeg;base64,/9j/4AAQSkZJRgABAQAAAQA...</td>\n",
       "      <td>data:image/jpeg;base64,/9j/4AAQSkZJRgABAQAAAQA...</td>\n",
       "      <td>data:image/png;base64,iVBORw0KGgoAAAANSUhEUgAA...</td>\n",
       "      <td>data:image/jpeg;base64,/9j/4AAQSkZJRgABAQAAAQA...</td>\n",
       "      <td>data:image/jpeg;base64,/9j/4AAQSkZJRgABAQAAAQA...</td>\n",
       "    </tr>\n",
       "    <tr>\n",
       "      <th>5</th>\n",
       "      <td>data:image/jpeg;base64,/9j/4AAQSkZJRgABAQAAAQA...</td>\n",
       "      <td>data:image/jpeg;base64,/9j/4AAQSkZJRgABAQAAAQA...</td>\n",
       "      <td>data:image/jpeg;base64,/9j/4AAQSkZJRgABAQAAAQA...</td>\n",
       "      <td>data:image/jpeg;base64,/9j/4AAQSkZJRgABAQAAAQA...</td>\n",
       "      <td>data:image/jpeg;base64,/9j/4AAQSkZJRgABAQAAAQA...</td>\n",
       "    </tr>\n",
       "    <tr>\n",
       "      <th>6</th>\n",
       "      <td>data:image/jpeg;base64,/9j/4AAQSkZJRgABAQAAAQA...</td>\n",
       "      <td>data:image/jpeg;base64,/9j/4AAQSkZJRgABAQAAAQA...</td>\n",
       "      <td>data:image/jpeg;base64,/9j/4AAQSkZJRgABAQAAAQA...</td>\n",
       "      <td>data:image/jpeg;base64,/9j/4AAQSkZJRgABAQAAAQA...</td>\n",
       "      <td>data:image/jpeg;base64,/9j/4AAQSkZJRgABAQAAAQA...</td>\n",
       "    </tr>\n",
       "    <tr>\n",
       "      <th>7</th>\n",
       "      <td>data:image/jpeg;base64,/9j/4AAQSkZJRgABAQAAAQA...</td>\n",
       "      <td>data:image/jpeg;base64,/9j/4AAQSkZJRgABAQAAAQA...</td>\n",
       "      <td>data:image/jpeg;base64,/9j/4AAQSkZJRgABAQAAAQA...</td>\n",
       "      <td>data:image/jpeg;base64,/9j/4AAQSkZJRgABAQAAAQA...</td>\n",
       "      <td>data:image/jpeg;base64,/9j/4AAQSkZJRgABAQAAAQA...</td>\n",
       "    </tr>\n",
       "    <tr>\n",
       "      <th>8</th>\n",
       "      <td>data:image/jpeg;base64,/9j/4AAQSkZJRgABAQAAAQA...</td>\n",
       "      <td>data:image/jpeg;base64,/9j/4AAQSkZJRgABAQAAAQA...</td>\n",
       "      <td>data:image/jpeg;base64,/9j/4AAQSkZJRgABAQAAAQA...</td>\n",
       "      <td>data:image/jpeg;base64,/9j/4AAQSkZJRgABAQAAAQA...</td>\n",
       "      <td>data:image/jpeg;base64,/9j/4AAQSkZJRgABAQAAAQA...</td>\n",
       "    </tr>\n",
       "    <tr>\n",
       "      <th>9</th>\n",
       "      <td>data:image/jpeg;base64,/9j/4AAQSkZJRgABAQAAAQA...</td>\n",
       "      <td>data:image/jpeg;base64,/9j/4AAQSkZJRgABAQAAAQA...</td>\n",
       "      <td>data:image/jpeg;base64,/9j/4AAQSkZJRgABAQAAAQA...</td>\n",
       "      <td>data:image/jpeg;base64,/9j/4AAQSkZJRgABAQAAAQA...</td>\n",
       "      <td>data:image/jpeg;base64,/9j/4AAQSkZJRgABAQAAAQA...</td>\n",
       "    </tr>\n",
       "  </tbody>\n",
       "</table>\n",
       "</div>"
      ],
      "text/plain": [
       "                                              Fruits  \\\n",
       "0  data:image/jpeg;base64,/9j/4AAQSkZJRgABAQAAAQA...   \n",
       "1  data:image/jpeg;base64,/9j/4AAQSkZJRgABAQAAAQA...   \n",
       "2  data:image/png;base64,iVBORw0KGgoAAAANSUhEUgAA...   \n",
       "3  data:image/jpeg;base64,/9j/4AAQSkZJRgABAQAAAQA...   \n",
       "4  data:image/jpeg;base64,/9j/4AAQSkZJRgABAQAAAQA...   \n",
       "5  data:image/jpeg;base64,/9j/4AAQSkZJRgABAQAAAQA...   \n",
       "6  data:image/jpeg;base64,/9j/4AAQSkZJRgABAQAAAQA...   \n",
       "7  data:image/jpeg;base64,/9j/4AAQSkZJRgABAQAAAQA...   \n",
       "8  data:image/jpeg;base64,/9j/4AAQSkZJRgABAQAAAQA...   \n",
       "9  data:image/jpeg;base64,/9j/4AAQSkZJRgABAQAAAQA...   \n",
       "\n",
       "                                         cars_images  \\\n",
       "0  data:image/jpeg;base64,/9j/4AAQSkZJRgABAQAAAQA...   \n",
       "1  data:image/jpeg;base64,/9j/4AAQSkZJRgABAQAAAQA...   \n",
       "2  data:image/jpeg;base64,/9j/4AAQSkZJRgABAQAAAQA...   \n",
       "3  data:image/jpeg;base64,/9j/4AAQSkZJRgABAQAAAQA...   \n",
       "4  data:image/jpeg;base64,/9j/4AAQSkZJRgABAQAAAQA...   \n",
       "5  data:image/jpeg;base64,/9j/4AAQSkZJRgABAQAAAQA...   \n",
       "6  data:image/jpeg;base64,/9j/4AAQSkZJRgABAQAAAQA...   \n",
       "7  data:image/jpeg;base64,/9j/4AAQSkZJRgABAQAAAQA...   \n",
       "8  data:image/jpeg;base64,/9j/4AAQSkZJRgABAQAAAQA...   \n",
       "9  data:image/jpeg;base64,/9j/4AAQSkZJRgABAQAAAQA...   \n",
       "\n",
       "                                                  Ml  \\\n",
       "0  data:image/png;base64,iVBORw0KGgoAAAANSUhEUgAA...   \n",
       "1  data:image/png;base64,iVBORw0KGgoAAAANSUhEUgAA...   \n",
       "2  data:image/jpeg;base64,/9j/4AAQSkZJRgABAQAAAQA...   \n",
       "3  data:image/jpeg;base64,/9j/4AAQSkZJRgABAQAAAQA...   \n",
       "4  data:image/png;base64,iVBORw0KGgoAAAANSUhEUgAA...   \n",
       "5  data:image/jpeg;base64,/9j/4AAQSkZJRgABAQAAAQA...   \n",
       "6  data:image/jpeg;base64,/9j/4AAQSkZJRgABAQAAAQA...   \n",
       "7  data:image/jpeg;base64,/9j/4AAQSkZJRgABAQAAAQA...   \n",
       "8  data:image/jpeg;base64,/9j/4AAQSkZJRgABAQAAAQA...   \n",
       "9  data:image/jpeg;base64,/9j/4AAQSkZJRgABAQAAAQA...   \n",
       "\n",
       "                                                cake  \\\n",
       "0  data:image/jpeg;base64,/9j/4AAQSkZJRgABAQAAAQA...   \n",
       "1  data:image/jpeg;base64,/9j/4AAQSkZJRgABAQAAAQA...   \n",
       "2  data:image/jpeg;base64,/9j/4AAQSkZJRgABAQAAAQA...   \n",
       "3  data:image/jpeg;base64,/9j/4AAQSkZJRgABAQAAAQA...   \n",
       "4  data:image/jpeg;base64,/9j/4AAQSkZJRgABAQAAAQA...   \n",
       "5  data:image/jpeg;base64,/9j/4AAQSkZJRgABAQAAAQA...   \n",
       "6  data:image/jpeg;base64,/9j/4AAQSkZJRgABAQAAAQA...   \n",
       "7  data:image/jpeg;base64,/9j/4AAQSkZJRgABAQAAAQA...   \n",
       "8  data:image/jpeg;base64,/9j/4AAQSkZJRgABAQAAAQA...   \n",
       "9  data:image/jpeg;base64,/9j/4AAQSkZJRgABAQAAAQA...   \n",
       "\n",
       "                                              guitar  \n",
       "0  data:image/jpeg;base64,/9j/4AAQSkZJRgABAQAAAQA...  \n",
       "1  data:image/jpeg;base64,/9j/4AAQSkZJRgABAQAAAQA...  \n",
       "2  data:image/jpeg;base64,/9j/4AAQSkZJRgABAQAAAQA...  \n",
       "3  data:image/jpeg;base64,/9j/4AAQSkZJRgABAQAAAQA...  \n",
       "4  data:image/jpeg;base64,/9j/4AAQSkZJRgABAQAAAQA...  \n",
       "5  data:image/jpeg;base64,/9j/4AAQSkZJRgABAQAAAQA...  \n",
       "6  data:image/jpeg;base64,/9j/4AAQSkZJRgABAQAAAQA...  \n",
       "7  data:image/jpeg;base64,/9j/4AAQSkZJRgABAQAAAQA...  \n",
       "8  data:image/jpeg;base64,/9j/4AAQSkZJRgABAQAAAQA...  \n",
       "9  data:image/jpeg;base64,/9j/4AAQSkZJRgABAQAAAQA...  "
      ]
     },
     "execution_count": 49,
     "metadata": {},
     "output_type": "execute_result"
    }
   ],
   "source": [
    "df=pd.DataFrame({'Fruits':Images,'cars_images':cars_images,'Ml':Machine_learning_images,'cake':cake_images,'guitar':guitar_images})\n",
    "df"
   ]
  },
  {
   "cell_type": "code",
   "execution_count": 10,
   "id": "5aba80d9",
   "metadata": {},
   "outputs": [],
   "source": [
    "driver.get(\"https://www.flipkart.com\")"
   ]
  },
  {
   "cell_type": "code",
   "execution_count": 11,
   "id": "5ab3fc34",
   "metadata": {},
   "outputs": [],
   "source": [
    "search_bar=driver.find_element(By.XPATH,'/html/body/div[1]/div/div[1]/div[1]/div[2]/div[2]/form/div/div/input')\n",
    "search_bar.send_keys('smartphones')\n",
    "search_button=driver.find_element(By.XPATH,'/html/body/div[1]/div/div[1]/div[1]/div[2]/div[2]/form/div/button')\n",
    "search_button.click()"
   ]
  },
  {
   "cell_type": "code",
   "execution_count": 74,
   "id": "43bee898",
   "metadata": {},
   "outputs": [],
   "source": [
    "Brand_Name1=[]\n",
    "smartphone_Name=[]\n",
    "colour=[]\n",
    "RAM_ROM4=[]\n",
    "primary_secondry_camera=[]\n",
    "Display1=[]\n",
    "Battery=[]\n",
    "price=[]\n",
    "Url=[]\n",
    "\n",
    "\n"
   ]
  },
  {
   "cell_type": "code",
   "execution_count": 96,
   "id": "84add344",
   "metadata": {},
   "outputs": [],
   "source": [
    "brand=driver.find_elements(By.XPATH,'//div[@class=\"_4rR01T\"]')\n",
    "try:\n",
    "    for i in brand:\n",
    "        brand=i.text.split(\" \")[0]\n",
    "        Brand_Name1.append(brand)\n",
    "except:\n",
    "    Brand_Name1.append(\"-\")"
   ]
  },
  {
   "cell_type": "code",
   "execution_count": 97,
   "id": "95e51570",
   "metadata": {},
   "outputs": [
    {
     "data": {
      "text/plain": [
       "24"
      ]
     },
     "execution_count": 97,
     "metadata": {},
     "output_type": "execute_result"
    }
   ],
   "source": [
    "len(Brand_Name1)"
   ]
  },
  {
   "cell_type": "code",
   "execution_count": 95,
   "id": "86e28364",
   "metadata": {},
   "outputs": [
    {
     "data": {
      "text/plain": [
       "[]"
      ]
     },
     "execution_count": 95,
     "metadata": {},
     "output_type": "execute_result"
    }
   ],
   "source": [
    "Brand_Name1"
   ]
  },
  {
   "cell_type": "code",
   "execution_count": 67,
   "id": "3d7489d6",
   "metadata": {},
   "outputs": [],
   "source": [
    "smart=driver.find_elements(By.XPATH,'//div[@class=\"_4rR01T\"]')\n",
    "try:\n",
    "    for i in smart:\n",
    "        smart=i.text.split(\" \")[1]\n",
    "        smartphone_Name.append(smart)\n",
    "except:\n",
    "    smartphone_Name.append(\"-\")"
   ]
  },
  {
   "cell_type": "code",
   "execution_count": 69,
   "id": "82df6954",
   "metadata": {},
   "outputs": [
    {
     "data": {
      "text/plain": [
       "24"
      ]
     },
     "execution_count": 69,
     "metadata": {},
     "output_type": "execute_result"
    }
   ],
   "source": [
    "len(smartphone_Name)"
   ]
  },
  {
   "cell_type": "code",
   "execution_count": 95,
   "id": "faa1c5b1",
   "metadata": {},
   "outputs": [],
   "source": [
    "colour1=[]\n",
    "col=driver.find_elements(By.XPATH,'//div[@class=\"_4rR01T\"]')\n",
    "try:\n",
    "    for i in col:\n",
    "        col=i.text.split(\" \")[3:4]\n",
    "        colour.append(col)\n",
    "except:\n",
    "    colour.append(\"-\")\n",
    "    "
   ]
  },
  {
   "cell_type": "code",
   "execution_count": 96,
   "id": "a3d4e7e9",
   "metadata": {},
   "outputs": [
    {
     "data": {
      "text/plain": [
       "24"
      ]
     },
     "execution_count": 96,
     "metadata": {},
     "output_type": "execute_result"
    }
   ],
   "source": [
    "len(colour)"
   ]
  },
  {
   "cell_type": "code",
   "execution_count": 57,
   "id": "5bbf81a8",
   "metadata": {},
   "outputs": [],
   "source": [
    "\n",
    "\n",
    "    "
   ]
  },
  {
   "cell_type": "code",
   "execution_count": 75,
   "id": "74432340",
   "metadata": {},
   "outputs": [],
   "source": [
    "data=driver.find_elements(By.XPATH,'//li[@class=\"rgWa7D\"]')\n",
    "for i in data[0:24]:\n",
    "    data=i.text.split(\"|\"),(\",\")[0]\n",
    "    RAM_ROM4.append(data)\n",
    "    \n",
    "    "
   ]
  },
  {
   "cell_type": "code",
   "execution_count": 76,
   "id": "a34207fe",
   "metadata": {},
   "outputs": [
    {
     "data": {
      "text/plain": [
       "24"
      ]
     },
     "execution_count": 76,
     "metadata": {},
     "output_type": "execute_result"
    }
   ],
   "source": [
    "len(RAM_ROM4)"
   ]
  },
  {
   "cell_type": "code",
   "execution_count": 83,
   "id": "86dbc3b4",
   "metadata": {},
   "outputs": [],
   "source": [
    "\n",
    "    details=[]\n",
    "    de=driver.find_elements(By.XPATH,'//div[@class=\"fMghEO\"]')\n",
    "    for i in de:\n",
    "        de=i.text\n",
    "        details.append(de)\n",
    "        "
   ]
  },
  {
   "cell_type": "code",
   "execution_count": 84,
   "id": "06b200f9",
   "metadata": {},
   "outputs": [
    {
     "data": {
      "text/plain": [
       "24"
      ]
     },
     "execution_count": 84,
     "metadata": {},
     "output_type": "execute_result"
    }
   ],
   "source": [
    "len(details)"
   ]
  },
  {
   "cell_type": "code",
   "execution_count": 85,
   "id": "6ff4b4eb",
   "metadata": {},
   "outputs": [
    {
     "data": {
      "text/plain": [
       "['4 GB RAM | 64 GB ROM | Expandable Upto 1 TB\\n16.51 cm (6.5 inch) HD+ Display\\n48MP + 2MP + 2MP | 8MP Front Camera\\n5000 mAh Battery\\nUNISOC T700 Processor\\n1 Year on Handset and 6 Months on Accessories',\n",
       " '3 GB RAM | 32 GB ROM | Expandable Upto 512 GB\\n16.59 cm (6.53 inch) HD+ Display\\n13MP + 2MP + 2MP | 5MP Front Camera\\n5000 mAh Lithium-ion Polymer Battery\\nMediaTek Helio G35 Processor\\n1 Year Warranty for Handset, 6 Months for Accessories',\n",
       " '4 GB RAM | 64 GB ROM | Expandable Upto 512 GB\\n16.59 cm (6.53 inch) HD+ Display\\n13MP + 2MP + 2MP | 5MP Front Camera\\n5000 mAh Lithium-ion Polymer Battery\\nMediaTek Helio G35 Processor\\n1 Year Warranty for Handset, 6 Months for Accessories',\n",
       " '128 GB ROM\\n15.49 cm (6.1 inch) Super Retina XDR Display\\n12MP + 12MP | 12MP Front Camera\\nA15 Bionic Chip, 6 Core Processor Processor\\n1 Year Warranty for Phone and 6 Months Warranty for In-Box Accessories',\n",
       " '6 GB RAM | 128 GB ROM | Expandable Upto 1 TB\\n16.94 cm (6.67 inch) Full HD+ Super AMOLED Display\\n64MP + 8MP + 2MP | 16MP Front Camera\\n5000 mAh Lithium-ion Polymer Battery\\nQualcomm Snapdragon 695 5G Processor\\nOne Year for Handset, 6 Months for Accessories',\n",
       " '6 GB RAM | 128 GB ROM\\n16.64 cm (6.55 inch) Full HD+ Display\\n50MP + 8MP + 2MP | 16MP Front Camera\\n5000 mAh Lithium Polymer Battery\\nQualcomm Snapdragon 695 5G Processor\\n1 Year on Handset and 6 Months on Accessories',\n",
       " '4 GB RAM | 64 GB ROM | Expandable Upto 512 GB\\n16.59 cm (6.53 inch) HD+ Display\\n13MP + 2MP + 2MP | 5MP Front Camera\\n5000 mAh Lithium-ion Polymer Battery\\nMediaTek G35 Processor\\n1 Year Warranty for Handset, 6 Months for Accessories',\n",
       " '6 GB RAM | 128 GB ROM | Expandable Upto 1 TB\\n16.33 cm (6.43 inch) Full HD+ AMOLED Display\\n64MP + 8MP + 2MP | 16MP Front Camera\\n5000 mAh Lithium-ion Polymer Battery\\nMediatek Helio G96 Processor\\nOne Year for Handset, 6 Months for Accessories',\n",
       " '128 GB ROM\\n15.49 cm (6.1 inch) Super Retina XDR Display\\n12MP + 12MP | 12MP Front Camera\\nA15 Bionic Chip, 6 Core Processor Processor\\n1 Year Warranty for Phone and 6 Months Warranty for In-Box Accessories',\n",
       " '4 GB RAM | 64 GB ROM | Expandable Upto 512 GB\\n16.59 cm (6.53 inch) HD+ Display\\n13MP Rear Camera | 5MP Front Camera\\n5000 mAh Li-Polymer Battery\\nMediaTek Helio G25 Processor\\nBrand Warranty of 1 Year Available for Mobile and 6 Months for Accessories',\n",
       " '4 GB RAM | 128 GB ROM | Expandable Upto 1 TB\\n16.36 cm (6.44 inch) Full HD+ AMOLED Display\\n50MP + 2MP + 2MP | 16MP Front Camera\\n5000 mAh Lithium Battery\\nQualcomm Snapdragon 680 Processor\\n1 Year Handset and 6 Months Accessories',\n",
       " '4 GB RAM | 128 GB ROM | Expandable Upto 1 TB\\n16.36 cm (6.44 inch) Full HD+ AMOLED Display\\n50MP + 2MP + 2MP | 16MP Front Camera\\n5000 mAh Lithium Battery\\nQualcomm Snapdragon 680 Processor\\n1 Year Handset and 6 Months Accessories',\n",
       " '4 GB RAM | 64 GB ROM | Expandable Upto 512 GB\\n16.71 cm (6.58 inch) Full HD+ Display\\n50MP + 2MP | 8MP Front Camera\\n5000 mAh Lithium Ion Polymer Battery\\nMediatek Dimensity 700 Processor\\n1 Year Warranty for Handset and 6 Months for Accessories',\n",
       " '6 GB RAM | 128 GB ROM\\n16.76 cm (6.6 inch) Full HD+ Display\\n50MP + 8MP + 2MP | 16MP Front Camera\\n5000 mAh Lithium Battery\\nQualcomm Snapdragon 680 Processor\\n1 Year on Handset and 6 Months on Accessories',\n",
       " '6 GB RAM | 128 GB ROM | Expandable Upto 512 GB\\n16.71 cm (6.58 inch) Full HD+ Display\\n50MP + 2MP | 8MP Front Camera\\n5000 mAh Lithium Ion Polymer Battery\\nMediatek Dimensity 700 Processor\\n1 Year Warranty for Handset and 6 Months for Accessories',\n",
       " '6 GB RAM | 64 GB ROM | Expandable Upto 512 GB\\n16.33 cm (6.43 inch) Full HD+ Display\\n64MP + 8MP + 2MP + 2MP | 13MP Front Camera\\n5000 mAh Lithium Polymer Battery\\nMediatek Helio G95 Octa Core Processor\\n1 Year Manufacturer Warranty for Phone and 6 Months Warranty for In the Box Accessories',\n",
       " '6 GB RAM | 128 GB ROM | Expandable Upto 512 GB\\n16.71 cm (6.58 inch) Full HD+ Display\\n50MP + 2MP | 8MP Front Camera\\n5000 mAh Lithium Ion Polymer Battery\\nMediatek Dimensity 700 Processor\\n1 Year Warranty for Handset and 6 Months for Accessories',\n",
       " '6 GB RAM | 128 GB ROM | Expandable Upto 1 TB\\n16.36 cm (6.44 inch) Full HD+ AMOLED Display\\n50MP + 2MP + 2MP | 16MP Front Camera\\n5000 mAh Lithium Battery\\nQualcomm Snapdragon 680 Processor\\n1 Year Handset and 6 Months Accessories',\n",
       " '128 GB ROM\\n15.49 cm (6.1 inch) Super Retina XDR Display\\n12MP + 12MP | 12MP Front Camera\\nA15 Bionic Chip, 6 Core Processor Processor\\n1 Year Warranty for Phone and 6 Months Warranty for In-Box Accessories',\n",
       " '4 GB RAM | 64 GB ROM | Expandable Upto 256 GB\\n17.32 cm (6.82 inch) HD+ Display\\n13Mp + AI Lens | 8MP Front Camera\\n6000 mAh Li-ion Polymer Battery\\nMediaTek G37 Processor\\n1 Year on Handset and 6 Months on Accessories',\n",
       " '256 GB ROM\\n15.49 cm (6.1 inch) Super Retina XDR Display\\n12MP + 12MP | 12MP Front Camera\\nA15 Bionic Chip, 6 Core Processor Processor\\n1 Year Warranty for Phone and 6 Months Warranty for In-Box Accessories',\n",
       " '4 GB RAM | 64 GB ROM | Expandable Upto 1 TB\\n17.02 cm (6.7 inch) HD+ Display\\n50MP + 2MP | 5MP Front Camera\\n6000 mAh Lithium Polymer Battery\\nQualcomm Snapdragon 680 Processor\\n1 Year Warranty for Phone and 6 Months Warranty for In-Box Accessories',\n",
       " '6 GB RAM | 128 GB ROM | Expandable Upto 1 TB\\n16.76 cm (6.6 inch) Full HD+ Display\\n50MP + 8MP + 2MP | 8MP Front Camera\\n5000 mAh Lithium Ion Battery\\nQualcomm Snapdragon 750G Processor\\n1 Year Warranty Provided by the Manufacturer from Date of Purchase',\n",
       " '2 GB RAM | 32 GB ROM | Expandable Upto 1 TB\\n16.51 cm (6.5 inch) HD+ Display\\n8MP Rear Camera | 5MP Front Camera\\n5000 mAh Lithium Ion Battery\\nUnisoc T612 Processor\\n1 Year Manufacturer Warranty for Phone and 6 Months Warranty for In-Box Accessories']"
      ]
     },
     "execution_count": 85,
     "metadata": {},
     "output_type": "execute_result"
    }
   ],
   "source": [
    "details"
   ]
  },
  {
   "cell_type": "code",
   "execution_count": 86,
   "id": "d81f2a5e",
   "metadata": {},
   "outputs": [],
   "source": [
    "amount=driver.find_elements(By.XPATH,'//div[@class=\"_30jeq3 _1_WHN1\"]')\n",
    "for i in amount:\n",
    "    amount=i.text\n",
    "    price.append(amount)\n",
    "    "
   ]
  },
  {
   "cell_type": "code",
   "execution_count": 87,
   "id": "75bbcf82",
   "metadata": {},
   "outputs": [],
   "source": [
    "url=driver.find_elements(By.XPATH,'//img[@class=\"_396cs4\"]')\n",
    "try:\n",
    "    for i in url[0:24]:\n",
    "        url=i.get_attribute('src')\n",
    "        Url.append(url)\n",
    "except:\n",
    "    Url.append(\"-\")\n",
    "    "
   ]
  },
  {
   "cell_type": "code",
   "execution_count": 88,
   "id": "e52762de",
   "metadata": {},
   "outputs": [
    {
     "data": {
      "text/plain": [
       "24"
      ]
     },
     "execution_count": 88,
     "metadata": {},
     "output_type": "execute_result"
    }
   ],
   "source": [
    "len(Url)"
   ]
  },
  {
   "cell_type": "code",
   "execution_count": 98,
   "id": "0692cb10",
   "metadata": {},
   "outputs": [
    {
     "data": {
      "text/html": [
       "<div>\n",
       "<style scoped>\n",
       "    .dataframe tbody tr th:only-of-type {\n",
       "        vertical-align: middle;\n",
       "    }\n",
       "\n",
       "    .dataframe tbody tr th {\n",
       "        vertical-align: top;\n",
       "    }\n",
       "\n",
       "    .dataframe thead th {\n",
       "        text-align: right;\n",
       "    }\n",
       "</style>\n",
       "<table border=\"1\" class=\"dataframe\">\n",
       "  <thead>\n",
       "    <tr style=\"text-align: right;\">\n",
       "      <th></th>\n",
       "      <th>Phone_Name</th>\n",
       "      <th>Phone_details</th>\n",
       "      <th>Price</th>\n",
       "      <th>Product_Url</th>\n",
       "    </tr>\n",
       "  </thead>\n",
       "  <tbody>\n",
       "    <tr>\n",
       "      <th>0</th>\n",
       "      <td>MOTOROLA</td>\n",
       "      <td>4 GB RAM | 64 GB ROM | Expandable Upto 1 TB\\n1...</td>\n",
       "      <td>₹7,999</td>\n",
       "      <td>https://rukminim1.flixcart.com/image/312/312/l...</td>\n",
       "    </tr>\n",
       "    <tr>\n",
       "      <th>1</th>\n",
       "      <td>POCO</td>\n",
       "      <td>3 GB RAM | 32 GB ROM | Expandable Upto 512 GB\\...</td>\n",
       "      <td>₹6,499</td>\n",
       "      <td>https://rukminim1.flixcart.com/image/312/312/k...</td>\n",
       "    </tr>\n",
       "    <tr>\n",
       "      <th>2</th>\n",
       "      <td>POCO</td>\n",
       "      <td>4 GB RAM | 64 GB ROM | Expandable Upto 512 GB\\...</td>\n",
       "      <td>₹7,499</td>\n",
       "      <td>https://rukminim1.flixcart.com/image/312/312/k...</td>\n",
       "    </tr>\n",
       "    <tr>\n",
       "      <th>3</th>\n",
       "      <td>APPLE</td>\n",
       "      <td>128 GB ROM\\n15.49 cm (6.1 inch) Super Retina X...</td>\n",
       "      <td>₹73,999</td>\n",
       "      <td>https://rukminim1.flixcart.com/image/312/312/x...</td>\n",
       "    </tr>\n",
       "    <tr>\n",
       "      <th>4</th>\n",
       "      <td>POCO</td>\n",
       "      <td>6 GB RAM | 128 GB ROM | Expandable Upto 1 TB\\n...</td>\n",
       "      <td>₹16,499</td>\n",
       "      <td>https://rukminim1.flixcart.com/image/312/312/l...</td>\n",
       "    </tr>\n",
       "    <tr>\n",
       "      <th>5</th>\n",
       "      <td>MOTOROLA</td>\n",
       "      <td>6 GB RAM | 128 GB ROM\\n16.64 cm (6.55 inch) Fu...</td>\n",
       "      <td>₹14,999</td>\n",
       "      <td>https://rukminim1.flixcart.com/image/312/312/x...</td>\n",
       "    </tr>\n",
       "    <tr>\n",
       "      <th>6</th>\n",
       "      <td>POCO</td>\n",
       "      <td>4 GB RAM | 64 GB ROM | Expandable Upto 512 GB\\...</td>\n",
       "      <td>₹7,499</td>\n",
       "      <td>https://rukminim1.flixcart.com/image/312/312/k...</td>\n",
       "    </tr>\n",
       "    <tr>\n",
       "      <th>7</th>\n",
       "      <td>POCO</td>\n",
       "      <td>6 GB RAM | 128 GB ROM | Expandable Upto 1 TB\\n...</td>\n",
       "      <td>₹12,999</td>\n",
       "      <td>https://rukminim1.flixcart.com/image/312/312/l...</td>\n",
       "    </tr>\n",
       "    <tr>\n",
       "      <th>8</th>\n",
       "      <td>APPLE</td>\n",
       "      <td>128 GB ROM\\n15.49 cm (6.1 inch) Super Retina X...</td>\n",
       "      <td>₹73,999</td>\n",
       "      <td>https://rukminim1.flixcart.com/image/312/312/x...</td>\n",
       "    </tr>\n",
       "    <tr>\n",
       "      <th>9</th>\n",
       "      <td>REDMI</td>\n",
       "      <td>4 GB RAM | 64 GB ROM | Expandable Upto 512 GB\\...</td>\n",
       "      <td>₹7,499</td>\n",
       "      <td>https://rukminim1.flixcart.com/image/312/312/k...</td>\n",
       "    </tr>\n",
       "    <tr>\n",
       "      <th>10</th>\n",
       "      <td>vivo</td>\n",
       "      <td>4 GB RAM | 128 GB ROM | Expandable Upto 1 TB\\n...</td>\n",
       "      <td>₹14,499</td>\n",
       "      <td>https://rukminim1.flixcart.com/image/312/312/l...</td>\n",
       "    </tr>\n",
       "    <tr>\n",
       "      <th>11</th>\n",
       "      <td>vivo</td>\n",
       "      <td>4 GB RAM | 128 GB ROM | Expandable Upto 1 TB\\n...</td>\n",
       "      <td>₹14,499</td>\n",
       "      <td>https://rukminim1.flixcart.com/image/312/312/l...</td>\n",
       "    </tr>\n",
       "    <tr>\n",
       "      <th>12</th>\n",
       "      <td>POCO</td>\n",
       "      <td>4 GB RAM | 64 GB ROM | Expandable Upto 512 GB\\...</td>\n",
       "      <td>₹11,499</td>\n",
       "      <td>https://rukminim1.flixcart.com/image/312/312/l...</td>\n",
       "    </tr>\n",
       "    <tr>\n",
       "      <th>13</th>\n",
       "      <td>MOTOROLA</td>\n",
       "      <td>6 GB RAM | 128 GB ROM\\n16.76 cm (6.6 inch) Ful...</td>\n",
       "      <td>₹12,999</td>\n",
       "      <td>https://rukminim1.flixcart.com/image/312/312/l...</td>\n",
       "    </tr>\n",
       "    <tr>\n",
       "      <th>14</th>\n",
       "      <td>POCO</td>\n",
       "      <td>6 GB RAM | 128 GB ROM | Expandable Upto 512 GB...</td>\n",
       "      <td>₹13,499</td>\n",
       "      <td>https://rukminim1.flixcart.com/image/312/312/l...</td>\n",
       "    </tr>\n",
       "    <tr>\n",
       "      <th>15</th>\n",
       "      <td>REDMI</td>\n",
       "      <td>6 GB RAM | 64 GB ROM | Expandable Upto 512 GB\\...</td>\n",
       "      <td>₹11,999</td>\n",
       "      <td>https://rukminim1.flixcart.com/image/312/312/x...</td>\n",
       "    </tr>\n",
       "    <tr>\n",
       "      <th>16</th>\n",
       "      <td>POCO</td>\n",
       "      <td>6 GB RAM | 128 GB ROM | Expandable Upto 512 GB...</td>\n",
       "      <td>₹13,499</td>\n",
       "      <td>https://rukminim1.flixcart.com/image/312/312/l...</td>\n",
       "    </tr>\n",
       "    <tr>\n",
       "      <th>17</th>\n",
       "      <td>vivo</td>\n",
       "      <td>6 GB RAM | 128 GB ROM | Expandable Upto 1 TB\\n...</td>\n",
       "      <td>₹15,999</td>\n",
       "      <td>https://rukminim1.flixcart.com/image/312/312/l...</td>\n",
       "    </tr>\n",
       "    <tr>\n",
       "      <th>18</th>\n",
       "      <td>APPLE</td>\n",
       "      <td>128 GB ROM\\n15.49 cm (6.1 inch) Super Retina X...</td>\n",
       "      <td>₹73,999</td>\n",
       "      <td>https://rukminim1.flixcart.com/image/312/312/x...</td>\n",
       "    </tr>\n",
       "    <tr>\n",
       "      <th>19</th>\n",
       "      <td>Infinix</td>\n",
       "      <td>4 GB RAM | 64 GB ROM | Expandable Upto 256 GB\\...</td>\n",
       "      <td>₹8,599</td>\n",
       "      <td>https://rukminim1.flixcart.com/image/312/312/x...</td>\n",
       "    </tr>\n",
       "    <tr>\n",
       "      <th>20</th>\n",
       "      <td>APPLE</td>\n",
       "      <td>256 GB ROM\\n15.49 cm (6.1 inch) Super Retina X...</td>\n",
       "      <td>₹83,999</td>\n",
       "      <td>https://rukminim1.flixcart.com/image/312/312/x...</td>\n",
       "    </tr>\n",
       "    <tr>\n",
       "      <th>21</th>\n",
       "      <td>REDMI</td>\n",
       "      <td>4 GB RAM | 64 GB ROM | Expandable Upto 1 TB\\n1...</td>\n",
       "      <td>₹9,999</td>\n",
       "      <td>https://rukminim1.flixcart.com/image/312/312/x...</td>\n",
       "    </tr>\n",
       "    <tr>\n",
       "      <th>22</th>\n",
       "      <td>SAMSUNG</td>\n",
       "      <td>6 GB RAM | 128 GB ROM | Expandable Upto 1 TB\\n...</td>\n",
       "      <td>₹16,999</td>\n",
       "      <td>https://rukminim1.flixcart.com/image/312/312/x...</td>\n",
       "    </tr>\n",
       "    <tr>\n",
       "      <th>23</th>\n",
       "      <td>realme</td>\n",
       "      <td>2 GB RAM | 32 GB ROM | Expandable Upto 1 TB\\n1...</td>\n",
       "      <td>₹5,749</td>\n",
       "      <td>https://rukminim1.flixcart.com/image/312/312/l...</td>\n",
       "    </tr>\n",
       "  </tbody>\n",
       "</table>\n",
       "</div>"
      ],
      "text/plain": [
       "   Phone_Name                                      Phone_details    Price  \\\n",
       "0    MOTOROLA  4 GB RAM | 64 GB ROM | Expandable Upto 1 TB\\n1...   ₹7,999   \n",
       "1        POCO  3 GB RAM | 32 GB ROM | Expandable Upto 512 GB\\...   ₹6,499   \n",
       "2        POCO  4 GB RAM | 64 GB ROM | Expandable Upto 512 GB\\...   ₹7,499   \n",
       "3       APPLE  128 GB ROM\\n15.49 cm (6.1 inch) Super Retina X...  ₹73,999   \n",
       "4        POCO  6 GB RAM | 128 GB ROM | Expandable Upto 1 TB\\n...  ₹16,499   \n",
       "5    MOTOROLA  6 GB RAM | 128 GB ROM\\n16.64 cm (6.55 inch) Fu...  ₹14,999   \n",
       "6        POCO  4 GB RAM | 64 GB ROM | Expandable Upto 512 GB\\...   ₹7,499   \n",
       "7        POCO  6 GB RAM | 128 GB ROM | Expandable Upto 1 TB\\n...  ₹12,999   \n",
       "8       APPLE  128 GB ROM\\n15.49 cm (6.1 inch) Super Retina X...  ₹73,999   \n",
       "9       REDMI  4 GB RAM | 64 GB ROM | Expandable Upto 512 GB\\...   ₹7,499   \n",
       "10       vivo  4 GB RAM | 128 GB ROM | Expandable Upto 1 TB\\n...  ₹14,499   \n",
       "11       vivo  4 GB RAM | 128 GB ROM | Expandable Upto 1 TB\\n...  ₹14,499   \n",
       "12       POCO  4 GB RAM | 64 GB ROM | Expandable Upto 512 GB\\...  ₹11,499   \n",
       "13   MOTOROLA  6 GB RAM | 128 GB ROM\\n16.76 cm (6.6 inch) Ful...  ₹12,999   \n",
       "14       POCO  6 GB RAM | 128 GB ROM | Expandable Upto 512 GB...  ₹13,499   \n",
       "15      REDMI  6 GB RAM | 64 GB ROM | Expandable Upto 512 GB\\...  ₹11,999   \n",
       "16       POCO  6 GB RAM | 128 GB ROM | Expandable Upto 512 GB...  ₹13,499   \n",
       "17       vivo  6 GB RAM | 128 GB ROM | Expandable Upto 1 TB\\n...  ₹15,999   \n",
       "18      APPLE  128 GB ROM\\n15.49 cm (6.1 inch) Super Retina X...  ₹73,999   \n",
       "19    Infinix  4 GB RAM | 64 GB ROM | Expandable Upto 256 GB\\...   ₹8,599   \n",
       "20      APPLE  256 GB ROM\\n15.49 cm (6.1 inch) Super Retina X...  ₹83,999   \n",
       "21      REDMI  4 GB RAM | 64 GB ROM | Expandable Upto 1 TB\\n1...   ₹9,999   \n",
       "22    SAMSUNG  6 GB RAM | 128 GB ROM | Expandable Upto 1 TB\\n...  ₹16,999   \n",
       "23     realme  2 GB RAM | 32 GB ROM | Expandable Upto 1 TB\\n1...   ₹5,749   \n",
       "\n",
       "                                          Product_Url  \n",
       "0   https://rukminim1.flixcart.com/image/312/312/l...  \n",
       "1   https://rukminim1.flixcart.com/image/312/312/k...  \n",
       "2   https://rukminim1.flixcart.com/image/312/312/k...  \n",
       "3   https://rukminim1.flixcart.com/image/312/312/x...  \n",
       "4   https://rukminim1.flixcart.com/image/312/312/l...  \n",
       "5   https://rukminim1.flixcart.com/image/312/312/x...  \n",
       "6   https://rukminim1.flixcart.com/image/312/312/k...  \n",
       "7   https://rukminim1.flixcart.com/image/312/312/l...  \n",
       "8   https://rukminim1.flixcart.com/image/312/312/x...  \n",
       "9   https://rukminim1.flixcart.com/image/312/312/k...  \n",
       "10  https://rukminim1.flixcart.com/image/312/312/l...  \n",
       "11  https://rukminim1.flixcart.com/image/312/312/l...  \n",
       "12  https://rukminim1.flixcart.com/image/312/312/l...  \n",
       "13  https://rukminim1.flixcart.com/image/312/312/l...  \n",
       "14  https://rukminim1.flixcart.com/image/312/312/l...  \n",
       "15  https://rukminim1.flixcart.com/image/312/312/x...  \n",
       "16  https://rukminim1.flixcart.com/image/312/312/l...  \n",
       "17  https://rukminim1.flixcart.com/image/312/312/l...  \n",
       "18  https://rukminim1.flixcart.com/image/312/312/x...  \n",
       "19  https://rukminim1.flixcart.com/image/312/312/x...  \n",
       "20  https://rukminim1.flixcart.com/image/312/312/x...  \n",
       "21  https://rukminim1.flixcart.com/image/312/312/x...  \n",
       "22  https://rukminim1.flixcart.com/image/312/312/x...  \n",
       "23  https://rukminim1.flixcart.com/image/312/312/l...  "
      ]
     },
     "execution_count": 98,
     "metadata": {},
     "output_type": "execute_result"
    }
   ],
   "source": [
    "df=pd.DataFrame({\"Phone_Name\":(Brand_Name1),\"Phone_details\":details,\"Price\":price,'Product_Url':Url})\n",
    "df"
   ]
  },
  {
   "cell_type": "code",
   "execution_count": 99,
   "id": "0f6b5728",
   "metadata": {},
   "outputs": [],
   "source": [
    "driver.close()"
   ]
  },
  {
   "cell_type": "code",
   "execution_count": 24,
   "id": "58317f31",
   "metadata": {},
   "outputs": [
    {
     "data": {
      "text/plain": [
       "<bound method WebDriver.get of <selenium.webdriver.chrome.webdriver.WebDriver (session=\"0d503993893f10d0cfb279e5cc55c5ec\")>>"
      ]
     },
     "execution_count": 24,
     "metadata": {},
     "output_type": "execute_result"
    }
   ],
   "source": [
    "driver=webdriver.Chrome(r\"C:\\Users\\sony\\Desktop\\Data Trained/chromedriver.exe\")\n",
    "driver.get\n",
    "\n"
   ]
  },
  {
   "cell_type": "code",
   "execution_count": 34,
   "id": "52be556f",
   "metadata": {},
   "outputs": [],
   "source": [
    "driver.get(\"https://www.google.com\")"
   ]
  },
  {
   "cell_type": "code",
   "execution_count": 35,
   "id": "de0c72fb",
   "metadata": {},
   "outputs": [],
   "source": [
    "try:\n",
    "    search=driver.find_element(By.XPATH,'/html/body/div[1]/div[3]/form/div[1]/div[1]/div[1]/div/div[2]/input')\n",
    "    \n",
    "except:\n",
    "    print(\"Exception raised as e\")\n",
    "    search_button=driver.find_element(By.XPATH,'/html/body/div[1]/div[3]/form/div[1]/div[1]/div[2]/div[2]/div[5]/center/input[1]')\n",
    "    search_button.click()"
   ]
  },
  {
   "cell_type": "code",
   "execution_count": 36,
   "id": "0fa25dad",
   "metadata": {},
   "outputs": [],
   "source": [
    "\n",
    "   search=driver.find_element(By.XPATH,'/html/body/div[1]/div[3]/form/div[1]/div[1]/div[1]/div/div[2]/input') \n",
    "   search.send_keys(\"google_maps\")\n",
    "    "
   ]
  },
  {
   "cell_type": "code",
   "execution_count": 37,
   "id": "cf398234",
   "metadata": {},
   "outputs": [],
   "source": [
    "button=driver.find_element(By.XPATH,'/html/body/div[1]/div[3]/form/div[1]/div[1]/div[2]/div[2]/div[6]/center/input[1]')\n",
    "button.click()\n"
   ]
  },
  {
   "cell_type": "code",
   "execution_count": 38,
   "id": "dc8d4ca5",
   "metadata": {},
   "outputs": [],
   "source": [
    "maps=driver.find_element(By.XPATH,'/html/body/div[7]/div/div[11]/div[1]/div[2]/div[2]/div/div/div[1]/div/div/div/div/div/div/div[1]/a/h3')\n",
    "maps.click()"
   ]
  },
  {
   "cell_type": "code",
   "execution_count": 40,
   "id": "0b128395",
   "metadata": {},
   "outputs": [],
   "source": [
    "city_search=driver.find_element(By.XPATH,'/html/body/div[3]/div[9]/div[3]/div[1]/div[1]/div[1]/div[2]/form/div[2]/div[3]/div/input[1]')\n",
    "city_search.send_keys('sharjah')"
   ]
  },
  {
   "cell_type": "code",
   "execution_count": 41,
   "id": "a946aa7b",
   "metadata": {},
   "outputs": [],
   "source": [
    "button=driver.find_element(By.XPATH,'/html/body/div[3]/div[9]/div[3]/div[1]/div[1]/div[1]/div[2]/div[1]/button')\n",
    "button.click()"
   ]
  },
  {
   "cell_type": "code",
   "execution_count": 43,
   "id": "d3272fe9",
   "metadata": {},
   "outputs": [],
   "source": [
    "more=driver.find_element(By.XPATH,'/html/body/div[3]/div[9]/div[9]/div/div/div[1]/div[2]/div/div[1]/div/div/div[9]/button[8]/div[2]/div/img')\n",
    "more.click()"
   ]
  },
  {
   "cell_type": "code",
   "execution_count": 44,
   "id": "834b42a9",
   "metadata": {},
   "outputs": [
    {
     "data": {
      "text/plain": [
       "'25.347883, 55.422464'"
      ]
     },
     "execution_count": 44,
     "metadata": {},
     "output_type": "execute_result"
    }
   ],
   "source": [
    "latitude_longitude=driver.find_element(By.XPATH,'/html/body/div[3]/div[9]/div[23]/div[1]/div[2]/div[2]/div/div[2]/div[3]/button')\n",
    "latitude_longitude.text"
   ]
  },
  {
   "cell_type": "code",
   "execution_count": 47,
   "id": "2c372b65",
   "metadata": {},
   "outputs": [],
   "source": [
    "#6.(\"Write a program to scrap details of all the funding deals for second quarter (i.e Jan 21 – March 21)\n",
    "#from trak.in.\")"
   ]
  },
  {
   "cell_type": "code",
   "execution_count": 3,
   "id": "73416941",
   "metadata": {},
   "outputs": [],
   "source": [
    "driver.get(\"https://trak.in/india-startup-funding-investment-2015/\")"
   ]
  },
  {
   "cell_type": "code",
   "execution_count": 6,
   "id": "97af6f2e",
   "metadata": {
    "scrolled": true
   },
   "outputs": [
    {
     "ename": "NameError",
     "evalue": "name 'details' is not defined",
     "output_type": "error",
     "traceback": [
      "\u001b[1;31m---------------------------------------------------------------------------\u001b[0m",
      "\u001b[1;31mNameError\u001b[0m                                 Traceback (most recent call last)",
      "Input \u001b[1;32mIn [6]\u001b[0m, in \u001b[0;36m<cell line: 1>\u001b[1;34m()\u001b[0m\n\u001b[1;32m----> 1\u001b[0m q\u001b[38;5;241m=\u001b[39m\u001b[43mdetails\u001b[49m\u001b[38;5;241m.\u001b[39mtext\u001b[38;5;241m.\u001b[39msplit(\u001b[38;5;124m\"\u001b[39m\u001b[38;5;130;01m\\n\u001b[39;00m\u001b[38;5;124m\"\u001b[39m)[\u001b[38;5;241m8\u001b[39m:\u001b[38;5;241m16\u001b[39m]\n\u001b[0;32m      2\u001b[0m q\n",
      "\u001b[1;31mNameError\u001b[0m: name 'details' is not defined"
     ]
    }
   ],
   "source": [
    "\n",
    "q=details.text.split(\"\\n\")[8:16]\n",
    "q"
   ]
  },
  {
   "cell_type": "code",
   "execution_count": 5,
   "id": "ef512c7a",
   "metadata": {},
   "outputs": [
    {
     "ename": "NameError",
     "evalue": "name 'q' is not defined",
     "output_type": "error",
     "traceback": [
      "\u001b[1;31m---------------------------------------------------------------------------\u001b[0m",
      "\u001b[1;31mNameError\u001b[0m                                 Traceback (most recent call last)",
      "Input \u001b[1;32mIn [5]\u001b[0m, in \u001b[0;36m<cell line: 1>\u001b[1;34m()\u001b[0m\n\u001b[1;32m----> 1\u001b[0m df\u001b[38;5;241m=\u001b[39mpd\u001b[38;5;241m.\u001b[39mDataFrame({\u001b[38;5;124m\"\u001b[39m\u001b[38;5;124mJan21\u001b[39m\u001b[38;5;124m\"\u001b[39m:\u001b[43mq\u001b[49m})\n\u001b[0;32m      2\u001b[0m df\n",
      "\u001b[1;31mNameError\u001b[0m: name 'q' is not defined"
     ]
    }
   ],
   "source": [
    "df=pd.DataFrame({\"Jan21\":q})\n",
    "df"
   ]
  },
  {
   "cell_type": "code",
   "execution_count": 7,
   "id": "3a902270",
   "metadata": {},
   "outputs": [
    {
     "data": {
      "text/plain": [
       "['1 11/02/2021 Doubtnut Edu Tech E-Learning Platform Gurgaon SIG Global, Sequoia Capital, WaterBridge Ventures and ON Mauritius Series B 2,500,000',\n",
       " '2 22/02/2021 Zomato Hospitality Online Food Delivery Platform Gurgaon Tiger Global, Kora Venture 250,000,000',\n",
       " '3 19/02/2021 Fingerlix Hospitality Semi-cooked food delivery app Mumbai Rhodium Trust, Accel Partners and Swiggy Series C 2,747,045.20',\n",
       " '4 17/02/2021 Zolve FinTech Global Neobank Venture Mumbai Accel Partners and Lightspeed Venture Partners Seed 1,50,00,000',\n",
       " '5 15/02/2021 KreditBee Finance Digital lending platform Bengaluru Azim Premji’s PremjiInvest and South Korea’s Mirae Asset Venture Series C 75,000,000',\n",
       " '6 12/02/2021 Pepperfry E-commerce Multi-brand furniture brand Mumbai InnoVen Capital Debt Financing 4,773,958',\n",
       " '7 12/02/2021 Grofers E-Commerce Online supermarket Gurgaon SoftBank Vision Fund (SVF) Unspecified 55,000,000',\n",
       " '8 09/02/2021 Nothing Technology Consumer Technology Venture London GV Series A 15,000,000',\n",
       " '9 09/02/2021 SplashLearn EdTech Game-based learning programme Gurgaon Owl Ventures Series C 18,000,000']"
      ]
     },
     "execution_count": 7,
     "metadata": {},
     "output_type": "execute_result"
    }
   ],
   "source": [
    "det=driver.find_element(By.XPATH,'/html/body/div[1]/main/div/div/div/div[2]/div[1]/div/div/div/div[1]/div/div[4]/div[3]/div[2]/table/tbody')\n",
    "m=det.text.split(\"\\n\")[0\n",
    "m\n"
   ]
  },
  {
   "cell_type": "code",
   "execution_count": 8,
   "id": "da7ff54a",
   "metadata": {},
   "outputs": [
    {
     "data": {
      "text/plain": [
       "[['1 11/02/2021 Doubtnut Edu Tech E-Learning Platform Gurgaon SIG Global, Sequoia Capital, WaterBridge Ventures and ON Mauritius Series B 2,500,000',\n",
       "  '2 22/02/2021 Zomato Hospitality Online Food Delivery Platform Gurgaon Tiger Global, Kora Venture 250,000,000',\n",
       "  '3 19/02/2021 Fingerlix Hospitality Semi-cooked food delivery app Mumbai Rhodium Trust, Accel Partners and Swiggy Series C 2,747,045.20',\n",
       "  '4 17/02/2021 Zolve FinTech Global Neobank Venture Mumbai Accel Partners and Lightspeed Venture Partners Seed 1,50,00,000',\n",
       "  '5 15/02/2021 KreditBee Finance Digital lending platform Bengaluru Azim Premji’s PremjiInvest and South Korea’s Mirae Asset Venture Series C 75,000,000',\n",
       "  '6 12/02/2021 Pepperfry E-commerce Multi-brand furniture brand Mumbai InnoVen Capital Debt Financing 4,773,958',\n",
       "  '7 12/02/2021 Grofers E-Commerce Online supermarket Gurgaon SoftBank Vision Fund (SVF) Unspecified 55,000,000',\n",
       "  '8 09/02/2021 Nothing Technology Consumer Technology Venture London GV Series A 15,000,000',\n",
       "  '9 09/02/2021 SplashLearn EdTech Game-based learning programme Gurgaon Owl Ventures Series C 18,000,000']]"
      ]
     },
     "execution_count": 8,
     "metadata": {},
     "output_type": "execute_result"
    }
   ],
   "source": [
    "Feb21_details=[]\n",
    "Feb21_details.append(m)\n",
    "Feb21_details"
   ]
  },
  {
   "cell_type": "code",
   "execution_count": 9,
   "id": "c6224c1b",
   "metadata": {},
   "outputs": [
    {
     "data": {
      "text/html": [
       "<div>\n",
       "<style scoped>\n",
       "    .dataframe tbody tr th:only-of-type {\n",
       "        vertical-align: middle;\n",
       "    }\n",
       "\n",
       "    .dataframe tbody tr th {\n",
       "        vertical-align: top;\n",
       "    }\n",
       "\n",
       "    .dataframe thead th {\n",
       "        text-align: right;\n",
       "    }\n",
       "</style>\n",
       "<table border=\"1\" class=\"dataframe\">\n",
       "  <thead>\n",
       "    <tr style=\"text-align: right;\">\n",
       "      <th></th>\n",
       "      <th>Feb21</th>\n",
       "    </tr>\n",
       "  </thead>\n",
       "  <tbody>\n",
       "    <tr>\n",
       "      <th>0</th>\n",
       "      <td>[1 11/02/2021 Doubtnut Edu Tech E-Learning Pla...</td>\n",
       "    </tr>\n",
       "  </tbody>\n",
       "</table>\n",
       "</div>"
      ],
      "text/plain": [
       "                                               Feb21\n",
       "0  [1 11/02/2021 Doubtnut Edu Tech E-Learning Pla..."
      ]
     },
     "execution_count": 9,
     "metadata": {},
     "output_type": "execute_result"
    }
   ],
   "source": [
    "df1=pd.DataFrame({\"Feb21\":Feb21_details})\n",
    "df1"
   ]
  },
  {
   "cell_type": "code",
   "execution_count": 132,
   "id": "232e1cd2",
   "metadata": {},
   "outputs": [
    {
     "data": {
      "text/html": [
       "<div>\n",
       "<style scoped>\n",
       "    .dataframe tbody tr th:only-of-type {\n",
       "        vertical-align: middle;\n",
       "    }\n",
       "\n",
       "    .dataframe tbody tr th {\n",
       "        vertical-align: top;\n",
       "    }\n",
       "\n",
       "    .dataframe thead th {\n",
       "        text-align: right;\n",
       "    }\n",
       "</style>\n",
       "<table border=\"1\" class=\"dataframe\">\n",
       "  <thead>\n",
       "    <tr style=\"text-align: right;\">\n",
       "      <th></th>\n",
       "      <th>Feb21</th>\n",
       "    </tr>\n",
       "  </thead>\n",
       "  <tbody>\n",
       "    <tr>\n",
       "      <th>0</th>\n",
       "      <td>[1 11/02/2021 Doubtnut Edu Tech E-Learning Pla...</td>\n",
       "    </tr>\n",
       "  </tbody>\n",
       "</table>\n",
       "</div>"
      ],
      "text/plain": [
       "                                               Feb21\n",
       "0  [1 11/02/2021 Doubtnut Edu Tech E-Learning Pla..."
      ]
     },
     "execution_count": 132,
     "metadata": {},
     "output_type": "execute_result"
    }
   ],
   "source": [
    "df1"
   ]
  },
  {
   "cell_type": "code",
   "execution_count": 10,
   "id": "e96dfc86",
   "metadata": {},
   "outputs": [],
   "source": [
    "Name=[]\n",
    "company_name=driver.find_elements(By.XPATH,'//td[@class=\"column-3\"]')\n",
    "for i in company_name:\n",
    "    company_name=i.text\n",
    "    Name.append(company_name)\n",
    "    "
   ]
  },
  {
   "cell_type": "code",
   "execution_count": 11,
   "id": "5dabff81",
   "metadata": {},
   "outputs": [
    {
     "data": {
      "text/plain": [
       "392"
      ]
     },
     "execution_count": 11,
     "metadata": {},
     "output_type": "execute_result"
    }
   ],
   "source": [
    "len(Name)"
   ]
  },
  {
   "cell_type": "code",
   "execution_count": 12,
   "id": "a39db56c",
   "metadata": {},
   "outputs": [],
   "source": [
    "Industry_vertical=[]\n",
    "Ind=driver.find_elements(By.XPATH,'//td[@class=\"column-4\"]')\n",
    "for i in Ind:\n",
    "    Ind=i.text\n",
    "    Industry_vertical.append(Ind)\n",
    "    \n",
    "    "
   ]
  },
  {
   "cell_type": "code",
   "execution_count": 13,
   "id": "6a732994",
   "metadata": {},
   "outputs": [
    {
     "data": {
      "text/plain": [
       "392"
      ]
     },
     "execution_count": 13,
     "metadata": {},
     "output_type": "execute_result"
    }
   ],
   "source": [
    "len(Industry_vertical)"
   ]
  },
  {
   "cell_type": "code",
   "execution_count": 14,
   "id": "9d1bb78d",
   "metadata": {},
   "outputs": [],
   "source": [
    "Sub_vertical=[]\n",
    "ver=driver.find_elements(By.XPATH,'//td[@class=\"column-5\"]')\n",
    "for i in ver:\n",
    "    ver=i.text\n",
    "    Sub_vertical.append(ver)"
   ]
  },
  {
   "cell_type": "code",
   "execution_count": 15,
   "id": "8238c174",
   "metadata": {},
   "outputs": [
    {
     "data": {
      "text/plain": [
       "392"
      ]
     },
     "execution_count": 15,
     "metadata": {},
     "output_type": "execute_result"
    }
   ],
   "source": [
    "len(Sub_vertical)"
   ]
  },
  {
   "cell_type": "code",
   "execution_count": 16,
   "id": "7c479d3c",
   "metadata": {},
   "outputs": [],
   "source": [
    "location=[]\n",
    "loc=driver.find_elements(By.XPATH,'//td[@class=\"column-6\"]')\n",
    "for i in loc:\n",
    "    loc=i.text\n",
    "    location.append(loc)"
   ]
  },
  {
   "cell_type": "code",
   "execution_count": 17,
   "id": "c30570e4",
   "metadata": {},
   "outputs": [
    {
     "data": {
      "text/plain": [
       "392"
      ]
     },
     "execution_count": 17,
     "metadata": {},
     "output_type": "execute_result"
    }
   ],
   "source": [
    "len(location)"
   ]
  },
  {
   "cell_type": "code",
   "execution_count": 18,
   "id": "d18ced61",
   "metadata": {},
   "outputs": [],
   "source": [
    "Investors_Name=[]\n",
    "inv=driver.find_elements(By.XPATH,'//td[@class=\"column-7\"]')\n",
    "for i in inv:\n",
    "    inv=i.text\n",
    "    Investors_Name.append(inv)"
   ]
  },
  {
   "cell_type": "code",
   "execution_count": 19,
   "id": "83381d67",
   "metadata": {},
   "outputs": [
    {
     "data": {
      "text/plain": [
       "392"
      ]
     },
     "execution_count": 19,
     "metadata": {},
     "output_type": "execute_result"
    }
   ],
   "source": [
    "len(Investors_Name)"
   ]
  },
  {
   "cell_type": "code",
   "execution_count": 20,
   "id": "d9d916fb",
   "metadata": {},
   "outputs": [],
   "source": [
    "Amount=[]\n",
    "price=driver.find_elements(By.XPATH,'//td[@class=\"column-9\"]')\n",
    "for i in price:\n",
    "    price=i.text\n",
    "    Amount.append(price)\n",
    "    "
   ]
  },
  {
   "cell_type": "code",
   "execution_count": 21,
   "id": "6f0f4491",
   "metadata": {},
   "outputs": [],
   "source": [
    "Date=[]\n",
    "date=driver.find_elements(By.XPATH,'//td[@class=\"column-2\"]')\n",
    "for i in date:\n",
    "    date=i.text\n",
    "    Date.append(date)"
   ]
  },
  {
   "cell_type": "code",
   "execution_count": 22,
   "id": "56c8c141",
   "metadata": {},
   "outputs": [
    {
     "name": "stdout",
     "output_type": "stream",
     "text": [
      "392 392\n"
     ]
    }
   ],
   "source": [
    "print(len(Amount),len(Date))"
   ]
  },
  {
   "cell_type": "code",
   "execution_count": 28,
   "id": "f6efa9e3",
   "metadata": {},
   "outputs": [],
   "source": [
    "Budget=pd.DataFrame({\"Date\":Date[5:29],\n",
    "                     \"Startup_Name\":Name[5:29],\n",
    "                     \"Industry_Vertical\":Industry_vertical[5:29],\n",
    "                     \"Sub_vertical\":Sub_vertical[5:29],\n",
    "                     \"Investors_Name\":Investors_Name[5:29],\n",
    "                     \"Amount\":Amount[5:29]})"
   ]
  },
  {
   "cell_type": "code",
   "execution_count": 29,
   "id": "6e2971f6",
   "metadata": {},
   "outputs": [
    {
     "data": {
      "text/html": [
       "<div>\n",
       "<style scoped>\n",
       "    .dataframe tbody tr th:only-of-type {\n",
       "        vertical-align: middle;\n",
       "    }\n",
       "\n",
       "    .dataframe tbody tr th {\n",
       "        vertical-align: top;\n",
       "    }\n",
       "\n",
       "    .dataframe thead th {\n",
       "        text-align: right;\n",
       "    }\n",
       "</style>\n",
       "<table border=\"1\" class=\"dataframe\">\n",
       "  <thead>\n",
       "    <tr style=\"text-align: right;\">\n",
       "      <th></th>\n",
       "      <th>Date</th>\n",
       "      <th>Startup_Name</th>\n",
       "      <th>Industry_Vertical</th>\n",
       "      <th>Sub_vertical</th>\n",
       "      <th>Investors_Name</th>\n",
       "      <th>Amount</th>\n",
       "    </tr>\n",
       "  </thead>\n",
       "  <tbody>\n",
       "    <tr>\n",
       "      <th>0</th>\n",
       "      <td>04/03/2021</td>\n",
       "      <td>DealShare</td>\n",
       "      <td>E-commerce</td>\n",
       "      <td>Online shopping platform</td>\n",
       "      <td>Innoven Capital</td>\n",
       "      <td>250,000,000</td>\n",
       "    </tr>\n",
       "    <tr>\n",
       "      <th>1</th>\n",
       "      <td>31/03/2021</td>\n",
       "      <td>Uniphore</td>\n",
       "      <td>Technology</td>\n",
       "      <td>Conversational Service Automation (CSA)</td>\n",
       "      <td>Sorenson Capital Partners</td>\n",
       "      <td>140,000,000</td>\n",
       "    </tr>\n",
       "    <tr>\n",
       "      <th>2</th>\n",
       "      <td>30/03/2021</td>\n",
       "      <td>Dunzo</td>\n",
       "      <td>E-commerce</td>\n",
       "      <td>Hyper-local delivery app</td>\n",
       "      <td>Krishtal Advisors Pte Ltd</td>\n",
       "      <td>8,000,000</td>\n",
       "    </tr>\n",
       "    <tr>\n",
       "      <th>3</th>\n",
       "      <td>30/03/2021</td>\n",
       "      <td>BYJU’S</td>\n",
       "      <td>Edu-tech</td>\n",
       "      <td>Online tutoring</td>\n",
       "      <td>MC Global Edtech, B Capital, Baron, others</td>\n",
       "      <td>460,000,000</td>\n",
       "    </tr>\n",
       "    <tr>\n",
       "      <th>4</th>\n",
       "      <td>23/03/2021</td>\n",
       "      <td>SkilloVilla</td>\n",
       "      <td>Edu-tech</td>\n",
       "      <td>Career and job-oriented upskilling.</td>\n",
       "      <td>Titan Capital, others</td>\n",
       "      <td>300,000,000</td>\n",
       "    </tr>\n",
       "    <tr>\n",
       "      <th>5</th>\n",
       "      <td>25/03/2021</td>\n",
       "      <td>CityMall</td>\n",
       "      <td>E-commerce</td>\n",
       "      <td>Social ecommerce and online grocery platform</td>\n",
       "      <td>Accel Partners</td>\n",
       "      <td>11,000,000</td>\n",
       "    </tr>\n",
       "    <tr>\n",
       "      <th>6</th>\n",
       "      <td>26/03/2021</td>\n",
       "      <td>DotPe</td>\n",
       "      <td>FinTech</td>\n",
       "      <td>Commerce and payments platform to offline ente...</td>\n",
       "      <td>PayU</td>\n",
       "      <td>27,500,000</td>\n",
       "    </tr>\n",
       "    <tr>\n",
       "      <th>7</th>\n",
       "      <td>11/02/2021</td>\n",
       "      <td>Doubtnut</td>\n",
       "      <td>Edu Tech</td>\n",
       "      <td>E-Learning Platform</td>\n",
       "      <td>SIG Global, Sequoia Capital, WaterBridge Ventu...</td>\n",
       "      <td>2,500,000</td>\n",
       "    </tr>\n",
       "    <tr>\n",
       "      <th>8</th>\n",
       "      <td>22/02/2021</td>\n",
       "      <td>Zomato</td>\n",
       "      <td>Hospitality</td>\n",
       "      <td>Online Food Delivery Platform</td>\n",
       "      <td>Tiger Global, Kora</td>\n",
       "      <td>250,000,000</td>\n",
       "    </tr>\n",
       "    <tr>\n",
       "      <th>9</th>\n",
       "      <td>19/02/2021</td>\n",
       "      <td>Fingerlix</td>\n",
       "      <td>Hospitality</td>\n",
       "      <td>Semi-cooked food delivery app</td>\n",
       "      <td>Rhodium Trust, Accel Partners and Swiggy</td>\n",
       "      <td>2,747,045.20</td>\n",
       "    </tr>\n",
       "    <tr>\n",
       "      <th>10</th>\n",
       "      <td>17/02/2021</td>\n",
       "      <td>Zolve</td>\n",
       "      <td>FinTech</td>\n",
       "      <td>Global Neobank Venture</td>\n",
       "      <td>Accel Partners and Lightspeed Venture Partners</td>\n",
       "      <td>1,50,00,000</td>\n",
       "    </tr>\n",
       "    <tr>\n",
       "      <th>11</th>\n",
       "      <td>15/02/2021</td>\n",
       "      <td>KreditBee</td>\n",
       "      <td>Finance</td>\n",
       "      <td>Digital lending platform</td>\n",
       "      <td>Azim Premji’s PremjiInvest and South Korea’s M...</td>\n",
       "      <td>75,000,000</td>\n",
       "    </tr>\n",
       "    <tr>\n",
       "      <th>12</th>\n",
       "      <td>12/02/2021</td>\n",
       "      <td>Pepperfry</td>\n",
       "      <td>E-commerce</td>\n",
       "      <td>Multi-brand furniture brand</td>\n",
       "      <td>InnoVen Capital</td>\n",
       "      <td>4,773,958</td>\n",
       "    </tr>\n",
       "    <tr>\n",
       "      <th>13</th>\n",
       "      <td>12/02/2021</td>\n",
       "      <td>Grofers</td>\n",
       "      <td>E-Commerce</td>\n",
       "      <td>Online supermarket</td>\n",
       "      <td>SoftBank Vision Fund (SVF)</td>\n",
       "      <td>55,000,000</td>\n",
       "    </tr>\n",
       "    <tr>\n",
       "      <th>14</th>\n",
       "      <td>09/02/2021</td>\n",
       "      <td>Nothing</td>\n",
       "      <td>Technology</td>\n",
       "      <td>Consumer Technology Venture</td>\n",
       "      <td>GV</td>\n",
       "      <td>15,000,000</td>\n",
       "    </tr>\n",
       "    <tr>\n",
       "      <th>15</th>\n",
       "      <td>09/02/2021</td>\n",
       "      <td>SplashLearn</td>\n",
       "      <td>EdTech</td>\n",
       "      <td>Game-based learning programme</td>\n",
       "      <td>Owl Ventures</td>\n",
       "      <td>18,000,000</td>\n",
       "    </tr>\n",
       "    <tr>\n",
       "      <th>16</th>\n",
       "      <td>15/01/2021</td>\n",
       "      <td>Digit Insurance</td>\n",
       "      <td>Financial Services</td>\n",
       "      <td>Insurance Services</td>\n",
       "      <td>A91 Partners, Faering Capital, TVS Capital Funds</td>\n",
       "      <td>1,80,00,000</td>\n",
       "    </tr>\n",
       "    <tr>\n",
       "      <th>17</th>\n",
       "      <td>28/01/2021</td>\n",
       "      <td>Bombay Shaving Company</td>\n",
       "      <td>Consumer Goods Company</td>\n",
       "      <td>Shave care, beard care, and skincare products</td>\n",
       "      <td>Reckitt Benckiser</td>\n",
       "      <td>6,172,258.50</td>\n",
       "    </tr>\n",
       "    <tr>\n",
       "      <th>18</th>\n",
       "      <td>19/01/2021</td>\n",
       "      <td>DeHaat</td>\n",
       "      <td>AgriTech Startup</td>\n",
       "      <td>online marketplace for farm products and services</td>\n",
       "      <td>Prosus Ventures</td>\n",
       "      <td>30,000,000</td>\n",
       "    </tr>\n",
       "    <tr>\n",
       "      <th>19</th>\n",
       "      <td>19/01/2021</td>\n",
       "      <td>Darwinbox</td>\n",
       "      <td>SaaS</td>\n",
       "      <td>HR Tech</td>\n",
       "      <td>Salesforce Ventures</td>\n",
       "      <td>15,000,000</td>\n",
       "    </tr>\n",
       "    <tr>\n",
       "      <th>20</th>\n",
       "      <td>18/01/2021</td>\n",
       "      <td>mfine</td>\n",
       "      <td>Health Tech Startup</td>\n",
       "      <td>AI-powered telemedicine mobile app</td>\n",
       "      <td>Heritas Capital Management</td>\n",
       "      <td>16,000,000</td>\n",
       "    </tr>\n",
       "    <tr>\n",
       "      <th>21</th>\n",
       "      <td>18/01/2021</td>\n",
       "      <td>Udayy</td>\n",
       "      <td>EdTech</td>\n",
       "      <td>Online learning platform for kids in class 1-5</td>\n",
       "      <td>Sequoia Capital</td>\n",
       "      <td>15,000,000</td>\n",
       "    </tr>\n",
       "    <tr>\n",
       "      <th>22</th>\n",
       "      <td>11/01/2021</td>\n",
       "      <td>True Elements</td>\n",
       "      <td>Food Startup</td>\n",
       "      <td>Whole Food plant based Nashta</td>\n",
       "      <td>SIDBI Venture Capital</td>\n",
       "      <td>100,000,000</td>\n",
       "    </tr>\n",
       "    <tr>\n",
       "      <th>23</th>\n",
       "      <td>13/01/2021</td>\n",
       "      <td>Saveo</td>\n",
       "      <td>B2B E-commerce</td>\n",
       "      <td>Pharmacies</td>\n",
       "      <td>Matrix Partners India, RTP Global, others</td>\n",
       "      <td>4,000,000</td>\n",
       "    </tr>\n",
       "  </tbody>\n",
       "</table>\n",
       "</div>"
      ],
      "text/plain": [
       "          Date            Startup_Name       Industry_Vertical  \\\n",
       "0   04/03/2021               DealShare              E-commerce   \n",
       "1   31/03/2021                Uniphore              Technology   \n",
       "2   30/03/2021                   Dunzo              E-commerce   \n",
       "3   30/03/2021                  BYJU’S                Edu-tech   \n",
       "4   23/03/2021             SkilloVilla                Edu-tech   \n",
       "5   25/03/2021                CityMall              E-commerce   \n",
       "6   26/03/2021                   DotPe                 FinTech   \n",
       "7   11/02/2021                Doubtnut                Edu Tech   \n",
       "8   22/02/2021                  Zomato             Hospitality   \n",
       "9   19/02/2021               Fingerlix             Hospitality   \n",
       "10  17/02/2021                   Zolve                 FinTech   \n",
       "11  15/02/2021               KreditBee                 Finance   \n",
       "12  12/02/2021               Pepperfry              E-commerce   \n",
       "13  12/02/2021                 Grofers              E-Commerce   \n",
       "14  09/02/2021                 Nothing              Technology   \n",
       "15  09/02/2021             SplashLearn                  EdTech   \n",
       "16  15/01/2021         Digit Insurance      Financial Services   \n",
       "17  28/01/2021  Bombay Shaving Company  Consumer Goods Company   \n",
       "18  19/01/2021                  DeHaat        AgriTech Startup   \n",
       "19  19/01/2021               Darwinbox                    SaaS   \n",
       "20  18/01/2021                   mfine     Health Tech Startup   \n",
       "21  18/01/2021                   Udayy                  EdTech   \n",
       "22  11/01/2021           True Elements            Food Startup   \n",
       "23  13/01/2021                   Saveo          B2B E-commerce   \n",
       "\n",
       "                                         Sub_vertical  \\\n",
       "0                            Online shopping platform   \n",
       "1             Conversational Service Automation (CSA)   \n",
       "2                            Hyper-local delivery app   \n",
       "3                                     Online tutoring   \n",
       "4                 Career and job-oriented upskilling.   \n",
       "5        Social ecommerce and online grocery platform   \n",
       "6   Commerce and payments platform to offline ente...   \n",
       "7                                 E-Learning Platform   \n",
       "8                       Online Food Delivery Platform   \n",
       "9                       Semi-cooked food delivery app   \n",
       "10                             Global Neobank Venture   \n",
       "11                           Digital lending platform   \n",
       "12                        Multi-brand furniture brand   \n",
       "13                                 Online supermarket   \n",
       "14                        Consumer Technology Venture   \n",
       "15                      Game-based learning programme   \n",
       "16                                 Insurance Services   \n",
       "17      Shave care, beard care, and skincare products   \n",
       "18  online marketplace for farm products and services   \n",
       "19                                            HR Tech   \n",
       "20                 AI-powered telemedicine mobile app   \n",
       "21     Online learning platform for kids in class 1-5   \n",
       "22                      Whole Food plant based Nashta   \n",
       "23                                         Pharmacies   \n",
       "\n",
       "                                       Investors_Name        Amount  \n",
       "0                                     Innoven Capital   250,000,000  \n",
       "1                           Sorenson Capital Partners   140,000,000  \n",
       "2                           Krishtal Advisors Pte Ltd     8,000,000  \n",
       "3          MC Global Edtech, B Capital, Baron, others   460,000,000  \n",
       "4                               Titan Capital, others   300,000,000  \n",
       "5                                      Accel Partners    11,000,000  \n",
       "6                                                PayU    27,500,000  \n",
       "7   SIG Global, Sequoia Capital, WaterBridge Ventu...     2,500,000  \n",
       "8                                  Tiger Global, Kora   250,000,000  \n",
       "9            Rhodium Trust, Accel Partners and Swiggy  2,747,045.20  \n",
       "10     Accel Partners and Lightspeed Venture Partners   1,50,00,000  \n",
       "11  Azim Premji’s PremjiInvest and South Korea’s M...    75,000,000  \n",
       "12                                    InnoVen Capital     4,773,958  \n",
       "13                         SoftBank Vision Fund (SVF)    55,000,000  \n",
       "14                                                 GV    15,000,000  \n",
       "15                                       Owl Ventures    18,000,000  \n",
       "16   A91 Partners, Faering Capital, TVS Capital Funds   1,80,00,000  \n",
       "17                                  Reckitt Benckiser  6,172,258.50  \n",
       "18                                    Prosus Ventures    30,000,000  \n",
       "19                                Salesforce Ventures    15,000,000  \n",
       "20                         Heritas Capital Management    16,000,000  \n",
       "21                                    Sequoia Capital    15,000,000  \n",
       "22                              SIDBI Venture Capital   100,000,000  \n",
       "23          Matrix Partners India, RTP Global, others     4,000,000  "
      ]
     },
     "execution_count": 29,
     "metadata": {},
     "output_type": "execute_result"
    }
   ],
   "source": [
    "Budget"
   ]
  },
  {
   "cell_type": "code",
   "execution_count": 34,
   "id": "8b9a077c",
   "metadata": {},
   "outputs": [],
   "source": [
    "#7. Write a program to scrap all the available details of best gaming laptops from digit.in\n",
    "driver.get(\"https://www.digit.in\")"
   ]
  },
  {
   "cell_type": "code",
   "execution_count": 35,
   "id": "07c8b58a",
   "metadata": {},
   "outputs": [],
   "source": [
    "gaming=driver.find_element(By.XPATH,'/html/body/div[2]/div/ul/li[5]/a')\n",
    "gaming.click()"
   ]
  },
  {
   "cell_type": "code",
   "execution_count": 37,
   "id": "86ff345f",
   "metadata": {},
   "outputs": [],
   "source": [
    "Best_gaming_laptops=driver.find_element(By.XPATH,'/html/body/div[2]/div/ul/li[5]/div[2]/div/div[2]/div/ul[3]/li[4]/a')\n",
    "Best_gaming_laptops.click()"
   ]
  },
  {
   "cell_type": "code",
   "execution_count": 40,
   "id": "82683f0b",
   "metadata": {},
   "outputs": [],
   "source": [
    "laptops=[]\n",
    "lap=driver.find_elements(By.XPATH,'//img[@class=\"lzy_img\"]')\n",
    "for i in lap:\n",
    "    lap=i.get_attribute(\"src\")\n",
    "    laptops.append(lap)"
   ]
  },
  {
   "cell_type": "code",
   "execution_count": 42,
   "id": "c12251d5",
   "metadata": {},
   "outputs": [
    {
     "data": {
      "text/plain": [
       "['data:image/png;base64,R0lGODlhAQABAAD/ACwAAAAAAQABAAACADs=',\n",
       " 'data:image/png;base64,R0lGODlhAQABAAD/ACwAAAAAAQABAAACADs=',\n",
       " 'data:image/png;base64,R0lGODlhAQABAAD/ACwAAAAAAQABAAACADs=',\n",
       " 'data:image/png;base64,R0lGODlhAQABAAD/ACwAAAAAAQABAAACADs=',\n",
       " 'https://www.digit.in/images/s-1.png',\n",
       " 'https://www.digit.in/images/s-2.png',\n",
       " 'https://www.digit.in/images/s-3.png',\n",
       " 'https://www.digit.in/images/s-4.png',\n",
       " 'https://www.digit.in/images/s-5.png',\n",
       " 'https://www.digit.in/images/home.png',\n",
       " 'https://static.digit.in/default/5c7016978510562c4ca86e5e13555ffcdb555e3c.jpeg?tr=?tr=n-top10_img',\n",
       " 'https://static.digit.in/default/21e0f53addc9f61eaecd02f61fcce59e02dd2caa.jpeg?tr=?tr=n-top10_img',\n",
       " 'https://static.digit.in/default/b8c7cd6dda130869eb5c825a6af219440b091312.jpeg?tr=?tr=n-top10_img',\n",
       " 'https://static.digit.in/default/3a4371e722a70a963f49e7dfd9224985d6127aa9.jpeg?tr=?tr=n-top10_img',\n",
       " 'https://static.digit.in/default/5d1bae23e8080559a4769f3b17dacdd3254722ac.jpeg?tr=?tr=n-top10_img',\n",
       " 'https://static.digit.in/default/e21afa8945869a317e19c954a90d1302e36cef1a.jpeg?tr=?tr=n-top10_img',\n",
       " 'https://static.digit.in/default/06cccbff8f3fefc1766892937a99b727211e2848.jpeg?tr=?tr=n-top10_img',\n",
       " 'data:image/png;base64,R0lGODlhAQABAAD/ACwAAAAAAQABAAACADs=',\n",
       " 'data:image/png;base64,R0lGODlhAQABAAD/ACwAAAAAAQABAAACADs=',\n",
       " 'data:image/png;base64,R0lGODlhAQABAAD/ACwAAAAAAQABAAACADs=',\n",
       " 'data:image/png;base64,R0lGODlhAQABAAD/ACwAAAAAAQABAAACADs=',\n",
       " 'data:image/png;base64,R0lGODlhAQABAAD/ACwAAAAAAQABAAACADs=',\n",
       " 'data:image/png;base64,R0lGODlhAQABAAD/ACwAAAAAAQABAAACADs=',\n",
       " 'data:image/png;base64,R0lGODlhAQABAAD/ACwAAAAAAQABAAACADs=',\n",
       " 'data:image/png;base64,R0lGODlhAQABAAD/ACwAAAAAAQABAAACADs=',\n",
       " 'data:image/png;base64,R0lGODlhAQABAAD/ACwAAAAAAQABAAACADs=',\n",
       " 'data:image/png;base64,R0lGODlhAQABAAD/ACwAAAAAAQABAAACADs=']"
      ]
     },
     "execution_count": 42,
     "metadata": {},
     "output_type": "execute_result"
    }
   ],
   "source": [
    "laptops"
   ]
  },
  {
   "cell_type": "code",
   "execution_count": 48,
   "id": "614defb5",
   "metadata": {},
   "outputs": [
    {
     "ename": "NoSuchElementException",
     "evalue": "Message: no such element: Unable to locate element: {\"method\":\"xpath\",\"selector\":\"/html/body/div[3]/div/div[2]/div[3]/h2/a\"}\n  (Session info: chrome=109.0.5414.120)\nStacktrace:\nBacktrace:\n\t(No symbol) [0x00386643]\n\t(No symbol) [0x0031BE21]\n\t(No symbol) [0x0021DA9D]\n\t(No symbol) [0x00251342]\n\t(No symbol) [0x0025147B]\n\t(No symbol) [0x00288DC2]\n\t(No symbol) [0x0026FDC4]\n\t(No symbol) [0x00286B09]\n\t(No symbol) [0x0026FB76]\n\t(No symbol) [0x002449C1]\n\t(No symbol) [0x00245E5D]\n\tGetHandleVerifier [0x005FA142+2497106]\n\tGetHandleVerifier [0x006285D3+2686691]\n\tGetHandleVerifier [0x0062BB9C+2700460]\n\tGetHandleVerifier [0x00433B10+635936]\n\t(No symbol) [0x00324A1F]\n\t(No symbol) [0x0032A418]\n\t(No symbol) [0x0032A505]\n\t(No symbol) [0x0033508B]\n\tBaseThreadInitThunk [0x760A00F9+25]\n\tRtlGetAppContainerNamedObjectPath [0x774B7BBE+286]\n\tRtlGetAppContainerNamedObjectPath [0x774B7B8E+238]\n",
     "output_type": "error",
     "traceback": [
      "\u001b[1;31m---------------------------------------------------------------------------\u001b[0m",
      "\u001b[1;31mNoSuchElementException\u001b[0m                    Traceback (most recent call last)",
      "Input \u001b[1;32mIn [48]\u001b[0m, in \u001b[0;36m<cell line: 2>\u001b[1;34m()\u001b[0m\n\u001b[0;32m      1\u001b[0m laptops1_under_50000\u001b[38;5;241m=\u001b[39m[]\n\u001b[1;32m----> 2\u001b[0m button\u001b[38;5;241m=\u001b[39m\u001b[43mdriver\u001b[49m\u001b[38;5;241;43m.\u001b[39;49m\u001b[43mfind_element\u001b[49m\u001b[43m(\u001b[49m\u001b[43mBy\u001b[49m\u001b[38;5;241;43m.\u001b[39;49m\u001b[43mXPATH\u001b[49m\u001b[43m,\u001b[49m\u001b[38;5;124;43m'\u001b[39;49m\u001b[38;5;124;43m/html/body/div[3]/div/div[2]/div[3]/h2/a\u001b[39;49m\u001b[38;5;124;43m'\u001b[39;49m\u001b[43m)\u001b[49m\n\u001b[0;32m      3\u001b[0m button\u001b[38;5;241m.\u001b[39mclick()\n",
      "File \u001b[1;32m~\\anaconda3\\lib\\site-packages\\selenium\\webdriver\\remote\\webdriver.py:861\u001b[0m, in \u001b[0;36mWebDriver.find_element\u001b[1;34m(self, by, value)\u001b[0m\n\u001b[0;32m    858\u001b[0m     by \u001b[38;5;241m=\u001b[39m By\u001b[38;5;241m.\u001b[39mCSS_SELECTOR\n\u001b[0;32m    859\u001b[0m     value \u001b[38;5;241m=\u001b[39m \u001b[38;5;124m'\u001b[39m\u001b[38;5;124m[name=\u001b[39m\u001b[38;5;124m\"\u001b[39m\u001b[38;5;132;01m%s\u001b[39;00m\u001b[38;5;124m\"\u001b[39m\u001b[38;5;124m]\u001b[39m\u001b[38;5;124m'\u001b[39m \u001b[38;5;241m%\u001b[39m value\n\u001b[1;32m--> 861\u001b[0m \u001b[38;5;28;01mreturn\u001b[39;00m \u001b[38;5;28;43mself\u001b[39;49m\u001b[38;5;241;43m.\u001b[39;49m\u001b[43mexecute\u001b[49m\u001b[43m(\u001b[49m\u001b[43mCommand\u001b[49m\u001b[38;5;241;43m.\u001b[39;49m\u001b[43mFIND_ELEMENT\u001b[49m\u001b[43m,\u001b[49m\u001b[43m \u001b[49m\u001b[43m{\u001b[49m\u001b[38;5;124;43m\"\u001b[39;49m\u001b[38;5;124;43musing\u001b[39;49m\u001b[38;5;124;43m\"\u001b[39;49m\u001b[43m:\u001b[49m\u001b[43m \u001b[49m\u001b[43mby\u001b[49m\u001b[43m,\u001b[49m\u001b[43m \u001b[49m\u001b[38;5;124;43m\"\u001b[39;49m\u001b[38;5;124;43mvalue\u001b[39;49m\u001b[38;5;124;43m\"\u001b[39;49m\u001b[43m:\u001b[49m\u001b[43m \u001b[49m\u001b[43mvalue\u001b[49m\u001b[43m}\u001b[49m\u001b[43m)\u001b[49m[\u001b[38;5;124m\"\u001b[39m\u001b[38;5;124mvalue\u001b[39m\u001b[38;5;124m\"\u001b[39m]\n",
      "File \u001b[1;32m~\\anaconda3\\lib\\site-packages\\selenium\\webdriver\\remote\\webdriver.py:444\u001b[0m, in \u001b[0;36mWebDriver.execute\u001b[1;34m(self, driver_command, params)\u001b[0m\n\u001b[0;32m    442\u001b[0m response \u001b[38;5;241m=\u001b[39m \u001b[38;5;28mself\u001b[39m\u001b[38;5;241m.\u001b[39mcommand_executor\u001b[38;5;241m.\u001b[39mexecute(driver_command, params)\n\u001b[0;32m    443\u001b[0m \u001b[38;5;28;01mif\u001b[39;00m response:\n\u001b[1;32m--> 444\u001b[0m     \u001b[38;5;28;43mself\u001b[39;49m\u001b[38;5;241;43m.\u001b[39;49m\u001b[43merror_handler\u001b[49m\u001b[38;5;241;43m.\u001b[39;49m\u001b[43mcheck_response\u001b[49m\u001b[43m(\u001b[49m\u001b[43mresponse\u001b[49m\u001b[43m)\u001b[49m\n\u001b[0;32m    445\u001b[0m     response[\u001b[38;5;124m\"\u001b[39m\u001b[38;5;124mvalue\u001b[39m\u001b[38;5;124m\"\u001b[39m] \u001b[38;5;241m=\u001b[39m \u001b[38;5;28mself\u001b[39m\u001b[38;5;241m.\u001b[39m_unwrap_value(response\u001b[38;5;241m.\u001b[39mget(\u001b[38;5;124m\"\u001b[39m\u001b[38;5;124mvalue\u001b[39m\u001b[38;5;124m\"\u001b[39m, \u001b[38;5;28;01mNone\u001b[39;00m))\n\u001b[0;32m    446\u001b[0m     \u001b[38;5;28;01mreturn\u001b[39;00m response\n",
      "File \u001b[1;32m~\\anaconda3\\lib\\site-packages\\selenium\\webdriver\\remote\\errorhandler.py:249\u001b[0m, in \u001b[0;36mErrorHandler.check_response\u001b[1;34m(self, response)\u001b[0m\n\u001b[0;32m    247\u001b[0m         alert_text \u001b[38;5;241m=\u001b[39m value[\u001b[38;5;124m\"\u001b[39m\u001b[38;5;124malert\u001b[39m\u001b[38;5;124m\"\u001b[39m]\u001b[38;5;241m.\u001b[39mget(\u001b[38;5;124m\"\u001b[39m\u001b[38;5;124mtext\u001b[39m\u001b[38;5;124m\"\u001b[39m)\n\u001b[0;32m    248\u001b[0m     \u001b[38;5;28;01mraise\u001b[39;00m exception_class(message, screen, stacktrace, alert_text)  \u001b[38;5;66;03m# type: ignore[call-arg]  # mypy is not smart enough here\u001b[39;00m\n\u001b[1;32m--> 249\u001b[0m \u001b[38;5;28;01mraise\u001b[39;00m exception_class(message, screen, stacktrace)\n",
      "\u001b[1;31mNoSuchElementException\u001b[0m: Message: no such element: Unable to locate element: {\"method\":\"xpath\",\"selector\":\"/html/body/div[3]/div/div[2]/div[3]/h2/a\"}\n  (Session info: chrome=109.0.5414.120)\nStacktrace:\nBacktrace:\n\t(No symbol) [0x00386643]\n\t(No symbol) [0x0031BE21]\n\t(No symbol) [0x0021DA9D]\n\t(No symbol) [0x00251342]\n\t(No symbol) [0x0025147B]\n\t(No symbol) [0x00288DC2]\n\t(No symbol) [0x0026FDC4]\n\t(No symbol) [0x00286B09]\n\t(No symbol) [0x0026FB76]\n\t(No symbol) [0x002449C1]\n\t(No symbol) [0x00245E5D]\n\tGetHandleVerifier [0x005FA142+2497106]\n\tGetHandleVerifier [0x006285D3+2686691]\n\tGetHandleVerifier [0x0062BB9C+2700460]\n\tGetHandleVerifier [0x00433B10+635936]\n\t(No symbol) [0x00324A1F]\n\t(No symbol) [0x0032A418]\n\t(No symbol) [0x0032A505]\n\t(No symbol) [0x0033508B]\n\tBaseThreadInitThunk [0x760A00F9+25]\n\tRtlGetAppContainerNamedObjectPath [0x774B7BBE+286]\n\tRtlGetAppContainerNamedObjectPath [0x774B7B8E+238]\n"
     ]
    }
   ],
   "source": [
    "\n",
    "button=driver.find_element(By.XPATH,'/html/body/div[3]/div/div[2]/div[3]/h2/a')\n",
    "button.click()"
   ]
  },
  {
   "cell_type": "code",
   "execution_count": 49,
   "id": "087f1816",
   "metadata": {},
   "outputs": [],
   "source": [
    "laptops=driver.find_elements(By.XPATH,'//h3[@class=\"ga-fired\"]')\n",
    "for i in laptops:\n",
    "    laptops=i.text\n",
    "    laptops1_under_50000.append(laptops)"
   ]
  },
  {
   "cell_type": "code",
   "execution_count": 50,
   "id": "dedc99d6",
   "metadata": {},
   "outputs": [
    {
     "data": {
      "text/plain": [
       "['01. Acer Aspire 5 Gaming',\n",
       " '02. MSI GF63 Thin',\n",
       " '03. Mi Notebook 14 Horizon Gray',\n",
       " '04. Lenovo IdeaPad 3',\n",
       " '05. HP Pavilion Gaming Laptop']"
      ]
     },
     "execution_count": 50,
     "metadata": {},
     "output_type": "execute_result"
    }
   ],
   "source": [
    "laptops1_under_50000"
   ]
  },
  {
   "cell_type": "code",
   "execution_count": 52,
   "id": "019dc4a0",
   "metadata": {},
   "outputs": [],
   "source": [
    "Button=driver.find_element(By.XPATH,'/html/body/div[3]/div/div[1]/div[2]/div/div/ul/li[1]/a')\n",
    "Button.click()\n",
    "time.sleep(10)"
   ]
  },
  {
   "cell_type": "code",
   "execution_count": 53,
   "id": "80a515a6",
   "metadata": {},
   "outputs": [],
   "source": [
    "Best_Asus_gaminglaptops=[]\n",
    "ag=driver.find_elements(By.XPATH,'//h3[@class=\"ga-fired\"]')\n",
    "for i in ag:\n",
    "    ag=i.text\n",
    "    Best_Asus_gaminglaptops.append(ag)"
   ]
  },
  {
   "cell_type": "code",
   "execution_count": 55,
   "id": "f1b58a80",
   "metadata": {},
   "outputs": [
    {
     "data": {
      "text/plain": [
       "['01. ASUS TUF Gaming',\n",
       " '02. ASUS Zephyrus G14',\n",
       " '03. ASUS Vivobook Pro 14 OLED',\n",
       " '04. ASUS ROG Strix G15',\n",
       " '05. ASUS TUF DASH F15',\n",
       " '06. ASUS ROG Flow X13']"
      ]
     },
     "execution_count": 55,
     "metadata": {},
     "output_type": "execute_result"
    }
   ],
   "source": [
    "Best_Asus_gaminglaptops"
   ]
  },
  {
   "cell_type": "code",
   "execution_count": 56,
   "id": "cbef3dbd",
   "metadata": {},
   "outputs": [],
   "source": [
    "url=\"https://www.digit.in/top-products/best-gaming-laptops-40.html\"\n",
    "driver.get(url)"
   ]
  },
  {
   "cell_type": "code",
   "execution_count": 57,
   "id": "729a3d79",
   "metadata": {},
   "outputs": [],
   "source": [
    "Brand=[]\n",
    "br=driver.find_elements(By.XPATH,'//div[@class=\"TopNumbeHeading\"]')\n",
    "for i in br:\n",
    "    br=i.text\n",
    "    Brand.append(br)\n",
    "    "
   ]
  },
  {
   "cell_type": "code",
   "execution_count": 59,
   "id": "b3eeb262",
   "metadata": {},
   "outputs": [
    {
     "data": {
      "text/plain": [
       "['1.\\nMSI Titan GT77-12UHS',\n",
       " '2.\\nAlienware X17 R2',\n",
       " '3.\\nAcer Predator Triton 500 SE PT516-52s',\n",
       " '4.\\nOmen By HP (16-B1371TX)',\n",
       " '5.\\nAcer Predator Helios 300 AN515-45',\n",
       " '6.\\nMSI Delta 15 (A5EFK-083IN)',\n",
       " '7.\\nOmen By HP (16-C0141AX)',\n",
       " '8.\\nLenovo Legion 5i Pro (82RF00MGIN)',\n",
       " '9.\\nAlienware M15 R5 Ryzen Edition Icc-C780001win',\n",
       " '10.\\nLenovo Slim 7 Gen 6 (82K8002JIN)']"
      ]
     },
     "execution_count": 59,
     "metadata": {},
     "output_type": "execute_result"
    }
   ],
   "source": [
    "Brand"
   ]
  },
  {
   "cell_type": "code",
   "execution_count": 60,
   "id": "e418d1fd",
   "metadata": {},
   "outputs": [],
   "source": [
    "Specification=[]\n",
    "details=driver.find_elements(By.XPATH,'//div[@class=\"Spcs-details\"]')\n",
    "for i in details:\n",
    "    details=i.text\n",
    "    Specification.append(details)"
   ]
  },
  {
   "cell_type": "code",
   "execution_count": 64,
   "id": "8877fd87",
   "metadata": {},
   "outputs": [
    {
     "data": {
      "text/plain": [
       "['MORE SPECIFICATIONS\\nProcessor : 12th Gen Intel Core i9-12900HX 16 core processor\\nDisplay : 17.3″ (3840 x 2160) screen, 120 Hz refresh rate\\nOS : Windows 11 Home\\nMemory : 64 GB DDR5 RAM & 2 TB SSD\\nGraphics Processor : 16 GB DDR6 NVIDIA GeForce RTX 3080 Ti Graphics card\\nBody : 397 x 330 x 23 mm dimension & 3.3 kg weight',\n",
       " 'MORE SPECIFICATIONS\\nProcessor : 12th Gen Intel Core i9-12900H 14 core processor with 5 GHz clock speed\\nDisplay : 17.3″ (1920 x 1080) screen, 360 Hz refresh rate\\nOS : Windows 11 Home\\nMemory : 32 GB DDR5 RAM & 1 TB SSD\\nGraphics Processor : 16 GB DDR6 NVIDIA GEFORCE RTX 3080 Ti Graphics card\\nBody : 299 x 359 x 21 mm dimension & 2.96 kg weight\\nPrice : ₹ 389,990',\n",
       " 'MORE SPECIFICATIONS\\nProcessor : 12th Gen Intel Core i7-12700H 14 core processor with 3.5 GHz clock speed\\nDisplay : 16″ (2560 x 1600) screen\\nOS : Windows 11\\nMemory : 32 GB DDR5 RAM & 2 TB SSD\\nGraphics Processor : 8 GB DDR6 NVIDIA GeForce RTX 3070 Ti Graphics card\\nBody : 262 x 359 x 20 mm dimension & 2.4 kg weight\\nPrice : ₹ 229,990',\n",
       " 'MORE SPECIFICATIONS\\nProcessor : 12th Gen Intel Core i7-12700H 14 core processor with 4.7 GHz clock speed\\nDisplay : 16.1″ (2560 x 1440) screen\\nOS : Windows 11 Home\\nMemory : 8 GB DDR5 RAM & 1 TB SSD\\nGraphics Processor : 8 GB GDDR6 NVIDIA GeForce RTX 3070 Graphics card\\nBody : 369 x 248 x 23 mm dimension & 2.32 kg weight\\nPrice : ₹ 176,490',\n",
       " 'MORE SPECIFICATIONS\\nProcessor : AMD Ryzen 9-5900HX 8 core processor\\nDisplay : 15.6″ (2560 x 1440) screen, 165 Hz refresh rate\\nOS : Windows 11 Home\\nMemory : 16 GB DDR4 RAM & 512 GB SSD\\nGraphics Processor : 8 GB DDR6 NVIDIA GeForce RTX 3070 Graphics card\\nBody : 363 x 255 x 23.9 mm dimension & 2.4 kg weight\\nPrice : ₹ 172,999',\n",
       " 'MORE SPECIFICATIONS\\nProcessor : AMD 5th Gen Ryzen 9-5900HX 8 core processor with 3.3GHz clock speed\\nDisplay : 15.6″ (1920 x 1080) screen, 240Hz refresh rate\\nOS : Windows 11 Home\\nMemory : 16 GB DDR4 RAM & 1 TB SSD\\nGraphics Processor : 10 GB DDR6 AMD Radeon RX 6700M Graphics card\\nBody : 357 x 247 x 19 mm dimension & 1.9 kg weight\\nPrice : ₹ 188,990',\n",
       " 'MORE SPECIFICATIONS\\nProcessor : AMD Ryzen™ 9 5900HX 8 core processor with 3.3 GHz clock speed\\nDisplay : 16.1″ (2560 x 1440) screen\\nOS : Windows 11 Home\\nMemory : 16 GB DDR4 RAM & 1 TB NVMe\\nGraphics Processor : 8 GB GDDR6 AMD Radeon™ RX 6600M Graphics card\\nBody : 36.92 x 24.8 x 2.3 mm dimension & 2.3 kg weight\\nPrice : ₹ 124,990',\n",
       " 'MORE SPECIFICATIONS\\nProcessor : 12th Gen Intel Core i7-12700H 14 core processor with 2.3 GHz clock speed\\nDisplay : 16″ (2560 x 1600) screen, 165 Hz refresh rate\\nOS : Windows 11 Home\\nMemory : 16 GB DDR5 RAM & 1 TB SSD\\nGraphics Processor : 6 GB DDR6 NVIDIA GeForce RTX 3060 Graphics card\\nBody : 360 x 264 x 20 mm dimension & 2.49 kg weight\\nPrice : ₹ 167,990',\n",
       " 'MORE SPECIFICATIONS\\nProcessor : AMD Ryzen R7-5800H 8 core processor with 4.40 GHz clock speed\\nDisplay : 15.6″ (1920 x 1080) screen, 165Hz refresh rate\\nOS : Windows 11 Home\\nMemory : 16 GB DDR4 RAM & 512 GB SSD\\nGraphics Processor : 6 GB DDR6 NVIDIA GeForce RTX 3060 Graphics card\\nBody : 356.2 x 272.5 x 22.85 mm dimension & 2.69 kg weight\\nPrice : ₹ 174,000',\n",
       " 'MORE SPECIFICATIONS\\nProcessor : Lenovo Ryzen 7-5800H processor with 3.2 GHz clock speed\\nDisplay : 15.6″ screen, 165 Hz refresh rate\\nOS : Windows 11 Home\\nMemory : 16 GB DDR4 RAM & 1 TB SSD\\nGraphics Processor : 6 GB DDR6 NVIDIA GeForce 3060 Max-Q Graphics card\\nBody : 356 x 252 x 16 mm dimension & 1.9 kg weight\\nPrice : ₹ 131,990']"
      ]
     },
     "execution_count": 64,
     "metadata": {},
     "output_type": "execute_result"
    }
   ],
   "source": [
    "Specification"
   ]
  },
  {
   "cell_type": "code",
   "execution_count": 65,
   "id": "b1d25c58",
   "metadata": {},
   "outputs": [],
   "source": [
    "Product_details=[]\n",
    "product=driver.find_elements(By.XPATH,'//div[@class=\"product-detail\"]')\n",
    "for i in product:\n",
    "    product=i.text\n",
    "    Product_details.append(product)"
   ]
  },
  {
   "cell_type": "code",
   "execution_count": 67,
   "id": "1e45273a",
   "metadata": {},
   "outputs": [
    {
     "data": {
      "text/plain": [
       "10"
      ]
     },
     "execution_count": 67,
     "metadata": {},
     "output_type": "execute_result"
    }
   ],
   "source": [
    "len(Product_details)"
   ]
  },
  {
   "cell_type": "code",
   "execution_count": 73,
   "id": "d00c3e39",
   "metadata": {},
   "outputs": [],
   "source": [
    "q2=[]\n",
    "amount=driver.find_elements(By.XPATH,'//div[@class=\"lowest_price\"]')\n",
    "try:\n",
    "    for i in amount:\n",
    "        amount=i.text\n",
    "        q2.append(amount)\n",
    "except:\n",
    "    if i==\" \":\n",
    "        q2.append(\"n/a\")\n",
    "    "
   ]
  },
  {
   "cell_type": "code",
   "execution_count": 74,
   "id": "8a67a08e",
   "metadata": {},
   "outputs": [
    {
     "data": {
      "text/plain": [
       "7"
      ]
     },
     "execution_count": 74,
     "metadata": {},
     "output_type": "execute_result"
    }
   ],
   "source": [
    "len(q2)"
   ]
  },
  {
   "cell_type": "code",
   "execution_count": 75,
   "id": "878afcb7",
   "metadata": {},
   "outputs": [
    {
     "data": {
      "text/html": [
       "<div>\n",
       "<style scoped>\n",
       "    .dataframe tbody tr th:only-of-type {\n",
       "        vertical-align: middle;\n",
       "    }\n",
       "\n",
       "    .dataframe tbody tr th {\n",
       "        vertical-align: top;\n",
       "    }\n",
       "\n",
       "    .dataframe thead th {\n",
       "        text-align: right;\n",
       "    }\n",
       "</style>\n",
       "<table border=\"1\" class=\"dataframe\">\n",
       "  <thead>\n",
       "    <tr style=\"text-align: right;\">\n",
       "      <th></th>\n",
       "      <th>Name</th>\n",
       "      <th>product_details</th>\n",
       "      <th>More_Specifications</th>\n",
       "    </tr>\n",
       "  </thead>\n",
       "  <tbody>\n",
       "    <tr>\n",
       "      <th>0</th>\n",
       "      <td>1.\\nMSI Titan GT77-12UHS</td>\n",
       "      <td>Windows 11 Home OS\\n17.3\" (3840 x 2160) Displa...</td>\n",
       "      <td>MORE SPECIFICATIONS\\nProcessor : 12th Gen Inte...</td>\n",
       "    </tr>\n",
       "    <tr>\n",
       "      <th>1</th>\n",
       "      <td>2.\\nAlienware X17 R2</td>\n",
       "      <td>Windows 11 Home OS\\n17.3\" (1920 x 1080) Displa...</td>\n",
       "      <td>MORE SPECIFICATIONS\\nProcessor : 12th Gen Inte...</td>\n",
       "    </tr>\n",
       "    <tr>\n",
       "      <th>2</th>\n",
       "      <td>3.\\nAcer Predator Triton 500 SE PT516-52s</td>\n",
       "      <td>Windows 11 OS\\n16\" (2560 x 1600) Display\\n12th...</td>\n",
       "      <td>MORE SPECIFICATIONS\\nProcessor : 12th Gen Inte...</td>\n",
       "    </tr>\n",
       "    <tr>\n",
       "      <th>3</th>\n",
       "      <td>4.\\nOmen By HP (16-B1371TX)</td>\n",
       "      <td>Windows 11 Home OS\\n16.1\" (2560 x 1440) Displa...</td>\n",
       "      <td>MORE SPECIFICATIONS\\nProcessor : 12th Gen Inte...</td>\n",
       "    </tr>\n",
       "    <tr>\n",
       "      <th>4</th>\n",
       "      <td>5.\\nAcer Predator Helios 300 AN515-45</td>\n",
       "      <td>Windows 11 Home OS\\n15.6\" (2560 x 1440) Displa...</td>\n",
       "      <td>MORE SPECIFICATIONS\\nProcessor : AMD Ryzen 9-5...</td>\n",
       "    </tr>\n",
       "    <tr>\n",
       "      <th>5</th>\n",
       "      <td>6.\\nMSI Delta 15 (A5EFK-083IN)</td>\n",
       "      <td>Windows 11 Home OS\\n15.6\" (1920 x 1080) Displa...</td>\n",
       "      <td>MORE SPECIFICATIONS\\nProcessor : AMD 5th Gen R...</td>\n",
       "    </tr>\n",
       "    <tr>\n",
       "      <th>6</th>\n",
       "      <td>7.\\nOmen By HP (16-C0141AX)</td>\n",
       "      <td>Windows 11 Home OS\\n16.1\" (2560 x 1440) Displa...</td>\n",
       "      <td>MORE SPECIFICATIONS\\nProcessor : AMD Ryzen™ 9 ...</td>\n",
       "    </tr>\n",
       "    <tr>\n",
       "      <th>7</th>\n",
       "      <td>8.\\nLenovo Legion 5i Pro (82RF00MGIN)</td>\n",
       "      <td>Windows 11 Home OS\\n16\" (2560 x 1600) Display\\...</td>\n",
       "      <td>MORE SPECIFICATIONS\\nProcessor : 12th Gen Inte...</td>\n",
       "    </tr>\n",
       "    <tr>\n",
       "      <th>8</th>\n",
       "      <td>9.\\nAlienware M15 R5 Ryzen Edition Icc-C780001win</td>\n",
       "      <td>Windows 11 Home OS\\n15.6\" (1920 x 1080) Displa...</td>\n",
       "      <td>MORE SPECIFICATIONS\\nProcessor : AMD Ryzen R7-...</td>\n",
       "    </tr>\n",
       "    <tr>\n",
       "      <th>9</th>\n",
       "      <td>10.\\nLenovo Slim 7 Gen 6 (82K8002JIN)</td>\n",
       "      <td>Windows 11 Home OS\\n15.6 MP | NA Display\\nLeno...</td>\n",
       "      <td>MORE SPECIFICATIONS\\nProcessor : Lenovo Ryzen ...</td>\n",
       "    </tr>\n",
       "  </tbody>\n",
       "</table>\n",
       "</div>"
      ],
      "text/plain": [
       "                                                Name  \\\n",
       "0                           1.\\nMSI Titan GT77-12UHS   \n",
       "1                               2.\\nAlienware X17 R2   \n",
       "2          3.\\nAcer Predator Triton 500 SE PT516-52s   \n",
       "3                        4.\\nOmen By HP (16-B1371TX)   \n",
       "4              5.\\nAcer Predator Helios 300 AN515-45   \n",
       "5                     6.\\nMSI Delta 15 (A5EFK-083IN)   \n",
       "6                        7.\\nOmen By HP (16-C0141AX)   \n",
       "7              8.\\nLenovo Legion 5i Pro (82RF00MGIN)   \n",
       "8  9.\\nAlienware M15 R5 Ryzen Edition Icc-C780001win   \n",
       "9              10.\\nLenovo Slim 7 Gen 6 (82K8002JIN)   \n",
       "\n",
       "                                     product_details  \\\n",
       "0  Windows 11 Home OS\\n17.3\" (3840 x 2160) Displa...   \n",
       "1  Windows 11 Home OS\\n17.3\" (1920 x 1080) Displa...   \n",
       "2  Windows 11 OS\\n16\" (2560 x 1600) Display\\n12th...   \n",
       "3  Windows 11 Home OS\\n16.1\" (2560 x 1440) Displa...   \n",
       "4  Windows 11 Home OS\\n15.6\" (2560 x 1440) Displa...   \n",
       "5  Windows 11 Home OS\\n15.6\" (1920 x 1080) Displa...   \n",
       "6  Windows 11 Home OS\\n16.1\" (2560 x 1440) Displa...   \n",
       "7  Windows 11 Home OS\\n16\" (2560 x 1600) Display\\...   \n",
       "8  Windows 11 Home OS\\n15.6\" (1920 x 1080) Displa...   \n",
       "9  Windows 11 Home OS\\n15.6 MP | NA Display\\nLeno...   \n",
       "\n",
       "                                 More_Specifications  \n",
       "0  MORE SPECIFICATIONS\\nProcessor : 12th Gen Inte...  \n",
       "1  MORE SPECIFICATIONS\\nProcessor : 12th Gen Inte...  \n",
       "2  MORE SPECIFICATIONS\\nProcessor : 12th Gen Inte...  \n",
       "3  MORE SPECIFICATIONS\\nProcessor : 12th Gen Inte...  \n",
       "4  MORE SPECIFICATIONS\\nProcessor : AMD Ryzen 9-5...  \n",
       "5  MORE SPECIFICATIONS\\nProcessor : AMD 5th Gen R...  \n",
       "6  MORE SPECIFICATIONS\\nProcessor : AMD Ryzen™ 9 ...  \n",
       "7  MORE SPECIFICATIONS\\nProcessor : 12th Gen Inte...  \n",
       "8  MORE SPECIFICATIONS\\nProcessor : AMD Ryzen R7-...  \n",
       "9  MORE SPECIFICATIONS\\nProcessor : Lenovo Ryzen ...  "
      ]
     },
     "execution_count": 75,
     "metadata": {},
     "output_type": "execute_result"
    }
   ],
   "source": [
    "laptops=pd.DataFrame({'Name':Brand,\"product_details\":Product_details,\"More_Specifications\":Specification})\n",
    "laptops"
   ]
  },
  {
   "cell_type": "code",
   "execution_count": 76,
   "id": "5c589f99",
   "metadata": {},
   "outputs": [],
   "source": [
    "#Write a python program to scrape the details for all billionaires from www.forbes.com. Details to be\n",
    "#scrapped: “Rank”, “Name”, “Net worth”, “Age”, “Citizenship”, “Source”, “Industry”.\n"
   ]
  },
  {
   "cell_type": "code",
   "execution_count": 16,
   "id": "ad26c5ec",
   "metadata": {},
   "outputs": [],
   "source": [
    "driver.get(\"https://www.forbes.com\")"
   ]
  },
  {
   "cell_type": "code",
   "execution_count": 17,
   "id": "f557c0e4",
   "metadata": {},
   "outputs": [],
   "source": [
    "search=driver.find_element(By.XPATH,'/html/body/div[1]/header/nav/div[1]/div/div/div[2]/ul/li[1]/div[1]')\n",
    "search.click()"
   ]
  },
  {
   "cell_type": "code",
   "execution_count": 18,
   "id": "82ef934e",
   "metadata": {},
   "outputs": [],
   "source": [
    "allbillionaire=driver.find_element(By.XPATH,'/html/body/div[1]/header/nav/div[1]/div/div/div[2]/ul/li[1]/div[2]/div[2]/a')\n",
    "allbillionaire.click()"
   ]
  },
  {
   "cell_type": "code",
   "execution_count": 19,
   "id": "e4fac4eb",
   "metadata": {},
   "outputs": [],
   "source": [
    "list=driver.find_element(By.XPATH,'/html/body/div[1]/main/div/section/section[1]/div/div/div[1]/div/div[1]/div[1]/div[2]/a/h2')\n",
    "list.click()"
   ]
  },
  {
   "cell_type": "code",
   "execution_count": 20,
   "id": "bc45bc8a",
   "metadata": {},
   "outputs": [],
   "source": [
    "Name=[]\n",
    "name=driver.find_elements(By.XPATH,'//div[@class=\"personName\"]')\n",
    "for i in name:\n",
    "    name=i.text\n",
    "    Name.append(name)\n",
    "\n"
   ]
  },
  {
   "cell_type": "code",
   "execution_count": 21,
   "id": "cb20c822",
   "metadata": {},
   "outputs": [],
   "source": [
    "Networth=[]\n",
    "amount=driver.find_elements(By.XPATH,'//div[@class=\"netWorth\"]')\n",
    "for i in amount:\n",
    "    amount=i.text\n",
    "    Networth.append(amount)"
   ]
  },
  {
   "cell_type": "code",
   "execution_count": 22,
   "id": "515f34e1",
   "metadata": {},
   "outputs": [],
   "source": [
    "Country=[]\n",
    "de=driver.find_elements(By.XPATH,'//div[@class=\"countryOfCitizenship\"]')\n",
    "for i in de:\n",
    "    de=i.text\n",
    "    Country.append(de)"
   ]
  },
  {
   "cell_type": "code",
   "execution_count": 23,
   "id": "24f16145",
   "metadata": {},
   "outputs": [],
   "source": [
    "Source=[]\n",
    "inc=driver.find_elements(By.XPATH,'//span[@class=\"source-text\"]')\n",
    "for i in inc:\n",
    "    inc=i.text\n",
    "    Source.append(inc)"
   ]
  },
  {
   "cell_type": "code",
   "execution_count": 24,
   "id": "72d67aa1",
   "metadata": {},
   "outputs": [],
   "source": [
    "Field=[]\n",
    "cate=driver.find_elements(By.XPATH,'//div[@class=\"category\"]')\n",
    "for i in cate:\n",
    "    cate=i.text\n",
    "    Field.append(cate)"
   ]
  },
  {
   "cell_type": "code",
   "execution_count": 25,
   "id": "81bca79c",
   "metadata": {},
   "outputs": [
    {
     "data": {
      "text/html": [
       "<div>\n",
       "<style scoped>\n",
       "    .dataframe tbody tr th:only-of-type {\n",
       "        vertical-align: middle;\n",
       "    }\n",
       "\n",
       "    .dataframe tbody tr th {\n",
       "        vertical-align: top;\n",
       "    }\n",
       "\n",
       "    .dataframe thead th {\n",
       "        text-align: right;\n",
       "    }\n",
       "</style>\n",
       "<table border=\"1\" class=\"dataframe\">\n",
       "  <thead>\n",
       "    <tr style=\"text-align: right;\">\n",
       "      <th></th>\n",
       "      <th>Billionaires_Names</th>\n",
       "      <th>Billionaires_Networth</th>\n",
       "      <th>Billionaires_Country</th>\n",
       "      <th>Billionaires_Source</th>\n",
       "      <th>Billionaires_Field</th>\n",
       "    </tr>\n",
       "  </thead>\n",
       "  <tbody>\n",
       "    <tr>\n",
       "      <th>0</th>\n",
       "      <td>Elon Musk</td>\n",
       "      <td>$219 B</td>\n",
       "      <td>United States</td>\n",
       "      <td>Tesla, SpaceX</td>\n",
       "      <td>Automotive</td>\n",
       "    </tr>\n",
       "    <tr>\n",
       "      <th>1</th>\n",
       "      <td>Jeff Bezos</td>\n",
       "      <td>$171 B</td>\n",
       "      <td>United States</td>\n",
       "      <td>Amazon</td>\n",
       "      <td>Technology</td>\n",
       "    </tr>\n",
       "    <tr>\n",
       "      <th>2</th>\n",
       "      <td>Bernard Arnault &amp; family</td>\n",
       "      <td>$158 B</td>\n",
       "      <td>France</td>\n",
       "      <td>LVMH</td>\n",
       "      <td>Fashion &amp; Retail</td>\n",
       "    </tr>\n",
       "    <tr>\n",
       "      <th>3</th>\n",
       "      <td>Bill Gates</td>\n",
       "      <td>$129 B</td>\n",
       "      <td>United States</td>\n",
       "      <td>Microsoft</td>\n",
       "      <td>Technology</td>\n",
       "    </tr>\n",
       "    <tr>\n",
       "      <th>4</th>\n",
       "      <td>Warren Buffett</td>\n",
       "      <td>$118 B</td>\n",
       "      <td>United States</td>\n",
       "      <td>Berkshire Hathaway</td>\n",
       "      <td>Finance &amp; Investments</td>\n",
       "    </tr>\n",
       "    <tr>\n",
       "      <th>...</th>\n",
       "      <td>...</td>\n",
       "      <td>...</td>\n",
       "      <td>...</td>\n",
       "      <td>...</td>\n",
       "      <td>...</td>\n",
       "    </tr>\n",
       "    <tr>\n",
       "      <th>195</th>\n",
       "      <td></td>\n",
       "      <td></td>\n",
       "      <td></td>\n",
       "      <td>beer</td>\n",
       "      <td>Food &amp; Beverage</td>\n",
       "    </tr>\n",
       "    <tr>\n",
       "      <th>196</th>\n",
       "      <td></td>\n",
       "      <td></td>\n",
       "      <td></td>\n",
       "      <td>private equity</td>\n",
       "      <td>Finance &amp; Investments</td>\n",
       "    </tr>\n",
       "    <tr>\n",
       "      <th>197</th>\n",
       "      <td></td>\n",
       "      <td></td>\n",
       "      <td></td>\n",
       "      <td>Airbnb</td>\n",
       "      <td>Technology</td>\n",
       "    </tr>\n",
       "    <tr>\n",
       "      <th>198</th>\n",
       "      <td></td>\n",
       "      <td></td>\n",
       "      <td></td>\n",
       "      <td>movies, record labels</td>\n",
       "      <td>Media &amp; Entertainment</td>\n",
       "    </tr>\n",
       "    <tr>\n",
       "      <th>199</th>\n",
       "      <td></td>\n",
       "      <td></td>\n",
       "      <td></td>\n",
       "      <td>semiconductors</td>\n",
       "      <td>Manufacturing</td>\n",
       "    </tr>\n",
       "  </tbody>\n",
       "</table>\n",
       "<p>200 rows × 5 columns</p>\n",
       "</div>"
      ],
      "text/plain": [
       "           Billionaires_Names Billionaires_Networth Billionaires_Country  \\\n",
       "0                   Elon Musk                $219 B        United States   \n",
       "1                  Jeff Bezos                $171 B        United States   \n",
       "2    Bernard Arnault & family                $158 B               France   \n",
       "3                  Bill Gates                $129 B        United States   \n",
       "4              Warren Buffett                $118 B        United States   \n",
       "..                        ...                   ...                  ...   \n",
       "195                                                                        \n",
       "196                                                                        \n",
       "197                                                                        \n",
       "198                                                                        \n",
       "199                                                                        \n",
       "\n",
       "       Billionaires_Source     Billionaires_Field  \n",
       "0            Tesla, SpaceX             Automotive  \n",
       "1                   Amazon             Technology  \n",
       "2                     LVMH       Fashion & Retail  \n",
       "3                Microsoft             Technology  \n",
       "4       Berkshire Hathaway  Finance & Investments  \n",
       "..                     ...                    ...  \n",
       "195                   beer        Food & Beverage  \n",
       "196         private equity  Finance & Investments  \n",
       "197                 Airbnb             Technology  \n",
       "198  movies, record labels  Media & Entertainment  \n",
       "199         semiconductors          Manufacturing  \n",
       "\n",
       "[200 rows x 5 columns]"
      ]
     },
     "execution_count": 25,
     "metadata": {},
     "output_type": "execute_result"
    }
   ],
   "source": [
    "Billionaires=pd.DataFrame({\"Billionaires_Names\":Name,\n",
    "                          \"Billionaires_Networth\":Networth,\n",
    "                          \"Billionaires_Country\":Country,\n",
    "                          \"Billionaires_Source\":Source,\n",
    "                          \"Billionaires_Field\":Field})\n",
    "Billionaires\n"
   ]
  },
  {
   "cell_type": "code",
   "execution_count": 37,
   "id": "2c8b5bad",
   "metadata": {},
   "outputs": [
    {
     "ename": "NoSuchWindowException",
     "evalue": "Message: no such window: target window already closed\nfrom unknown error: web view not found\n  (Session info: chrome=109.0.5414.120)\nStacktrace:\nBacktrace:\n\t(No symbol) [0x00386643]\n\t(No symbol) [0x0031BE21]\n\t(No symbol) [0x0021DA9D]\n\t(No symbol) [0x001FEF6A]\n\t(No symbol) [0x00273AAB]\n\t(No symbol) [0x002861B6]\n\t(No symbol) [0x0026FB76]\n\t(No symbol) [0x002449C1]\n\t(No symbol) [0x00245E5D]\n\tGetHandleVerifier [0x005FA142+2497106]\n\tGetHandleVerifier [0x006285D3+2686691]\n\tGetHandleVerifier [0x0062BB9C+2700460]\n\tGetHandleVerifier [0x00433B10+635936]\n\t(No symbol) [0x00324A1F]\n\t(No symbol) [0x0032A418]\n\t(No symbol) [0x0032A505]\n\t(No symbol) [0x0033508B]\n\tBaseThreadInitThunk [0x760A00F9+25]\n\tRtlGetAppContainerNamedObjectPath [0x774B7BBE+286]\n\tRtlGetAppContainerNamedObjectPath [0x774B7B8E+238]\n",
     "output_type": "error",
     "traceback": [
      "\u001b[1;31m---------------------------------------------------------------------------\u001b[0m",
      "\u001b[1;31mNoSuchWindowException\u001b[0m                     Traceback (most recent call last)",
      "Input \u001b[1;32mIn [37]\u001b[0m, in \u001b[0;36m<cell line: 1>\u001b[1;34m()\u001b[0m\n\u001b[1;32m----> 1\u001b[0m \u001b[43mdriver\u001b[49m\u001b[38;5;241;43m.\u001b[39;49m\u001b[43mget\u001b[49m\u001b[43m(\u001b[49m\u001b[38;5;124;43m\"\u001b[39;49m\u001b[38;5;124;43mhttps://www.youtube.com\u001b[39;49m\u001b[38;5;124;43m\"\u001b[39;49m\u001b[43m)\u001b[49m\n",
      "File \u001b[1;32m~\\anaconda3\\lib\\site-packages\\selenium\\webdriver\\remote\\webdriver.py:455\u001b[0m, in \u001b[0;36mWebDriver.get\u001b[1;34m(self, url)\u001b[0m\n\u001b[0;32m    451\u001b[0m \u001b[38;5;28;01mdef\u001b[39;00m \u001b[38;5;21mget\u001b[39m(\u001b[38;5;28mself\u001b[39m, url: \u001b[38;5;28mstr\u001b[39m) \u001b[38;5;241m-\u001b[39m\u001b[38;5;241m>\u001b[39m \u001b[38;5;28;01mNone\u001b[39;00m:\n\u001b[0;32m    452\u001b[0m     \u001b[38;5;124;03m\"\"\"\u001b[39;00m\n\u001b[0;32m    453\u001b[0m \u001b[38;5;124;03m    Loads a web page in the current browser session.\u001b[39;00m\n\u001b[0;32m    454\u001b[0m \u001b[38;5;124;03m    \"\"\"\u001b[39;00m\n\u001b[1;32m--> 455\u001b[0m     \u001b[38;5;28;43mself\u001b[39;49m\u001b[38;5;241;43m.\u001b[39;49m\u001b[43mexecute\u001b[49m\u001b[43m(\u001b[49m\u001b[43mCommand\u001b[49m\u001b[38;5;241;43m.\u001b[39;49m\u001b[43mGET\u001b[49m\u001b[43m,\u001b[49m\u001b[43m \u001b[49m\u001b[43m{\u001b[49m\u001b[38;5;124;43m\"\u001b[39;49m\u001b[38;5;124;43murl\u001b[39;49m\u001b[38;5;124;43m\"\u001b[39;49m\u001b[43m:\u001b[49m\u001b[43m \u001b[49m\u001b[43murl\u001b[49m\u001b[43m}\u001b[49m\u001b[43m)\u001b[49m\n",
      "File \u001b[1;32m~\\anaconda3\\lib\\site-packages\\selenium\\webdriver\\remote\\webdriver.py:444\u001b[0m, in \u001b[0;36mWebDriver.execute\u001b[1;34m(self, driver_command, params)\u001b[0m\n\u001b[0;32m    442\u001b[0m response \u001b[38;5;241m=\u001b[39m \u001b[38;5;28mself\u001b[39m\u001b[38;5;241m.\u001b[39mcommand_executor\u001b[38;5;241m.\u001b[39mexecute(driver_command, params)\n\u001b[0;32m    443\u001b[0m \u001b[38;5;28;01mif\u001b[39;00m response:\n\u001b[1;32m--> 444\u001b[0m     \u001b[38;5;28;43mself\u001b[39;49m\u001b[38;5;241;43m.\u001b[39;49m\u001b[43merror_handler\u001b[49m\u001b[38;5;241;43m.\u001b[39;49m\u001b[43mcheck_response\u001b[49m\u001b[43m(\u001b[49m\u001b[43mresponse\u001b[49m\u001b[43m)\u001b[49m\n\u001b[0;32m    445\u001b[0m     response[\u001b[38;5;124m\"\u001b[39m\u001b[38;5;124mvalue\u001b[39m\u001b[38;5;124m\"\u001b[39m] \u001b[38;5;241m=\u001b[39m \u001b[38;5;28mself\u001b[39m\u001b[38;5;241m.\u001b[39m_unwrap_value(response\u001b[38;5;241m.\u001b[39mget(\u001b[38;5;124m\"\u001b[39m\u001b[38;5;124mvalue\u001b[39m\u001b[38;5;124m\"\u001b[39m, \u001b[38;5;28;01mNone\u001b[39;00m))\n\u001b[0;32m    446\u001b[0m     \u001b[38;5;28;01mreturn\u001b[39;00m response\n",
      "File \u001b[1;32m~\\anaconda3\\lib\\site-packages\\selenium\\webdriver\\remote\\errorhandler.py:249\u001b[0m, in \u001b[0;36mErrorHandler.check_response\u001b[1;34m(self, response)\u001b[0m\n\u001b[0;32m    247\u001b[0m         alert_text \u001b[38;5;241m=\u001b[39m value[\u001b[38;5;124m\"\u001b[39m\u001b[38;5;124malert\u001b[39m\u001b[38;5;124m\"\u001b[39m]\u001b[38;5;241m.\u001b[39mget(\u001b[38;5;124m\"\u001b[39m\u001b[38;5;124mtext\u001b[39m\u001b[38;5;124m\"\u001b[39m)\n\u001b[0;32m    248\u001b[0m     \u001b[38;5;28;01mraise\u001b[39;00m exception_class(message, screen, stacktrace, alert_text)  \u001b[38;5;66;03m# type: ignore[call-arg]  # mypy is not smart enough here\u001b[39;00m\n\u001b[1;32m--> 249\u001b[0m \u001b[38;5;28;01mraise\u001b[39;00m exception_class(message, screen, stacktrace)\n",
      "\u001b[1;31mNoSuchWindowException\u001b[0m: Message: no such window: target window already closed\nfrom unknown error: web view not found\n  (Session info: chrome=109.0.5414.120)\nStacktrace:\nBacktrace:\n\t(No symbol) [0x00386643]\n\t(No symbol) [0x0031BE21]\n\t(No symbol) [0x0021DA9D]\n\t(No symbol) [0x001FEF6A]\n\t(No symbol) [0x00273AAB]\n\t(No symbol) [0x002861B6]\n\t(No symbol) [0x0026FB76]\n\t(No symbol) [0x002449C1]\n\t(No symbol) [0x00245E5D]\n\tGetHandleVerifier [0x005FA142+2497106]\n\tGetHandleVerifier [0x006285D3+2686691]\n\tGetHandleVerifier [0x0062BB9C+2700460]\n\tGetHandleVerifier [0x00433B10+635936]\n\t(No symbol) [0x00324A1F]\n\t(No symbol) [0x0032A418]\n\t(No symbol) [0x0032A505]\n\t(No symbol) [0x0033508B]\n\tBaseThreadInitThunk [0x760A00F9+25]\n\tRtlGetAppContainerNamedObjectPath [0x774B7BBE+286]\n\tRtlGetAppContainerNamedObjectPath [0x774B7B8E+238]\n"
     ]
    }
   ],
   "source": []
  },
  {
   "cell_type": "code",
   "execution_count": 30,
   "id": "91ed09b3",
   "metadata": {},
   "outputs": [
    {
     "ename": "ElementNotInteractableException",
     "evalue": "Message: element not interactable\n  (Session info: chrome=109.0.5414.120)\nStacktrace:\nBacktrace:\n\t(No symbol) [0x00386643]\n\t(No symbol) [0x0031BE21]\n\t(No symbol) [0x0021D960]\n\t(No symbol) [0x002523A7]\n\t(No symbol) [0x00246B13]\n\t(No symbol) [0x0026FD7C]\n\t(No symbol) [0x0024641F]\n\t(No symbol) [0x002700D4]\n\t(No symbol) [0x00286B09]\n\t(No symbol) [0x0026FB76]\n\t(No symbol) [0x002449C1]\n\t(No symbol) [0x00245E5D]\n\tGetHandleVerifier [0x005FA142+2497106]\n\tGetHandleVerifier [0x006285D3+2686691]\n\tGetHandleVerifier [0x0062BB9C+2700460]\n\tGetHandleVerifier [0x00433B10+635936]\n\t(No symbol) [0x00324A1F]\n\t(No symbol) [0x0032A418]\n\t(No symbol) [0x0032A505]\n\t(No symbol) [0x0033508B]\n\tBaseThreadInitThunk [0x760A00F9+25]\n\tRtlGetAppContainerNamedObjectPath [0x774B7BBE+286]\n\tRtlGetAppContainerNamedObjectPath [0x774B7B8E+238]\n",
     "output_type": "error",
     "traceback": [
      "\u001b[1;31m---------------------------------------------------------------------------\u001b[0m",
      "\u001b[1;31mElementNotInteractableException\u001b[0m           Traceback (most recent call last)",
      "Input \u001b[1;32mIn [30]\u001b[0m, in \u001b[0;36m<cell line: 2>\u001b[1;34m()\u001b[0m\n\u001b[0;32m      1\u001b[0m video\u001b[38;5;241m=\u001b[39mdriver\u001b[38;5;241m.\u001b[39mfind_element(By\u001b[38;5;241m.\u001b[39mXPATH,\u001b[38;5;124m'\u001b[39m\u001b[38;5;124m/html/body/ytd-app/div[1]/ytd-page-manager/ytd-browse/ytd-two-column-browse-results-renderer/div[1]/ytd-rich-grid-renderer/div[6]/ytd-rich-grid-row[12]/div/ytd-rich-item-renderer/div/ytd-rich-grid-media/div[1]/div[2]/div[1]/h3/a/yt-formatted-string\u001b[39m\u001b[38;5;124m'\u001b[39m)\n\u001b[1;32m----> 2\u001b[0m \u001b[43mvideo\u001b[49m\u001b[38;5;241;43m.\u001b[39;49m\u001b[43mclick\u001b[49m\u001b[43m(\u001b[49m\u001b[43m)\u001b[49m\n\u001b[0;32m      3\u001b[0m time\u001b[38;5;241m.\u001b[39msleep(\u001b[38;5;241m5\u001b[39m)\n",
      "File \u001b[1;32m~\\anaconda3\\lib\\site-packages\\selenium\\webdriver\\remote\\webelement.py:93\u001b[0m, in \u001b[0;36mWebElement.click\u001b[1;34m(self)\u001b[0m\n\u001b[0;32m     91\u001b[0m \u001b[38;5;28;01mdef\u001b[39;00m \u001b[38;5;21mclick\u001b[39m(\u001b[38;5;28mself\u001b[39m) \u001b[38;5;241m-\u001b[39m\u001b[38;5;241m>\u001b[39m \u001b[38;5;28;01mNone\u001b[39;00m:\n\u001b[0;32m     92\u001b[0m     \u001b[38;5;124;03m\"\"\"Clicks the element.\"\"\"\u001b[39;00m\n\u001b[1;32m---> 93\u001b[0m     \u001b[38;5;28;43mself\u001b[39;49m\u001b[38;5;241;43m.\u001b[39;49m\u001b[43m_execute\u001b[49m\u001b[43m(\u001b[49m\u001b[43mCommand\u001b[49m\u001b[38;5;241;43m.\u001b[39;49m\u001b[43mCLICK_ELEMENT\u001b[49m\u001b[43m)\u001b[49m\n",
      "File \u001b[1;32m~\\anaconda3\\lib\\site-packages\\selenium\\webdriver\\remote\\webelement.py:410\u001b[0m, in \u001b[0;36mWebElement._execute\u001b[1;34m(self, command, params)\u001b[0m\n\u001b[0;32m    408\u001b[0m     params \u001b[38;5;241m=\u001b[39m {}\n\u001b[0;32m    409\u001b[0m params[\u001b[38;5;124m\"\u001b[39m\u001b[38;5;124mid\u001b[39m\u001b[38;5;124m\"\u001b[39m] \u001b[38;5;241m=\u001b[39m \u001b[38;5;28mself\u001b[39m\u001b[38;5;241m.\u001b[39m_id\n\u001b[1;32m--> 410\u001b[0m \u001b[38;5;28;01mreturn\u001b[39;00m \u001b[38;5;28;43mself\u001b[39;49m\u001b[38;5;241;43m.\u001b[39;49m\u001b[43m_parent\u001b[49m\u001b[38;5;241;43m.\u001b[39;49m\u001b[43mexecute\u001b[49m\u001b[43m(\u001b[49m\u001b[43mcommand\u001b[49m\u001b[43m,\u001b[49m\u001b[43m \u001b[49m\u001b[43mparams\u001b[49m\u001b[43m)\u001b[49m\n",
      "File \u001b[1;32m~\\anaconda3\\lib\\site-packages\\selenium\\webdriver\\remote\\webdriver.py:444\u001b[0m, in \u001b[0;36mWebDriver.execute\u001b[1;34m(self, driver_command, params)\u001b[0m\n\u001b[0;32m    442\u001b[0m response \u001b[38;5;241m=\u001b[39m \u001b[38;5;28mself\u001b[39m\u001b[38;5;241m.\u001b[39mcommand_executor\u001b[38;5;241m.\u001b[39mexecute(driver_command, params)\n\u001b[0;32m    443\u001b[0m \u001b[38;5;28;01mif\u001b[39;00m response:\n\u001b[1;32m--> 444\u001b[0m     \u001b[38;5;28;43mself\u001b[39;49m\u001b[38;5;241;43m.\u001b[39;49m\u001b[43merror_handler\u001b[49m\u001b[38;5;241;43m.\u001b[39;49m\u001b[43mcheck_response\u001b[49m\u001b[43m(\u001b[49m\u001b[43mresponse\u001b[49m\u001b[43m)\u001b[49m\n\u001b[0;32m    445\u001b[0m     response[\u001b[38;5;124m\"\u001b[39m\u001b[38;5;124mvalue\u001b[39m\u001b[38;5;124m\"\u001b[39m] \u001b[38;5;241m=\u001b[39m \u001b[38;5;28mself\u001b[39m\u001b[38;5;241m.\u001b[39m_unwrap_value(response\u001b[38;5;241m.\u001b[39mget(\u001b[38;5;124m\"\u001b[39m\u001b[38;5;124mvalue\u001b[39m\u001b[38;5;124m\"\u001b[39m, \u001b[38;5;28;01mNone\u001b[39;00m))\n\u001b[0;32m    446\u001b[0m     \u001b[38;5;28;01mreturn\u001b[39;00m response\n",
      "File \u001b[1;32m~\\anaconda3\\lib\\site-packages\\selenium\\webdriver\\remote\\errorhandler.py:249\u001b[0m, in \u001b[0;36mErrorHandler.check_response\u001b[1;34m(self, response)\u001b[0m\n\u001b[0;32m    247\u001b[0m         alert_text \u001b[38;5;241m=\u001b[39m value[\u001b[38;5;124m\"\u001b[39m\u001b[38;5;124malert\u001b[39m\u001b[38;5;124m\"\u001b[39m]\u001b[38;5;241m.\u001b[39mget(\u001b[38;5;124m\"\u001b[39m\u001b[38;5;124mtext\u001b[39m\u001b[38;5;124m\"\u001b[39m)\n\u001b[0;32m    248\u001b[0m     \u001b[38;5;28;01mraise\u001b[39;00m exception_class(message, screen, stacktrace, alert_text)  \u001b[38;5;66;03m# type: ignore[call-arg]  # mypy is not smart enough here\u001b[39;00m\n\u001b[1;32m--> 249\u001b[0m \u001b[38;5;28;01mraise\u001b[39;00m exception_class(message, screen, stacktrace)\n",
      "\u001b[1;31mElementNotInteractableException\u001b[0m: Message: element not interactable\n  (Session info: chrome=109.0.5414.120)\nStacktrace:\nBacktrace:\n\t(No symbol) [0x00386643]\n\t(No symbol) [0x0031BE21]\n\t(No symbol) [0x0021D960]\n\t(No symbol) [0x002523A7]\n\t(No symbol) [0x00246B13]\n\t(No symbol) [0x0026FD7C]\n\t(No symbol) [0x0024641F]\n\t(No symbol) [0x002700D4]\n\t(No symbol) [0x00286B09]\n\t(No symbol) [0x0026FB76]\n\t(No symbol) [0x002449C1]\n\t(No symbol) [0x00245E5D]\n\tGetHandleVerifier [0x005FA142+2497106]\n\tGetHandleVerifier [0x006285D3+2686691]\n\tGetHandleVerifier [0x0062BB9C+2700460]\n\tGetHandleVerifier [0x00433B10+635936]\n\t(No symbol) [0x00324A1F]\n\t(No symbol) [0x0032A418]\n\t(No symbol) [0x0032A505]\n\t(No symbol) [0x0033508B]\n\tBaseThreadInitThunk [0x760A00F9+25]\n\tRtlGetAppContainerNamedObjectPath [0x774B7BBE+286]\n\tRtlGetAppContainerNamedObjectPath [0x774B7B8E+238]\n"
     ]
    }
   ],
   "source": [
    "video=driver.find_element(By.XPATH,'/html/body/ytd-app/div[1]/ytd-page-manager/ytd-browse/ytd-two-column-browse-results-renderer/div[1]/ytd-rich-grid-renderer/div[6]/ytd-rich-grid-row[12]/div/ytd-rich-item-renderer/div/ytd-rich-grid-media/div[1]/div[2]/div[1]/h3/a/yt-formatted-string')\n",
    "video.click()\n"
   ]
  },
  {
   "cell_type": "code",
   "execution_count": 38,
   "id": "b97efa09",
   "metadata": {},
   "outputs": [
    {
     "data": {
      "text/plain": [
       "<bound method WebDriver.get of <selenium.webdriver.chrome.webdriver.WebDriver (session=\"8d6a6e7f42a03be1fe6c001adfcbab69\")>>"
      ]
     },
     "execution_count": 38,
     "metadata": {},
     "output_type": "execute_result"
    }
   ],
   "source": [
    "driver=webdriver.Chrome(r\"C:\\Users\\sony\\Desktop\\Data Trained/chromedriver.exe\")\n",
    "driver.get"
   ]
  },
  {
   "cell_type": "code",
   "execution_count": 3,
   "id": "24dbf5f6",
   "metadata": {},
   "outputs": [],
   "source": [
    "driver.get(\"https://www.youtube.com\")"
   ]
  },
  {
   "cell_type": "code",
   "execution_count": 5,
   "id": "39322c4b",
   "metadata": {},
   "outputs": [],
   "source": [
    "video=driver.find_element(By.XPATH,'/html/body/ytd-app/div[1]/ytd-page-manager/ytd-browse/ytd-two-column-browse-results-renderer/div[1]/ytd-rich-grid-renderer/div[6]/ytd-rich-grid-row[1]/div/ytd-rich-item-renderer[1]/div/ytd-rich-grid-media/div[1]/div[2]/div[1]/h3/a/yt-formatted-string')\n",
    "video.click()"
   ]
  },
  {
   "cell_type": "code",
   "execution_count": 6,
   "id": "6d62fbbc",
   "metadata": {},
   "outputs": [],
   "source": [
    "from selenium import webdriver\n",
    "from selenium.webdriver.support.ui import WebDriverWait\n",
    "from selenium.webdriver.support import expected_conditions as EC\n",
    "from selenium.webdriver.common.by import By"
   ]
  },
  {
   "cell_type": "code",
   "execution_count": 13,
   "id": "fa582faa",
   "metadata": {},
   "outputs": [
    {
     "data": {
      "text/plain": [
       "<selenium.webdriver.remote.webelement.WebElement (session=\"e730c5b2851e22020b988e4626857bf8\", element=\"7dc445ee-94db-4eac-b360-0834f855f950\")>"
      ]
     },
     "execution_count": 13,
     "metadata": {},
     "output_type": "execute_result"
    }
   ],
   "source": [
    "delay=10\n",
    "WebDriverWait(driver,delay).until(EC.presence_of_element_located((By.XPATH,'/html/body/ytd-app/div[1]/ytd-page-manager/ytd-watch-flexy/div[5]/div[1]/div/div[2]/ytd-comments/ytd-item-section-renderer/div[3]/ytd-comment-thread-renderer[5]/ytd-comment-renderer/div[3]/div[2]/div[2]/ytd-expander/div/yt-formatted-string')))"
   ]
  },
  {
   "cell_type": "code",
   "execution_count": 14,
   "id": "dc01cfd5",
   "metadata": {},
   "outputs": [],
   "source": [
    "comments=[]\n",
    "com=driver.find_elements(By.XPATH,'//div[@class=\"yt-spec-touch-feedback-shape__fill\"]')\n",
    "for i in com:\n",
    "    com=i.text\n",
    "    comments.append(com)\n",
    "    "
   ]
  },
  {
   "cell_type": "code",
   "execution_count": null,
   "id": "30798d0d",
   "metadata": {},
   "outputs": [],
   "source": []
  },
  {
   "cell_type": "code",
   "execution_count": 16,
   "id": "2f64ba27",
   "metadata": {},
   "outputs": [],
   "source": [
    "commentupvote=[]\n",
    "upvote=driver.find_elements(By.XPATH,'//div[@class=\"yt-spec-touch-feedback-shape__fill\"]')\n",
    "for i in upvote:\n",
    "    upvote=i.text\n",
    "    commentupvote.append(upvote)\n",
    "    "
   ]
  },
  {
   "cell_type": "code",
   "execution_count": 17,
   "id": "bc7a87af",
   "metadata": {},
   "outputs": [
    {
     "data": {
      "text/plain": [
       "550"
      ]
     },
     "execution_count": 17,
     "metadata": {},
     "output_type": "execute_result"
    }
   ],
   "source": [
    "len(commentupvote)"
   ]
  },
  {
   "cell_type": "code",
   "execution_count": 30,
   "id": "4ef1af59",
   "metadata": {},
   "outputs": [],
   "source": [
    "Time=[]\n",
    "time=driver.find_elements(By.XPATH,'//a[@class=\"yt-simple-endpoint style-scope yt-formatted-string\"]')\n",
    "for i in time:\n",
    "     time=i.text\n",
    "     Time.append(i.text)\n",
    "\n"
   ]
  },
  {
   "cell_type": "code",
   "execution_count": 32,
   "id": "a56ae89f",
   "metadata": {},
   "outputs": [
    {
     "data": {
      "text/plain": [
       "248"
      ]
     },
     "execution_count": 32,
     "metadata": {},
     "output_type": "execute_result"
    }
   ],
   "source": [
    "len(Time)"
   ]
  },
  {
   "cell_type": "code",
   "execution_count": 33,
   "id": "b1f1a4a0",
   "metadata": {},
   "outputs": [
    {
     "data": {
      "text/html": [
       "<div>\n",
       "<style scoped>\n",
       "    .dataframe tbody tr th:only-of-type {\n",
       "        vertical-align: middle;\n",
       "    }\n",
       "\n",
       "    .dataframe tbody tr th {\n",
       "        vertical-align: top;\n",
       "    }\n",
       "\n",
       "    .dataframe thead th {\n",
       "        text-align: right;\n",
       "    }\n",
       "</style>\n",
       "<table border=\"1\" class=\"dataframe\">\n",
       "  <thead>\n",
       "    <tr style=\"text-align: right;\">\n",
       "      <th></th>\n",
       "      <th>Video_comments</th>\n",
       "      <th>Comments_Upvote</th>\n",
       "      <th>Time_of_comment</th>\n",
       "    </tr>\n",
       "  </thead>\n",
       "  <tbody>\n",
       "    <tr>\n",
       "      <th>0</th>\n",
       "      <td></td>\n",
       "      <td></td>\n",
       "      <td></td>\n",
       "    </tr>\n",
       "    <tr>\n",
       "      <th>1</th>\n",
       "      <td></td>\n",
       "      <td></td>\n",
       "      <td></td>\n",
       "    </tr>\n",
       "    <tr>\n",
       "      <th>2</th>\n",
       "      <td></td>\n",
       "      <td></td>\n",
       "      <td></td>\n",
       "    </tr>\n",
       "    <tr>\n",
       "      <th>3</th>\n",
       "      <td></td>\n",
       "      <td></td>\n",
       "      <td></td>\n",
       "    </tr>\n",
       "    <tr>\n",
       "      <th>4</th>\n",
       "      <td></td>\n",
       "      <td></td>\n",
       "      <td></td>\n",
       "    </tr>\n",
       "    <tr>\n",
       "      <th>...</th>\n",
       "      <td>...</td>\n",
       "      <td>...</td>\n",
       "      <td>...</td>\n",
       "    </tr>\n",
       "    <tr>\n",
       "      <th>95</th>\n",
       "      <td></td>\n",
       "      <td></td>\n",
       "      <td>5 days ago</td>\n",
       "    </tr>\n",
       "    <tr>\n",
       "      <th>96</th>\n",
       "      <td></td>\n",
       "      <td></td>\n",
       "      <td>4 months ago</td>\n",
       "    </tr>\n",
       "    <tr>\n",
       "      <th>97</th>\n",
       "      <td></td>\n",
       "      <td></td>\n",
       "      <td>4 months ago</td>\n",
       "    </tr>\n",
       "    <tr>\n",
       "      <th>98</th>\n",
       "      <td></td>\n",
       "      <td></td>\n",
       "      <td>4 months ago</td>\n",
       "    </tr>\n",
       "    <tr>\n",
       "      <th>99</th>\n",
       "      <td></td>\n",
       "      <td></td>\n",
       "      <td>4 months ago</td>\n",
       "    </tr>\n",
       "  </tbody>\n",
       "</table>\n",
       "<p>100 rows × 3 columns</p>\n",
       "</div>"
      ],
      "text/plain": [
       "   Video_comments Comments_Upvote Time_of_comment\n",
       "0                                                \n",
       "1                                                \n",
       "2                                                \n",
       "3                                                \n",
       "4                                                \n",
       "..            ...             ...             ...\n",
       "95                                     5 days ago\n",
       "96                                   4 months ago\n",
       "97                                   4 months ago\n",
       "98                                   4 months ago\n",
       "99                                   4 months ago\n",
       "\n",
       "[100 rows x 3 columns]"
      ]
     },
     "execution_count": 33,
     "metadata": {},
     "output_type": "execute_result"
    }
   ],
   "source": [
    "video=pd.DataFrame({\"Video_comments\":comments[0:100],\"Comments_Upvote\":commentupvote[0:100],\"Time_of_comment\":Time[0:100]})\n",
    "video"
   ]
  },
  {
   "cell_type": "code",
   "execution_count": 40,
   "id": "7ab48faa",
   "metadata": {},
   "outputs": [],
   "source": [
    "driver.get('https://www.hostelworld.com/')"
   ]
  },
  {
   "cell_type": "code",
   "execution_count": 41,
   "id": "176c35ff",
   "metadata": {},
   "outputs": [],
   "source": [
    "search_option=driver.find_element(By.XPATH,'/html/body/div[3]/div/div/div[2]/div[2]/div/div/div[4]/div/div[2]/div/div[1]/div/div/div/input')\n",
    "search_option.send_keys(\"London\")"
   ]
  },
  {
   "cell_type": "code",
   "execution_count": 42,
   "id": "7bdab969",
   "metadata": {},
   "outputs": [],
   "source": [
    "button=driver.find_element(By.XPATH,'/html/body/div[3]/div/div/div[2]/div[2]/div/div/div[4]/div/div[2]/div/div[1]/div/div/ul/li[2]')\n",
    "button.click()"
   ]
  },
  {
   "cell_type": "code",
   "execution_count": 43,
   "id": "47ec6075",
   "metadata": {},
   "outputs": [],
   "source": [
    "Name = []\n",
    "Distance = []\n",
    "Rating = []\n",
    "Reviews = []\n",
    "Overall = []\n",
    "Privates = []\n",
    "Dorms = []\n",
    "Facilities = []\n",
    "Property = []\n"
   ]
  },
  {
   "cell_type": "code",
   "execution_count": 44,
   "id": "76993ed4",
   "metadata": {},
   "outputs": [],
   "source": [
    "# Scraping Names \n",
    "N = driver.find_elements(By.XPATH,'//h2[@class=\"title title-6\"]')\n",
    "for i in N:\n",
    "    Name.append(i.text)\n",
    "    \n",
    "#Scrapping distance from city centre\n",
    "try:\n",
    "    D = driver.find_elements(By.XPATH,'//span[@class=\"description\"]')\n",
    "    for i in D:\n",
    "        Distance.append(i.text)\n",
    "except NoSuchElementException:\n",
    "    Distance.append(\"-\")\n",
    "\n",
    "#Scrapping ratings\n",
    "try:\n",
    "    RT = driver.find_elements(By.XPATH,'//div[@class=\"rating rating-summary-container big\"]')\n",
    "    for i in RT:\n",
    "        Rating.append(i.text[:][0:3])\n",
    "except NoSuchElementException:\n",
    "    Rating.append(\"-\")\n",
    "    \n",
    "#Scrapping total reviews\n",
    "try:\n",
    "    RV = driver.find_elements(By.XPATH,'//div[@class=\"reviews\"]')\n",
    "    for i in RV:\n",
    "        Reviews.append(i.text)\n",
    "except NoSuchElementException:\n",
    "    Reviews.append(\"-\")\n",
    "    \n",
    "#Scrapping overall reviews\n",
    "try:\n",
    "    O = driver.find_elements(By.XPATH,'//div[@class=\"keyword\"]')\n",
    "    for i in O:\n",
    "        Overall.append(i.text)\n",
    "except NoSuchElementException:\n",
    "    Overall.append(\"-\")\n",
    "    \n",
    "#Scrapping privates from price\n",
    "P = driver.find_elements(By.XPATH,'//div[@class=\"price-col\"]')[0::2]\n",
    "for i in P:\n",
    "    Privates.append(i.text.replace('\\n',': ').replace('No Privates Available','NaN'))\n",
    "       \n",
    "#Scrapping Dorms from price\n",
    "P = driver.find_elements(By.XPATH,'//div[@class=\"price-col\"]')[1::2]\n",
    "for i in P:\n",
    "    Dorms.append(i.text.replace('\\n',': ').replace('No Dorms Available','NaN'))\n",
    "    \n",
    "#Scrapping Facilities\n",
    "try:\n",
    "    F = driver.find_elements(By.XPATH,'//div[@class=\"facilities-label facilities\"]')\n",
    "    for i in F:\n",
    "        Facilities.append(i.text.replace('\\n',', '))\n",
    "except NoSuchElementException:\n",
    "    Facilities.append(\"-\")\n",
    "    \n",
    "#Scrapping property description.\n",
    "try:\n",
    "    PD = driver.find_elements(By.XPATH,'//div[@class=\"rating-factors prop-card-tablet rating-factors small\"]')\n",
    "    for i in PD:\n",
    "        Property.append(i.text.replace('\\n',', '))\n",
    "except NoSuchElementException:\n",
    "    Property.append(\"-\")"
   ]
  },
  {
   "cell_type": "code",
   "execution_count": 46,
   "id": "d0780649",
   "metadata": {},
   "outputs": [
    {
     "data": {
      "text/html": [
       "<div>\n",
       "<style scoped>\n",
       "    .dataframe tbody tr th:only-of-type {\n",
       "        vertical-align: middle;\n",
       "    }\n",
       "\n",
       "    .dataframe tbody tr th {\n",
       "        vertical-align: top;\n",
       "    }\n",
       "\n",
       "    .dataframe thead th {\n",
       "        text-align: right;\n",
       "    }\n",
       "</style>\n",
       "<table border=\"1\" class=\"dataframe\">\n",
       "  <thead>\n",
       "    <tr style=\"text-align: right;\">\n",
       "      <th></th>\n",
       "      <th>Hostel name</th>\n",
       "      <th>Distance from city centre</th>\n",
       "      <th>Rating</th>\n",
       "      <th>Total reviews</th>\n",
       "      <th>Privates from price</th>\n",
       "      <th>Dorms from price</th>\n",
       "      <th>Facilities</th>\n",
       "      <th>Property description</th>\n",
       "    </tr>\n",
       "  </thead>\n",
       "  <tbody>\n",
       "  </tbody>\n",
       "</table>\n",
       "</div>"
      ],
      "text/plain": [
       "Empty DataFrame\n",
       "Columns: [Hostel name, Distance from city centre, Rating, Total reviews, Privates from price, Dorms from price, Facilities, Property description]\n",
       "Index: []"
      ]
     },
     "execution_count": 46,
     "metadata": {},
     "output_type": "execute_result"
    }
   ],
   "source": [
    "df = pd.DataFrame({'Hostel name':Name,\n",
    "                   'Distance from city centre':Distance,\n",
    "                   'Rating':Rating,\n",
    "                   'Total reviews':Reviews,\n",
    "                   'Privates from price':Privates,\n",
    "                   'Dorms from price':Dorms,\n",
    "                   'Facilities':Facilities,\n",
    "                   'Property description':Property})\n",
    "df\n",
    "                  "
   ]
  },
  {
   "cell_type": "code",
   "execution_count": null,
   "id": "6637c51a",
   "metadata": {},
   "outputs": [],
   "source": []
  }
 ],
 "metadata": {
  "kernelspec": {
   "display_name": "Python 3 (ipykernel)",
   "language": "python",
   "name": "python3"
  },
  "language_info": {
   "codemirror_mode": {
    "name": "ipython",
    "version": 3
   },
   "file_extension": ".py",
   "mimetype": "text/x-python",
   "name": "python",
   "nbconvert_exporter": "python",
   "pygments_lexer": "ipython3",
   "version": "3.9.12"
  }
 },
 "nbformat": 4,
 "nbformat_minor": 5
}
