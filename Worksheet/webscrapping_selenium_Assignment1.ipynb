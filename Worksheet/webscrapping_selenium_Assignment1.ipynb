{
 "cells": [
  {
   "cell_type": "code",
   "execution_count": 3,
   "id": "7e7135fb",
   "metadata": {},
   "outputs": [],
   "source": [
    "import selenium\n",
    "from selenium import webdriver"
   ]
  },
  {
   "cell_type": "code",
   "execution_count": 4,
   "id": "d63c6442",
   "metadata": {},
   "outputs": [],
   "source": [
    "import time \n",
    "from selenium.webdriver.common.by import By"
   ]
  },
  {
   "cell_type": "code",
   "execution_count": 5,
   "id": "dc2c5626",
   "metadata": {},
   "outputs": [],
   "source": [
    "import warnings\n",
    "warnings.filterwarnings('ignore')"
   ]
  },
  {
   "cell_type": "code",
   "execution_count": 6,
   "id": "3700d2e8",
   "metadata": {},
   "outputs": [
    {
     "data": {
      "text/plain": [
       "<bound method WebDriver.get of <selenium.webdriver.chrome.webdriver.WebDriver (session=\"044d0bc4e31375375374d44c58962fa2\")>>"
      ]
     },
     "execution_count": 6,
     "metadata": {},
     "output_type": "execute_result"
    }
   ],
   "source": [
    "driver=webdriver.Chrome(r\"C:\\Users\\sony\\Desktop\\Data Trained/chromedriver.exe\")\n",
    "driver.get"
   ]
  },
  {
   "cell_type": "code",
   "execution_count": 5,
   "id": "636ffd6f",
   "metadata": {},
   "outputs": [],
   "source": [
    "driver.get(\"https://www.naukri.com\")#q1.1.Getting the webPage."
   ]
  },
  {
   "cell_type": "code",
   "execution_count": 6,
   "id": "0ad0da89",
   "metadata": {},
   "outputs": [],
   "source": [
    "Destination=driver.find_element(By.XPATH,'/html/body/div[1]/div[2]/div/div/div/div[1]/form/div[1]/input')\n",
    "Destination.send_keys('DataAnalyst') #q1.2.DataAnalyst in skills "
   ]
  },
  {
   "cell_type": "code",
   "execution_count": 7,
   "id": "83140df2",
   "metadata": {},
   "outputs": [],
   "source": [
    "Location=driver.find_element(By.XPATH,'/html/body/div[1]/div[2]/div/div/div/div[1]/form/div[2]/input')\n",
    "Location.send_keys('Dubai')#q1.2.Dubai in location"
   ]
  },
  {
   "cell_type": "code",
   "execution_count": 8,
   "id": "8a69b417",
   "metadata": {},
   "outputs": [],
   "source": [
    "Search=driver.find_element(By.XPATH,'/html/body/div[1]/div[2]/div/div/div/div[1]/form/input')\n",
    "Search.click()#q1.3.clicking SearchButton"
   ]
  },
  {
   "cell_type": "code",
   "execution_count": 9,
   "id": "7ccc732f",
   "metadata": {},
   "outputs": [],
   "source": [
    "Jobs=[]#q1.4.Scrape the Data for first 10 Jobs.\n",
    "details=driver.find_elements(By.XPATH,'//div[@class=\"ng-box srp-tuple\"]')\n",
    "for i in details[0:10]:\n",
    "    details=i.text\n",
    "    Jobs.append(details)\n",
    "    "
   ]
  },
  {
   "cell_type": "code",
   "execution_count": 10,
   "id": "52e917de",
   "metadata": {},
   "outputs": [
    {
     "data": {
      "text/plain": [
       "10"
      ]
     },
     "execution_count": 10,
     "metadata": {},
     "output_type": "execute_result"
    }
   ],
   "source": [
    "len(Jobs)#length of Jobs"
   ]
  },
  {
   "cell_type": "code",
   "execution_count": 11,
   "id": "801d2385",
   "metadata": {},
   "outputs": [],
   "source": [
    "import pandas as pd"
   ]
  },
  {
   "cell_type": "code",
   "execution_count": 12,
   "id": "19bb7022",
   "metadata": {},
   "outputs": [
    {
     "data": {
      "text/html": [
       "<div>\n",
       "<style scoped>\n",
       "    .dataframe tbody tr th:only-of-type {\n",
       "        vertical-align: middle;\n",
       "    }\n",
       "\n",
       "    .dataframe tbody tr th {\n",
       "        vertical-align: top;\n",
       "    }\n",
       "\n",
       "    .dataframe thead th {\n",
       "        text-align: right;\n",
       "    }\n",
       "</style>\n",
       "<table border=\"1\" class=\"dataframe\">\n",
       "  <thead>\n",
       "    <tr style=\"text-align: right;\">\n",
       "      <th></th>\n",
       "      <th>Jobs</th>\n",
       "    </tr>\n",
       "  </thead>\n",
       "  <tbody>\n",
       "    <tr>\n",
       "      <th>0</th>\n",
       "      <td>Data Analyst\\nROSEN Middle East\\n2 - 5 YearsDu...</td>\n",
       "    </tr>\n",
       "    <tr>\n",
       "      <th>1</th>\n",
       "      <td>Laboratory Statistical Analysis Executive\\nBUR...</td>\n",
       "    </tr>\n",
       "    <tr>\n",
       "      <th>2</th>\n",
       "      <td>Business Analyst\\nConfidential Company\\n5 - 10...</td>\n",
       "    </tr>\n",
       "    <tr>\n",
       "      <th>3</th>\n",
       "      <td>DATA ANALYST\\nClient of Trans Skills LLC\\n6 - ...</td>\n",
       "    </tr>\n",
       "    <tr>\n",
       "      <th>4</th>\n",
       "      <td>Senior Data Analyst\\nPuffy\\n5 - 6 YearsDubai -...</td>\n",
       "    </tr>\n",
       "    <tr>\n",
       "      <th>5</th>\n",
       "      <td>Traffic Data Analyst\\nParsons Corporation\\n5 -...</td>\n",
       "    </tr>\n",
       "    <tr>\n",
       "      <th>6</th>\n",
       "      <td>Senior Analyst, Business Analysis\\nCorporate\\n...</td>\n",
       "    </tr>\n",
       "    <tr>\n",
       "      <th>7</th>\n",
       "      <td>Senior Data Scientist\\ncareem\\n7 - 9 YearsDuba...</td>\n",
       "    </tr>\n",
       "    <tr>\n",
       "      <th>8</th>\n",
       "      <td>Research Fellow - Business for Society\\nHult I...</td>\n",
       "    </tr>\n",
       "    <tr>\n",
       "      <th>9</th>\n",
       "      <td>IT Audit Specialist Team Associate\\nDeloitte\\n...</td>\n",
       "    </tr>\n",
       "  </tbody>\n",
       "</table>\n",
       "</div>"
      ],
      "text/plain": [
       "                                                Jobs\n",
       "0  Data Analyst\\nROSEN Middle East\\n2 - 5 YearsDu...\n",
       "1  Laboratory Statistical Analysis Executive\\nBUR...\n",
       "2  Business Analyst\\nConfidential Company\\n5 - 10...\n",
       "3  DATA ANALYST\\nClient of Trans Skills LLC\\n6 - ...\n",
       "4  Senior Data Analyst\\nPuffy\\n5 - 6 YearsDubai -...\n",
       "5  Traffic Data Analyst\\nParsons Corporation\\n5 -...\n",
       "6  Senior Analyst, Business Analysis\\nCorporate\\n...\n",
       "7  Senior Data Scientist\\ncareem\\n7 - 9 YearsDuba...\n",
       "8  Research Fellow - Business for Society\\nHult I...\n",
       "9  IT Audit Specialist Team Associate\\nDeloitte\\n..."
      ]
     },
     "execution_count": 12,
     "metadata": {},
     "output_type": "execute_result"
    }
   ],
   "source": [
    "df=pd.DataFrame({'Jobs':Jobs})#q1.5.DataFrame of First 10 Jobs.\n",
    "df"
   ]
  },
  {
   "cell_type": "code",
   "execution_count": 13,
   "id": "fce36493",
   "metadata": {},
   "outputs": [],
   "source": [
    "Job_title=[]\n",
    "title=driver.find_elements(By.XPATH,'//h2[@class=\"designation-title\"]')\n",
    "for i in title[0:10]:\n",
    "    title=i.text\n",
    "    Job_title.append(title)"
   ]
  },
  {
   "cell_type": "code",
   "execution_count": 14,
   "id": "bbe98bd6",
   "metadata": {},
   "outputs": [
    {
     "data": {
      "text/plain": [
       "10"
      ]
     },
     "execution_count": 14,
     "metadata": {},
     "output_type": "execute_result"
    }
   ],
   "source": [
    "len(Job_title)"
   ]
  },
  {
   "cell_type": "code",
   "execution_count": 16,
   "id": "f5f166ad",
   "metadata": {},
   "outputs": [],
   "source": [
    "Job_location=[]\n",
    "location=driver.find_elements(By.XPATH,'//li[@class=\"info-loc has-logo\"]')\n",
    "for i in location[0:10]:\n",
    "    location=i.text\n",
    "    Job_location.append(location)"
   ]
  },
  {
   "cell_type": "code",
   "execution_count": 17,
   "id": "3ccf7f20",
   "metadata": {},
   "outputs": [
    {
     "data": {
      "text/plain": [
       "10"
      ]
     },
     "execution_count": 17,
     "metadata": {},
     "output_type": "execute_result"
    }
   ],
   "source": [
    "len(Job_location)"
   ]
  },
  {
   "cell_type": "code",
   "execution_count": 18,
   "id": "b94b5d01",
   "metadata": {},
   "outputs": [],
   "source": [
    "company_name=[]\n",
    "name=driver.find_elements(By.XPATH,'//a[@class=\"info-org\"]')\n",
    "for i in name[0:10]:\n",
    "    name=i.text\n",
    "    company_name.append(name)"
   ]
  },
  {
   "cell_type": "code",
   "execution_count": 48,
   "id": "063b4964",
   "metadata": {},
   "outputs": [
    {
     "data": {
      "text/plain": [
       "10"
      ]
     },
     "execution_count": 48,
     "metadata": {},
     "output_type": "execute_result"
    }
   ],
   "source": [
    "len(company_name)"
   ]
  },
  {
   "cell_type": "code",
   "execution_count": 19,
   "id": "a3e7f9d2",
   "metadata": {},
   "outputs": [
    {
     "data": {
      "text/html": [
       "<div>\n",
       "<style scoped>\n",
       "    .dataframe tbody tr th:only-of-type {\n",
       "        vertical-align: middle;\n",
       "    }\n",
       "\n",
       "    .dataframe tbody tr th {\n",
       "        vertical-align: top;\n",
       "    }\n",
       "\n",
       "    .dataframe thead th {\n",
       "        text-align: right;\n",
       "    }\n",
       "</style>\n",
       "<table border=\"1\" class=\"dataframe\">\n",
       "  <thead>\n",
       "    <tr style=\"text-align: right;\">\n",
       "      <th></th>\n",
       "      <th>Job_title</th>\n",
       "      <th>Job_location</th>\n",
       "      <th>Company_Name</th>\n",
       "    </tr>\n",
       "  </thead>\n",
       "  <tbody>\n",
       "    <tr>\n",
       "      <th>0</th>\n",
       "      <td>Data Analyst</td>\n",
       "      <td>Dubai - United Arab Emirates</td>\n",
       "      <td>ROSEN Middle East</td>\n",
       "    </tr>\n",
       "    <tr>\n",
       "      <th>1</th>\n",
       "      <td>Laboratory Statistical Analysis Executive</td>\n",
       "      <td>Dubai - United Arab Emirates</td>\n",
       "      <td>BUREAU VERITAS -DUBAI BR</td>\n",
       "    </tr>\n",
       "    <tr>\n",
       "      <th>2</th>\n",
       "      <td>Business Analyst</td>\n",
       "      <td>Dubai - United Arab Emirates</td>\n",
       "      <td>Corporate</td>\n",
       "    </tr>\n",
       "    <tr>\n",
       "      <th>3</th>\n",
       "      <td>DATA ANALYST</td>\n",
       "      <td>Dubai - United Arab Emirates</td>\n",
       "      <td>careem</td>\n",
       "    </tr>\n",
       "    <tr>\n",
       "      <th>4</th>\n",
       "      <td>Senior Data Analyst</td>\n",
       "      <td>Dubai - United Arab Emirates</td>\n",
       "      <td>Deloitte</td>\n",
       "    </tr>\n",
       "    <tr>\n",
       "      <th>5</th>\n",
       "      <td>Traffic Data Analyst</td>\n",
       "      <td>Dubai - United Arab Emirates</td>\n",
       "      <td>The Emirates Group</td>\n",
       "    </tr>\n",
       "    <tr>\n",
       "      <th>6</th>\n",
       "      <td>Senior Analyst, Business Analysis</td>\n",
       "      <td>Dubai - United Arab Emirates</td>\n",
       "      <td>RD2 Interiors</td>\n",
       "    </tr>\n",
       "    <tr>\n",
       "      <th>7</th>\n",
       "      <td>Senior Data Scientist</td>\n",
       "      <td>Dubai - United Arab Emirates</td>\n",
       "      <td>MADI International Co LLC</td>\n",
       "    </tr>\n",
       "    <tr>\n",
       "      <th>8</th>\n",
       "      <td>Research Fellow - Business for Society</td>\n",
       "      <td>Dubai - United Arab Emirates</td>\n",
       "      <td>Al Futtaim Private Company (LLC)</td>\n",
       "    </tr>\n",
       "    <tr>\n",
       "      <th>9</th>\n",
       "      <td>IT Audit Specialist Team Associate</td>\n",
       "      <td>Dubai - United Arab Emirates</td>\n",
       "      <td>Al Futtaim Private Company (LLC)</td>\n",
       "    </tr>\n",
       "  </tbody>\n",
       "</table>\n",
       "</div>"
      ],
      "text/plain": [
       "                                   Job_title                  Job_location  \\\n",
       "0                               Data Analyst  Dubai - United Arab Emirates   \n",
       "1  Laboratory Statistical Analysis Executive  Dubai - United Arab Emirates   \n",
       "2                           Business Analyst  Dubai - United Arab Emirates   \n",
       "3                               DATA ANALYST  Dubai - United Arab Emirates   \n",
       "4                        Senior Data Analyst  Dubai - United Arab Emirates   \n",
       "5                       Traffic Data Analyst  Dubai - United Arab Emirates   \n",
       "6          Senior Analyst, Business Analysis  Dubai - United Arab Emirates   \n",
       "7                      Senior Data Scientist  Dubai - United Arab Emirates   \n",
       "8     Research Fellow - Business for Society  Dubai - United Arab Emirates   \n",
       "9         IT Audit Specialist Team Associate  Dubai - United Arab Emirates   \n",
       "\n",
       "                       Company_Name  \n",
       "0                 ROSEN Middle East  \n",
       "1          BUREAU VERITAS -DUBAI BR  \n",
       "2                         Corporate  \n",
       "3                            careem  \n",
       "4                          Deloitte  \n",
       "5                The Emirates Group  \n",
       "6                     RD2 Interiors  \n",
       "7         MADI International Co LLC  \n",
       "8  Al Futtaim Private Company (LLC)  \n",
       "9  Al Futtaim Private Company (LLC)  "
      ]
     },
     "execution_count": 19,
     "metadata": {},
     "output_type": "execute_result"
    }
   ],
   "source": [
    "df=pd.DataFrame({'Job_title':Job_title,'Job_location':Job_location,'Company_Name':company_name})\n",
    "df  #q2.first 10jobs,Job_title,Joblocation and company_name"
   ]
  },
  {
   "cell_type": "code",
   "execution_count": 37,
   "id": "5bdde0d2",
   "metadata": {},
   "outputs": [
    {
     "data": {
      "text/plain": [
       "<bound method WebDriver.get of <selenium.webdriver.chrome.webdriver.WebDriver (session=\"e1b4e1ec2270804e896340e27b958213\")>>"
      ]
     },
     "execution_count": 37,
     "metadata": {},
     "output_type": "execute_result"
    }
   ],
   "source": [
    "driver=webdriver.Chrome(r\"C:\\Users\\sony\\Desktop\\Data Trained/chromedriver.exe\")\n",
    "driver.get"
   ]
  },
  {
   "cell_type": "code",
   "execution_count": 38,
   "id": "cdcd93e7",
   "metadata": {},
   "outputs": [],
   "source": [
    "driver.get(\"https://www.naukri.com\")"
   ]
  },
  {
   "cell_type": "code",
   "execution_count": 52,
   "id": "1f2b6d32",
   "metadata": {},
   "outputs": [],
   "source": [
    "Destination=driver.find_element(By.XPATH,'/html/body/div[1]/div[2]/div/div/div/div[1]/form/div[1]/input')\n",
    "Destination.send_keys('Data_Scientist')#q3.Ignoring third question,I cant search for the given Title in Naukrigulf.com"
   ]
  },
  {
   "cell_type": "code",
   "execution_count": 53,
   "id": "8069c593",
   "metadata": {},
   "outputs": [],
   "source": [
    "submit=driver.find_element(By.XPATH,\"/html/body/div[1]/div[2]/div/div/div/div[1]/form/input\")\n",
    "submit.click()"
   ]
  },
  {
   "cell_type": "code",
   "execution_count": 54,
   "id": "bbc6c945",
   "metadata": {},
   "outputs": [],
   "source": [
    "driver.get(\"https://www.flipkart.com\")"
   ]
  },
  {
   "cell_type": "code",
   "execution_count": 55,
   "id": "16a723bf",
   "metadata": {},
   "outputs": [],
   "source": [
    "search=driver.find_element(By.XPATH,\"/html/body/div[1]/div/div[1]/div[1]/div[2]/div[2]/form/div/div/input\")\n",
    "search.send_keys('Sunglasses')"
   ]
  },
  {
   "cell_type": "code",
   "execution_count": 57,
   "id": "562c2d5f",
   "metadata": {},
   "outputs": [],
   "source": [
    "search_click=driver.find_element(By.XPATH,\"/html/body/div[1]/div/div[1]/div[1]/div[2]/div[2]/form/div/button\")\n",
    "search_click.click()"
   ]
  },
  {
   "cell_type": "code",
   "execution_count": 62,
   "id": "80213eb1",
   "metadata": {},
   "outputs": [],
   "source": [
    "Brand=[]\n",
    "Product_des=[]\n",
    "Price=[]\n"
   ]
  },
  {
   "cell_type": "code",
   "execution_count": 63,
   "id": "bb7c7a6a",
   "metadata": {},
   "outputs": [],
   "source": [
    "name=driver.find_elements(By.XPATH,'//div[@class=\"_2WkVRV\"]')\n",
    "for i in name:\n",
    "    name=i.text\n",
    "    Brand.append(name)"
   ]
  },
  {
   "cell_type": "code",
   "execution_count": 65,
   "id": "a25370c8",
   "metadata": {},
   "outputs": [],
   "source": [
    "des=driver.find_elements(By.XPATH,'//a[@class=\"IRpwTa\"]')\n",
    "for i in des:\n",
    "    des=i.text\n",
    "    Product_des.append(des)"
   ]
  },
  {
   "cell_type": "code",
   "execution_count": 66,
   "id": "e8599c42",
   "metadata": {},
   "outputs": [],
   "source": [
    "amount=driver.find_elements(By.XPATH,'//div[@class=\"_30jeq3\"]')\n",
    "for i in amount:\n",
    "    amount=i.text\n",
    "    Price.append(amount)"
   ]
  },
  {
   "cell_type": "code",
   "execution_count": 67,
   "id": "952fa6c4",
   "metadata": {},
   "outputs": [
    {
     "name": "stdout",
     "output_type": "stream",
     "text": [
      "40 35 40\n"
     ]
    }
   ],
   "source": [
    "print(len(Brand),len(Product_des),len(Price))"
   ]
  },
  {
   "cell_type": "code",
   "execution_count": 69,
   "id": "1e22590b",
   "metadata": {},
   "outputs": [],
   "source": [
    "start=0\n",
    "end=2\n",
    "for page in range(start,end):\n",
    "    name=driver.find_elements(By.XPATH,'//div[@class=\"_2WkVRV\"]')\n",
    "    for i in name:\n",
    "        name=i.text\n",
    "        Brand.append(name)\n",
    "    des=driver.find_elements(By.XPATH,'//a[@class=\"IRpwTa\"]')\n",
    "    for i in des:\n",
    "        des=i.text\n",
    "        Product_des.append(des)\n",
    "        \n",
    "    amount=driver.find_elements(By.XPATH,'//div[@class=\"_30jeq3\"]')\n",
    "    for i in amount:\n",
    "        amount=i.text\n",
    "        Price.append(amount) \n",
    "next_button=driver.find_element(By.XPATH,'/html/body/div[1]/div/div[3]/div[1]/div[2]/div[12]/div/div/nav/a[11]')\n",
    "next_button.click()\n",
    "time.sleep(3)\n",
    "        \n",
    "                              \n",
    "        "
   ]
  },
  {
   "cell_type": "code",
   "execution_count": 70,
   "id": "7084b5f2",
   "metadata": {},
   "outputs": [
    {
     "name": "stdout",
     "output_type": "stream",
     "text": [
      "200 175 200\n"
     ]
    }
   ],
   "source": [
    "print(len(Brand),len(Product_des),len(Price))"
   ]
  },
  {
   "cell_type": "code",
   "execution_count": 72,
   "id": "ed5597f1",
   "metadata": {},
   "outputs": [
    {
     "data": {
      "text/html": [
       "<div>\n",
       "<style scoped>\n",
       "    .dataframe tbody tr th:only-of-type {\n",
       "        vertical-align: middle;\n",
       "    }\n",
       "\n",
       "    .dataframe tbody tr th {\n",
       "        vertical-align: top;\n",
       "    }\n",
       "\n",
       "    .dataframe thead th {\n",
       "        text-align: right;\n",
       "    }\n",
       "</style>\n",
       "<table border=\"1\" class=\"dataframe\">\n",
       "  <thead>\n",
       "    <tr style=\"text-align: right;\">\n",
       "      <th></th>\n",
       "      <th>Brand</th>\n",
       "      <th>Product_description</th>\n",
       "      <th>Price</th>\n",
       "    </tr>\n",
       "  </thead>\n",
       "  <tbody>\n",
       "    <tr>\n",
       "      <th>0</th>\n",
       "      <td>Velocity Eyewear</td>\n",
       "      <td>UV Protection Retro Square Sunglasses (54)</td>\n",
       "      <td>₹818</td>\n",
       "    </tr>\n",
       "    <tr>\n",
       "      <th>1</th>\n",
       "      <td>IRUS</td>\n",
       "      <td>UV Protection Wayfarer Sunglasses (Free Size)</td>\n",
       "      <td>₹637</td>\n",
       "    </tr>\n",
       "    <tr>\n",
       "      <th>2</th>\n",
       "      <td>Fastrack</td>\n",
       "      <td>UV Protection Cat-eye, Retro Square, Oval, Rou...</td>\n",
       "      <td>₹699</td>\n",
       "    </tr>\n",
       "    <tr>\n",
       "      <th>3</th>\n",
       "      <td>Elligator</td>\n",
       "      <td>UV Protection Rectangular Sunglasses (Free Size)</td>\n",
       "      <td>₹149</td>\n",
       "    </tr>\n",
       "    <tr>\n",
       "      <th>4</th>\n",
       "      <td>Fastrack</td>\n",
       "      <td>UV Protection Round Sunglasses (54)</td>\n",
       "      <td>₹499</td>\n",
       "    </tr>\n",
       "    <tr>\n",
       "      <th>...</th>\n",
       "      <td>...</td>\n",
       "      <td>...</td>\n",
       "      <td>...</td>\n",
       "    </tr>\n",
       "    <tr>\n",
       "      <th>95</th>\n",
       "      <td>CART2DEAL</td>\n",
       "      <td>UV Protection, Polarized Rectangular Sunglasse...</td>\n",
       "      <td>₹1,244</td>\n",
       "    </tr>\n",
       "    <tr>\n",
       "      <th>96</th>\n",
       "      <td>VINCENT CHASE</td>\n",
       "      <td>UV Protection Clubmaster Sunglasses (54)</td>\n",
       "      <td>₹599</td>\n",
       "    </tr>\n",
       "    <tr>\n",
       "      <th>97</th>\n",
       "      <td>Fastrack</td>\n",
       "      <td>Riding Glasses, UV Protection, Night Vision Sp...</td>\n",
       "      <td>₹579</td>\n",
       "    </tr>\n",
       "    <tr>\n",
       "      <th>98</th>\n",
       "      <td>SRPM</td>\n",
       "      <td>UV Protection Retro Square Sunglasses (54)</td>\n",
       "      <td>₹179</td>\n",
       "    </tr>\n",
       "    <tr>\n",
       "      <th>99</th>\n",
       "      <td>Dervin</td>\n",
       "      <td>Night Vision, Polarized, UV Protection, Riding...</td>\n",
       "      <td>₹224</td>\n",
       "    </tr>\n",
       "  </tbody>\n",
       "</table>\n",
       "<p>100 rows × 3 columns</p>\n",
       "</div>"
      ],
      "text/plain": [
       "               Brand                                Product_description  \\\n",
       "0   Velocity Eyewear         UV Protection Retro Square Sunglasses (54)   \n",
       "1               IRUS      UV Protection Wayfarer Sunglasses (Free Size)   \n",
       "2           Fastrack  UV Protection Cat-eye, Retro Square, Oval, Rou...   \n",
       "3          Elligator   UV Protection Rectangular Sunglasses (Free Size)   \n",
       "4           Fastrack                UV Protection Round Sunglasses (54)   \n",
       "..               ...                                                ...   \n",
       "95         CART2DEAL  UV Protection, Polarized Rectangular Sunglasse...   \n",
       "96     VINCENT CHASE           UV Protection Clubmaster Sunglasses (54)   \n",
       "97          Fastrack  Riding Glasses, UV Protection, Night Vision Sp...   \n",
       "98              SRPM         UV Protection Retro Square Sunglasses (54)   \n",
       "99            Dervin  Night Vision, Polarized, UV Protection, Riding...   \n",
       "\n",
       "     Price  \n",
       "0     ₹818  \n",
       "1     ₹637  \n",
       "2     ₹699  \n",
       "3     ₹149  \n",
       "4     ₹499  \n",
       "..     ...  \n",
       "95  ₹1,244  \n",
       "96    ₹599  \n",
       "97    ₹579  \n",
       "98    ₹179  \n",
       "99    ₹224  \n",
       "\n",
       "[100 rows x 3 columns]"
      ]
     },
     "execution_count": 72,
     "metadata": {},
     "output_type": "execute_result"
    }
   ],
   "source": [
    "df=pd.DataFrame({'Brand':Brand[0:100],'Product_description':Product_des[0:100],'Price':Price[0:100]})\n",
    "df #q4.DataFrame for 100 Sunglasses."
   ]
  },
  {
   "cell_type": "code",
   "execution_count": 79,
   "id": "21d29cab",
   "metadata": {},
   "outputs": [],
   "source": [
    "driver=webdriver.Chrome(r\"C:\\Users\\sony\\Desktop\\Data Trained/chromedriver.exe\")"
   ]
  },
  {
   "cell_type": "code",
   "execution_count": 86,
   "id": "bef91cba",
   "metadata": {},
   "outputs": [],
   "source": [
    "driver.get(\"https://www.flipkart.com\")"
   ]
  },
  {
   "cell_type": "code",
   "execution_count": 87,
   "id": "d44d096e",
   "metadata": {},
   "outputs": [],
   "source": [
    "pname=driver.find_element(By.XPATH,\"/html/body/div/div/div[1]/div[1]/div[2]/div[2]/form/div/div/input\")\n",
    "pname.send_keys(\"iphone11\")"
   ]
  },
  {
   "cell_type": "code",
   "execution_count": 88,
   "id": "26c11b7a",
   "metadata": {},
   "outputs": [],
   "source": [
    "search=driver.find_element(By.XPATH,\"/html/body/div/div/div[1]/div[1]/div[2]/div[2]/form/div/button\")\n",
    "search.click()"
   ]
  },
  {
   "cell_type": "code",
   "execution_count": 89,
   "id": "6e887aee",
   "metadata": {},
   "outputs": [],
   "source": [
    "iphone_black_64gb=driver.find_element(By.XPATH,\"/html/body/div/div/div[3]/div[1]/div[2]/div[3]/div/div/div/a/div[3]/div[1]/div[1]\")\n",
    "iphone_black_64gb.click()"
   ]
  },
  {
   "cell_type": "code",
   "execution_count": 93,
   "id": "e68087db",
   "metadata": {},
   "outputs": [],
   "source": [
    "Ratings=[]\n",
    "Review_summary=[]\n",
    "Full_Review=[]\n",
    "\n",
    "\n",
    "        "
   ]
  },
  {
   "cell_type": "code",
   "execution_count": 99,
   "id": "53677c5f",
   "metadata": {},
   "outputs": [],
   "source": [
    "start=0\n",
    "end=5\n",
    "for page in range(start,end):\n",
    "    ratings=driver.find_elements(By.XPATH,'//div[@class=\"_3LWZlK _1BLPMq\"]')\n",
    "    for i in ratings:\n",
    "        ratings=i.text\n",
    "        Ratings.append(ratings)\n",
    "    summary=driver.find_elements(By.XPATH,'//p[@class=\"_2-N8zT\"]')\n",
    "    for i in summary:\n",
    "        summary=i.text\n",
    "        Review_summary.append(summary)\n",
    "    reviews=driver.find_elements(By.XPATH,'//div[@class=\"t-ZTKy\"]')\n",
    "    for i in reviews:\n",
    "        reviews=i.text\n",
    "        Full_Review.append(reviews)\n",
    "next_button=driver.find_element(By.XPATH,'//a[@class=\"_1LKTO3\"]')\n",
    "next_button.click()\n",
    "time.sleep(3)"
   ]
  },
  {
   "cell_type": "code",
   "execution_count": 100,
   "id": "8fec3c2d",
   "metadata": {},
   "outputs": [
    {
     "name": "stdout",
     "output_type": "stream",
     "text": [
      "112 112 112\n"
     ]
    }
   ],
   "source": [
    "print(len(Ratings),len(Review_summary),len(Full_Review))"
   ]
  },
  {
   "cell_type": "code",
   "execution_count": 101,
   "id": "b12a5ac4",
   "metadata": {},
   "outputs": [
    {
     "data": {
      "text/html": [
       "<div>\n",
       "<style scoped>\n",
       "    .dataframe tbody tr th:only-of-type {\n",
       "        vertical-align: middle;\n",
       "    }\n",
       "\n",
       "    .dataframe tbody tr th {\n",
       "        vertical-align: top;\n",
       "    }\n",
       "\n",
       "    .dataframe thead th {\n",
       "        text-align: right;\n",
       "    }\n",
       "</style>\n",
       "<table border=\"1\" class=\"dataframe\">\n",
       "  <thead>\n",
       "    <tr style=\"text-align: right;\">\n",
       "      <th></th>\n",
       "      <th>Ratings</th>\n",
       "      <th>Product_summary</th>\n",
       "      <th>FullReview</th>\n",
       "    </tr>\n",
       "  </thead>\n",
       "  <tbody>\n",
       "    <tr>\n",
       "      <th>0</th>\n",
       "      <td>5</td>\n",
       "      <td>Perfect product!</td>\n",
       "      <td>After using 3 years mobile review. Excellent &amp;...</td>\n",
       "    </tr>\n",
       "    <tr>\n",
       "      <th>1</th>\n",
       "      <td>5</td>\n",
       "      <td>Terrific</td>\n",
       "      <td>I am using the phone for last 5 years and foun...</td>\n",
       "    </tr>\n",
       "    <tr>\n",
       "      <th>2</th>\n",
       "      <td>5</td>\n",
       "      <td>Fabulous!</td>\n",
       "      <td>Fast performance to previous iPhone x\\nGood ca...</td>\n",
       "    </tr>\n",
       "    <tr>\n",
       "      <th>3</th>\n",
       "      <td>5</td>\n",
       "      <td>Great product</td>\n",
       "      <td>Awesome product ❤️❤️\\nThank you Flipkart</td>\n",
       "    </tr>\n",
       "    <tr>\n",
       "      <th>4</th>\n",
       "      <td>4</td>\n",
       "      <td>Good quality product</td>\n",
       "      <td>impressively Nice......\\nOne of the greatest i...</td>\n",
       "    </tr>\n",
       "    <tr>\n",
       "      <th>...</th>\n",
       "      <td>...</td>\n",
       "      <td>...</td>\n",
       "      <td>...</td>\n",
       "    </tr>\n",
       "    <tr>\n",
       "      <th>95</th>\n",
       "      <td>4</td>\n",
       "      <td>Wonderful</td>\n",
       "      <td>Really Good Phone , Better than Many Mobile in...</td>\n",
       "    </tr>\n",
       "    <tr>\n",
       "      <th>96</th>\n",
       "      <td>5</td>\n",
       "      <td>Perfect product!</td>\n",
       "      <td>After using 3 years mobile review. Excellent &amp;...</td>\n",
       "    </tr>\n",
       "    <tr>\n",
       "      <th>97</th>\n",
       "      <td>5</td>\n",
       "      <td>Terrific</td>\n",
       "      <td>I am using the phone for last 5 years and foun...</td>\n",
       "    </tr>\n",
       "    <tr>\n",
       "      <th>98</th>\n",
       "      <td>5</td>\n",
       "      <td>Fabulous!</td>\n",
       "      <td>Fast performance to previous iPhone x\\nGood ca...</td>\n",
       "    </tr>\n",
       "    <tr>\n",
       "      <th>99</th>\n",
       "      <td>5</td>\n",
       "      <td>Great product</td>\n",
       "      <td>Awesome product ❤️❤️\\nThank you Flipkart</td>\n",
       "    </tr>\n",
       "  </tbody>\n",
       "</table>\n",
       "<p>100 rows × 3 columns</p>\n",
       "</div>"
      ],
      "text/plain": [
       "   Ratings       Product_summary  \\\n",
       "0        5      Perfect product!   \n",
       "1        5              Terrific   \n",
       "2        5             Fabulous!   \n",
       "3        5         Great product   \n",
       "4        4  Good quality product   \n",
       "..     ...                   ...   \n",
       "95       4             Wonderful   \n",
       "96       5      Perfect product!   \n",
       "97       5              Terrific   \n",
       "98       5             Fabulous!   \n",
       "99       5         Great product   \n",
       "\n",
       "                                           FullReview  \n",
       "0   After using 3 years mobile review. Excellent &...  \n",
       "1   I am using the phone for last 5 years and foun...  \n",
       "2   Fast performance to previous iPhone x\\nGood ca...  \n",
       "3            Awesome product ❤️❤️\\nThank you Flipkart  \n",
       "4   impressively Nice......\\nOne of the greatest i...  \n",
       "..                                                ...  \n",
       "95  Really Good Phone , Better than Many Mobile in...  \n",
       "96  After using 3 years mobile review. Excellent &...  \n",
       "97  I am using the phone for last 5 years and foun...  \n",
       "98  Fast performance to previous iPhone x\\nGood ca...  \n",
       "99           Awesome product ❤️❤️\\nThank you Flipkart  \n",
       "\n",
       "[100 rows x 3 columns]"
      ]
     },
     "execution_count": 101,
     "metadata": {},
     "output_type": "execute_result"
    }
   ],
   "source": [
    "df=pd.DataFrame({\"Ratings\":Ratings[0:100],\"Product_summary\":Review_summary[0:100],\"FullReview\":Full_Review[0:100]})\n",
    "df#Q5.100 Reviews DataFrame for iphone11."
   ]
  },
  {
   "cell_type": "code",
   "execution_count": 7,
   "id": "d2d14ed1",
   "metadata": {},
   "outputs": [],
   "source": [
    "driver.get(\"https:www.flipkart.com\")"
   ]
  },
  {
   "cell_type": "code",
   "execution_count": 8,
   "id": "e70c65c5",
   "metadata": {},
   "outputs": [],
   "source": [
    "des=driver.find_element(By.XPATH,'/html/body/div/div/div[1]/div[1]/div[2]/div[2]/form/div/div/input')\n",
    "des.send_keys('sneakers')"
   ]
  },
  {
   "cell_type": "code",
   "execution_count": 9,
   "id": "fdd1e374",
   "metadata": {},
   "outputs": [],
   "source": [
    "search=driver.find_element(By.XPATH,'/html/body/div/div/div[1]/div[1]/div[2]/div[2]/form/div/button')\n",
    "search.click()"
   ]
  },
  {
   "cell_type": "code",
   "execution_count": 105,
   "id": "67d541fd",
   "metadata": {},
   "outputs": [],
   "source": [
    "Brand=[]\n",
    "Product_Description=[]\n",
    "Price=[]"
   ]
  },
  {
   "cell_type": "code",
   "execution_count": 109,
   "id": "b9cea54c",
   "metadata": {},
   "outputs": [],
   "source": [
    "start=0\n",
    "end=3\n",
    "for page in range(start,end):\n",
    "    name=driver.find_elements(By.XPATH,'//div[@class=\"_2WkVRV\"]')\n",
    "    for i in name:\n",
    "        name=i.text\n",
    "        Brand.append(name)\n",
    "    Des=driver.find_elements(By.XPATH,'//a[@class=\"IRpwTa\"]')\n",
    "    for i in Des:\n",
    "        Des=i.text\n",
    "        Product_Description.append(Des)\n",
    "    amount=driver.find_elements(By.XPATH,'//div[@class=\"_30jeq3\"]')\n",
    "    for i in amount:\n",
    "        amount=i.text\n",
    "        Price.append(amount)\n",
    "next_button=driver.find_element(By.XPATH,'//a[@class=\"_1LKTO3\"]')\n",
    "next_button.click()\n",
    "time.sleep(3)\n",
    "    "
   ]
  },
  {
   "cell_type": "code",
   "execution_count": 110,
   "id": "6df1ad3e",
   "metadata": {},
   "outputs": [
    {
     "name": "stdout",
     "output_type": "stream",
     "text": [
      "200 183 200\n"
     ]
    }
   ],
   "source": [
    "print(len(Brand),len(Product_Description),len(Price))"
   ]
  },
  {
   "cell_type": "code",
   "execution_count": 112,
   "id": "5964c7e6",
   "metadata": {},
   "outputs": [],
   "source": [
    "import pandas as pd"
   ]
  },
  {
   "cell_type": "code",
   "execution_count": 113,
   "id": "d26be1df",
   "metadata": {},
   "outputs": [
    {
     "data": {
      "text/html": [
       "<div>\n",
       "<style scoped>\n",
       "    .dataframe tbody tr th:only-of-type {\n",
       "        vertical-align: middle;\n",
       "    }\n",
       "\n",
       "    .dataframe tbody tr th {\n",
       "        vertical-align: top;\n",
       "    }\n",
       "\n",
       "    .dataframe thead th {\n",
       "        text-align: right;\n",
       "    }\n",
       "</style>\n",
       "<table border=\"1\" class=\"dataframe\">\n",
       "  <thead>\n",
       "    <tr style=\"text-align: right;\">\n",
       "      <th></th>\n",
       "      <th>Brand</th>\n",
       "      <th>Product_Description</th>\n",
       "      <th>Price</th>\n",
       "    </tr>\n",
       "  </thead>\n",
       "  <tbody>\n",
       "    <tr>\n",
       "      <th>0</th>\n",
       "      <td>RapidBox</td>\n",
       "      <td>Sneakers For Men</td>\n",
       "      <td>₹750</td>\n",
       "    </tr>\n",
       "    <tr>\n",
       "      <th>1</th>\n",
       "      <td>rodox</td>\n",
       "      <td>Comfortable Outdoors/Gym&amp;Workout/Running Shoes...</td>\n",
       "      <td>₹854</td>\n",
       "    </tr>\n",
       "    <tr>\n",
       "      <th>2</th>\n",
       "      <td>World Wear Footwear</td>\n",
       "      <td>5011-Latest Collection Stylish &amp; Trendy Casual...</td>\n",
       "      <td>₹399</td>\n",
       "    </tr>\n",
       "    <tr>\n",
       "      <th>3</th>\n",
       "      <td>aadi</td>\n",
       "      <td>Synthetic Leather |Lightweight|Comfort|Summer|...</td>\n",
       "      <td>₹434</td>\n",
       "    </tr>\n",
       "    <tr>\n",
       "      <th>4</th>\n",
       "      <td>PUMA</td>\n",
       "      <td>ST Activate V2 Sneakers For Men</td>\n",
       "      <td>₹1,814</td>\n",
       "    </tr>\n",
       "    <tr>\n",
       "      <th>...</th>\n",
       "      <td>...</td>\n",
       "      <td>...</td>\n",
       "      <td>...</td>\n",
       "    </tr>\n",
       "    <tr>\n",
       "      <th>95</th>\n",
       "      <td>Numenzo</td>\n",
       "      <td>DT-SS22-128B Sneakers For Men</td>\n",
       "      <td>₹499</td>\n",
       "    </tr>\n",
       "    <tr>\n",
       "      <th>96</th>\n",
       "      <td>PUMA</td>\n",
       "      <td>Comfortable Outdoors/Gym&amp;Workout/Running Shoes...</td>\n",
       "      <td>₹2,568</td>\n",
       "    </tr>\n",
       "    <tr>\n",
       "      <th>97</th>\n",
       "      <td>U.S. POLO ASSN.</td>\n",
       "      <td>FLEX ADVANTAGE 4.0-V Sneakers For Men</td>\n",
       "      <td>₹1,799</td>\n",
       "    </tr>\n",
       "    <tr>\n",
       "      <th>98</th>\n",
       "      <td>RED TAPE</td>\n",
       "      <td>Men's Ultraforce Mid-top Athletic-Inspired Ret...</td>\n",
       "      <td>₹1,249</td>\n",
       "    </tr>\n",
       "    <tr>\n",
       "      <th>99</th>\n",
       "      <td>Arivo</td>\n",
       "      <td>X-Ray Square Ramble Mesh Sneakers For Men</td>\n",
       "      <td>₹699</td>\n",
       "    </tr>\n",
       "  </tbody>\n",
       "</table>\n",
       "<p>100 rows × 3 columns</p>\n",
       "</div>"
      ],
      "text/plain": [
       "                  Brand                                Product_Description  \\\n",
       "0              RapidBox                                   Sneakers For Men   \n",
       "1                 rodox  Comfortable Outdoors/Gym&Workout/Running Shoes...   \n",
       "2   World Wear Footwear  5011-Latest Collection Stylish & Trendy Casual...   \n",
       "3                  aadi  Synthetic Leather |Lightweight|Comfort|Summer|...   \n",
       "4                  PUMA                    ST Activate V2 Sneakers For Men   \n",
       "..                  ...                                                ...   \n",
       "95              Numenzo                      DT-SS22-128B Sneakers For Men   \n",
       "96                 PUMA  Comfortable Outdoors/Gym&Workout/Running Shoes...   \n",
       "97      U.S. POLO ASSN.              FLEX ADVANTAGE 4.0-V Sneakers For Men   \n",
       "98             RED TAPE  Men's Ultraforce Mid-top Athletic-Inspired Ret...   \n",
       "99                Arivo          X-Ray Square Ramble Mesh Sneakers For Men   \n",
       "\n",
       "     Price  \n",
       "0     ₹750  \n",
       "1     ₹854  \n",
       "2     ₹399  \n",
       "3     ₹434  \n",
       "4   ₹1,814  \n",
       "..     ...  \n",
       "95    ₹499  \n",
       "96  ₹2,568  \n",
       "97  ₹1,799  \n",
       "98  ₹1,249  \n",
       "99    ₹699  \n",
       "\n",
       "[100 rows x 3 columns]"
      ]
     },
     "execution_count": 113,
     "metadata": {},
     "output_type": "execute_result"
    }
   ],
   "source": [
    "df=pd.DataFrame({'Brand':Brand[0:100],'Product_Description':Product_Description[0:100],'Price':Price[0:100]})\n",
    "df"
   ]
  },
  {
   "cell_type": "code",
   "execution_count": 10,
   "id": "669d262c",
   "metadata": {},
   "outputs": [],
   "source": [
    "driver=webdriver.Chrome(r\"C:\\Users\\sony\\Desktop\\Data Trained/chromedriver.exe\")\n",
    "driver.get(\"https://www.amazon.in\")\n"
   ]
  },
  {
   "cell_type": "code",
   "execution_count": 11,
   "id": "2f78b78d",
   "metadata": {},
   "outputs": [],
   "source": [
    "des=driver.find_element(By.XPATH,'/html/body/div[1]/header/div/div[1]/div[2]/div/form/div[2]/div[1]/input')\n",
    "des.send_keys('laptop')"
   ]
  },
  {
   "cell_type": "code",
   "execution_count": 12,
   "id": "48d91251",
   "metadata": {},
   "outputs": [],
   "source": [
    "search=driver.find_element(By.XPATH,'/html/body/div[1]/header/div/div[1]/div[2]/div/form/div[3]/div')\n",
    "search.click()"
   ]
  },
  {
   "cell_type": "code",
   "execution_count": 13,
   "id": "849db3e4",
   "metadata": {},
   "outputs": [],
   "source": [
    "filterop=driver.find_element(By.XPATH,'/html/body/div[1]/div[2]/div[1]/div[2]/div/div[3]/span/div[1]/div/div/div[6]/ul[6]/li[14]/span/a/span')\n",
    "filterop.click()"
   ]
  },
  {
   "cell_type": "code",
   "execution_count": 14,
   "id": "313d4af0",
   "metadata": {},
   "outputs": [],
   "source": [
    "Title=[]\n",
    "Ratings=[]\n",
    "Price=[]\n"
   ]
  },
  {
   "cell_type": "code",
   "execution_count": 15,
   "id": "62ea0643",
   "metadata": {},
   "outputs": [],
   "source": [
    "name=driver.find_elements(By.XPATH,'//span[@class=\"a-size-medium a-color-base a-text-normal\"]')\n",
    "for i in name[0:10]:\n",
    "    name=i.text\n",
    "    Title.append(name)"
   ]
  },
  {
   "cell_type": "code",
   "execution_count": 32,
   "id": "8c2ded79",
   "metadata": {},
   "outputs": [
    {
     "data": {
      "text/plain": [
       "['3.1\\n(12)',\n",
       " '3.7\\n(29)',\n",
       " '4.5\\n(9)',\n",
       " '',\n",
       " '',\n",
       " '',\n",
       " '',\n",
       " '',\n",
       " '',\n",
       " '',\n",
       " '3.1\\n(12)',\n",
       " '3.7\\n(29)',\n",
       " '4.5\\n(9)',\n",
       " '',\n",
       " '',\n",
       " '',\n",
       " '',\n",
       " '',\n",
       " '',\n",
       " '',\n",
       " '3.1',\n",
       " '3.7',\n",
       " '4.5',\n",
       " '',\n",
       " '',\n",
       " '',\n",
       " '',\n",
       " '',\n",
       " '',\n",
       " '',\n",
       " '3.1',\n",
       " '3.7',\n",
       " '4.5',\n",
       " '',\n",
       " '',\n",
       " '',\n",
       " '',\n",
       " '',\n",
       " '',\n",
       " '',\n",
       " '3.1',\n",
       " '3.7',\n",
       " '4.5',\n",
       " '',\n",
       " '',\n",
       " '',\n",
       " '',\n",
       " '',\n",
       " '',\n",
       " '',\n",
       " '3.1',\n",
       " '3.7',\n",
       " '4.5',\n",
       " '',\n",
       " '',\n",
       " '',\n",
       " '',\n",
       " '',\n",
       " '',\n",
       " '',\n",
       " '3.1',\n",
       " '3.7',\n",
       " '4.5',\n",
       " '',\n",
       " '',\n",
       " '',\n",
       " '',\n",
       " '',\n",
       " '',\n",
       " '']"
      ]
     },
     "execution_count": 32,
     "metadata": {},
     "output_type": "execute_result"
    }
   ],
   "source": [
    "star=driver.find_elements(By.XPATH,'//span[@class=\"a-size-base\"]')\n",
    "for i in star[0:10]:\n",
    "    star=i.text\n",
    "    Ratings.append(star)\n",
    "Ratings"
   ]
  },
  {
   "cell_type": "code",
   "execution_count": 36,
   "id": "25b0b53c",
   "metadata": {},
   "outputs": [],
   "source": [
    "amount=driver.find_elements(By.XPATH,'//span[@class=\"a-price-whole\"]')\n",
    "for i in amount[0:10]:\n",
    "    amount=i.text.split('\\n')\n",
    "    Price.append(amount)"
   ]
  },
  {
   "cell_type": "code",
   "execution_count": 26,
   "id": "eefbea27",
   "metadata": {},
   "outputs": [
    {
     "data": {
      "text/plain": [
       "['56,990', '79,990', '78,106', '', '', '', '', '', '', '']"
      ]
     },
     "execution_count": 26,
     "metadata": {},
     "output_type": "execute_result"
    }
   ],
   "source": [
    "Price"
   ]
  },
  {
   "cell_type": "code",
   "execution_count": 37,
   "id": "f618c5bd",
   "metadata": {},
   "outputs": [
    {
     "name": "stdout",
     "output_type": "stream",
     "text": [
      "10 70 20\n"
     ]
    }
   ],
   "source": [
    "print(len(Title),len(Ratings),len(Price))"
   ]
  },
  {
   "cell_type": "code",
   "execution_count": 34,
   "id": "af12fc27",
   "metadata": {},
   "outputs": [],
   "source": [
    "import pandas as pd"
   ]
  },
  {
   "cell_type": "code",
   "execution_count": 39,
   "id": "71f688d7",
   "metadata": {},
   "outputs": [
    {
     "data": {
      "text/html": [
       "<div>\n",
       "<style scoped>\n",
       "    .dataframe tbody tr th:only-of-type {\n",
       "        vertical-align: middle;\n",
       "    }\n",
       "\n",
       "    .dataframe tbody tr th {\n",
       "        vertical-align: top;\n",
       "    }\n",
       "\n",
       "    .dataframe thead th {\n",
       "        text-align: right;\n",
       "    }\n",
       "</style>\n",
       "<table border=\"1\" class=\"dataframe\">\n",
       "  <thead>\n",
       "    <tr style=\"text-align: right;\">\n",
       "      <th></th>\n",
       "      <th>Title</th>\n",
       "      <th>Ratings</th>\n",
       "      <th>Price</th>\n",
       "    </tr>\n",
       "  </thead>\n",
       "  <tbody>\n",
       "    <tr>\n",
       "      <th>0</th>\n",
       "      <td>ASUS Vivobook 14, Intel Core i7-1165G7 11th Ge...</td>\n",
       "      <td>3.1\\n(12)</td>\n",
       "      <td>56,990</td>\n",
       "    </tr>\n",
       "    <tr>\n",
       "      <th>1</th>\n",
       "      <td>Lenovo ThinkBook 15 Intel 11th Gen Core i7 15....</td>\n",
       "      <td>3.7\\n(29)</td>\n",
       "      <td>79,990</td>\n",
       "    </tr>\n",
       "    <tr>\n",
       "      <th>2</th>\n",
       "      <td>Acer Nitro 5 Gaming Laptop Intel core i7 11th ...</td>\n",
       "      <td>4.5\\n(9)</td>\n",
       "      <td>78,106</td>\n",
       "    </tr>\n",
       "    <tr>\n",
       "      <th>3</th>\n",
       "      <td>Lenovo IdeaPad Slim 5 12th Gen Intel Core i7 1...</td>\n",
       "      <td></td>\n",
       "      <td></td>\n",
       "    </tr>\n",
       "    <tr>\n",
       "      <th>4</th>\n",
       "      <td>Lenovo ThinkPad E14 Intel Core i7 12th Gen 14\"...</td>\n",
       "      <td></td>\n",
       "      <td></td>\n",
       "    </tr>\n",
       "    <tr>\n",
       "      <th>5</th>\n",
       "      <td>ASUS TUF Dash F15 (2022), 15.6-inch (39.62 cms...</td>\n",
       "      <td></td>\n",
       "      <td></td>\n",
       "    </tr>\n",
       "    <tr>\n",
       "      <th>6</th>\n",
       "      <td>HP Victus Gaming Latest 12th Gen Intel Core i7...</td>\n",
       "      <td></td>\n",
       "      <td></td>\n",
       "    </tr>\n",
       "    <tr>\n",
       "      <th>7</th>\n",
       "      <td>HP Pavilion Plus, 12th Gen Intel Core i7 16GB ...</td>\n",
       "      <td></td>\n",
       "      <td></td>\n",
       "    </tr>\n",
       "    <tr>\n",
       "      <th>8</th>\n",
       "      <td>Lenovo IdeaPad Gaming 3 Intel Core i7-12700H 1...</td>\n",
       "      <td></td>\n",
       "      <td></td>\n",
       "    </tr>\n",
       "    <tr>\n",
       "      <th>9</th>\n",
       "      <td>Dell Alienware x14 Gaming Laptop, Intel i7-127...</td>\n",
       "      <td></td>\n",
       "      <td></td>\n",
       "    </tr>\n",
       "  </tbody>\n",
       "</table>\n",
       "</div>"
      ],
      "text/plain": [
       "                                               Title    Ratings   Price\n",
       "0  ASUS Vivobook 14, Intel Core i7-1165G7 11th Ge...  3.1\\n(12)  56,990\n",
       "1  Lenovo ThinkBook 15 Intel 11th Gen Core i7 15....  3.7\\n(29)  79,990\n",
       "2  Acer Nitro 5 Gaming Laptop Intel core i7 11th ...   4.5\\n(9)  78,106\n",
       "3  Lenovo IdeaPad Slim 5 12th Gen Intel Core i7 1...                   \n",
       "4  Lenovo ThinkPad E14 Intel Core i7 12th Gen 14\"...                   \n",
       "5  ASUS TUF Dash F15 (2022), 15.6-inch (39.62 cms...                   \n",
       "6  HP Victus Gaming Latest 12th Gen Intel Core i7...                   \n",
       "7  HP Pavilion Plus, 12th Gen Intel Core i7 16GB ...                   \n",
       "8  Lenovo IdeaPad Gaming 3 Intel Core i7-12700H 1...                   \n",
       "9  Dell Alienware x14 Gaming Laptop, Intel i7-127...                   "
      ]
     },
     "execution_count": 39,
     "metadata": {},
     "output_type": "execute_result"
    }
   ],
   "source": [
    "df=pd.DataFrame({'Title':Title,'Ratings':Ratings[0:10],'Price':Price[0:10]})\n",
    "df#q7.First 10 laptops scrapping on \"WWW.amazon.in\""
   ]
  },
  {
   "cell_type": "code",
   "execution_count": 40,
   "id": "71098ce3",
   "metadata": {},
   "outputs": [],
   "source": [
    "driver.get(\"https://www.azquotes.com/\")"
   ]
  },
  {
   "cell_type": "code",
   "execution_count": 42,
   "id": "8f374c0e",
   "metadata": {},
   "outputs": [],
   "source": [
    "Top_quotes=driver.find_element(By.XPATH,'//input[@class=\"ui-autocomplete-input\"]')\n",
    "Top_quotes.click()"
   ]
  },
  {
   "cell_type": "code",
   "execution_count": 43,
   "id": "95310f52",
   "metadata": {},
   "outputs": [],
   "source": [
    "Quote=[]\n",
    "Author=[]\n",
    "Type_of_quotes=[]"
   ]
  },
  {
   "cell_type": "code",
   "execution_count": 47,
   "id": "81b50470",
   "metadata": {},
   "outputs": [],
   "source": [
    "start=0\n",
    "end=25\n",
    "for page in range(start,end):\n",
    "    quotes=driver.find_elements(By.XPATH,'//a[@class=\"title\"]')\n",
    "    for i in quotes:\n",
    "        quotes=i.text\n",
    "        Quote.append(quotes)\n",
    "    authors=driver.find_elements(By.XPATH,'//div[@class=\"author\"]')\n",
    "    for i in authors:\n",
    "        authors=i.text\n",
    "        Author.append(authors)\n",
    "    Type=driver.find_elements(By.XPATH,'//div[@class=\"mytags\"]')\n",
    "    for i in Type:\n",
    "        Type=i.text\n",
    "        Type_of_quotes.append(Type)\n",
    "next_button=driver.find_element(By.XPATH,'//li[@class=\"next\"]')\n",
    "next_button.click()\n",
    "time.sleep(3)\n",
    "        "
   ]
  },
  {
   "cell_type": "code",
   "execution_count": 48,
   "id": "70808e5e",
   "metadata": {},
   "outputs": [
    {
     "name": "stdout",
     "output_type": "stream",
     "text": [
      "800 800 800\n"
     ]
    }
   ],
   "source": [
    "print(len(Quote),len(Author),len(Type_of_quotes))"
   ]
  },
  {
   "cell_type": "code",
   "execution_count": 50,
   "id": "0e1a98f4",
   "metadata": {},
   "outputs": [
    {
     "data": {
      "text/html": [
       "<div>\n",
       "<style scoped>\n",
       "    .dataframe tbody tr th:only-of-type {\n",
       "        vertical-align: middle;\n",
       "    }\n",
       "\n",
       "    .dataframe tbody tr th {\n",
       "        vertical-align: top;\n",
       "    }\n",
       "\n",
       "    .dataframe thead th {\n",
       "        text-align: right;\n",
       "    }\n",
       "</style>\n",
       "<table border=\"1\" class=\"dataframe\">\n",
       "  <thead>\n",
       "    <tr style=\"text-align: right;\">\n",
       "      <th></th>\n",
       "      <th>quotes</th>\n",
       "      <th>Authors</th>\n",
       "      <th>Quote_Types</th>\n",
       "    </tr>\n",
       "  </thead>\n",
       "  <tbody>\n",
       "    <tr>\n",
       "      <th>0</th>\n",
       "      <td>We shall not cease from exploration, and the e...</td>\n",
       "      <td>T. S. Eliot</td>\n",
       "      <td>Inspirational, Funny, Life</td>\n",
       "    </tr>\n",
       "    <tr>\n",
       "      <th>1</th>\n",
       "      <td>Most of the trouble in the world is caused by ...</td>\n",
       "      <td>T. S. Eliot</td>\n",
       "      <td>Pride, People, Important</td>\n",
       "    </tr>\n",
       "    <tr>\n",
       "      <th>2</th>\n",
       "      <td>Everyone gets the experience. Some get the les...</td>\n",
       "      <td>T. S. Eliot</td>\n",
       "      <td>Lessons</td>\n",
       "    </tr>\n",
       "    <tr>\n",
       "      <th>3</th>\n",
       "      <td>Only those who will risk going too far can pos...</td>\n",
       "      <td>T. S. Eliot</td>\n",
       "      <td>Inspirational, Life, Motivational</td>\n",
       "    </tr>\n",
       "    <tr>\n",
       "      <th>4</th>\n",
       "      <td>If we really want to pray we must first learn ...</td>\n",
       "      <td>T. S. Eliot</td>\n",
       "      <td>Heart, Silence, Firsts</td>\n",
       "    </tr>\n",
       "    <tr>\n",
       "      <th>...</th>\n",
       "      <td>...</td>\n",
       "      <td>...</td>\n",
       "      <td>...</td>\n",
       "    </tr>\n",
       "    <tr>\n",
       "      <th>795</th>\n",
       "      <td>We should not confuse information with knowledge.</td>\n",
       "      <td>T. S. Eliot</td>\n",
       "      <td>Information, Should</td>\n",
       "    </tr>\n",
       "    <tr>\n",
       "      <th>796</th>\n",
       "      <td>The circle of our understanding is a very rest...</td>\n",
       "      <td>T. S. Eliot</td>\n",
       "      <td>Circles, Understanding, Areas</td>\n",
       "    </tr>\n",
       "    <tr>\n",
       "      <th>797</th>\n",
       "      <td>A wrong attitude toward nature implies, somewh...</td>\n",
       "      <td>T. S. Eliot</td>\n",
       "      <td>Attitude, Creation, Wrong Attitude</td>\n",
       "    </tr>\n",
       "    <tr>\n",
       "      <th>798</th>\n",
       "      <td>If you aren't in over your head, how do you kn...</td>\n",
       "      <td>T. S. Eliot</td>\n",
       "      <td>Adversity, Hard Times, Tough Times</td>\n",
       "    </tr>\n",
       "    <tr>\n",
       "      <th>799</th>\n",
       "      <td>A national culture, if it is to flourish, shou...</td>\n",
       "      <td>T. S. Eliot</td>\n",
       "      <td>Culture, Benefits, Should</td>\n",
       "    </tr>\n",
       "  </tbody>\n",
       "</table>\n",
       "<p>800 rows × 3 columns</p>\n",
       "</div>"
      ],
      "text/plain": [
       "                                                quotes      Authors  \\\n",
       "0    We shall not cease from exploration, and the e...  T. S. Eliot   \n",
       "1    Most of the trouble in the world is caused by ...  T. S. Eliot   \n",
       "2    Everyone gets the experience. Some get the les...  T. S. Eliot   \n",
       "3    Only those who will risk going too far can pos...  T. S. Eliot   \n",
       "4    If we really want to pray we must first learn ...  T. S. Eliot   \n",
       "..                                                 ...          ...   \n",
       "795  We should not confuse information with knowledge.  T. S. Eliot   \n",
       "796  The circle of our understanding is a very rest...  T. S. Eliot   \n",
       "797  A wrong attitude toward nature implies, somewh...  T. S. Eliot   \n",
       "798  If you aren't in over your head, how do you kn...  T. S. Eliot   \n",
       "799  A national culture, if it is to flourish, shou...  T. S. Eliot   \n",
       "\n",
       "                            Quote_Types  \n",
       "0            Inspirational, Funny, Life  \n",
       "1              Pride, People, Important  \n",
       "2                               Lessons  \n",
       "3     Inspirational, Life, Motivational  \n",
       "4                Heart, Silence, Firsts  \n",
       "..                                  ...  \n",
       "795                 Information, Should  \n",
       "796       Circles, Understanding, Areas  \n",
       "797  Attitude, Creation, Wrong Attitude  \n",
       "798  Adversity, Hard Times, Tough Times  \n",
       "799           Culture, Benefits, Should  \n",
       "\n",
       "[800 rows x 3 columns]"
      ]
     },
     "execution_count": 50,
     "metadata": {},
     "output_type": "execute_result"
    }
   ],
   "source": [
    "df=pd.DataFrame({'quotes':Quote,'Authors':Author,'Quote_Types':Type_of_quotes})\n",
    "df #q8 1000 quotes on www.azquotes.com"
   ]
  },
  {
   "cell_type": "code",
   "execution_count": 51,
   "id": "ef08da0c",
   "metadata": {},
   "outputs": [],
   "source": [
    "driver.get(\"https://www.jagranjosh.com/\")"
   ]
  },
  {
   "cell_type": "code",
   "execution_count": 53,
   "id": "f178ab8c",
   "metadata": {},
   "outputs": [],
   "source": [
    "gk=driver.find_element(By.XPATH,'/html/body/div/div[1]/div/div[1]/div/div[6]/div/div[1]/header/div[3]/ul/li[9]/a')\n",
    "gk.click()"
   ]
  },
  {
   "cell_type": "code",
   "execution_count": 54,
   "id": "15d68492",
   "metadata": {},
   "outputs": [],
   "source": [
    "Indiagk=driver.find_element(By.XPATH,'/html/body/div[1]/div/div/div[2]/div/div[5]/div/div/ul/li[6]/a')\n",
    "Indiagk.click()"
   ]
  },
  {
   "cell_type": "code",
   "execution_count": 55,
   "id": "bfd6fae4",
   "metadata": {},
   "outputs": [],
   "source": [
    "all_prime_minsitersinIndia=driver.find_element(By.XPATH,'/html/body/div[1]/div/div/div[2]/div/div[10]/div/div/ul/li[2]/a')\n",
    "all_prime_minsitersinIndia.click()"
   ]
  },
  {
   "cell_type": "code",
   "execution_count": 94,
   "id": "6f2e4b90",
   "metadata": {},
   "outputs": [],
   "source": [
    "Name1=[]\n",
    "Born_Dead1=[]\n",
    "Terms_of_office=[]\n",
    "Remarks=[]"
   ]
  },
  {
   "cell_type": "code",
   "execution_count": 77,
   "id": "4a8e7b64",
   "metadata": {},
   "outputs": [
    {
     "data": {
      "text/plain": [
       "'V. P. Singh'"
      ]
     },
     "execution_count": 77,
     "metadata": {},
     "output_type": "execute_result"
    }
   ],
   "source": [
    "name=driver.find_element(By.XPATH,'/html/body/div[1]/div[2]/div/div[2]/div/div[1]/div/div/div/div[5]/span/div[2]/table/tbody/tr[2]/td[2]/p/strong/a')\n",
    "a=name.text\n",
    "a\n",
    "name1=driver.find_element(By.XPATH,'/html/body/div[1]/div[2]/div/div[2]/div/div[1]/div/div/div/div[5]/span/div[2]/table/tbody/tr[3]/td[2]/p')\n",
    "b=name1.text\n",
    "b\n",
    "name2=driver.find_element(By.XPATH,'/html/body/div[1]/div[2]/div/div[2]/div/div[1]/div/div/div/div[5]/span/div[2]/table/tbody/tr[4]/td[2]/p')\n",
    "c=name2.text\n",
    "c\n",
    "name3=driver.find_element(By.XPATH,'/html/body/div[1]/div[2]/div/div[2]/div/div[1]/div/div/div/div[5]/span/div[2]/table/tbody/tr[5]/td[2]/p')\n",
    "d=name3.text\n",
    "d\n",
    "name4=driver.find_element(By.XPATH,'/html/body/div[1]/div[2]/div/div[2]/div/div[1]/div/div/div/div[5]/span/div[2]/table/tbody/tr[6]/td[2]/p/strong/a')\n",
    "e=name4.text\n",
    "e\n",
    "name5=driver.find_element(By.XPATH,'/html/body/div[1]/div[2]/div/div[2]/div/div[1]/div/div/div/div[5]/span/div[2]/table/tbody/tr[7]/td[2]/p')\n",
    "f=name5.text\n",
    "f\n",
    "name6=driver.find_element(By.XPATH,'/html/body/div[1]/div[2]/div/div[2]/div/div[1]/div/div/div/div[5]/span/div[2]/table/tbody/tr[8]/td[2]/p')\n",
    "g=name6.text\n",
    "g\n",
    "name7=driver.find_element(By.XPATH,'/html/body/div[1]/div[2]/div/div[2]/div/div[1]/div/div/div/div[5]/span/div[2]/table/tbody/tr[9]/td[2]/p/strong/a')\n",
    "h=name7.text\n",
    "h\n",
    "name8=driver.find_element(By.XPATH,'/html/body/div[1]/div[2]/div/div[2]/div/div[1]/div/div/div/div[5]/span/div[2]/table/tbody/tr[10]/td[2]/p/a/strong')\n",
    "i=name8.text\n",
    "i\n",
    "name9=driver.find_element(By.XPATH,'/html/body/div[1]/div[2]/div/div[2]/div/div[1]/div/div/div/div[5]/span/div[2]/table/tbody/tr[11]/td[2]/p')\n",
    "j=name9.text\n",
    "j"
   ]
  },
  {
   "cell_type": "code",
   "execution_count": 78,
   "id": "2bc7cb66",
   "metadata": {},
   "outputs": [
    {
     "name": "stdout",
     "output_type": "stream",
     "text": [
      "Jawahar Lal Nehru Gulzarilal Nanda (Acting) Lal Bahadur Shastri Gulzari Lal Nanda  (Acting) Indira Gandhi Morarji Desai Charan Singh Indira Gandhi Rajiv Gandhi V. P. Singh\n"
     ]
    }
   ],
   "source": [
    "print(a,b,c,d,e,f,g,h,i,j)"
   ]
  },
  {
   "cell_type": "code",
   "execution_count": 79,
   "id": "5dfbf814",
   "metadata": {},
   "outputs": [],
   "source": [
    "name10=driver.find_element(By.XPATH,'/html/body/div[1]/div[2]/div/div[2]/div/div[1]/div/div/div/div[5]/span/div[2]/table/tbody/tr[12]/td[2]/p')\n",
    "k=name10.text\n",
    "name11=driver.find_element(By.XPATH,'/html/body/div[1]/div[2]/div/div[2]/div/div[1]/div/div/div/div[5]/span/div[2]/table/tbody/tr[13]/td[2]/p')\n",
    "l=name11.text\n",
    "name12=driver.find_element(By.XPATH,'/html/body/div[1]/div[2]/div/div[2]/div/div[1]/div/div/div/div[5]/span/div[2]/table/tbody/tr[14]/td[2]/p/strong/a')\n",
    "m=name12.text\n",
    "name13=driver.find_element(By.XPATH,'/html/body/div[1]/div[2]/div/div[2]/div/div[1]/div/div/div/div[5]/span/div[2]/table/tbody/tr[15]/td[2]/p')\n",
    "n=name13.text\n",
    "name14=driver.find_element(By.XPATH,'/html/body/div[1]/div[2]/div/div[2]/div/div[1]/div/div/div/div[5]/span/div[2]/table/tbody/tr[16]/td[2]/p')\n",
    "o=name14.text\n",
    "name15=driver.find_element(By.XPATH,'/html/body/div[1]/div[2]/div/div[2]/div/div[1]/div/div/div/div[5]/span/div[2]/table/tbody/tr[17]/td[2]/p/a/strong')\n",
    "p=name15.text\n",
    "name16=driver.find_element(By.XPATH,'/html/body/div[1]/div[2]/div/div[2]/div/div[1]/div/div/div/div[5]/span/div[2]/table/tbody/tr[18]/td[2]/p/strong/a')\n",
    "q=name16.text\n",
    "name17=driver.find_element(By.XPATH,'/html/body/div[1]/div[2]/div/div[2]/div/div[1]/div/div/div/div[5]/span/div[2]/table/tbody/tr[19]/td[2]/p/a/strong')\n",
    "r=name17.text\n"
   ]
  },
  {
   "cell_type": "code",
   "execution_count": 80,
   "id": "3d819c0b",
   "metadata": {},
   "outputs": [
    {
     "name": "stdout",
     "output_type": "stream",
     "text": [
      "Chandra Shekhar P. V. Narasimha Rao Atal Bihari Vajpayee H. D. Deve Gowda Inder Kumar Gujral Atal Bihari Vajpayee Manmohan Singh Narendra Modi\n"
     ]
    }
   ],
   "source": [
    "print(k,l,m,n,o,p,q,r)"
   ]
  },
  {
   "cell_type": "code",
   "execution_count": 106,
   "id": "afba4677",
   "metadata": {},
   "outputs": [],
   "source": [
    "Name1.append(a)\n",
    "Name1.append(b)\n",
    "Name1.append(c)\n",
    "Name1.append(d)\n",
    "Name1.append(e)\n",
    "Name1.append(f)\n",
    "Name1.append(g)\n",
    "Name1.append(h)\n",
    "Name1.append(i)\n",
    "Name1.append(j)\n",
    "Name1.append(k)\n",
    "Name1.append(l)\n",
    "Name1.append(m)\n",
    "Name1.append(n)\n",
    "Name1.append(o)\n",
    "Name1.append(p)\n",
    "Name1.append(q)\n",
    "Name1.append(r)"
   ]
  },
  {
   "cell_type": "code",
   "execution_count": 107,
   "id": "77be73d6",
   "metadata": {},
   "outputs": [
    {
     "data": {
      "text/plain": [
       "['Jawahar Lal Nehru',\n",
       " 'Gulzarilal Nanda (Acting)',\n",
       " 'Lal Bahadur Shastri',\n",
       " 'Gulzari Lal Nanda  (Acting)',\n",
       " 'Indira Gandhi',\n",
       " 'Morarji Desai',\n",
       " 'Charan Singh',\n",
       " 'Indira Gandhi',\n",
       " 'Rajiv Gandhi',\n",
       " 'V. P. Singh',\n",
       " 'Chandra Shekhar',\n",
       " 'P. V. Narasimha Rao',\n",
       " 'Atal Bihari Vajpayee',\n",
       " 'H. D. Deve Gowda',\n",
       " 'Inder Kumar Gujral',\n",
       " 'Atal Bihari Vajpayee',\n",
       " 'Manmohan Singh',\n",
       " 'Narendra Modi']"
      ]
     },
     "execution_count": 107,
     "metadata": {},
     "output_type": "execute_result"
    }
   ],
   "source": [
    "Name1"
   ]
  },
  {
   "cell_type": "code",
   "execution_count": 85,
   "id": "97ff4bd7",
   "metadata": {},
   "outputs": [],
   "source": [
    "year1=driver.find_element(By.XPATH,'/html/body/div[1]/div[2]/div/div[2]/div/div[1]/div/div/div/div[5]/span/div[2]/table/tbody/tr[2]/td[3]/p')\n",
    "year2=driver.find_element(By.XPATH,'/html/body/div[1]/div[2]/div/div[2]/div/div[1]/div/div/div/div[5]/span/div[2]/table/tbody/tr[3]/td[3]/p')\n",
    "year3=driver.find_element(By.XPATH,'/html/body/div[1]/div[2]/div/div[2]/div/div[1]/div/div/div/div[5]/span/div[2]/table/tbody/tr[4]/td[3]/p')\n",
    "year4=driver.find_element(By.XPATH,'/html/body/div[1]/div[2]/div/div[2]/div/div[1]/div/div/div/div[5]/span/div[2]/table/tbody/tr[5]/td[3]/p')\n",
    "year5=driver.find_element(By.XPATH,'/html/body/div[1]/div[2]/div/div[2]/div/div[1]/div/div/div/div[5]/span/div[2]/table/tbody/tr[6]/td[3]/p')\n",
    "year6=driver.find_element(By.XPATH,'/html/body/div[1]/div[2]/div/div[2]/div/div[1]/div/div/div/div[5]/span/div[2]/table/tbody/tr[7]/td[3]/p')\n",
    "year7=driver.find_element(By.XPATH,'/html/body/div[1]/div[2]/div/div[2]/div/div[1]/div/div/div/div[5]/span/div[2]/table/tbody/tr[8]/td[3]/p')\n",
    "year8=driver.find_element(By.XPATH,'/html/body/div[1]/div[2]/div/div[2]/div/div[1]/div/div/div/div[5]/span/div[2]/table/tbody/tr[9]/td[3]/p')\n",
    "year9=driver.find_element(By.XPATH,'/html/body/div[1]/div[2]/div/div[2]/div/div[1]/div/div/div/div[5]/span/div[2]/table/tbody/tr[10]/td[3]/p')\n",
    "year10=driver.find_element(By.XPATH,'/html/body/div[1]/div[2]/div/div[2]/div/div[1]/div/div/div/div[5]/span/div[2]/table/tbody/tr[11]/td[3]/p')\n",
    "year11=driver.find_element(By.XPATH,'/html/body/div[1]/div[2]/div/div[2]/div/div[1]/div/div/div/div[5]/span/div[2]/table/tbody/tr[12]/td[3]/p')\n",
    "year12=driver.find_element(By.XPATH,'/html/body/div[1]/div[2]/div/div[2]/div/div[1]/div/div/div/div[5]/span/div[2]/table/tbody/tr[13]/td[3]/p')\n",
    "year13=driver.find_element(By.XPATH,'/html/body/div[1]/div[2]/div/div[2]/div/div[1]/div/div/div/div[5]/span/div[2]/table/tbody/tr[14]/td[3]/p')\n",
    "year14=driver.find_element(By.XPATH,'/html/body/div[1]/div[2]/div/div[2]/div/div[1]/div/div/div/div[5]/span/div[2]/table/tbody/tr[15]/td[3]/p')\n",
    "year15=driver.find_element(By.XPATH,'/html/body/div[1]/div[2]/div/div[2]/div/div[1]/div/div/div/div[5]/span/div[2]/table/tbody/tr[16]/td[3]/p')\n",
    "year16=driver.find_element(By.XPATH,'/html/body/div[1]/div[2]/div/div[2]/div/div[1]/div/div/div/div[5]/span/div[2]/table/tbody/tr[17]/td[3]/p')\n",
    "year17=driver.find_element(By.XPATH,'/html/body/div[1]/div[2]/div/div[2]/div/div[1]/div/div/div/div[5]/span/div[2]/table/tbody/tr[18]/td[3]/p')\n",
    "year18=driver.find_element(By.XPATH,'/html/body/div[1]/div[2]/div/div[2]/div/div[1]/div/div/div/div[5]/span/div[2]/table/tbody/tr[19]/td[3]/p')\n"
   ]
  },
  {
   "cell_type": "code",
   "execution_count": 95,
   "id": "b079965d",
   "metadata": {},
   "outputs": [],
   "source": [
    "Born_Dead1.append(year1.text)\n",
    "Born_Dead1.append(year2.text)\n",
    "Born_Dead1.append(year3.text)\n",
    "Born_Dead1.append(year4.text)\n",
    "Born_Dead1.append(year5.text)\n",
    "Born_Dead1.append(year6.text)\n",
    "Born_Dead1.append(year7.text)\n",
    "Born_Dead1.append(year8.text)\n",
    "Born_Dead1.append(year9.text)\n",
    "Born_Dead1.append(year10.text)\n",
    "Born_Dead1.append(year11.text)\n",
    "Born_Dead1.append(year12.text)\n",
    "Born_Dead1.append(year13.text)\n",
    "Born_Dead1.append(year14.text)\n",
    "Born_Dead1.append(year15.text)\n",
    "Born_Dead1.append(year16.text)\n",
    "Born_Dead1.append(year17.text)\n",
    "Born_Dead1.append(year18.text)"
   ]
  },
  {
   "cell_type": "code",
   "execution_count": 108,
   "id": "70db0ef8",
   "metadata": {},
   "outputs": [
    {
     "data": {
      "text/plain": [
       "18"
      ]
     },
     "execution_count": 108,
     "metadata": {},
     "output_type": "execute_result"
    }
   ],
   "source": [
    "len(Name1)"
   ]
  },
  {
   "cell_type": "code",
   "execution_count": 109,
   "id": "fe6c77f5",
   "metadata": {},
   "outputs": [
    {
     "data": {
      "text/html": [
       "<div>\n",
       "<style scoped>\n",
       "    .dataframe tbody tr th:only-of-type {\n",
       "        vertical-align: middle;\n",
       "    }\n",
       "\n",
       "    .dataframe tbody tr th {\n",
       "        vertical-align: top;\n",
       "    }\n",
       "\n",
       "    .dataframe thead th {\n",
       "        text-align: right;\n",
       "    }\n",
       "</style>\n",
       "<table border=\"1\" class=\"dataframe\">\n",
       "  <thead>\n",
       "    <tr style=\"text-align: right;\">\n",
       "      <th></th>\n",
       "      <th>Name</th>\n",
       "      <th>Born_Dead</th>\n",
       "    </tr>\n",
       "  </thead>\n",
       "  <tbody>\n",
       "    <tr>\n",
       "      <th>0</th>\n",
       "      <td>Jawahar Lal Nehru</td>\n",
       "      <td>(1889–1964)</td>\n",
       "    </tr>\n",
       "    <tr>\n",
       "      <th>1</th>\n",
       "      <td>Gulzarilal Nanda (Acting)</td>\n",
       "      <td>(1898-1998)</td>\n",
       "    </tr>\n",
       "    <tr>\n",
       "      <th>2</th>\n",
       "      <td>Lal Bahadur Shastri</td>\n",
       "      <td>(1904–1966)</td>\n",
       "    </tr>\n",
       "    <tr>\n",
       "      <th>3</th>\n",
       "      <td>Gulzari Lal Nanda  (Acting)</td>\n",
       "      <td>(1898-1998)</td>\n",
       "    </tr>\n",
       "    <tr>\n",
       "      <th>4</th>\n",
       "      <td>Indira Gandhi</td>\n",
       "      <td>(1917–1984)</td>\n",
       "    </tr>\n",
       "    <tr>\n",
       "      <th>5</th>\n",
       "      <td>Morarji Desai</td>\n",
       "      <td>(1896–1995)</td>\n",
       "    </tr>\n",
       "    <tr>\n",
       "      <th>6</th>\n",
       "      <td>Charan Singh</td>\n",
       "      <td>(1902–1987)</td>\n",
       "    </tr>\n",
       "    <tr>\n",
       "      <th>7</th>\n",
       "      <td>Indira Gandhi</td>\n",
       "      <td>(1917–1984)</td>\n",
       "    </tr>\n",
       "    <tr>\n",
       "      <th>8</th>\n",
       "      <td>Rajiv Gandhi</td>\n",
       "      <td>(1944–1991)</td>\n",
       "    </tr>\n",
       "    <tr>\n",
       "      <th>9</th>\n",
       "      <td>V. P. Singh</td>\n",
       "      <td>(1931–2008)</td>\n",
       "    </tr>\n",
       "    <tr>\n",
       "      <th>10</th>\n",
       "      <td>Chandra Shekhar</td>\n",
       "      <td>(1927–2007)</td>\n",
       "    </tr>\n",
       "    <tr>\n",
       "      <th>11</th>\n",
       "      <td>P. V. Narasimha Rao</td>\n",
       "      <td>(1921–2004)</td>\n",
       "    </tr>\n",
       "    <tr>\n",
       "      <th>12</th>\n",
       "      <td>Atal Bihari Vajpayee</td>\n",
       "      <td>(1924- 2018)</td>\n",
       "    </tr>\n",
       "    <tr>\n",
       "      <th>13</th>\n",
       "      <td>H. D. Deve Gowda</td>\n",
       "      <td>(born 1933)</td>\n",
       "    </tr>\n",
       "    <tr>\n",
       "      <th>14</th>\n",
       "      <td>Inder Kumar Gujral</td>\n",
       "      <td>(1919–2012)</td>\n",
       "    </tr>\n",
       "    <tr>\n",
       "      <th>15</th>\n",
       "      <td>Atal Bihari Vajpayee</td>\n",
       "      <td>(1924-2018)</td>\n",
       "    </tr>\n",
       "    <tr>\n",
       "      <th>16</th>\n",
       "      <td>Manmohan Singh</td>\n",
       "      <td>(born 1932)</td>\n",
       "    </tr>\n",
       "    <tr>\n",
       "      <th>17</th>\n",
       "      <td>Narendra Modi</td>\n",
       "      <td>(born 1950)</td>\n",
       "    </tr>\n",
       "  </tbody>\n",
       "</table>\n",
       "</div>"
      ],
      "text/plain": [
       "                           Name     Born_Dead\n",
       "0             Jawahar Lal Nehru   (1889–1964)\n",
       "1     Gulzarilal Nanda (Acting)   (1898-1998)\n",
       "2           Lal Bahadur Shastri   (1904–1966)\n",
       "3   Gulzari Lal Nanda  (Acting)   (1898-1998)\n",
       "4                 Indira Gandhi   (1917–1984)\n",
       "5                 Morarji Desai   (1896–1995)\n",
       "6                  Charan Singh   (1902–1987)\n",
       "7                 Indira Gandhi   (1917–1984)\n",
       "8                  Rajiv Gandhi   (1944–1991)\n",
       "9                   V. P. Singh   (1931–2008)\n",
       "10              Chandra Shekhar   (1927–2007)\n",
       "11          P. V. Narasimha Rao   (1921–2004)\n",
       "12         Atal Bihari Vajpayee  (1924- 2018)\n",
       "13             H. D. Deve Gowda   (born 1933)\n",
       "14           Inder Kumar Gujral   (1919–2012)\n",
       "15         Atal Bihari Vajpayee   (1924-2018)\n",
       "16               Manmohan Singh   (born 1932)\n",
       "17                Narendra Modi   (born 1950)"
      ]
     },
     "execution_count": 109,
     "metadata": {},
     "output_type": "execute_result"
    }
   ],
   "source": [
    "df=pd.DataFrame({\"Name\":Name1,\"Born_Dead\":Born_Dead1})\n",
    "df"
   ]
  },
  {
   "cell_type": "code",
   "execution_count": 115,
   "id": "5f02bc16",
   "metadata": {},
   "outputs": [],
   "source": [
    "driver.get(\"https://www.motor1.com/\")"
   ]
  },
  {
   "cell_type": "code",
   "execution_count": 116,
   "id": "be8c6b28",
   "metadata": {},
   "outputs": [],
   "source": []
  },
  {
   "cell_type": "code",
   "execution_count": 117,
   "id": "40c25862",
   "metadata": {},
   "outputs": [],
   "source": [
    "option=driver.find_element(By.XPATH,'/html/body/div[3]/div[2]/div/div/div[3]/div/div/div/form/input')\n",
    "option.send_keys('50 most expensive cars')"
   ]
  },
  {
   "cell_type": "code",
   "execution_count": 119,
   "id": "a15c870a",
   "metadata": {},
   "outputs": [],
   "source": [
    "option1=driver.find_element(By.XPATH,'//button[@class=\"m1-search-panel-button m1-search-form-button-animate icon-search-svg\"]')\n",
    "option1.click()"
   ]
  },
  {
   "cell_type": "code",
   "execution_count": 121,
   "id": "5ab687dc",
   "metadata": {},
   "outputs": [
    {
     "data": {
      "text/plain": [
       "'https://www.motor1.com/features/308149/most-expensive-new-cars-ever/'"
      ]
     },
     "execution_count": 121,
     "metadata": {},
     "output_type": "execute_result"
    }
   ],
   "source": [
    "url=driver.find_element(By.XPATH,'/html/body/div[3]/div[9]/div/div[1]/div/div/div[2]/div/div[1]/h3/a')\n",
    "url.get_attribute('href')"
   ]
  },
  {
   "cell_type": "code",
   "execution_count": 122,
   "id": "e7ffa491",
   "metadata": {},
   "outputs": [],
   "source": [
    "url.click()"
   ]
  },
  {
   "cell_type": "code",
   "execution_count": 123,
   "id": "97c3fea8",
   "metadata": {},
   "outputs": [],
   "source": [
    "Car_Name=[]\n",
    "Car_Price=[]\n"
   ]
  },
  {
   "cell_type": "code",
   "execution_count": 124,
   "id": "c864a7ed",
   "metadata": {},
   "outputs": [],
   "source": [
    "name=driver.find_elements(By.XPATH,'//h3[@class=\"subheader\"]')\n",
    "for i in name:\n",
    "    name=i.text\n",
    "    Car_Name.append(name)\n"
   ]
  },
  {
   "cell_type": "code",
   "execution_count": 125,
   "id": "4d5a263b",
   "metadata": {},
   "outputs": [
    {
     "data": {
      "text/plain": [
       "['Drako GTE',\n",
       " 'De Tomaso P72',\n",
       " 'Ferrari LaFerrari',\n",
       " 'Pagani Huayra',\n",
       " 'McLaren Elva',\n",
       " 'Czinger 21C',\n",
       " 'Ferrari Monza',\n",
       " 'Gordon Murray T.33',\n",
       " 'Koenigsegg Gemera',\n",
       " 'Zenvo TSR-S',\n",
       " 'Hennessey Venom F5',\n",
       " 'Bentley Bacalar',\n",
       " 'Hispano Suiza Carmen Boulogne',\n",
       " 'Bentley Mulliner Batur',\n",
       " 'Deus Vayanne',\n",
       " 'SSC Tuatara',\n",
       " 'Lotus Evija',\n",
       " 'Aston Martin Vulcan',\n",
       " 'Delage D12',\n",
       " 'McLaren Speedtail',\n",
       " 'Rimac Nevera',\n",
       " 'Pagani Utopia',\n",
       " 'Pininfarina Battista',\n",
       " 'Ferrari FXX K Evo',\n",
       " 'Gordon Murray T.50',\n",
       " 'Lamborghini Countach',\n",
       " 'Mercedes-AMG Project One',\n",
       " 'Aston Martin Victor',\n",
       " 'Hennessey Venom F5 Roadster',\n",
       " 'Koenigsegg Jesko',\n",
       " 'Aston Martin Valkyrie',\n",
       " 'W Motors Lykan Hypersport',\n",
       " 'McLaren Solus',\n",
       " 'Pagani Huayra Roadster BC',\n",
       " 'Bugatti Chiron Pur Sport',\n",
       " 'Lamborghini Sian',\n",
       " 'Koenigsegg CC850',\n",
       " 'Bugatti Chiron Super Sport 300+',\n",
       " 'Lamborghini Veneno',\n",
       " 'Bugatti Bolide',\n",
       " 'Bugatti Mistral',\n",
       " 'Pagani Huayra Imola',\n",
       " 'Bugatti Divo',\n",
       " 'SP Automotive Chaos',\n",
       " 'Pagani Codalunga',\n",
       " 'Mercedes-Maybach Exelero',\n",
       " 'Bugatti Centodieci',\n",
       " 'Rolls-Royce Sweptail',\n",
       " 'Bugatti La Voiture Noire',\n",
       " 'Rolls-Royce Boat Tail*',\n",
       " 'Most Expensive Cars In The World']"
      ]
     },
     "execution_count": 125,
     "metadata": {},
     "output_type": "execute_result"
    }
   ],
   "source": [
    "Car_Name"
   ]
  },
  {
   "cell_type": "code",
   "execution_count": 126,
   "id": "2cdb565d",
   "metadata": {},
   "outputs": [
    {
     "data": {
      "text/plain": [
       "0                            Drako GTE\n",
       "1                        De Tomaso P72\n",
       "2                    Ferrari LaFerrari\n",
       "3                        Pagani Huayra\n",
       "4                         McLaren Elva\n",
       "5                          Czinger 21C\n",
       "6                        Ferrari Monza\n",
       "7                   Gordon Murray T.33\n",
       "8                    Koenigsegg Gemera\n",
       "9                          Zenvo TSR-S\n",
       "10                  Hennessey Venom F5\n",
       "11                     Bentley Bacalar\n",
       "12       Hispano Suiza Carmen Boulogne\n",
       "13              Bentley Mulliner Batur\n",
       "14                        Deus Vayanne\n",
       "15                         SSC Tuatara\n",
       "16                         Lotus Evija\n",
       "17                 Aston Martin Vulcan\n",
       "18                          Delage D12\n",
       "19                   McLaren Speedtail\n",
       "20                        Rimac Nevera\n",
       "21                       Pagani Utopia\n",
       "22                Pininfarina Battista\n",
       "23                   Ferrari FXX K Evo\n",
       "24                  Gordon Murray T.50\n",
       "25                Lamborghini Countach\n",
       "26            Mercedes-AMG Project One\n",
       "27                 Aston Martin Victor\n",
       "28         Hennessey Venom F5 Roadster\n",
       "29                    Koenigsegg Jesko\n",
       "30               Aston Martin Valkyrie\n",
       "31           W Motors Lykan Hypersport\n",
       "32                       McLaren Solus\n",
       "33           Pagani Huayra Roadster BC\n",
       "34            Bugatti Chiron Pur Sport\n",
       "35                    Lamborghini Sian\n",
       "36                    Koenigsegg CC850\n",
       "37     Bugatti Chiron Super Sport 300+\n",
       "38                  Lamborghini Veneno\n",
       "39                      Bugatti Bolide\n",
       "40                     Bugatti Mistral\n",
       "41                 Pagani Huayra Imola\n",
       "42                        Bugatti Divo\n",
       "43                 SP Automotive Chaos\n",
       "44                    Pagani Codalunga\n",
       "45            Mercedes-Maybach Exelero\n",
       "46                  Bugatti Centodieci\n",
       "47                Rolls-Royce Sweptail\n",
       "48            Bugatti La Voiture Noire\n",
       "49              Rolls-Royce Boat Tail*\n",
       "50    Most Expensive Cars In The World\n",
       "dtype: object"
      ]
     },
     "execution_count": 126,
     "metadata": {},
     "output_type": "execute_result"
    }
   ],
   "source": [
    "pd.Series(Car_Name)"
   ]
  },
  {
   "cell_type": "code",
   "execution_count": null,
   "id": "0c77e755",
   "metadata": {},
   "outputs": [],
   "source": [
    "# Unable to PULL details of Price."
   ]
  }
 ],
 "metadata": {
  "kernelspec": {
   "display_name": "Python 3 (ipykernel)",
   "language": "python",
   "name": "python3"
  },
  "language_info": {
   "codemirror_mode": {
    "name": "ipython",
    "version": 3
   },
   "file_extension": ".py",
   "mimetype": "text/x-python",
   "name": "python",
   "nbconvert_exporter": "python",
   "pygments_lexer": "ipython3",
   "version": "3.9.12"
  }
 },
 "nbformat": 4,
 "nbformat_minor": 5
}
