{
 "cells": [
  {
   "cell_type": "code",
   "execution_count": 3,
   "id": "97f29b89",
   "metadata": {},
   "outputs": [],
   "source": [
    "import sqlite3\n"
   ]
  },
  {
   "cell_type": "code",
   "execution_count": 4,
   "id": "762ab789",
   "metadata": {},
   "outputs": [],
   "source": [
    "db=sqlite3.connect('Customers_database.db')\n"
   ]
  },
  {
   "cell_type": "code",
   "execution_count": 5,
   "id": "3a4a7c67",
   "metadata": {},
   "outputs": [],
   "source": [
    "cursor=db.cursor()"
   ]
  },
  {
   "cell_type": "code",
   "execution_count": 6,
   "id": "69adf5a3",
   "metadata": {},
   "outputs": [
    {
     "ename": "OperationalError",
     "evalue": "table customers already exists",
     "output_type": "error",
     "traceback": [
      "\u001b[1;31m---------------------------------------------------------------------------\u001b[0m",
      "\u001b[1;31mOperationalError\u001b[0m                          Traceback (most recent call last)",
      "Input \u001b[1;32mIn [6]\u001b[0m, in \u001b[0;36m<cell line: 2>\u001b[1;34m()\u001b[0m\n\u001b[0;32m      1\u001b[0m sql\u001b[38;5;241m=\u001b[39m\u001b[38;5;124m\"\u001b[39m\u001b[38;5;124mCreate TABLE customers(Customer_Number int PrimaryKey,Customer_Name text,contact_lastName text,contact_FirstName text,phone int,address_line1 text,address_line2 text,city text,state text,postal_code int,country text,SalesRep_Empl_number int,credit_limit int )\u001b[39m\u001b[38;5;124m\"\u001b[39m\n\u001b[1;32m----> 2\u001b[0m \u001b[43mdb\u001b[49m\u001b[38;5;241;43m.\u001b[39;49m\u001b[43mexecute\u001b[49m\u001b[43m(\u001b[49m\u001b[43msql\u001b[49m\u001b[43m)\u001b[49m\n",
      "\u001b[1;31mOperationalError\u001b[0m: table customers already exists"
     ]
    }
   ],
   "source": [
    "sql=\"Create TABLE customers(Customer_Number int PrimaryKey,Customer_Name text,contact_lastName text,contact_FirstName text,phone int,address_line1 text,address_line2 text,city text,state text,postal_code int,country text,SalesRep_Empl_number int,credit_limit int )\"\n",
    "db.execute(sql)"
   ]
  },
  {
   "cell_type": "code",
   "execution_count": 8,
   "id": "86c8f250",
   "metadata": {},
   "outputs": [
    {
     "ename": "OperationalError",
     "evalue": "table orders already exists",
     "output_type": "error",
     "traceback": [
      "\u001b[1;31m---------------------------------------------------------------------------\u001b[0m",
      "\u001b[1;31mOperationalError\u001b[0m                          Traceback (most recent call last)",
      "Input \u001b[1;32mIn [8]\u001b[0m, in \u001b[0;36m<cell line: 2>\u001b[1;34m()\u001b[0m\n\u001b[0;32m      1\u001b[0m sql\u001b[38;5;241m=\u001b[39m\u001b[38;5;124m\"\u001b[39m\u001b[38;5;124mCreate TABLE orders(order_Number int Primarykey,Order_Date text,required_date text,shipped_date text,status text,comments text,customer_Number int)\u001b[39m\u001b[38;5;124m\"\u001b[39m\n\u001b[1;32m----> 2\u001b[0m \u001b[43mdb\u001b[49m\u001b[38;5;241;43m.\u001b[39;49m\u001b[43mexecute\u001b[49m\u001b[43m(\u001b[49m\u001b[43msql\u001b[49m\u001b[43m)\u001b[49m\n",
      "\u001b[1;31mOperationalError\u001b[0m: table orders already exists"
     ]
    }
   ],
   "source": [
    "sql=\"Create TABLE orders(order_Number int Primarykey,Order_Date text,required_date text,shipped_date text,status text,comments text,customer_Number int)\"\n",
    "db.execute(sql)"
   ]
  },
  {
   "cell_type": "code",
   "execution_count": 10,
   "id": "8627ac55",
   "metadata": {},
   "outputs": [
    {
     "name": "stdout",
     "output_type": "stream",
     "text": [
      "1\n"
     ]
    }
   ],
   "source": [
    "cursor.execute(\"insert into orders(order_Number,Order_Date,required_date,shipped_date,status,comments,customer_Number)Values(110,10123,50123,10123,'shipped','shipped',9988776655)\")\n",
    "db.commit()\n",
    "print(cursor.rowcount)"
   ]
  },
  {
   "cell_type": "code",
   "execution_count": 11,
   "id": "2447cfb1",
   "metadata": {},
   "outputs": [
    {
     "name": "stdout",
     "output_type": "stream",
     "text": [
      "(110, '10123', '50123', '10123', 'shipped', 'shipped', 9988776655)\n"
     ]
    }
   ],
   "source": [
    "result=cursor.execute(\"select * from orders\")\n",
    "for rows in result:\n",
    "    print(rows)"
   ]
  },
  {
   "cell_type": "code",
   "execution_count": 19,
   "id": "d640f442",
   "metadata": {},
   "outputs": [
    {
     "name": "stdout",
     "output_type": "stream",
     "text": [
      "(110, '10123', '50123', '10123', 'shipped', 'shipped', 9988776655)\n"
     ]
    }
   ],
   "source": [
    "sql=cursor.execute(\"Select * from orders where comments=('shipped')\")\n",
    "for rows in sql:\n",
    "    print(rows)"
   ]
  },
  {
   "cell_type": "code",
   "execution_count": 22,
   "id": "0f99e7eb",
   "metadata": {},
   "outputs": [],
   "source": [
    "cursor.execute(\"insert into orders values(111,10123,40123,10123,'shipped','shipped',9988776654),(112,10123,30123,10123,'dispatched','yettoshipped',9988776653)\")\n",
    "db.commit()"
   ]
  },
  {
   "cell_type": "code",
   "execution_count": 23,
   "id": "10df7139",
   "metadata": {},
   "outputs": [
    {
     "name": "stdout",
     "output_type": "stream",
     "text": [
      "(110, '10123', '50123', '10123', 'shipped', 'shipped', 9988776655)\n",
      "(111, '10123', '40123', '10123', 'shipped', 'shipped', 9988776654)\n",
      "(112, '10123', '30123', '10123', 'dispatched', 'yettoshipped', 9988776653)\n"
     ]
    }
   ],
   "source": [
    "result=cursor.execute(\"Select * from orders\")\n",
    "for rows in result:\n",
    "    print(rows)"
   ]
  },
  {
   "cell_type": "code",
   "execution_count": 24,
   "id": "2a34a8aa",
   "metadata": {},
   "outputs": [],
   "source": [
    "cursor.execute(\"insert into orders values(113,20123,40123,10123,'shipped','shipped',9988776651)\")\n",
    "db.commit()\n",
    "               "
   ]
  },
  {
   "cell_type": "code",
   "execution_count": 25,
   "id": "b6096d62",
   "metadata": {},
   "outputs": [
    {
     "name": "stdout",
     "output_type": "stream",
     "text": [
      "(110, '10123', '50123', '10123', 'shipped', 'shipped', 9988776655)\n",
      "(111, '10123', '40123', '10123', 'shipped', 'shipped', 9988776654)\n",
      "(112, '10123', '30123', '10123', 'dispatched', 'yettoshipped', 9988776653)\n",
      "(113, '20123', '40123', '10123', 'shipped', 'shipped', 9988776651)\n"
     ]
    }
   ],
   "source": [
    "result=cursor.execute(\"Select * from orders\")\n",
    "for rows in result:\n",
    "    print(rows)"
   ]
  },
  {
   "cell_type": "code",
   "execution_count": 28,
   "id": "1594c523",
   "metadata": {},
   "outputs": [
    {
     "name": "stdout",
     "output_type": "stream",
     "text": [
      "No of orders on 01/01/23: (110, '10123', '50123', '10123', 'shipped', 'shipped', 9988776655)\n",
      "No of orders on 01/01/23: (111, '10123', '40123', '10123', 'shipped', 'shipped', 9988776654)\n",
      "No of orders on 01/01/23: (112, '10123', '30123', '10123', 'dispatched', 'yettoshipped', 9988776653)\n"
     ]
    }
   ],
   "source": [
    "sql=cursor.execute(\"Select * from orders where Order_Date=('10123')\")\n",
    "for rows in sql:\n",
    "    print(\"No of orders on 01/01/23:\",rows)"
   ]
  },
  {
   "cell_type": "code",
   "execution_count": 56,
   "id": "ff2fa449",
   "metadata": {},
   "outputs": [],
   "source": [
    "db1=sqlite3.connect('employees_database.db')\n",
    "cursor=db1.cursor()\n",
    "\n"
   ]
  },
  {
   "cell_type": "code",
   "execution_count": 15,
   "id": "3c959da0",
   "metadata": {},
   "outputs": [],
   "source": [
    "sql=cursor.execute(\"Create table employees(emp_Number int PrimaryKey,last_name text,first_name text,extension int,email text,office_code int,reports_to text,job_title text)\")\n"
   ]
  },
  {
   "cell_type": "code",
   "execution_count": 1,
   "id": "0622895d",
   "metadata": {},
   "outputs": [
    {
     "ename": "NameError",
     "evalue": "name 'cursor' is not defined",
     "output_type": "error",
     "traceback": [
      "\u001b[1;31m---------------------------------------------------------------------------\u001b[0m",
      "\u001b[1;31mNameError\u001b[0m                                 Traceback (most recent call last)",
      "Input \u001b[1;32mIn [1]\u001b[0m, in \u001b[0;36m<cell line: 1>\u001b[1;34m()\u001b[0m\n\u001b[1;32m----> 1\u001b[0m result\u001b[38;5;241m=\u001b[39m\u001b[43mcursor\u001b[49m\u001b[38;5;241m.\u001b[39mexecute(\u001b[38;5;124m\"\u001b[39m\u001b[38;5;124minsert into employees Values(800,\u001b[39m\u001b[38;5;124m'\u001b[39m\u001b[38;5;124msingh\u001b[39m\u001b[38;5;124m'\u001b[39m\u001b[38;5;124m,\u001b[39m\u001b[38;5;124m'\u001b[39m\u001b[38;5;124mdev\u001b[39m\u001b[38;5;124m'\u001b[39m\u001b[38;5;124m,8000,\u001b[39m\u001b[38;5;124m'\u001b[39m\u001b[38;5;124mdev_singh@gmail.com\u001b[39m\u001b[38;5;124m'\u001b[39m\u001b[38;5;124m,00,\u001b[39m\u001b[38;5;124m'\u001b[39m\u001b[38;5;124mshankar\u001b[39m\u001b[38;5;124m'\u001b[39m\u001b[38;5;124m,\u001b[39m\u001b[38;5;124m'\u001b[39m\u001b[38;5;124mjr_DS\u001b[39m\u001b[38;5;124m'\u001b[39m\u001b[38;5;124m),(801,\u001b[39m\u001b[38;5;124m'\u001b[39m\u001b[38;5;124msingh\u001b[39m\u001b[38;5;124m'\u001b[39m\u001b[38;5;124m,\u001b[39m\u001b[38;5;124m'\u001b[39m\u001b[38;5;124mjai\u001b[39m\u001b[38;5;124m'\u001b[39m\u001b[38;5;124m,8001,\u001b[39m\u001b[38;5;124m'\u001b[39m\u001b[38;5;124mjai_singh@gmail.com\u001b[39m\u001b[38;5;124m'\u001b[39m\u001b[38;5;124m,00,\u001b[39m\u001b[38;5;124m'\u001b[39m\u001b[38;5;124mshankar\u001b[39m\u001b[38;5;124m'\u001b[39m\u001b[38;5;124m,\u001b[39m\u001b[38;5;124m'\u001b[39m\u001b[38;5;124mJr_DS\u001b[39m\u001b[38;5;124m'\u001b[39m\u001b[38;5;124m),(802,\u001b[39m\u001b[38;5;124m'\u001b[39m\u001b[38;5;124mthakur\u001b[39m\u001b[38;5;124m'\u001b[39m\u001b[38;5;124m,\u001b[39m\u001b[38;5;124m'\u001b[39m\u001b[38;5;124mmeka\u001b[39m\u001b[38;5;124m'\u001b[39m\u001b[38;5;124m,8002,\u001b[39m\u001b[38;5;124m'\u001b[39m\u001b[38;5;124mmeka_thakur@gmail.com\u001b[39m\u001b[38;5;124m'\u001b[39m\u001b[38;5;124m,01,\u001b[39m\u001b[38;5;124m'\u001b[39m\u001b[38;5;124mpreethi\u001b[39m\u001b[38;5;124m'\u001b[39m\u001b[38;5;124m,\u001b[39m\u001b[38;5;124m'\u001b[39m\u001b[38;5;124mSr_DS\u001b[39m\u001b[38;5;124m'\u001b[39m\u001b[38;5;124m)\u001b[39m\u001b[38;5;124m\"\u001b[39m)\n\u001b[0;32m      2\u001b[0m db1\u001b[38;5;241m.\u001b[39mcommit()\n",
      "\u001b[1;31mNameError\u001b[0m: name 'cursor' is not defined"
     ]
    }
   ],
   "source": [
    "result=cursor.execute(\"insert into employees Values(800,'singh','dev',8000,'dev_singh@gmail.com',00,'shankar','jr_DS'),(801,'singh','jai',8001,'jai_singh@gmail.com',00,'shankar','Jr_DS'),(802,'thakur','meka',8002,'meka_thakur@gmail.com',01,'preethi','Sr_DS')\")\n",
    "db1.commit()\n"
   ]
  },
  {
   "cell_type": "code",
   "execution_count": 37,
   "id": "3f4f6c2d",
   "metadata": {},
   "outputs": [
    {
     "name": "stdout",
     "output_type": "stream",
     "text": [
      "(800, 'singh', 'dev', 8000, 'dev_singh@gmail.com', 0, 'shankar', 'jr_DS')\n",
      "(801, 'singh', 'jai', 8001, 'jai_singh@gmail.com', 0, 'shankar', 'Jr_DS')\n",
      "(802, 'thakur', 'meka', 8002, 'meka_thakur@gmail.com', 1, 'preethi', 'Sr_DS')\n",
      "(800, 'singh', 'dev', 8000, 'dev_singh@gmail.com', 0, 'shankar', 'jr_DS')\n",
      "(801, 'singh', 'jai', 8001, 'jai_singh@gmail.com', 0, 'shankar', 'Jr_DS')\n",
      "(802, 'thakur', 'meka', 8002, 'meka_thakur@gmail.com', 1, 'preethi', 'Sr_DS')\n",
      "(800, 'singh', 'dev', 8000, 'dev_singh@gmail.com', 0, 'shankar', 'jr_DS')\n",
      "(801, 'singh', 'jai', 8001, 'jai_singh@gmail.com', 0, 'shankar', 'Jr_DS')\n",
      "(802, 'thakur', 'meka', 8002, 'meka_thakur@gmail.com', 1, 'preethi', 'Sr_DS')\n",
      "(800, 'singh', 'dev', 8000, 'dev_singh@gmail.com', 0, 'shankar', 'jr_DS')\n",
      "(801, 'singh', 'jai', 8001, 'jai_singh@gmail.com', 0, 'shankar', 'Jr_DS')\n",
      "(802, 'thakur', 'meka', 8002, 'meka_thakur@gmail.com', 1, 'preethi', 'Sr_DS')\n",
      "(800, 'singh', 'dev', 8000, 'dev_singh@gmail.com', 0, 'shankar', 'jr_DS')\n",
      "(801, 'singh', 'jai', 8001, 'jai_singh@gmail.com', 0, 'shankar', 'Jr_DS')\n",
      "(802, 'thakur', 'meka', 8002, 'meka_thakur@gmail.com', 1, 'preethi', 'Sr_DS')\n",
      "(800, 'singh', 'dev', 8000, 'dev_singh@gmail.com', 0, 'shankar', 'jr_DS')\n",
      "(801, 'singh', 'jai', 8001, 'jai_singh@gmail.com', 0, 'shankar', 'Jr_DS')\n",
      "(802, 'thakur', 'meka', 8002, 'meka_thakur@gmail.com', 1, 'preethi', 'Sr_DS')\n"
     ]
    }
   ],
   "source": [
    "result=cursor.execute(\"Select * from employees\")\n",
    "for rows in result:\n",
    "    print(rows)"
   ]
  },
  {
   "cell_type": "code",
   "execution_count": 14,
   "id": "1ae39f17",
   "metadata": {},
   "outputs": [
    {
     "ename": "OperationalError",
     "evalue": "no such table: employees",
     "output_type": "error",
     "traceback": [
      "\u001b[1;31m---------------------------------------------------------------------------\u001b[0m",
      "\u001b[1;31mOperationalError\u001b[0m                          Traceback (most recent call last)",
      "Input \u001b[1;32mIn [14]\u001b[0m, in \u001b[0;36m<cell line: 1>\u001b[1;34m()\u001b[0m\n\u001b[1;32m----> 1\u001b[0m result\u001b[38;5;241m=\u001b[39m\u001b[43mcursor\u001b[49m\u001b[38;5;241;43m.\u001b[39;49m\u001b[43mexecute\u001b[49m\u001b[43m(\u001b[49m\u001b[38;5;124;43m\"\u001b[39;49m\u001b[38;5;124;43mSelect emp_Number,last_name,first_name from employees\u001b[39;49m\u001b[38;5;124;43m\"\u001b[39;49m\u001b[43m)\u001b[49m \n\u001b[0;32m      2\u001b[0m \u001b[38;5;28;01mfor\u001b[39;00m row \u001b[38;5;129;01min\u001b[39;00m result:\n\u001b[0;32m      3\u001b[0m     \u001b[38;5;28mprint\u001b[39m(\u001b[38;5;124m\"\u001b[39m\u001b[38;5;124mq6:\u001b[39m\u001b[38;5;124m\"\u001b[39m,row)\n",
      "\u001b[1;31mOperationalError\u001b[0m: no such table: employees"
     ]
    }
   ],
   "source": [
    "result=cursor.execute(\"Select emp_Number,last_name,first_name from employees\") \n",
    "for row in result:\n",
    "    print(\"q6:\",row)"
   ]
  },
  {
   "cell_type": "code",
   "execution_count": 8,
   "id": "1b8d2d0c",
   "metadata": {},
   "outputs": [
    {
     "data": {
      "text/plain": [
       "<sqlite3.Cursor at 0x138b0ae20a0>"
      ]
     },
     "execution_count": 8,
     "metadata": {},
     "output_type": "execute_result"
    }
   ],
   "source": [
    "sql=(\"insert into customers Values(1000,'Bri','Bri','S',9884400001,'sk_apt','B_Block104','chennai','Tamilnadu',600044,'India',50,5000),(1001,'sri','sri','v',9884400002,'bk_apt','B_Block604','chennai','Tamilnadu',600043,'India',51,5000)\")\n",
    "db.execute(sql)\n"
   ]
  },
  {
   "cell_type": "code",
   "execution_count": 9,
   "id": "4162c60e",
   "metadata": {},
   "outputs": [
    {
     "data": {
      "text/plain": [
       "<sqlite3.Cursor at 0x138b0ae21f0>"
      ]
     },
     "execution_count": 9,
     "metadata": {},
     "output_type": "execute_result"
    }
   ],
   "source": [
    "sql=(\"insert into customers Values(1002,'sha','sha','v',9884400003,'ak_aPt','C_Block702','Salem','TamilNadu',600042,'India',52,6000),(1003,'sap','sap','R',9884400004,'sk_apt','C_block905','trichy','Tamilnadu',600045,'India',56,7000)\")\n",
    "db.execute(sql)\n"
   ]
  },
  {
   "cell_type": "code",
   "execution_count": 10,
   "id": "ab1f9682",
   "metadata": {},
   "outputs": [
    {
     "name": "stdout",
     "output_type": "stream",
     "text": [
      "(1000, 'Bri', 'Bri', 'S', 9884400001, 'sk_apt', 'B_Block104', 'chennai', 'Tamilnadu', 600044, 'India', 50, 5000)\n",
      "(1001, 'sri', 'sri', 'v', 9884400002, 'bk_apt', 'B_Block604', 'chennai', 'Tamilnadu', 600043, 'India', 51, 5000)\n",
      "(1002, 'sha', 'sha', 'v', 9884400003, 'ak_aPt', 'C_Block702', 'Salem', 'TamilNadu', 600042, 'India', 52, 6000)\n",
      "(1003, 'sap', 'sap', 'R', 9884400004, 'sk_apt', 'C_block905', 'trichy', 'Tamilnadu', 600045, 'India', 56, 7000)\n"
     ]
    }
   ],
   "source": [
    "result=cursor.execute(\"Select * from customers\")\n",
    "for rows in result:\n",
    "    print(rows)"
   ]
  },
  {
   "cell_type": "code",
   "execution_count": 13,
   "id": "9a7afd9f",
   "metadata": {},
   "outputs": [
    {
     "name": "stdout",
     "output_type": "stream",
     "text": [
      "q7: (1000, 'Bri')\n",
      "q7: (1001, 'sri')\n",
      "q7: (1002, 'sha')\n",
      "q7: (1003, 'sap')\n"
     ]
    }
   ],
   "source": [
    "result=cursor.execute(\"Select Customer_Number,Customer_Name from customers\")\n",
    "for rows in result:\n",
    "    print(\"q7:\",rows)"
   ]
  },
  {
   "cell_type": "code",
   "execution_count": 17,
   "id": "b256a2a4",
   "metadata": {},
   "outputs": [
    {
     "name": "stdout",
     "output_type": "stream",
     "text": [
      "q8: ('Bri', 50)\n",
      "q8: ('sri', 51)\n",
      "q8: ('sha', 52)\n",
      "q8: ('sap', 56)\n"
     ]
    }
   ],
   "source": [
    "result=cursor.execute(\"Select Customer_Name,SalesRep_Empl_number from customers\")\n",
    "for rows in result:\n",
    "    print(\"q8:\",rows)"
   ]
  },
  {
   "cell_type": "code",
   "execution_count": 25,
   "id": "cac82d22",
   "metadata": {},
   "outputs": [
    {
     "ename": "OperationalError",
     "evalue": "table Payments already exists",
     "output_type": "error",
     "traceback": [
      "\u001b[1;31m---------------------------------------------------------------------------\u001b[0m",
      "\u001b[1;31mOperationalError\u001b[0m                          Traceback (most recent call last)",
      "Input \u001b[1;32mIn [25]\u001b[0m, in \u001b[0;36m<cell line: 2>\u001b[1;34m()\u001b[0m\n\u001b[0;32m      1\u001b[0m sql\u001b[38;5;241m=\u001b[39m\u001b[38;5;124m\"\u001b[39m\u001b[38;5;124mCreate Table Payments(Customer_Number int Primarykey,Cheque_Number int,Payment_Date text,Amount int,foreign Key(Customer_Number) references customers(Customer_Number)) \u001b[39m\u001b[38;5;124m\"\u001b[39m\n\u001b[1;32m----> 2\u001b[0m \u001b[43mdb\u001b[49m\u001b[38;5;241;43m.\u001b[39;49m\u001b[43mexecute\u001b[49m\u001b[43m(\u001b[49m\u001b[43msql\u001b[49m\u001b[43m)\u001b[49m\n",
      "\u001b[1;31mOperationalError\u001b[0m: table Payments already exists"
     ]
    }
   ],
   "source": [
    "sql=\"Create Table Payments(Customer_Number int Primarykey,Cheque_Number int,Payment_Date text,Amount int,foreign Key(Customer_Number) references customers(Customer_Number)) \"\n",
    "db.execute(sql)\n"
   ]
  },
  {
   "cell_type": "code",
   "execution_count": 26,
   "id": "36d873c3",
   "metadata": {},
   "outputs": [],
   "source": [
    "cursor.execute(\"insert into Payments Values(1000,12301,'01_01_2023',3000),(1001,12809,'02_01_2023',1500),(1002,15582,'03_01_2023',800),(1003,19265,'01_01_2023',1850)\")\n",
    "db.commit()"
   ]
  },
  {
   "cell_type": "code",
   "execution_count": 27,
   "id": "7b517f04",
   "metadata": {},
   "outputs": [
    {
     "name": "stdout",
     "output_type": "stream",
     "text": [
      "(1000, 12301, '01_01_2023', 3000)\n",
      "(1001, 12809, '02_01_2023', 1500)\n",
      "(1002, 15582, '03_01_2023', 800)\n",
      "(1003, 19265, '01_01_2023', 1850)\n",
      "(1000, 12301, '01_01_2023', 3000)\n",
      "(1001, 12809, '02_01_2023', 1500)\n",
      "(1002, 15582, '03_01_2023', 800)\n",
      "(1003, 19265, '01_01_2023', 1850)\n"
     ]
    }
   ],
   "source": [
    "result=cursor.execute(\"Select * from Payments\")\n",
    "for rows in result:\n",
    "    print(rows)\n"
   ]
  },
  {
   "cell_type": "code",
   "execution_count": 24,
   "id": "0e772c07",
   "metadata": {},
   "outputs": [
    {
     "name": "stdout",
     "output_type": "stream",
     "text": [
      "(1001, 12809, '02_01_2023', 1500)\n"
     ]
    }
   ],
   "source": [
    "result=cursor.execute(\"Select * from  Payments where Customer_Number=(1001)\")\n",
    "for rows in result:\n",
    "    print(rows)"
   ]
  },
  {
   "cell_type": "code",
   "execution_count": 32,
   "id": "e2100065",
   "metadata": {},
   "outputs": [
    {
     "name": "stdout",
     "output_type": "stream",
     "text": [
      "(1002, 'sha', 'sha', 'v', 9884400003, 'ak_aPt', 'C_Block702', 'Salem', 'TamilNadu', 600042, 'India', 52, 6000)\n"
     ]
    }
   ],
   "source": [
    "result=cursor.execute(\"Select * from customers where Customer_Number=(select Customer_Number from Payments where Cheque_Number=15582)\")\n",
    "for rows in result:\n",
    "    print(rows)"
   ]
  },
  {
   "cell_type": "code",
   "execution_count": 31,
   "id": "2b5ef75c",
   "metadata": {},
   "outputs": [
    {
     "name": "stdout",
     "output_type": "stream",
     "text": [
      "q9: (800,)\n",
      "q9: (800,)\n"
     ]
    }
   ],
   "source": [
    "result=cursor.execute(\"Select Amount from Payments where Payment_Date=('03_01_2023')\")\n",
    "for rows in result:\n",
    "    print(\"q9:\",rows)"
   ]
  },
  {
   "cell_type": "code",
   "execution_count": 33,
   "id": "cb9c083c",
   "metadata": {},
   "outputs": [
    {
     "data": {
      "text/plain": [
       "<sqlite3.Cursor at 0x138b0c26030>"
      ]
     },
     "execution_count": 33,
     "metadata": {},
     "output_type": "execute_result"
    }
   ],
   "source": [
    "sql=\"Create Table Products(Product_code int PrimaryKey,Product_name text,Product_Line text,Product_scale int,Product_vendor text,Product_dis text,Quantity_in_stock int,Buy_price text,MSRP text)\"\n",
    "db.execute(sql)"
   ]
  },
  {
   "cell_type": "code",
   "execution_count": 34,
   "id": "744a7029",
   "metadata": {},
   "outputs": [
    {
     "data": {
      "text/plain": [
       "<sqlite3.Cursor at 0x138b0c261f0>"
      ]
     },
     "execution_count": 34,
     "metadata": {},
     "output_type": "execute_result"
    }
   ],
   "source": [
    "sql=\"insert into Products Values(01,'spray','guj',0.25,'skj','body_spray',5,'Rs.300','Rs.250'),(10,'Phone','Del',3.0,'mgk','Mobile_phone',14,'Rs.25500','Rs.23200'),(00,'Spray','guj',0.25,'skj','body_spray',5,'Rs.300','Rs.250')\"\n",
    "db.execute(sql)\n"
   ]
  },
  {
   "cell_type": "code",
   "execution_count": 36,
   "id": "dd7e2d6c",
   "metadata": {},
   "outputs": [
    {
     "name": "stdout",
     "output_type": "stream",
     "text": [
      "(1, 'spray', 'guj', 0.25, 'skj', 'body_spray', 5, 'Rs.300', 'Rs.250')\n",
      "(10, 'Phone', 'Del', 3, 'mgk', 'Mobile_phone', 14, 'Rs.25500', 'Rs.23200')\n",
      "(0, 'Spray', 'guj', 0.25, 'skj', 'body_spray', 5, 'Rs.300', 'Rs.250')\n"
     ]
    }
   ],
   "source": [
    "result=cursor.execute(\"Select * from Products\")\n",
    "for rows in result:\n",
    "    print(rows)"
   ]
  },
  {
   "cell_type": "code",
   "execution_count": 38,
   "id": "c552039c",
   "metadata": {},
   "outputs": [
    {
     "name": "stdout",
     "output_type": "stream",
     "text": [
      "q10: ('spray', 'body_spray', 'Rs.250')\n",
      "q10: ('Phone', 'Mobile_phone', 'Rs.23200')\n",
      "q10: ('Spray', 'body_spray', 'Rs.250')\n"
     ]
    }
   ],
   "source": [
    "result=cursor.execute(\"Select Product_name,Product_dis,MSRP from Products\")\n",
    "for rows in result:\n",
    "    print(\"q10:\",rows)"
   ]
  },
  {
   "cell_type": "code",
   "execution_count": 43,
   "id": "ab4d3b2b",
   "metadata": {},
   "outputs": [
    {
     "name": "stdout",
     "output_type": "stream",
     "text": [
      "q12: ('spray', 'body_spray')\n",
      "q12: ('Spray', 'body_spray')\n"
     ]
    }
   ],
   "source": [
    "result=cursor.execute(\"Select Product_name,Product_dis from Products where Product_Line=('guj') \")\n",
    "for rows in result:\n",
    "    print(\"q12:\",rows)"
   ]
  },
  {
   "cell_type": "code",
   "execution_count": 45,
   "id": "4f613af9",
   "metadata": {},
   "outputs": [
    {
     "data": {
      "text/plain": [
       "<sqlite3.Cursor at 0x138b0c269d0>"
      ]
     },
     "execution_count": 45,
     "metadata": {},
     "output_type": "execute_result"
    }
   ],
   "source": [
    "sql=\"insert into Products Values(01,'spray','guj',0.25,'skj','body_spray',4,'Rs.300','Rs.250')\"\n",
    "db.execute(sql)"
   ]
  },
  {
   "cell_type": "code",
   "execution_count": 47,
   "id": "aec3669a",
   "metadata": {},
   "outputs": [
    {
     "name": "stdout",
     "output_type": "stream",
     "text": [
      "q11: ('spray', 'body_spray')\n",
      "q11: ('spray', 'body_spray')\n"
     ]
    }
   ],
   "source": [
    "result=cursor.execute(\"Select Product_name,Product_dis from Products where Product_code=(01)\")\n",
    "for rows in result:\n",
    "    print(\"q11:\",rows)"
   ]
  },
  {
   "cell_type": "code",
   "execution_count": 52,
   "id": "5c71fc3d",
   "metadata": {},
   "outputs": [
    {
     "ename": "OperationalError",
     "evalue": "near \"where\": syntax error",
     "output_type": "error",
     "traceback": [
      "\u001b[1;31m---------------------------------------------------------------------------\u001b[0m",
      "\u001b[1;31mOperationalError\u001b[0m                          Traceback (most recent call last)",
      "Input \u001b[1;32mIn [52]\u001b[0m, in \u001b[0;36m<cell line: 1>\u001b[1;34m()\u001b[0m\n\u001b[1;32m----> 1\u001b[0m result\u001b[38;5;241m=\u001b[39m\u001b[43mcursor\u001b[49m\u001b[38;5;241;43m.\u001b[39;49m\u001b[43mexecute\u001b[49m\u001b[43m(\u001b[49m\u001b[38;5;124;43m\"\u001b[39;49m\u001b[38;5;124;43mSelect Amount from Payments where Customer_Number=(Select Customer_Number from customers(where Order_Date=(\u001b[39;49m\u001b[38;5;124;43m'\u001b[39;49m\u001b[38;5;124;43m10123\u001b[39;49m\u001b[38;5;124;43m'\u001b[39;49m\u001b[38;5;124;43m) from orders) )\u001b[39;49m\u001b[38;5;124;43m\"\u001b[39;49m\u001b[43m)\u001b[49m\n\u001b[0;32m      2\u001b[0m \u001b[38;5;28;01mfor\u001b[39;00m rows \u001b[38;5;129;01min\u001b[39;00m result:\n\u001b[0;32m      3\u001b[0m     \u001b[38;5;28mprint\u001b[39m(rows)\n",
      "\u001b[1;31mOperationalError\u001b[0m: near \"where\": syntax error"
     ]
    }
   ],
   "source": [
    "result=cursor.execute(\"Select Amount from Payments where Customer_Number=(Select Customer_Number from customers(where Order_Date=('10123') from orders) )\")\n",
    "for rows in result:\n",
    "    print(rows)"
   ]
  },
  {
   "cell_type": "code",
   "execution_count": 61,
   "id": "9fa69145",
   "metadata": {},
   "outputs": [],
   "source": [
    "db1=sqlite3.connect('employees_database.db')\n",
    "cursor=db1.cursor()\n",
    "result=cursor.execute(\"Select emp_Number,first_name,last_name from employees\")\n",
    "for rows in result:\n",
    "    print(rows)"
   ]
  },
  {
   "cell_type": "code",
   "execution_count": null,
   "id": "bff88ea1",
   "metadata": {},
   "outputs": [],
   "source": []
  }
 ],
 "metadata": {
  "kernelspec": {
   "display_name": "Python 3 (ipykernel)",
   "language": "python",
   "name": "python3"
  },
  "language_info": {
   "codemirror_mode": {
    "name": "ipython",
    "version": 3
   },
   "file_extension": ".py",
   "mimetype": "text/x-python",
   "name": "python",
   "nbconvert_exporter": "python",
   "pygments_lexer": "ipython3",
   "version": "3.9.12"
  }
 },
 "nbformat": 4,
 "nbformat_minor": 5
}
