{
 "cells": [
  {
   "cell_type": "markdown",
   "id": "1bae715f",
   "metadata": {},
   "source": [
    "Loan Application Status Prediction\n",
    "Project Description\n",
    "This dataset includes details of applicants who have applied for loan. The dataset includes details like credit history, loan amount, their income, dependents etc. \n",
    "Independent Variables:\n",
    "1.\tLoan_ID - This refer to the unique identifier of the applicant's affirmed purchases\n",
    "2.\tGender - This refers to either of the two main categories (male and female) into which applicants are divided on the basis of their reproductive functions\n",
    "3.\tMarried - This refers to applicant being in a state of matrimony\n",
    "4.\tDependents - This refres to persons who depends on the applicants for survival\n",
    "5.\tEducation - This refers to number of years in which applicant received systematic instruction, especially at a school or university\n",
    "6.\tSelf_Employed - This refers to applicant working for oneself as a freelancer or the owner of a business rather than for an employer\n",
    "7.\tApplicant Income - This refers to disposable income available for the applicant's use under State law.\n",
    "8.\tCoapplicantIncome - This refers to disposable income available for the people that participate in the loan application process alongside the main applicant use under State law.\n",
    "9.\tLoan_Amount - This refers to the amount of money an applicant owe at any given time.\n",
    "10.\tLoan_Amount_Term - This refers to the duaration in which the loan is availed to the applicant\n",
    "11.\tCredit History - This refers to a record of applicant's ability to repay debts and demonstrated responsibility in repaying them.\n",
    "12.\tProperty_Area - This refers to the total area within the boundaries of the property as set out in Schedule.\n",
    "13.\tLoan_Status - This refres to whether applicant is eligible to be availed the Loan requested.\n",
    "You have to build a model that can predict whether the loan of the applicant will be approved(Loan_status) or not on the basis of the details provided in the dataset. \n"
   ]
  },
  {
   "cell_type": "code",
   "execution_count": 1,
   "id": "276fb6f0",
   "metadata": {},
   "outputs": [],
   "source": [
    "#importing necessary Libraries.\n",
    "import pandas as pd\n",
    "import numpy as np\n",
    "import matplotlib.pyplot as plt\n",
    "import seaborn as sns\n",
    "%matplotlib inline"
   ]
  },
  {
   "cell_type": "code",
   "execution_count": 2,
   "id": "9df8416f",
   "metadata": {},
   "outputs": [],
   "source": [
    "import warnings\n",
    "warnings.filterwarnings('ignore')"
   ]
  },
  {
   "cell_type": "code",
   "execution_count": 3,
   "id": "5aeebe1f",
   "metadata": {},
   "outputs": [],
   "source": [
    "#importing the Dataset."
   ]
  },
  {
   "cell_type": "code",
   "execution_count": 4,
   "id": "f021d6d5",
   "metadata": {},
   "outputs": [
    {
     "data": {
      "text/html": [
       "<div>\n",
       "<style scoped>\n",
       "    .dataframe tbody tr th:only-of-type {\n",
       "        vertical-align: middle;\n",
       "    }\n",
       "\n",
       "    .dataframe tbody tr th {\n",
       "        vertical-align: top;\n",
       "    }\n",
       "\n",
       "    .dataframe thead th {\n",
       "        text-align: right;\n",
       "    }\n",
       "</style>\n",
       "<table border=\"1\" class=\"dataframe\">\n",
       "  <thead>\n",
       "    <tr style=\"text-align: right;\">\n",
       "      <th></th>\n",
       "      <th>Loan_ID</th>\n",
       "      <th>Gender</th>\n",
       "      <th>Married</th>\n",
       "      <th>Dependents</th>\n",
       "      <th>Education</th>\n",
       "      <th>Self_Employed</th>\n",
       "      <th>ApplicantIncome</th>\n",
       "      <th>CoapplicantIncome</th>\n",
       "      <th>LoanAmount</th>\n",
       "      <th>Loan_Amount_Term</th>\n",
       "      <th>Credit_History</th>\n",
       "      <th>Property_Area</th>\n",
       "      <th>Loan_Status</th>\n",
       "    </tr>\n",
       "  </thead>\n",
       "  <tbody>\n",
       "    <tr>\n",
       "      <th>0</th>\n",
       "      <td>LP001002</td>\n",
       "      <td>Male</td>\n",
       "      <td>No</td>\n",
       "      <td>0</td>\n",
       "      <td>Graduate</td>\n",
       "      <td>No</td>\n",
       "      <td>5849</td>\n",
       "      <td>0.0</td>\n",
       "      <td>NaN</td>\n",
       "      <td>360.0</td>\n",
       "      <td>1.0</td>\n",
       "      <td>Urban</td>\n",
       "      <td>Y</td>\n",
       "    </tr>\n",
       "    <tr>\n",
       "      <th>1</th>\n",
       "      <td>LP001003</td>\n",
       "      <td>Male</td>\n",
       "      <td>Yes</td>\n",
       "      <td>1</td>\n",
       "      <td>Graduate</td>\n",
       "      <td>No</td>\n",
       "      <td>4583</td>\n",
       "      <td>1508.0</td>\n",
       "      <td>128.0</td>\n",
       "      <td>360.0</td>\n",
       "      <td>1.0</td>\n",
       "      <td>Rural</td>\n",
       "      <td>N</td>\n",
       "    </tr>\n",
       "    <tr>\n",
       "      <th>2</th>\n",
       "      <td>LP001005</td>\n",
       "      <td>Male</td>\n",
       "      <td>Yes</td>\n",
       "      <td>0</td>\n",
       "      <td>Graduate</td>\n",
       "      <td>Yes</td>\n",
       "      <td>3000</td>\n",
       "      <td>0.0</td>\n",
       "      <td>66.0</td>\n",
       "      <td>360.0</td>\n",
       "      <td>1.0</td>\n",
       "      <td>Urban</td>\n",
       "      <td>Y</td>\n",
       "    </tr>\n",
       "    <tr>\n",
       "      <th>3</th>\n",
       "      <td>LP001006</td>\n",
       "      <td>Male</td>\n",
       "      <td>Yes</td>\n",
       "      <td>0</td>\n",
       "      <td>Not Graduate</td>\n",
       "      <td>No</td>\n",
       "      <td>2583</td>\n",
       "      <td>2358.0</td>\n",
       "      <td>120.0</td>\n",
       "      <td>360.0</td>\n",
       "      <td>1.0</td>\n",
       "      <td>Urban</td>\n",
       "      <td>Y</td>\n",
       "    </tr>\n",
       "    <tr>\n",
       "      <th>4</th>\n",
       "      <td>LP001008</td>\n",
       "      <td>Male</td>\n",
       "      <td>No</td>\n",
       "      <td>0</td>\n",
       "      <td>Graduate</td>\n",
       "      <td>No</td>\n",
       "      <td>6000</td>\n",
       "      <td>0.0</td>\n",
       "      <td>141.0</td>\n",
       "      <td>360.0</td>\n",
       "      <td>1.0</td>\n",
       "      <td>Urban</td>\n",
       "      <td>Y</td>\n",
       "    </tr>\n",
       "    <tr>\n",
       "      <th>...</th>\n",
       "      <td>...</td>\n",
       "      <td>...</td>\n",
       "      <td>...</td>\n",
       "      <td>...</td>\n",
       "      <td>...</td>\n",
       "      <td>...</td>\n",
       "      <td>...</td>\n",
       "      <td>...</td>\n",
       "      <td>...</td>\n",
       "      <td>...</td>\n",
       "      <td>...</td>\n",
       "      <td>...</td>\n",
       "      <td>...</td>\n",
       "    </tr>\n",
       "    <tr>\n",
       "      <th>609</th>\n",
       "      <td>LP002978</td>\n",
       "      <td>Female</td>\n",
       "      <td>No</td>\n",
       "      <td>0</td>\n",
       "      <td>Graduate</td>\n",
       "      <td>No</td>\n",
       "      <td>2900</td>\n",
       "      <td>0.0</td>\n",
       "      <td>71.0</td>\n",
       "      <td>360.0</td>\n",
       "      <td>1.0</td>\n",
       "      <td>Rural</td>\n",
       "      <td>Y</td>\n",
       "    </tr>\n",
       "    <tr>\n",
       "      <th>610</th>\n",
       "      <td>LP002979</td>\n",
       "      <td>Male</td>\n",
       "      <td>Yes</td>\n",
       "      <td>3+</td>\n",
       "      <td>Graduate</td>\n",
       "      <td>No</td>\n",
       "      <td>4106</td>\n",
       "      <td>0.0</td>\n",
       "      <td>40.0</td>\n",
       "      <td>180.0</td>\n",
       "      <td>1.0</td>\n",
       "      <td>Rural</td>\n",
       "      <td>Y</td>\n",
       "    </tr>\n",
       "    <tr>\n",
       "      <th>611</th>\n",
       "      <td>LP002983</td>\n",
       "      <td>Male</td>\n",
       "      <td>Yes</td>\n",
       "      <td>1</td>\n",
       "      <td>Graduate</td>\n",
       "      <td>No</td>\n",
       "      <td>8072</td>\n",
       "      <td>240.0</td>\n",
       "      <td>253.0</td>\n",
       "      <td>360.0</td>\n",
       "      <td>1.0</td>\n",
       "      <td>Urban</td>\n",
       "      <td>Y</td>\n",
       "    </tr>\n",
       "    <tr>\n",
       "      <th>612</th>\n",
       "      <td>LP002984</td>\n",
       "      <td>Male</td>\n",
       "      <td>Yes</td>\n",
       "      <td>2</td>\n",
       "      <td>Graduate</td>\n",
       "      <td>No</td>\n",
       "      <td>7583</td>\n",
       "      <td>0.0</td>\n",
       "      <td>187.0</td>\n",
       "      <td>360.0</td>\n",
       "      <td>1.0</td>\n",
       "      <td>Urban</td>\n",
       "      <td>Y</td>\n",
       "    </tr>\n",
       "    <tr>\n",
       "      <th>613</th>\n",
       "      <td>LP002990</td>\n",
       "      <td>Female</td>\n",
       "      <td>No</td>\n",
       "      <td>0</td>\n",
       "      <td>Graduate</td>\n",
       "      <td>Yes</td>\n",
       "      <td>4583</td>\n",
       "      <td>0.0</td>\n",
       "      <td>133.0</td>\n",
       "      <td>360.0</td>\n",
       "      <td>0.0</td>\n",
       "      <td>Semiurban</td>\n",
       "      <td>N</td>\n",
       "    </tr>\n",
       "  </tbody>\n",
       "</table>\n",
       "<p>614 rows × 13 columns</p>\n",
       "</div>"
      ],
      "text/plain": [
       "      Loan_ID  Gender Married Dependents     Education Self_Employed  \\\n",
       "0    LP001002    Male      No          0      Graduate            No   \n",
       "1    LP001003    Male     Yes          1      Graduate            No   \n",
       "2    LP001005    Male     Yes          0      Graduate           Yes   \n",
       "3    LP001006    Male     Yes          0  Not Graduate            No   \n",
       "4    LP001008    Male      No          0      Graduate            No   \n",
       "..        ...     ...     ...        ...           ...           ...   \n",
       "609  LP002978  Female      No          0      Graduate            No   \n",
       "610  LP002979    Male     Yes         3+      Graduate            No   \n",
       "611  LP002983    Male     Yes          1      Graduate            No   \n",
       "612  LP002984    Male     Yes          2      Graduate            No   \n",
       "613  LP002990  Female      No          0      Graduate           Yes   \n",
       "\n",
       "     ApplicantIncome  CoapplicantIncome  LoanAmount  Loan_Amount_Term  \\\n",
       "0               5849                0.0         NaN             360.0   \n",
       "1               4583             1508.0       128.0             360.0   \n",
       "2               3000                0.0        66.0             360.0   \n",
       "3               2583             2358.0       120.0             360.0   \n",
       "4               6000                0.0       141.0             360.0   \n",
       "..               ...                ...         ...               ...   \n",
       "609             2900                0.0        71.0             360.0   \n",
       "610             4106                0.0        40.0             180.0   \n",
       "611             8072              240.0       253.0             360.0   \n",
       "612             7583                0.0       187.0             360.0   \n",
       "613             4583                0.0       133.0             360.0   \n",
       "\n",
       "     Credit_History Property_Area Loan_Status  \n",
       "0               1.0         Urban           Y  \n",
       "1               1.0         Rural           N  \n",
       "2               1.0         Urban           Y  \n",
       "3               1.0         Urban           Y  \n",
       "4               1.0         Urban           Y  \n",
       "..              ...           ...         ...  \n",
       "609             1.0         Rural           Y  \n",
       "610             1.0         Rural           Y  \n",
       "611             1.0         Urban           Y  \n",
       "612             1.0         Urban           Y  \n",
       "613             0.0     Semiurban           N  \n",
       "\n",
       "[614 rows x 13 columns]"
      ]
     },
     "execution_count": 4,
     "metadata": {},
     "output_type": "execute_result"
    }
   ],
   "source": [
    "df=pd.read_csv('https://raw.githubusercontent.com/dsrscientist/DSData/master/loan_prediction.csv')\n",
    "df"
   ]
  },
  {
   "cell_type": "code",
   "execution_count": 5,
   "id": "e4f82d84",
   "metadata": {},
   "outputs": [],
   "source": [
    "# predicition of Loan status is the classification pblm.,\n",
    "#Loan_Status is our Target Variable."
   ]
  },
  {
   "cell_type": "code",
   "execution_count": 6,
   "id": "858b31f2",
   "metadata": {},
   "outputs": [
    {
     "data": {
      "text/plain": [
       "(614, 13)"
      ]
     },
     "execution_count": 6,
     "metadata": {},
     "output_type": "execute_result"
    }
   ],
   "source": [
    "df.shape"
   ]
  },
  {
   "cell_type": "code",
   "execution_count": 7,
   "id": "5089b9da",
   "metadata": {},
   "outputs": [],
   "source": [
    "# we have 614 rows and 13 columns."
   ]
  },
  {
   "cell_type": "code",
   "execution_count": 8,
   "id": "7248fafd",
   "metadata": {},
   "outputs": [
    {
     "data": {
      "text/plain": [
       "Index(['Loan_ID', 'Gender', 'Married', 'Dependents', 'Education',\n",
       "       'Self_Employed', 'ApplicantIncome', 'CoapplicantIncome', 'LoanAmount',\n",
       "       'Loan_Amount_Term', 'Credit_History', 'Property_Area', 'Loan_Status'],\n",
       "      dtype='object')"
      ]
     },
     "execution_count": 8,
     "metadata": {},
     "output_type": "execute_result"
    }
   ],
   "source": [
    "# To check columns name.\n",
    "df.columns"
   ]
  },
  {
   "cell_type": "code",
   "execution_count": 9,
   "id": "e874d106",
   "metadata": {},
   "outputs": [
    {
     "name": "stdout",
     "output_type": "stream",
     "text": [
      "<class 'pandas.core.frame.DataFrame'>\n",
      "RangeIndex: 614 entries, 0 to 613\n",
      "Data columns (total 13 columns):\n",
      " #   Column             Non-Null Count  Dtype  \n",
      "---  ------             --------------  -----  \n",
      " 0   Loan_ID            614 non-null    object \n",
      " 1   Gender             601 non-null    object \n",
      " 2   Married            611 non-null    object \n",
      " 3   Dependents         599 non-null    object \n",
      " 4   Education          614 non-null    object \n",
      " 5   Self_Employed      582 non-null    object \n",
      " 6   ApplicantIncome    614 non-null    int64  \n",
      " 7   CoapplicantIncome  614 non-null    float64\n",
      " 8   LoanAmount         592 non-null    float64\n",
      " 9   Loan_Amount_Term   600 non-null    float64\n",
      " 10  Credit_History     564 non-null    float64\n",
      " 11  Property_Area      614 non-null    object \n",
      " 12  Loan_Status        614 non-null    object \n",
      "dtypes: float64(4), int64(1), object(8)\n",
      "memory usage: 62.5+ KB\n"
     ]
    }
   ],
   "source": [
    "# To check the Info\n",
    "df.info()"
   ]
  },
  {
   "cell_type": "code",
   "execution_count": 10,
   "id": "60a89b17",
   "metadata": {},
   "outputs": [],
   "source": [
    "# we have 04 float(64) values,01 int64 and 08 object columns.\n",
    "# I can see Null values in the columns,will analyze further."
   ]
  },
  {
   "cell_type": "code",
   "execution_count": 11,
   "id": "2e9925a4",
   "metadata": {},
   "outputs": [],
   "source": [
    "#Information about columns:\n",
    "# Loan Id: Gives unique loan no\n",
    "# Gender: Gender of the Applicant\n",
    "# Married: Marital status of the Applicant.\n",
    "# Dependents:How many dependents are there for the applicant.\n",
    "# Education:Educational qualification of the Applicant.\n",
    "# Self_employed : whether he is self employed or not.\n",
    "# Applicant Income: The total income of the Applicant.\n",
    "# Coapplicant Income:if the applicant is having coapplicant,then their income is mentioned in this column\n",
    "# Loan Amount: amount for which Loan is applied.\n",
    "# Loan_Amount_Term:Tenure for paying the Loan.\n",
    "# Credit _History:Applicant elligibility to repay the debts.\n",
    "# Property_Area: Area of which the loan is applied for\n",
    "# Loan_status: Whether loan is eligible for them."
   ]
  },
  {
   "cell_type": "markdown",
   "id": "e0c818bb",
   "metadata": {},
   "source": [
    "# Data intergrity Check"
   ]
  },
  {
   "cell_type": "code",
   "execution_count": 12,
   "id": "0bcce7ea",
   "metadata": {},
   "outputs": [
    {
     "data": {
      "text/plain": [
       "Loan_ID               0\n",
       "Gender               13\n",
       "Married               3\n",
       "Dependents           15\n",
       "Education             0\n",
       "Self_Employed        32\n",
       "ApplicantIncome       0\n",
       "CoapplicantIncome     0\n",
       "LoanAmount           22\n",
       "Loan_Amount_Term     14\n",
       "Credit_History       50\n",
       "Property_Area         0\n",
       "Loan_Status           0\n",
       "dtype: int64"
      ]
     },
     "execution_count": 12,
     "metadata": {},
     "output_type": "execute_result"
    }
   ],
   "source": [
    "# To Check Null Values.\n",
    "\n",
    "df.isnull().sum()           "
   ]
  },
  {
   "cell_type": "code",
   "execution_count": 13,
   "id": "f01ffacf",
   "metadata": {},
   "outputs": [
    {
     "data": {
      "text/plain": [
       "149"
      ]
     },
     "execution_count": 13,
     "metadata": {},
     "output_type": "execute_result"
    }
   ],
   "source": [
    "df.isnull().sum().sum()"
   ]
  },
  {
   "cell_type": "code",
   "execution_count": 14,
   "id": "221604e4",
   "metadata": {},
   "outputs": [],
   "source": [
    "# we have 149 Null values in the total Data set.\n"
   ]
  },
  {
   "cell_type": "code",
   "execution_count": 15,
   "id": "27846ab9",
   "metadata": {},
   "outputs": [],
   "source": [
    "# To check for widespace,special characters in the Dataset."
   ]
  },
  {
   "cell_type": "code",
   "execution_count": 16,
   "id": "d712d819",
   "metadata": {},
   "outputs": [
    {
     "data": {
      "text/plain": [
       "0"
      ]
     },
     "execution_count": 16,
     "metadata": {},
     "output_type": "execute_result"
    }
   ],
   "source": [
    "df.isin(['NA','n/a','-',',','?',' ']).any().sum()"
   ]
  },
  {
   "cell_type": "code",
   "execution_count": 17,
   "id": "0cbd0701",
   "metadata": {},
   "outputs": [],
   "source": [
    "# There is No special Characters in the Dataset."
   ]
  },
  {
   "cell_type": "code",
   "execution_count": 18,
   "id": "d659cba6",
   "metadata": {},
   "outputs": [
    {
     "data": {
      "text/plain": [
       "Loan_ID              614\n",
       "Gender                 2\n",
       "Married                2\n",
       "Dependents             4\n",
       "Education              2\n",
       "Self_Employed          2\n",
       "ApplicantIncome      505\n",
       "CoapplicantIncome    287\n",
       "LoanAmount           203\n",
       "Loan_Amount_Term      10\n",
       "Credit_History         2\n",
       "Property_Area          3\n",
       "Loan_Status            2\n",
       "dtype: int64"
      ]
     },
     "execution_count": 18,
     "metadata": {},
     "output_type": "execute_result"
    }
   ],
   "source": [
    "# To Check the Number of Unique values present in the Dataset.\n",
    "df.nunique()"
   ]
  },
  {
   "cell_type": "markdown",
   "id": "879d258c",
   "metadata": {},
   "source": [
    "# Null Values handling."
   ]
  },
  {
   "cell_type": "code",
   "execution_count": 19,
   "id": "f3ea8098",
   "metadata": {},
   "outputs": [
    {
     "data": {
      "text/plain": [
       "Loan_ID               0\n",
       "Gender               13\n",
       "Married               3\n",
       "Dependents           15\n",
       "Education             0\n",
       "Self_Employed        32\n",
       "ApplicantIncome       0\n",
       "CoapplicantIncome     0\n",
       "LoanAmount           22\n",
       "Loan_Amount_Term     14\n",
       "Credit_History       50\n",
       "Property_Area         0\n",
       "Loan_Status           0\n",
       "dtype: int64"
      ]
     },
     "execution_count": 19,
     "metadata": {},
     "output_type": "execute_result"
    }
   ],
   "source": [
    "df.isnull().sum()"
   ]
  },
  {
   "cell_type": "code",
   "execution_count": 20,
   "id": "efa90d1e",
   "metadata": {},
   "outputs": [
    {
     "data": {
      "text/plain": [
       "array(['Male', 'Female', nan], dtype=object)"
      ]
     },
     "execution_count": 20,
     "metadata": {},
     "output_type": "execute_result"
    }
   ],
   "source": [
    "df['Gender'].unique()"
   ]
  },
  {
   "cell_type": "code",
   "execution_count": 21,
   "id": "1404f7ba",
   "metadata": {},
   "outputs": [
    {
     "data": {
      "text/plain": [
       "0        Male\n",
       "1        Male\n",
       "2        Male\n",
       "3        Male\n",
       "4        Male\n",
       "        ...  \n",
       "609    Female\n",
       "610      Male\n",
       "611      Male\n",
       "612      Male\n",
       "613    Female\n",
       "Name: Gender, Length: 614, dtype: object"
      ]
     },
     "execution_count": 21,
     "metadata": {},
     "output_type": "execute_result"
    }
   ],
   "source": [
    "# since the Gender is categorical in nature,we replace the Nan Value with mode option.\n",
    "df['Gender']=df['Gender'].fillna(df['Gender'].mode()[0])\n",
    "df['Gender']"
   ]
  },
  {
   "cell_type": "code",
   "execution_count": 22,
   "id": "c35c16fe",
   "metadata": {},
   "outputs": [
    {
     "data": {
      "text/plain": [
       "Male      502\n",
       "Female    112\n",
       "Name: Gender, dtype: int64"
      ]
     },
     "execution_count": 22,
     "metadata": {},
     "output_type": "execute_result"
    }
   ],
   "source": [
    "# after replacing checking the Value_counts\n",
    "df['Gender'].value_counts()"
   ]
  },
  {
   "cell_type": "code",
   "execution_count": 23,
   "id": "f87ffba5",
   "metadata": {},
   "outputs": [
    {
     "data": {
      "text/plain": [
       "array(['0', '1', '2', '3+', nan], dtype=object)"
      ]
     },
     "execution_count": 23,
     "metadata": {},
     "output_type": "execute_result"
    }
   ],
   "source": [
    "df['Dependents'].unique()"
   ]
  },
  {
   "cell_type": "code",
   "execution_count": 24,
   "id": "7d30efde",
   "metadata": {},
   "outputs": [],
   "source": [
    "df['Dependents']=df['Dependents'].fillna(df['Dependents'].mode()[0])#replacing the Null values with mode option."
   ]
  },
  {
   "cell_type": "code",
   "execution_count": 25,
   "id": "5bd250d5",
   "metadata": {},
   "outputs": [
    {
     "data": {
      "text/plain": [
       "0       0\n",
       "1       1\n",
       "2       0\n",
       "3       0\n",
       "4       0\n",
       "       ..\n",
       "609     0\n",
       "610    3+\n",
       "611     1\n",
       "612     2\n",
       "613     0\n",
       "Name: Dependents, Length: 614, dtype: object"
      ]
     },
     "execution_count": 25,
     "metadata": {},
     "output_type": "execute_result"
    }
   ],
   "source": [
    "df['Dependents']# Rechecking after replaced."
   ]
  },
  {
   "cell_type": "code",
   "execution_count": 26,
   "id": "9b998cff",
   "metadata": {},
   "outputs": [
    {
     "data": {
      "text/plain": [
       "0     360\n",
       "1     102\n",
       "2     101\n",
       "3+     51\n",
       "Name: Dependents, dtype: int64"
      ]
     },
     "execution_count": 26,
     "metadata": {},
     "output_type": "execute_result"
    }
   ],
   "source": [
    "df['Dependents'].value_counts()# Checking the Value counts."
   ]
  },
  {
   "cell_type": "code",
   "execution_count": 27,
   "id": "46a3264d",
   "metadata": {},
   "outputs": [
    {
     "data": {
      "text/plain": [
       "array(['No', 'Yes', nan], dtype=object)"
      ]
     },
     "execution_count": 27,
     "metadata": {},
     "output_type": "execute_result"
    }
   ],
   "source": [
    "df['Self_Employed'].unique()# checking unique values"
   ]
  },
  {
   "cell_type": "code",
   "execution_count": 28,
   "id": "3b841ad3",
   "metadata": {},
   "outputs": [
    {
     "data": {
      "text/plain": [
       "0       No\n",
       "1       No\n",
       "2      Yes\n",
       "3       No\n",
       "4       No\n",
       "      ... \n",
       "609     No\n",
       "610     No\n",
       "611     No\n",
       "612     No\n",
       "613    Yes\n",
       "Name: Self_Employed, Length: 614, dtype: object"
      ]
     },
     "execution_count": 28,
     "metadata": {},
     "output_type": "execute_result"
    }
   ],
   "source": [
    "df['Self_Employed']=df['Self_Employed'].fillna(df['Self_Employed'].mode()[0])# replacing the null values with mode.\n",
    "df['Self_Employed']"
   ]
  },
  {
   "cell_type": "code",
   "execution_count": 29,
   "id": "c5dc0aab",
   "metadata": {},
   "outputs": [
    {
     "data": {
      "text/plain": [
       "No     532\n",
       "Yes     82\n",
       "Name: Self_Employed, dtype: int64"
      ]
     },
     "execution_count": 29,
     "metadata": {},
     "output_type": "execute_result"
    }
   ],
   "source": [
    "df['Self_Employed'].value_counts()# rechecking the value counts after replacing Nan"
   ]
  },
  {
   "cell_type": "code",
   "execution_count": 30,
   "id": "2862fbd9",
   "metadata": {},
   "outputs": [
    {
     "data": {
      "text/plain": [
       "array([ nan, 128.,  66., 120., 141., 267.,  95., 158., 168., 349.,  70.,\n",
       "       109., 200., 114.,  17., 125., 100.,  76., 133., 115., 104., 315.,\n",
       "       116., 112., 151., 191., 122., 110.,  35., 201.,  74., 106., 320.,\n",
       "       144., 184.,  80.,  47.,  75., 134.,  96.,  88.,  44., 286.,  97.,\n",
       "       135., 180.,  99., 165., 258., 126., 312., 136., 172.,  81., 187.,\n",
       "       113., 176., 130., 111., 167., 265.,  50., 210., 175., 131., 188.,\n",
       "        25., 137., 160., 225., 216.,  94., 139., 152., 118., 185., 154.,\n",
       "        85., 259., 194.,  93., 370., 182., 650., 102., 290.,  84., 242.,\n",
       "       129.,  30., 244., 600., 255.,  98., 275., 121.,  63., 700.,  87.,\n",
       "       101., 495.,  67.,  73., 260., 108.,  58.,  48., 164., 170.,  83.,\n",
       "        90., 166., 124.,  55.,  59., 127., 214., 240.,  72.,  60., 138.,\n",
       "        42., 280., 140., 155., 123., 279., 192., 304., 330., 150., 207.,\n",
       "       436.,  78.,  54.,  89., 143., 105., 132., 480.,  56., 159., 300.,\n",
       "       376., 117.,  71., 490., 173.,  46., 228., 308., 236., 570., 380.,\n",
       "       296., 156., 103.,  45.,  65.,  53., 360.,  62., 218., 178., 239.,\n",
       "       405., 148., 190., 149., 153., 162., 230.,  86., 234., 246., 500.,\n",
       "       186., 119., 107., 209., 208., 243.,  40., 250., 311., 400., 161.,\n",
       "       196., 324., 157., 145., 181.,  26., 211.,   9., 205.,  36.,  61.,\n",
       "       146., 292., 142., 350., 496., 253.])"
      ]
     },
     "execution_count": 30,
     "metadata": {},
     "output_type": "execute_result"
    }
   ],
   "source": [
    "df['LoanAmount'].unique()"
   ]
  },
  {
   "cell_type": "code",
   "execution_count": 31,
   "id": "5bdb77d8",
   "metadata": {},
   "outputs": [],
   "source": [
    "# Since the values are continous in nature ,replacing the Null values with mean."
   ]
  },
  {
   "cell_type": "code",
   "execution_count": 32,
   "id": "f311c108",
   "metadata": {},
   "outputs": [
    {
     "data": {
      "text/plain": [
       "0      146.412162\n",
       "1      128.000000\n",
       "2       66.000000\n",
       "3      120.000000\n",
       "4      141.000000\n",
       "          ...    \n",
       "609     71.000000\n",
       "610     40.000000\n",
       "611    253.000000\n",
       "612    187.000000\n",
       "613    133.000000\n",
       "Name: LoanAmount, Length: 614, dtype: float64"
      ]
     },
     "execution_count": 32,
     "metadata": {},
     "output_type": "execute_result"
    }
   ],
   "source": [
    "df['LoanAmount']=df['LoanAmount'].fillna(df['LoanAmount'].mean())\n",
    "df['LoanAmount']"
   ]
  },
  {
   "cell_type": "code",
   "execution_count": 33,
   "id": "2f5e6831",
   "metadata": {},
   "outputs": [
    {
     "data": {
      "text/plain": [
       "0"
      ]
     },
     "execution_count": 33,
     "metadata": {},
     "output_type": "execute_result"
    }
   ],
   "source": [
    "df['LoanAmount'].isnull().sum()"
   ]
  },
  {
   "cell_type": "code",
   "execution_count": 34,
   "id": "45873ccf",
   "metadata": {},
   "outputs": [
    {
     "data": {
      "text/plain": [
       "array([360., 120., 240.,  nan, 180.,  60., 300., 480.,  36.,  84.,  12.])"
      ]
     },
     "execution_count": 34,
     "metadata": {},
     "output_type": "execute_result"
    }
   ],
   "source": [
    "df['Loan_Amount_Term'].unique()"
   ]
  },
  {
   "cell_type": "code",
   "execution_count": 35,
   "id": "9dacc6c1",
   "metadata": {},
   "outputs": [],
   "source": [
    "# Since the values are continous in nature ,replacing the Null values with mean."
   ]
  },
  {
   "cell_type": "code",
   "execution_count": 36,
   "id": "6701dc14",
   "metadata": {},
   "outputs": [
    {
     "data": {
      "text/plain": [
       "0      360.0\n",
       "1      360.0\n",
       "2      360.0\n",
       "3      360.0\n",
       "4      360.0\n",
       "       ...  \n",
       "609    360.0\n",
       "610    180.0\n",
       "611    360.0\n",
       "612    360.0\n",
       "613    360.0\n",
       "Name: Loan_Amount_Term, Length: 614, dtype: float64"
      ]
     },
     "execution_count": 36,
     "metadata": {},
     "output_type": "execute_result"
    }
   ],
   "source": [
    "df['Loan_Amount_Term']=df['Loan_Amount_Term'].fillna(df['Loan_Amount_Term'].mean())\n",
    "df['Loan_Amount_Term']"
   ]
  },
  {
   "cell_type": "code",
   "execution_count": 37,
   "id": "566c073f",
   "metadata": {},
   "outputs": [
    {
     "data": {
      "text/plain": [
       "360.0    512\n",
       "180.0     44\n",
       "480.0     15\n",
       "342.0     14\n",
       "300.0     13\n",
       "240.0      4\n",
       "84.0       4\n",
       "120.0      3\n",
       "60.0       2\n",
       "36.0       2\n",
       "12.0       1\n",
       "Name: Loan_Amount_Term, dtype: int64"
      ]
     },
     "execution_count": 37,
     "metadata": {},
     "output_type": "execute_result"
    }
   ],
   "source": [
    "df['Loan_Amount_Term'].value_counts()"
   ]
  },
  {
   "cell_type": "code",
   "execution_count": 38,
   "id": "86b70198",
   "metadata": {},
   "outputs": [
    {
     "data": {
      "text/plain": [
       "0"
      ]
     },
     "execution_count": 38,
     "metadata": {},
     "output_type": "execute_result"
    }
   ],
   "source": [
    "df['Loan_Amount_Term'].isnull().sum()"
   ]
  },
  {
   "cell_type": "code",
   "execution_count": 39,
   "id": "cd285d3d",
   "metadata": {},
   "outputs": [
    {
     "data": {
      "text/plain": [
       "array([ 1.,  0., nan])"
      ]
     },
     "execution_count": 39,
     "metadata": {},
     "output_type": "execute_result"
    }
   ],
   "source": [
    "df['Credit_History'].unique()"
   ]
  },
  {
   "cell_type": "code",
   "execution_count": 40,
   "id": "06671547",
   "metadata": {},
   "outputs": [],
   "source": [
    "# Replacing the Null values with mode."
   ]
  },
  {
   "cell_type": "code",
   "execution_count": 41,
   "id": "de7f6183",
   "metadata": {},
   "outputs": [
    {
     "data": {
      "text/plain": [
       "0      1.0\n",
       "1      1.0\n",
       "2      1.0\n",
       "3      1.0\n",
       "4      1.0\n",
       "      ... \n",
       "609    1.0\n",
       "610    1.0\n",
       "611    1.0\n",
       "612    1.0\n",
       "613    0.0\n",
       "Name: Credit_History, Length: 614, dtype: float64"
      ]
     },
     "execution_count": 41,
     "metadata": {},
     "output_type": "execute_result"
    }
   ],
   "source": [
    "df['Credit_History']=df['Credit_History'].fillna(df['Credit_History'].mode()[0])\n",
    "df['Credit_History']"
   ]
  },
  {
   "cell_type": "code",
   "execution_count": 42,
   "id": "2e901bd2",
   "metadata": {},
   "outputs": [
    {
     "data": {
      "text/plain": [
       "1.0    525\n",
       "0.0     89\n",
       "Name: Credit_History, dtype: int64"
      ]
     },
     "execution_count": 42,
     "metadata": {},
     "output_type": "execute_result"
    }
   ],
   "source": [
    "df['Credit_History'].value_counts()"
   ]
  },
  {
   "cell_type": "code",
   "execution_count": 43,
   "id": "8a355759",
   "metadata": {},
   "outputs": [
    {
     "data": {
      "text/plain": [
       "Loan_ID              0\n",
       "Gender               0\n",
       "Married              3\n",
       "Dependents           0\n",
       "Education            0\n",
       "Self_Employed        0\n",
       "ApplicantIncome      0\n",
       "CoapplicantIncome    0\n",
       "LoanAmount           0\n",
       "Loan_Amount_Term     0\n",
       "Credit_History       0\n",
       "Property_Area        0\n",
       "Loan_Status          0\n",
       "dtype: int64"
      ]
     },
     "execution_count": 43,
     "metadata": {},
     "output_type": "execute_result"
    }
   ],
   "source": [
    "# after replacing the Null values,rechecking the same.\n",
    "df.isnull().sum()"
   ]
  },
  {
   "cell_type": "code",
   "execution_count": 44,
   "id": "c3b4ae4c",
   "metadata": {},
   "outputs": [
    {
     "data": {
      "text/plain": [
       "0       No\n",
       "1      Yes\n",
       "2      Yes\n",
       "3      Yes\n",
       "4       No\n",
       "      ... \n",
       "609     No\n",
       "610    Yes\n",
       "611    Yes\n",
       "612    Yes\n",
       "613     No\n",
       "Name: Married, Length: 614, dtype: object"
      ]
     },
     "execution_count": 44,
     "metadata": {},
     "output_type": "execute_result"
    }
   ],
   "source": [
    "df['Married']=df['Married'].fillna(0)\n",
    "df['Married']"
   ]
  },
  {
   "cell_type": "code",
   "execution_count": 45,
   "id": "765a6ef6",
   "metadata": {},
   "outputs": [
    {
     "data": {
      "text/plain": [
       "Loan_ID              0\n",
       "Gender               0\n",
       "Married              0\n",
       "Dependents           0\n",
       "Education            0\n",
       "Self_Employed        0\n",
       "ApplicantIncome      0\n",
       "CoapplicantIncome    0\n",
       "LoanAmount           0\n",
       "Loan_Amount_Term     0\n",
       "Credit_History       0\n",
       "Property_Area        0\n",
       "Loan_Status          0\n",
       "dtype: int64"
      ]
     },
     "execution_count": 45,
     "metadata": {},
     "output_type": "execute_result"
    }
   ],
   "source": [
    "df.isnull().sum()# Rechecked all the columns,no null values present"
   ]
  },
  {
   "cell_type": "markdown",
   "id": "bc53d94a",
   "metadata": {},
   "source": [
    "# statistical summary"
   ]
  },
  {
   "cell_type": "code",
   "execution_count": 46,
   "id": "272523f6",
   "metadata": {},
   "outputs": [
    {
     "data": {
      "text/html": [
       "<div>\n",
       "<style scoped>\n",
       "    .dataframe tbody tr th:only-of-type {\n",
       "        vertical-align: middle;\n",
       "    }\n",
       "\n",
       "    .dataframe tbody tr th {\n",
       "        vertical-align: top;\n",
       "    }\n",
       "\n",
       "    .dataframe thead th {\n",
       "        text-align: right;\n",
       "    }\n",
       "</style>\n",
       "<table border=\"1\" class=\"dataframe\">\n",
       "  <thead>\n",
       "    <tr style=\"text-align: right;\">\n",
       "      <th></th>\n",
       "      <th>count</th>\n",
       "      <th>mean</th>\n",
       "      <th>std</th>\n",
       "      <th>min</th>\n",
       "      <th>25%</th>\n",
       "      <th>50%</th>\n",
       "      <th>75%</th>\n",
       "      <th>max</th>\n",
       "    </tr>\n",
       "  </thead>\n",
       "  <tbody>\n",
       "    <tr>\n",
       "      <th>ApplicantIncome</th>\n",
       "      <td>614.0</td>\n",
       "      <td>5403.459283</td>\n",
       "      <td>6109.041673</td>\n",
       "      <td>150.0</td>\n",
       "      <td>2877.50</td>\n",
       "      <td>3812.5</td>\n",
       "      <td>5795.00</td>\n",
       "      <td>81000.0</td>\n",
       "    </tr>\n",
       "    <tr>\n",
       "      <th>CoapplicantIncome</th>\n",
       "      <td>614.0</td>\n",
       "      <td>1621.245798</td>\n",
       "      <td>2926.248369</td>\n",
       "      <td>0.0</td>\n",
       "      <td>0.00</td>\n",
       "      <td>1188.5</td>\n",
       "      <td>2297.25</td>\n",
       "      <td>41667.0</td>\n",
       "    </tr>\n",
       "    <tr>\n",
       "      <th>LoanAmount</th>\n",
       "      <td>614.0</td>\n",
       "      <td>146.412162</td>\n",
       "      <td>84.037468</td>\n",
       "      <td>9.0</td>\n",
       "      <td>100.25</td>\n",
       "      <td>129.0</td>\n",
       "      <td>164.75</td>\n",
       "      <td>700.0</td>\n",
       "    </tr>\n",
       "    <tr>\n",
       "      <th>Loan_Amount_Term</th>\n",
       "      <td>614.0</td>\n",
       "      <td>342.000000</td>\n",
       "      <td>64.372489</td>\n",
       "      <td>12.0</td>\n",
       "      <td>360.00</td>\n",
       "      <td>360.0</td>\n",
       "      <td>360.00</td>\n",
       "      <td>480.0</td>\n",
       "    </tr>\n",
       "    <tr>\n",
       "      <th>Credit_History</th>\n",
       "      <td>614.0</td>\n",
       "      <td>0.855049</td>\n",
       "      <td>0.352339</td>\n",
       "      <td>0.0</td>\n",
       "      <td>1.00</td>\n",
       "      <td>1.0</td>\n",
       "      <td>1.00</td>\n",
       "      <td>1.0</td>\n",
       "    </tr>\n",
       "  </tbody>\n",
       "</table>\n",
       "</div>"
      ],
      "text/plain": [
       "                   count         mean          std    min      25%     50%  \\\n",
       "ApplicantIncome    614.0  5403.459283  6109.041673  150.0  2877.50  3812.5   \n",
       "CoapplicantIncome  614.0  1621.245798  2926.248369    0.0     0.00  1188.5   \n",
       "LoanAmount         614.0   146.412162    84.037468    9.0   100.25   129.0   \n",
       "Loan_Amount_Term   614.0   342.000000    64.372489   12.0   360.00   360.0   \n",
       "Credit_History     614.0     0.855049     0.352339    0.0     1.00     1.0   \n",
       "\n",
       "                       75%      max  \n",
       "ApplicantIncome    5795.00  81000.0  \n",
       "CoapplicantIncome  2297.25  41667.0  \n",
       "LoanAmount          164.75    700.0  \n",
       "Loan_Amount_Term    360.00    480.0  \n",
       "Credit_History        1.00      1.0  "
      ]
     },
     "execution_count": 46,
     "metadata": {},
     "output_type": "execute_result"
    }
   ],
   "source": [
    "df.describe().T"
   ]
  },
  {
   "cell_type": "code",
   "execution_count": 47,
   "id": "1ccbb2da",
   "metadata": {},
   "outputs": [],
   "source": [
    "# observations:\n",
    "# The count is same on all the columns.\n",
    "# The STD values is higher than mean ,which means skewness is present.\n",
    "# The 75% and mzx is very high,which means outliers is present."
   ]
  },
  {
   "cell_type": "code",
   "execution_count": 48,
   "id": "f0f6ae42",
   "metadata": {},
   "outputs": [
    {
     "data": {
      "image/png": "[encoded data removed]",
      "text/plain": [
       "<Figure size 1080x1440 with 2 Axes>"
      ]
     },
     "metadata": {
      "needs_background": "light"
     },
     "output_type": "display_data"
    }
   ],
   "source": [
    "# Visualizing the statistical summary.\n",
    "stat=df.describe().T\n",
    "plt.figure(figsize=(15,20))\n",
    "sns.heatmap(data=stat,annot=True,linewidths=0.5)\n",
    "plt.show()"
   ]
  },
  {
   "cell_type": "code",
   "execution_count": 49,
   "id": "6faed533",
   "metadata": {},
   "outputs": [],
   "source": [
    "# applicant income and the coapplicant income the values are high in range.,will analyze further."
   ]
  },
  {
   "cell_type": "markdown",
   "id": "f4c58165",
   "metadata": {},
   "source": [
    "# Categorising the column before EDA."
   ]
  },
  {
   "cell_type": "code",
   "execution_count": 50,
   "id": "918f8c6e",
   "metadata": {},
   "outputs": [
    {
     "data": {
      "text/plain": [
       "Index(['Loan_ID', 'Gender', 'Married', 'Dependents', 'Education',\n",
       "       'Self_Employed', 'ApplicantIncome', 'CoapplicantIncome', 'LoanAmount',\n",
       "       'Loan_Amount_Term', 'Credit_History', 'Property_Area', 'Loan_Status'],\n",
       "      dtype='object')"
      ]
     },
     "execution_count": 50,
     "metadata": {},
     "output_type": "execute_result"
    }
   ],
   "source": [
    "df.columns"
   ]
  },
  {
   "cell_type": "code",
   "execution_count": 51,
   "id": "3f668bfd",
   "metadata": {},
   "outputs": [],
   "source": [
    "df_numerical=df[['Loan_ID','ApplicantIncome','CoapplicantIncome','LoanAmount','Loan_Amount_Term']].copy()"
   ]
  },
  {
   "cell_type": "code",
   "execution_count": 52,
   "id": "9ba22563",
   "metadata": {},
   "outputs": [
    {
     "data": {
      "text/html": [
       "<div>\n",
       "<style scoped>\n",
       "    .dataframe tbody tr th:only-of-type {\n",
       "        vertical-align: middle;\n",
       "    }\n",
       "\n",
       "    .dataframe tbody tr th {\n",
       "        vertical-align: top;\n",
       "    }\n",
       "\n",
       "    .dataframe thead th {\n",
       "        text-align: right;\n",
       "    }\n",
       "</style>\n",
       "<table border=\"1\" class=\"dataframe\">\n",
       "  <thead>\n",
       "    <tr style=\"text-align: right;\">\n",
       "      <th></th>\n",
       "      <th>Loan_ID</th>\n",
       "      <th>ApplicantIncome</th>\n",
       "      <th>CoapplicantIncome</th>\n",
       "      <th>LoanAmount</th>\n",
       "      <th>Loan_Amount_Term</th>\n",
       "    </tr>\n",
       "  </thead>\n",
       "  <tbody>\n",
       "    <tr>\n",
       "      <th>0</th>\n",
       "      <td>LP001002</td>\n",
       "      <td>5849</td>\n",
       "      <td>0.0</td>\n",
       "      <td>146.412162</td>\n",
       "      <td>360.0</td>\n",
       "    </tr>\n",
       "    <tr>\n",
       "      <th>1</th>\n",
       "      <td>LP001003</td>\n",
       "      <td>4583</td>\n",
       "      <td>1508.0</td>\n",
       "      <td>128.000000</td>\n",
       "      <td>360.0</td>\n",
       "    </tr>\n",
       "    <tr>\n",
       "      <th>2</th>\n",
       "      <td>LP001005</td>\n",
       "      <td>3000</td>\n",
       "      <td>0.0</td>\n",
       "      <td>66.000000</td>\n",
       "      <td>360.0</td>\n",
       "    </tr>\n",
       "    <tr>\n",
       "      <th>3</th>\n",
       "      <td>LP001006</td>\n",
       "      <td>2583</td>\n",
       "      <td>2358.0</td>\n",
       "      <td>120.000000</td>\n",
       "      <td>360.0</td>\n",
       "    </tr>\n",
       "    <tr>\n",
       "      <th>4</th>\n",
       "      <td>LP001008</td>\n",
       "      <td>6000</td>\n",
       "      <td>0.0</td>\n",
       "      <td>141.000000</td>\n",
       "      <td>360.0</td>\n",
       "    </tr>\n",
       "    <tr>\n",
       "      <th>...</th>\n",
       "      <td>...</td>\n",
       "      <td>...</td>\n",
       "      <td>...</td>\n",
       "      <td>...</td>\n",
       "      <td>...</td>\n",
       "    </tr>\n",
       "    <tr>\n",
       "      <th>609</th>\n",
       "      <td>LP002978</td>\n",
       "      <td>2900</td>\n",
       "      <td>0.0</td>\n",
       "      <td>71.000000</td>\n",
       "      <td>360.0</td>\n",
       "    </tr>\n",
       "    <tr>\n",
       "      <th>610</th>\n",
       "      <td>LP002979</td>\n",
       "      <td>4106</td>\n",
       "      <td>0.0</td>\n",
       "      <td>40.000000</td>\n",
       "      <td>180.0</td>\n",
       "    </tr>\n",
       "    <tr>\n",
       "      <th>611</th>\n",
       "      <td>LP002983</td>\n",
       "      <td>8072</td>\n",
       "      <td>240.0</td>\n",
       "      <td>253.000000</td>\n",
       "      <td>360.0</td>\n",
       "    </tr>\n",
       "    <tr>\n",
       "      <th>612</th>\n",
       "      <td>LP002984</td>\n",
       "      <td>7583</td>\n",
       "      <td>0.0</td>\n",
       "      <td>187.000000</td>\n",
       "      <td>360.0</td>\n",
       "    </tr>\n",
       "    <tr>\n",
       "      <th>613</th>\n",
       "      <td>LP002990</td>\n",
       "      <td>4583</td>\n",
       "      <td>0.0</td>\n",
       "      <td>133.000000</td>\n",
       "      <td>360.0</td>\n",
       "    </tr>\n",
       "  </tbody>\n",
       "</table>\n",
       "<p>614 rows × 5 columns</p>\n",
       "</div>"
      ],
      "text/plain": [
       "      Loan_ID  ApplicantIncome  CoapplicantIncome  LoanAmount  \\\n",
       "0    LP001002             5849                0.0  146.412162   \n",
       "1    LP001003             4583             1508.0  128.000000   \n",
       "2    LP001005             3000                0.0   66.000000   \n",
       "3    LP001006             2583             2358.0  120.000000   \n",
       "4    LP001008             6000                0.0  141.000000   \n",
       "..        ...              ...                ...         ...   \n",
       "609  LP002978             2900                0.0   71.000000   \n",
       "610  LP002979             4106                0.0   40.000000   \n",
       "611  LP002983             8072              240.0  253.000000   \n",
       "612  LP002984             7583                0.0  187.000000   \n",
       "613  LP002990             4583                0.0  133.000000   \n",
       "\n",
       "     Loan_Amount_Term  \n",
       "0               360.0  \n",
       "1               360.0  \n",
       "2               360.0  \n",
       "3               360.0  \n",
       "4               360.0  \n",
       "..                ...  \n",
       "609             360.0  \n",
       "610             180.0  \n",
       "611             360.0  \n",
       "612             360.0  \n",
       "613             360.0  \n",
       "\n",
       "[614 rows x 5 columns]"
      ]
     },
     "execution_count": 52,
     "metadata": {},
     "output_type": "execute_result"
    }
   ],
   "source": [
    "df_numerical"
   ]
  },
  {
   "cell_type": "code",
   "execution_count": 53,
   "id": "1f2e8550",
   "metadata": {},
   "outputs": [],
   "source": [
    "df_cat=df[['Gender', 'Married', 'Dependents', 'Education',\n",
    "       'Self_Employed','Credit_History', 'Property_Area', 'Loan_Status']].copy()"
   ]
  },
  {
   "cell_type": "code",
   "execution_count": 54,
   "id": "adf1d470",
   "metadata": {},
   "outputs": [
    {
     "data": {
      "text/html": [
       "<div>\n",
       "<style scoped>\n",
       "    .dataframe tbody tr th:only-of-type {\n",
       "        vertical-align: middle;\n",
       "    }\n",
       "\n",
       "    .dataframe tbody tr th {\n",
       "        vertical-align: top;\n",
       "    }\n",
       "\n",
       "    .dataframe thead th {\n",
       "        text-align: right;\n",
       "    }\n",
       "</style>\n",
       "<table border=\"1\" class=\"dataframe\">\n",
       "  <thead>\n",
       "    <tr style=\"text-align: right;\">\n",
       "      <th></th>\n",
       "      <th>Gender</th>\n",
       "      <th>Married</th>\n",
       "      <th>Dependents</th>\n",
       "      <th>Education</th>\n",
       "      <th>Self_Employed</th>\n",
       "      <th>Credit_History</th>\n",
       "      <th>Property_Area</th>\n",
       "      <th>Loan_Status</th>\n",
       "    </tr>\n",
       "  </thead>\n",
       "  <tbody>\n",
       "    <tr>\n",
       "      <th>0</th>\n",
       "      <td>Male</td>\n",
       "      <td>No</td>\n",
       "      <td>0</td>\n",
       "      <td>Graduate</td>\n",
       "      <td>No</td>\n",
       "      <td>1.0</td>\n",
       "      <td>Urban</td>\n",
       "      <td>Y</td>\n",
       "    </tr>\n",
       "    <tr>\n",
       "      <th>1</th>\n",
       "      <td>Male</td>\n",
       "      <td>Yes</td>\n",
       "      <td>1</td>\n",
       "      <td>Graduate</td>\n",
       "      <td>No</td>\n",
       "      <td>1.0</td>\n",
       "      <td>Rural</td>\n",
       "      <td>N</td>\n",
       "    </tr>\n",
       "    <tr>\n",
       "      <th>2</th>\n",
       "      <td>Male</td>\n",
       "      <td>Yes</td>\n",
       "      <td>0</td>\n",
       "      <td>Graduate</td>\n",
       "      <td>Yes</td>\n",
       "      <td>1.0</td>\n",
       "      <td>Urban</td>\n",
       "      <td>Y</td>\n",
       "    </tr>\n",
       "    <tr>\n",
       "      <th>3</th>\n",
       "      <td>Male</td>\n",
       "      <td>Yes</td>\n",
       "      <td>0</td>\n",
       "      <td>Not Graduate</td>\n",
       "      <td>No</td>\n",
       "      <td>1.0</td>\n",
       "      <td>Urban</td>\n",
       "      <td>Y</td>\n",
       "    </tr>\n",
       "    <tr>\n",
       "      <th>4</th>\n",
       "      <td>Male</td>\n",
       "      <td>No</td>\n",
       "      <td>0</td>\n",
       "      <td>Graduate</td>\n",
       "      <td>No</td>\n",
       "      <td>1.0</td>\n",
       "      <td>Urban</td>\n",
       "      <td>Y</td>\n",
       "    </tr>\n",
       "    <tr>\n",
       "      <th>...</th>\n",
       "      <td>...</td>\n",
       "      <td>...</td>\n",
       "      <td>...</td>\n",
       "      <td>...</td>\n",
       "      <td>...</td>\n",
       "      <td>...</td>\n",
       "      <td>...</td>\n",
       "      <td>...</td>\n",
       "    </tr>\n",
       "    <tr>\n",
       "      <th>609</th>\n",
       "      <td>Female</td>\n",
       "      <td>No</td>\n",
       "      <td>0</td>\n",
       "      <td>Graduate</td>\n",
       "      <td>No</td>\n",
       "      <td>1.0</td>\n",
       "      <td>Rural</td>\n",
       "      <td>Y</td>\n",
       "    </tr>\n",
       "    <tr>\n",
       "      <th>610</th>\n",
       "      <td>Male</td>\n",
       "      <td>Yes</td>\n",
       "      <td>3+</td>\n",
       "      <td>Graduate</td>\n",
       "      <td>No</td>\n",
       "      <td>1.0</td>\n",
       "      <td>Rural</td>\n",
       "      <td>Y</td>\n",
       "    </tr>\n",
       "    <tr>\n",
       "      <th>611</th>\n",
       "      <td>Male</td>\n",
       "      <td>Yes</td>\n",
       "      <td>1</td>\n",
       "      <td>Graduate</td>\n",
       "      <td>No</td>\n",
       "      <td>1.0</td>\n",
       "      <td>Urban</td>\n",
       "      <td>Y</td>\n",
       "    </tr>\n",
       "    <tr>\n",
       "      <th>612</th>\n",
       "      <td>Male</td>\n",
       "      <td>Yes</td>\n",
       "      <td>2</td>\n",
       "      <td>Graduate</td>\n",
       "      <td>No</td>\n",
       "      <td>1.0</td>\n",
       "      <td>Urban</td>\n",
       "      <td>Y</td>\n",
       "    </tr>\n",
       "    <tr>\n",
       "      <th>613</th>\n",
       "      <td>Female</td>\n",
       "      <td>No</td>\n",
       "      <td>0</td>\n",
       "      <td>Graduate</td>\n",
       "      <td>Yes</td>\n",
       "      <td>0.0</td>\n",
       "      <td>Semiurban</td>\n",
       "      <td>N</td>\n",
       "    </tr>\n",
       "  </tbody>\n",
       "</table>\n",
       "<p>614 rows × 8 columns</p>\n",
       "</div>"
      ],
      "text/plain": [
       "     Gender Married Dependents     Education Self_Employed  Credit_History  \\\n",
       "0      Male      No          0      Graduate            No             1.0   \n",
       "1      Male     Yes          1      Graduate            No             1.0   \n",
       "2      Male     Yes          0      Graduate           Yes             1.0   \n",
       "3      Male     Yes          0  Not Graduate            No             1.0   \n",
       "4      Male      No          0      Graduate            No             1.0   \n",
       "..      ...     ...        ...           ...           ...             ...   \n",
       "609  Female      No          0      Graduate            No             1.0   \n",
       "610    Male     Yes         3+      Graduate            No             1.0   \n",
       "611    Male     Yes          1      Graduate            No             1.0   \n",
       "612    Male     Yes          2      Graduate            No             1.0   \n",
       "613  Female      No          0      Graduate           Yes             0.0   \n",
       "\n",
       "    Property_Area Loan_Status  \n",
       "0           Urban           Y  \n",
       "1           Rural           N  \n",
       "2           Urban           Y  \n",
       "3           Urban           Y  \n",
       "4           Urban           Y  \n",
       "..            ...         ...  \n",
       "609         Rural           Y  \n",
       "610         Rural           Y  \n",
       "611         Urban           Y  \n",
       "612         Urban           Y  \n",
       "613     Semiurban           N  \n",
       "\n",
       "[614 rows x 8 columns]"
      ]
     },
     "execution_count": 54,
     "metadata": {},
     "output_type": "execute_result"
    }
   ],
   "source": [
    "df_cat"
   ]
  },
  {
   "cell_type": "markdown",
   "id": "f8f00510",
   "metadata": {},
   "source": [
    "# Univariate analysis"
   ]
  },
  {
   "cell_type": "code",
   "execution_count": 55,
   "id": "d537cecf",
   "metadata": {},
   "outputs": [
    {
     "data": {
      "text/plain": [
       "Index(['Gender', 'Married', 'Dependents', 'Education', 'Self_Employed',\n",
       "       'Credit_History', 'Property_Area', 'Loan_Status'],\n",
       "      dtype='object')"
      ]
     },
     "execution_count": 55,
     "metadata": {},
     "output_type": "execute_result"
    }
   ],
   "source": [
    "df_cat.columns"
   ]
  },
  {
   "cell_type": "code",
   "execution_count": 56,
   "id": "cd486226",
   "metadata": {},
   "outputs": [
    {
     "name": "stdout",
     "output_type": "stream",
     "text": [
      "Male      502\n",
      "Female    112\n",
      "Name: Gender, dtype: int64\n"
     ]
    },
    {
     "data": {
      "image/png": "[encoded data removed]",
      "text/plain": [
       "<Figure size 1080x1440 with 1 Axes>"
      ]
     },
     "metadata": {
      "needs_background": "light"
     },
     "output_type": "display_data"
    }
   ],
   "source": [
    "plt.figure(figsize=(15,20))\n",
    "sns.countplot(x=df_cat['Gender'])\n",
    "print(df['Gender'].value_counts())"
   ]
  },
  {
   "cell_type": "code",
   "execution_count": 57,
   "id": "6fe609ab",
   "metadata": {},
   "outputs": [],
   "source": [
    "# male Applicant applied for loan higher than to female. "
   ]
  },
  {
   "cell_type": "code",
   "execution_count": 58,
   "id": "9cefd6a6",
   "metadata": {},
   "outputs": [
    {
     "name": "stdout",
     "output_type": "stream",
     "text": [
      "Yes    398\n",
      "No     213\n",
      "0        3\n",
      "Name: Married, dtype: int64\n"
     ]
    },
    {
     "data": {
      "image/png": "[encoded data removed]",
      "text/plain": [
       "<Figure size 1080x1440 with 1 Axes>"
      ]
     },
     "metadata": {
      "needs_background": "light"
     },
     "output_type": "display_data"
    }
   ],
   "source": [
    "plt.figure(figsize=(15,20))\n",
    "sns.countplot(x=df_cat['Married'])\n",
    "print(df['Married'].value_counts())"
   ]
  },
  {
   "cell_type": "code",
   "execution_count": 59,
   "id": "047fc9c3",
   "metadata": {},
   "outputs": [],
   "source": [
    "# married person is the highest to apply for loan"
   ]
  },
  {
   "cell_type": "code",
   "execution_count": 60,
   "id": "8f7546eb",
   "metadata": {},
   "outputs": [
    {
     "name": "stdout",
     "output_type": "stream",
     "text": [
      "0     360\n",
      "1     102\n",
      "2     101\n",
      "3+     51\n",
      "Name: Dependents, dtype: int64\n"
     ]
    },
    {
     "data": {
      "image/png": "[encoded data removed]",
      "text/plain": [
       "<Figure size 1080x1440 with 1 Axes>"
      ]
     },
     "metadata": {
      "needs_background": "light"
     },
     "output_type": "display_data"
    }
   ],
   "source": [
    "plt.figure(figsize=(15,20))\n",
    "sns.countplot(x=df_cat['Dependents'])\n",
    "print(df['Dependents'].value_counts())"
   ]
  },
  {
   "cell_type": "code",
   "execution_count": 61,
   "id": "2a9a674a",
   "metadata": {},
   "outputs": [],
   "source": [
    "# people with zero dependents have applied for Loan in highest range."
   ]
  },
  {
   "cell_type": "code",
   "execution_count": 62,
   "id": "a6773565",
   "metadata": {},
   "outputs": [
    {
     "name": "stdout",
     "output_type": "stream",
     "text": [
      "Graduate        480\n",
      "Not Graduate    134\n",
      "Name: Education, dtype: int64\n"
     ]
    },
    {
     "data": {
      "image/png": "[encoded data removed]",
      "text/plain": [
       "<Figure size 1080x1440 with 1 Axes>"
      ]
     },
     "metadata": {
      "needs_background": "light"
     },
     "output_type": "display_data"
    }
   ],
   "source": [
    "plt.figure(figsize=(15,20))\n",
    "sns.countplot(x=df_cat['Education'])\n",
    "print(df['Education'].value_counts())"
   ]
  },
  {
   "cell_type": "code",
   "execution_count": 63,
   "id": "23357dd6",
   "metadata": {},
   "outputs": [],
   "source": [
    "# Graduated people have applied more for Loan application "
   ]
  },
  {
   "cell_type": "code",
   "execution_count": 64,
   "id": "fccd7a78",
   "metadata": {},
   "outputs": [
    {
     "name": "stdout",
     "output_type": "stream",
     "text": [
      "No     532\n",
      "Yes     82\n",
      "Name: Self_Employed, dtype: int64\n"
     ]
    },
    {
     "data": {
      "image/png": "[encoded data removed]",
      "text/plain": [
       "<Figure size 1080x1440 with 1 Axes>"
      ]
     },
     "metadata": {
      "needs_background": "light"
     },
     "output_type": "display_data"
    }
   ],
   "source": [
    "plt.figure(figsize=(15,20))\n",
    "sns.countplot(x=df_cat['Self_Employed'])\n",
    "print(df['Self_Employed'].value_counts())"
   ]
  },
  {
   "cell_type": "code",
   "execution_count": 65,
   "id": "d65bb361",
   "metadata": {},
   "outputs": [],
   "source": [
    "# people working with the organisations are applying more for Loan application."
   ]
  },
  {
   "cell_type": "code",
   "execution_count": 66,
   "id": "e4a09e9b",
   "metadata": {},
   "outputs": [
    {
     "name": "stdout",
     "output_type": "stream",
     "text": [
      "1.0    525\n",
      "0.0     89\n",
      "Name: Credit_History, dtype: int64\n"
     ]
    },
    {
     "data": {
      "image/png": "[encoded data removed]",
      "text/plain": [
       "<Figure size 1080x1440 with 1 Axes>"
      ]
     },
     "metadata": {
      "needs_background": "light"
     },
     "output_type": "display_data"
    }
   ],
   "source": [
    "plt.figure(figsize=(15,20))\n",
    "sns.countplot(x=df_cat['Credit_History'])\n",
    "print(df['Credit_History'].value_counts())"
   ]
  },
  {
   "cell_type": "code",
   "execution_count": 67,
   "id": "9b0b2f86",
   "metadata": {},
   "outputs": [],
   "source": [
    "#most of the credit_history,they are eligible to repay"
   ]
  },
  {
   "cell_type": "code",
   "execution_count": 68,
   "id": "3269c60b",
   "metadata": {},
   "outputs": [
    {
     "name": "stdout",
     "output_type": "stream",
     "text": [
      "Semiurban    233\n",
      "Urban        202\n",
      "Rural        179\n",
      "Name: Property_Area, dtype: int64\n"
     ]
    },
    {
     "data": {
      "image/png": "[encoded data removed]",
      "text/plain": [
       "<Figure size 1080x1440 with 1 Axes>"
      ]
     },
     "metadata": {
      "needs_background": "light"
     },
     "output_type": "display_data"
    }
   ],
   "source": [
    "plt.figure(figsize=(15,20))\n",
    "sns.countplot(x=df_cat['Property_Area'])\n",
    "print(df['Property_Area'].value_counts())"
   ]
  },
  {
   "cell_type": "code",
   "execution_count": 69,
   "id": "bb9aeef9",
   "metadata": {},
   "outputs": [],
   "source": [
    "#Most of the people fromSemiurban has applied for more Loan application"
   ]
  },
  {
   "cell_type": "markdown",
   "id": "906fbedc",
   "metadata": {},
   "source": [
    "# Visualizing the Target column"
   ]
  },
  {
   "cell_type": "code",
   "execution_count": 70,
   "id": "341f33ea",
   "metadata": {},
   "outputs": [
    {
     "name": "stdout",
     "output_type": "stream",
     "text": [
      "Y    422\n",
      "N    192\n",
      "Name: Loan_Status, dtype: int64\n"
     ]
    },
    {
     "data": {
      "image/png": "[encoded data removed]",
      "text/plain": [
       "<Figure size 1080x1440 with 1 Axes>"
      ]
     },
     "metadata": {
      "needs_background": "light"
     },
     "output_type": "display_data"
    }
   ],
   "source": [
    "plt.figure(figsize=(15,20))\n",
    "sns.countplot(x=df_cat['Loan_Status'])\n",
    "print(df['Loan_Status'].value_counts())"
   ]
  },
  {
   "cell_type": "code",
   "execution_count": 71,
   "id": "78400cbe",
   "metadata": {},
   "outputs": [],
   "source": [
    "# we have More ,Yes for Loan Application Status."
   ]
  },
  {
   "cell_type": "code",
   "execution_count": 72,
   "id": "fb89d0f8",
   "metadata": {},
   "outputs": [
    {
     "data": {
      "text/plain": [
       "1    422\n",
       "0    192\n",
       "Name: Loan_Status, dtype: int64"
      ]
     },
     "execution_count": 72,
     "metadata": {},
     "output_type": "execute_result"
    }
   ],
   "source": [
    "df['Loan_Status']=df['Loan_Status'].replace('Y',1)# replacing all yes as 1 and all no as 0.\n",
    "df['Loan_Status']=df['Loan_Status'].replace('N',0) \n",
    "df['Loan_Status'].value_counts()"
   ]
  },
  {
   "cell_type": "code",
   "execution_count": 73,
   "id": "1411244a",
   "metadata": {},
   "outputs": [
    {
     "data": {
      "text/plain": [
       "Index(['Loan_ID', 'ApplicantIncome', 'CoapplicantIncome', 'LoanAmount',\n",
       "       'Loan_Amount_Term'],\n",
       "      dtype='object')"
      ]
     },
     "execution_count": 73,
     "metadata": {},
     "output_type": "execute_result"
    }
   ],
   "source": [
    "df_numerical.columns"
   ]
  },
  {
   "cell_type": "code",
   "execution_count": 74,
   "id": "859768e7",
   "metadata": {},
   "outputs": [
    {
     "data": {
      "image/png": "[encoded data removed]",
      "text/plain": [
       "<Figure size 432x288 with 1 Axes>"
      ]
     },
     "metadata": {
      "needs_background": "light"
     },
     "output_type": "display_data"
    }
   ],
   "source": [
    "sns.distplot(x=df['ApplicantIncome'])\n",
    "plt.show()"
   ]
  },
  {
   "cell_type": "code",
   "execution_count": 75,
   "id": "badd183d",
   "metadata": {},
   "outputs": [],
   "source": [
    "# follows normal distribution from 0 to 20000 and rightskewed.\n"
   ]
  },
  {
   "cell_type": "code",
   "execution_count": 76,
   "id": "40993078",
   "metadata": {},
   "outputs": [
    {
     "data": {
      "image/png": "[encoded data removed]",
      "text/plain": [
       "<Figure size 432x288 with 1 Axes>"
      ]
     },
     "metadata": {
      "needs_background": "light"
     },
     "output_type": "display_data"
    }
   ],
   "source": [
    "sns.distplot(x=df['CoapplicantIncome'])\n",
    "plt.show()"
   ]
  },
  {
   "cell_type": "code",
   "execution_count": 77,
   "id": "a914a427",
   "metadata": {},
   "outputs": [],
   "source": [
    "#follows normal distribution from 0 to 10000 and then right skewness is present."
   ]
  },
  {
   "cell_type": "code",
   "execution_count": 78,
   "id": "1cff8e49",
   "metadata": {},
   "outputs": [
    {
     "data": {
      "image/png": "[encoded data removed]",
      "text/plain": [
       "<Figure size 432x288 with 1 Axes>"
      ]
     },
     "metadata": {
      "needs_background": "light"
     },
     "output_type": "display_data"
    }
   ],
   "source": [
    "sns.distplot(x=df['LoanAmount'])\n",
    "plt.show()"
   ]
  },
  {
   "cell_type": "code",
   "execution_count": 79,
   "id": "81d70db3",
   "metadata": {},
   "outputs": [],
   "source": [
    "#follows normal distribution from 0 to 400 and then skewed."
   ]
  },
  {
   "cell_type": "code",
   "execution_count": 80,
   "id": "50912132",
   "metadata": {},
   "outputs": [
    {
     "data": {
      "image/png": "[encoded data removed]",
      "text/plain": [
       "<Figure size 432x288 with 1 Axes>"
      ]
     },
     "metadata": {
      "needs_background": "light"
     },
     "output_type": "display_data"
    }
   ],
   "source": [
    "sns.distplot(x=df['Loan_Amount_Term'])\n",
    "plt.show()"
   ]
  },
  {
   "cell_type": "code",
   "execution_count": 81,
   "id": "9801b4f5",
   "metadata": {},
   "outputs": [],
   "source": [
    "# follows normaldistribution from 300 to 400 days."
   ]
  },
  {
   "cell_type": "markdown",
   "id": "c4205692",
   "metadata": {},
   "source": [
    "# Bivariate Analysis."
   ]
  },
  {
   "cell_type": "code",
   "execution_count": 82,
   "id": "12b2677c",
   "metadata": {},
   "outputs": [
    {
     "data": {
      "image/png": "[encoded data removed]",
      "text/plain": [
       "<Figure size 432x288 with 1 Axes>"
      ]
     },
     "metadata": {
      "needs_background": "light"
     },
     "output_type": "display_data"
    }
   ],
   "source": [
    "sns.scatterplot(x=df['ApplicantIncome'],y=df['Loan_Status'])\n",
    "plt.show()"
   ]
  },
  {
   "cell_type": "code",
   "execution_count": 83,
   "id": "698f1b71",
   "metadata": {},
   "outputs": [],
   "source": [
    "# ApplicantIncome increases and Loan status also more in Yes."
   ]
  },
  {
   "cell_type": "code",
   "execution_count": 84,
   "id": "c1c4062e",
   "metadata": {},
   "outputs": [
    {
     "data": {
      "image/png": "[encoded data removed]",
      "text/plain": [
       "<Figure size 432x288 with 1 Axes>"
      ]
     },
     "metadata": {
      "needs_background": "light"
     },
     "output_type": "display_data"
    }
   ],
   "source": [
    "sns.scatterplot(x=df['CoapplicantIncome'],y=df['Loan_Status'])\n",
    "plt.show()"
   ]
  },
  {
   "cell_type": "code",
   "execution_count": 85,
   "id": "3e7ddf9d",
   "metadata": {},
   "outputs": [],
   "source": [
    "# Coapplicant increases then more yes for Loan status."
   ]
  },
  {
   "cell_type": "code",
   "execution_count": 86,
   "id": "9039951b",
   "metadata": {},
   "outputs": [
    {
     "data": {
      "image/png": "[encoded data removed]",
      "text/plain": [
       "<Figure size 432x288 with 1 Axes>"
      ]
     },
     "metadata": {
      "needs_background": "light"
     },
     "output_type": "display_data"
    }
   ],
   "source": [
    "sns.scatterplot(x=df['LoanAmount'],y=df['Loan_Status'])\n",
    "plt.show()"
   ]
  },
  {
   "cell_type": "code",
   "execution_count": 87,
   "id": "d0797101",
   "metadata": {},
   "outputs": [],
   "source": [
    "# Loan amount increases,most of the Data has received yes for Loan application."
   ]
  },
  {
   "cell_type": "code",
   "execution_count": 88,
   "id": "e474a404",
   "metadata": {},
   "outputs": [
    {
     "data": {
      "image/png": "[encoded data removed]",
      "text/plain": [
       "<Figure size 432x288 with 1 Axes>"
      ]
     },
     "metadata": {
      "needs_background": "light"
     },
     "output_type": "display_data"
    }
   ],
   "source": [
    "sns.scatterplot(x=df['Loan_Amount_Term'],y=df['Loan_Status'])\n",
    "plt.show()"
   ]
  },
  {
   "cell_type": "code",
   "execution_count": 89,
   "id": "1e50c16b",
   "metadata": {},
   "outputs": [],
   "source": [
    "# here the Data is scattered,no relationshiplike."
   ]
  },
  {
   "cell_type": "markdown",
   "id": "5b78bcda",
   "metadata": {},
   "source": [
    "# Multivariate Analysis."
   ]
  },
  {
   "cell_type": "code",
   "execution_count": 90,
   "id": "418e1372",
   "metadata": {},
   "outputs": [
    {
     "data": {
      "text/html": [
       "<div>\n",
       "<style scoped>\n",
       "    .dataframe tbody tr th:only-of-type {\n",
       "        vertical-align: middle;\n",
       "    }\n",
       "\n",
       "    .dataframe tbody tr th {\n",
       "        vertical-align: top;\n",
       "    }\n",
       "\n",
       "    .dataframe thead th {\n",
       "        text-align: right;\n",
       "    }\n",
       "</style>\n",
       "<table border=\"1\" class=\"dataframe\">\n",
       "  <thead>\n",
       "    <tr style=\"text-align: right;\">\n",
       "      <th></th>\n",
       "      <th>Gender</th>\n",
       "      <th>Married</th>\n",
       "      <th>Dependents</th>\n",
       "      <th>Education</th>\n",
       "      <th>Self_Employed</th>\n",
       "      <th>Credit_History</th>\n",
       "      <th>Property_Area</th>\n",
       "      <th>Loan_Status</th>\n",
       "    </tr>\n",
       "  </thead>\n",
       "  <tbody>\n",
       "    <tr>\n",
       "      <th>0</th>\n",
       "      <td>Male</td>\n",
       "      <td>No</td>\n",
       "      <td>0</td>\n",
       "      <td>Graduate</td>\n",
       "      <td>No</td>\n",
       "      <td>1.0</td>\n",
       "      <td>Urban</td>\n",
       "      <td>Y</td>\n",
       "    </tr>\n",
       "    <tr>\n",
       "      <th>1</th>\n",
       "      <td>Male</td>\n",
       "      <td>Yes</td>\n",
       "      <td>1</td>\n",
       "      <td>Graduate</td>\n",
       "      <td>No</td>\n",
       "      <td>1.0</td>\n",
       "      <td>Rural</td>\n",
       "      <td>N</td>\n",
       "    </tr>\n",
       "    <tr>\n",
       "      <th>2</th>\n",
       "      <td>Male</td>\n",
       "      <td>Yes</td>\n",
       "      <td>0</td>\n",
       "      <td>Graduate</td>\n",
       "      <td>Yes</td>\n",
       "      <td>1.0</td>\n",
       "      <td>Urban</td>\n",
       "      <td>Y</td>\n",
       "    </tr>\n",
       "    <tr>\n",
       "      <th>3</th>\n",
       "      <td>Male</td>\n",
       "      <td>Yes</td>\n",
       "      <td>0</td>\n",
       "      <td>Not Graduate</td>\n",
       "      <td>No</td>\n",
       "      <td>1.0</td>\n",
       "      <td>Urban</td>\n",
       "      <td>Y</td>\n",
       "    </tr>\n",
       "    <tr>\n",
       "      <th>4</th>\n",
       "      <td>Male</td>\n",
       "      <td>No</td>\n",
       "      <td>0</td>\n",
       "      <td>Graduate</td>\n",
       "      <td>No</td>\n",
       "      <td>1.0</td>\n",
       "      <td>Urban</td>\n",
       "      <td>Y</td>\n",
       "    </tr>\n",
       "    <tr>\n",
       "      <th>...</th>\n",
       "      <td>...</td>\n",
       "      <td>...</td>\n",
       "      <td>...</td>\n",
       "      <td>...</td>\n",
       "      <td>...</td>\n",
       "      <td>...</td>\n",
       "      <td>...</td>\n",
       "      <td>...</td>\n",
       "    </tr>\n",
       "    <tr>\n",
       "      <th>609</th>\n",
       "      <td>Female</td>\n",
       "      <td>No</td>\n",
       "      <td>0</td>\n",
       "      <td>Graduate</td>\n",
       "      <td>No</td>\n",
       "      <td>1.0</td>\n",
       "      <td>Rural</td>\n",
       "      <td>Y</td>\n",
       "    </tr>\n",
       "    <tr>\n",
       "      <th>610</th>\n",
       "      <td>Male</td>\n",
       "      <td>Yes</td>\n",
       "      <td>3+</td>\n",
       "      <td>Graduate</td>\n",
       "      <td>No</td>\n",
       "      <td>1.0</td>\n",
       "      <td>Rural</td>\n",
       "      <td>Y</td>\n",
       "    </tr>\n",
       "    <tr>\n",
       "      <th>611</th>\n",
       "      <td>Male</td>\n",
       "      <td>Yes</td>\n",
       "      <td>1</td>\n",
       "      <td>Graduate</td>\n",
       "      <td>No</td>\n",
       "      <td>1.0</td>\n",
       "      <td>Urban</td>\n",
       "      <td>Y</td>\n",
       "    </tr>\n",
       "    <tr>\n",
       "      <th>612</th>\n",
       "      <td>Male</td>\n",
       "      <td>Yes</td>\n",
       "      <td>2</td>\n",
       "      <td>Graduate</td>\n",
       "      <td>No</td>\n",
       "      <td>1.0</td>\n",
       "      <td>Urban</td>\n",
       "      <td>Y</td>\n",
       "    </tr>\n",
       "    <tr>\n",
       "      <th>613</th>\n",
       "      <td>Female</td>\n",
       "      <td>No</td>\n",
       "      <td>0</td>\n",
       "      <td>Graduate</td>\n",
       "      <td>Yes</td>\n",
       "      <td>0.0</td>\n",
       "      <td>Semiurban</td>\n",
       "      <td>N</td>\n",
       "    </tr>\n",
       "  </tbody>\n",
       "</table>\n",
       "<p>614 rows × 8 columns</p>\n",
       "</div>"
      ],
      "text/plain": [
       "     Gender Married Dependents     Education Self_Employed  Credit_History  \\\n",
       "0      Male      No          0      Graduate            No             1.0   \n",
       "1      Male     Yes          1      Graduate            No             1.0   \n",
       "2      Male     Yes          0      Graduate           Yes             1.0   \n",
       "3      Male     Yes          0  Not Graduate            No             1.0   \n",
       "4      Male      No          0      Graduate            No             1.0   \n",
       "..      ...     ...        ...           ...           ...             ...   \n",
       "609  Female      No          0      Graduate            No             1.0   \n",
       "610    Male     Yes         3+      Graduate            No             1.0   \n",
       "611    Male     Yes          1      Graduate            No             1.0   \n",
       "612    Male     Yes          2      Graduate            No             1.0   \n",
       "613  Female      No          0      Graduate           Yes             0.0   \n",
       "\n",
       "    Property_Area Loan_Status  \n",
       "0           Urban           Y  \n",
       "1           Rural           N  \n",
       "2           Urban           Y  \n",
       "3           Urban           Y  \n",
       "4           Urban           Y  \n",
       "..            ...         ...  \n",
       "609         Rural           Y  \n",
       "610         Rural           Y  \n",
       "611         Urban           Y  \n",
       "612         Urban           Y  \n",
       "613     Semiurban           N  \n",
       "\n",
       "[614 rows x 8 columns]"
      ]
     },
     "execution_count": 90,
     "metadata": {},
     "output_type": "execute_result"
    }
   ],
   "source": [
    "df_cat"
   ]
  },
  {
   "cell_type": "code",
   "execution_count": 91,
   "id": "73689fb0",
   "metadata": {},
   "outputs": [
    {
     "data": {
      "image/png": "[encoded data removed]",
      "text/plain": [
       "<Figure size 432x288 with 1 Axes>"
      ]
     },
     "metadata": {
      "needs_background": "light"
     },
     "output_type": "display_data"
    }
   ],
   "source": [
    "sns.barplot(x=df_cat['Gender'],y=df['Loan_Status'])\n",
    "plt.show()"
   ]
  },
  {
   "cell_type": "code",
   "execution_count": 92,
   "id": "805a8840",
   "metadata": {},
   "outputs": [],
   "source": [
    "# male count is getting yes for Loan application status"
   ]
  },
  {
   "cell_type": "code",
   "execution_count": 93,
   "id": "344c0f0c",
   "metadata": {},
   "outputs": [
    {
     "data": {
      "image/png": "[encoded data removed]",
      "text/plain": [
       "<Figure size 432x288 with 1 Axes>"
      ]
     },
     "metadata": {
      "needs_background": "light"
     },
     "output_type": "display_data"
    }
   ],
   "source": [
    "sns.barplot(x=df_cat['Married'],y=df['Loan_Status'],hue=df_cat['Dependents'])\n",
    "plt.show()"
   ]
  },
  {
   "cell_type": "code",
   "execution_count": 94,
   "id": "95b277f5",
   "metadata": {},
   "outputs": [],
   "source": [
    "# married people with 2 dependents have got more chances  yes for loan application.\n",
    "# some people in 0 Married column have got yes for Loan Application\n"
   ]
  },
  {
   "cell_type": "code",
   "execution_count": 95,
   "id": "c77739eb",
   "metadata": {},
   "outputs": [
    {
     "data": {
      "image/png": "[encoded data removed]",
      "text/plain": [
       "<Figure size 432x288 with 1 Axes>"
      ]
     },
     "metadata": {
      "needs_background": "light"
     },
     "output_type": "display_data"
    }
   ],
   "source": [
    "sns.barplot(x=df_cat['Dependents'],y=df['Loan_Status'])\n",
    "plt.show()"
   ]
  },
  {
   "cell_type": "code",
   "execution_count": 96,
   "id": "660e2821",
   "metadata": {},
   "outputs": [],
   "source": [
    "#person with More dependents have got yes for Loan status."
   ]
  },
  {
   "cell_type": "code",
   "execution_count": 97,
   "id": "edc2d491",
   "metadata": {},
   "outputs": [
    {
     "data": {
      "image/png": "[encoded data removed]",
      "text/plain": [
       "<Figure size 432x288 with 1 Axes>"
      ]
     },
     "metadata": {
      "needs_background": "light"
     },
     "output_type": "display_data"
    }
   ],
   "source": [
    "sns.barplot(x=df_cat['Education'],y=df['Loan_Status'],hue=df_cat['Gender'])\n",
    "plt.show()"
   ]
  },
  {
   "cell_type": "code",
   "execution_count": 98,
   "id": "7c35e435",
   "metadata": {},
   "outputs": [],
   "source": [
    "#Graduated Male has more chances for Yes Loan application"
   ]
  },
  {
   "cell_type": "code",
   "execution_count": 99,
   "id": "2d8004b9",
   "metadata": {},
   "outputs": [
    {
     "data": {
      "image/png": "[encoded data removed]",
      "text/plain": [
       "<Figure size 432x288 with 1 Axes>"
      ]
     },
     "metadata": {
      "needs_background": "light"
     },
     "output_type": "display_data"
    }
   ],
   "source": [
    "sns.barplot(x=df_cat['Property_Area'],y=df['Loan_Status'])\n",
    "plt.show()"
   ]
  },
  {
   "cell_type": "code",
   "execution_count": 100,
   "id": "1e55c306",
   "metadata": {},
   "outputs": [],
   "source": [
    "# Semiurban people have got yes more for Loan Applications."
   ]
  },
  {
   "cell_type": "code",
   "execution_count": 101,
   "id": "d6b474ec",
   "metadata": {},
   "outputs": [
    {
     "data": {
      "image/png": "[encoded data removed]",
      "text/plain": [
       "<Figure size 432x288 with 1 Axes>"
      ]
     },
     "metadata": {
      "needs_background": "light"
     },
     "output_type": "display_data"
    }
   ],
   "source": [
    "sns.barplot(x=df_cat['Property_Area'],y=df['Loan_Status'],hue=df_cat['Gender'])\n",
    "plt.show()"
   ]
  },
  {
   "cell_type": "code",
   "execution_count": 102,
   "id": "1e1fa669",
   "metadata": {},
   "outputs": [],
   "source": [
    "# Semiurban male and Female also have got more chances for yes for LoanApplications."
   ]
  },
  {
   "cell_type": "code",
   "execution_count": 103,
   "id": "b9cf3a8e",
   "metadata": {},
   "outputs": [
    {
     "data": {
      "image/png": "[encoded data removed]",
      "text/plain": [
       "<Figure size 432x288 with 1 Axes>"
      ]
     },
     "metadata": {
      "needs_background": "light"
     },
     "output_type": "display_data"
    }
   ],
   "source": [
    "sns.barplot(x=df_cat['Self_Employed'],y=df['Loan_Status'])\n",
    "plt.show()"
   ]
  },
  {
   "cell_type": "code",
   "execution_count": 104,
   "id": "ebd4f49f",
   "metadata": {},
   "outputs": [],
   "source": [
    "# Self employed people category have got more chances for NO"
   ]
  },
  {
   "cell_type": "markdown",
   "id": "b8b60399",
   "metadata": {},
   "source": [
    "# Encoding Categorical columns"
   ]
  },
  {
   "cell_type": "code",
   "execution_count": 105,
   "id": "64e6e153",
   "metadata": {},
   "outputs": [
    {
     "data": {
      "text/plain": [
       "Index(['Gender', 'Married', 'Dependents', 'Education', 'Self_Employed',\n",
       "       'Credit_History', 'Property_Area', 'Loan_Status'],\n",
       "      dtype='object')"
      ]
     },
     "execution_count": 105,
     "metadata": {},
     "output_type": "execute_result"
    }
   ],
   "source": [
    "df_cat.columns"
   ]
  },
  {
   "cell_type": "code",
   "execution_count": 106,
   "id": "75068b2a",
   "metadata": {},
   "outputs": [],
   "source": [
    "df_cat.drop(columns='Loan_Status',axis=1,inplace=True)"
   ]
  },
  {
   "cell_type": "code",
   "execution_count": 107,
   "id": "eeb04a23",
   "metadata": {},
   "outputs": [
    {
     "data": {
      "text/plain": [
       "Index(['Gender', 'Married', 'Dependents', 'Education', 'Self_Employed',\n",
       "       'Credit_History', 'Property_Area'],\n",
       "      dtype='object')"
      ]
     },
     "execution_count": 107,
     "metadata": {},
     "output_type": "execute_result"
    }
   ],
   "source": [
    "df_cat.columns"
   ]
  },
  {
   "cell_type": "code",
   "execution_count": 108,
   "id": "ab8c0346",
   "metadata": {},
   "outputs": [],
   "source": [
    "from sklearn.preprocessing import LabelEncoder"
   ]
  },
  {
   "cell_type": "code",
   "execution_count": 109,
   "id": "ca863127",
   "metadata": {},
   "outputs": [],
   "source": [
    "le=LabelEncoder()"
   ]
  },
  {
   "cell_type": "code",
   "execution_count": 110,
   "id": "3d94d11a",
   "metadata": {},
   "outputs": [
    {
     "data": {
      "text/plain": [
       "array([1, 1, 1, 1, 1, 1, 1, 1, 1, 1, 1, 1, 1, 1, 1, 1, 1, 0, 1, 1, 1, 1,\n",
       "       1, 1, 1, 1, 1, 1, 1, 0, 1, 1, 1, 1, 1, 1, 1, 0, 1, 1, 1, 1, 1, 1,\n",
       "       1, 0, 1, 1, 0, 0, 0, 0, 0, 1, 0, 1, 1, 1, 1, 1, 1, 1, 1, 1, 0, 1,\n",
       "       1, 1, 1, 0, 1, 1, 1, 1, 1, 1, 1, 1, 1, 1, 0, 1, 0, 1, 1, 1, 1, 1,\n",
       "       1, 1, 1, 1, 1, 1, 1, 1, 0, 1, 1, 1, 1, 1, 1, 1, 1, 1, 1, 1, 1, 1,\n",
       "       1, 0, 1, 0, 1, 1, 0, 1, 1, 0, 1, 0, 0, 1, 1, 0, 1, 1, 1, 1, 1, 1,\n",
       "       1, 1, 1, 1, 0, 1, 1, 1, 1, 1, 1, 1, 1, 0, 0, 1, 0, 1, 1, 1, 1, 1,\n",
       "       1, 1, 1, 1, 1, 1, 1, 1, 1, 1, 1, 1, 0, 1, 1, 1, 1, 1, 1, 1, 1, 1,\n",
       "       1, 1, 1, 1, 1, 1, 1, 1, 0, 1, 1, 1, 1, 1, 1, 1, 1, 1, 1, 1, 1, 0,\n",
       "       0, 1, 1, 1, 1, 1, 1, 0, 0, 1, 1, 1, 0, 1, 1, 1, 1, 1, 1, 1, 1, 0,\n",
       "       1, 1, 1, 1, 1, 1, 1, 1, 1, 1, 1, 1, 1, 0, 1, 1, 1, 0, 0, 1, 1, 1,\n",
       "       1, 1, 1, 1, 1, 1, 1, 1, 1, 0, 1, 1, 1, 0, 1, 1, 1, 1, 1, 1, 0, 0,\n",
       "       1, 1, 1, 1, 0, 0, 0, 1, 1, 1, 1, 1, 1, 1, 1, 0, 1, 1, 1, 0, 1, 1,\n",
       "       0, 1, 0, 1, 1, 1, 1, 0, 1, 1, 1, 0, 0, 1, 1, 1, 0, 1, 1, 1, 0, 0,\n",
       "       1, 1, 0, 1, 0, 1, 1, 1, 1, 1, 0, 1, 1, 1, 1, 0, 1, 1, 1, 1, 0, 0,\n",
       "       1, 1, 1, 1, 1, 1, 1, 1, 0, 0, 1, 0, 1, 1, 1, 1, 1, 1, 1, 1, 1, 1,\n",
       "       1, 0, 0, 0, 1, 1, 1, 1, 0, 1, 1, 1, 1, 1, 1, 1, 1, 1, 0, 1, 1, 1,\n",
       "       0, 1, 1, 1, 1, 1, 1, 1, 0, 1, 1, 1, 1, 1, 1, 1, 1, 1, 1, 1, 1, 1,\n",
       "       0, 1, 1, 0, 1, 1, 1, 0, 0, 0, 1, 0, 1, 1, 0, 1, 1, 1, 0, 0, 0, 1,\n",
       "       1, 1, 1, 0, 1, 1, 1, 1, 0, 1, 1, 1, 0, 1, 1, 1, 1, 0, 1, 1, 1, 0,\n",
       "       1, 1, 1, 1, 1, 1, 1, 1, 1, 1, 1, 1, 1, 1, 1, 1, 1, 1, 1, 1, 1, 1,\n",
       "       1, 0, 1, 1, 1, 1, 0, 1, 1, 1, 1, 0, 1, 1, 1, 1, 1, 1, 0, 1, 1, 1,\n",
       "       1, 1, 1, 1, 1, 1, 1, 1, 1, 0, 1, 0, 1, 1, 1, 1, 0, 0, 1, 1, 1, 1,\n",
       "       1, 1, 1, 0, 1, 1, 1, 1, 1, 1, 0, 1, 1, 0, 1, 1, 1, 1, 1, 1, 1, 1,\n",
       "       1, 1, 1, 1, 1, 1, 0, 1, 1, 1, 1, 1, 0, 0, 0, 1, 0, 1, 1, 1, 0, 1,\n",
       "       1, 1, 1, 1, 1, 1, 0, 1, 1, 0, 1, 0, 1, 1, 1, 1, 1, 1, 0, 1, 1, 1,\n",
       "       1, 1, 1, 1, 1, 1, 1, 1, 1, 1, 0, 1, 1, 1, 1, 0, 1, 1, 1, 1, 1, 1,\n",
       "       1, 1, 1, 1, 1, 1, 0, 1, 1, 1, 0, 1, 1, 1, 1, 0, 1, 1, 1, 0])"
      ]
     },
     "execution_count": 110,
     "metadata": {},
     "output_type": "execute_result"
    }
   ],
   "source": [
    "le_gen=le.fit_transform(df_cat['Gender'])\n",
    "le_gen"
   ]
  },
  {
   "cell_type": "code",
   "execution_count": 111,
   "id": "4c65a5fc",
   "metadata": {},
   "outputs": [],
   "source": [
    "df_cat['Gender']=le_gen"
   ]
  },
  {
   "cell_type": "code",
   "execution_count": 112,
   "id": "946f8d62",
   "metadata": {},
   "outputs": [
    {
     "data": {
      "text/plain": [
       "0       No\n",
       "1      Yes\n",
       "2      Yes\n",
       "3      Yes\n",
       "4       No\n",
       "      ... \n",
       "609     No\n",
       "610    Yes\n",
       "611    Yes\n",
       "612    Yes\n",
       "613     No\n",
       "Name: Married, Length: 614, dtype: object"
      ]
     },
     "execution_count": 112,
     "metadata": {},
     "output_type": "execute_result"
    }
   ],
   "source": [
    "df_cat['Married']=df_cat['Married'].astype('str')\n",
    "df_cat['Married']"
   ]
  },
  {
   "cell_type": "code",
   "execution_count": 113,
   "id": "b8b8ca00",
   "metadata": {},
   "outputs": [
    {
     "data": {
      "text/plain": [
       "array([1, 2, 2, 2, 1, 2, 2, 2, 2, 2, 2, 2, 2, 1, 2, 1, 1, 1, 2, 2, 2, 2,\n",
       "       2, 2, 2, 2, 2, 2, 1, 1, 2, 1, 1, 2, 1, 2, 2, 2, 1, 1, 1, 1, 2, 2,\n",
       "       2, 1, 2, 2, 2, 1, 2, 1, 1, 2, 2, 2, 2, 2, 2, 2, 2, 2, 2, 2, 1, 2,\n",
       "       1, 2, 2, 1, 2, 2, 1, 2, 2, 1, 1, 2, 2, 2, 1, 2, 2, 2, 2, 1, 2, 2,\n",
       "       1, 2, 2, 2, 2, 1, 1, 1, 2, 2, 2, 2, 2, 1, 2, 2, 0, 2, 2, 1, 2, 2,\n",
       "       1, 2, 2, 1, 1, 2, 2, 2, 2, 1, 2, 1, 1, 2, 2, 1, 2, 1, 2, 2, 1, 1,\n",
       "       1, 2, 1, 2, 2, 2, 1, 2, 2, 1, 1, 2, 2, 2, 2, 2, 1, 2, 1, 2, 1, 2,\n",
       "       1, 2, 2, 2, 1, 2, 2, 2, 2, 2, 2, 2, 2, 2, 1, 2, 2, 2, 2, 2, 2, 2,\n",
       "       2, 2, 2, 1, 2, 1, 2, 2, 2, 2, 2, 2, 2, 2, 1, 1, 2, 1, 1, 2, 1, 1,\n",
       "       2, 1, 2, 1, 2, 2, 2, 1, 1, 1, 1, 1, 1, 2, 2, 2, 2, 2, 2, 2, 2, 2,\n",
       "       2, 2, 1, 2, 2, 2, 2, 2, 0, 1, 2, 2, 1, 1, 2, 2, 2, 1, 1, 2, 2, 2,\n",
       "       1, 2, 2, 1, 2, 2, 2, 2, 2, 1, 1, 2, 1, 1, 1, 2, 2, 2, 2, 1, 1, 1,\n",
       "       1, 1, 2, 2, 1, 1, 1, 2, 1, 2, 2, 2, 2, 2, 2, 2, 1, 2, 2, 1, 2, 1,\n",
       "       1, 2, 1, 1, 2, 2, 2, 1, 2, 2, 2, 2, 1, 2, 2, 2, 1, 2, 1, 1, 1, 1,\n",
       "       1, 2, 1, 1, 1, 2, 2, 2, 2, 2, 1, 2, 2, 2, 2, 1, 2, 2, 1, 2, 2, 1,\n",
       "       1, 1, 1, 2, 2, 2, 2, 2, 1, 1, 2, 1, 2, 2, 2, 2, 2, 2, 2, 2, 2, 1,\n",
       "       2, 2, 2, 1, 2, 2, 2, 2, 1, 2, 2, 2, 1, 1, 1, 1, 2, 2, 1, 2, 2, 1,\n",
       "       1, 2, 2, 2, 1, 2, 2, 1, 1, 1, 2, 1, 1, 2, 2, 2, 1, 2, 2, 2, 2, 2,\n",
       "       1, 2, 1, 1, 2, 1, 1, 1, 1, 1, 2, 1, 2, 2, 1, 2, 2, 2, 2, 1, 1, 2,\n",
       "       2, 2, 2, 1, 2, 2, 2, 2, 1, 2, 2, 1, 1, 1, 1, 2, 1, 0, 1, 2, 1, 2,\n",
       "       1, 2, 1, 1, 2, 2, 2, 2, 2, 1, 2, 2, 2, 2, 1, 2, 2, 2, 1, 2, 2, 2,\n",
       "       2, 1, 1, 1, 2, 2, 2, 2, 2, 2, 2, 1, 1, 2, 2, 2, 2, 2, 1, 2, 2, 2,\n",
       "       2, 2, 1, 2, 2, 1, 1, 2, 1, 1, 2, 2, 2, 2, 2, 1, 1, 1, 2, 2, 2, 2,\n",
       "       2, 1, 2, 1, 1, 2, 2, 2, 1, 2, 2, 2, 1, 1, 2, 1, 2, 2, 1, 2, 2, 2,\n",
       "       1, 1, 2, 2, 1, 1, 1, 1, 2, 1, 2, 2, 2, 1, 1, 2, 2, 2, 1, 1, 1, 2,\n",
       "       2, 2, 2, 2, 2, 2, 1, 2, 2, 2, 2, 2, 2, 1, 2, 2, 1, 2, 1, 2, 2, 2,\n",
       "       2, 2, 2, 2, 2, 1, 2, 1, 2, 1, 2, 2, 2, 2, 2, 1, 1, 2, 2, 2, 1, 2,\n",
       "       2, 1, 2, 1, 2, 2, 1, 2, 2, 1, 2, 2, 2, 2, 2, 1, 2, 2, 2, 1])"
      ]
     },
     "execution_count": 113,
     "metadata": {},
     "output_type": "execute_result"
    }
   ],
   "source": [
    "le_ma=le.fit_transform(df_cat['Married'])\n",
    "le_ma"
   ]
  },
  {
   "cell_type": "code",
   "execution_count": 114,
   "id": "b4245328",
   "metadata": {},
   "outputs": [],
   "source": [
    "df_cat['Married']=le_ma"
   ]
  },
  {
   "cell_type": "code",
   "execution_count": 115,
   "id": "c3691469",
   "metadata": {},
   "outputs": [
    {
     "data": {
      "text/plain": [
       "array([0, 1, 0, 0, 0, 2, 0, 3, 2, 1, 2, 2, 2, 0, 2, 0, 1, 0, 0, 0, 0, 1,\n",
       "       0, 2, 1, 0, 0, 2, 0, 2, 1, 0, 1, 0, 3, 0, 0, 0, 0, 0, 0, 0, 0, 0,\n",
       "       0, 0, 1, 0, 0, 0, 0, 0, 0, 2, 1, 2, 0, 0, 1, 2, 0, 3, 0, 1, 0, 0,\n",
       "       0, 1, 3, 0, 0, 2, 0, 3, 3, 0, 0, 1, 3, 3, 0, 1, 2, 0, 1, 0, 2, 0,\n",
       "       0, 0, 0, 2, 2, 0, 0, 0, 0, 0, 0, 0, 2, 0, 0, 0, 0, 1, 2, 0, 2, 3,\n",
       "       0, 0, 0, 1, 0, 1, 0, 1, 0, 0, 0, 0, 0, 2, 0, 0, 3, 0, 1, 0, 0, 0,\n",
       "       0, 0, 0, 3, 0, 2, 0, 2, 2, 0, 0, 0, 2, 0, 2, 1, 0, 0, 0, 0, 0, 2,\n",
       "       0, 3, 1, 1, 0, 0, 0, 0, 1, 2, 0, 0, 0, 0, 0, 2, 0, 3, 3, 0, 0, 0,\n",
       "       2, 3, 1, 0, 1, 0, 0, 1, 0, 0, 1, 0, 0, 0, 0, 0, 0, 0, 0, 1, 0, 0,\n",
       "       0, 0, 1, 2, 3, 1, 2, 0, 0, 0, 0, 0, 0, 3, 1, 3, 0, 3, 0, 0, 2, 2,\n",
       "       0, 2, 0, 0, 0, 0, 0, 2, 0, 0, 1, 0, 0, 0, 1, 1, 0, 0, 1, 1, 2, 1,\n",
       "       0, 2, 0, 0, 2, 1, 1, 0, 0, 2, 0, 1, 0, 3, 0, 3, 0, 3, 1, 0, 1, 0,\n",
       "       0, 0, 2, 3, 0, 1, 0, 0, 0, 0, 2, 1, 0, 0, 0, 0, 1, 0, 2, 0, 0, 0,\n",
       "       0, 0, 0, 0, 0, 2, 2, 0, 0, 3, 1, 1, 0, 1, 0, 0, 0, 1, 0, 0, 0, 0,\n",
       "       0, 2, 0, 0, 0, 2, 0, 1, 2, 0, 1, 1, 0, 3, 2, 0, 3, 1, 0, 0, 0, 0,\n",
       "       1, 0, 0, 0, 1, 0, 1, 2, 3, 0, 3, 0, 1, 3, 2, 0, 0, 2, 0, 0, 0, 0,\n",
       "       3, 0, 0, 0, 2, 1, 0, 3, 1, 2, 0, 0, 0, 0, 0, 0, 1, 0, 0, 2, 2, 1,\n",
       "       0, 0, 3, 0, 0, 2, 0, 0, 0, 0, 2, 1, 0, 0, 0, 0, 3, 3, 0, 2, 2, 2,\n",
       "       0, 0, 0, 0, 2, 0, 0, 0, 0, 0, 0, 0, 1, 3, 1, 0, 0, 0, 0, 0, 1, 2,\n",
       "       0, 0, 0, 0, 0, 1, 0, 0, 1, 2, 0, 0, 1, 0, 0, 0, 0, 0, 0, 0, 0, 0,\n",
       "       0, 0, 3, 1, 0, 1, 2, 0, 2, 1, 2, 2, 0, 0, 0, 2, 0, 0, 2, 0, 0, 3,\n",
       "       0, 1, 0, 0, 3, 0, 2, 0, 1, 1, 3, 0, 2, 2, 2, 2, 1, 2, 0, 3, 0, 0,\n",
       "       2, 1, 2, 1, 2, 0, 0, 1, 0, 0, 0, 1, 0, 0, 1, 0, 0, 0, 2, 1, 0, 2,\n",
       "       0, 0, 0, 1, 0, 1, 2, 0, 0, 3, 2, 0, 0, 0, 2, 0, 3, 2, 0, 2, 0, 1,\n",
       "       1, 0, 0, 3, 2, 1, 0, 0, 0, 2, 0, 3, 1, 0, 1, 1, 0, 0, 0, 0, 0, 0,\n",
       "       2, 1, 1, 0, 0, 1, 0, 3, 0, 0, 2, 1, 0, 0, 2, 0, 0, 3, 0, 0, 1, 0,\n",
       "       2, 2, 3, 2, 0, 0, 1, 0, 2, 0, 0, 1, 1, 1, 0, 0, 0, 2, 0, 2, 3, 0,\n",
       "       0, 0, 2, 0, 0, 2, 3, 0, 3, 0, 1, 0, 1, 2, 0, 0, 3, 1, 2, 0])"
      ]
     },
     "execution_count": 115,
     "metadata": {},
     "output_type": "execute_result"
    }
   ],
   "source": [
    "le_dep=le.fit_transform(df_cat['Dependents'])\n",
    "le_dep"
   ]
  },
  {
   "cell_type": "code",
   "execution_count": 116,
   "id": "65f4f447",
   "metadata": {},
   "outputs": [],
   "source": [
    "df_cat['Dependents']=le_dep"
   ]
  },
  {
   "cell_type": "code",
   "execution_count": 117,
   "id": "935043a3",
   "metadata": {},
   "outputs": [
    {
     "data": {
      "text/plain": [
       "array([0, 0, 0, 1, 0, 0, 1, 0, 0, 0, 0, 0, 0, 0, 0, 0, 1, 0, 1, 0, 1, 0,\n",
       "       1, 1, 0, 0, 0, 1, 1, 0, 0, 0, 0, 0, 0, 0, 0, 0, 0, 1, 0, 0, 0, 0,\n",
       "       1, 0, 0, 0, 0, 0, 1, 0, 0, 0, 0, 0, 0, 0, 0, 1, 0, 0, 1, 0, 0, 0,\n",
       "       1, 0, 1, 0, 0, 1, 0, 1, 0, 0, 0, 0, 0, 1, 0, 0, 0, 0, 0, 0, 1, 0,\n",
       "       0, 0, 0, 0, 1, 0, 1, 0, 0, 0, 1, 0, 1, 0, 0, 0, 0, 0, 0, 1, 0, 1,\n",
       "       0, 0, 1, 0, 0, 0, 0, 0, 0, 0, 0, 0, 0, 0, 1, 0, 0, 0, 0, 0, 0, 0,\n",
       "       0, 0, 0, 0, 0, 0, 0, 1, 0, 0, 0, 0, 0, 0, 0, 0, 0, 0, 0, 0, 0, 1,\n",
       "       0, 0, 0, 0, 0, 0, 1, 0, 0, 0, 0, 0, 0, 0, 0, 0, 1, 0, 1, 0, 1, 0,\n",
       "       0, 0, 0, 1, 0, 0, 0, 0, 0, 0, 0, 0, 0, 0, 1, 0, 1, 0, 0, 0, 0, 1,\n",
       "       0, 0, 1, 0, 1, 1, 1, 1, 0, 1, 0, 0, 0, 0, 0, 1, 0, 1, 0, 0, 0, 0,\n",
       "       0, 0, 0, 0, 0, 0, 1, 0, 0, 0, 0, 0, 1, 0, 0, 0, 0, 0, 0, 0, 0, 1,\n",
       "       0, 0, 1, 0, 0, 1, 0, 0, 1, 0, 1, 1, 0, 0, 1, 0, 0, 1, 0, 0, 0, 0,\n",
       "       0, 0, 0, 0, 0, 0, 0, 0, 0, 0, 0, 0, 0, 0, 0, 1, 1, 0, 0, 0, 0, 0,\n",
       "       0, 0, 0, 0, 0, 0, 0, 0, 0, 0, 0, 0, 0, 0, 1, 1, 0, 0, 0, 1, 0, 0,\n",
       "       0, 1, 0, 1, 0, 0, 0, 1, 0, 0, 0, 0, 0, 0, 1, 0, 0, 0, 0, 0, 0, 0,\n",
       "       0, 0, 0, 0, 0, 0, 0, 0, 1, 0, 1, 0, 1, 1, 0, 0, 1, 1, 0, 0, 0, 0,\n",
       "       0, 0, 0, 0, 0, 0, 1, 0, 0, 0, 0, 0, 0, 1, 0, 0, 0, 0, 0, 0, 0, 0,\n",
       "       0, 0, 0, 0, 0, 0, 0, 0, 0, 0, 0, 0, 1, 1, 0, 0, 0, 0, 0, 1, 0, 0,\n",
       "       0, 0, 1, 0, 1, 1, 0, 1, 0, 0, 1, 1, 0, 0, 1, 0, 1, 1, 1, 0, 0, 0,\n",
       "       0, 0, 0, 1, 0, 0, 0, 0, 1, 0, 0, 1, 0, 0, 0, 0, 0, 0, 0, 0, 0, 1,\n",
       "       0, 0, 1, 0, 0, 0, 1, 0, 0, 1, 1, 1, 0, 0, 0, 0, 0, 0, 0, 0, 0, 0,\n",
       "       0, 1, 0, 0, 1, 0, 1, 0, 0, 1, 0, 0, 0, 0, 0, 0, 0, 0, 1, 1, 0, 0,\n",
       "       0, 1, 0, 0, 0, 0, 1, 1, 1, 1, 0, 0, 1, 0, 0, 0, 0, 0, 0, 1, 1, 0,\n",
       "       0, 0, 0, 0, 1, 0, 0, 0, 0, 0, 0, 1, 0, 1, 1, 0, 0, 0, 0, 0, 0, 1,\n",
       "       1, 1, 0, 0, 0, 0, 1, 1, 0, 0, 1, 0, 0, 0, 0, 1, 1, 0, 1, 0, 0, 0,\n",
       "       0, 1, 0, 1, 0, 0, 0, 0, 0, 0, 1, 0, 0, 1, 0, 1, 0, 0, 0, 0, 0, 0,\n",
       "       0, 1, 0, 0, 0, 0, 0, 0, 0, 0, 0, 0, 0, 0, 0, 1, 0, 0, 0, 0, 0, 0,\n",
       "       0, 1, 1, 0, 0, 0, 0, 1, 0, 0, 0, 1, 0, 1, 0, 0, 0, 0, 0, 0])"
      ]
     },
     "execution_count": 117,
     "metadata": {},
     "output_type": "execute_result"
    }
   ],
   "source": [
    "le_edu=le.fit_transform(df_cat['Education'])\n",
    "le_edu"
   ]
  },
  {
   "cell_type": "code",
   "execution_count": 118,
   "id": "1a42710f",
   "metadata": {},
   "outputs": [],
   "source": [
    "df_cat['Education']=le_edu"
   ]
  },
  {
   "cell_type": "code",
   "execution_count": 119,
   "id": "491a1214",
   "metadata": {},
   "outputs": [
    {
     "data": {
      "text/plain": [
       "array([0, 0, 1, 0, 0, 1, 0, 0, 0, 0, 0, 0, 0, 0, 0, 0, 0, 0, 0, 0, 0, 0,\n",
       "       0, 0, 0, 1, 0, 0, 0, 0, 0, 0, 1, 0, 0, 0, 0, 0, 0, 0, 0, 0, 0, 0,\n",
       "       1, 0, 0, 0, 0, 0, 0, 0, 0, 0, 1, 0, 0, 0, 0, 0, 0, 0, 1, 0, 0, 0,\n",
       "       0, 0, 1, 0, 0, 1, 0, 0, 1, 0, 0, 1, 0, 1, 0, 1, 0, 0, 0, 0, 0, 0,\n",
       "       0, 0, 0, 0, 0, 0, 0, 0, 0, 0, 0, 0, 0, 0, 0, 0, 0, 0, 0, 0, 0, 0,\n",
       "       0, 0, 0, 1, 0, 0, 0, 0, 0, 0, 0, 0, 0, 0, 0, 0, 0, 0, 1, 0, 1, 0,\n",
       "       0, 1, 0, 0, 0, 1, 0, 0, 0, 0, 1, 0, 0, 0, 0, 0, 0, 0, 0, 1, 0, 0,\n",
       "       0, 0, 0, 0, 0, 0, 0, 0, 0, 0, 0, 0, 0, 0, 0, 0, 0, 0, 0, 0, 1, 0,\n",
       "       0, 0, 0, 0, 0, 0, 0, 0, 0, 1, 1, 0, 1, 0, 0, 0, 0, 0, 0, 0, 0, 0,\n",
       "       0, 1, 0, 0, 0, 0, 0, 0, 0, 0, 0, 0, 0, 0, 1, 1, 0, 0, 0, 0, 0, 0,\n",
       "       0, 0, 0, 0, 0, 0, 1, 0, 0, 1, 0, 0, 0, 0, 0, 0, 0, 1, 0, 0, 0, 0,\n",
       "       0, 1, 0, 1, 0, 0, 0, 0, 0, 0, 1, 0, 1, 0, 0, 0, 0, 0, 0, 0, 0, 0,\n",
       "       1, 0, 0, 0, 0, 0, 0, 0, 0, 0, 0, 0, 0, 0, 0, 0, 1, 0, 0, 0, 0, 0,\n",
       "       1, 0, 0, 0, 0, 0, 0, 0, 0, 0, 0, 0, 0, 0, 0, 0, 0, 0, 0, 0, 0, 0,\n",
       "       0, 0, 0, 0, 0, 1, 0, 0, 0, 0, 0, 1, 0, 0, 0, 0, 0, 1, 0, 1, 0, 0,\n",
       "       0, 0, 0, 0, 1, 1, 0, 1, 0, 0, 0, 0, 0, 0, 0, 0, 0, 0, 0, 0, 0, 0,\n",
       "       0, 1, 0, 0, 0, 0, 0, 0, 0, 0, 0, 0, 1, 0, 0, 0, 0, 0, 1, 0, 1, 0,\n",
       "       0, 0, 0, 0, 0, 0, 0, 0, 0, 1, 0, 0, 0, 0, 0, 0, 0, 0, 0, 0, 0, 0,\n",
       "       0, 0, 0, 0, 0, 0, 0, 0, 1, 0, 0, 0, 0, 0, 1, 0, 0, 0, 0, 0, 0, 1,\n",
       "       0, 0, 0, 0, 0, 0, 0, 0, 0, 0, 0, 0, 1, 0, 0, 0, 0, 0, 0, 0, 1, 1,\n",
       "       0, 0, 0, 0, 0, 1, 0, 0, 0, 1, 0, 0, 0, 0, 1, 0, 0, 0, 0, 0, 1, 0,\n",
       "       0, 0, 0, 0, 0, 0, 0, 0, 1, 0, 0, 1, 0, 1, 0, 0, 1, 0, 0, 0, 0, 0,\n",
       "       0, 0, 0, 0, 1, 0, 0, 0, 0, 1, 0, 0, 0, 0, 1, 0, 0, 0, 0, 0, 0, 0,\n",
       "       0, 0, 1, 0, 0, 0, 0, 0, 0, 0, 0, 0, 0, 0, 0, 0, 1, 1, 0, 1, 0, 0,\n",
       "       0, 0, 0, 0, 0, 0, 1, 0, 0, 0, 0, 0, 0, 0, 0, 0, 0, 0, 0, 0, 0, 0,\n",
       "       1, 0, 0, 0, 0, 0, 0, 1, 0, 0, 0, 1, 0, 1, 0, 0, 0, 0, 0, 0, 0, 0,\n",
       "       0, 0, 0, 0, 0, 0, 0, 0, 0, 0, 0, 0, 0, 0, 0, 0, 0, 1, 0, 1, 1, 0,\n",
       "       1, 0, 1, 0, 1, 0, 0, 0, 0, 0, 0, 0, 0, 0, 0, 0, 0, 0, 0, 1])"
      ]
     },
     "execution_count": 119,
     "metadata": {},
     "output_type": "execute_result"
    }
   ],
   "source": [
    "le_se=le.fit_transform(df_cat['Self_Employed'])\n",
    "le_se"
   ]
  },
  {
   "cell_type": "code",
   "execution_count": 120,
   "id": "512b23cb",
   "metadata": {},
   "outputs": [],
   "source": [
    "df_cat['Self_Employed']=le_se"
   ]
  },
  {
   "cell_type": "code",
   "execution_count": 121,
   "id": "153da3a7",
   "metadata": {},
   "outputs": [
    {
     "data": {
      "text/plain": [
       "array([1, 1, 1, 1, 1, 1, 1, 0, 1, 1, 1, 1, 1, 1, 1, 1, 1, 0, 1, 1, 0, 1,\n",
       "       0, 0, 1, 1, 1, 1, 1, 1, 1, 1, 1, 1, 1, 1, 0, 1, 1, 1, 1, 1, 1, 1,\n",
       "       1, 1, 1, 1, 0, 1, 1, 1, 1, 1, 0, 1, 1, 1, 1, 1, 1, 1, 0, 0, 0, 1,\n",
       "       0, 1, 1, 0, 1, 1, 1, 0, 1, 1, 1, 1, 0, 1, 1, 1, 1, 1, 1, 1, 1, 1,\n",
       "       1, 1, 1, 1, 1, 1, 1, 1, 1, 1, 1, 1, 1, 1, 1, 1, 1, 1, 1, 1, 0, 1,\n",
       "       1, 1, 0, 1, 1, 1, 1, 1, 1, 1, 1, 1, 0, 1, 1, 1, 1, 1, 0, 1, 1, 1,\n",
       "       1, 1, 1, 1, 1, 1, 0, 1, 1, 1, 1, 1, 1, 1, 1, 1, 1, 1, 0, 1, 1, 1,\n",
       "       1, 0, 1, 1, 1, 1, 1, 1, 0, 1, 1, 1, 1, 1, 0, 1, 1, 1, 1, 1, 1, 1,\n",
       "       1, 0, 1, 0, 0, 1, 1, 1, 1, 1, 0, 1, 1, 1, 1, 1, 1, 1, 1, 1, 1, 1,\n",
       "       1, 1, 1, 0, 1, 1, 1, 1, 1, 1, 1, 1, 1, 0, 1, 1, 1, 1, 1, 1, 0, 1,\n",
       "       0, 1, 1, 1, 1, 1, 1, 1, 1, 1, 1, 1, 1, 1, 1, 1, 1, 1, 1, 1, 1, 1,\n",
       "       1, 1, 1, 1, 1, 1, 1, 1, 0, 1, 1, 1, 0, 1, 0, 1, 1, 1, 1, 1, 1, 1,\n",
       "       1, 1, 1, 0, 1, 1, 1, 1, 1, 1, 1, 1, 1, 1, 1, 1, 0, 1, 1, 1, 1, 1,\n",
       "       1, 1, 1, 1, 1, 0, 1, 0, 1, 1, 1, 1, 1, 1, 0, 1, 1, 1, 1, 1, 1, 0,\n",
       "       1, 1, 1, 1, 1, 1, 1, 1, 1, 1, 1, 1, 1, 1, 1, 1, 1, 0, 0, 1, 1, 1,\n",
       "       1, 1, 1, 1, 1, 1, 1, 1, 0, 1, 1, 1, 1, 1, 1, 1, 0, 1, 1, 1, 1, 1,\n",
       "       1, 0, 1, 1, 1, 1, 0, 1, 1, 1, 1, 1, 1, 1, 1, 0, 1, 1, 1, 1, 1, 0,\n",
       "       1, 1, 1, 1, 1, 1, 1, 1, 1, 1, 1, 1, 1, 0, 1, 1, 1, 1, 1, 1, 1, 1,\n",
       "       0, 1, 1, 0, 0, 1, 1, 1, 1, 1, 1, 1, 0, 0, 1, 1, 0, 1, 0, 1, 1, 1,\n",
       "       1, 1, 1, 0, 1, 0, 1, 1, 1, 1, 1, 1, 1, 0, 1, 1, 1, 1, 1, 1, 0, 1,\n",
       "       1, 1, 1, 1, 1, 1, 1, 1, 0, 1, 0, 1, 0, 0, 1, 1, 1, 1, 1, 1, 1, 1,\n",
       "       1, 1, 0, 1, 0, 1, 1, 1, 1, 0, 1, 1, 1, 1, 1, 0, 1, 1, 1, 1, 1, 1,\n",
       "       1, 1, 0, 1, 1, 1, 1, 1, 1, 1, 0, 1, 1, 1, 1, 0, 1, 1, 1, 1, 1, 1,\n",
       "       1, 1, 1, 1, 1, 1, 1, 1, 1, 1, 1, 0, 1, 1, 1, 1, 1, 1, 1, 1, 1, 0,\n",
       "       1, 1, 1, 1, 0, 1, 1, 1, 1, 1, 1, 1, 1, 0, 1, 1, 1, 1, 1, 1, 0, 1,\n",
       "       0, 1, 1, 0, 0, 1, 1, 1, 1, 1, 1, 1, 1, 1, 0, 1, 1, 0, 1, 0, 1, 0,\n",
       "       1, 1, 1, 1, 0, 1, 1, 1, 1, 1, 1, 1, 0, 1, 1, 1, 1, 0, 1, 1, 1, 1,\n",
       "       1, 1, 1, 0, 1, 1, 1, 1, 1, 1, 1, 1, 1, 1, 1, 1, 1, 1, 1, 0],\n",
       "      dtype=int64)"
      ]
     },
     "execution_count": 121,
     "metadata": {},
     "output_type": "execute_result"
    }
   ],
   "source": [
    "le_ch=le.fit_transform(df_cat['Credit_History'])\n",
    "le_ch"
   ]
  },
  {
   "cell_type": "code",
   "execution_count": 122,
   "id": "5d2222bb",
   "metadata": {},
   "outputs": [],
   "source": [
    "df_cat['Credit_History']=le_ch"
   ]
  },
  {
   "cell_type": "code",
   "execution_count": 123,
   "id": "4c10041e",
   "metadata": {},
   "outputs": [
    {
     "data": {
      "text/plain": [
       "array([2, 0, 2, 2, 2, 2, 2, 1, 2, 1, 2, 2, 2, 0, 2, 2, 2, 2, 0, 2, 2, 2,\n",
       "       1, 0, 1, 1, 1, 2, 2, 1, 2, 2, 0, 1, 0, 2, 2, 1, 2, 1, 2, 2, 2, 1,\n",
       "       2, 2, 2, 2, 2, 1, 1, 1, 1, 2, 2, 1, 1, 0, 2, 2, 2, 2, 0, 0, 1, 1,\n",
       "       2, 2, 2, 1, 2, 1, 1, 1, 1, 2, 2, 2, 1, 1, 1, 1, 2, 1, 2, 1, 1, 1,\n",
       "       2, 1, 1, 1, 2, 1, 1, 2, 1, 1, 1, 1, 2, 1, 2, 1, 2, 2, 2, 0, 2, 1,\n",
       "       2, 1, 0, 1, 1, 0, 1, 2, 0, 2, 0, 1, 1, 1, 0, 0, 0, 0, 2, 0, 2, 2,\n",
       "       1, 1, 1, 1, 0, 2, 1, 0, 0, 2, 1, 1, 2, 1, 2, 2, 0, 1, 0, 0, 2, 0,\n",
       "       2, 1, 0, 2, 0, 1, 1, 2, 1, 0, 2, 0, 0, 0, 1, 1, 0, 2, 0, 1, 1, 0,\n",
       "       0, 1, 1, 2, 2, 0, 1, 1, 1, 1, 0, 0, 0, 0, 0, 1, 2, 1, 0, 1, 0, 2,\n",
       "       1, 2, 1, 1, 2, 2, 1, 1, 2, 0, 2, 1, 1, 1, 2, 0, 2, 1, 0, 1, 1, 1,\n",
       "       2, 1, 1, 1, 1, 0, 2, 1, 1, 0, 1, 0, 0, 1, 1, 0, 2, 2, 0, 1, 0, 2,\n",
       "       2, 0, 1, 2, 2, 2, 1, 2, 1, 2, 0, 1, 2, 0, 0, 2, 0, 1, 2, 1, 1, 0,\n",
       "       1, 0, 1, 2, 0, 2, 2, 2, 0, 1, 1, 1, 1, 2, 1, 0, 2, 1, 2, 2, 0, 0,\n",
       "       1, 0, 1, 0, 0, 1, 2, 2, 1, 2, 1, 2, 0, 2, 2, 1, 0, 2, 0, 2, 0, 2,\n",
       "       0, 0, 1, 1, 0, 0, 0, 2, 1, 2, 1, 0, 1, 1, 0, 0, 0, 0, 0, 1, 2, 2,\n",
       "       2, 1, 2, 2, 2, 1, 0, 0, 2, 1, 0, 0, 2, 1, 0, 1, 0, 2, 1, 0, 1, 0,\n",
       "       0, 0, 1, 2, 0, 2, 2, 1, 1, 1, 2, 2, 0, 0, 1, 0, 1, 0, 1, 1, 0, 2,\n",
       "       2, 2, 0, 1, 2, 2, 1, 1, 2, 2, 2, 2, 1, 2, 2, 0, 0, 0, 2, 1, 2, 1,\n",
       "       2, 2, 0, 1, 2, 0, 1, 1, 0, 1, 2, 0, 1, 0, 1, 2, 0, 0, 1, 2, 2, 2,\n",
       "       0, 1, 0, 2, 2, 2, 1, 0, 0, 1, 0, 2, 1, 0, 1, 1, 2, 1, 1, 2, 2, 0,\n",
       "       1, 0, 1, 1, 0, 0, 0, 0, 0, 1, 0, 2, 0, 0, 1, 1, 2, 2, 0, 1, 1, 2,\n",
       "       0, 1, 1, 0, 2, 1, 1, 2, 1, 0, 1, 2, 0, 0, 1, 1, 1, 2, 0, 0, 1, 1,\n",
       "       1, 0, 0, 2, 1, 2, 1, 2, 0, 1, 0, 1, 0, 2, 1, 0, 0, 1, 1, 0, 1, 0,\n",
       "       2, 2, 2, 2, 0, 1, 2, 1, 0, 0, 1, 1, 1, 0, 1, 1, 0, 0, 1, 0, 1, 1,\n",
       "       1, 1, 0, 2, 0, 1, 2, 0, 2, 1, 0, 0, 1, 1, 1, 2, 1, 0, 1, 0, 1, 0,\n",
       "       0, 0, 2, 2, 0, 1, 2, 1, 1, 1, 1, 1, 0, 1, 2, 0, 2, 0, 2, 2, 2, 2,\n",
       "       2, 1, 1, 2, 1, 2, 0, 2, 1, 2, 1, 0, 0, 0, 2, 1, 1, 1, 1, 1, 1, 0,\n",
       "       2, 0, 0, 1, 0, 2, 2, 0, 2, 0, 1, 2, 1, 0, 0, 0, 0, 2, 2, 1])"
      ]
     },
     "execution_count": 123,
     "metadata": {},
     "output_type": "execute_result"
    }
   ],
   "source": [
    "le_pa=le.fit_transform(df_cat['Property_Area'])\n",
    "le_pa"
   ]
  },
  {
   "cell_type": "code",
   "execution_count": 124,
   "id": "d59b1a4d",
   "metadata": {},
   "outputs": [],
   "source": [
    "df_cat['Property_Area']=le_pa"
   ]
  },
  {
   "cell_type": "code",
   "execution_count": 125,
   "id": "725fd73b",
   "metadata": {},
   "outputs": [
    {
     "data": {
      "text/plain": [
       "Index(['Gender', 'Married', 'Dependents', 'Education', 'Self_Employed',\n",
       "       'Credit_History', 'Property_Area'],\n",
       "      dtype='object')"
      ]
     },
     "execution_count": 125,
     "metadata": {},
     "output_type": "execute_result"
    }
   ],
   "source": [
    "# After Encoding all the columns:\n",
    "df_cat.columns"
   ]
  },
  {
   "cell_type": "code",
   "execution_count": 126,
   "id": "f620a178",
   "metadata": {},
   "outputs": [],
   "source": [
    "df.drop(columns=['Gender', 'Married', 'Dependents', 'Education', 'Self_Employed',\n",
    "       'Credit_History', 'Property_Area'])"
   ]
  },
  {
   "cell_type": "code",
   "execution_count": 139,
   "id": "e7808d5a",
   "metadata": {},
   "outputs": [
    {
     "data": {
      "text/html": [
       "<div>\n",
       "<style scoped>\n",
       "    .dataframe tbody tr th:only-of-type {\n",
       "        vertical-align: middle;\n",
       "    }\n",
       "\n",
       "    .dataframe tbody tr th {\n",
       "        vertical-align: top;\n",
       "    }\n",
       "\n",
       "    .dataframe thead th {\n",
       "        text-align: right;\n",
       "    }\n",
       "</style>\n",
       "<table border=\"1\" class=\"dataframe\">\n",
       "  <thead>\n",
       "    <tr style=\"text-align: right;\">\n",
       "      <th></th>\n",
       "      <th>Loan_ID</th>\n",
       "      <th>ApplicantIncome</th>\n",
       "      <th>CoapplicantIncome</th>\n",
       "      <th>LoanAmount</th>\n",
       "      <th>Loan_Amount_Term</th>\n",
       "      <th>Loan_Status</th>\n",
       "    </tr>\n",
       "  </thead>\n",
       "  <tbody>\n",
       "    <tr>\n",
       "      <th>0</th>\n",
       "      <td>LP001002</td>\n",
       "      <td>5849</td>\n",
       "      <td>0.0</td>\n",
       "      <td>146.412162</td>\n",
       "      <td>360.0</td>\n",
       "      <td>1</td>\n",
       "    </tr>\n",
       "    <tr>\n",
       "      <th>1</th>\n",
       "      <td>LP001003</td>\n",
       "      <td>4583</td>\n",
       "      <td>1508.0</td>\n",
       "      <td>128.000000</td>\n",
       "      <td>360.0</td>\n",
       "      <td>0</td>\n",
       "    </tr>\n",
       "    <tr>\n",
       "      <th>2</th>\n",
       "      <td>LP001005</td>\n",
       "      <td>3000</td>\n",
       "      <td>0.0</td>\n",
       "      <td>66.000000</td>\n",
       "      <td>360.0</td>\n",
       "      <td>1</td>\n",
       "    </tr>\n",
       "    <tr>\n",
       "      <th>3</th>\n",
       "      <td>LP001006</td>\n",
       "      <td>2583</td>\n",
       "      <td>2358.0</td>\n",
       "      <td>120.000000</td>\n",
       "      <td>360.0</td>\n",
       "      <td>1</td>\n",
       "    </tr>\n",
       "    <tr>\n",
       "      <th>4</th>\n",
       "      <td>LP001008</td>\n",
       "      <td>6000</td>\n",
       "      <td>0.0</td>\n",
       "      <td>141.000000</td>\n",
       "      <td>360.0</td>\n",
       "      <td>1</td>\n",
       "    </tr>\n",
       "    <tr>\n",
       "      <th>...</th>\n",
       "      <td>...</td>\n",
       "      <td>...</td>\n",
       "      <td>...</td>\n",
       "      <td>...</td>\n",
       "      <td>...</td>\n",
       "      <td>...</td>\n",
       "    </tr>\n",
       "    <tr>\n",
       "      <th>609</th>\n",
       "      <td>LP002978</td>\n",
       "      <td>2900</td>\n",
       "      <td>0.0</td>\n",
       "      <td>71.000000</td>\n",
       "      <td>360.0</td>\n",
       "      <td>1</td>\n",
       "    </tr>\n",
       "    <tr>\n",
       "      <th>610</th>\n",
       "      <td>LP002979</td>\n",
       "      <td>4106</td>\n",
       "      <td>0.0</td>\n",
       "      <td>40.000000</td>\n",
       "      <td>180.0</td>\n",
       "      <td>1</td>\n",
       "    </tr>\n",
       "    <tr>\n",
       "      <th>611</th>\n",
       "      <td>LP002983</td>\n",
       "      <td>8072</td>\n",
       "      <td>240.0</td>\n",
       "      <td>253.000000</td>\n",
       "      <td>360.0</td>\n",
       "      <td>1</td>\n",
       "    </tr>\n",
       "    <tr>\n",
       "      <th>612</th>\n",
       "      <td>LP002984</td>\n",
       "      <td>7583</td>\n",
       "      <td>0.0</td>\n",
       "      <td>187.000000</td>\n",
       "      <td>360.0</td>\n",
       "      <td>1</td>\n",
       "    </tr>\n",
       "    <tr>\n",
       "      <th>613</th>\n",
       "      <td>LP002990</td>\n",
       "      <td>4583</td>\n",
       "      <td>0.0</td>\n",
       "      <td>133.000000</td>\n",
       "      <td>360.0</td>\n",
       "      <td>0</td>\n",
       "    </tr>\n",
       "  </tbody>\n",
       "</table>\n",
       "<p>614 rows × 6 columns</p>\n",
       "</div>"
      ],
      "text/plain": [
       "      Loan_ID  ApplicantIncome  CoapplicantIncome  LoanAmount  \\\n",
       "0    LP001002             5849                0.0  146.412162   \n",
       "1    LP001003             4583             1508.0  128.000000   \n",
       "2    LP001005             3000                0.0   66.000000   \n",
       "3    LP001006             2583             2358.0  120.000000   \n",
       "4    LP001008             6000                0.0  141.000000   \n",
       "..        ...              ...                ...         ...   \n",
       "609  LP002978             2900                0.0   71.000000   \n",
       "610  LP002979             4106                0.0   40.000000   \n",
       "611  LP002983             8072              240.0  253.000000   \n",
       "612  LP002984             7583                0.0  187.000000   \n",
       "613  LP002990             4583                0.0  133.000000   \n",
       "\n",
       "     Loan_Amount_Term  Loan_Status  \n",
       "0               360.0            1  \n",
       "1               360.0            0  \n",
       "2               360.0            1  \n",
       "3               360.0            1  \n",
       "4               360.0            1  \n",
       "..                ...          ...  \n",
       "609             360.0            1  \n",
       "610             180.0            1  \n",
       "611             360.0            1  \n",
       "612             360.0            1  \n",
       "613             360.0            0  \n",
       "\n",
       "[614 rows x 6 columns]"
      ]
     },
     "execution_count": 139,
     "metadata": {},
     "output_type": "execute_result"
    }
   ],
   "source": [
    "df"
   ]
  },
  {
   "cell_type": "code",
   "execution_count": 129,
   "id": "32ea9ac3",
   "metadata": {},
   "outputs": [
    {
     "data": {
      "text/plain": [
       "(614, 6)"
      ]
     },
     "execution_count": 129,
     "metadata": {},
     "output_type": "execute_result"
    }
   ],
   "source": [
    "df.shape"
   ]
  },
  {
   "cell_type": "code",
   "execution_count": 130,
   "id": "357004a3",
   "metadata": {},
   "outputs": [
    {
     "data": {
      "text/html": [
       "<div>\n",
       "<style scoped>\n",
       "    .dataframe tbody tr th:only-of-type {\n",
       "        vertical-align: middle;\n",
       "    }\n",
       "\n",
       "    .dataframe tbody tr th {\n",
       "        vertical-align: top;\n",
       "    }\n",
       "\n",
       "    .dataframe thead th {\n",
       "        text-align: right;\n",
       "    }\n",
       "</style>\n",
       "<table border=\"1\" class=\"dataframe\">\n",
       "  <thead>\n",
       "    <tr style=\"text-align: right;\">\n",
       "      <th></th>\n",
       "      <th>Gender</th>\n",
       "      <th>Married</th>\n",
       "      <th>Dependents</th>\n",
       "      <th>Education</th>\n",
       "      <th>Self_Employed</th>\n",
       "      <th>Credit_History</th>\n",
       "      <th>Property_Area</th>\n",
       "    </tr>\n",
       "  </thead>\n",
       "  <tbody>\n",
       "    <tr>\n",
       "      <th>0</th>\n",
       "      <td>1</td>\n",
       "      <td>1</td>\n",
       "      <td>0</td>\n",
       "      <td>0</td>\n",
       "      <td>0</td>\n",
       "      <td>1</td>\n",
       "      <td>2</td>\n",
       "    </tr>\n",
       "    <tr>\n",
       "      <th>1</th>\n",
       "      <td>1</td>\n",
       "      <td>2</td>\n",
       "      <td>1</td>\n",
       "      <td>0</td>\n",
       "      <td>0</td>\n",
       "      <td>1</td>\n",
       "      <td>0</td>\n",
       "    </tr>\n",
       "    <tr>\n",
       "      <th>2</th>\n",
       "      <td>1</td>\n",
       "      <td>2</td>\n",
       "      <td>0</td>\n",
       "      <td>0</td>\n",
       "      <td>1</td>\n",
       "      <td>1</td>\n",
       "      <td>2</td>\n",
       "    </tr>\n",
       "    <tr>\n",
       "      <th>3</th>\n",
       "      <td>1</td>\n",
       "      <td>2</td>\n",
       "      <td>0</td>\n",
       "      <td>1</td>\n",
       "      <td>0</td>\n",
       "      <td>1</td>\n",
       "      <td>2</td>\n",
       "    </tr>\n",
       "    <tr>\n",
       "      <th>4</th>\n",
       "      <td>1</td>\n",
       "      <td>1</td>\n",
       "      <td>0</td>\n",
       "      <td>0</td>\n",
       "      <td>0</td>\n",
       "      <td>1</td>\n",
       "      <td>2</td>\n",
       "    </tr>\n",
       "    <tr>\n",
       "      <th>...</th>\n",
       "      <td>...</td>\n",
       "      <td>...</td>\n",
       "      <td>...</td>\n",
       "      <td>...</td>\n",
       "      <td>...</td>\n",
       "      <td>...</td>\n",
       "      <td>...</td>\n",
       "    </tr>\n",
       "    <tr>\n",
       "      <th>609</th>\n",
       "      <td>0</td>\n",
       "      <td>1</td>\n",
       "      <td>0</td>\n",
       "      <td>0</td>\n",
       "      <td>0</td>\n",
       "      <td>1</td>\n",
       "      <td>0</td>\n",
       "    </tr>\n",
       "    <tr>\n",
       "      <th>610</th>\n",
       "      <td>1</td>\n",
       "      <td>2</td>\n",
       "      <td>3</td>\n",
       "      <td>0</td>\n",
       "      <td>0</td>\n",
       "      <td>1</td>\n",
       "      <td>0</td>\n",
       "    </tr>\n",
       "    <tr>\n",
       "      <th>611</th>\n",
       "      <td>1</td>\n",
       "      <td>2</td>\n",
       "      <td>1</td>\n",
       "      <td>0</td>\n",
       "      <td>0</td>\n",
       "      <td>1</td>\n",
       "      <td>2</td>\n",
       "    </tr>\n",
       "    <tr>\n",
       "      <th>612</th>\n",
       "      <td>1</td>\n",
       "      <td>2</td>\n",
       "      <td>2</td>\n",
       "      <td>0</td>\n",
       "      <td>0</td>\n",
       "      <td>1</td>\n",
       "      <td>2</td>\n",
       "    </tr>\n",
       "    <tr>\n",
       "      <th>613</th>\n",
       "      <td>0</td>\n",
       "      <td>1</td>\n",
       "      <td>0</td>\n",
       "      <td>0</td>\n",
       "      <td>1</td>\n",
       "      <td>0</td>\n",
       "      <td>1</td>\n",
       "    </tr>\n",
       "  </tbody>\n",
       "</table>\n",
       "<p>614 rows × 7 columns</p>\n",
       "</div>"
      ],
      "text/plain": [
       "     Gender  Married  Dependents  Education  Self_Employed  Credit_History  \\\n",
       "0         1        1           0          0              0               1   \n",
       "1         1        2           1          0              0               1   \n",
       "2         1        2           0          0              1               1   \n",
       "3         1        2           0          1              0               1   \n",
       "4         1        1           0          0              0               1   \n",
       "..      ...      ...         ...        ...            ...             ...   \n",
       "609       0        1           0          0              0               1   \n",
       "610       1        2           3          0              0               1   \n",
       "611       1        2           1          0              0               1   \n",
       "612       1        2           2          0              0               1   \n",
       "613       0        1           0          0              1               0   \n",
       "\n",
       "     Property_Area  \n",
       "0                2  \n",
       "1                0  \n",
       "2                2  \n",
       "3                2  \n",
       "4                2  \n",
       "..             ...  \n",
       "609              0  \n",
       "610              0  \n",
       "611              2  \n",
       "612              2  \n",
       "613              1  \n",
       "\n",
       "[614 rows x 7 columns]"
      ]
     },
     "execution_count": 130,
     "metadata": {},
     "output_type": "execute_result"
    }
   ],
   "source": [
    "df_cat"
   ]
  },
  {
   "cell_type": "code",
   "execution_count": 141,
   "id": "c708a299",
   "metadata": {},
   "outputs": [
    {
     "data": {
      "text/html": [
       "<div>\n",
       "<style scoped>\n",
       "    .dataframe tbody tr th:only-of-type {\n",
       "        vertical-align: middle;\n",
       "    }\n",
       "\n",
       "    .dataframe tbody tr th {\n",
       "        vertical-align: top;\n",
       "    }\n",
       "\n",
       "    .dataframe thead th {\n",
       "        text-align: right;\n",
       "    }\n",
       "</style>\n",
       "<table border=\"1\" class=\"dataframe\">\n",
       "  <thead>\n",
       "    <tr style=\"text-align: right;\">\n",
       "      <th></th>\n",
       "      <th>Loan_ID</th>\n",
       "      <th>ApplicantIncome</th>\n",
       "      <th>CoapplicantIncome</th>\n",
       "      <th>LoanAmount</th>\n",
       "      <th>Loan_Amount_Term</th>\n",
       "      <th>Loan_Status</th>\n",
       "      <th>Gender</th>\n",
       "      <th>Married</th>\n",
       "      <th>Dependents</th>\n",
       "      <th>Education</th>\n",
       "      <th>Self_Employed</th>\n",
       "      <th>Credit_History</th>\n",
       "      <th>Property_Area</th>\n",
       "    </tr>\n",
       "  </thead>\n",
       "  <tbody>\n",
       "    <tr>\n",
       "      <th>0</th>\n",
       "      <td>LP001002</td>\n",
       "      <td>5849</td>\n",
       "      <td>0.0</td>\n",
       "      <td>146.412162</td>\n",
       "      <td>360.0</td>\n",
       "      <td>1</td>\n",
       "      <td>1</td>\n",
       "      <td>1</td>\n",
       "      <td>0</td>\n",
       "      <td>0</td>\n",
       "      <td>0</td>\n",
       "      <td>1</td>\n",
       "      <td>2</td>\n",
       "    </tr>\n",
       "    <tr>\n",
       "      <th>1</th>\n",
       "      <td>LP001003</td>\n",
       "      <td>4583</td>\n",
       "      <td>1508.0</td>\n",
       "      <td>128.000000</td>\n",
       "      <td>360.0</td>\n",
       "      <td>0</td>\n",
       "      <td>1</td>\n",
       "      <td>2</td>\n",
       "      <td>1</td>\n",
       "      <td>0</td>\n",
       "      <td>0</td>\n",
       "      <td>1</td>\n",
       "      <td>0</td>\n",
       "    </tr>\n",
       "    <tr>\n",
       "      <th>2</th>\n",
       "      <td>LP001005</td>\n",
       "      <td>3000</td>\n",
       "      <td>0.0</td>\n",
       "      <td>66.000000</td>\n",
       "      <td>360.0</td>\n",
       "      <td>1</td>\n",
       "      <td>1</td>\n",
       "      <td>2</td>\n",
       "      <td>0</td>\n",
       "      <td>0</td>\n",
       "      <td>1</td>\n",
       "      <td>1</td>\n",
       "      <td>2</td>\n",
       "    </tr>\n",
       "    <tr>\n",
       "      <th>3</th>\n",
       "      <td>LP001006</td>\n",
       "      <td>2583</td>\n",
       "      <td>2358.0</td>\n",
       "      <td>120.000000</td>\n",
       "      <td>360.0</td>\n",
       "      <td>1</td>\n",
       "      <td>1</td>\n",
       "      <td>2</td>\n",
       "      <td>0</td>\n",
       "      <td>1</td>\n",
       "      <td>0</td>\n",
       "      <td>1</td>\n",
       "      <td>2</td>\n",
       "    </tr>\n",
       "    <tr>\n",
       "      <th>4</th>\n",
       "      <td>LP001008</td>\n",
       "      <td>6000</td>\n",
       "      <td>0.0</td>\n",
       "      <td>141.000000</td>\n",
       "      <td>360.0</td>\n",
       "      <td>1</td>\n",
       "      <td>1</td>\n",
       "      <td>1</td>\n",
       "      <td>0</td>\n",
       "      <td>0</td>\n",
       "      <td>0</td>\n",
       "      <td>1</td>\n",
       "      <td>2</td>\n",
       "    </tr>\n",
       "    <tr>\n",
       "      <th>...</th>\n",
       "      <td>...</td>\n",
       "      <td>...</td>\n",
       "      <td>...</td>\n",
       "      <td>...</td>\n",
       "      <td>...</td>\n",
       "      <td>...</td>\n",
       "      <td>...</td>\n",
       "      <td>...</td>\n",
       "      <td>...</td>\n",
       "      <td>...</td>\n",
       "      <td>...</td>\n",
       "      <td>...</td>\n",
       "      <td>...</td>\n",
       "    </tr>\n",
       "    <tr>\n",
       "      <th>609</th>\n",
       "      <td>LP002978</td>\n",
       "      <td>2900</td>\n",
       "      <td>0.0</td>\n",
       "      <td>71.000000</td>\n",
       "      <td>360.0</td>\n",
       "      <td>1</td>\n",
       "      <td>0</td>\n",
       "      <td>1</td>\n",
       "      <td>0</td>\n",
       "      <td>0</td>\n",
       "      <td>0</td>\n",
       "      <td>1</td>\n",
       "      <td>0</td>\n",
       "    </tr>\n",
       "    <tr>\n",
       "      <th>610</th>\n",
       "      <td>LP002979</td>\n",
       "      <td>4106</td>\n",
       "      <td>0.0</td>\n",
       "      <td>40.000000</td>\n",
       "      <td>180.0</td>\n",
       "      <td>1</td>\n",
       "      <td>1</td>\n",
       "      <td>2</td>\n",
       "      <td>3</td>\n",
       "      <td>0</td>\n",
       "      <td>0</td>\n",
       "      <td>1</td>\n",
       "      <td>0</td>\n",
       "    </tr>\n",
       "    <tr>\n",
       "      <th>611</th>\n",
       "      <td>LP002983</td>\n",
       "      <td>8072</td>\n",
       "      <td>240.0</td>\n",
       "      <td>253.000000</td>\n",
       "      <td>360.0</td>\n",
       "      <td>1</td>\n",
       "      <td>1</td>\n",
       "      <td>2</td>\n",
       "      <td>1</td>\n",
       "      <td>0</td>\n",
       "      <td>0</td>\n",
       "      <td>1</td>\n",
       "      <td>2</td>\n",
       "    </tr>\n",
       "    <tr>\n",
       "      <th>612</th>\n",
       "      <td>LP002984</td>\n",
       "      <td>7583</td>\n",
       "      <td>0.0</td>\n",
       "      <td>187.000000</td>\n",
       "      <td>360.0</td>\n",
       "      <td>1</td>\n",
       "      <td>1</td>\n",
       "      <td>2</td>\n",
       "      <td>2</td>\n",
       "      <td>0</td>\n",
       "      <td>0</td>\n",
       "      <td>1</td>\n",
       "      <td>2</td>\n",
       "    </tr>\n",
       "    <tr>\n",
       "      <th>613</th>\n",
       "      <td>LP002990</td>\n",
       "      <td>4583</td>\n",
       "      <td>0.0</td>\n",
       "      <td>133.000000</td>\n",
       "      <td>360.0</td>\n",
       "      <td>0</td>\n",
       "      <td>0</td>\n",
       "      <td>1</td>\n",
       "      <td>0</td>\n",
       "      <td>0</td>\n",
       "      <td>1</td>\n",
       "      <td>0</td>\n",
       "      <td>1</td>\n",
       "    </tr>\n",
       "  </tbody>\n",
       "</table>\n",
       "<p>614 rows × 13 columns</p>\n",
       "</div>"
      ],
      "text/plain": [
       "      Loan_ID  ApplicantIncome  CoapplicantIncome  LoanAmount  \\\n",
       "0    LP001002             5849                0.0  146.412162   \n",
       "1    LP001003             4583             1508.0  128.000000   \n",
       "2    LP001005             3000                0.0   66.000000   \n",
       "3    LP001006             2583             2358.0  120.000000   \n",
       "4    LP001008             6000                0.0  141.000000   \n",
       "..        ...              ...                ...         ...   \n",
       "609  LP002978             2900                0.0   71.000000   \n",
       "610  LP002979             4106                0.0   40.000000   \n",
       "611  LP002983             8072              240.0  253.000000   \n",
       "612  LP002984             7583                0.0  187.000000   \n",
       "613  LP002990             4583                0.0  133.000000   \n",
       "\n",
       "     Loan_Amount_Term  Loan_Status  Gender  Married  Dependents  Education  \\\n",
       "0               360.0            1       1        1           0          0   \n",
       "1               360.0            0       1        2           1          0   \n",
       "2               360.0            1       1        2           0          0   \n",
       "3               360.0            1       1        2           0          1   \n",
       "4               360.0            1       1        1           0          0   \n",
       "..                ...          ...     ...      ...         ...        ...   \n",
       "609             360.0            1       0        1           0          0   \n",
       "610             180.0            1       1        2           3          0   \n",
       "611             360.0            1       1        2           1          0   \n",
       "612             360.0            1       1        2           2          0   \n",
       "613             360.0            0       0        1           0          0   \n",
       "\n",
       "     Self_Employed  Credit_History  Property_Area  \n",
       "0                0               1              2  \n",
       "1                0               1              0  \n",
       "2                1               1              2  \n",
       "3                0               1              2  \n",
       "4                0               1              2  \n",
       "..             ...             ...            ...  \n",
       "609              0               1              0  \n",
       "610              0               1              0  \n",
       "611              0               1              2  \n",
       "612              0               1              2  \n",
       "613              1               0              1  \n",
       "\n",
       "[614 rows x 13 columns]"
      ]
     },
     "execution_count": 141,
     "metadata": {},
     "output_type": "execute_result"
    }
   ],
   "source": [
    "new=pd.concat([df,df_cat],axis=1)\n",
    "new"
   ]
  },
  {
   "cell_type": "code",
   "execution_count": 142,
   "id": "ff8aa743",
   "metadata": {},
   "outputs": [],
   "source": [
    "# removing unnecessary column,Loan_ID fromthe Dataset.\n",
    "new.drop(columns='Loan_ID',axis=1,inplace=True)"
   ]
  },
  {
   "cell_type": "code",
   "execution_count": 143,
   "id": "4f9df415",
   "metadata": {},
   "outputs": [
    {
     "data": {
      "text/html": [
       "<div>\n",
       "<style scoped>\n",
       "    .dataframe tbody tr th:only-of-type {\n",
       "        vertical-align: middle;\n",
       "    }\n",
       "\n",
       "    .dataframe tbody tr th {\n",
       "        vertical-align: top;\n",
       "    }\n",
       "\n",
       "    .dataframe thead th {\n",
       "        text-align: right;\n",
       "    }\n",
       "</style>\n",
       "<table border=\"1\" class=\"dataframe\">\n",
       "  <thead>\n",
       "    <tr style=\"text-align: right;\">\n",
       "      <th></th>\n",
       "      <th>ApplicantIncome</th>\n",
       "      <th>CoapplicantIncome</th>\n",
       "      <th>LoanAmount</th>\n",
       "      <th>Loan_Amount_Term</th>\n",
       "      <th>Loan_Status</th>\n",
       "      <th>Gender</th>\n",
       "      <th>Married</th>\n",
       "      <th>Dependents</th>\n",
       "      <th>Education</th>\n",
       "      <th>Self_Employed</th>\n",
       "      <th>Credit_History</th>\n",
       "      <th>Property_Area</th>\n",
       "    </tr>\n",
       "  </thead>\n",
       "  <tbody>\n",
       "    <tr>\n",
       "      <th>0</th>\n",
       "      <td>5849</td>\n",
       "      <td>0.0</td>\n",
       "      <td>146.412162</td>\n",
       "      <td>360.0</td>\n",
       "      <td>1</td>\n",
       "      <td>1</td>\n",
       "      <td>1</td>\n",
       "      <td>0</td>\n",
       "      <td>0</td>\n",
       "      <td>0</td>\n",
       "      <td>1</td>\n",
       "      <td>2</td>\n",
       "    </tr>\n",
       "    <tr>\n",
       "      <th>1</th>\n",
       "      <td>4583</td>\n",
       "      <td>1508.0</td>\n",
       "      <td>128.000000</td>\n",
       "      <td>360.0</td>\n",
       "      <td>0</td>\n",
       "      <td>1</td>\n",
       "      <td>2</td>\n",
       "      <td>1</td>\n",
       "      <td>0</td>\n",
       "      <td>0</td>\n",
       "      <td>1</td>\n",
       "      <td>0</td>\n",
       "    </tr>\n",
       "    <tr>\n",
       "      <th>2</th>\n",
       "      <td>3000</td>\n",
       "      <td>0.0</td>\n",
       "      <td>66.000000</td>\n",
       "      <td>360.0</td>\n",
       "      <td>1</td>\n",
       "      <td>1</td>\n",
       "      <td>2</td>\n",
       "      <td>0</td>\n",
       "      <td>0</td>\n",
       "      <td>1</td>\n",
       "      <td>1</td>\n",
       "      <td>2</td>\n",
       "    </tr>\n",
       "    <tr>\n",
       "      <th>3</th>\n",
       "      <td>2583</td>\n",
       "      <td>2358.0</td>\n",
       "      <td>120.000000</td>\n",
       "      <td>360.0</td>\n",
       "      <td>1</td>\n",
       "      <td>1</td>\n",
       "      <td>2</td>\n",
       "      <td>0</td>\n",
       "      <td>1</td>\n",
       "      <td>0</td>\n",
       "      <td>1</td>\n",
       "      <td>2</td>\n",
       "    </tr>\n",
       "    <tr>\n",
       "      <th>4</th>\n",
       "      <td>6000</td>\n",
       "      <td>0.0</td>\n",
       "      <td>141.000000</td>\n",
       "      <td>360.0</td>\n",
       "      <td>1</td>\n",
       "      <td>1</td>\n",
       "      <td>1</td>\n",
       "      <td>0</td>\n",
       "      <td>0</td>\n",
       "      <td>0</td>\n",
       "      <td>1</td>\n",
       "      <td>2</td>\n",
       "    </tr>\n",
       "    <tr>\n",
       "      <th>...</th>\n",
       "      <td>...</td>\n",
       "      <td>...</td>\n",
       "      <td>...</td>\n",
       "      <td>...</td>\n",
       "      <td>...</td>\n",
       "      <td>...</td>\n",
       "      <td>...</td>\n",
       "      <td>...</td>\n",
       "      <td>...</td>\n",
       "      <td>...</td>\n",
       "      <td>...</td>\n",
       "      <td>...</td>\n",
       "    </tr>\n",
       "    <tr>\n",
       "      <th>609</th>\n",
       "      <td>2900</td>\n",
       "      <td>0.0</td>\n",
       "      <td>71.000000</td>\n",
       "      <td>360.0</td>\n",
       "      <td>1</td>\n",
       "      <td>0</td>\n",
       "      <td>1</td>\n",
       "      <td>0</td>\n",
       "      <td>0</td>\n",
       "      <td>0</td>\n",
       "      <td>1</td>\n",
       "      <td>0</td>\n",
       "    </tr>\n",
       "    <tr>\n",
       "      <th>610</th>\n",
       "      <td>4106</td>\n",
       "      <td>0.0</td>\n",
       "      <td>40.000000</td>\n",
       "      <td>180.0</td>\n",
       "      <td>1</td>\n",
       "      <td>1</td>\n",
       "      <td>2</td>\n",
       "      <td>3</td>\n",
       "      <td>0</td>\n",
       "      <td>0</td>\n",
       "      <td>1</td>\n",
       "      <td>0</td>\n",
       "    </tr>\n",
       "    <tr>\n",
       "      <th>611</th>\n",
       "      <td>8072</td>\n",
       "      <td>240.0</td>\n",
       "      <td>253.000000</td>\n",
       "      <td>360.0</td>\n",
       "      <td>1</td>\n",
       "      <td>1</td>\n",
       "      <td>2</td>\n",
       "      <td>1</td>\n",
       "      <td>0</td>\n",
       "      <td>0</td>\n",
       "      <td>1</td>\n",
       "      <td>2</td>\n",
       "    </tr>\n",
       "    <tr>\n",
       "      <th>612</th>\n",
       "      <td>7583</td>\n",
       "      <td>0.0</td>\n",
       "      <td>187.000000</td>\n",
       "      <td>360.0</td>\n",
       "      <td>1</td>\n",
       "      <td>1</td>\n",
       "      <td>2</td>\n",
       "      <td>2</td>\n",
       "      <td>0</td>\n",
       "      <td>0</td>\n",
       "      <td>1</td>\n",
       "      <td>2</td>\n",
       "    </tr>\n",
       "    <tr>\n",
       "      <th>613</th>\n",
       "      <td>4583</td>\n",
       "      <td>0.0</td>\n",
       "      <td>133.000000</td>\n",
       "      <td>360.0</td>\n",
       "      <td>0</td>\n",
       "      <td>0</td>\n",
       "      <td>1</td>\n",
       "      <td>0</td>\n",
       "      <td>0</td>\n",
       "      <td>1</td>\n",
       "      <td>0</td>\n",
       "      <td>1</td>\n",
       "    </tr>\n",
       "  </tbody>\n",
       "</table>\n",
       "<p>614 rows × 12 columns</p>\n",
       "</div>"
      ],
      "text/plain": [
       "     ApplicantIncome  CoapplicantIncome  LoanAmount  Loan_Amount_Term  \\\n",
       "0               5849                0.0  146.412162             360.0   \n",
       "1               4583             1508.0  128.000000             360.0   \n",
       "2               3000                0.0   66.000000             360.0   \n",
       "3               2583             2358.0  120.000000             360.0   \n",
       "4               6000                0.0  141.000000             360.0   \n",
       "..               ...                ...         ...               ...   \n",
       "609             2900                0.0   71.000000             360.0   \n",
       "610             4106                0.0   40.000000             180.0   \n",
       "611             8072              240.0  253.000000             360.0   \n",
       "612             7583                0.0  187.000000             360.0   \n",
       "613             4583                0.0  133.000000             360.0   \n",
       "\n",
       "     Loan_Status  Gender  Married  Dependents  Education  Self_Employed  \\\n",
       "0              1       1        1           0          0              0   \n",
       "1              0       1        2           1          0              0   \n",
       "2              1       1        2           0          0              1   \n",
       "3              1       1        2           0          1              0   \n",
       "4              1       1        1           0          0              0   \n",
       "..           ...     ...      ...         ...        ...            ...   \n",
       "609            1       0        1           0          0              0   \n",
       "610            1       1        2           3          0              0   \n",
       "611            1       1        2           1          0              0   \n",
       "612            1       1        2           2          0              0   \n",
       "613            0       0        1           0          0              1   \n",
       "\n",
       "     Credit_History  Property_Area  \n",
       "0                 1              2  \n",
       "1                 1              0  \n",
       "2                 1              2  \n",
       "3                 1              2  \n",
       "4                 1              2  \n",
       "..              ...            ...  \n",
       "609               1              0  \n",
       "610               1              0  \n",
       "611               1              2  \n",
       "612               1              2  \n",
       "613               0              1  \n",
       "\n",
       "[614 rows x 12 columns]"
      ]
     },
     "execution_count": 143,
     "metadata": {},
     "output_type": "execute_result"
    }
   ],
   "source": [
    "new"
   ]
  },
  {
   "cell_type": "code",
   "execution_count": 144,
   "id": "2eb3feda",
   "metadata": {},
   "outputs": [
    {
     "data": {
      "text/plain": [
       "ApplicantIncome        int64\n",
       "CoapplicantIncome    float64\n",
       "LoanAmount           float64\n",
       "Loan_Amount_Term     float64\n",
       "Loan_Status            int64\n",
       "Gender                 int32\n",
       "Married                int32\n",
       "Dependents             int32\n",
       "Education              int32\n",
       "Self_Employed          int32\n",
       "Credit_History         int64\n",
       "Property_Area          int32\n",
       "dtype: object"
      ]
     },
     "execution_count": 144,
     "metadata": {},
     "output_type": "execute_result"
    }
   ],
   "source": [
    "new.dtypes"
   ]
  },
  {
   "cell_type": "markdown",
   "id": "644e4202",
   "metadata": {},
   "source": [
    "# checking coefficient corelation"
   ]
  },
  {
   "cell_type": "code",
   "execution_count": 145,
   "id": "72e1f158",
   "metadata": {},
   "outputs": [
    {
     "data": {
      "image/png": "[encoded data removed]",
      "text/plain": [
       "<Figure size 1080x1440 with 2 Axes>"
      ]
     },
     "metadata": {
      "needs_background": "light"
     },
     "output_type": "display_data"
    }
   ],
   "source": [
    "corr=new.corr()\n",
    "plt.figure(figsize=(15,20))\n",
    "sns.heatmap(data=corr,annot=True,linewidths=0.5)\n",
    "plt.show()"
   ]
  },
  {
   "cell_type": "code",
   "execution_count": 147,
   "id": "2555bc5b",
   "metadata": {},
   "outputs": [
    {
     "data": {
      "text/plain": [
       "Loan_Status          1.000000\n",
       "Credit_History       0.540556\n",
       "Married              0.075547\n",
       "Property_Area        0.032112\n",
       "Gender               0.017987\n",
       "Dependents           0.010118\n",
       "Self_Employed       -0.003700\n",
       "ApplicantIncome     -0.004710\n",
       "Loan_Amount_Term    -0.020974\n",
       "LoanAmount          -0.036416\n",
       "CoapplicantIncome   -0.059187\n",
       "Education           -0.085884\n",
       "Name: Loan_Status, dtype: float64"
      ]
     },
     "execution_count": 147,
     "metadata": {},
     "output_type": "execute_result"
    }
   ],
   "source": [
    "corr['Loan_Status'].sort_values(ascending=False)"
   ]
  },
  {
   "cell_type": "code",
   "execution_count": 148,
   "id": "b0c9dec5",
   "metadata": {},
   "outputs": [
    {
     "data": {
      "image/png": "[encoded data removed]",
      "text/plain": [
       "<Figure size 504x576 with 1 Axes>"
      ]
     },
     "metadata": {
      "needs_background": "light"
     },
     "output_type": "display_data"
    }
   ],
   "source": [
    "plt.figure(figsize=(7,8))\n",
    "corr['Loan_Status'].sort_values(ascending=False).plot(kind='bar')\n",
    "plt.xlabel('features')\n",
    "plt.ylabel('corelation with Target')\n",
    "plt.title('Correlation')\n",
    "plt.show()"
   ]
  },
  {
   "cell_type": "code",
   "execution_count": 149,
   "id": "16efbe75",
   "metadata": {},
   "outputs": [],
   "source": [
    "# The columns gender,dependents,Selfemployed,ApplicantIncome,Loan_amount_Term,Loan_amount,Property_Area \n",
    "#is giving very less value to the Target."
   ]
  },
  {
   "cell_type": "markdown",
   "id": "da82d372",
   "metadata": {},
   "source": [
    "# Selecting best Features using Kbest method."
   ]
  },
  {
   "cell_type": "code",
   "execution_count": 150,
   "id": "fdc4b7f5",
   "metadata": {},
   "outputs": [],
   "source": [
    "# To Select the Best Features Using SelectK Best Method.\n",
    "from sklearn.feature_selection import SelectKBest, f_classif"
   ]
  },
  {
   "cell_type": "code",
   "execution_count": 151,
   "id": "f7c7ed8c",
   "metadata": {},
   "outputs": [
    {
     "data": {
      "text/html": [
       "<div>\n",
       "<style scoped>\n",
       "    .dataframe tbody tr th:only-of-type {\n",
       "        vertical-align: middle;\n",
       "    }\n",
       "\n",
       "    .dataframe tbody tr th {\n",
       "        vertical-align: top;\n",
       "    }\n",
       "\n",
       "    .dataframe thead th {\n",
       "        text-align: right;\n",
       "    }\n",
       "</style>\n",
       "<table border=\"1\" class=\"dataframe\">\n",
       "  <thead>\n",
       "    <tr style=\"text-align: right;\">\n",
       "      <th></th>\n",
       "      <th>ApplicantIncome</th>\n",
       "      <th>CoapplicantIncome</th>\n",
       "      <th>LoanAmount</th>\n",
       "      <th>Loan_Amount_Term</th>\n",
       "      <th>Gender</th>\n",
       "      <th>Married</th>\n",
       "      <th>Dependents</th>\n",
       "      <th>Education</th>\n",
       "      <th>Self_Employed</th>\n",
       "      <th>Credit_History</th>\n",
       "      <th>Property_Area</th>\n",
       "    </tr>\n",
       "  </thead>\n",
       "  <tbody>\n",
       "    <tr>\n",
       "      <th>0</th>\n",
       "      <td>5849</td>\n",
       "      <td>0.0</td>\n",
       "      <td>146.412162</td>\n",
       "      <td>360.0</td>\n",
       "      <td>1</td>\n",
       "      <td>1</td>\n",
       "      <td>0</td>\n",
       "      <td>0</td>\n",
       "      <td>0</td>\n",
       "      <td>1</td>\n",
       "      <td>2</td>\n",
       "    </tr>\n",
       "    <tr>\n",
       "      <th>1</th>\n",
       "      <td>4583</td>\n",
       "      <td>1508.0</td>\n",
       "      <td>128.000000</td>\n",
       "      <td>360.0</td>\n",
       "      <td>1</td>\n",
       "      <td>2</td>\n",
       "      <td>1</td>\n",
       "      <td>0</td>\n",
       "      <td>0</td>\n",
       "      <td>1</td>\n",
       "      <td>0</td>\n",
       "    </tr>\n",
       "    <tr>\n",
       "      <th>2</th>\n",
       "      <td>3000</td>\n",
       "      <td>0.0</td>\n",
       "      <td>66.000000</td>\n",
       "      <td>360.0</td>\n",
       "      <td>1</td>\n",
       "      <td>2</td>\n",
       "      <td>0</td>\n",
       "      <td>0</td>\n",
       "      <td>1</td>\n",
       "      <td>1</td>\n",
       "      <td>2</td>\n",
       "    </tr>\n",
       "    <tr>\n",
       "      <th>3</th>\n",
       "      <td>2583</td>\n",
       "      <td>2358.0</td>\n",
       "      <td>120.000000</td>\n",
       "      <td>360.0</td>\n",
       "      <td>1</td>\n",
       "      <td>2</td>\n",
       "      <td>0</td>\n",
       "      <td>1</td>\n",
       "      <td>0</td>\n",
       "      <td>1</td>\n",
       "      <td>2</td>\n",
       "    </tr>\n",
       "    <tr>\n",
       "      <th>4</th>\n",
       "      <td>6000</td>\n",
       "      <td>0.0</td>\n",
       "      <td>141.000000</td>\n",
       "      <td>360.0</td>\n",
       "      <td>1</td>\n",
       "      <td>1</td>\n",
       "      <td>0</td>\n",
       "      <td>0</td>\n",
       "      <td>0</td>\n",
       "      <td>1</td>\n",
       "      <td>2</td>\n",
       "    </tr>\n",
       "    <tr>\n",
       "      <th>...</th>\n",
       "      <td>...</td>\n",
       "      <td>...</td>\n",
       "      <td>...</td>\n",
       "      <td>...</td>\n",
       "      <td>...</td>\n",
       "      <td>...</td>\n",
       "      <td>...</td>\n",
       "      <td>...</td>\n",
       "      <td>...</td>\n",
       "      <td>...</td>\n",
       "      <td>...</td>\n",
       "    </tr>\n",
       "    <tr>\n",
       "      <th>609</th>\n",
       "      <td>2900</td>\n",
       "      <td>0.0</td>\n",
       "      <td>71.000000</td>\n",
       "      <td>360.0</td>\n",
       "      <td>0</td>\n",
       "      <td>1</td>\n",
       "      <td>0</td>\n",
       "      <td>0</td>\n",
       "      <td>0</td>\n",
       "      <td>1</td>\n",
       "      <td>0</td>\n",
       "    </tr>\n",
       "    <tr>\n",
       "      <th>610</th>\n",
       "      <td>4106</td>\n",
       "      <td>0.0</td>\n",
       "      <td>40.000000</td>\n",
       "      <td>180.0</td>\n",
       "      <td>1</td>\n",
       "      <td>2</td>\n",
       "      <td>3</td>\n",
       "      <td>0</td>\n",
       "      <td>0</td>\n",
       "      <td>1</td>\n",
       "      <td>0</td>\n",
       "    </tr>\n",
       "    <tr>\n",
       "      <th>611</th>\n",
       "      <td>8072</td>\n",
       "      <td>240.0</td>\n",
       "      <td>253.000000</td>\n",
       "      <td>360.0</td>\n",
       "      <td>1</td>\n",
       "      <td>2</td>\n",
       "      <td>1</td>\n",
       "      <td>0</td>\n",
       "      <td>0</td>\n",
       "      <td>1</td>\n",
       "      <td>2</td>\n",
       "    </tr>\n",
       "    <tr>\n",
       "      <th>612</th>\n",
       "      <td>7583</td>\n",
       "      <td>0.0</td>\n",
       "      <td>187.000000</td>\n",
       "      <td>360.0</td>\n",
       "      <td>1</td>\n",
       "      <td>2</td>\n",
       "      <td>2</td>\n",
       "      <td>0</td>\n",
       "      <td>0</td>\n",
       "      <td>1</td>\n",
       "      <td>2</td>\n",
       "    </tr>\n",
       "    <tr>\n",
       "      <th>613</th>\n",
       "      <td>4583</td>\n",
       "      <td>0.0</td>\n",
       "      <td>133.000000</td>\n",
       "      <td>360.0</td>\n",
       "      <td>0</td>\n",
       "      <td>1</td>\n",
       "      <td>0</td>\n",
       "      <td>0</td>\n",
       "      <td>1</td>\n",
       "      <td>0</td>\n",
       "      <td>1</td>\n",
       "    </tr>\n",
       "  </tbody>\n",
       "</table>\n",
       "<p>614 rows × 11 columns</p>\n",
       "</div>"
      ],
      "text/plain": [
       "     ApplicantIncome  CoapplicantIncome  LoanAmount  Loan_Amount_Term  Gender  \\\n",
       "0               5849                0.0  146.412162             360.0       1   \n",
       "1               4583             1508.0  128.000000             360.0       1   \n",
       "2               3000                0.0   66.000000             360.0       1   \n",
       "3               2583             2358.0  120.000000             360.0       1   \n",
       "4               6000                0.0  141.000000             360.0       1   \n",
       "..               ...                ...         ...               ...     ...   \n",
       "609             2900                0.0   71.000000             360.0       0   \n",
       "610             4106                0.0   40.000000             180.0       1   \n",
       "611             8072              240.0  253.000000             360.0       1   \n",
       "612             7583                0.0  187.000000             360.0       1   \n",
       "613             4583                0.0  133.000000             360.0       0   \n",
       "\n",
       "     Married  Dependents  Education  Self_Employed  Credit_History  \\\n",
       "0          1           0          0              0               1   \n",
       "1          2           1          0              0               1   \n",
       "2          2           0          0              1               1   \n",
       "3          2           0          1              0               1   \n",
       "4          1           0          0              0               1   \n",
       "..       ...         ...        ...            ...             ...   \n",
       "609        1           0          0              0               1   \n",
       "610        2           3          0              0               1   \n",
       "611        2           1          0              0               1   \n",
       "612        2           2          0              0               1   \n",
       "613        1           0          0              1               0   \n",
       "\n",
       "     Property_Area  \n",
       "0                2  \n",
       "1                0  \n",
       "2                2  \n",
       "3                2  \n",
       "4                2  \n",
       "..             ...  \n",
       "609              0  \n",
       "610              0  \n",
       "611              2  \n",
       "612              2  \n",
       "613              1  \n",
       "\n",
       "[614 rows x 11 columns]"
      ]
     },
     "execution_count": 151,
     "metadata": {},
     "output_type": "execute_result"
    }
   ],
   "source": [
    "x=new.drop(columns='Loan_Status',axis=1)\n",
    "x"
   ]
  },
  {
   "cell_type": "code",
   "execution_count": 152,
   "id": "3d14e3d5",
   "metadata": {},
   "outputs": [
    {
     "data": {
      "text/plain": [
       "0      1\n",
       "1      0\n",
       "2      1\n",
       "3      1\n",
       "4      1\n",
       "      ..\n",
       "609    1\n",
       "610    1\n",
       "611    1\n",
       "612    1\n",
       "613    0\n",
       "Name: Loan_Status, Length: 614, dtype: int64"
      ]
     },
     "execution_count": 152,
     "metadata": {},
     "output_type": "execute_result"
    }
   ],
   "source": [
    "y=new['Loan_Status']\n",
    "y"
   ]
  },
  {
   "cell_type": "code",
   "execution_count": 153,
   "id": "11708472",
   "metadata": {},
   "outputs": [
    {
     "data": {
      "text/html": [
       "<div>\n",
       "<style scoped>\n",
       "    .dataframe tbody tr th:only-of-type {\n",
       "        vertical-align: middle;\n",
       "    }\n",
       "\n",
       "    .dataframe tbody tr th {\n",
       "        vertical-align: top;\n",
       "    }\n",
       "\n",
       "    .dataframe thead th {\n",
       "        text-align: right;\n",
       "    }\n",
       "</style>\n",
       "<table border=\"1\" class=\"dataframe\">\n",
       "  <thead>\n",
       "    <tr style=\"text-align: right;\">\n",
       "      <th></th>\n",
       "      <th>score</th>\n",
       "      <th>columnname</th>\n",
       "    </tr>\n",
       "  </thead>\n",
       "  <tbody>\n",
       "    <tr>\n",
       "      <th>0</th>\n",
       "      <td>0.013574</td>\n",
       "      <td>ApplicantIncome</td>\n",
       "    </tr>\n",
       "    <tr>\n",
       "      <th>1</th>\n",
       "      <td>2.151457</td>\n",
       "      <td>CoapplicantIncome</td>\n",
       "    </tr>\n",
       "    <tr>\n",
       "      <th>2</th>\n",
       "      <td>0.812667</td>\n",
       "      <td>LoanAmount</td>\n",
       "    </tr>\n",
       "    <tr>\n",
       "      <th>3</th>\n",
       "      <td>0.269339</td>\n",
       "      <td>Loan_Amount_Term</td>\n",
       "    </tr>\n",
       "    <tr>\n",
       "      <th>4</th>\n",
       "      <td>0.198059</td>\n",
       "      <td>Gender</td>\n",
       "    </tr>\n",
       "    <tr>\n",
       "      <th>5</th>\n",
       "      <td>3.512902</td>\n",
       "      <td>Married</td>\n",
       "    </tr>\n",
       "    <tr>\n",
       "      <th>6</th>\n",
       "      <td>0.062665</td>\n",
       "      <td>Dependents</td>\n",
       "    </tr>\n",
       "    <tr>\n",
       "      <th>7</th>\n",
       "      <td>4.547685</td>\n",
       "      <td>Education</td>\n",
       "    </tr>\n",
       "    <tr>\n",
       "      <th>8</th>\n",
       "      <td>0.008380</td>\n",
       "      <td>Self_Employed</td>\n",
       "    </tr>\n",
       "    <tr>\n",
       "      <th>9</th>\n",
       "      <td>252.652090</td>\n",
       "      <td>Credit_History</td>\n",
       "    </tr>\n",
       "    <tr>\n",
       "      <th>10</th>\n",
       "      <td>0.631733</td>\n",
       "      <td>Property_Area</td>\n",
       "    </tr>\n",
       "  </tbody>\n",
       "</table>\n",
       "</div>"
      ],
      "text/plain": [
       "         score         columnname\n",
       "0     0.013574    ApplicantIncome\n",
       "1     2.151457  CoapplicantIncome\n",
       "2     0.812667         LoanAmount\n",
       "3     0.269339   Loan_Amount_Term\n",
       "4     0.198059             Gender\n",
       "5     3.512902            Married\n",
       "6     0.062665         Dependents\n",
       "7     4.547685          Education\n",
       "8     0.008380      Self_Employed\n",
       "9   252.652090     Credit_History\n",
       "10    0.631733      Property_Area"
      ]
     },
     "execution_count": 153,
     "metadata": {},
     "output_type": "execute_result"
    }
   ],
   "source": [
    "best_feature=SelectKBest(score_func=f_classif,k='all')\n",
    "fit=best_feature.fit(x,y)\n",
    "score=pd.DataFrame(fit.scores_)\n",
    "columns=pd.DataFrame(x.columns)\n",
    "best_score=pd.concat([score,columns],axis=1)\n",
    "best_score.columns=['score','columnname']\n",
    "best_score"
   ]
  },
  {
   "cell_type": "code",
   "execution_count": 154,
   "id": "7b1250b4",
   "metadata": {},
   "outputs": [
    {
     "data": {
      "text/html": [
       "<div>\n",
       "<style scoped>\n",
       "    .dataframe tbody tr th:only-of-type {\n",
       "        vertical-align: middle;\n",
       "    }\n",
       "\n",
       "    .dataframe tbody tr th {\n",
       "        vertical-align: top;\n",
       "    }\n",
       "\n",
       "    .dataframe thead th {\n",
       "        text-align: right;\n",
       "    }\n",
       "</style>\n",
       "<table border=\"1\" class=\"dataframe\">\n",
       "  <thead>\n",
       "    <tr style=\"text-align: right;\">\n",
       "      <th></th>\n",
       "      <th>score</th>\n",
       "      <th>columnname</th>\n",
       "    </tr>\n",
       "  </thead>\n",
       "  <tbody>\n",
       "    <tr>\n",
       "      <th>9</th>\n",
       "      <td>252.652090</td>\n",
       "      <td>Credit_History</td>\n",
       "    </tr>\n",
       "    <tr>\n",
       "      <th>7</th>\n",
       "      <td>4.547685</td>\n",
       "      <td>Education</td>\n",
       "    </tr>\n",
       "    <tr>\n",
       "      <th>5</th>\n",
       "      <td>3.512902</td>\n",
       "      <td>Married</td>\n",
       "    </tr>\n",
       "    <tr>\n",
       "      <th>1</th>\n",
       "      <td>2.151457</td>\n",
       "      <td>CoapplicantIncome</td>\n",
       "    </tr>\n",
       "    <tr>\n",
       "      <th>2</th>\n",
       "      <td>0.812667</td>\n",
       "      <td>LoanAmount</td>\n",
       "    </tr>\n",
       "    <tr>\n",
       "      <th>10</th>\n",
       "      <td>0.631733</td>\n",
       "      <td>Property_Area</td>\n",
       "    </tr>\n",
       "    <tr>\n",
       "      <th>3</th>\n",
       "      <td>0.269339</td>\n",
       "      <td>Loan_Amount_Term</td>\n",
       "    </tr>\n",
       "    <tr>\n",
       "      <th>4</th>\n",
       "      <td>0.198059</td>\n",
       "      <td>Gender</td>\n",
       "    </tr>\n",
       "    <tr>\n",
       "      <th>6</th>\n",
       "      <td>0.062665</td>\n",
       "      <td>Dependents</td>\n",
       "    </tr>\n",
       "    <tr>\n",
       "      <th>0</th>\n",
       "      <td>0.013574</td>\n",
       "      <td>ApplicantIncome</td>\n",
       "    </tr>\n",
       "    <tr>\n",
       "      <th>8</th>\n",
       "      <td>0.008380</td>\n",
       "      <td>Self_Employed</td>\n",
       "    </tr>\n",
       "  </tbody>\n",
       "</table>\n",
       "</div>"
      ],
      "text/plain": [
       "         score         columnname\n",
       "9   252.652090     Credit_History\n",
       "7     4.547685          Education\n",
       "5     3.512902            Married\n",
       "1     2.151457  CoapplicantIncome\n",
       "2     0.812667         LoanAmount\n",
       "10    0.631733      Property_Area\n",
       "3     0.269339   Loan_Amount_Term\n",
       "4     0.198059             Gender\n",
       "6     0.062665         Dependents\n",
       "0     0.013574    ApplicantIncome\n",
       "8     0.008380      Self_Employed"
      ]
     },
     "execution_count": 154,
     "metadata": {},
     "output_type": "execute_result"
    }
   ],
   "source": [
    "best_score.sort_values('score',ascending=False)"
   ]
  },
  {
   "cell_type": "code",
   "execution_count": 155,
   "id": "2b41c9b6",
   "metadata": {},
   "outputs": [],
   "source": [
    "#gender,dependents,Selfemployed,ApplicantIncome,Loan_amount_Term,Loan_amount,property_Area \n",
    "#columns can be removed from the dataset as they are scoring less as well the correlation to target is also less."
   ]
  },
  {
   "cell_type": "code",
   "execution_count": 156,
   "id": "38ba37bf",
   "metadata": {},
   "outputs": [],
   "source": [
    "new.drop(columns=['LoanAmount','Property_Area','Loan_Amount_Term','Gender','Dependents','ApplicantIncome','Self_Employed'],axis=1,inplace=True)"
   ]
  },
  {
   "cell_type": "code",
   "execution_count": 157,
   "id": "d521f2e3",
   "metadata": {},
   "outputs": [
    {
     "data": {
      "text/html": [
       "<div>\n",
       "<style scoped>\n",
       "    .dataframe tbody tr th:only-of-type {\n",
       "        vertical-align: middle;\n",
       "    }\n",
       "\n",
       "    .dataframe tbody tr th {\n",
       "        vertical-align: top;\n",
       "    }\n",
       "\n",
       "    .dataframe thead th {\n",
       "        text-align: right;\n",
       "    }\n",
       "</style>\n",
       "<table border=\"1\" class=\"dataframe\">\n",
       "  <thead>\n",
       "    <tr style=\"text-align: right;\">\n",
       "      <th></th>\n",
       "      <th>CoapplicantIncome</th>\n",
       "      <th>Loan_Status</th>\n",
       "      <th>Married</th>\n",
       "      <th>Education</th>\n",
       "      <th>Credit_History</th>\n",
       "    </tr>\n",
       "  </thead>\n",
       "  <tbody>\n",
       "    <tr>\n",
       "      <th>0</th>\n",
       "      <td>0.0</td>\n",
       "      <td>1</td>\n",
       "      <td>1</td>\n",
       "      <td>0</td>\n",
       "      <td>1</td>\n",
       "    </tr>\n",
       "    <tr>\n",
       "      <th>1</th>\n",
       "      <td>1508.0</td>\n",
       "      <td>0</td>\n",
       "      <td>2</td>\n",
       "      <td>0</td>\n",
       "      <td>1</td>\n",
       "    </tr>\n",
       "    <tr>\n",
       "      <th>2</th>\n",
       "      <td>0.0</td>\n",
       "      <td>1</td>\n",
       "      <td>2</td>\n",
       "      <td>0</td>\n",
       "      <td>1</td>\n",
       "    </tr>\n",
       "    <tr>\n",
       "      <th>3</th>\n",
       "      <td>2358.0</td>\n",
       "      <td>1</td>\n",
       "      <td>2</td>\n",
       "      <td>1</td>\n",
       "      <td>1</td>\n",
       "    </tr>\n",
       "    <tr>\n",
       "      <th>4</th>\n",
       "      <td>0.0</td>\n",
       "      <td>1</td>\n",
       "      <td>1</td>\n",
       "      <td>0</td>\n",
       "      <td>1</td>\n",
       "    </tr>\n",
       "    <tr>\n",
       "      <th>...</th>\n",
       "      <td>...</td>\n",
       "      <td>...</td>\n",
       "      <td>...</td>\n",
       "      <td>...</td>\n",
       "      <td>...</td>\n",
       "    </tr>\n",
       "    <tr>\n",
       "      <th>609</th>\n",
       "      <td>0.0</td>\n",
       "      <td>1</td>\n",
       "      <td>1</td>\n",
       "      <td>0</td>\n",
       "      <td>1</td>\n",
       "    </tr>\n",
       "    <tr>\n",
       "      <th>610</th>\n",
       "      <td>0.0</td>\n",
       "      <td>1</td>\n",
       "      <td>2</td>\n",
       "      <td>0</td>\n",
       "      <td>1</td>\n",
       "    </tr>\n",
       "    <tr>\n",
       "      <th>611</th>\n",
       "      <td>240.0</td>\n",
       "      <td>1</td>\n",
       "      <td>2</td>\n",
       "      <td>0</td>\n",
       "      <td>1</td>\n",
       "    </tr>\n",
       "    <tr>\n",
       "      <th>612</th>\n",
       "      <td>0.0</td>\n",
       "      <td>1</td>\n",
       "      <td>2</td>\n",
       "      <td>0</td>\n",
       "      <td>1</td>\n",
       "    </tr>\n",
       "    <tr>\n",
       "      <th>613</th>\n",
       "      <td>0.0</td>\n",
       "      <td>0</td>\n",
       "      <td>1</td>\n",
       "      <td>0</td>\n",
       "      <td>0</td>\n",
       "    </tr>\n",
       "  </tbody>\n",
       "</table>\n",
       "<p>614 rows × 5 columns</p>\n",
       "</div>"
      ],
      "text/plain": [
       "     CoapplicantIncome  Loan_Status  Married  Education  Credit_History\n",
       "0                  0.0            1        1          0               1\n",
       "1               1508.0            0        2          0               1\n",
       "2                  0.0            1        2          0               1\n",
       "3               2358.0            1        2          1               1\n",
       "4                  0.0            1        1          0               1\n",
       "..                 ...          ...      ...        ...             ...\n",
       "609                0.0            1        1          0               1\n",
       "610                0.0            1        2          0               1\n",
       "611              240.0            1        2          0               1\n",
       "612                0.0            1        2          0               1\n",
       "613                0.0            0        1          0               0\n",
       "\n",
       "[614 rows x 5 columns]"
      ]
     },
     "execution_count": 157,
     "metadata": {},
     "output_type": "execute_result"
    }
   ],
   "source": [
    "new"
   ]
  },
  {
   "cell_type": "markdown",
   "id": "9ce6ac3e",
   "metadata": {},
   "source": [
    "# outliers."
   ]
  },
  {
   "cell_type": "code",
   "execution_count": 158,
   "id": "8e3a08a8",
   "metadata": {},
   "outputs": [
    {
     "data": {
      "text/plain": [
       "CoapplicantIncome       AxesSubplot(0.125,0.657941;0.352273x0.222059)\n",
       "Loan_Status          AxesSubplot(0.547727,0.657941;0.352273x0.222059)\n",
       "Married                 AxesSubplot(0.125,0.391471;0.352273x0.222059)\n",
       "Education            AxesSubplot(0.547727,0.391471;0.352273x0.222059)\n",
       "Credit_History             AxesSubplot(0.125,0.125;0.352273x0.222059)\n",
       "dtype: object"
      ]
     },
     "execution_count": 158,
     "metadata": {},
     "output_type": "execute_result"
    },
    {
     "data": {
      "image/png": "[encoded data removed]",
      "text/plain": [
       "<Figure size 1080x1440 with 6 Axes>"
      ]
     },
     "metadata": {
      "needs_background": "light"
     },
     "output_type": "display_data"
    }
   ],
   "source": [
    "new.plot(kind ='box', subplots =True , layout =(3,2), figsize = (15,20))"
   ]
  },
  {
   "cell_type": "code",
   "execution_count": 159,
   "id": "99a8ae53",
   "metadata": {},
   "outputs": [],
   "source": [
    "from scipy.stats import zscore"
   ]
  },
  {
   "cell_type": "code",
   "execution_count": 160,
   "id": "77bb5ef7",
   "metadata": {},
   "outputs": [
    {
     "data": {
      "text/html": [
       "<div>\n",
       "<style scoped>\n",
       "    .dataframe tbody tr th:only-of-type {\n",
       "        vertical-align: middle;\n",
       "    }\n",
       "\n",
       "    .dataframe tbody tr th {\n",
       "        vertical-align: top;\n",
       "    }\n",
       "\n",
       "    .dataframe thead th {\n",
       "        text-align: right;\n",
       "    }\n",
       "</style>\n",
       "<table border=\"1\" class=\"dataframe\">\n",
       "  <thead>\n",
       "    <tr style=\"text-align: right;\">\n",
       "      <th></th>\n",
       "      <th>CoapplicantIncome</th>\n",
       "      <th>Loan_Status</th>\n",
       "      <th>Married</th>\n",
       "      <th>Education</th>\n",
       "      <th>Credit_History</th>\n",
       "    </tr>\n",
       "  </thead>\n",
       "  <tbody>\n",
       "    <tr>\n",
       "      <th>0</th>\n",
       "      <td>0.554487</td>\n",
       "      <td>0.674519</td>\n",
       "      <td>1.315286</td>\n",
       "      <td>0.528362</td>\n",
       "      <td>0.411733</td>\n",
       "    </tr>\n",
       "    <tr>\n",
       "      <th>1</th>\n",
       "      <td>0.038732</td>\n",
       "      <td>1.482537</td>\n",
       "      <td>0.729235</td>\n",
       "      <td>0.528362</td>\n",
       "      <td>0.411733</td>\n",
       "    </tr>\n",
       "    <tr>\n",
       "      <th>2</th>\n",
       "      <td>0.554487</td>\n",
       "      <td>0.674519</td>\n",
       "      <td>0.729235</td>\n",
       "      <td>0.528362</td>\n",
       "      <td>0.411733</td>\n",
       "    </tr>\n",
       "    <tr>\n",
       "      <th>3</th>\n",
       "      <td>0.251980</td>\n",
       "      <td>0.674519</td>\n",
       "      <td>0.729235</td>\n",
       "      <td>1.892641</td>\n",
       "      <td>0.411733</td>\n",
       "    </tr>\n",
       "    <tr>\n",
       "      <th>4</th>\n",
       "      <td>0.554487</td>\n",
       "      <td>0.674519</td>\n",
       "      <td>1.315286</td>\n",
       "      <td>0.528362</td>\n",
       "      <td>0.411733</td>\n",
       "    </tr>\n",
       "    <tr>\n",
       "      <th>...</th>\n",
       "      <td>...</td>\n",
       "      <td>...</td>\n",
       "      <td>...</td>\n",
       "      <td>...</td>\n",
       "      <td>...</td>\n",
       "    </tr>\n",
       "    <tr>\n",
       "      <th>609</th>\n",
       "      <td>0.554487</td>\n",
       "      <td>0.674519</td>\n",
       "      <td>1.315286</td>\n",
       "      <td>0.528362</td>\n",
       "      <td>0.411733</td>\n",
       "    </tr>\n",
       "    <tr>\n",
       "      <th>610</th>\n",
       "      <td>0.554487</td>\n",
       "      <td>0.674519</td>\n",
       "      <td>0.729235</td>\n",
       "      <td>0.528362</td>\n",
       "      <td>0.411733</td>\n",
       "    </tr>\n",
       "    <tr>\n",
       "      <th>611</th>\n",
       "      <td>0.472404</td>\n",
       "      <td>0.674519</td>\n",
       "      <td>0.729235</td>\n",
       "      <td>0.528362</td>\n",
       "      <td>0.411733</td>\n",
       "    </tr>\n",
       "    <tr>\n",
       "      <th>612</th>\n",
       "      <td>0.554487</td>\n",
       "      <td>0.674519</td>\n",
       "      <td>0.729235</td>\n",
       "      <td>0.528362</td>\n",
       "      <td>0.411733</td>\n",
       "    </tr>\n",
       "    <tr>\n",
       "      <th>613</th>\n",
       "      <td>0.554487</td>\n",
       "      <td>1.482537</td>\n",
       "      <td>1.315286</td>\n",
       "      <td>0.528362</td>\n",
       "      <td>2.428760</td>\n",
       "    </tr>\n",
       "  </tbody>\n",
       "</table>\n",
       "<p>614 rows × 5 columns</p>\n",
       "</div>"
      ],
      "text/plain": [
       "     CoapplicantIncome  Loan_Status   Married  Education  Credit_History\n",
       "0             0.554487     0.674519  1.315286   0.528362        0.411733\n",
       "1             0.038732     1.482537  0.729235   0.528362        0.411733\n",
       "2             0.554487     0.674519  0.729235   0.528362        0.411733\n",
       "3             0.251980     0.674519  0.729235   1.892641        0.411733\n",
       "4             0.554487     0.674519  1.315286   0.528362        0.411733\n",
       "..                 ...          ...       ...        ...             ...\n",
       "609           0.554487     0.674519  1.315286   0.528362        0.411733\n",
       "610           0.554487     0.674519  0.729235   0.528362        0.411733\n",
       "611           0.472404     0.674519  0.729235   0.528362        0.411733\n",
       "612           0.554487     0.674519  0.729235   0.528362        0.411733\n",
       "613           0.554487     1.482537  1.315286   0.528362        2.428760\n",
       "\n",
       "[614 rows x 5 columns]"
      ]
     },
     "execution_count": 160,
     "metadata": {},
     "output_type": "execute_result"
    }
   ],
   "source": [
    "z = np.abs(zscore(new))\n",
    "z"
   ]
  },
  {
   "cell_type": "code",
   "execution_count": 161,
   "id": "96f3d445",
   "metadata": {},
   "outputs": [
    {
     "data": {
      "text/html": [
       "<div>\n",
       "<style scoped>\n",
       "    .dataframe tbody tr th:only-of-type {\n",
       "        vertical-align: middle;\n",
       "    }\n",
       "\n",
       "    .dataframe tbody tr th {\n",
       "        vertical-align: top;\n",
       "    }\n",
       "\n",
       "    .dataframe thead th {\n",
       "        text-align: right;\n",
       "    }\n",
       "</style>\n",
       "<table border=\"1\" class=\"dataframe\">\n",
       "  <thead>\n",
       "    <tr style=\"text-align: right;\">\n",
       "      <th></th>\n",
       "      <th>CoapplicantIncome</th>\n",
       "      <th>Loan_Status</th>\n",
       "      <th>Married</th>\n",
       "      <th>Education</th>\n",
       "      <th>Credit_History</th>\n",
       "    </tr>\n",
       "  </thead>\n",
       "  <tbody>\n",
       "    <tr>\n",
       "      <th>0</th>\n",
       "      <td>0.0</td>\n",
       "      <td>1</td>\n",
       "      <td>1</td>\n",
       "      <td>0</td>\n",
       "      <td>1</td>\n",
       "    </tr>\n",
       "    <tr>\n",
       "      <th>1</th>\n",
       "      <td>1508.0</td>\n",
       "      <td>0</td>\n",
       "      <td>2</td>\n",
       "      <td>0</td>\n",
       "      <td>1</td>\n",
       "    </tr>\n",
       "    <tr>\n",
       "      <th>2</th>\n",
       "      <td>0.0</td>\n",
       "      <td>1</td>\n",
       "      <td>2</td>\n",
       "      <td>0</td>\n",
       "      <td>1</td>\n",
       "    </tr>\n",
       "    <tr>\n",
       "      <th>3</th>\n",
       "      <td>2358.0</td>\n",
       "      <td>1</td>\n",
       "      <td>2</td>\n",
       "      <td>1</td>\n",
       "      <td>1</td>\n",
       "    </tr>\n",
       "    <tr>\n",
       "      <th>4</th>\n",
       "      <td>0.0</td>\n",
       "      <td>1</td>\n",
       "      <td>1</td>\n",
       "      <td>0</td>\n",
       "      <td>1</td>\n",
       "    </tr>\n",
       "    <tr>\n",
       "      <th>...</th>\n",
       "      <td>...</td>\n",
       "      <td>...</td>\n",
       "      <td>...</td>\n",
       "      <td>...</td>\n",
       "      <td>...</td>\n",
       "    </tr>\n",
       "    <tr>\n",
       "      <th>609</th>\n",
       "      <td>0.0</td>\n",
       "      <td>1</td>\n",
       "      <td>1</td>\n",
       "      <td>0</td>\n",
       "      <td>1</td>\n",
       "    </tr>\n",
       "    <tr>\n",
       "      <th>610</th>\n",
       "      <td>0.0</td>\n",
       "      <td>1</td>\n",
       "      <td>2</td>\n",
       "      <td>0</td>\n",
       "      <td>1</td>\n",
       "    </tr>\n",
       "    <tr>\n",
       "      <th>611</th>\n",
       "      <td>240.0</td>\n",
       "      <td>1</td>\n",
       "      <td>2</td>\n",
       "      <td>0</td>\n",
       "      <td>1</td>\n",
       "    </tr>\n",
       "    <tr>\n",
       "      <th>612</th>\n",
       "      <td>0.0</td>\n",
       "      <td>1</td>\n",
       "      <td>2</td>\n",
       "      <td>0</td>\n",
       "      <td>1</td>\n",
       "    </tr>\n",
       "    <tr>\n",
       "      <th>613</th>\n",
       "      <td>0.0</td>\n",
       "      <td>0</td>\n",
       "      <td>1</td>\n",
       "      <td>0</td>\n",
       "      <td>0</td>\n",
       "    </tr>\n",
       "  </tbody>\n",
       "</table>\n",
       "<p>605 rows × 5 columns</p>\n",
       "</div>"
      ],
      "text/plain": [
       "     CoapplicantIncome  Loan_Status  Married  Education  Credit_History\n",
       "0                  0.0            1        1          0               1\n",
       "1               1508.0            0        2          0               1\n",
       "2                  0.0            1        2          0               1\n",
       "3               2358.0            1        2          1               1\n",
       "4                  0.0            1        1          0               1\n",
       "..                 ...          ...      ...        ...             ...\n",
       "609                0.0            1        1          0               1\n",
       "610                0.0            1        2          0               1\n",
       "611              240.0            1        2          0               1\n",
       "612                0.0            1        2          0               1\n",
       "613                0.0            0        1          0               0\n",
       "\n",
       "[605 rows x 5 columns]"
      ]
     },
     "execution_count": 161,
     "metadata": {},
     "output_type": "execute_result"
    }
   ],
   "source": [
    "df_new=new[(z<3).all(axis=1)]\n",
    "df_new"
   ]
  },
  {
   "cell_type": "code",
   "execution_count": 162,
   "id": "7db15aa0",
   "metadata": {},
   "outputs": [
    {
     "data": {
      "text/plain": [
       "(614, 5)"
      ]
     },
     "execution_count": 162,
     "metadata": {},
     "output_type": "execute_result"
    }
   ],
   "source": [
    "new.shape"
   ]
  },
  {
   "cell_type": "code",
   "execution_count": 163,
   "id": "a2cad984",
   "metadata": {},
   "outputs": [
    {
     "data": {
      "text/plain": [
       "(605, 5)"
      ]
     },
     "execution_count": 163,
     "metadata": {},
     "output_type": "execute_result"
    }
   ],
   "source": [
    "df_new.shape"
   ]
  },
  {
   "cell_type": "code",
   "execution_count": 164,
   "id": "9c31c4bd",
   "metadata": {},
   "outputs": [],
   "source": [
    "DataLoss=(614-605)/614*100"
   ]
  },
  {
   "cell_type": "code",
   "execution_count": 166,
   "id": "250c6d7a",
   "metadata": {},
   "outputs": [
    {
     "data": {
      "text/plain": [
       "1.4657980456026058"
      ]
     },
     "execution_count": 166,
     "metadata": {},
     "output_type": "execute_result"
    }
   ],
   "source": [
    "DataLoss"
   ]
  },
  {
   "cell_type": "code",
   "execution_count": 167,
   "id": "4342bb0e",
   "metadata": {},
   "outputs": [
    {
     "data": {
      "image/png": "[encoded data removed]",
      "text/plain": [
       "<Figure size 1440x1080 with 2 Axes>"
      ]
     },
     "metadata": {
      "needs_background": "light"
     },
     "output_type": "display_data"
    }
   ],
   "source": [
    "corr=df_new.corr()\n",
    "plt.subplots(figsize=(20,15))\n",
    "sns.heatmap(corr, annot= True,linewidths= 0.5)\n",
    "plt.show()"
   ]
  },
  {
   "cell_type": "markdown",
   "id": "86a8d997",
   "metadata": {},
   "source": [
    "# Skewness check "
   ]
  },
  {
   "cell_type": "code",
   "execution_count": 168,
   "id": "e57f3f3b",
   "metadata": {},
   "outputs": [
    {
     "data": {
      "text/html": [
       "<div>\n",
       "<style scoped>\n",
       "    .dataframe tbody tr th:only-of-type {\n",
       "        vertical-align: middle;\n",
       "    }\n",
       "\n",
       "    .dataframe tbody tr th {\n",
       "        vertical-align: top;\n",
       "    }\n",
       "\n",
       "    .dataframe thead th {\n",
       "        text-align: right;\n",
       "    }\n",
       "</style>\n",
       "<table border=\"1\" class=\"dataframe\">\n",
       "  <thead>\n",
       "    <tr style=\"text-align: right;\">\n",
       "      <th></th>\n",
       "      <th>CoapplicantIncome</th>\n",
       "      <th>Married</th>\n",
       "      <th>Education</th>\n",
       "      <th>Credit_History</th>\n",
       "    </tr>\n",
       "  </thead>\n",
       "  <tbody>\n",
       "    <tr>\n",
       "      <th>0</th>\n",
       "      <td>0.0</td>\n",
       "      <td>1</td>\n",
       "      <td>0</td>\n",
       "      <td>1</td>\n",
       "    </tr>\n",
       "    <tr>\n",
       "      <th>1</th>\n",
       "      <td>1508.0</td>\n",
       "      <td>2</td>\n",
       "      <td>0</td>\n",
       "      <td>1</td>\n",
       "    </tr>\n",
       "    <tr>\n",
       "      <th>2</th>\n",
       "      <td>0.0</td>\n",
       "      <td>2</td>\n",
       "      <td>0</td>\n",
       "      <td>1</td>\n",
       "    </tr>\n",
       "    <tr>\n",
       "      <th>3</th>\n",
       "      <td>2358.0</td>\n",
       "      <td>2</td>\n",
       "      <td>1</td>\n",
       "      <td>1</td>\n",
       "    </tr>\n",
       "    <tr>\n",
       "      <th>4</th>\n",
       "      <td>0.0</td>\n",
       "      <td>1</td>\n",
       "      <td>0</td>\n",
       "      <td>1</td>\n",
       "    </tr>\n",
       "    <tr>\n",
       "      <th>...</th>\n",
       "      <td>...</td>\n",
       "      <td>...</td>\n",
       "      <td>...</td>\n",
       "      <td>...</td>\n",
       "    </tr>\n",
       "    <tr>\n",
       "      <th>609</th>\n",
       "      <td>0.0</td>\n",
       "      <td>1</td>\n",
       "      <td>0</td>\n",
       "      <td>1</td>\n",
       "    </tr>\n",
       "    <tr>\n",
       "      <th>610</th>\n",
       "      <td>0.0</td>\n",
       "      <td>2</td>\n",
       "      <td>0</td>\n",
       "      <td>1</td>\n",
       "    </tr>\n",
       "    <tr>\n",
       "      <th>611</th>\n",
       "      <td>240.0</td>\n",
       "      <td>2</td>\n",
       "      <td>0</td>\n",
       "      <td>1</td>\n",
       "    </tr>\n",
       "    <tr>\n",
       "      <th>612</th>\n",
       "      <td>0.0</td>\n",
       "      <td>2</td>\n",
       "      <td>0</td>\n",
       "      <td>1</td>\n",
       "    </tr>\n",
       "    <tr>\n",
       "      <th>613</th>\n",
       "      <td>0.0</td>\n",
       "      <td>1</td>\n",
       "      <td>0</td>\n",
       "      <td>0</td>\n",
       "    </tr>\n",
       "  </tbody>\n",
       "</table>\n",
       "<p>605 rows × 4 columns</p>\n",
       "</div>"
      ],
      "text/plain": [
       "     CoapplicantIncome  Married  Education  Credit_History\n",
       "0                  0.0        1          0               1\n",
       "1               1508.0        2          0               1\n",
       "2                  0.0        2          0               1\n",
       "3               2358.0        2          1               1\n",
       "4                  0.0        1          0               1\n",
       "..                 ...      ...        ...             ...\n",
       "609                0.0        1          0               1\n",
       "610                0.0        2          0               1\n",
       "611              240.0        2          0               1\n",
       "612                0.0        2          0               1\n",
       "613                0.0        1          0               0\n",
       "\n",
       "[605 rows x 4 columns]"
      ]
     },
     "execution_count": 168,
     "metadata": {},
     "output_type": "execute_result"
    }
   ],
   "source": [
    "x=df_new.drop(columns=['Loan_Status'])\n",
    "x"
   ]
  },
  {
   "cell_type": "code",
   "execution_count": 169,
   "id": "4c3dd51c",
   "metadata": {},
   "outputs": [
    {
     "data": {
      "text/plain": [
       "0      1\n",
       "1      0\n",
       "2      1\n",
       "3      1\n",
       "4      1\n",
       "      ..\n",
       "609    1\n",
       "610    1\n",
       "611    1\n",
       "612    1\n",
       "613    0\n",
       "Name: Loan_Status, Length: 605, dtype: int64"
      ]
     },
     "execution_count": 169,
     "metadata": {},
     "output_type": "execute_result"
    }
   ],
   "source": [
    "y=df_new['Loan_Status']\n",
    "y"
   ]
  },
  {
   "cell_type": "code",
   "execution_count": 170,
   "id": "43c3adfe",
   "metadata": {},
   "outputs": [
    {
     "data": {
      "text/plain": [
       "CoapplicantIncome    1.373770\n",
       "Married             -0.643936\n",
       "Education            1.344763\n",
       "Credit_History      -2.016274\n",
       "dtype: float64"
      ]
     },
     "execution_count": 170,
     "metadata": {},
     "output_type": "execute_result"
    }
   ],
   "source": [
    "x.skew()          #we will use Transformation Techniques."
   ]
  },
  {
   "cell_type": "code",
   "execution_count": 176,
   "id": "7105e2da",
   "metadata": {},
   "outputs": [
    {
     "data": {
      "text/html": [
       "<div>\n",
       "<style scoped>\n",
       "    .dataframe tbody tr th:only-of-type {\n",
       "        vertical-align: middle;\n",
       "    }\n",
       "\n",
       "    .dataframe tbody tr th {\n",
       "        vertical-align: top;\n",
       "    }\n",
       "\n",
       "    .dataframe thead th {\n",
       "        text-align: right;\n",
       "    }\n",
       "</style>\n",
       "<table border=\"1\" class=\"dataframe\">\n",
       "  <thead>\n",
       "    <tr style=\"text-align: right;\">\n",
       "      <th></th>\n",
       "      <th>CoapplicantIncome</th>\n",
       "      <th>Married</th>\n",
       "      <th>Education</th>\n",
       "      <th>Credit_History</th>\n",
       "    </tr>\n",
       "  </thead>\n",
       "  <tbody>\n",
       "    <tr>\n",
       "      <th>0</th>\n",
       "      <td>-1.098379</td>\n",
       "      <td>-1.371478</td>\n",
       "      <td>-0.533386</td>\n",
       "      <td>0.412568</td>\n",
       "    </tr>\n",
       "    <tr>\n",
       "      <th>1</th>\n",
       "      <td>0.769427</td>\n",
       "      <td>0.729140</td>\n",
       "      <td>-0.533386</td>\n",
       "      <td>0.412568</td>\n",
       "    </tr>\n",
       "    <tr>\n",
       "      <th>2</th>\n",
       "      <td>-1.098379</td>\n",
       "      <td>0.729140</td>\n",
       "      <td>-0.533386</td>\n",
       "      <td>0.412568</td>\n",
       "    </tr>\n",
       "    <tr>\n",
       "      <th>3</th>\n",
       "      <td>0.912537</td>\n",
       "      <td>0.729140</td>\n",
       "      <td>1.874813</td>\n",
       "      <td>0.412568</td>\n",
       "    </tr>\n",
       "    <tr>\n",
       "      <th>4</th>\n",
       "      <td>-1.098379</td>\n",
       "      <td>-1.371478</td>\n",
       "      <td>-0.533386</td>\n",
       "      <td>0.412568</td>\n",
       "    </tr>\n",
       "    <tr>\n",
       "      <th>...</th>\n",
       "      <td>...</td>\n",
       "      <td>...</td>\n",
       "      <td>...</td>\n",
       "      <td>...</td>\n",
       "    </tr>\n",
       "    <tr>\n",
       "      <th>600</th>\n",
       "      <td>-1.098379</td>\n",
       "      <td>-1.371478</td>\n",
       "      <td>-0.533386</td>\n",
       "      <td>0.412568</td>\n",
       "    </tr>\n",
       "    <tr>\n",
       "      <th>601</th>\n",
       "      <td>-1.098379</td>\n",
       "      <td>0.729140</td>\n",
       "      <td>-0.533386</td>\n",
       "      <td>0.412568</td>\n",
       "    </tr>\n",
       "    <tr>\n",
       "      <th>602</th>\n",
       "      <td>0.220847</td>\n",
       "      <td>0.729140</td>\n",
       "      <td>-0.533386</td>\n",
       "      <td>0.412568</td>\n",
       "    </tr>\n",
       "    <tr>\n",
       "      <th>603</th>\n",
       "      <td>-1.098379</td>\n",
       "      <td>0.729140</td>\n",
       "      <td>-0.533386</td>\n",
       "      <td>0.412568</td>\n",
       "    </tr>\n",
       "    <tr>\n",
       "      <th>604</th>\n",
       "      <td>-1.098379</td>\n",
       "      <td>-1.371478</td>\n",
       "      <td>-0.533386</td>\n",
       "      <td>-2.423840</td>\n",
       "    </tr>\n",
       "  </tbody>\n",
       "</table>\n",
       "<p>605 rows × 4 columns</p>\n",
       "</div>"
      ],
      "text/plain": [
       "     CoapplicantIncome   Married  Education  Credit_History\n",
       "0            -1.098379 -1.371478  -0.533386        0.412568\n",
       "1             0.769427  0.729140  -0.533386        0.412568\n",
       "2            -1.098379  0.729140  -0.533386        0.412568\n",
       "3             0.912537  0.729140   1.874813        0.412568\n",
       "4            -1.098379 -1.371478  -0.533386        0.412568\n",
       "..                 ...       ...        ...             ...\n",
       "600          -1.098379 -1.371478  -0.533386        0.412568\n",
       "601          -1.098379  0.729140  -0.533386        0.412568\n",
       "602           0.220847  0.729140  -0.533386        0.412568\n",
       "603          -1.098379  0.729140  -0.533386        0.412568\n",
       "604          -1.098379 -1.371478  -0.533386       -2.423840\n",
       "\n",
       "[605 rows x 4 columns]"
      ]
     },
     "execution_count": 176,
     "metadata": {},
     "output_type": "execute_result"
    }
   ],
   "source": [
    "from sklearn.preprocessing import PowerTransformer\n",
    "pt=PowerTransformer()\n",
    "pwr=pt.fit_transform(x)\n",
    "x_new=pd.DataFrame(data=pwr,columns=x.columns)\n",
    "x_new"
   ]
  },
  {
   "cell_type": "code",
   "execution_count": 177,
   "id": "d7e9b6cb",
   "metadata": {},
   "outputs": [
    {
     "data": {
      "text/plain": [
       "CoapplicantIncome   -0.151661\n",
       "Married             -0.643936\n",
       "Education            1.344763\n",
       "Credit_History      -2.016274\n",
       "dtype: float64"
      ]
     },
     "execution_count": 177,
     "metadata": {},
     "output_type": "execute_result"
    }
   ],
   "source": [
    "x_new.skew()"
   ]
  },
  {
   "cell_type": "code",
   "execution_count": 178,
   "id": "f9f4c718",
   "metadata": {},
   "outputs": [],
   "source": [
    "from sklearn.preprocessing import QuantileTransformer  # Using Quantile Transformer"
   ]
  },
  {
   "cell_type": "code",
   "execution_count": 179,
   "id": "85a8ddd8",
   "metadata": {},
   "outputs": [
    {
     "data": {
      "text/html": [
       "<div>\n",
       "<style scoped>\n",
       "    .dataframe tbody tr th:only-of-type {\n",
       "        vertical-align: middle;\n",
       "    }\n",
       "\n",
       "    .dataframe tbody tr th {\n",
       "        vertical-align: top;\n",
       "    }\n",
       "\n",
       "    .dataframe thead th {\n",
       "        text-align: right;\n",
       "    }\n",
       "</style>\n",
       "<table border=\"1\" class=\"dataframe\">\n",
       "  <thead>\n",
       "    <tr style=\"text-align: right;\">\n",
       "      <th></th>\n",
       "      <th>CoapplicantIncome</th>\n",
       "      <th>Married</th>\n",
       "      <th>Education</th>\n",
       "      <th>Credit_History</th>\n",
       "    </tr>\n",
       "  </thead>\n",
       "  <tbody>\n",
       "    <tr>\n",
       "      <th>0</th>\n",
       "      <td>-1.098379</td>\n",
       "      <td>-1.371478</td>\n",
       "      <td>-0.533386</td>\n",
       "      <td>0.412568</td>\n",
       "    </tr>\n",
       "    <tr>\n",
       "      <th>1</th>\n",
       "      <td>0.769427</td>\n",
       "      <td>0.729140</td>\n",
       "      <td>-0.533386</td>\n",
       "      <td>0.412568</td>\n",
       "    </tr>\n",
       "    <tr>\n",
       "      <th>2</th>\n",
       "      <td>-1.098379</td>\n",
       "      <td>0.729140</td>\n",
       "      <td>-0.533386</td>\n",
       "      <td>0.412568</td>\n",
       "    </tr>\n",
       "    <tr>\n",
       "      <th>3</th>\n",
       "      <td>0.912537</td>\n",
       "      <td>0.729140</td>\n",
       "      <td>1.874813</td>\n",
       "      <td>0.412568</td>\n",
       "    </tr>\n",
       "    <tr>\n",
       "      <th>4</th>\n",
       "      <td>-1.098379</td>\n",
       "      <td>-1.371478</td>\n",
       "      <td>-0.533386</td>\n",
       "      <td>0.412568</td>\n",
       "    </tr>\n",
       "    <tr>\n",
       "      <th>...</th>\n",
       "      <td>...</td>\n",
       "      <td>...</td>\n",
       "      <td>...</td>\n",
       "      <td>...</td>\n",
       "    </tr>\n",
       "    <tr>\n",
       "      <th>600</th>\n",
       "      <td>-1.098379</td>\n",
       "      <td>-1.371478</td>\n",
       "      <td>-0.533386</td>\n",
       "      <td>0.412568</td>\n",
       "    </tr>\n",
       "    <tr>\n",
       "      <th>601</th>\n",
       "      <td>-1.098379</td>\n",
       "      <td>0.729140</td>\n",
       "      <td>-0.533386</td>\n",
       "      <td>0.412568</td>\n",
       "    </tr>\n",
       "    <tr>\n",
       "      <th>602</th>\n",
       "      <td>0.220847</td>\n",
       "      <td>0.729140</td>\n",
       "      <td>-0.533386</td>\n",
       "      <td>0.412568</td>\n",
       "    </tr>\n",
       "    <tr>\n",
       "      <th>603</th>\n",
       "      <td>-1.098379</td>\n",
       "      <td>0.729140</td>\n",
       "      <td>-0.533386</td>\n",
       "      <td>0.412568</td>\n",
       "    </tr>\n",
       "    <tr>\n",
       "      <th>604</th>\n",
       "      <td>-1.098379</td>\n",
       "      <td>-1.371478</td>\n",
       "      <td>-0.533386</td>\n",
       "      <td>-2.423840</td>\n",
       "    </tr>\n",
       "  </tbody>\n",
       "</table>\n",
       "<p>605 rows × 4 columns</p>\n",
       "</div>"
      ],
      "text/plain": [
       "     CoapplicantIncome   Married  Education  Credit_History\n",
       "0            -1.098379 -1.371478  -0.533386        0.412568\n",
       "1             0.769427  0.729140  -0.533386        0.412568\n",
       "2            -1.098379  0.729140  -0.533386        0.412568\n",
       "3             0.912537  0.729140   1.874813        0.412568\n",
       "4            -1.098379 -1.371478  -0.533386        0.412568\n",
       "..                 ...       ...        ...             ...\n",
       "600          -1.098379 -1.371478  -0.533386        0.412568\n",
       "601          -1.098379  0.729140  -0.533386        0.412568\n",
       "602           0.220847  0.729140  -0.533386        0.412568\n",
       "603          -1.098379  0.729140  -0.533386        0.412568\n",
       "604          -1.098379 -1.371478  -0.533386       -2.423840\n",
       "\n",
       "[605 rows x 4 columns]"
      ]
     },
     "execution_count": 179,
     "metadata": {},
     "output_type": "execute_result"
    }
   ],
   "source": [
    "qt=QuantileTransformer()\n",
    "qta=pt.fit_transform(x)\n",
    "x_qua=pd.DataFrame(data=qta,columns=x.columns)\n",
    "x_qua"
   ]
  },
  {
   "cell_type": "code",
   "execution_count": 180,
   "id": "17a33a32",
   "metadata": {},
   "outputs": [
    {
     "data": {
      "text/plain": [
       "CoapplicantIncome   -0.151661\n",
       "Married             -0.643936\n",
       "Education            1.344763\n",
       "Credit_History      -2.016274\n",
       "dtype: float64"
      ]
     },
     "execution_count": 180,
     "metadata": {},
     "output_type": "execute_result"
    }
   ],
   "source": [
    "x_qua.skew()"
   ]
  },
  {
   "cell_type": "code",
   "execution_count": 185,
   "id": "467b9586",
   "metadata": {},
   "outputs": [],
   "source": [
    "# using PowerTransform features to build the Model."
   ]
  },
  {
   "cell_type": "code",
   "execution_count": 186,
   "id": "1ff1ec6c",
   "metadata": {},
   "outputs": [
    {
     "data": {
      "text/plain": [
       "(605, 4)"
      ]
     },
     "execution_count": 186,
     "metadata": {},
     "output_type": "execute_result"
    }
   ],
   "source": [
    "x_new.shape"
   ]
  },
  {
   "cell_type": "code",
   "execution_count": 187,
   "id": "b3c5c843",
   "metadata": {},
   "outputs": [
    {
     "data": {
      "text/plain": [
       "(605,)"
      ]
     },
     "execution_count": 187,
     "metadata": {},
     "output_type": "execute_result"
    }
   ],
   "source": [
    "y.shape"
   ]
  },
  {
   "cell_type": "markdown",
   "id": "c9fc13e2",
   "metadata": {},
   "source": [
    "# Multicollinearity using VIF"
   ]
  },
  {
   "cell_type": "code",
   "execution_count": null,
   "id": "7724d86e",
   "metadata": {},
   "outputs": [],
   "source": [
    "# since we applied power_Transformer feature,scalar is already done as default,hencing checking VIF straight."
   ]
  },
  {
   "cell_type": "code",
   "execution_count": 189,
   "id": "21a21357",
   "metadata": {},
   "outputs": [],
   "source": [
    "from statsmodels.stats.outliers_influence import variance_inflation_factor"
   ]
  },
  {
   "cell_type": "code",
   "execution_count": 190,
   "id": "d73d8617",
   "metadata": {},
   "outputs": [
    {
     "data": {
      "text/html": [
       "<div>\n",
       "<style scoped>\n",
       "    .dataframe tbody tr th:only-of-type {\n",
       "        vertical-align: middle;\n",
       "    }\n",
       "\n",
       "    .dataframe tbody tr th {\n",
       "        vertical-align: top;\n",
       "    }\n",
       "\n",
       "    .dataframe thead th {\n",
       "        text-align: right;\n",
       "    }\n",
       "</style>\n",
       "<table border=\"1\" class=\"dataframe\">\n",
       "  <thead>\n",
       "    <tr style=\"text-align: right;\">\n",
       "      <th></th>\n",
       "      <th>VIF</th>\n",
       "      <th>columns</th>\n",
       "    </tr>\n",
       "  </thead>\n",
       "  <tbody>\n",
       "    <tr>\n",
       "      <th>0</th>\n",
       "      <td>1.123304</td>\n",
       "      <td>CoapplicantIncome</td>\n",
       "    </tr>\n",
       "    <tr>\n",
       "      <th>1</th>\n",
       "      <td>1.121184</td>\n",
       "      <td>Married</td>\n",
       "    </tr>\n",
       "    <tr>\n",
       "      <th>2</th>\n",
       "      <td>1.007654</td>\n",
       "      <td>Education</td>\n",
       "    </tr>\n",
       "    <tr>\n",
       "      <th>3</th>\n",
       "      <td>1.005723</td>\n",
       "      <td>Credit_History</td>\n",
       "    </tr>\n",
       "  </tbody>\n",
       "</table>\n",
       "</div>"
      ],
      "text/plain": [
       "        VIF            columns\n",
       "0  1.123304  CoapplicantIncome\n",
       "1  1.121184            Married\n",
       "2  1.007654          Education\n",
       "3  1.005723     Credit_History"
      ]
     },
     "execution_count": 190,
     "metadata": {},
     "output_type": "execute_result"
    }
   ],
   "source": [
    "vif=pd.DataFrame()\n",
    "vif['VIF']=[variance_inflation_factor(x_new,i) for i in range(x_new.shape[1])]\n",
    "vif['columns']=x_new.columns\n",
    "vif"
   ]
  },
  {
   "cell_type": "code",
   "execution_count": 191,
   "id": "875978f6",
   "metadata": {},
   "outputs": [],
   "source": [
    "# No Multicollinearity is present so we will build the Model further."
   ]
  },
  {
   "cell_type": "code",
   "execution_count": 192,
   "id": "cbac1190",
   "metadata": {},
   "outputs": [
    {
     "data": {
      "text/plain": [
       "1    418\n",
       "0    187\n",
       "Name: Loan_Status, dtype: int64"
      ]
     },
     "execution_count": 192,
     "metadata": {},
     "output_type": "execute_result"
    }
   ],
   "source": [
    "y.value_counts()"
   ]
  },
  {
   "cell_type": "code",
   "execution_count": 193,
   "id": "241478aa",
   "metadata": {},
   "outputs": [],
   "source": [
    "# since the Value count is not much differing,we will continue without sampling procedures."
   ]
  },
  {
   "cell_type": "markdown",
   "id": "c88a13d3",
   "metadata": {},
   "source": [
    "# Model Building"
   ]
  },
  {
   "cell_type": "code",
   "execution_count": 194,
   "id": "b45f85c8",
   "metadata": {},
   "outputs": [],
   "source": [
    "from sklearn.model_selection import train_test_split\n",
    "from sklearn.linear_model import LogisticRegression\n",
    "from sklearn.metrics import accuracy_score,classification_report,confusion_matrix"
   ]
  },
  {
   "cell_type": "code",
   "execution_count": 196,
   "id": "6c0d16b8",
   "metadata": {},
   "outputs": [
    {
     "name": "stdout",
     "output_type": "stream",
     "text": [
      "The Model Performs well\n",
      "At Random State 4\n",
      "The Training score is: 81.45695364238411\n",
      "The Test Score is : 80.92105263157895\n",
      "The Model Performs well\n",
      "At Random State 22\n",
      "The Training score is: 81.45695364238411\n",
      "The Test Score is : 80.92105263157895\n",
      "The Model Performs well\n",
      "At Random State 35\n",
      "The Training score is: 81.45695364238411\n",
      "The Test Score is : 80.92105263157895\n",
      "The Model Performs well\n",
      "At Random State 41\n",
      "The Training score is: 81.45695364238411\n",
      "The Test Score is : 80.92105263157895\n",
      "The Model Performs well\n",
      "At Random State 47\n",
      "The Training score is: 81.45695364238411\n",
      "The Test Score is : 80.92105263157895\n",
      "The Model Performs well\n",
      "At Random State 76\n",
      "The Training score is: 81.45695364238411\n",
      "The Test Score is : 80.92105263157895\n",
      "The Model Performs well\n",
      "At Random State 85\n",
      "The Training score is: 81.45695364238411\n",
      "The Test Score is : 80.92105263157895\n",
      "The Model Performs well\n",
      "At Random State 93\n",
      "The Training score is: 81.45695364238411\n",
      "The Test Score is : 80.92105263157895\n",
      "The Model Performs well\n",
      "At Random State 98\n",
      "The Training score is: 81.45695364238411\n",
      "The Test Score is : 80.92105263157895\n",
      "The Model Performs well\n",
      "At Random State 100\n",
      "The Training score is: 81.45695364238411\n",
      "The Test Score is : 80.92105263157895\n",
      "The Model Performs well\n",
      "At Random State 103\n",
      "The Training score is: 81.45695364238411\n",
      "The Test Score is : 80.92105263157895\n",
      "The Model Performs well\n",
      "At Random State 105\n",
      "The Training score is: 81.45695364238411\n",
      "The Test Score is : 80.92105263157895\n",
      "The Model Performs well\n",
      "At Random State 108\n",
      "The Training score is: 81.45695364238411\n",
      "The Test Score is : 80.92105263157895\n",
      "The Model Performs well\n",
      "At Random State 137\n",
      "The Training score is: 81.45695364238411\n",
      "The Test Score is : 80.92105263157895\n",
      "The Model Performs well\n",
      "At Random State 163\n",
      "The Training score is: 81.45695364238411\n",
      "The Test Score is : 80.92105263157895\n",
      "The Model Performs well\n",
      "At Random State 173\n",
      "The Training score is: 81.45695364238411\n",
      "The Test Score is : 80.92105263157895\n",
      "The Model Performs well\n",
      "At Random State 181\n",
      "The Training score is: 81.45695364238411\n",
      "The Test Score is : 80.92105263157895\n",
      "The Model Performs well\n",
      "At Random State 186\n",
      "The Training score is: 81.45695364238411\n",
      "The Test Score is : 80.92105263157895\n",
      "The Model Performs well\n",
      "At Random State 201\n",
      "The Training score is: 81.45695364238411\n",
      "The Test Score is : 80.92105263157895\n",
      "The Model Performs well\n",
      "At Random State 210\n",
      "The Training score is: 81.45695364238411\n",
      "The Test Score is : 80.92105263157895\n",
      "The Model Performs well\n",
      "At Random State 222\n",
      "The Training score is: 81.45695364238411\n",
      "The Test Score is : 80.92105263157895\n",
      "The Model Performs well\n",
      "At Random State 225\n",
      "The Training score is: 81.45695364238411\n",
      "The Test Score is : 80.92105263157895\n",
      "The Model Performs well\n",
      "At Random State 234\n",
      "The Training score is: 81.45695364238411\n",
      "The Test Score is : 80.92105263157895\n",
      "The Model Performs well\n",
      "At Random State 235\n",
      "The Training score is: 81.45695364238411\n",
      "The Test Score is : 80.92105263157895\n",
      "The Model Performs well\n",
      "At Random State 242\n",
      "The Training score is: 81.45695364238411\n",
      "The Test Score is : 80.92105263157895\n",
      "The Model Performs well\n",
      "At Random State 245\n",
      "The Training score is: 81.45695364238411\n",
      "The Test Score is : 80.92105263157895\n",
      "The Model Performs well\n",
      "At Random State 248\n",
      "The Training score is: 81.45695364238411\n",
      "The Test Score is : 80.92105263157895\n",
      "The Model Performs well\n",
      "At Random State 268\n",
      "The Training score is: 81.45695364238411\n",
      "The Test Score is : 80.92105263157895\n",
      "The Model Performs well\n",
      "At Random State 281\n",
      "The Training score is: 81.45695364238411\n",
      "The Test Score is : 80.92105263157895\n",
      "The Model Performs well\n",
      "At Random State 284\n",
      "The Training score is: 81.45695364238411\n",
      "The Test Score is : 80.92105263157895\n",
      "The Model Performs well\n",
      "At Random State 285\n",
      "The Training score is: 81.45695364238411\n",
      "The Test Score is : 80.92105263157895\n",
      "The Model Performs well\n",
      "At Random State 295\n",
      "The Training score is: 81.45695364238411\n",
      "The Test Score is : 80.92105263157895\n",
      "The Model Performs well\n",
      "At Random State 297\n",
      "The Training score is: 81.45695364238411\n",
      "The Test Score is : 80.92105263157895\n",
      "The Model Performs well\n",
      "At Random State 309\n",
      "The Training score is: 81.45695364238411\n",
      "The Test Score is : 80.92105263157895\n",
      "The Model Performs well\n",
      "At Random State 313\n",
      "The Training score is: 81.45695364238411\n",
      "The Test Score is : 80.92105263157895\n",
      "The Model Performs well\n",
      "At Random State 321\n",
      "The Training score is: 81.45695364238411\n",
      "The Test Score is : 80.92105263157895\n",
      "The Model Performs well\n",
      "At Random State 330\n",
      "The Training score is: 81.45695364238411\n",
      "The Test Score is : 80.92105263157895\n",
      "The Model Performs well\n",
      "At Random State 334\n",
      "The Training score is: 81.45695364238411\n",
      "The Test Score is : 80.92105263157895\n",
      "The Model Performs well\n",
      "At Random State 348\n",
      "The Training score is: 81.45695364238411\n",
      "The Test Score is : 80.92105263157895\n",
      "The Model Performs well\n",
      "At Random State 353\n",
      "The Training score is: 81.45695364238411\n",
      "The Test Score is : 80.92105263157895\n",
      "The Model Performs well\n",
      "At Random State 381\n",
      "The Training score is: 81.45695364238411\n",
      "The Test Score is : 80.92105263157895\n",
      "The Model Performs well\n",
      "At Random State 385\n",
      "The Training score is: 81.45695364238411\n",
      "The Test Score is : 80.92105263157895\n",
      "The Model Performs well\n",
      "At Random State 396\n",
      "The Training score is: 81.45695364238411\n",
      "The Test Score is : 80.92105263157895\n",
      "The Model Performs well\n",
      "At Random State 410\n",
      "The Training score is: 81.45695364238411\n",
      "The Test Score is : 80.92105263157895\n",
      "The Model Performs well\n",
      "At Random State 426\n",
      "The Training score is: 81.45695364238411\n",
      "The Test Score is : 80.92105263157895\n",
      "The Model Performs well\n",
      "At Random State 427\n",
      "The Training score is: 81.45695364238411\n",
      "The Test Score is : 80.92105263157895\n",
      "The Model Performs well\n",
      "At Random State 429\n",
      "The Training score is: 81.45695364238411\n",
      "The Test Score is : 80.92105263157895\n",
      "The Model Performs well\n",
      "At Random State 438\n",
      "The Training score is: 81.45695364238411\n",
      "The Test Score is : 80.92105263157895\n",
      "The Model Performs well\n",
      "At Random State 442\n",
      "The Training score is: 81.45695364238411\n",
      "The Test Score is : 80.92105263157895\n",
      "The Model Performs well\n",
      "At Random State 446\n",
      "The Training score is: 81.45695364238411\n",
      "The Test Score is : 80.92105263157895\n",
      "The Model Performs well\n",
      "At Random State 447\n",
      "The Training score is: 81.45695364238411\n",
      "The Test Score is : 80.92105263157895\n",
      "The Model Performs well\n",
      "At Random State 464\n",
      "The Training score is: 81.45695364238411\n",
      "The Test Score is : 80.92105263157895\n",
      "The Model Performs well\n",
      "At Random State 471\n",
      "The Training score is: 81.45695364238411\n",
      "The Test Score is : 80.92105263157895\n",
      "The Model Performs well\n",
      "At Random State 475\n",
      "The Training score is: 81.45695364238411\n",
      "The Test Score is : 80.92105263157895\n",
      "The Model Performs well\n",
      "At Random State 508\n",
      "The Training score is: 81.45695364238411\n",
      "The Test Score is : 80.92105263157895\n",
      "The Model Performs well\n",
      "At Random State 519\n",
      "The Training score is: 81.45695364238411\n",
      "The Test Score is : 80.92105263157895\n",
      "The Model Performs well\n",
      "At Random State 522\n",
      "The Training score is: 81.45695364238411\n",
      "The Test Score is : 80.92105263157895\n",
      "The Model Performs well\n",
      "At Random State 620\n",
      "The Training score is: 81.45695364238411\n",
      "The Test Score is : 80.92105263157895\n",
      "The Model Performs well\n",
      "At Random State 621\n",
      "The Training score is: 81.45695364238411\n",
      "The Test Score is : 80.92105263157895\n",
      "The Model Performs well\n",
      "At Random State 631\n",
      "The Training score is: 81.45695364238411\n",
      "The Test Score is : 80.92105263157895\n",
      "The Model Performs well\n",
      "At Random State 634\n",
      "The Training score is: 81.45695364238411\n",
      "The Test Score is : 80.92105263157895\n",
      "The Model Performs well\n",
      "At Random State 648\n",
      "The Training score is: 81.45695364238411\n",
      "The Test Score is : 80.92105263157895\n",
      "The Model Performs well\n",
      "At Random State 674\n",
      "The Training score is: 81.45695364238411\n",
      "The Test Score is : 80.92105263157895\n",
      "The Model Performs well\n",
      "At Random State 682\n",
      "The Training score is: 81.45695364238411\n",
      "The Test Score is : 80.92105263157895\n",
      "The Model Performs well\n",
      "At Random State 685\n",
      "The Training score is: 81.45695364238411\n",
      "The Test Score is : 80.92105263157895\n",
      "The Model Performs well\n",
      "At Random State 691\n",
      "The Training score is: 81.45695364238411\n",
      "The Test Score is : 80.92105263157895\n",
      "The Model Performs well\n",
      "At Random State 700\n",
      "The Training score is: 81.45695364238411\n",
      "The Test Score is : 80.92105263157895\n",
      "The Model Performs well\n",
      "At Random State 708\n",
      "The Training score is: 81.45695364238411\n",
      "The Test Score is : 80.92105263157895\n",
      "The Model Performs well\n",
      "At Random State 728\n",
      "The Training score is: 81.45695364238411\n",
      "The Test Score is : 80.92105263157895\n",
      "The Model Performs well\n",
      "At Random State 738\n",
      "The Training score is: 81.45695364238411\n",
      "The Test Score is : 80.92105263157895\n",
      "The Model Performs well\n",
      "At Random State 742\n",
      "The Training score is: 81.45695364238411\n",
      "The Test Score is : 80.92105263157895\n",
      "The Model Performs well\n",
      "At Random State 744\n",
      "The Training score is: 81.45695364238411\n",
      "The Test Score is : 80.92105263157895\n",
      "The Model Performs well\n",
      "At Random State 761\n",
      "The Training score is: 81.45695364238411\n",
      "The Test Score is : 80.92105263157895\n",
      "The Model Performs well\n",
      "At Random State 762\n",
      "The Training score is: 81.45695364238411\n",
      "The Test Score is : 80.92105263157895\n",
      "The Model Performs well\n",
      "At Random State 772\n",
      "The Training score is: 81.45695364238411\n",
      "The Test Score is : 80.92105263157895\n",
      "The Model Performs well\n",
      "At Random State 812\n",
      "The Training score is: 81.45695364238411\n",
      "The Test Score is : 80.92105263157895\n",
      "The Model Performs well\n",
      "At Random State 829\n",
      "The Training score is: 81.45695364238411\n",
      "The Test Score is : 80.92105263157895\n",
      "The Model Performs well\n",
      "At Random State 840\n",
      "The Training score is: 81.45695364238411\n",
      "The Test Score is : 80.92105263157895\n",
      "The Model Performs well\n",
      "At Random State 842\n",
      "The Training score is: 81.45695364238411\n",
      "The Test Score is : 80.92105263157895\n",
      "The Model Performs well\n",
      "At Random State 845\n",
      "The Training score is: 81.45695364238411\n",
      "The Test Score is : 80.92105263157895\n",
      "The Model Performs well\n",
      "At Random State 879\n",
      "The Training score is: 81.45695364238411\n",
      "The Test Score is : 80.92105263157895\n",
      "The Model Performs well\n",
      "At Random State 882\n",
      "The Training score is: 81.45695364238411\n",
      "The Test Score is : 80.92105263157895\n",
      "The Model Performs well\n",
      "At Random State 897\n",
      "The Training score is: 81.45695364238411\n",
      "The Test Score is : 80.92105263157895\n",
      "The Model Performs well\n",
      "At Random State 915\n",
      "The Training score is: 81.45695364238411\n",
      "The Test Score is : 80.92105263157895\n",
      "The Model Performs well\n",
      "At Random State 919\n",
      "The Training score is: 81.45695364238411\n",
      "The Test Score is : 80.92105263157895\n",
      "The Model Performs well\n",
      "At Random State 925\n",
      "The Training score is: 81.45695364238411\n",
      "The Test Score is : 80.92105263157895\n",
      "The Model Performs well\n",
      "At Random State 930\n",
      "The Training score is: 81.45695364238411\n",
      "The Test Score is : 80.92105263157895\n",
      "The Model Performs well\n",
      "At Random State 944\n",
      "The Training score is: 81.45695364238411\n",
      "The Test Score is : 80.92105263157895\n",
      "The Model Performs well\n",
      "At Random State 956\n",
      "The Training score is: 81.45695364238411\n",
      "The Test Score is : 80.92105263157895\n",
      "The Model Performs well\n",
      "At Random State 971\n",
      "The Training score is: 81.45695364238411\n",
      "The Test Score is : 80.92105263157895\n",
      "The Model Performs well\n",
      "At Random State 972\n",
      "The Training score is: 81.45695364238411\n",
      "The Test Score is : 80.92105263157895\n",
      "The Model Performs well\n",
      "At Random State 974\n",
      "The Training score is: 81.45695364238411\n",
      "The Test Score is : 80.92105263157895\n",
      "The Model Performs well\n",
      "At Random State 993\n",
      "The Training score is: 81.45695364238411\n",
      "The Test Score is : 80.92105263157895\n"
     ]
    }
   ],
   "source": [
    "lr=LogisticRegression()\n",
    "for i in range(0,1000):\n",
    "    x_train,x_test,y_train,y_test=train_test_split(x_new,y,test_size=0.25,random_state=i)\n",
    "    lr.fit(x_train,y_train)\n",
    "    pred_train=lr.predict(x_train)\n",
    "    pred_test=lr.predict(x_test)\n",
    "    if round(accuracy_score(y_train,pred_train)*100)==round(accuracy_score(y_test,pred_test)*100):\n",
    "        print(\"The Model Performs well\")\n",
    "        print(\"At Random State\",i)\n",
    "        print(\"The Training score is:\",accuracy_score(y_train,pred_train)*100)\n",
    "        print(\"The Test Score is :\",accuracy_score(y_test,pred_test)*100)"
   ]
  },
  {
   "cell_type": "code",
   "execution_count": 197,
   "id": "9d7d0585",
   "metadata": {},
   "outputs": [],
   "source": [
    "# Choosing Random_state=993"
   ]
  },
  {
   "cell_type": "code",
   "execution_count": 198,
   "id": "f3c2be65",
   "metadata": {},
   "outputs": [],
   "source": [
    "lr=LogisticRegression()\n",
    "x_train,x_test,y_train,y_test=train_test_split(x_new,y,test_size=0.25,random_state=993)"
   ]
  },
  {
   "cell_type": "code",
   "execution_count": 199,
   "id": "642991ed",
   "metadata": {},
   "outputs": [
    {
     "data": {
      "text/plain": [
       "LogisticRegression()"
      ]
     },
     "execution_count": 199,
     "metadata": {},
     "output_type": "execute_result"
    }
   ],
   "source": [
    "lr.fit(x_train,y_train)"
   ]
  },
  {
   "cell_type": "code",
   "execution_count": 200,
   "id": "abc9530d",
   "metadata": {},
   "outputs": [],
   "source": [
    "pred_train=lr.predict(x_train)\n",
    "pred_test=lr.predict(x_test)"
   ]
  },
  {
   "cell_type": "code",
   "execution_count": 201,
   "id": "200bddb5",
   "metadata": {},
   "outputs": [
    {
     "name": "stdout",
     "output_type": "stream",
     "text": [
      "80.92105263157895\n",
      "\n",
      "\n",
      "               precision    recall  f1-score   support\n",
      "\n",
      "           0       0.83      0.43      0.57        44\n",
      "           1       0.81      0.96      0.88       108\n",
      "\n",
      "    accuracy                           0.81       152\n",
      "   macro avg       0.82      0.70      0.72       152\n",
      "weighted avg       0.81      0.81      0.79       152\n",
      "\n",
      "\n",
      "\n",
      " [[ 19  25]\n",
      " [  4 104]]\n"
     ]
    }
   ],
   "source": [
    "print(accuracy_score(y_test,pred_test)*100)\n",
    "print(\"\\n\\n\",classification_report(y_test,pred_test))\n",
    "print(\"\\n\\n\",confusion_matrix(y_test,pred_test))"
   ]
  },
  {
   "cell_type": "markdown",
   "id": "77b58d81",
   "metadata": {},
   "source": [
    "# Cross_validation."
   ]
  },
  {
   "cell_type": "code",
   "execution_count": 202,
   "id": "2f94d1ca",
   "metadata": {},
   "outputs": [],
   "source": [
    "from sklearn.model_selection import cross_val_score"
   ]
  },
  {
   "cell_type": "code",
   "execution_count": 203,
   "id": "cde1754a",
   "metadata": {},
   "outputs": [
    {
     "name": "stdout",
     "output_type": "stream",
     "text": [
      "[0.79207921 0.83443709]\n",
      "At CV Fold,: 2\n",
      "Cross Valid Score is: 81.32581470067537\n",
      "Accuracy Score is : 80.92105263157895\n",
      "[0.8019802  0.7970297  0.84079602]\n",
      "At CV Fold,: 3\n",
      "Cross Valid Score is: 81.32686402968655\n",
      "Accuracy Score is : 80.92105263157895\n",
      "[0.80263158 0.78145695 0.83443709 0.83443709]\n",
      "At CV Fold,: 4\n",
      "Cross Valid Score is: 81.32406761937958\n",
      "Accuracy Score is : 80.92105263157895\n",
      "[0.81818182 0.7768595  0.78512397 0.85950413 0.82644628]\n",
      "At CV Fold,: 5\n",
      "Cross Valid Score is: 81.32231404958678\n",
      "Accuracy Score is : 80.92105263157895\n",
      "[0.83168317 0.77227723 0.77227723 0.82178218 0.84158416 0.84      ]\n",
      "At CV Fold,: 6\n",
      "Cross Valid Score is: 81.32673267326732\n",
      "Accuracy Score is : 80.92105263157895\n",
      "[0.83908046 0.77011494 0.77011494 0.79069767 0.86046512 0.81395349\n",
      " 0.84883721]\n",
      "At CV Fold,: 7\n",
      "Cross Valid Score is: 81.33234047428111\n",
      "Accuracy Score is : 80.92105263157895\n",
      "[0.82894737 0.78947368 0.76315789 0.78947368 0.78947368 0.86666667\n",
      " 0.8        0.88      ]\n",
      "At CV Fold,: 8\n",
      "Cross Valid Score is: 81.33991228070177\n",
      "Accuracy Score is : 80.92105263157895\n",
      "[0.80882353 0.82352941 0.7761194  0.7761194  0.7761194  0.8358209\n",
      " 0.86567164 0.7761194  0.88059701]\n",
      "At CV Fold,: 9\n",
      "Cross Valid Score is: 81.32133450395084\n",
      "Accuracy Score is : 80.92105263157895\n"
     ]
    }
   ],
   "source": [
    "for j in range(2,10):\n",
    "    lss_score=cross_val_score(lr,x_new,y,cv=j)\n",
    "    print(lss_score)\n",
    "    lsc_score=lss_score.mean()\n",
    "    print(\"At CV Fold,:\",j)\n",
    "    print(\"Cross Valid Score is:\",lsc_score*100)\n",
    "    print(\"Accuracy Score is :\",accuracy_score(y_test,pred_test)*100)"
   ]
  },
  {
   "cell_type": "code",
   "execution_count": 204,
   "id": "c6f24403",
   "metadata": {},
   "outputs": [],
   "source": [
    "# Observation:\n",
    "# Choosing Cross Fold,cv=4 where Cross Valid Score and Accuracy Score is having less difference."
   ]
  },
  {
   "cell_type": "code",
   "execution_count": 205,
   "id": "5d388fff",
   "metadata": {},
   "outputs": [
    {
     "name": "stdout",
     "output_type": "stream",
     "text": [
      "The Cross Valid Score is : 81.32133450395084\n",
      "The Training Score for lr is  81.45695364238411\n",
      "The Accuracy Score for lr is : 80.92105263157895\n",
      "The Difference between the Score is  0.4002818723718917\n"
     ]
    }
   ],
   "source": [
    "print(\"The Cross Valid Score is :\",lsc_score*100)\n",
    "print(\"The Training Score for lr is \",accuracy_score(y_train,pred_train)*100)\n",
    "print(\"The Accuracy Score for lr is :\",accuracy_score(y_test,pred_test)*100)\n",
    "print (\"The Difference between the Score is \",(lsc_score*100-accuracy_score(y_test,pred_test)*100))"
   ]
  },
  {
   "cell_type": "markdown",
   "id": "963fe44d",
   "metadata": {},
   "source": [
    "# # Training the Model with different algorithms."
   ]
  },
  {
   "cell_type": "code",
   "execution_count": 206,
   "id": "471bd1b7",
   "metadata": {},
   "outputs": [],
   "source": [
    "# Defining a Function for getting Model score:\n",
    "def model_selection(algorithm,x_train,x_test,y_train,y_test):\n",
    "    algorithm.fit(x_train,y_train)\n",
    "    pred_algo_train=algorithm.predict(x_train)\n",
    "    pred_algo_test=algorithm.predict(x_test)\n",
    "    cvs=cross_val_score(algorithm,x_new,y,cv=4)\n",
    "    cvc=cvs.mean()\n",
    "    print(\"The Model Name is \",algorithm)\n",
    "    print(\"The Accuracy score of the Model Training Data:\",accuracy_score(y_train,pred_algo_train)*100)\n",
    "    print(\"The Accuracy score of the Model Test Data:\",accuracy_score(y_test,pred_algo_test)*100)\n",
    "    print(\"The Cross Valid Score of the Algorithm:\",cvc*100)\n",
    "    print(\"The Classification report of the Model is :\",classification_report(y_test,pred_algo_test))\n",
    "    print(\"The Confusion Matrix is :\",confusion_matrix(y_test,pred_algo_test))\n",
    "    print(\"The Difference between Cross Val score and Accuracy score is: \",(cvc*100-accuracy_score(y_test,pred_algo_test)*100))\n",
    "    "
   ]
  },
  {
   "cell_type": "code",
   "execution_count": 207,
   "id": "f1cdbefb",
   "metadata": {},
   "outputs": [],
   "source": [
    "# Training the Model with Decision Tree Classifier\n",
    "from sklearn.tree import DecisionTreeClassifier"
   ]
  },
  {
   "cell_type": "code",
   "execution_count": 208,
   "id": "8fd84b4d",
   "metadata": {},
   "outputs": [],
   "source": [
    "dt=DecisionTreeClassifier()"
   ]
  },
  {
   "cell_type": "code",
   "execution_count": 209,
   "id": "831e48b6",
   "metadata": {},
   "outputs": [
    {
     "name": "stdout",
     "output_type": "stream",
     "text": [
      "The Model Name is  DecisionTreeClassifier()\n",
      "The Accuracy score of the Model Training Data: 88.52097130242825\n",
      "The Accuracy score of the Model Test Data: 77.63157894736842\n",
      "The Cross Valid Score of the Algorithm: 73.2169309864064\n",
      "The Classification report of the Model is :               precision    recall  f1-score   support\n",
      "\n",
      "           0       0.67      0.45      0.54        44\n",
      "           1       0.80      0.91      0.85       108\n",
      "\n",
      "    accuracy                           0.78       152\n",
      "   macro avg       0.73      0.68      0.70       152\n",
      "weighted avg       0.76      0.78      0.76       152\n",
      "\n",
      "The Confusion Matrix is : [[20 24]\n",
      " [10 98]]\n",
      "The Difference between Cross Val score and Accuracy score is:  -4.414647960962029\n"
     ]
    }
   ],
   "source": [
    "model_selection(dt,x_train,x_test,y_train,y_test)"
   ]
  },
  {
   "cell_type": "markdown",
   "id": "7cae231f",
   "metadata": {},
   "source": [
    "# Using gridsearch CV"
   ]
  },
  {
   "cell_type": "code",
   "execution_count": 222,
   "id": "194fb36b",
   "metadata": {},
   "outputs": [],
   "source": [
    "from sklearn.model_selection import GridSearchCV"
   ]
  },
  {
   "cell_type": "code",
   "execution_count": 223,
   "id": "b1978123",
   "metadata": {},
   "outputs": [],
   "source": [
    "parameters={'criterion':[\"gini\", \"entropy\"],'max_depth':range(2,5),'min_samples_split':[2,3,4]}"
   ]
  },
  {
   "cell_type": "code",
   "execution_count": 225,
   "id": "92f2b062",
   "metadata": {},
   "outputs": [
    {
     "name": "stdout",
     "output_type": "stream",
     "text": [
      "{'criterion': 'gini', 'max_depth': 2, 'min_samples_split': 2}\n"
     ]
    }
   ],
   "source": [
    "grd_dt=GridSearchCV(dt,param_grid=parameters)\n",
    "grd_dt.fit(x_train,y_train)\n",
    "print(grd_dt.best_params_)"
   ]
  },
  {
   "cell_type": "code",
   "execution_count": 226,
   "id": "04d2b978",
   "metadata": {},
   "outputs": [],
   "source": [
    "dt_hyper=DecisionTreeClassifier(criterion= 'gini', max_depth= 2, min_samples_split= 2)"
   ]
  },
  {
   "cell_type": "code",
   "execution_count": 227,
   "id": "588e0844",
   "metadata": {},
   "outputs": [
    {
     "name": "stdout",
     "output_type": "stream",
     "text": [
      "The Model Name is  DecisionTreeClassifier(max_depth=2)\n",
      "The Accuracy score of the Model Training Data: 81.67770419426049\n",
      "The Accuracy score of the Model Test Data: 80.92105263157895\n",
      "The Cross Valid Score of the Algorithm: 81.1585047054723\n",
      "The Classification report of the Model is :               precision    recall  f1-score   support\n",
      "\n",
      "           0       0.83      0.43      0.57        44\n",
      "           1       0.81      0.96      0.88       108\n",
      "\n",
      "    accuracy                           0.81       152\n",
      "   macro avg       0.82      0.70      0.72       152\n",
      "weighted avg       0.81      0.81      0.79       152\n",
      "\n",
      "The Confusion Matrix is : [[ 19  25]\n",
      " [  4 104]]\n",
      "The Difference between Cross Val score and Accuracy score is:  0.2374520738933512\n"
     ]
    }
   ],
   "source": [
    "model_selection(dt_hyper,x_train,x_test,y_train,y_test)"
   ]
  },
  {
   "cell_type": "code",
   "execution_count": null,
   "id": "3aef255c",
   "metadata": {},
   "outputs": [],
   "source": [
    "# after hyperTuning,the Model test score is improved a Lot."
   ]
  },
  {
   "cell_type": "code",
   "execution_count": 212,
   "id": "579c9694",
   "metadata": {},
   "outputs": [],
   "source": [
    "# Training the Model with K Neighbor Classifier.\n",
    "from sklearn.neighbors import KNeighborsClassifier\n",
    "knc=KNeighborsClassifier()"
   ]
  },
  {
   "cell_type": "code",
   "execution_count": 213,
   "id": "f693a41e",
   "metadata": {},
   "outputs": [
    {
     "name": "stdout",
     "output_type": "stream",
     "text": [
      "The Model Name is  KNeighborsClassifier()\n",
      "The Accuracy score of the Model Training Data: 81.45695364238411\n",
      "The Accuracy score of the Model Test Data: 76.97368421052632\n",
      "The Cross Valid Score of the Algorithm: 74.22337922621122\n",
      "The Classification report of the Model is :               precision    recall  f1-score   support\n",
      "\n",
      "           0       0.65      0.45      0.53        44\n",
      "           1       0.80      0.90      0.85       108\n",
      "\n",
      "    accuracy                           0.77       152\n",
      "   macro avg       0.72      0.68      0.69       152\n",
      "weighted avg       0.76      0.77      0.76       152\n",
      "\n",
      "The Confusion Matrix is : [[20 24]\n",
      " [11 97]]\n",
      "The Difference between Cross Val score and Accuracy score is:  -2.7503049843150933\n"
     ]
    }
   ],
   "source": [
    "model_selection(knc,x_train,x_test,y_train,y_test)"
   ]
  },
  {
   "cell_type": "markdown",
   "id": "1a52ce1b",
   "metadata": {},
   "source": [
    "# using GridSearch"
   ]
  },
  {
   "cell_type": "code",
   "execution_count": 228,
   "id": "e570ae0c",
   "metadata": {},
   "outputs": [],
   "source": [
    "parameters={'n_neighbors':range(2,5),'weights':['uniform','distance']}"
   ]
  },
  {
   "cell_type": "code",
   "execution_count": 229,
   "id": "83825ffe",
   "metadata": {},
   "outputs": [],
   "source": [
    "grd_knc=GridSearchCV(knc,param_grid=parameters)"
   ]
  },
  {
   "cell_type": "code",
   "execution_count": 230,
   "id": "09f7c5aa",
   "metadata": {},
   "outputs": [
    {
     "name": "stdout",
     "output_type": "stream",
     "text": [
      "{'n_neighbors': 3, 'weights': 'uniform'}\n"
     ]
    }
   ],
   "source": [
    "\n",
    "grd_knc.fit(x_train,y_train)\n",
    "print(grd_knc.best_params_)"
   ]
  },
  {
   "cell_type": "code",
   "execution_count": 231,
   "id": "d74da099",
   "metadata": {},
   "outputs": [],
   "source": [
    "knc_hyper=KNeighborsClassifier(n_neighbors= 3, weights= 'uniform')"
   ]
  },
  {
   "cell_type": "code",
   "execution_count": 232,
   "id": "f6726e12",
   "metadata": {},
   "outputs": [
    {
     "name": "stdout",
     "output_type": "stream",
     "text": [
      "The Model Name is  KNeighborsClassifier(n_neighbors=3)\n",
      "The Accuracy score of the Model Training Data: 81.67770419426049\n",
      "The Accuracy score of the Model Test Data: 76.97368421052632\n",
      "The Cross Valid Score of the Algorithm: 74.88454165214361\n",
      "The Classification report of the Model is :               precision    recall  f1-score   support\n",
      "\n",
      "           0       0.65      0.45      0.53        44\n",
      "           1       0.80      0.90      0.85       108\n",
      "\n",
      "    accuracy                           0.77       152\n",
      "   macro avg       0.72      0.68      0.69       152\n",
      "weighted avg       0.76      0.77      0.76       152\n",
      "\n",
      "The Confusion Matrix is : [[20 24]\n",
      " [11 97]]\n",
      "The Difference between Cross Val score and Accuracy score is:  -2.0891425583827044\n"
     ]
    }
   ],
   "source": [
    "model_selection(knc_hyper,x_train,x_test,y_train,y_test)"
   ]
  },
  {
   "cell_type": "code",
   "execution_count": 233,
   "id": "f7a7fc18",
   "metadata": {},
   "outputs": [],
   "source": [
    "# after HyperTuning ,No change in the test score."
   ]
  },
  {
   "cell_type": "code",
   "execution_count": 214,
   "id": "e27cafbd",
   "metadata": {},
   "outputs": [],
   "source": [
    "# Training the Model with SVM Classifier"
   ]
  },
  {
   "cell_type": "code",
   "execution_count": 215,
   "id": "7744f2fd",
   "metadata": {},
   "outputs": [],
   "source": [
    "from sklearn.svm import  SVC"
   ]
  },
  {
   "cell_type": "code",
   "execution_count": 216,
   "id": "2fb19ebd",
   "metadata": {},
   "outputs": [],
   "source": [
    "svc=SVC()"
   ]
  },
  {
   "cell_type": "code",
   "execution_count": 217,
   "id": "71ba8df5",
   "metadata": {},
   "outputs": [
    {
     "name": "stdout",
     "output_type": "stream",
     "text": [
      "The Model Name is  SVC()\n",
      "The Accuracy score of the Model Training Data: 81.45695364238411\n",
      "The Accuracy score of the Model Test Data: 80.92105263157895\n",
      "The Cross Valid Score of the Algorithm: 81.32406761937958\n",
      "The Classification report of the Model is :               precision    recall  f1-score   support\n",
      "\n",
      "           0       0.83      0.43      0.57        44\n",
      "           1       0.81      0.96      0.88       108\n",
      "\n",
      "    accuracy                           0.81       152\n",
      "   macro avg       0.82      0.70      0.72       152\n",
      "weighted avg       0.81      0.81      0.79       152\n",
      "\n",
      "The Confusion Matrix is : [[ 19  25]\n",
      " [  4 104]]\n",
      "The Difference between Cross Val score and Accuracy score is:  0.4030149878006313\n"
     ]
    }
   ],
   "source": [
    "model_selection(svc,x_train,x_test,y_train,y_test)"
   ]
  },
  {
   "cell_type": "markdown",
   "id": "b13dfaf5",
   "metadata": {},
   "source": [
    "# Using Grid Search CV"
   ]
  },
  {
   "cell_type": "code",
   "execution_count": 237,
   "id": "b30bf519",
   "metadata": {},
   "outputs": [],
   "source": [
    "parameters={'kernel':['linear','rbf','poly'],'gamma':['auto','scale']}"
   ]
  },
  {
   "cell_type": "code",
   "execution_count": 238,
   "id": "6b5f527d",
   "metadata": {},
   "outputs": [
    {
     "name": "stdout",
     "output_type": "stream",
     "text": [
      "{'gamma': 'auto', 'kernel': 'linear'}\n"
     ]
    }
   ],
   "source": [
    "grd_svc=GridSearchCV(svc,param_grid=parameters)\n",
    "grd_svc.fit(x_train,y_train)\n",
    "print(grd_svc.best_params_)"
   ]
  },
  {
   "cell_type": "code",
   "execution_count": 242,
   "id": "8be82465",
   "metadata": {},
   "outputs": [],
   "source": [
    "svc_hyper=SVC(gamma= 'auto', kernel= 'linear')"
   ]
  },
  {
   "cell_type": "code",
   "execution_count": 243,
   "id": "79ff9fd2",
   "metadata": {},
   "outputs": [
    {
     "name": "stdout",
     "output_type": "stream",
     "text": [
      "The Model Name is  SVC(gamma='auto', kernel='linear')\n",
      "The Accuracy score of the Model Training Data: 81.45695364238411\n",
      "The Accuracy score of the Model Test Data: 80.92105263157895\n",
      "The Cross Valid Score of the Algorithm: 81.32406761937958\n",
      "The Classification report of the Model is :               precision    recall  f1-score   support\n",
      "\n",
      "           0       0.83      0.43      0.57        44\n",
      "           1       0.81      0.96      0.88       108\n",
      "\n",
      "    accuracy                           0.81       152\n",
      "   macro avg       0.82      0.70      0.72       152\n",
      "weighted avg       0.81      0.81      0.79       152\n",
      "\n",
      "The Confusion Matrix is : [[ 19  25]\n",
      " [  4 104]]\n",
      "The Difference between Cross Val score and Accuracy score is:  0.4030149878006313\n"
     ]
    }
   ],
   "source": [
    "model_selection(svc_hyper,x_train,x_test,y_train,y_test)"
   ]
  },
  {
   "cell_type": "code",
   "execution_count": null,
   "id": "bca9a9b3",
   "metadata": {},
   "outputs": [],
   "source": [
    "# No difference in HyperTuning for svc"
   ]
  },
  {
   "cell_type": "code",
   "execution_count": 219,
   "id": "8b46b3ac",
   "metadata": {},
   "outputs": [],
   "source": [
    "#Training the Model with Ensemble Techniques.\n",
    "from sklearn.ensemble import RandomForestClassifier\n",
    "from sklearn.ensemble import GradientBoostingClassifier\n",
    "from sklearn.ensemble import AdaBoostClassifier\n",
    "from xgboost import XGBClassifier"
   ]
  },
  {
   "cell_type": "code",
   "execution_count": 220,
   "id": "3ebffc18",
   "metadata": {},
   "outputs": [],
   "source": [
    "rf=RandomForestClassifier()\n",
    "gbc=GradientBoostingClassifier()\n",
    "ada=AdaBoostClassifier()\n",
    "xgb=XGBClassifier()"
   ]
  },
  {
   "cell_type": "code",
   "execution_count": 221,
   "id": "0db0942a",
   "metadata": {},
   "outputs": [
    {
     "name": "stdout",
     "output_type": "stream",
     "text": [
      "The Model Name is  RandomForestClassifier()\n",
      "The Accuracy score of the Model Training Data: 88.52097130242825\n",
      "The Accuracy score of the Model Test Data: 79.60526315789474\n",
      "The Cross Valid Score of the Algorithm: 73.87918264203554\n",
      "The Classification report of the Model is :               precision    recall  f1-score   support\n",
      "\n",
      "           0       0.74      0.45      0.56        44\n",
      "           1       0.81      0.94      0.87       108\n",
      "\n",
      "    accuracy                           0.80       152\n",
      "   macro avg       0.77      0.69      0.72       152\n",
      "weighted avg       0.79      0.80      0.78       152\n",
      "\n",
      "The Confusion Matrix is : [[ 20  24]\n",
      " [  7 101]]\n",
      "The Difference between Cross Val score and Accuracy score is:  -5.726080515859195\n",
      "The Model Name is  GradientBoostingClassifier()\n",
      "The Accuracy score of the Model Training Data: 85.43046357615894\n",
      "The Accuracy score of the Model Test Data: 78.94736842105263\n",
      "The Cross Valid Score of the Algorithm: 79.0061868246776\n",
      "The Classification report of the Model is :               precision    recall  f1-score   support\n",
      "\n",
      "           0       0.73      0.43      0.54        44\n",
      "           1       0.80      0.94      0.86       108\n",
      "\n",
      "    accuracy                           0.79       152\n",
      "   macro avg       0.77      0.68      0.70       152\n",
      "weighted avg       0.78      0.79      0.77       152\n",
      "\n",
      "The Confusion Matrix is : [[ 19  25]\n",
      " [  7 101]]\n",
      "The Difference between Cross Val score and Accuracy score is:  0.058818403624968596\n",
      "The Model Name is  AdaBoostClassifier()\n",
      "The Accuracy score of the Model Training Data: 82.33995584988962\n",
      "The Accuracy score of the Model Test Data: 79.60526315789474\n",
      "The Cross Valid Score of the Algorithm: 80.16512722202857\n",
      "The Classification report of the Model is :               precision    recall  f1-score   support\n",
      "\n",
      "           0       0.76      0.43      0.55        44\n",
      "           1       0.80      0.94      0.87       108\n",
      "\n",
      "    accuracy                           0.80       152\n",
      "   macro avg       0.78      0.69      0.71       152\n",
      "weighted avg       0.79      0.80      0.78       152\n",
      "\n",
      "The Confusion Matrix is : [[ 19  25]\n",
      " [  6 102]]\n",
      "The Difference between Cross Val score and Accuracy score is:  0.5598640641338335\n",
      "The Model Name is  XGBClassifier(base_score=None, booster=None, callbacks=None,\n",
      "              colsample_bylevel=None, colsample_bynode=None,\n",
      "              colsample_bytree=None, early_stopping_rounds=None,\n",
      "              enable_categorical=False, eval_metric=None, feature_types=None,\n",
      "              gamma=None, gpu_id=None, grow_policy=None, importance_type=None,\n",
      "              interaction_constraints=None, learning_rate=None, max_bin=None,\n",
      "              max_cat_threshold=None, max_cat_to_onehot=None,\n",
      "              max_delta_step=None, max_depth=None, max_leaves=None,\n",
      "              min_child_weight=None, missing=nan, monotone_constraints=None,\n",
      "              n_estimators=100, n_jobs=None, num_parallel_tree=None,\n",
      "              predictor=None, random_state=None, ...)\n",
      "The Accuracy score of the Model Training Data: 86.75496688741721\n",
      "The Accuracy score of the Model Test Data: 80.26315789473685\n",
      "The Cross Valid Score of the Algorithm: 78.01172011153712\n",
      "The Classification report of the Model is :               precision    recall  f1-score   support\n",
      "\n",
      "           0       0.77      0.45      0.57        44\n",
      "           1       0.81      0.94      0.87       108\n",
      "\n",
      "    accuracy                           0.80       152\n",
      "   macro avg       0.79      0.70      0.72       152\n",
      "weighted avg       0.80      0.80      0.78       152\n",
      "\n",
      "The Confusion Matrix is : [[ 20  24]\n",
      " [  6 102]]\n",
      "The Difference between Cross Val score and Accuracy score is:  -2.2514377831997336\n"
     ]
    }
   ],
   "source": [
    "model_selection(rf,x_train,x_test,y_train,y_test)\n",
    "\n",
    "model_selection(gbc,x_train,x_test,y_train,y_test)\n",
    "\n",
    "model_selection(ada,x_train,x_test,y_train,y_test)\n",
    "\n",
    "model_selection(xgb,x_train,x_test,y_train,y_test)"
   ]
  },
  {
   "cell_type": "code",
   "execution_count": 244,
   "id": "dbda1735",
   "metadata": {},
   "outputs": [],
   "source": [
    "# out of all Ensemble Technique,\n",
    "#GradientBoosting Classifier is giving less difference between the cross _val_score and accuracy_score.\n",
    "# Choosing the Same for Hyper Tuning."
   ]
  },
  {
   "cell_type": "markdown",
   "id": "9d100ec6",
   "metadata": {},
   "source": [
    "# Using GridSearchCV for GradientBoosting Classifier"
   ]
  },
  {
   "cell_type": "code",
   "execution_count": 245,
   "id": "66b7c2eb",
   "metadata": {},
   "outputs": [],
   "source": [
    "params={'max_depth':range(4,10),'min_samples_split':range(2,20,2),'learning_rate':np.arange(0.1,0.3)}"
   ]
  },
  {
   "cell_type": "code",
   "execution_count": 246,
   "id": "bc9cb436",
   "metadata": {},
   "outputs": [
    {
     "name": "stdout",
     "output_type": "stream",
     "text": [
      "{'learning_rate': 0.1, 'max_depth': 4, 'min_samples_split': 18}\n"
     ]
    }
   ],
   "source": [
    "grd_gbt=GridSearchCV(gbc,param_grid=params)\n",
    "grd_gbt.fit(x_train,y_train)\n",
    "print(grd_gbt.best_params_)"
   ]
  },
  {
   "cell_type": "code",
   "execution_count": 247,
   "id": "b99c91fe",
   "metadata": {},
   "outputs": [],
   "source": [
    "gbt_hyper=GradientBoostingClassifier(learning_rate= 0.1, max_depth= 4, min_samples_split= 18)"
   ]
  },
  {
   "cell_type": "code",
   "execution_count": 248,
   "id": "d8317e3c",
   "metadata": {},
   "outputs": [
    {
     "name": "stdout",
     "output_type": "stream",
     "text": [
      "The Model Name is  GradientBoostingClassifier(max_depth=4, min_samples_split=18)\n",
      "The Accuracy score of the Model Training Data: 86.75496688741721\n",
      "The Accuracy score of the Model Test Data: 77.63157894736842\n",
      "The Cross Valid Score of the Algorithm: 78.50840885325897\n",
      "The Classification report of the Model is :               precision    recall  f1-score   support\n",
      "\n",
      "           0       0.67      0.45      0.54        44\n",
      "           1       0.80      0.91      0.85       108\n",
      "\n",
      "    accuracy                           0.78       152\n",
      "   macro avg       0.73      0.68      0.70       152\n",
      "weighted avg       0.76      0.78      0.76       152\n",
      "\n",
      "The Confusion Matrix is : [[20 24]\n",
      " [10 98]]\n",
      "The Difference between Cross Val score and Accuracy score is:  0.8768299058905455\n"
     ]
    }
   ],
   "source": [
    "model_selection(gbt_hyper,x_train,x_test,y_train,y_test)"
   ]
  },
  {
   "cell_type": "code",
   "execution_count": 249,
   "id": "26e7fbef",
   "metadata": {},
   "outputs": [],
   "source": [
    "# Before hyper Tuning the default model gave the best score"
   ]
  },
  {
   "cell_type": "code",
   "execution_count": 250,
   "id": "2630b6af",
   "metadata": {},
   "outputs": [],
   "source": [
    "# choosing dt_hyper model as the final best model,and saving the same."
   ]
  },
  {
   "cell_type": "markdown",
   "id": "416e0ac5",
   "metadata": {},
   "source": [
    "# AUC_ROC_CURVE."
   ]
  },
  {
   "cell_type": "code",
   "execution_count": 251,
   "id": "ee7e4c0d",
   "metadata": {},
   "outputs": [],
   "source": [
    "from sklearn.metrics import roc_curve,roc_auc_score,auc\n",
    "from sklearn.metrics import plot_roc_curve"
   ]
  },
  {
   "cell_type": "code",
   "execution_count": 254,
   "id": "c5863161",
   "metadata": {},
   "outputs": [
    {
     "data": {
      "image/png": "[encoded data removed]",
      "text/plain": [
       "<Figure size 432x288 with 1 Axes>"
      ]
     },
     "metadata": {
      "needs_background": "light"
     },
     "output_type": "display_data"
    }
   ],
   "source": [
    "disp=plot_roc_curve(svc,x_test,y_test)\n",
    "plot_roc_curve(lr,x_test,y_test,ax=disp.ax_)\n",
    "plot_roc_curve(dt,x_test,y_test,ax=disp.ax_)\n",
    "plot_roc_curve(dt_hyper,x_test,y_test,ax=disp.ax_)\n",
    "plot_roc_curve(knc,x_test,y_test,ax=disp.ax_)\n",
    "plot_roc_curve(knc_hyper,x_test,y_test,ax=disp.ax_)\n",
    "plot_roc_curve(rf,x_test,y_test,ax=disp.ax_)\n",
    "plot_roc_curve(gbc,x_test,y_test,ax=disp.ax_)\n",
    "plot_roc_curve(gbt_hyper,x_test,y_test,ax=disp.ax_)\n",
    "plot_roc_curve(ada,x_test,y_test,ax=disp.ax_)\n",
    "plot_roc_curve(xgb,x_test,y_test,ax=disp.ax_)\n",
    "plt.legend(prop={'size':8},loc='lower right')\n",
    "plt.show()"
   ]
  },
  {
   "cell_type": "markdown",
   "id": "4b68c133",
   "metadata": {},
   "source": [
    "# Model saving."
   ]
  },
  {
   "cell_type": "code",
   "execution_count": 255,
   "id": "692097dc",
   "metadata": {},
   "outputs": [],
   "source": [
    "import pickle"
   ]
  },
  {
   "cell_type": "code",
   "execution_count": 256,
   "id": "b6abfcfb",
   "metadata": {},
   "outputs": [],
   "source": [
    "filename='Loan_status.pkl'\n",
    "pickle.dump(dt_hyper,open(filename,'wb'))"
   ]
  },
  {
   "cell_type": "code",
   "execution_count": 257,
   "id": "ba158217",
   "metadata": {},
   "outputs": [
    {
     "data": {
      "text/plain": [
       "80.92105263157895"
      ]
     },
     "execution_count": 257,
     "metadata": {},
     "output_type": "execute_result"
    }
   ],
   "source": [
    "loaded_model=pickle.load(open('Loan_status.pkl','rb'))\n",
    "loaded_model.score(x_test,y_test)*100"
   ]
  },
  {
   "cell_type": "markdown",
   "id": "352ec131",
   "metadata": {},
   "source": [
    "# Conclusion"
   ]
  },
  {
   "cell_type": "code",
   "execution_count": 258,
   "id": "61f6e45b",
   "metadata": {},
   "outputs": [
    {
     "data": {
      "text/html": [
       "<div>\n",
       "<style scoped>\n",
       "    .dataframe tbody tr th:only-of-type {\n",
       "        vertical-align: middle;\n",
       "    }\n",
       "\n",
       "    .dataframe tbody tr th {\n",
       "        vertical-align: top;\n",
       "    }\n",
       "\n",
       "    .dataframe thead th {\n",
       "        text-align: right;\n",
       "    }\n",
       "</style>\n",
       "<table border=\"1\" class=\"dataframe\">\n",
       "  <thead>\n",
       "    <tr style=\"text-align: right;\">\n",
       "      <th></th>\n",
       "      <th>Actual</th>\n",
       "      <th>Predicted</th>\n",
       "    </tr>\n",
       "  </thead>\n",
       "  <tbody>\n",
       "    <tr>\n",
       "      <th>0</th>\n",
       "      <td>1</td>\n",
       "      <td>1</td>\n",
       "    </tr>\n",
       "    <tr>\n",
       "      <th>1</th>\n",
       "      <td>1</td>\n",
       "      <td>1</td>\n",
       "    </tr>\n",
       "    <tr>\n",
       "      <th>2</th>\n",
       "      <td>1</td>\n",
       "      <td>1</td>\n",
       "    </tr>\n",
       "    <tr>\n",
       "      <th>3</th>\n",
       "      <td>0</td>\n",
       "      <td>1</td>\n",
       "    </tr>\n",
       "    <tr>\n",
       "      <th>4</th>\n",
       "      <td>1</td>\n",
       "      <td>1</td>\n",
       "    </tr>\n",
       "    <tr>\n",
       "      <th>...</th>\n",
       "      <td>...</td>\n",
       "      <td>...</td>\n",
       "    </tr>\n",
       "    <tr>\n",
       "      <th>147</th>\n",
       "      <td>1</td>\n",
       "      <td>1</td>\n",
       "    </tr>\n",
       "    <tr>\n",
       "      <th>148</th>\n",
       "      <td>1</td>\n",
       "      <td>1</td>\n",
       "    </tr>\n",
       "    <tr>\n",
       "      <th>149</th>\n",
       "      <td>1</td>\n",
       "      <td>1</td>\n",
       "    </tr>\n",
       "    <tr>\n",
       "      <th>150</th>\n",
       "      <td>0</td>\n",
       "      <td>0</td>\n",
       "    </tr>\n",
       "    <tr>\n",
       "      <th>151</th>\n",
       "      <td>1</td>\n",
       "      <td>1</td>\n",
       "    </tr>\n",
       "  </tbody>\n",
       "</table>\n",
       "<p>152 rows × 2 columns</p>\n",
       "</div>"
      ],
      "text/plain": [
       "     Actual  Predicted\n",
       "0         1          1\n",
       "1         1          1\n",
       "2         1          1\n",
       "3         0          1\n",
       "4         1          1\n",
       "..      ...        ...\n",
       "147       1          1\n",
       "148       1          1\n",
       "149       1          1\n",
       "150       0          0\n",
       "151       1          1\n",
       "\n",
       "[152 rows x 2 columns]"
      ]
     },
     "execution_count": 258,
     "metadata": {},
     "output_type": "execute_result"
    }
   ],
   "source": [
    "a=np.array(y_test)\n",
    "predict=loaded_model.predict(x_test)\n",
    "b=np.array(predict)\n",
    "conclusion=pd.DataFrame({'Actual':a,'Predicted':b})\n",
    "conclusion"
   ]
  },
  {
   "cell_type": "code",
   "execution_count": null,
   "id": "4f1aaba2",
   "metadata": {},
   "outputs": [],
   "source": []
  }
 ],
 "metadata": {
  "kernelspec": {
   "display_name": "Python 3 (ipykernel)",
   "language": "python",
   "name": "python3"
  },
  "language_info": {
   "codemirror_mode": {
    "name": "ipython",
    "version": 3
   },
   "file_extension": ".py",
   "mimetype": "text/x-python",
   "name": "python",
   "nbconvert_exporter": "python",
   "pygments_lexer": "ipython3",
   "version": "3.9.12"
  }
 },
 "nbformat": 4,
 "nbformat_minor": 5
}
